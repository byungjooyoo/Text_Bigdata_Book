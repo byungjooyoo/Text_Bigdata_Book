{
  "nbformat": 4,
  "nbformat_minor": 0,
  "metadata": {
    "colab": {
      "provenance": [],
      "toc_visible": true
    },
    "kernelspec": {
      "display_name": "Python 3",
      "language": "python",
      "name": "python3"
    },
    "language_info": {
      "codemirror_mode": {
        "name": "ipython",
        "version": 3
      },
      "file_extension": ".py",
      "mimetype": "text/x-python",
      "name": "python",
      "nbconvert_exporter": "python",
      "pygments_lexer": "ipython3",
      "version": "3.6.9"
    },
    "widgets": {
      "application/vnd.jupyter.widget-state+json": {
        "c0e58135b29b4aa1ad45a6e68d2d6aa3": {
          "model_module": "@jupyter-widgets/controls",
          "model_name": "HBoxModel",
          "model_module_version": "1.5.0",
          "state": {
            "_dom_classes": [],
            "_model_module": "@jupyter-widgets/controls",
            "_model_module_version": "1.5.0",
            "_model_name": "HBoxModel",
            "_view_count": null,
            "_view_module": "@jupyter-widgets/controls",
            "_view_module_version": "1.5.0",
            "_view_name": "HBoxView",
            "box_style": "",
            "children": [
              "IPY_MODEL_7993e78855e54934963f596ed7d01252",
              "IPY_MODEL_345c7c94707b458b8da72aef07e67153",
              "IPY_MODEL_b4675601705047bab8cc3b7d761c0a22"
            ],
            "layout": "IPY_MODEL_f6e2f6120db04364b34396c62e2ba0de"
          }
        },
        "7993e78855e54934963f596ed7d01252": {
          "model_module": "@jupyter-widgets/controls",
          "model_name": "HTMLModel",
          "model_module_version": "1.5.0",
          "state": {
            "_dom_classes": [],
            "_model_module": "@jupyter-widgets/controls",
            "_model_module_version": "1.5.0",
            "_model_name": "HTMLModel",
            "_view_count": null,
            "_view_module": "@jupyter-widgets/controls",
            "_view_module_version": "1.5.0",
            "_view_name": "HTMLView",
            "description": "",
            "description_tooltip": null,
            "layout": "IPY_MODEL_4e76e76a96fb4b7989a53682cbe0beab",
            "placeholder": "​",
            "style": "IPY_MODEL_4b2056de8222483eae1f50289dd92074",
            "value": "100%"
          }
        },
        "345c7c94707b458b8da72aef07e67153": {
          "model_module": "@jupyter-widgets/controls",
          "model_name": "FloatProgressModel",
          "model_module_version": "1.5.0",
          "state": {
            "_dom_classes": [],
            "_model_module": "@jupyter-widgets/controls",
            "_model_module_version": "1.5.0",
            "_model_name": "FloatProgressModel",
            "_view_count": null,
            "_view_module": "@jupyter-widgets/controls",
            "_view_module_version": "1.5.0",
            "_view_name": "ProgressView",
            "bar_style": "success",
            "description": "",
            "description_tooltip": null,
            "layout": "IPY_MODEL_b60f472424f04b689955453e9c3042f0",
            "max": 6,
            "min": 0,
            "orientation": "horizontal",
            "style": "IPY_MODEL_5d8a0d44d8014324af45ad1d3ec5f286",
            "value": 6
          }
        },
        "b4675601705047bab8cc3b7d761c0a22": {
          "model_module": "@jupyter-widgets/controls",
          "model_name": "HTMLModel",
          "model_module_version": "1.5.0",
          "state": {
            "_dom_classes": [],
            "_model_module": "@jupyter-widgets/controls",
            "_model_module_version": "1.5.0",
            "_model_name": "HTMLModel",
            "_view_count": null,
            "_view_module": "@jupyter-widgets/controls",
            "_view_module_version": "1.5.0",
            "_view_name": "HTMLView",
            "description": "",
            "description_tooltip": null,
            "layout": "IPY_MODEL_d5efe5cc33434c2db3fe0648a2d61d8a",
            "placeholder": "​",
            "style": "IPY_MODEL_fe6b9af3d70d4341be5d5833b3bde95e",
            "value": " 6/6 [00:00&lt;00:00, 227.08it/s]"
          }
        },
        "f6e2f6120db04364b34396c62e2ba0de": {
          "model_module": "@jupyter-widgets/base",
          "model_name": "LayoutModel",
          "model_module_version": "1.2.0",
          "state": {
            "_model_module": "@jupyter-widgets/base",
            "_model_module_version": "1.2.0",
            "_model_name": "LayoutModel",
            "_view_count": null,
            "_view_module": "@jupyter-widgets/base",
            "_view_module_version": "1.2.0",
            "_view_name": "LayoutView",
            "align_content": null,
            "align_items": null,
            "align_self": null,
            "border": null,
            "bottom": null,
            "display": null,
            "flex": null,
            "flex_flow": null,
            "grid_area": null,
            "grid_auto_columns": null,
            "grid_auto_flow": null,
            "grid_auto_rows": null,
            "grid_column": null,
            "grid_gap": null,
            "grid_row": null,
            "grid_template_areas": null,
            "grid_template_columns": null,
            "grid_template_rows": null,
            "height": null,
            "justify_content": null,
            "justify_items": null,
            "left": null,
            "margin": null,
            "max_height": null,
            "max_width": null,
            "min_height": null,
            "min_width": null,
            "object_fit": null,
            "object_position": null,
            "order": null,
            "overflow": null,
            "overflow_x": null,
            "overflow_y": null,
            "padding": null,
            "right": null,
            "top": null,
            "visibility": null,
            "width": null
          }
        },
        "4e76e76a96fb4b7989a53682cbe0beab": {
          "model_module": "@jupyter-widgets/base",
          "model_name": "LayoutModel",
          "model_module_version": "1.2.0",
          "state": {
            "_model_module": "@jupyter-widgets/base",
            "_model_module_version": "1.2.0",
            "_model_name": "LayoutModel",
            "_view_count": null,
            "_view_module": "@jupyter-widgets/base",
            "_view_module_version": "1.2.0",
            "_view_name": "LayoutView",
            "align_content": null,
            "align_items": null,
            "align_self": null,
            "border": null,
            "bottom": null,
            "display": null,
            "flex": null,
            "flex_flow": null,
            "grid_area": null,
            "grid_auto_columns": null,
            "grid_auto_flow": null,
            "grid_auto_rows": null,
            "grid_column": null,
            "grid_gap": null,
            "grid_row": null,
            "grid_template_areas": null,
            "grid_template_columns": null,
            "grid_template_rows": null,
            "height": null,
            "justify_content": null,
            "justify_items": null,
            "left": null,
            "margin": null,
            "max_height": null,
            "max_width": null,
            "min_height": null,
            "min_width": null,
            "object_fit": null,
            "object_position": null,
            "order": null,
            "overflow": null,
            "overflow_x": null,
            "overflow_y": null,
            "padding": null,
            "right": null,
            "top": null,
            "visibility": null,
            "width": null
          }
        },
        "4b2056de8222483eae1f50289dd92074": {
          "model_module": "@jupyter-widgets/controls",
          "model_name": "DescriptionStyleModel",
          "model_module_version": "1.5.0",
          "state": {
            "_model_module": "@jupyter-widgets/controls",
            "_model_module_version": "1.5.0",
            "_model_name": "DescriptionStyleModel",
            "_view_count": null,
            "_view_module": "@jupyter-widgets/base",
            "_view_module_version": "1.2.0",
            "_view_name": "StyleView",
            "description_width": ""
          }
        },
        "b60f472424f04b689955453e9c3042f0": {
          "model_module": "@jupyter-widgets/base",
          "model_name": "LayoutModel",
          "model_module_version": "1.2.0",
          "state": {
            "_model_module": "@jupyter-widgets/base",
            "_model_module_version": "1.2.0",
            "_model_name": "LayoutModel",
            "_view_count": null,
            "_view_module": "@jupyter-widgets/base",
            "_view_module_version": "1.2.0",
            "_view_name": "LayoutView",
            "align_content": null,
            "align_items": null,
            "align_self": null,
            "border": null,
            "bottom": null,
            "display": null,
            "flex": null,
            "flex_flow": null,
            "grid_area": null,
            "grid_auto_columns": null,
            "grid_auto_flow": null,
            "grid_auto_rows": null,
            "grid_column": null,
            "grid_gap": null,
            "grid_row": null,
            "grid_template_areas": null,
            "grid_template_columns": null,
            "grid_template_rows": null,
            "height": null,
            "justify_content": null,
            "justify_items": null,
            "left": null,
            "margin": null,
            "max_height": null,
            "max_width": null,
            "min_height": null,
            "min_width": null,
            "object_fit": null,
            "object_position": null,
            "order": null,
            "overflow": null,
            "overflow_x": null,
            "overflow_y": null,
            "padding": null,
            "right": null,
            "top": null,
            "visibility": null,
            "width": null
          }
        },
        "5d8a0d44d8014324af45ad1d3ec5f286": {
          "model_module": "@jupyter-widgets/controls",
          "model_name": "ProgressStyleModel",
          "model_module_version": "1.5.0",
          "state": {
            "_model_module": "@jupyter-widgets/controls",
            "_model_module_version": "1.5.0",
            "_model_name": "ProgressStyleModel",
            "_view_count": null,
            "_view_module": "@jupyter-widgets/base",
            "_view_module_version": "1.2.0",
            "_view_name": "StyleView",
            "bar_color": null,
            "description_width": ""
          }
        },
        "d5efe5cc33434c2db3fe0648a2d61d8a": {
          "model_module": "@jupyter-widgets/base",
          "model_name": "LayoutModel",
          "model_module_version": "1.2.0",
          "state": {
            "_model_module": "@jupyter-widgets/base",
            "_model_module_version": "1.2.0",
            "_model_name": "LayoutModel",
            "_view_count": null,
            "_view_module": "@jupyter-widgets/base",
            "_view_module_version": "1.2.0",
            "_view_name": "LayoutView",
            "align_content": null,
            "align_items": null,
            "align_self": null,
            "border": null,
            "bottom": null,
            "display": null,
            "flex": null,
            "flex_flow": null,
            "grid_area": null,
            "grid_auto_columns": null,
            "grid_auto_flow": null,
            "grid_auto_rows": null,
            "grid_column": null,
            "grid_gap": null,
            "grid_row": null,
            "grid_template_areas": null,
            "grid_template_columns": null,
            "grid_template_rows": null,
            "height": null,
            "justify_content": null,
            "justify_items": null,
            "left": null,
            "margin": null,
            "max_height": null,
            "max_width": null,
            "min_height": null,
            "min_width": null,
            "object_fit": null,
            "object_position": null,
            "order": null,
            "overflow": null,
            "overflow_x": null,
            "overflow_y": null,
            "padding": null,
            "right": null,
            "top": null,
            "visibility": null,
            "width": null
          }
        },
        "fe6b9af3d70d4341be5d5833b3bde95e": {
          "model_module": "@jupyter-widgets/controls",
          "model_name": "DescriptionStyleModel",
          "model_module_version": "1.5.0",
          "state": {
            "_model_module": "@jupyter-widgets/controls",
            "_model_module_version": "1.5.0",
            "_model_name": "DescriptionStyleModel",
            "_view_count": null,
            "_view_module": "@jupyter-widgets/base",
            "_view_module_version": "1.2.0",
            "_view_name": "StyleView",
            "description_width": ""
          }
        }
      }
    }
  },
  "cells": [
    {
      "cell_type": "markdown",
      "metadata": {
        "id": "e7sjB1BnR1H1"
      },
      "source": [
        "# 14.1 신경망 모델링 디자인"
      ]
    },
    {
      "cell_type": "code",
      "metadata": {
        "colab": {
          "base_uri": "https://localhost:8080/"
        },
        "id": "Ut4S5GeJR1H2",
        "outputId": "bc288d82-e1f3-46e1-d2ec-9d7fdfd556b0"
      },
      "source": [
        "#1. 모델링 입력 파라미터 결정\n",
        "import argparse\n",
        "args = {\n",
        "    # number of vocab : 단어사전의 크기\n",
        "    \"n_vocab\": 32007,\n",
        "    # number of input sequence : 입력 피처 수\n",
        "    \"n_seq\": 67,\n",
        "    # hidden size : 단어 벡터의 깊이, 통상 128, 256 등으로 지정\n",
        "    \"d_model\": 128,\n",
        "    # number of output\n",
        "    \"n_out\": 2,\n",
        "    # random seed value\n",
        "    \"seed\": 1234\n",
        "}\n",
        "args = argparse.Namespace(**args)\n",
        "args"
      ],
      "execution_count": 58,
      "outputs": [
        {
          "output_type": "execute_result",
          "data": {
            "text/plain": [
              "Namespace(n_vocab=32007, n_seq=67, d_model=128, n_out=2, seed=1234)"
            ]
          },
          "metadata": {},
          "execution_count": 58
        }
      ]
    },
    {
      "cell_type": "markdown",
      "metadata": {
        "id": "bXBYWCWkp5ZM"
      },
      "source": [
        "# 14.2 데이터 준비 단계"
      ]
    },
    {
      "cell_type": "code",
      "metadata": {
        "id": "G35O6ZBgqURO",
        "colab": {
          "base_uri": "https://localhost:8080/",
          "height": 237
        },
        "outputId": "e84aaa98-3de4-484f-f7dd-2c6bb50c4bfb"
      },
      "source": [
        "#2 데이터 입력\n",
        "import pandas as pd\n",
        "df = pd.DataFrame()\n",
        "df['review'] = [\n",
        "    \"신차 정말 좋아요\",\n",
        "    \"신차 속도감 너무 안좋아\",\n",
        "    \"신차 디자인 연비 좋아요\",\n",
        "    \"신차 엉터리로 개발했네요\",\n",
        "    \"디자인도 이쁘고 연비도 좋아서 비용절감 효과도 있어요\",\n",
        "    \"최대출력 도달하는 시간이 많이 걸리네요\"\n",
        "]\n",
        "\n",
        "# 출력 정답\n",
        "id_to_labels = {0: \"부정\", 1: \"긍정\"}\n",
        "df['labels'] = [1, 0, 1, 0, 1, 0]\n",
        "df"
      ],
      "execution_count": 59,
      "outputs": [
        {
          "output_type": "execute_result",
          "data": {
            "text/plain": [
              "                          review  labels\n",
              "0                      신차 정말 좋아요       1\n",
              "1                  신차 속도감 너무 안좋아       0\n",
              "2                  신차 디자인 연비 좋아요       1\n",
              "3                  신차 엉터리로 개발했네요       0\n",
              "4  디자인도 이쁘고 연비도 좋아서 비용절감 효과도 있어요       1\n",
              "5          최대출력 도달하는 시간이 많이 걸리네요       0"
            ],
            "text/html": [
              "\n",
              "  <div id=\"df-0c361a92-e727-4772-9b99-4d3e7d0c9be5\" class=\"colab-df-container\">\n",
              "    <div>\n",
              "<style scoped>\n",
              "    .dataframe tbody tr th:only-of-type {\n",
              "        vertical-align: middle;\n",
              "    }\n",
              "\n",
              "    .dataframe tbody tr th {\n",
              "        vertical-align: top;\n",
              "    }\n",
              "\n",
              "    .dataframe thead th {\n",
              "        text-align: right;\n",
              "    }\n",
              "</style>\n",
              "<table border=\"1\" class=\"dataframe\">\n",
              "  <thead>\n",
              "    <tr style=\"text-align: right;\">\n",
              "      <th></th>\n",
              "      <th>review</th>\n",
              "      <th>labels</th>\n",
              "    </tr>\n",
              "  </thead>\n",
              "  <tbody>\n",
              "    <tr>\n",
              "      <th>0</th>\n",
              "      <td>신차 정말 좋아요</td>\n",
              "      <td>1</td>\n",
              "    </tr>\n",
              "    <tr>\n",
              "      <th>1</th>\n",
              "      <td>신차 속도감 너무 안좋아</td>\n",
              "      <td>0</td>\n",
              "    </tr>\n",
              "    <tr>\n",
              "      <th>2</th>\n",
              "      <td>신차 디자인 연비 좋아요</td>\n",
              "      <td>1</td>\n",
              "    </tr>\n",
              "    <tr>\n",
              "      <th>3</th>\n",
              "      <td>신차 엉터리로 개발했네요</td>\n",
              "      <td>0</td>\n",
              "    </tr>\n",
              "    <tr>\n",
              "      <th>4</th>\n",
              "      <td>디자인도 이쁘고 연비도 좋아서 비용절감 효과도 있어요</td>\n",
              "      <td>1</td>\n",
              "    </tr>\n",
              "    <tr>\n",
              "      <th>5</th>\n",
              "      <td>최대출력 도달하는 시간이 많이 걸리네요</td>\n",
              "      <td>0</td>\n",
              "    </tr>\n",
              "  </tbody>\n",
              "</table>\n",
              "</div>\n",
              "    <div class=\"colab-df-buttons\">\n",
              "\n",
              "  <div class=\"colab-df-container\">\n",
              "    <button class=\"colab-df-convert\" onclick=\"convertToInteractive('df-0c361a92-e727-4772-9b99-4d3e7d0c9be5')\"\n",
              "            title=\"Convert this dataframe to an interactive table.\"\n",
              "            style=\"display:none;\">\n",
              "\n",
              "  <svg xmlns=\"http://www.w3.org/2000/svg\" height=\"24px\" viewBox=\"0 -960 960 960\">\n",
              "    <path d=\"M120-120v-720h720v720H120Zm60-500h600v-160H180v160Zm220 220h160v-160H400v160Zm0 220h160v-160H400v160ZM180-400h160v-160H180v160Zm440 0h160v-160H620v160ZM180-180h160v-160H180v160Zm440 0h160v-160H620v160Z\"/>\n",
              "  </svg>\n",
              "    </button>\n",
              "\n",
              "  <style>\n",
              "    .colab-df-container {\n",
              "      display:flex;\n",
              "      gap: 12px;\n",
              "    }\n",
              "\n",
              "    .colab-df-convert {\n",
              "      background-color: #E8F0FE;\n",
              "      border: none;\n",
              "      border-radius: 50%;\n",
              "      cursor: pointer;\n",
              "      display: none;\n",
              "      fill: #1967D2;\n",
              "      height: 32px;\n",
              "      padding: 0 0 0 0;\n",
              "      width: 32px;\n",
              "    }\n",
              "\n",
              "    .colab-df-convert:hover {\n",
              "      background-color: #E2EBFA;\n",
              "      box-shadow: 0px 1px 2px rgba(60, 64, 67, 0.3), 0px 1px 3px 1px rgba(60, 64, 67, 0.15);\n",
              "      fill: #174EA6;\n",
              "    }\n",
              "\n",
              "    .colab-df-buttons div {\n",
              "      margin-bottom: 4px;\n",
              "    }\n",
              "\n",
              "    [theme=dark] .colab-df-convert {\n",
              "      background-color: #3B4455;\n",
              "      fill: #D2E3FC;\n",
              "    }\n",
              "\n",
              "    [theme=dark] .colab-df-convert:hover {\n",
              "      background-color: #434B5C;\n",
              "      box-shadow: 0px 1px 3px 1px rgba(0, 0, 0, 0.15);\n",
              "      filter: drop-shadow(0px 1px 2px rgba(0, 0, 0, 0.3));\n",
              "      fill: #FFFFFF;\n",
              "    }\n",
              "  </style>\n",
              "\n",
              "    <script>\n",
              "      const buttonEl =\n",
              "        document.querySelector('#df-0c361a92-e727-4772-9b99-4d3e7d0c9be5 button.colab-df-convert');\n",
              "      buttonEl.style.display =\n",
              "        google.colab.kernel.accessAllowed ? 'block' : 'none';\n",
              "\n",
              "      async function convertToInteractive(key) {\n",
              "        const element = document.querySelector('#df-0c361a92-e727-4772-9b99-4d3e7d0c9be5');\n",
              "        const dataTable =\n",
              "          await google.colab.kernel.invokeFunction('convertToInteractive',\n",
              "                                                    [key], {});\n",
              "        if (!dataTable) return;\n",
              "\n",
              "        const docLinkHtml = 'Like what you see? Visit the ' +\n",
              "          '<a target=\"_blank\" href=https://colab.research.google.com/notebooks/data_table.ipynb>data table notebook</a>'\n",
              "          + ' to learn more about interactive tables.';\n",
              "        element.innerHTML = '';\n",
              "        dataTable['output_type'] = 'display_data';\n",
              "        await google.colab.output.renderOutput(dataTable, element);\n",
              "        const docLink = document.createElement('div');\n",
              "        docLink.innerHTML = docLinkHtml;\n",
              "        element.appendChild(docLink);\n",
              "      }\n",
              "    </script>\n",
              "  </div>\n",
              "\n",
              "\n",
              "<div id=\"df-30b8f7f0-5d05-4d92-bf43-0e5787cc30bc\">\n",
              "  <button class=\"colab-df-quickchart\" onclick=\"quickchart('df-30b8f7f0-5d05-4d92-bf43-0e5787cc30bc')\"\n",
              "            title=\"Suggest charts\"\n",
              "            style=\"display:none;\">\n",
              "\n",
              "<svg xmlns=\"http://www.w3.org/2000/svg\" height=\"24px\"viewBox=\"0 0 24 24\"\n",
              "     width=\"24px\">\n",
              "    <g>\n",
              "        <path d=\"M19 3H5c-1.1 0-2 .9-2 2v14c0 1.1.9 2 2 2h14c1.1 0 2-.9 2-2V5c0-1.1-.9-2-2-2zM9 17H7v-7h2v7zm4 0h-2V7h2v10zm4 0h-2v-4h2v4z\"/>\n",
              "    </g>\n",
              "</svg>\n",
              "  </button>\n",
              "\n",
              "<style>\n",
              "  .colab-df-quickchart {\n",
              "      --bg-color: #E8F0FE;\n",
              "      --fill-color: #1967D2;\n",
              "      --hover-bg-color: #E2EBFA;\n",
              "      --hover-fill-color: #174EA6;\n",
              "      --disabled-fill-color: #AAA;\n",
              "      --disabled-bg-color: #DDD;\n",
              "  }\n",
              "\n",
              "  [theme=dark] .colab-df-quickchart {\n",
              "      --bg-color: #3B4455;\n",
              "      --fill-color: #D2E3FC;\n",
              "      --hover-bg-color: #434B5C;\n",
              "      --hover-fill-color: #FFFFFF;\n",
              "      --disabled-bg-color: #3B4455;\n",
              "      --disabled-fill-color: #666;\n",
              "  }\n",
              "\n",
              "  .colab-df-quickchart {\n",
              "    background-color: var(--bg-color);\n",
              "    border: none;\n",
              "    border-radius: 50%;\n",
              "    cursor: pointer;\n",
              "    display: none;\n",
              "    fill: var(--fill-color);\n",
              "    height: 32px;\n",
              "    padding: 0;\n",
              "    width: 32px;\n",
              "  }\n",
              "\n",
              "  .colab-df-quickchart:hover {\n",
              "    background-color: var(--hover-bg-color);\n",
              "    box-shadow: 0 1px 2px rgba(60, 64, 67, 0.3), 0 1px 3px 1px rgba(60, 64, 67, 0.15);\n",
              "    fill: var(--button-hover-fill-color);\n",
              "  }\n",
              "\n",
              "  .colab-df-quickchart-complete:disabled,\n",
              "  .colab-df-quickchart-complete:disabled:hover {\n",
              "    background-color: var(--disabled-bg-color);\n",
              "    fill: var(--disabled-fill-color);\n",
              "    box-shadow: none;\n",
              "  }\n",
              "\n",
              "  .colab-df-spinner {\n",
              "    border: 2px solid var(--fill-color);\n",
              "    border-color: transparent;\n",
              "    border-bottom-color: var(--fill-color);\n",
              "    animation:\n",
              "      spin 1s steps(1) infinite;\n",
              "  }\n",
              "\n",
              "  @keyframes spin {\n",
              "    0% {\n",
              "      border-color: transparent;\n",
              "      border-bottom-color: var(--fill-color);\n",
              "      border-left-color: var(--fill-color);\n",
              "    }\n",
              "    20% {\n",
              "      border-color: transparent;\n",
              "      border-left-color: var(--fill-color);\n",
              "      border-top-color: var(--fill-color);\n",
              "    }\n",
              "    30% {\n",
              "      border-color: transparent;\n",
              "      border-left-color: var(--fill-color);\n",
              "      border-top-color: var(--fill-color);\n",
              "      border-right-color: var(--fill-color);\n",
              "    }\n",
              "    40% {\n",
              "      border-color: transparent;\n",
              "      border-right-color: var(--fill-color);\n",
              "      border-top-color: var(--fill-color);\n",
              "    }\n",
              "    60% {\n",
              "      border-color: transparent;\n",
              "      border-right-color: var(--fill-color);\n",
              "    }\n",
              "    80% {\n",
              "      border-color: transparent;\n",
              "      border-right-color: var(--fill-color);\n",
              "      border-bottom-color: var(--fill-color);\n",
              "    }\n",
              "    90% {\n",
              "      border-color: transparent;\n",
              "      border-bottom-color: var(--fill-color);\n",
              "    }\n",
              "  }\n",
              "</style>\n",
              "\n",
              "  <script>\n",
              "    async function quickchart(key) {\n",
              "      const quickchartButtonEl =\n",
              "        document.querySelector('#' + key + ' button');\n",
              "      quickchartButtonEl.disabled = true;  // To prevent multiple clicks.\n",
              "      quickchartButtonEl.classList.add('colab-df-spinner');\n",
              "      try {\n",
              "        const charts = await google.colab.kernel.invokeFunction(\n",
              "            'suggestCharts', [key], {});\n",
              "      } catch (error) {\n",
              "        console.error('Error during call to suggestCharts:', error);\n",
              "      }\n",
              "      quickchartButtonEl.classList.remove('colab-df-spinner');\n",
              "      quickchartButtonEl.classList.add('colab-df-quickchart-complete');\n",
              "    }\n",
              "    (() => {\n",
              "      let quickchartButtonEl =\n",
              "        document.querySelector('#df-30b8f7f0-5d05-4d92-bf43-0e5787cc30bc button');\n",
              "      quickchartButtonEl.style.display =\n",
              "        google.colab.kernel.accessAllowed ? 'block' : 'none';\n",
              "    })();\n",
              "  </script>\n",
              "</div>\n",
              "    </div>\n",
              "  </div>\n"
            ],
            "application/vnd.google.colaboratory.intrinsic+json": {
              "type": "dataframe",
              "variable_name": "df",
              "summary": "{\n  \"name\": \"df\",\n  \"rows\": 6,\n  \"fields\": [\n    {\n      \"column\": \"review\",\n      \"properties\": {\n        \"dtype\": \"string\",\n        \"num_unique_values\": 6,\n        \"samples\": [\n          \"\\uc2e0\\ucc28 \\uc815\\ub9d0 \\uc88b\\uc544\\uc694\",\n          \"\\uc2e0\\ucc28 \\uc18d\\ub3c4\\uac10 \\ub108\\ubb34 \\uc548\\uc88b\\uc544\",\n          \"\\ucd5c\\ub300\\ucd9c\\ub825 \\ub3c4\\ub2ec\\ud558\\ub294 \\uc2dc\\uac04\\uc774 \\ub9ce\\uc774 \\uac78\\ub9ac\\ub124\\uc694\"\n        ],\n        \"semantic_type\": \"\",\n        \"description\": \"\"\n      }\n    },\n    {\n      \"column\": \"labels\",\n      \"properties\": {\n        \"dtype\": \"number\",\n        \"std\": 0,\n        \"min\": 0,\n        \"max\": 1,\n        \"num_unique_values\": 2,\n        \"samples\": [\n          0,\n          1\n        ],\n        \"semantic_type\": \"\",\n        \"description\": \"\"\n      }\n    }\n  ]\n}"
            }
          },
          "metadata": {},
          "execution_count": 59
        }
      ]
    },
    {
      "cell_type": "code",
      "metadata": {
        "colab": {
          "base_uri": "https://localhost:8080/"
        },
        "id": "ZKS9RqqiVcx2",
        "outputId": "13b37915-2f62-49a1-bf6b-f0783f6d78df"
      },
      "source": [
        "# 3. 토큰화\n",
        "words = []\n",
        "for line in df['review']:\n",
        "    for w in line.split():\n",
        "        words.append(w)\n",
        "words = list(dict.fromkeys(words))\n",
        "words"
      ],
      "execution_count": 60,
      "outputs": [
        {
          "output_type": "execute_result",
          "data": {
            "text/plain": [
              "['신차',\n",
              " '정말',\n",
              " '좋아요',\n",
              " '속도감',\n",
              " '너무',\n",
              " '안좋아',\n",
              " '디자인',\n",
              " '연비',\n",
              " '엉터리로',\n",
              " '개발했네요',\n",
              " '디자인도',\n",
              " '이쁘고',\n",
              " '연비도',\n",
              " '좋아서',\n",
              " '비용절감',\n",
              " '효과도',\n",
              " '있어요',\n",
              " '최대출력',\n",
              " '도달하는',\n",
              " '시간이',\n",
              " '많이',\n",
              " '걸리네요']"
            ]
          },
          "metadata": {},
          "execution_count": 60
        }
      ]
    },
    {
      "cell_type": "code",
      "metadata": {
        "colab": {
          "base_uri": "https://localhost:8080/"
        },
        "id": "Y_xey2V-Vcx3",
        "outputId": "eb1fa22b-a17b-4910-d174-37f8633f2cc1"
      },
      "source": [
        "#4 단어사전 만들기와 n_vocab 사전크기 입력\n",
        "vocab_id = {\"[PAD]\": 0, \"[UNK]\": 1}\n",
        "for w in words:\n",
        "    if w not in vocab_id:\n",
        "        vocab_id[w] = len(vocab_id)\n",
        "vocab_word = {_id:w for w, _id in vocab_id.items()}\n",
        "args.n_vocab = len(vocab_id)\n",
        "vocab_word"
      ],
      "execution_count": 61,
      "outputs": [
        {
          "output_type": "execute_result",
          "data": {
            "text/plain": [
              "{0: '[PAD]',\n",
              " 1: '[UNK]',\n",
              " 2: '신차',\n",
              " 3: '정말',\n",
              " 4: '좋아요',\n",
              " 5: '속도감',\n",
              " 6: '너무',\n",
              " 7: '안좋아',\n",
              " 8: '디자인',\n",
              " 9: '연비',\n",
              " 10: '엉터리로',\n",
              " 11: '개발했네요',\n",
              " 12: '디자인도',\n",
              " 13: '이쁘고',\n",
              " 14: '연비도',\n",
              " 15: '좋아서',\n",
              " 16: '비용절감',\n",
              " 17: '효과도',\n",
              " 18: '있어요',\n",
              " 19: '최대출력',\n",
              " 20: '도달하는',\n",
              " 21: '시간이',\n",
              " 22: '많이',\n",
              " 23: '걸리네요'}"
            ]
          },
          "metadata": {},
          "execution_count": 61
        }
      ]
    },
    {
      "cell_type": "code",
      "metadata": {
        "colab": {
          "base_uri": "https://localhost:8080/"
        },
        "id": "jFcYUhnznQM7",
        "outputId": "8810e1df-5a03-4370-f5ce-d8c157f44d82"
      },
      "source": [
        "#5. 입력문장길이 n_seq 결정\n",
        "args.n_seq = 6\n",
        "args"
      ],
      "execution_count": 62,
      "outputs": [
        {
          "output_type": "execute_result",
          "data": {
            "text/plain": [
              "Namespace(n_vocab=24, n_seq=6, d_model=128, n_out=2, seed=1234)"
            ]
          },
          "metadata": {},
          "execution_count": 62
        }
      ]
    },
    {
      "cell_type": "code",
      "metadata": {
        "id": "xJVWXh5BVcx6",
        "colab": {
          "base_uri": "https://localhost:8080/",
          "height": 66,
          "referenced_widgets": [
            "c0e58135b29b4aa1ad45a6e68d2d6aa3",
            "7993e78855e54934963f596ed7d01252",
            "345c7c94707b458b8da72aef07e67153",
            "b4675601705047bab8cc3b7d761c0a22",
            "f6e2f6120db04364b34396c62e2ba0de",
            "4e76e76a96fb4b7989a53682cbe0beab",
            "4b2056de8222483eae1f50289dd92074",
            "b60f472424f04b689955453e9c3042f0",
            "5d8a0d44d8014324af45ad1d3ec5f286",
            "d5efe5cc33434c2db3fe0648a2d61d8a",
            "fe6b9af3d70d4341be5d5833b3bde95e"
          ]
        },
        "outputId": "b89dba54-e8b7-4055-cc13-71c9bf0109aa"
      },
      "source": [
        "#6. 입력 텍스트를 n_seq 크기로 inputs을 만들고 labels 벡터 임베딩 준비\n",
        "import numpy as np\n",
        "from tqdm.notebook import tqdm, trange\n",
        "def make_data(df, vocab=vocab_id, n_seq=args.n_seq):\n",
        "    inputs, labels = [], []\n",
        "    for i, row in tqdm(df.iterrows(), total=len(df)):\n",
        "        label = row[\"labels\"]\n",
        "        document = row[\"review\"]\n",
        "        token = []\n",
        "        for word in document.split():\n",
        "          token.append(vocab[word])\n",
        "        token = token[:n_seq]\n",
        "        token = token + [0] * (n_seq - len(token))\n",
        "        assert len(token) == n_seq\n",
        "        inputs.append(token)\n",
        "        labels.append(label)\n",
        "    inputs = np.array(inputs)\n",
        "    labels = np.array(labels)\n",
        "    return inputs, labels\n",
        "\n",
        "inputs, labels = make_data(df, vocab_id, n_seq=args.n_seq)\n",
        "inputs.shape, labels.shape"
      ],
      "execution_count": 63,
      "outputs": [
        {
          "output_type": "display_data",
          "data": {
            "text/plain": [
              "  0%|          | 0/6 [00:00<?, ?it/s]"
            ],
            "application/vnd.jupyter.widget-view+json": {
              "version_major": 2,
              "version_minor": 0,
              "model_id": "c0e58135b29b4aa1ad45a6e68d2d6aa3"
            }
          },
          "metadata": {}
        },
        {
          "output_type": "execute_result",
          "data": {
            "text/plain": [
              "((6, 6), (6,))"
            ]
          },
          "metadata": {},
          "execution_count": 63
        }
      ]
    },
    {
      "cell_type": "code",
      "metadata": {
        "colab": {
          "base_uri": "https://localhost:8080/"
        },
        "id": "4rr_NnmBYMW3",
        "outputId": "6032c05a-cf1b-44fe-bea3-11117b9bd115"
      },
      "source": [
        "print(inputs)\n",
        "print(labels)"
      ],
      "execution_count": 64,
      "outputs": [
        {
          "output_type": "stream",
          "name": "stdout",
          "text": [
            "[[ 2  3  4  0  0  0]\n",
            " [ 2  5  6  7  0  0]\n",
            " [ 2  8  9  4  0  0]\n",
            " [ 2 10 11  0  0  0]\n",
            " [12 13 14 15 16 17]\n",
            " [19 20 21 22 23  0]]\n",
            "[1 0 1 0 1 0]\n"
          ]
        }
      ]
    },
    {
      "cell_type": "code",
      "metadata": {
        "id": "lXw6tnkQ1x8q",
        "colab": {
          "base_uri": "https://localhost:8080/"
        },
        "outputId": "e913bf9b-fd79-4685-bc06-7f550e00b902"
      },
      "source": [
        "# 7. 데이터를 ts 크리의 test 데이터와 vs의 val 데이터로 분리\n",
        "from sklearn.model_selection import train_test_split\n",
        "train_inputs, test_inputs, train_labels, test_labels = train_test_split(inputs, labels, test_size=0.25, random_state=args.seed)\n",
        "train_inputs, valid_inputs, train_labels, valid_labels = train_test_split(train_inputs, train_labels, test_size=1, random_state=args.seed)\n",
        "train_inputs.shape, train_labels.shape"
      ],
      "execution_count": 65,
      "outputs": [
        {
          "output_type": "execute_result",
          "data": {
            "text/plain": [
              "((3, 6), (3,))"
            ]
          },
          "metadata": {},
          "execution_count": 65
        }
      ]
    },
    {
      "cell_type": "code",
      "metadata": {
        "colab": {
          "base_uri": "https://localhost:8080/"
        },
        "id": "gUOWmDHK1MoW",
        "outputId": "5eb2e4f6-77e0-4201-d697-542abdb6f82f"
      },
      "source": [
        "print(train_inputs, train_labels)\n",
        "print(valid_inputs, valid_labels)\n",
        "print(test_inputs, test_labels)"
      ],
      "execution_count": 66,
      "outputs": [
        {
          "output_type": "stream",
          "name": "stdout",
          "text": [
            "[[ 2  3  4  0  0  0]\n",
            " [12 13 14 15 16 17]\n",
            " [ 2 10 11  0  0  0]] [1 1 0]\n",
            "[[19 20 21 22 23  0]] [0]\n",
            "[[2 8 9 4 0 0]\n",
            " [2 5 6 7 0 0]] [1 0]\n"
          ]
        }
      ]
    },
    {
      "cell_type": "markdown",
      "metadata": {
        "id": "j6itU4WAVcx7"
      },
      "source": [
        "# 14.3 신경망 모델링과 학습 단계"
      ]
    },
    {
      "cell_type": "code",
      "metadata": {
        "colab": {
          "base_uri": "https://localhost:8080/"
        },
        "id": "CGnRQv1GvRGc",
        "outputId": "42ebbfba-e01d-4812-9472-11b9e6cb7acf"
      },
      "source": [
        "# 8. 단어벡터의 depth d_model을 결정\n",
        "args.d_model = 5\n",
        "args"
      ],
      "execution_count": 67,
      "outputs": [
        {
          "output_type": "execute_result",
          "data": {
            "text/plain": [
              "Namespace(n_vocab=24, n_seq=6, d_model=5, n_out=2, seed=1234)"
            ]
          },
          "metadata": {},
          "execution_count": 67
        }
      ]
    },
    {
      "cell_type": "code",
      "metadata": {
        "id": "dq9Ak1bSVcx-"
      },
      "source": [
        "#9. 모델링 함수 정의 : bach_size\n",
        "import tensorflow as tf\n",
        "def build_model(args):\n",
        "    \"\"\"\n",
        "    동작만 하는 간단한 모델\n",
        "    :param args: input args\n",
        "    \"\"\"\n",
        "    inputs = tf.keras.layers.Input((args.n_seq,))  # (bs, n_seq)\n",
        "    # 가. 입력 단어를 vector로 변환\n",
        "    embedding = tf.keras.layers.Embedding(args.n_vocab, args.d_model)\n",
        "    hidden = embedding(inputs)  # (bs, n_seq, d_model)\n",
        "    ########################################################\n",
        "    # RNN, CNN, Attention, Dense ...\n",
        "    ########################################################\n",
        "    # 나. 문장의 특징 추출\n",
        "    pool = tf.keras.layers.GlobalMaxPooling1D()\n",
        "    hidden = pool(hidden)\n",
        "    # 다. 단어의 vector를 이용해서 정답 확률값 예측\n",
        "    linear = tf.keras.layers.Dense(args.n_out, activation=tf.nn.softmax)\n",
        "    outputs = linear(hidden)  # (bs, n_seq, n_out)\n",
        "    # 라. 학습할 모델 선언\n",
        "    model = tf.keras.Model(inputs=inputs, outputs=outputs)\n",
        "    return model"
      ],
      "execution_count": 68,
      "outputs": []
    },
    {
      "cell_type": "code",
      "metadata": {
        "colab": {
          "base_uri": "https://localhost:8080/",
          "height": 422
        },
        "id": "_v39Jk_9Vcx-",
        "outputId": "f9f6ac4d-45f0-4527-b79b-f70543942b8b"
      },
      "source": [
        "#10 모델을 생성하고 내용을 그래프로 출력, none 부분은 입력 데이터 수 즉, bach size 로 생각\n",
        "model = build_model(args)\n",
        "tf.keras.utils.plot_model(model, 'model.png', show_shapes=True)"
      ],
      "execution_count": 69,
      "outputs": [
        {
          "output_type": "execute_result",
          "data": {
            "image/png": "[encoded data removed]",
            "text/plain": [
              "<IPython.core.display.Image object>"
            ]
          },
          "metadata": {},
          "execution_count": 69
        }
      ]
    },
    {
      "cell_type": "markdown",
      "metadata": {
        "id": "vrLU6rAE35QI"
      },
      "source": [
        "# 모델링 이해*"
      ]
    },
    {
      "cell_type": "code",
      "metadata": {
        "colab": {
          "base_uri": "https://localhost:8080/"
        },
        "id": "sgzFKbjH-ZzY",
        "outputId": "f298283a-883e-4be6-f0d8-8250aedf1039"
      },
      "source": [
        "# 모델링 파라미터 설정\n",
        "args"
      ],
      "execution_count": 70,
      "outputs": [
        {
          "output_type": "execute_result",
          "data": {
            "text/plain": [
              "Namespace(n_vocab=24, n_seq=6, d_model=5, n_out=2, seed=1234)"
            ]
          },
          "metadata": {},
          "execution_count": 70
        }
      ]
    },
    {
      "cell_type": "code",
      "metadata": {
        "colab": {
          "base_uri": "https://localhost:8080/"
        },
        "id": "nAAyX3Vn34Th",
        "outputId": "44e9a26e-34f8-43f6-dcfd-02472993230b"
      },
      "source": [
        "# 가. 입력 단어를 vector로 변환 bs * ( n_seq 4* n_vocab 12)*weight (n_vocab 12* d_model 5) = bs * n_seq 4* d_model 5\n",
        "embedding = tf.keras.layers.Embedding(args.n_vocab, args.d_model)\n",
        "hidden = embedding(train_inputs)\n",
        "hidden"
      ],
      "execution_count": 71,
      "outputs": [
        {
          "output_type": "execute_result",
          "data": {
            "text/plain": [
              "<tf.Tensor: shape=(3, 6, 5), dtype=float32, numpy=\n",
              "array([[[-0.00891429, -0.04301273,  0.02168839,  0.00818386,\n",
              "         -0.01681215],\n",
              "        [ 0.04487835,  0.02647137,  0.04801742,  0.01912508,\n",
              "         -0.0168865 ],\n",
              "        [ 0.04100194, -0.04855696, -0.00693328, -0.02891024,\n",
              "         -0.01730118],\n",
              "        [ 0.04405488, -0.03111771,  0.01508827, -0.04198773,\n",
              "         -0.04707748],\n",
              "        [ 0.04405488, -0.03111771,  0.01508827, -0.04198773,\n",
              "         -0.04707748],\n",
              "        [ 0.04405488, -0.03111771,  0.01508827, -0.04198773,\n",
              "         -0.04707748]],\n",
              "\n",
              "       [[ 0.02640832, -0.02967944, -0.00753804, -0.03549138,\n",
              "          0.01677639],\n",
              "        [-0.02465688, -0.03964233, -0.02172563,  0.0163422 ,\n",
              "         -0.01106175],\n",
              "        [-0.01087167,  0.00263079,  0.03474705, -0.00929238,\n",
              "          0.01288878],\n",
              "        [ 0.03379072,  0.01335697,  0.03991855, -0.01472282,\n",
              "         -0.00164224],\n",
              "        [-0.0081709 ,  0.01114738,  0.04635109,  0.03447277,\n",
              "         -0.02562171],\n",
              "        [ 0.01328887,  0.02416846, -0.03828546,  0.02592454,\n",
              "         -0.00052085]],\n",
              "\n",
              "       [[-0.00891429, -0.04301273,  0.02168839,  0.00818386,\n",
              "         -0.01681215],\n",
              "        [-0.03535476,  0.01523693, -0.01127139, -0.03997047,\n",
              "          0.01248879],\n",
              "        [-0.03038385,  0.02231168,  0.013836  ,  0.03774827,\n",
              "         -0.04998901],\n",
              "        [ 0.04405488, -0.03111771,  0.01508827, -0.04198773,\n",
              "         -0.04707748],\n",
              "        [ 0.04405488, -0.03111771,  0.01508827, -0.04198773,\n",
              "         -0.04707748],\n",
              "        [ 0.04405488, -0.03111771,  0.01508827, -0.04198773,\n",
              "         -0.04707748]]], dtype=float32)>"
            ]
          },
          "metadata": {},
          "execution_count": 71
        }
      ]
    },
    {
      "cell_type": "code",
      "metadata": {
        "colab": {
          "base_uri": "https://localhost:8080/"
        },
        "id": "NKJbG0Ax3B-3",
        "outputId": "038c124c-1c23-48bc-9982-5176421d3ec4"
      },
      "source": [
        "# embedding weight (12*5) : 단어별 벡터 첫번째 문장 [2,8,9,4]\n",
        "weight = embedding.get_weights()[0]\n",
        "weight"
      ],
      "execution_count": 72,
      "outputs": [
        {
          "output_type": "execute_result",
          "data": {
            "text/plain": [
              "array([[ 0.04405488, -0.03111771,  0.01508827, -0.04198773, -0.04707748],\n",
              "       [ 0.02524296,  0.03725063, -0.00057494, -0.03915143, -0.02287567],\n",
              "       [-0.00891429, -0.04301273,  0.02168839,  0.00818386, -0.01681215],\n",
              "       [ 0.04487835,  0.02647137,  0.04801742,  0.01912508, -0.0168865 ],\n",
              "       [ 0.04100194, -0.04855696, -0.00693328, -0.02891024, -0.01730118],\n",
              "       [ 0.01862575, -0.0292757 ,  0.02058249,  0.00602277,  0.00117651],\n",
              "       [ 0.00895648,  0.0072757 , -0.0230533 , -0.00404932, -0.03121294],\n",
              "       [ 0.04433144,  0.01989887, -0.01422862,  0.00392836, -0.02696441],\n",
              "       [-0.01024093, -0.01962028,  0.04477629, -0.00608411,  0.03947497],\n",
              "       [ 0.02587611,  0.01670067,  0.00980115,  0.0325444 , -0.04499207],\n",
              "       [-0.03535476,  0.01523693, -0.01127139, -0.03997047,  0.01248879],\n",
              "       [-0.03038385,  0.02231168,  0.013836  ,  0.03774827, -0.04998901],\n",
              "       [ 0.02640832, -0.02967944, -0.00753804, -0.03549138,  0.01677639],\n",
              "       [-0.02465688, -0.03964233, -0.02172563,  0.0163422 , -0.01106175],\n",
              "       [-0.01087167,  0.00263079,  0.03474705, -0.00929238,  0.01288878],\n",
              "       [ 0.03379072,  0.01335697,  0.03991855, -0.01472282, -0.00164224],\n",
              "       [-0.0081709 ,  0.01114738,  0.04635109,  0.03447277, -0.02562171],\n",
              "       [ 0.01328887,  0.02416846, -0.03828546,  0.02592454, -0.00052085],\n",
              "       [ 0.02524884,  0.02458182,  0.00898776, -0.01087875, -0.04419788],\n",
              "       [ 0.01778605, -0.01797005, -0.04177763, -0.02642331,  0.04529885],\n",
              "       [-0.01566232, -0.03333368,  0.04157359,  0.03156333,  0.03155832],\n",
              "       [-0.02758935, -0.0455052 , -0.04549934,  0.00058503, -0.04377   ],\n",
              "       [ 0.03437411,  0.00240982, -0.01824466,  0.01516715, -0.02290971],\n",
              "       [-0.00020228,  0.00494037, -0.00135648, -0.01417381, -0.02526815]],\n",
              "      dtype=float32)"
            ]
          },
          "metadata": {},
          "execution_count": 72
        }
      ]
    },
    {
      "cell_type": "code",
      "metadata": {
        "colab": {
          "base_uri": "https://localhost:8080/"
        },
        "id": "ARbX1stO4VE_",
        "outputId": "000afdec-66f8-4211-8ebc-8c299791aac3"
      },
      "source": [
        "# numpy를 이용해서 직접 조회 (두 결과값 비교), 2*4*5 bs*n_seq*d_model\n",
        "weight[train_inputs], hidden"
      ],
      "execution_count": 73,
      "outputs": [
        {
          "output_type": "execute_result",
          "data": {
            "text/plain": [
              "(array([[[-0.00891429, -0.04301273,  0.02168839,  0.00818386,\n",
              "          -0.01681215],\n",
              "         [ 0.04487835,  0.02647137,  0.04801742,  0.01912508,\n",
              "          -0.0168865 ],\n",
              "         [ 0.04100194, -0.04855696, -0.00693328, -0.02891024,\n",
              "          -0.01730118],\n",
              "         [ 0.04405488, -0.03111771,  0.01508827, -0.04198773,\n",
              "          -0.04707748],\n",
              "         [ 0.04405488, -0.03111771,  0.01508827, -0.04198773,\n",
              "          -0.04707748],\n",
              "         [ 0.04405488, -0.03111771,  0.01508827, -0.04198773,\n",
              "          -0.04707748]],\n",
              " \n",
              "        [[ 0.02640832, -0.02967944, -0.00753804, -0.03549138,\n",
              "           0.01677639],\n",
              "         [-0.02465688, -0.03964233, -0.02172563,  0.0163422 ,\n",
              "          -0.01106175],\n",
              "         [-0.01087167,  0.00263079,  0.03474705, -0.00929238,\n",
              "           0.01288878],\n",
              "         [ 0.03379072,  0.01335697,  0.03991855, -0.01472282,\n",
              "          -0.00164224],\n",
              "         [-0.0081709 ,  0.01114738,  0.04635109,  0.03447277,\n",
              "          -0.02562171],\n",
              "         [ 0.01328887,  0.02416846, -0.03828546,  0.02592454,\n",
              "          -0.00052085]],\n",
              " \n",
              "        [[-0.00891429, -0.04301273,  0.02168839,  0.00818386,\n",
              "          -0.01681215],\n",
              "         [-0.03535476,  0.01523693, -0.01127139, -0.03997047,\n",
              "           0.01248879],\n",
              "         [-0.03038385,  0.02231168,  0.013836  ,  0.03774827,\n",
              "          -0.04998901],\n",
              "         [ 0.04405488, -0.03111771,  0.01508827, -0.04198773,\n",
              "          -0.04707748],\n",
              "         [ 0.04405488, -0.03111771,  0.01508827, -0.04198773,\n",
              "          -0.04707748],\n",
              "         [ 0.04405488, -0.03111771,  0.01508827, -0.04198773,\n",
              "          -0.04707748]]], dtype=float32),\n",
              " <tf.Tensor: shape=(3, 6, 5), dtype=float32, numpy=\n",
              " array([[[-0.00891429, -0.04301273,  0.02168839,  0.00818386,\n",
              "          -0.01681215],\n",
              "         [ 0.04487835,  0.02647137,  0.04801742,  0.01912508,\n",
              "          -0.0168865 ],\n",
              "         [ 0.04100194, -0.04855696, -0.00693328, -0.02891024,\n",
              "          -0.01730118],\n",
              "         [ 0.04405488, -0.03111771,  0.01508827, -0.04198773,\n",
              "          -0.04707748],\n",
              "         [ 0.04405488, -0.03111771,  0.01508827, -0.04198773,\n",
              "          -0.04707748],\n",
              "         [ 0.04405488, -0.03111771,  0.01508827, -0.04198773,\n",
              "          -0.04707748]],\n",
              " \n",
              "        [[ 0.02640832, -0.02967944, -0.00753804, -0.03549138,\n",
              "           0.01677639],\n",
              "         [-0.02465688, -0.03964233, -0.02172563,  0.0163422 ,\n",
              "          -0.01106175],\n",
              "         [-0.01087167,  0.00263079,  0.03474705, -0.00929238,\n",
              "           0.01288878],\n",
              "         [ 0.03379072,  0.01335697,  0.03991855, -0.01472282,\n",
              "          -0.00164224],\n",
              "         [-0.0081709 ,  0.01114738,  0.04635109,  0.03447277,\n",
              "          -0.02562171],\n",
              "         [ 0.01328887,  0.02416846, -0.03828546,  0.02592454,\n",
              "          -0.00052085]],\n",
              " \n",
              "        [[-0.00891429, -0.04301273,  0.02168839,  0.00818386,\n",
              "          -0.01681215],\n",
              "         [-0.03535476,  0.01523693, -0.01127139, -0.03997047,\n",
              "           0.01248879],\n",
              "         [-0.03038385,  0.02231168,  0.013836  ,  0.03774827,\n",
              "          -0.04998901],\n",
              "         [ 0.04405488, -0.03111771,  0.01508827, -0.04198773,\n",
              "          -0.04707748],\n",
              "         [ 0.04405488, -0.03111771,  0.01508827, -0.04198773,\n",
              "          -0.04707748],\n",
              "         [ 0.04405488, -0.03111771,  0.01508827, -0.04198773,\n",
              "          -0.04707748]]], dtype=float32)>)"
            ]
          },
          "metadata": {},
          "execution_count": 73
        }
      ]
    },
    {
      "cell_type": "code",
      "metadata": {
        "id": "MW_WyRJy4ZDY"
      },
      "source": [
        "# RNN, CNN, Attention, Linear ...."
      ],
      "execution_count": 74,
      "outputs": []
    },
    {
      "cell_type": "code",
      "metadata": {
        "colab": {
          "base_uri": "https://localhost:8080/"
        },
        "id": "o2230KZ-4aOw",
        "outputId": "daad5c1c-761f-42fd-bb3e-34487b3862bc"
      },
      "source": [
        "# 나. 문장의 특징 추출\n",
        "tf.keras.layers.GlobalAvgPool1D()(hidden)"
      ],
      "execution_count": 75,
      "outputs": [
        {
          "output_type": "execute_result",
          "data": {
            "text/plain": [
              "<tf.Tensor: shape=(3, 5), dtype=float32, numpy=\n",
              "array([[ 0.03485511, -0.02640858,  0.01800623, -0.02126075, -0.03203871],\n",
              "       [ 0.00496474, -0.00300303,  0.00891126,  0.00287215, -0.00153023],\n",
              "       [ 0.00958529, -0.01646954,  0.0115863 , -0.02000025, -0.0325908 ]],\n",
              "      dtype=float32)>"
            ]
          },
          "metadata": {},
          "execution_count": 75
        }
      ]
    },
    {
      "cell_type": "code",
      "metadata": {
        "colab": {
          "base_uri": "https://localhost:8080/"
        },
        "id": "38Usp7Il4ena",
        "outputId": "a38bf73a-d4d8-4d36-a234-769434d4b57c"
      },
      "source": [
        "hidden = tf.keras.layers.GlobalMaxPooling1D()(hidden)\n",
        "hidden"
      ],
      "execution_count": 76,
      "outputs": [
        {
          "output_type": "execute_result",
          "data": {
            "text/plain": [
              "<tf.Tensor: shape=(3, 5), dtype=float32, numpy=\n",
              "array([[ 0.04487835,  0.02647137,  0.04801742,  0.01912508, -0.01681215],\n",
              "       [ 0.03379072,  0.02416846,  0.04635109,  0.03447277,  0.01677639],\n",
              "       [ 0.04405488,  0.02231168,  0.02168839,  0.03774827,  0.01248879]],\n",
              "      dtype=float32)>"
            ]
          },
          "metadata": {},
          "execution_count": 76
        }
      ]
    },
    {
      "cell_type": "code",
      "metadata": {
        "colab": {
          "base_uri": "https://localhost:8080/"
        },
        "id": "sPqKadfz4iLq",
        "outputId": "8dd33a4c-8acb-4124-c849-8ca255a735db"
      },
      "source": [
        "# 다. 단어의 vector를 이용해서 입력 배치 순서대로 n_out 크기로 부정(0), 긍정(1) 확률값 예측\n",
        "linear = tf.keras.layers.Dense(args.n_out, activation=tf.nn.softmax)\n",
        "outputs = linear(hidden)\n",
        "outputs"
      ],
      "execution_count": 77,
      "outputs": [
        {
          "output_type": "execute_result",
          "data": {
            "text/plain": [
              "<tf.Tensor: shape=(3, 2), dtype=float32, numpy=\n",
              "array([[0.50007075, 0.49992925],\n",
              "       [0.49521312, 0.50478697],\n",
              "       [0.49151537, 0.5084846 ]], dtype=float32)>"
            ]
          },
          "metadata": {},
          "execution_count": 77
        }
      ]
    },
    {
      "cell_type": "code",
      "metadata": {
        "colab": {
          "base_uri": "https://localhost:8080/"
        },
        "id": "iRUMp2mp4mZ4",
        "outputId": "40883585-cac5-4649-99d4-3d80f465b946"
      },
      "source": [
        "# dense의 wieght, bias\n",
        "weight, bias = linear.get_weights()\n",
        "weight, bias"
      ],
      "execution_count": 78,
      "outputs": [
        {
          "output_type": "execute_result",
          "data": {
            "text/plain": [
              "(array([[ 0.36083114,  0.1649034 ],\n",
              "        [ 0.65982854,  0.7158545 ],\n",
              "        [-0.06314325, -0.5341586 ],\n",
              "        [-0.9031884 ,  0.5126374 ],\n",
              "        [ 0.11523843, -0.03739035]], dtype=float32),\n",
              " array([0., 0.], dtype=float32))"
            ]
          },
          "metadata": {},
          "execution_count": 78
        }
      ]
    },
    {
      "cell_type": "code",
      "metadata": {
        "colab": {
          "base_uri": "https://localhost:8080/"
        },
        "id": "W_an6fwR4pVG",
        "outputId": "f320536e-6033-425d-8a4b-b8af87cd123c"
      },
      "source": [
        "# numpy를 이용한 Wx + b\n",
        "logits = np.matmul(hidden, weight) + bias\n",
        "logits"
      ],
      "execution_count": 79,
      "outputs": [
        {
          "output_type": "execute_result",
          "data": {
            "text/plain": [
              "array([[ 0.01141714,  0.01113417],\n",
              "       [-0.00398909,  0.01515923],\n",
              "       [-0.00340583,  0.03053589]], dtype=float32)"
            ]
          },
          "metadata": {},
          "execution_count": 79
        }
      ]
    },
    {
      "cell_type": "code",
      "metadata": {
        "colab": {
          "base_uri": "https://localhost:8080/"
        },
        "id": "io6iO-1t4r6Z",
        "outputId": "8e950084-5ccc-4d7e-c7fe-d251bdf4cb0f"
      },
      "source": [
        "# softmax 계산을 위한 준비 exp(x') / sum(exp(x))\n",
        "numerator = np.exp(logits)\n",
        "denominator = np.sum(numerator, axis=1, keepdims=True)\n",
        "numerator, denominator"
      ],
      "execution_count": 80,
      "outputs": [
        {
          "output_type": "execute_result",
          "data": {
            "text/plain": [
              "(array([[1.0114826 , 1.0111965 ],\n",
              "        [0.99601877, 1.0152746 ],\n",
              "        [0.9966    , 1.0310069 ]], dtype=float32),\n",
              " array([[2.022679 ],\n",
              "        [2.0112934],\n",
              "        [2.027607 ]], dtype=float32))"
            ]
          },
          "metadata": {},
          "execution_count": 80
        }
      ]
    },
    {
      "cell_type": "code",
      "metadata": {
        "colab": {
          "base_uri": "https://localhost:8080/"
        },
        "id": "O0eqlTTz4tPY",
        "outputId": "3025f059-9ed3-458c-bd26-13db5aa04578"
      },
      "source": [
        "# 두 결과값 비교\n",
        "probs = numerator / denominator\n",
        "probs, outputs"
      ],
      "execution_count": 81,
      "outputs": [
        {
          "output_type": "execute_result",
          "data": {
            "text/plain": [
              "(array([[0.50007075, 0.49992928],\n",
              "        [0.49521306, 0.50478697],\n",
              "        [0.49151537, 0.5084846 ]], dtype=float32),\n",
              " <tf.Tensor: shape=(3, 2), dtype=float32, numpy=\n",
              " array([[0.50007075, 0.49992925],\n",
              "        [0.49521312, 0.50478697],\n",
              "        [0.49151537, 0.5084846 ]], dtype=float32)>)"
            ]
          },
          "metadata": {},
          "execution_count": 81
        }
      ]
    },
    {
      "cell_type": "code",
      "metadata": {
        "colab": {
          "base_uri": "https://localhost:8080/"
        },
        "id": "6MNX_ju4Vcx_",
        "outputId": "6538ef50-686a-4d7b-db9e-832deb9ab8ad"
      },
      "source": [
        "#11 모델링과 학습\n",
        "#가. 모델생성\n",
        "model = build_model(args)\n",
        "#나. 모델 loss, optimizer, metric 정의\n",
        "model.compile(loss='sparse_categorical_crossentropy', optimizer='adam', metrics=['accuracy'])\n",
        "#다. 조기종료 조건\n",
        "early_stopping = tf.keras.callbacks.EarlyStopping(monitor='val_accuracy', patience=20)\n",
        "#라. 모델 추론결과 weights 저장\n",
        "save_weights = tf.keras.callbacks.ModelCheckpoint(\"sentence_calss.hdf5\",\n",
        "                                                  monitor='val_accuracy',\n",
        "                                                  verbose=1,\n",
        "                                                  save_best_only=True,\n",
        "                                                  mode=\"max\",\n",
        "                                                  save_freq=\"epoch\",\n",
        "                                                  save_weights_only=True)\n",
        "#마. 로그 저장\n",
        "csv_logger = tf.keras.callbacks.CSVLogger(\"sentence_calss.csv\")\n",
        "#바. 모델 학습 시행 및 실행 결과 저장\n",
        "history = model.fit(train_inputs, train_labels,\n",
        "                    epochs=100,\n",
        "                    batch_size=16,\n",
        "                    validation_data=(valid_inputs, valid_labels),\n",
        "                    callbacks=[early_stopping, save_weights, csv_logger])"
      ],
      "execution_count": 82,
      "outputs": [
        {
          "output_type": "stream",
          "name": "stdout",
          "text": [
            "Epoch 1/100\n",
            "1/1 [==============================] - ETA: 0s - loss: 0.6895 - accuracy: 1.0000\n",
            "Epoch 1: val_accuracy improved from -inf to 0.00000, saving model to sentence_calss.hdf5\n",
            "1/1 [==============================] - 1s 851ms/step - loss: 0.6895 - accuracy: 1.0000 - val_loss: 0.6933 - val_accuracy: 0.0000e+00\n",
            "Epoch 2/100\n",
            "1/1 [==============================] - ETA: 0s - loss: 0.6885 - accuracy: 1.0000\n",
            "Epoch 2: val_accuracy did not improve from 0.00000\n",
            "1/1 [==============================] - 0s 89ms/step - loss: 0.6885 - accuracy: 1.0000 - val_loss: 0.6942 - val_accuracy: 0.0000e+00\n",
            "Epoch 3/100\n",
            "1/1 [==============================] - ETA: 0s - loss: 0.6876 - accuracy: 0.6667\n",
            "Epoch 3: val_accuracy did not improve from 0.00000\n",
            "1/1 [==============================] - 0s 55ms/step - loss: 0.6876 - accuracy: 0.6667 - val_loss: 0.6951 - val_accuracy: 0.0000e+00\n",
            "Epoch 4/100\n",
            "1/1 [==============================] - ETA: 0s - loss: 0.6866 - accuracy: 0.6667\n",
            "Epoch 4: val_accuracy did not improve from 0.00000\n",
            "1/1 [==============================] - 0s 71ms/step - loss: 0.6866 - accuracy: 0.6667 - val_loss: 0.6960 - val_accuracy: 0.0000e+00\n",
            "Epoch 5/100\n",
            "1/1 [==============================] - ETA: 0s - loss: 0.6857 - accuracy: 0.6667\n",
            "Epoch 5: val_accuracy did not improve from 0.00000\n",
            "1/1 [==============================] - 0s 51ms/step - loss: 0.6857 - accuracy: 0.6667 - val_loss: 0.6968 - val_accuracy: 0.0000e+00\n",
            "Epoch 6/100\n",
            "1/1 [==============================] - ETA: 0s - loss: 0.6848 - accuracy: 0.6667\n",
            "Epoch 6: val_accuracy did not improve from 0.00000\n",
            "1/1 [==============================] - 0s 50ms/step - loss: 0.6848 - accuracy: 0.6667 - val_loss: 0.6976 - val_accuracy: 0.0000e+00\n",
            "Epoch 7/100\n",
            "1/1 [==============================] - ETA: 0s - loss: 0.6839 - accuracy: 0.6667\n",
            "Epoch 7: val_accuracy did not improve from 0.00000\n",
            "1/1 [==============================] - 0s 69ms/step - loss: 0.6839 - accuracy: 0.6667 - val_loss: 0.6984 - val_accuracy: 0.0000e+00\n",
            "Epoch 8/100\n",
            "1/1 [==============================] - ETA: 0s - loss: 0.6831 - accuracy: 0.6667\n",
            "Epoch 8: val_accuracy did not improve from 0.00000\n",
            "1/1 [==============================] - 0s 75ms/step - loss: 0.6831 - accuracy: 0.6667 - val_loss: 0.6991 - val_accuracy: 0.0000e+00\n",
            "Epoch 9/100\n",
            "1/1 [==============================] - ETA: 0s - loss: 0.6822 - accuracy: 0.6667\n",
            "Epoch 9: val_accuracy did not improve from 0.00000\n",
            "1/1 [==============================] - 0s 49ms/step - loss: 0.6822 - accuracy: 0.6667 - val_loss: 0.6998 - val_accuracy: 0.0000e+00\n",
            "Epoch 10/100\n",
            "1/1 [==============================] - ETA: 0s - loss: 0.6814 - accuracy: 0.6667\n",
            "Epoch 10: val_accuracy did not improve from 0.00000\n",
            "1/1 [==============================] - 0s 49ms/step - loss: 0.6814 - accuracy: 0.6667 - val_loss: 0.7005 - val_accuracy: 0.0000e+00\n",
            "Epoch 11/100\n",
            "1/1 [==============================] - ETA: 0s - loss: 0.6805 - accuracy: 0.6667\n",
            "Epoch 11: val_accuracy did not improve from 0.00000\n",
            "1/1 [==============================] - 0s 50ms/step - loss: 0.6805 - accuracy: 0.6667 - val_loss: 0.7011 - val_accuracy: 0.0000e+00\n",
            "Epoch 12/100\n",
            "1/1 [==============================] - ETA: 0s - loss: 0.6796 - accuracy: 0.6667\n",
            "Epoch 12: val_accuracy did not improve from 0.00000\n",
            "1/1 [==============================] - 0s 66ms/step - loss: 0.6796 - accuracy: 0.6667 - val_loss: 0.7018 - val_accuracy: 0.0000e+00\n",
            "Epoch 13/100\n",
            "1/1 [==============================] - ETA: 0s - loss: 0.6788 - accuracy: 0.6667\n",
            "Epoch 13: val_accuracy did not improve from 0.00000\n",
            "1/1 [==============================] - 0s 72ms/step - loss: 0.6788 - accuracy: 0.6667 - val_loss: 0.7024 - val_accuracy: 0.0000e+00\n",
            "Epoch 14/100\n",
            "1/1 [==============================] - ETA: 0s - loss: 0.6779 - accuracy: 0.6667\n",
            "Epoch 14: val_accuracy did not improve from 0.00000\n",
            "1/1 [==============================] - 0s 42ms/step - loss: 0.6779 - accuracy: 0.6667 - val_loss: 0.7031 - val_accuracy: 0.0000e+00\n",
            "Epoch 15/100\n",
            "1/1 [==============================] - ETA: 0s - loss: 0.6771 - accuracy: 0.6667\n",
            "Epoch 15: val_accuracy did not improve from 0.00000\n",
            "1/1 [==============================] - 0s 45ms/step - loss: 0.6771 - accuracy: 0.6667 - val_loss: 0.7037 - val_accuracy: 0.0000e+00\n",
            "Epoch 16/100\n",
            "1/1 [==============================] - ETA: 0s - loss: 0.6762 - accuracy: 0.6667\n",
            "Epoch 16: val_accuracy did not improve from 0.00000\n",
            "1/1 [==============================] - 0s 67ms/step - loss: 0.6762 - accuracy: 0.6667 - val_loss: 0.7044 - val_accuracy: 0.0000e+00\n",
            "Epoch 17/100\n",
            "1/1 [==============================] - ETA: 0s - loss: 0.6753 - accuracy: 0.6667\n",
            "Epoch 17: val_accuracy did not improve from 0.00000\n",
            "1/1 [==============================] - 0s 52ms/step - loss: 0.6753 - accuracy: 0.6667 - val_loss: 0.7051 - val_accuracy: 0.0000e+00\n",
            "Epoch 18/100\n",
            "1/1 [==============================] - ETA: 0s - loss: 0.6744 - accuracy: 0.6667\n",
            "Epoch 18: val_accuracy did not improve from 0.00000\n",
            "1/1 [==============================] - 0s 53ms/step - loss: 0.6744 - accuracy: 0.6667 - val_loss: 0.7057 - val_accuracy: 0.0000e+00\n",
            "Epoch 19/100\n",
            "1/1 [==============================] - ETA: 0s - loss: 0.6735 - accuracy: 0.6667\n",
            "Epoch 19: val_accuracy did not improve from 0.00000\n",
            "1/1 [==============================] - 0s 54ms/step - loss: 0.6735 - accuracy: 0.6667 - val_loss: 0.7066 - val_accuracy: 0.0000e+00\n",
            "Epoch 20/100\n",
            "1/1 [==============================] - ETA: 0s - loss: 0.6725 - accuracy: 0.6667\n",
            "Epoch 20: val_accuracy did not improve from 0.00000\n",
            "1/1 [==============================] - 0s 46ms/step - loss: 0.6725 - accuracy: 0.6667 - val_loss: 0.7073 - val_accuracy: 0.0000e+00\n",
            "Epoch 21/100\n",
            "1/1 [==============================] - ETA: 0s - loss: 0.6715 - accuracy: 0.6667\n",
            "Epoch 21: val_accuracy did not improve from 0.00000\n",
            "1/1 [==============================] - 0s 68ms/step - loss: 0.6715 - accuracy: 0.6667 - val_loss: 0.7083 - val_accuracy: 0.0000e+00\n"
          ]
        }
      ]
    },
    {
      "cell_type": "markdown",
      "metadata": {
        "id": "yu_T_llJVcyA"
      },
      "source": [
        "# 14.4 평가 및 배포 단계"
      ]
    },
    {
      "cell_type": "code",
      "metadata": {
        "colab": {
          "base_uri": "https://localhost:8080/",
          "height": 392
        },
        "id": "DfP_XNNdVcyA",
        "outputId": "42b85138-fdb9-47d3-b621-eced0e29e671"
      },
      "source": [
        "#12. 학습결과 확인\n",
        "import matplotlib.pyplot as plt\n",
        "plt.figure(figsize=(12, 4))\n",
        "\n",
        "plt.subplot(1, 2, 1)\n",
        "plt.plot(history.history['loss'], 'b-', label='loss')\n",
        "plt.plot(history.history['val_loss'], 'r--', label='val_loss')\n",
        "plt.xlabel('Epoch')\n",
        "plt.legend()\n",
        "\n",
        "plt.subplot(1, 2, 2)\n",
        "plt.plot(history.history['accuracy'], 'b-', label='acc')\n",
        "plt.plot(history.history['val_accuracy'], 'r--', label='val_acc')\n",
        "plt.xlabel('Epoch')\n",
        "plt.legend()\n",
        "\n",
        "plt.show()"
      ],
      "execution_count": 83,
      "outputs": [
        {
          "output_type": "display_data",
          "data": {
            "text/plain": [
              "<Figure size 1200x400 with 2 Axes>"
            ],
            "image/png": "[encoded data removed]"
          },
          "metadata": {}
        }
      ]
    },
    {
      "cell_type": "code",
      "metadata": {
        "colab": {
          "base_uri": "https://localhost:8080/"
        },
        "id": "eX3S85P_VcyB",
        "outputId": "d50b7a28-b434-4912-854b-9e35ed29b0f4"
      },
      "source": [
        "#13. 모델 평가\n",
        "model.load_weights(\"sentence_calss.hdf5\")\n",
        "model.evaluate(test_inputs, test_labels)"
      ],
      "execution_count": 84,
      "outputs": [
        {
          "output_type": "stream",
          "name": "stdout",
          "text": [
            "1/1 [==============================] - 0s 27ms/step - loss: 0.6946 - accuracy: 0.5000\n"
          ]
        },
        {
          "output_type": "execute_result",
          "data": {
            "text/plain": [
              "[0.6945995688438416, 0.5]"
            ]
          },
          "metadata": {},
          "execution_count": 84
        }
      ]
    },
    {
      "cell_type": "code",
      "metadata": {
        "id": "TSN2iFJZVcyB"
      },
      "source": [
        "#14. 모델 배포 및 추론 함수 정의\n",
        "model = build_model(args)\n",
        "model.load_weights(\"sentence_calss.hdf5\")\n",
        "\n",
        "def do_predict(vocab_id, id_to_labels, model, string):\n",
        "    n_seq = args.n_seq\n",
        "    tokens = string.split()[:n_seq]\n",
        "    # 입력을 숫자로 변경\n",
        "    infer_input = [vocab_id.get(word, 1) for word in tokens]\n",
        "    print(infer_input)\n",
        "    # numpy array 변환\n",
        "    infer_input += [0] * (n_seq - len(infer_input))\n",
        "    infer_inputs = np.array([infer_input])\n",
        "    print(infer_inputs)\n",
        "    # 부정(0), 긍정(1) 추론\n",
        "    y_preds = model.predict(infer_inputs)\n",
        "    print(y_preds)\n",
        "    # 확률의 max 값을 추론 값으로 결정\n",
        "    y_pred_class = np.argmax(y_preds, axis=-1)[0]\n",
        "    print(y_pred_class)\n",
        "    # print(tokens)\n",
        "    return id_to_labels[y_pred_class]"
      ],
      "execution_count": 85,
      "outputs": []
    },
    {
      "cell_type": "code",
      "metadata": {
        "colab": {
          "base_uri": "https://localhost:8080/"
        },
        "id": "kgGDRtFfjC-L",
        "outputId": "664d77e1-94b0-4222-f149-af11ec425200"
      },
      "source": [
        "print(vocab_id)\n",
        "print(id_to_labels)"
      ],
      "execution_count": 86,
      "outputs": [
        {
          "output_type": "stream",
          "name": "stdout",
          "text": [
            "{'[PAD]': 0, '[UNK]': 1, '신차': 2, '정말': 3, '좋아요': 4, '속도감': 5, '너무': 6, '안좋아': 7, '디자인': 8, '연비': 9, '엉터리로': 10, '개발했네요': 11, '디자인도': 12, '이쁘고': 13, '연비도': 14, '좋아서': 15, '비용절감': 16, '효과도': 17, '있어요': 18, '최대출력': 19, '도달하는': 20, '시간이': 21, '많이': 22, '걸리네요': 23}\n",
            "{0: '부정', 1: '긍정'}\n"
          ]
        }
      ]
    },
    {
      "cell_type": "code",
      "metadata": {
        "colab": {
          "base_uri": "https://localhost:8080/",
          "height": 122
        },
        "id": "cf9651-yhkLS",
        "outputId": "39ee48cb-9b68-4e12-b899-2682dc06b227"
      },
      "source": [
        "#15 새로운 데이터 입력  및 예측\n",
        "string = '신차 정말 디자인 엉터리로'\n",
        "do_predict(vocab_id, id_to_labels, model, string)"
      ],
      "execution_count": 87,
      "outputs": [
        {
          "output_type": "stream",
          "name": "stdout",
          "text": [
            "[2, 3, 8, 10]\n",
            "[[ 2  3  8 10  0  0]]\n",
            "1/1 [==============================] - 0s 61ms/step\n",
            "[[0.50033665 0.49966335]]\n",
            "0\n"
          ]
        },
        {
          "output_type": "execute_result",
          "data": {
            "text/plain": [
              "'부정'"
            ],
            "application/vnd.google.colaboratory.intrinsic+json": {
              "type": "string"
            }
          },
          "metadata": {},
          "execution_count": 87
        }
      ]
    },
    {
      "cell_type": "code",
      "metadata": {
        "colab": {
          "base_uri": "https://localhost:8080/"
        },
        "id": "RIupLhvxelxP",
        "outputId": "7ee8a50c-9e2d-47b1-843d-3149eee35e6b"
      },
      "source": [
        "#16. 대화형으로 배포\n",
        "# 예) 신차 연비 좋아요, 엉터리로 개발했네요 등\n",
        "while True:\n",
        "    print('input >> ', end='')\n",
        "    string = input()\n",
        "    string = string.strip()\n",
        "    if not string:\n",
        "        break\n",
        "    result = do_predict(vocab_id, id_to_labels, model, string)\n",
        "    print(result)"
      ],
      "execution_count": 88,
      "outputs": [
        {
          "name": "stdout",
          "output_type": "stream",
          "text": [
            "input >> 신차 연비 좋아요\n",
            "[2, 9, 4]\n",
            "[[2 9 4 0 0 0]]\n",
            "1/1 [==============================] - 0s 21ms/step\n",
            "[[0.49573037 0.50426966]]\n",
            "1\n",
            "긍정\n",
            "input >> 엉터리로 개발했네요\n",
            "[10, 11]\n",
            "[[10 11  0  0  0  0]]\n",
            "1/1 [==============================] - 0s 23ms/step\n",
            "[[0.5001561  0.49984396]]\n",
            "0\n",
            "부정\n",
            "input >> \n"
          ]
        }
      ]
    },
    {
      "cell_type": "code",
      "metadata": {
        "id": "Xg7oAoNjWf1W"
      },
      "source": [],
      "execution_count": 88,
      "outputs": []
    }
  ]
}