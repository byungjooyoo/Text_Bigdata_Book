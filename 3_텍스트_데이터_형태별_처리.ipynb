{
  "nbformat": 4,
  "nbformat_minor": 0,
  "metadata": {
    "colab": {
      "provenance": [],
      "collapsed_sections": [
        "Uiw_U1-W28rn"
      ],
      "toc_visible": true
    },
    "kernelspec": {
      "name": "python3",
      "display_name": "Python 3"
    },
    "language_info": {
      "name": "python"
    }
  },
  "cells": [
    {
      "cell_type": "markdown",
      "source": [
        "# 3.1 텍스트 파일 저장하고 읽기"
      ],
      "metadata": {
        "id": "AZvUnSrZy8CI"
      }
    },
    {
      "cell_type": "code",
      "execution_count": null,
      "metadata": {
        "colab": {
          "base_uri": "https://localhost:8080/"
        },
        "id": "E6ob_ZT-ynuE",
        "outputId": "b765f6e5-ae8c-420c-db93-38426ecff976"
      },
      "outputs": [
        {
          "output_type": "stream",
          "name": "stdout",
          "text": [
            "텍스트를 저장하고 읽어오기를 실습하고 있습니다.\n"
          ]
        }
      ],
      "source": [
        "with open(\"sample.txt\", 'w') as f:\n",
        "    f.write('텍스트를 저장하고 읽어오기를 실습하고 있습니다.')\n",
        "\n",
        "with open(\"sample.txt\", 'r') as f:\n",
        "    data = f.read()\n",
        "print(data)"
      ]
    },
    {
      "cell_type": "code",
      "source": [
        "with open(\"line.txt\", 'w') as f:\n",
        "    for i in range(1, 4):\n",
        "        data = \"%d번째 줄입니다.\\n\" % i\n",
        "        f.write(data)\n",
        "\n",
        "with open(\"line.txt\", 'r') as f:\n",
        "    while True:\n",
        "        line = f.readline()\n",
        "        print(line)\n",
        "        if not line: break"
      ],
      "metadata": {
        "id": "O1Ozio6Jy5Yc",
        "colab": {
          "base_uri": "https://localhost:8080/"
        },
        "outputId": "6ef14791-76a6-4282-846d-e7a6b5221a8e"
      },
      "execution_count": null,
      "outputs": [
        {
          "output_type": "stream",
          "name": "stdout",
          "text": [
            "1번째 줄입니다.\n",
            "\n",
            "2번째 줄입니다.\n",
            "\n",
            "3번째 줄입니다.\n",
            "\n",
            "\n"
          ]
        }
      ]
    },
    {
      "cell_type": "code",
      "source": [
        "data = {\n",
        "    '이름':['김한국', '박대한', '홍길동'],\n",
        "    '국어성적':[80, 75, 90],\n",
        "    '영어성적':[90, 95, 75]\n",
        "}\n",
        "import pandas as pd\n",
        "df = pd.DataFrame(data)\n",
        "df.to_csv('csv.txt', sep=',')\n",
        "\n",
        "import pandas as pd\n",
        "df = pd.read_csv('csv.txt', index_col = 0)\n",
        "df"
      ],
      "metadata": {
        "colab": {
          "base_uri": "https://localhost:8080/",
          "height": 143
        },
        "id": "_TR1Hy-w0D4b",
        "outputId": "e777e30f-a105-498f-855f-9cf471a2931a"
      },
      "execution_count": null,
      "outputs": [
        {
          "output_type": "execute_result",
          "data": {
            "text/html": [
              "\n",
              "  <div id=\"df-59d11cca-057f-469b-b479-18b8562a20ba\">\n",
              "    <div class=\"colab-df-container\">\n",
              "      <div>\n",
              "<style scoped>\n",
              "    .dataframe tbody tr th:only-of-type {\n",
              "        vertical-align: middle;\n",
              "    }\n",
              "\n",
              "    .dataframe tbody tr th {\n",
              "        vertical-align: top;\n",
              "    }\n",
              "\n",
              "    .dataframe thead th {\n",
              "        text-align: right;\n",
              "    }\n",
              "</style>\n",
              "<table border=\"1\" class=\"dataframe\">\n",
              "  <thead>\n",
              "    <tr style=\"text-align: right;\">\n",
              "      <th></th>\n",
              "      <th>이름</th>\n",
              "      <th>국어성적</th>\n",
              "      <th>영어성적</th>\n",
              "    </tr>\n",
              "  </thead>\n",
              "  <tbody>\n",
              "    <tr>\n",
              "      <th>0</th>\n",
              "      <td>김한국</td>\n",
              "      <td>80</td>\n",
              "      <td>90</td>\n",
              "    </tr>\n",
              "    <tr>\n",
              "      <th>1</th>\n",
              "      <td>박대한</td>\n",
              "      <td>75</td>\n",
              "      <td>95</td>\n",
              "    </tr>\n",
              "    <tr>\n",
              "      <th>2</th>\n",
              "      <td>홍길동</td>\n",
              "      <td>90</td>\n",
              "      <td>75</td>\n",
              "    </tr>\n",
              "  </tbody>\n",
              "</table>\n",
              "</div>\n",
              "      <button class=\"colab-df-convert\" onclick=\"convertToInteractive('df-59d11cca-057f-469b-b479-18b8562a20ba')\"\n",
              "              title=\"Convert this dataframe to an interactive table.\"\n",
              "              style=\"display:none;\">\n",
              "        \n",
              "  <svg xmlns=\"http://www.w3.org/2000/svg\" height=\"24px\"viewBox=\"0 0 24 24\"\n",
              "       width=\"24px\">\n",
              "    <path d=\"M0 0h24v24H0V0z\" fill=\"none\"/>\n",
              "    <path d=\"M18.56 5.44l.94 2.06.94-2.06 2.06-.94-2.06-.94-.94-2.06-.94 2.06-2.06.94zm-11 1L8.5 8.5l.94-2.06 2.06-.94-2.06-.94L8.5 2.5l-.94 2.06-2.06.94zm10 10l.94 2.06.94-2.06 2.06-.94-2.06-.94-.94-2.06-.94 2.06-2.06.94z\"/><path d=\"M17.41 7.96l-1.37-1.37c-.4-.4-.92-.59-1.43-.59-.52 0-1.04.2-1.43.59L10.3 9.45l-7.72 7.72c-.78.78-.78 2.05 0 2.83L4 21.41c.39.39.9.59 1.41.59.51 0 1.02-.2 1.41-.59l7.78-7.78 2.81-2.81c.8-.78.8-2.07 0-2.86zM5.41 20L4 18.59l7.72-7.72 1.47 1.35L5.41 20z\"/>\n",
              "  </svg>\n",
              "      </button>\n",
              "      \n",
              "  <style>\n",
              "    .colab-df-container {\n",
              "      display:flex;\n",
              "      flex-wrap:wrap;\n",
              "      gap: 12px;\n",
              "    }\n",
              "\n",
              "    .colab-df-convert {\n",
              "      background-color: #E8F0FE;\n",
              "      border: none;\n",
              "      border-radius: 50%;\n",
              "      cursor: pointer;\n",
              "      display: none;\n",
              "      fill: #1967D2;\n",
              "      height: 32px;\n",
              "      padding: 0 0 0 0;\n",
              "      width: 32px;\n",
              "    }\n",
              "\n",
              "    .colab-df-convert:hover {\n",
              "      background-color: #E2EBFA;\n",
              "      box-shadow: 0px 1px 2px rgba(60, 64, 67, 0.3), 0px 1px 3px 1px rgba(60, 64, 67, 0.15);\n",
              "      fill: #174EA6;\n",
              "    }\n",
              "\n",
              "    [theme=dark] .colab-df-convert {\n",
              "      background-color: #3B4455;\n",
              "      fill: #D2E3FC;\n",
              "    }\n",
              "\n",
              "    [theme=dark] .colab-df-convert:hover {\n",
              "      background-color: #434B5C;\n",
              "      box-shadow: 0px 1px 3px 1px rgba(0, 0, 0, 0.15);\n",
              "      filter: drop-shadow(0px 1px 2px rgba(0, 0, 0, 0.3));\n",
              "      fill: #FFFFFF;\n",
              "    }\n",
              "  </style>\n",
              "\n",
              "      <script>\n",
              "        const buttonEl =\n",
              "          document.querySelector('#df-59d11cca-057f-469b-b479-18b8562a20ba button.colab-df-convert');\n",
              "        buttonEl.style.display =\n",
              "          google.colab.kernel.accessAllowed ? 'block' : 'none';\n",
              "\n",
              "        async function convertToInteractive(key) {\n",
              "          const element = document.querySelector('#df-59d11cca-057f-469b-b479-18b8562a20ba');\n",
              "          const dataTable =\n",
              "            await google.colab.kernel.invokeFunction('convertToInteractive',\n",
              "                                                     [key], {});\n",
              "          if (!dataTable) return;\n",
              "\n",
              "          const docLinkHtml = 'Like what you see? Visit the ' +\n",
              "            '<a target=\"_blank\" href=https://colab.research.google.com/notebooks/data_table.ipynb>data table notebook</a>'\n",
              "            + ' to learn more about interactive tables.';\n",
              "          element.innerHTML = '';\n",
              "          dataTable['output_type'] = 'display_data';\n",
              "          await google.colab.output.renderOutput(dataTable, element);\n",
              "          const docLink = document.createElement('div');\n",
              "          docLink.innerHTML = docLinkHtml;\n",
              "          element.appendChild(docLink);\n",
              "        }\n",
              "      </script>\n",
              "    </div>\n",
              "  </div>\n",
              "  "
            ],
            "text/plain": [
              "    이름  국어성적  영어성적\n",
              "0  김한국    80    90\n",
              "1  박대한    75    95\n",
              "2  홍길동    90    75"
            ]
          },
          "metadata": {},
          "execution_count": 5
        }
      ]
    },
    {
      "cell_type": "markdown",
      "source": [
        "# 3.2 텍스트 CSV 데이터 저장 및 읽기 "
      ],
      "metadata": {
        "id": "Uiw_U1-W28rn"
      }
    },
    {
      "cell_type": "code",
      "source": [
        "# 저장하기 \n",
        "import csv    \n",
        "with open('test.csv', 'w') as f:\n",
        "    data = csv.writer(f)\n",
        "    data.writerow([\"김민국\", 15, '남자', '서울시 서대문구 신촌동'])\n",
        "    data.writerow([\"박한솔\", 30, '여자', '서울시 용산구 서빙고동'])"
      ],
      "metadata": {
        "id": "QtdECtPF0SAt"
      },
      "execution_count": null,
      "outputs": []
    },
    {
      "cell_type": "code",
      "source": [
        "# CSV 읽어오기 \n",
        "with open(\"test.csv\", \"r\") as f:\n",
        "  data = csv.reader(f)\n",
        "  test=[]\n",
        "  for row in data:\n",
        "    test.append(row)\n",
        "test"
      ],
      "metadata": {
        "colab": {
          "base_uri": "https://localhost:8080/"
        },
        "id": "BNNWuM4d3Cem",
        "outputId": "c33ef4c3-9964-4968-cb47-5e7fb2f41e50"
      },
      "execution_count": null,
      "outputs": [
        {
          "output_type": "execute_result",
          "data": {
            "text/plain": [
              "[['김민국', '15', '남자', '서울시 서대문구 신촌동'], ['박한솔', '30', '여자', '서울시 용산구 서빙고동']]"
            ]
          },
          "metadata": {},
          "execution_count": 8
        }
      ]
    },
    {
      "cell_type": "code",
      "source": [
        "#CSV 판다스로 읽어오기 \n",
        "import pandas as pd\n",
        "colnames=['Name', 'Age', 'Gender', 'Add'] \n",
        "df = pd.read_csv('test.csv', names=colnames, header=None)\n",
        "df.to_csv('a.csv',header=None, index = False)\n",
        "df"
      ],
      "metadata": {
        "colab": {
          "base_uri": "https://localhost:8080/"
        },
        "id": "JwmaihGQ3HUM",
        "outputId": "b2960533-147f-4e67-b193-7b99746dda5a"
      },
      "execution_count": null,
      "outputs": [
        {
          "output_type": "execute_result",
          "data": {
            "text/html": [
              "\n",
              "  <div id=\"df-4063e457-7d49-4446-b362-3e371d55beee\">\n",
              "    <div class=\"colab-df-container\">\n",
              "      <div>\n",
              "<style scoped>\n",
              "    .dataframe tbody tr th:only-of-type {\n",
              "        vertical-align: middle;\n",
              "    }\n",
              "\n",
              "    .dataframe tbody tr th {\n",
              "        vertical-align: top;\n",
              "    }\n",
              "\n",
              "    .dataframe thead th {\n",
              "        text-align: right;\n",
              "    }\n",
              "</style>\n",
              "<table border=\"1\" class=\"dataframe\">\n",
              "  <thead>\n",
              "    <tr style=\"text-align: right;\">\n",
              "      <th></th>\n",
              "      <th>Name</th>\n",
              "      <th>Age</th>\n",
              "      <th>Gender</th>\n",
              "      <th>Add</th>\n",
              "    </tr>\n",
              "  </thead>\n",
              "  <tbody>\n",
              "    <tr>\n",
              "      <th>0</th>\n",
              "      <td>김민국</td>\n",
              "      <td>15</td>\n",
              "      <td>남자</td>\n",
              "      <td>서울시 서대문구 신촌동</td>\n",
              "    </tr>\n",
              "    <tr>\n",
              "      <th>1</th>\n",
              "      <td>박한솔</td>\n",
              "      <td>30</td>\n",
              "      <td>여자</td>\n",
              "      <td>서울시 용산구 서빙고동</td>\n",
              "    </tr>\n",
              "  </tbody>\n",
              "</table>\n",
              "</div>\n",
              "      <button class=\"colab-df-convert\" onclick=\"convertToInteractive('df-4063e457-7d49-4446-b362-3e371d55beee')\"\n",
              "              title=\"Convert this dataframe to an interactive table.\"\n",
              "              style=\"display:none;\">\n",
              "        \n",
              "  <svg xmlns=\"http://www.w3.org/2000/svg\" height=\"24px\"viewBox=\"0 0 24 24\"\n",
              "       width=\"24px\">\n",
              "    <path d=\"M0 0h24v24H0V0z\" fill=\"none\"/>\n",
              "    <path d=\"M18.56 5.44l.94 2.06.94-2.06 2.06-.94-2.06-.94-.94-2.06-.94 2.06-2.06.94zm-11 1L8.5 8.5l.94-2.06 2.06-.94-2.06-.94L8.5 2.5l-.94 2.06-2.06.94zm10 10l.94 2.06.94-2.06 2.06-.94-2.06-.94-.94-2.06-.94 2.06-2.06.94z\"/><path d=\"M17.41 7.96l-1.37-1.37c-.4-.4-.92-.59-1.43-.59-.52 0-1.04.2-1.43.59L10.3 9.45l-7.72 7.72c-.78.78-.78 2.05 0 2.83L4 21.41c.39.39.9.59 1.41.59.51 0 1.02-.2 1.41-.59l7.78-7.78 2.81-2.81c.8-.78.8-2.07 0-2.86zM5.41 20L4 18.59l7.72-7.72 1.47 1.35L5.41 20z\"/>\n",
              "  </svg>\n",
              "      </button>\n",
              "      \n",
              "  <style>\n",
              "    .colab-df-container {\n",
              "      display:flex;\n",
              "      flex-wrap:wrap;\n",
              "      gap: 12px;\n",
              "    }\n",
              "\n",
              "    .colab-df-convert {\n",
              "      background-color: #E8F0FE;\n",
              "      border: none;\n",
              "      border-radius: 50%;\n",
              "      cursor: pointer;\n",
              "      display: none;\n",
              "      fill: #1967D2;\n",
              "      height: 32px;\n",
              "      padding: 0 0 0 0;\n",
              "      width: 32px;\n",
              "    }\n",
              "\n",
              "    .colab-df-convert:hover {\n",
              "      background-color: #E2EBFA;\n",
              "      box-shadow: 0px 1px 2px rgba(60, 64, 67, 0.3), 0px 1px 3px 1px rgba(60, 64, 67, 0.15);\n",
              "      fill: #174EA6;\n",
              "    }\n",
              "\n",
              "    [theme=dark] .colab-df-convert {\n",
              "      background-color: #3B4455;\n",
              "      fill: #D2E3FC;\n",
              "    }\n",
              "\n",
              "    [theme=dark] .colab-df-convert:hover {\n",
              "      background-color: #434B5C;\n",
              "      box-shadow: 0px 1px 3px 1px rgba(0, 0, 0, 0.15);\n",
              "      filter: drop-shadow(0px 1px 2px rgba(0, 0, 0, 0.3));\n",
              "      fill: #FFFFFF;\n",
              "    }\n",
              "  </style>\n",
              "\n",
              "      <script>\n",
              "        const buttonEl =\n",
              "          document.querySelector('#df-4063e457-7d49-4446-b362-3e371d55beee button.colab-df-convert');\n",
              "        buttonEl.style.display =\n",
              "          google.colab.kernel.accessAllowed ? 'block' : 'none';\n",
              "\n",
              "        async function convertToInteractive(key) {\n",
              "          const element = document.querySelector('#df-4063e457-7d49-4446-b362-3e371d55beee');\n",
              "          const dataTable =\n",
              "            await google.colab.kernel.invokeFunction('convertToInteractive',\n",
              "                                                     [key], {});\n",
              "          if (!dataTable) return;\n",
              "\n",
              "          const docLinkHtml = 'Like what you see? Visit the ' +\n",
              "            '<a target=\"_blank\" href=https://colab.research.google.com/notebooks/data_table.ipynb>data table notebook</a>'\n",
              "            + ' to learn more about interactive tables.';\n",
              "          element.innerHTML = '';\n",
              "          dataTable['output_type'] = 'display_data';\n",
              "          await google.colab.output.renderOutput(dataTable, element);\n",
              "          const docLink = document.createElement('div');\n",
              "          docLink.innerHTML = docLinkHtml;\n",
              "          element.appendChild(docLink);\n",
              "        }\n",
              "      </script>\n",
              "    </div>\n",
              "  </div>\n",
              "  "
            ],
            "text/plain": [
              "  Name  Age Gender           Add\n",
              "0  김민국   15     남자  서울시 서대문구 신촌동\n",
              "1  박한솔   30     여자  서울시 용산구 서빙고동"
            ]
          },
          "metadata": {},
          "execution_count": 9
        }
      ]
    },
    {
      "cell_type": "markdown",
      "source": [
        "# 3.3 텍스트 JSON 데이터 저장 및 읽기 "
      ],
      "metadata": {
        "id": "R6lu-Etg518I"
      }
    },
    {
      "cell_type": "code",
      "source": [
        "import json\n",
        "admin={\n",
        "    'mysql' : { \"id\" :\"mysql\", \"pass\" : \"12345\" },\n",
        "    'naver_api':{\n",
        "        'id': 'my_naver_id',\n",
        "        'pass': \"12345\" },\n",
        "    'tweeter': {\n",
        "        'api_key' : 'your_tweeter_key',\n",
        "        'api_secret' : 'your_tweeter_secret',\n",
        "        'token_key' : 'your_token_key',\n",
        "        'token_secret' : 'your_token_secret' },\n",
        "    }\n",
        "\n",
        "with open('admin_ex.json', 'w') as f:\n",
        "    json.dump(admin, f)"
      ],
      "metadata": {
        "id": "WNRRjpQa57SL"
      },
      "execution_count": null,
      "outputs": []
    },
    {
      "cell_type": "code",
      "source": [
        "with open('admin_ex.json','r') as f:\n",
        "    s=f.read()\n",
        "    admin = json.loads(s)\n",
        "    admin1= json.loads(s)['tweeter']\n",
        "\n",
        "print(s)\n",
        "print(json.dumps(admin, indent= 4))\n",
        "print(admin['tweeter']['api_key'])\n",
        "print(admin1['api_key'], admin1['api_secret'])\n",
        "print(admin1['token_key'], admin1['token_secret'])"
      ],
      "metadata": {
        "colab": {
          "base_uri": "https://localhost:8080/"
        },
        "id": "6qngYuYb6e91",
        "outputId": "3385e595-94ab-409a-b1bd-97e6e5268273"
      },
      "execution_count": null,
      "outputs": [
        {
          "output_type": "stream",
          "name": "stdout",
          "text": [
            "{\"mysql\": {\"mysql_user\": \"user\", \"mysql_pass\": \"12345\"}, \"naver_api\": {\"id\": \"your_naver_id\", \"pass\": \"your_naver_pass\"}, \"tweeter\": {\"api_key\": \"your_tweeter_key\", \"api_secret\": \"your_tweeter_secret\", \"token_key\": \"your_token_key\", \"token_secret\": \"your_token_secret\"}}\n",
            "{\n",
            "    \"mysql\": {\n",
            "        \"mysql_user\": \"user\",\n",
            "        \"mysql_pass\": \"12345\"\n",
            "    },\n",
            "    \"naver_api\": {\n",
            "        \"id\": \"your_naver_id\",\n",
            "        \"pass\": \"your_naver_pass\"\n",
            "    },\n",
            "    \"tweeter\": {\n",
            "        \"api_key\": \"your_tweeter_key\",\n",
            "        \"api_secret\": \"your_tweeter_secret\",\n",
            "        \"token_key\": \"your_token_key\",\n",
            "        \"token_secret\": \"your_token_secret\"\n",
            "    }\n",
            "}\n",
            "your_tweeter_key\n",
            "your_tweeter_key your_tweeter_secret\n",
            "your_token_key your_token_secret\n"
          ]
        }
      ]
    },
    {
      "cell_type": "code",
      "source": [
        "import json\n",
        "import pandas as pd\n",
        "df = pd.json_normalize(admin['mysql'])\n",
        "json_csv = df.to_csv()\n",
        "print(json_csv)\n",
        "df"
      ],
      "metadata": {
        "colab": {
          "base_uri": "https://localhost:8080/",
          "height": 133
        },
        "id": "Nj02SyaH7Ffh",
        "outputId": "cfbdce33-f01d-4701-a43f-46c83aed43d5"
      },
      "execution_count": null,
      "outputs": [
        {
          "output_type": "stream",
          "name": "stdout",
          "text": [
            ",mysql_user,mysql_pass\n",
            "0,user,12345\n",
            "\n"
          ]
        },
        {
          "output_type": "execute_result",
          "data": {
            "text/html": [
              "\n",
              "  <div id=\"df-fd2e8d92-0c19-4b83-b01f-d8669d619fb5\">\n",
              "    <div class=\"colab-df-container\">\n",
              "      <div>\n",
              "<style scoped>\n",
              "    .dataframe tbody tr th:only-of-type {\n",
              "        vertical-align: middle;\n",
              "    }\n",
              "\n",
              "    .dataframe tbody tr th {\n",
              "        vertical-align: top;\n",
              "    }\n",
              "\n",
              "    .dataframe thead th {\n",
              "        text-align: right;\n",
              "    }\n",
              "</style>\n",
              "<table border=\"1\" class=\"dataframe\">\n",
              "  <thead>\n",
              "    <tr style=\"text-align: right;\">\n",
              "      <th></th>\n",
              "      <th>mysql_user</th>\n",
              "      <th>mysql_pass</th>\n",
              "    </tr>\n",
              "  </thead>\n",
              "  <tbody>\n",
              "    <tr>\n",
              "      <th>0</th>\n",
              "      <td>user</td>\n",
              "      <td>12345</td>\n",
              "    </tr>\n",
              "  </tbody>\n",
              "</table>\n",
              "</div>\n",
              "      <button class=\"colab-df-convert\" onclick=\"convertToInteractive('df-fd2e8d92-0c19-4b83-b01f-d8669d619fb5')\"\n",
              "              title=\"Convert this dataframe to an interactive table.\"\n",
              "              style=\"display:none;\">\n",
              "        \n",
              "  <svg xmlns=\"http://www.w3.org/2000/svg\" height=\"24px\"viewBox=\"0 0 24 24\"\n",
              "       width=\"24px\">\n",
              "    <path d=\"M0 0h24v24H0V0z\" fill=\"none\"/>\n",
              "    <path d=\"M18.56 5.44l.94 2.06.94-2.06 2.06-.94-2.06-.94-.94-2.06-.94 2.06-2.06.94zm-11 1L8.5 8.5l.94-2.06 2.06-.94-2.06-.94L8.5 2.5l-.94 2.06-2.06.94zm10 10l.94 2.06.94-2.06 2.06-.94-2.06-.94-.94-2.06-.94 2.06-2.06.94z\"/><path d=\"M17.41 7.96l-1.37-1.37c-.4-.4-.92-.59-1.43-.59-.52 0-1.04.2-1.43.59L10.3 9.45l-7.72 7.72c-.78.78-.78 2.05 0 2.83L4 21.41c.39.39.9.59 1.41.59.51 0 1.02-.2 1.41-.59l7.78-7.78 2.81-2.81c.8-.78.8-2.07 0-2.86zM5.41 20L4 18.59l7.72-7.72 1.47 1.35L5.41 20z\"/>\n",
              "  </svg>\n",
              "      </button>\n",
              "      \n",
              "  <style>\n",
              "    .colab-df-container {\n",
              "      display:flex;\n",
              "      flex-wrap:wrap;\n",
              "      gap: 12px;\n",
              "    }\n",
              "\n",
              "    .colab-df-convert {\n",
              "      background-color: #E8F0FE;\n",
              "      border: none;\n",
              "      border-radius: 50%;\n",
              "      cursor: pointer;\n",
              "      display: none;\n",
              "      fill: #1967D2;\n",
              "      height: 32px;\n",
              "      padding: 0 0 0 0;\n",
              "      width: 32px;\n",
              "    }\n",
              "\n",
              "    .colab-df-convert:hover {\n",
              "      background-color: #E2EBFA;\n",
              "      box-shadow: 0px 1px 2px rgba(60, 64, 67, 0.3), 0px 1px 3px 1px rgba(60, 64, 67, 0.15);\n",
              "      fill: #174EA6;\n",
              "    }\n",
              "\n",
              "    [theme=dark] .colab-df-convert {\n",
              "      background-color: #3B4455;\n",
              "      fill: #D2E3FC;\n",
              "    }\n",
              "\n",
              "    [theme=dark] .colab-df-convert:hover {\n",
              "      background-color: #434B5C;\n",
              "      box-shadow: 0px 1px 3px 1px rgba(0, 0, 0, 0.15);\n",
              "      filter: drop-shadow(0px 1px 2px rgba(0, 0, 0, 0.3));\n",
              "      fill: #FFFFFF;\n",
              "    }\n",
              "  </style>\n",
              "\n",
              "      <script>\n",
              "        const buttonEl =\n",
              "          document.querySelector('#df-fd2e8d92-0c19-4b83-b01f-d8669d619fb5 button.colab-df-convert');\n",
              "        buttonEl.style.display =\n",
              "          google.colab.kernel.accessAllowed ? 'block' : 'none';\n",
              "\n",
              "        async function convertToInteractive(key) {\n",
              "          const element = document.querySelector('#df-fd2e8d92-0c19-4b83-b01f-d8669d619fb5');\n",
              "          const dataTable =\n",
              "            await google.colab.kernel.invokeFunction('convertToInteractive',\n",
              "                                                     [key], {});\n",
              "          if (!dataTable) return;\n",
              "\n",
              "          const docLinkHtml = 'Like what you see? Visit the ' +\n",
              "            '<a target=\"_blank\" href=https://colab.research.google.com/notebooks/data_table.ipynb>data table notebook</a>'\n",
              "            + ' to learn more about interactive tables.';\n",
              "          element.innerHTML = '';\n",
              "          dataTable['output_type'] = 'display_data';\n",
              "          await google.colab.output.renderOutput(dataTable, element);\n",
              "          const docLink = document.createElement('div');\n",
              "          docLink.innerHTML = docLinkHtml;\n",
              "          element.appendChild(docLink);\n",
              "        }\n",
              "      </script>\n",
              "    </div>\n",
              "  </div>\n",
              "  "
            ],
            "text/plain": [
              "  mysql_user mysql_pass\n",
              "0       user      12345"
            ]
          },
          "metadata": {},
          "execution_count": 13
        }
      ]
    },
    {
      "cell_type": "markdown",
      "source": [
        "# 3.4 텍스트 XML 데이터 저장 및 읽기 "
      ],
      "metadata": {
        "id": "yHHYxGQAANfR"
      }
    },
    {
      "cell_type": "code",
      "source": [
        "%%writefile test_xml\n",
        "<?xml version=\"1.0\" encoding=\"utf-8\"?>\n",
        "<world>\n",
        "\t<people name='김민국'>\n",
        "\t\t<age>15</age>\n",
        "\t\t<tall>183cm</tall>\n",
        "\t\t<add>'서울시 서대문구'</add>\n",
        "\t</people>\n",
        "\t<people name='박한솔' >\n",
        "\t\t<age>30</age>\n",
        "\t\t<tall>175cm</tall>\n",
        "\t\t<add>'서울시 용산구'</add>\n",
        "\t</people>\n",
        "</world>"
      ],
      "metadata": {
        "colab": {
          "base_uri": "https://localhost:8080/"
        },
        "id": "NjvnWg-Y9B1f",
        "outputId": "0c28f17a-f9eb-48c0-f404-ec5bea73cb4c"
      },
      "execution_count": null,
      "outputs": [
        {
          "output_type": "stream",
          "name": "stdout",
          "text": [
            "Writing test_xml\n"
          ]
        }
      ]
    },
    {
      "cell_type": "code",
      "source": [
        "import xml.etree.ElementTree as ET\n",
        "tree = ET.parse('test_xml')\n",
        "root = tree.getroot()\n",
        "print(root.tag)\n",
        "for child in root:\n",
        "    print(child.tag, child.attrib)\n",
        "\n",
        "for add in root.iter('add'):\n",
        "    print(add.text)"
      ],
      "metadata": {
        "colab": {
          "base_uri": "https://localhost:8080/"
        },
        "id": "tGcl2j0UAQRu",
        "outputId": "a7df79c3-8203-4dd0-97da-0b48e6e90c3c"
      },
      "execution_count": null,
      "outputs": [
        {
          "output_type": "stream",
          "name": "stdout",
          "text": [
            "world\n",
            "people {'name': '김민국'}\n",
            "people {'name': '박한솔'}\n",
            "'서울시 서대문구'\n",
            "'서울시 용산구'\n"
          ]
        }
      ]
    },
    {
      "cell_type": "code",
      "source": [
        "from bs4 import BeautifulSoup as bs\n",
        "with open(\"test_xml\", 'r') as f:\n",
        "    xml_doc = f.read()\n",
        "soup = bs(xml_doc, 'lxml')\n",
        "for row in soup.find_all('people'):\n",
        "    print(row.get('name'))\n",
        "    print(row.find('age').text)\n",
        "    print(row.find('tall').text)\n",
        "    print(row.find('add').text) "
      ],
      "metadata": {
        "colab": {
          "base_uri": "https://localhost:8080/"
        },
        "id": "GBCixr-xAThb",
        "outputId": "77098b34-6362-457c-d429-c84be728edc2"
      },
      "execution_count": null,
      "outputs": [
        {
          "output_type": "stream",
          "name": "stdout",
          "text": [
            "김민국\n",
            "15\n",
            "183cm\n",
            "'서울시 서대문구'\n",
            "박한솔\n",
            "30\n",
            "175cm\n",
            "'서울시 용산구'\n"
          ]
        }
      ]
    },
    {
      "cell_type": "code",
      "source": [
        "import pandas as pd \n",
        "df_cols=['Name','Age', 'Tall','Add']\n",
        "rows=[]\n",
        "for node in root:\n",
        "   s_name=node.attrib.get(\"name\")\n",
        "   s_age=node.find(\"age\").text if node is not None else None\n",
        "   s_tall=node.find(\"tall\").text if node is not None else None\n",
        "   s_add=node.find(\"add\").text if node is not None else None\n",
        "   rows.append({\"Name\":s_name, \"Age\":s_age, 'Tall':s_tall, \"Add\" : s_add})\n",
        "\n",
        "df=pd.DataFrame(rows, columns=df_cols) \n",
        "df"
      ],
      "metadata": {
        "colab": {
          "base_uri": "https://localhost:8080/",
          "height": 112
        },
        "id": "6QHxVvsFBxeI",
        "outputId": "ecbca843-5f29-4448-db5e-c230104f0bde"
      },
      "execution_count": null,
      "outputs": [
        {
          "output_type": "execute_result",
          "data": {
            "text/html": [
              "\n",
              "  <div id=\"df-926627ef-7431-46d4-9d26-520bd3c4d1f6\">\n",
              "    <div class=\"colab-df-container\">\n",
              "      <div>\n",
              "<style scoped>\n",
              "    .dataframe tbody tr th:only-of-type {\n",
              "        vertical-align: middle;\n",
              "    }\n",
              "\n",
              "    .dataframe tbody tr th {\n",
              "        vertical-align: top;\n",
              "    }\n",
              "\n",
              "    .dataframe thead th {\n",
              "        text-align: right;\n",
              "    }\n",
              "</style>\n",
              "<table border=\"1\" class=\"dataframe\">\n",
              "  <thead>\n",
              "    <tr style=\"text-align: right;\">\n",
              "      <th></th>\n",
              "      <th>Name</th>\n",
              "      <th>Age</th>\n",
              "      <th>Tall</th>\n",
              "      <th>Add</th>\n",
              "    </tr>\n",
              "  </thead>\n",
              "  <tbody>\n",
              "    <tr>\n",
              "      <th>0</th>\n",
              "      <td>김민국</td>\n",
              "      <td>15</td>\n",
              "      <td>183cm</td>\n",
              "      <td>'서울시 서대문구'</td>\n",
              "    </tr>\n",
              "    <tr>\n",
              "      <th>1</th>\n",
              "      <td>박한솔</td>\n",
              "      <td>30</td>\n",
              "      <td>175cm</td>\n",
              "      <td>'서울시 용산구'</td>\n",
              "    </tr>\n",
              "  </tbody>\n",
              "</table>\n",
              "</div>\n",
              "      <button class=\"colab-df-convert\" onclick=\"convertToInteractive('df-926627ef-7431-46d4-9d26-520bd3c4d1f6')\"\n",
              "              title=\"Convert this dataframe to an interactive table.\"\n",
              "              style=\"display:none;\">\n",
              "        \n",
              "  <svg xmlns=\"http://www.w3.org/2000/svg\" height=\"24px\"viewBox=\"0 0 24 24\"\n",
              "       width=\"24px\">\n",
              "    <path d=\"M0 0h24v24H0V0z\" fill=\"none\"/>\n",
              "    <path d=\"M18.56 5.44l.94 2.06.94-2.06 2.06-.94-2.06-.94-.94-2.06-.94 2.06-2.06.94zm-11 1L8.5 8.5l.94-2.06 2.06-.94-2.06-.94L8.5 2.5l-.94 2.06-2.06.94zm10 10l.94 2.06.94-2.06 2.06-.94-2.06-.94-.94-2.06-.94 2.06-2.06.94z\"/><path d=\"M17.41 7.96l-1.37-1.37c-.4-.4-.92-.59-1.43-.59-.52 0-1.04.2-1.43.59L10.3 9.45l-7.72 7.72c-.78.78-.78 2.05 0 2.83L4 21.41c.39.39.9.59 1.41.59.51 0 1.02-.2 1.41-.59l7.78-7.78 2.81-2.81c.8-.78.8-2.07 0-2.86zM5.41 20L4 18.59l7.72-7.72 1.47 1.35L5.41 20z\"/>\n",
              "  </svg>\n",
              "      </button>\n",
              "      \n",
              "  <style>\n",
              "    .colab-df-container {\n",
              "      display:flex;\n",
              "      flex-wrap:wrap;\n",
              "      gap: 12px;\n",
              "    }\n",
              "\n",
              "    .colab-df-convert {\n",
              "      background-color: #E8F0FE;\n",
              "      border: none;\n",
              "      border-radius: 50%;\n",
              "      cursor: pointer;\n",
              "      display: none;\n",
              "      fill: #1967D2;\n",
              "      height: 32px;\n",
              "      padding: 0 0 0 0;\n",
              "      width: 32px;\n",
              "    }\n",
              "\n",
              "    .colab-df-convert:hover {\n",
              "      background-color: #E2EBFA;\n",
              "      box-shadow: 0px 1px 2px rgba(60, 64, 67, 0.3), 0px 1px 3px 1px rgba(60, 64, 67, 0.15);\n",
              "      fill: #174EA6;\n",
              "    }\n",
              "\n",
              "    [theme=dark] .colab-df-convert {\n",
              "      background-color: #3B4455;\n",
              "      fill: #D2E3FC;\n",
              "    }\n",
              "\n",
              "    [theme=dark] .colab-df-convert:hover {\n",
              "      background-color: #434B5C;\n",
              "      box-shadow: 0px 1px 3px 1px rgba(0, 0, 0, 0.15);\n",
              "      filter: drop-shadow(0px 1px 2px rgba(0, 0, 0, 0.3));\n",
              "      fill: #FFFFFF;\n",
              "    }\n",
              "  </style>\n",
              "\n",
              "      <script>\n",
              "        const buttonEl =\n",
              "          document.querySelector('#df-926627ef-7431-46d4-9d26-520bd3c4d1f6 button.colab-df-convert');\n",
              "        buttonEl.style.display =\n",
              "          google.colab.kernel.accessAllowed ? 'block' : 'none';\n",
              "\n",
              "        async function convertToInteractive(key) {\n",
              "          const element = document.querySelector('#df-926627ef-7431-46d4-9d26-520bd3c4d1f6');\n",
              "          const dataTable =\n",
              "            await google.colab.kernel.invokeFunction('convertToInteractive',\n",
              "                                                     [key], {});\n",
              "          if (!dataTable) return;\n",
              "\n",
              "          const docLinkHtml = 'Like what you see? Visit the ' +\n",
              "            '<a target=\"_blank\" href=https://colab.research.google.com/notebooks/data_table.ipynb>data table notebook</a>'\n",
              "            + ' to learn more about interactive tables.';\n",
              "          element.innerHTML = '';\n",
              "          dataTable['output_type'] = 'display_data';\n",
              "          await google.colab.output.renderOutput(dataTable, element);\n",
              "          const docLink = document.createElement('div');\n",
              "          docLink.innerHTML = docLinkHtml;\n",
              "          element.appendChild(docLink);\n",
              "        }\n",
              "      </script>\n",
              "    </div>\n",
              "  </div>\n",
              "  "
            ],
            "text/plain": [
              "  Name Age   Tall         Add\n",
              "0  김민국  15  183cm  '서울시 서대문구'\n",
              "1  박한솔  30  175cm   '서울시 용산구'"
            ]
          },
          "metadata": {},
          "execution_count": 32
        }
      ]
    },
    {
      "cell_type": "markdown",
      "source": [
        "# 3.5 PDF 또는 HWP 파일을 텍스트 파일로 변환하기"
      ],
      "metadata": {
        "id": "LrZWWjbLzxK1"
      }
    },
    {
      "cell_type": "code",
      "source": [
        "# 라이브러리 설치 및 pdf 파일 다운로드\n",
        "!pip install PyPDF2\n",
        "!wget https://github.com/byungjooyoo/Dataset/raw/main/DR2020_1.pdf"
      ],
      "metadata": {
        "colab": {
          "base_uri": "https://localhost:8080/"
        },
        "id": "M1y4FBMAzt2S",
        "outputId": "18a96471-f098-4966-fc8e-e2d44770b98e"
      },
      "execution_count": 1,
      "outputs": [
        {
          "output_type": "stream",
          "name": "stdout",
          "text": [
            "Looking in indexes: https://pypi.org/simple, https://us-python.pkg.dev/colab-wheels/public/simple/\n",
            "Collecting PyPDF2\n",
            "  Downloading pypdf2-2.12.1-py3-none-any.whl (222 kB)\n",
            "\u001b[K     |████████████████████████████████| 222 kB 5.2 MB/s \n",
            "\u001b[?25hRequirement already satisfied: typing_extensions>=3.10.0.0 in /usr/local/lib/python3.8/dist-packages (from PyPDF2) (4.4.0)\n",
            "Installing collected packages: PyPDF2\n",
            "Successfully installed PyPDF2-2.12.1\n",
            "--2022-12-18 05:58:27--  https://github.com/byungjooyoo/Dataset/raw/main/DR2020_1.pdf\n",
            "Resolving github.com (github.com)... 140.82.114.3\n",
            "Connecting to github.com (github.com)|140.82.114.3|:443... connected.\n",
            "HTTP request sent, awaiting response... 302 Found\n",
            "Location: https://raw.githubusercontent.com/byungjooyoo/Dataset/main/DR2020_1.pdf [following]\n",
            "--2022-12-18 05:58:27--  https://raw.githubusercontent.com/byungjooyoo/Dataset/main/DR2020_1.pdf\n",
            "Resolving raw.githubusercontent.com (raw.githubusercontent.com)... 185.199.108.133, 185.199.109.133, 185.199.110.133, ...\n",
            "Connecting to raw.githubusercontent.com (raw.githubusercontent.com)|185.199.108.133|:443... connected.\n",
            "HTTP request sent, awaiting response... 200 OK\n",
            "Length: 267513 (261K) [application/octet-stream]\n",
            "Saving to: ‘DR2020_1.pdf’\n",
            "\n",
            "DR2020_1.pdf        100%[===================>] 261.24K  --.-KB/s    in 0.03s   \n",
            "\n",
            "2022-12-18 05:58:27 (8.16 MB/s) - ‘DR2020_1.pdf’ saved [267513/267513]\n",
            "\n"
          ]
        }
      ]
    },
    {
      "cell_type": "code",
      "source": [
        "# 특정 페이지 출력\n",
        "import PyPDF2\n",
        "pdfReader = PyPDF2.PdfFileReader(\"DR2020_1.pdf\")\n",
        "print(\" No. Of Pages :\", pdfReader.numPages)\n",
        "pageObject = pdfReader.getPage(2)\n",
        "print(pageObject.extractText())"
      ],
      "metadata": {
        "colab": {
          "base_uri": "https://localhost:8080/"
        },
        "id": "YcMnqBzdz8HH",
        "outputId": "73d6d67f-ed9b-43b2-b508-e99f71cac69a"
      },
      "execution_count": 2,
      "outputs": [
        {
          "output_type": "stream",
          "name": "stdout",
          "text": [
            " No. Of Pages : 6\n",
            "발간사\n",
            "최근 우리의 대내외 안보상황은 매우 복잡하고 엄중합니다. 한반도의 주변국들은 \n",
            "자국 우선주의를 내세우며 첨단 군사력을 지속적으로 확충해 나가고 있으며, 해상과 \n",
            "공중은 물론 우주· 사이버 등으로 군사영역을 확장하고 있습니다. 또한 코로나19, 재\n",
            "난, 테러 등 초국가적 · 비군사적 위협들이 국가안보의 도전 요인으로 대두되고 있습니\n",
            "다. 특히 코로나19의 확산, 미중 간 전략적 경쟁 등으로 역내 안보구도의 유동성과 불\n",
            "확실성은 더욱 증대되고 있습니다.\n",
            "한편 북한은 2018년 「9· 19 군사합의」를 체결한 이후 남북관계 개선 의지를 보이면서\n",
            "도 우리 정부와 국제사회의 평화정착 노력에 적극적으로 호응하지 않고 있습니다. \n",
            "이러한 안보상황의 도전 속에서 우리 군은 ‘강한 힘’과 굳건한 한미동맹을 기반으로 확\n",
            "고한 군사대비태세를 유지한 가운데, ‘국민을 위한 군’으로서 역할과 책임을 다하여 ‘강\n",
            "한 안보, 자랑스러운 군, 함께하는 국방’을 건설할 수 있도록 최선을 다하고 있습니다.\n",
            "우리 군은 국지도발 및 전면전에 대응할 수 있는 연합방위태세와 군사대비태세를 \n",
            "유지하고 있으며, 전투임무 위주의 실전적 교육훈련을 강화하고 있습니다. 또한 코로\n",
            "나19에 선제적이고 적극적으로 대응함으로써 국민의 생명과 안전을 지키는 군 본연의 \n",
            "임무를 충실히 수행해 왔습니다. \n",
            "한미동맹은 한반도 및 역내 평화· 번영의 핵심축으로, 공동의 가치를 공유하는 포괄\n",
            "적 전략동맹으로 지속 발전해 나가고 있습니다. 양국 군은 앞으로도 전시작전통제권 \n",
            "전환과 새로운 연합방위체제 구축을 추진하면서 한미동맹의 한 단계 더 높은 도약을 \n",
            "준비해 나갈 것입니다. 그리고 우리 군은 주변국과의 전략적 국방교류협력과 국방외교 \n",
            "대상의 다변화를 통해 국방교류협력의 내실화와 외연 확대를 추진하고 있으며, 향후\n",
            "에도 적극적 국방외교 활동을 통해 세계 평화에 이바지할 것입니다.\n",
            "우리 군은 미래 전장환경에 맞는 국방역량을 구축하고 있습니다. 다양한 핵 · 대량\n",
            "살상무기 위협에 대한 우리 군 및 한미연합의 능력을 강화하고 있으며, 핵심군사능력\n",
            "을 중심으로 주요 전력을 증강하고 있습니다. 그리고 「국방개혁 2.0」과 스마트 국방혁\n",
            "신 추진을 통해 첨단과학 기술군으로 거듭나기 위해 노력하고 있습니다. 우리 군의 구\n"
          ]
        }
      ]
    },
    {
      "cell_type": "code",
      "source": [
        "#자료 통합\n",
        "total = ''\n",
        "for i in range(pdfReader.numPages):\n",
        "    data = pdfReader.getPage(i).extractText()\n",
        "    total += data\n",
        "print(total[:1000])"
      ],
      "metadata": {
        "colab": {
          "base_uri": "https://localhost:8080/"
        },
        "id": "xu9SFzSm0Hbb",
        "outputId": "62ca1217-30aa-4e0e-8d0c-387e6ed0d7d3"
      },
      "execution_count": 3,
      "outputs": [
        {
          "output_type": "stream",
          "name": "stdout",
          "text": [
            "발간등록번호 \n",
            "11-1290000-000440-11발간사\n",
            "최근 우리의 대내외 안보상황은 매우 복잡하고 엄중합니다. 한반도의 주변국들은 \n",
            "자국 우선주의를 내세우며 첨단 군사력을 지속적으로 확충해 나가고 있으며, 해상과 \n",
            "공중은 물론 우주· 사이버 등으로 군사영역을 확장하고 있습니다. 또한 코로나19, 재\n",
            "난, 테러 등 초국가적 · 비군사적 위협들이 국가안보의 도전 요인으로 대두되고 있습니\n",
            "다. 특히 코로나19의 확산, 미중 간 전략적 경쟁 등으로 역내 안보구도의 유동성과 불\n",
            "확실성은 더욱 증대되고 있습니다.\n",
            "한편 북한은 2018년 「9· 19 군사합의」를 체결한 이후 남북관계 개선 의지를 보이면서\n",
            "도 우리 정부와 국제사회의 평화정착 노력에 적극적으로 호응하지 않고 있습니다. \n",
            "이러한 안보상황의 도전 속에서 우리 군은 ‘강한 힘’과 굳건한 한미동맹을 기반으로 확\n",
            "고한 군사대비태세를 유지한 가운데, ‘국민을 위한 군’으로서 역할과 책임을 다하여 ‘강\n",
            "한 안보, 자랑스러운 군, 함께하는 국방’을 건설할 수 있도록 최선을 다하고 있습니다.\n",
            "우리 군은 국지도발 및 전면전에 대응할 수 있는 연합방위태세와 군사대비태세를 \n",
            "유지하고 있으며, 전투임무 위주의 실전적 교육훈련을 강화하고 있습니다. 또한 코로\n",
            "나19에 선제적이고 적극적으로 대응함으로써 국민의 생명과 안전을 지키는 군 본연의 \n",
            "임무를 충실히 수행해 왔습니다. \n",
            "한미동맹은 한반도 및 역내 평화· 번영의 핵심축으로, 공동의 가치를 공유하는 포괄\n",
            "적 전략동맹으로 지속 발전해 나가고 있습니다. 양국 군은 앞으로도 전시작전통제권 \n",
            "전환과 새로운 연합방위체제 구축을 추진하면서 한미동맹의 한 단계 더 높은 도약을 \n",
            "준비해 나갈 것입니다. 그리고 우리 군은 주변국과의 전략적 국방교류협력과 국방외교 \n",
            "대상의 다변화를 통해 국방교류협력의 내실화와 외연 확대를 추진하고 있으며, 향후\n",
            "에도 적극적 국방외교 활동을 통해 세계 평화에 이바지할 것입니다.\n",
            "우리 군은 미래 전장환경에 맞는 국방역량을 구축하고 있습니다. 다양한 핵 · 대량\n",
            "살상무\n"
          ]
        }
      ]
    },
    {
      "cell_type": "code",
      "source": [
        "# 텍스트 파일로 저장\n",
        "with open('DR2020_1.txt', 'w') as f:\n",
        "    f.write(total)"
      ],
      "metadata": {
        "id": "5RyPgEGb0K2P"
      },
      "execution_count": 4,
      "outputs": []
    },
    {
      "cell_type": "code",
      "source": [
        "# 한글 파일 다운로드 \n",
        "!pip install olefile\n",
        "!wget https://github.com/byungjooyoo/Dataset/raw/main/%EB%85%BC%EB%AC%B8%EC%9A%94%EC%95%BD.hwp"
      ],
      "metadata": {
        "colab": {
          "base_uri": "https://localhost:8080/"
        },
        "id": "v8pO5Ue00dXj",
        "outputId": "70cc38bf-9643-452a-80a3-0a5d25f2e2ad"
      },
      "execution_count": 5,
      "outputs": [
        {
          "output_type": "stream",
          "name": "stdout",
          "text": [
            "Looking in indexes: https://pypi.org/simple, https://us-python.pkg.dev/colab-wheels/public/simple/\n",
            "Collecting olefile\n",
            "  Downloading olefile-0.46.zip (112 kB)\n",
            "\u001b[K     |████████████████████████████████| 112 kB 4.9 MB/s \n",
            "\u001b[?25hBuilding wheels for collected packages: olefile\n",
            "  Building wheel for olefile (setup.py) ... \u001b[?25l\u001b[?25hdone\n",
            "  Created wheel for olefile: filename=olefile-0.46-py2.py3-none-any.whl size=35430 sha256=3ffb917256cabfdf83c3b088192f00d50b2f53901f48f5f0cdb89d9c92f16935\n",
            "  Stored in directory: /root/.cache/pip/wheels/0b/d8/16/1e2d32ad7455728b8af9efdb9d2a0c3d03cd8f2e4be0191b8c\n",
            "Successfully built olefile\n",
            "Installing collected packages: olefile\n",
            "Successfully installed olefile-0.46\n",
            "--2022-12-18 06:00:51--  https://github.com/byungjooyoo/Dataset/raw/main/%EB%85%BC%EB%AC%B8%EC%9A%94%EC%95%BD.hwp\n",
            "Resolving github.com (github.com)... 140.82.114.3\n",
            "Connecting to github.com (github.com)|140.82.114.3|:443... connected.\n",
            "HTTP request sent, awaiting response... 302 Found\n",
            "Location: https://raw.githubusercontent.com/byungjooyoo/Dataset/main/%EB%85%BC%EB%AC%B8%EC%9A%94%EC%95%BD.hwp [following]\n",
            "--2022-12-18 06:00:51--  https://raw.githubusercontent.com/byungjooyoo/Dataset/main/%EB%85%BC%EB%AC%B8%EC%9A%94%EC%95%BD.hwp\n",
            "Resolving raw.githubusercontent.com (raw.githubusercontent.com)... 185.199.108.133, 185.199.110.133, 185.199.111.133, ...\n",
            "Connecting to raw.githubusercontent.com (raw.githubusercontent.com)|185.199.108.133|:443... connected.\n",
            "HTTP request sent, awaiting response... 200 OK\n",
            "Length: 110080 (108K) [application/octet-stream]\n",
            "Saving to: ‘논문요약.hwp’\n",
            "\n",
            "논문요약.hwp        100%[===================>] 107.50K  --.-KB/s    in 0.02s   \n",
            "\n",
            "2022-12-18 06:00:52 (4.99 MB/s) - ‘논문요약.hwp’ saved [110080/110080]\n",
            "\n"
          ]
        }
      ]
    },
    {
      "cell_type": "code",
      "source": [
        "import olefile\n",
        "f = olefile.OleFileIO('논문요약.hwp')  \n",
        "encoded_text = f.openstream('PrvText').read() \n",
        "decoded_text = encoded_text.decode('utf-16')  \n",
        "decoded_text"
      ],
      "metadata": {
        "colab": {
          "base_uri": "https://localhost:8080/",
          "height": 140
        },
        "id": "jeyhH8Ho0kGu",
        "outputId": "4763c50c-6ee2-4d44-aa40-53a98f687f11"
      },
      "execution_count": 6,
      "outputs": [
        {
          "output_type": "execute_result",
          "data": {
            "text/plain": [
              "'MCMC를 이용한 선형전투모형의 베이지안 추론 사례\\r\\n(Bayesian Inference for the Linear Combat Model by using MCMC)\\r\\n유병주1†\\r\\n(Byung Joo Yoo)\\r\\n\\r\\nABSTRACT\\r\\n  As a way of predicting the future combat by analyzing past combat data, a method of fitting and analyzing the linear combat model may be considered. If two kinds of data differ historically from each other, it is difficult to fit into a single linear combat model due to violation of model assumptions. Two data of the same time can be applied to one model such as by using the dummy variable. but in this case, it is difficult to construct one model because it is two heterogeneous data with different ages. To solve this problem, Bayesian inference method using MCMC is proposed. After deriving the posterior distribution based on the noninformative prior and the previous period data, it is used as an informative prior for obtaining the final posterior distribution based on the next period data, then can predict the future combat by generating the posterior predictive distribution. I'"
            ],
            "application/vnd.google.colaboratory.intrinsic+json": {
              "type": "string"
            }
          },
          "metadata": {},
          "execution_count": 6
        }
      ]
    },
    {
      "cell_type": "code",
      "source": [
        "with open(\"result.txt\", 'w') as f:\n",
        "    f.write(decoded_text)"
      ],
      "metadata": {
        "id": "mW61-3zg0oKB"
      },
      "execution_count": 7,
      "outputs": []
    },
    {
      "cell_type": "code",
      "source": [
        "# pyhwp로 변환하기\n",
        "!pip install pyhwp\n",
        "!hwp5txt --version\n",
        "!hwp5txt --output \"result1.txt\" \"논문요약.hwp\""
      ],
      "metadata": {
        "colab": {
          "base_uri": "https://localhost:8080/"
        },
        "id": "6SmM4xp70wcp",
        "outputId": "d0be70bc-8c59-40d4-e6fd-baa756edfe0a"
      },
      "execution_count": 8,
      "outputs": [
        {
          "output_type": "stream",
          "name": "stdout",
          "text": [
            "Looking in indexes: https://pypi.org/simple, https://us-python.pkg.dev/colab-wheels/public/simple/\n",
            "Collecting pyhwp\n",
            "  Downloading pyhwp-0.1b15.tar.gz (218 kB)\n",
            "\u001b[K     |████████████████████████████████| 218 kB 5.1 MB/s \n",
            "\u001b[?25hCollecting cryptography\n",
            "  Downloading cryptography-38.0.4-cp36-abi3-manylinux_2_24_x86_64.whl (4.0 MB)\n",
            "\u001b[K     |████████████████████████████████| 4.0 MB 55.1 MB/s \n",
            "\u001b[?25hRequirement already satisfied: lxml in /usr/local/lib/python3.8/dist-packages (from pyhwp) (4.9.2)\n",
            "Requirement already satisfied: olefile>=0.43 in /usr/local/lib/python3.8/dist-packages (from pyhwp) (0.46)\n",
            "Requirement already satisfied: cffi>=1.12 in /usr/local/lib/python3.8/dist-packages (from cryptography->pyhwp) (1.15.1)\n",
            "Requirement already satisfied: pycparser in /usr/local/lib/python3.8/dist-packages (from cffi>=1.12->cryptography->pyhwp) (2.21)\n",
            "Building wheels for collected packages: pyhwp\n",
            "  Building wheel for pyhwp (setup.py) ... \u001b[?25l\u001b[?25hdone\n",
            "  Created wheel for pyhwp: filename=pyhwp-0.1b15-py3-none-any.whl size=315469 sha256=b30954092fc37ba375b06fc36953faa404d29bf991f19093c2f0da87709ddfd3\n",
            "  Stored in directory: /root/.cache/pip/wheels/00/f7/4d/ec5a2f465cb6f781c5582214b334756e0e033fd51e2e0fc040\n",
            "Successfully built pyhwp\n",
            "Installing collected packages: cryptography, pyhwp\n",
            "Successfully installed cryptography-38.0.4 pyhwp-0.1b15\n",
            "hwp5txt\n",
            "0.1b15\n"
          ]
        }
      ]
    },
    {
      "cell_type": "code",
      "source": [
        "# 변환된 데이터 확인\n",
        "with open(\"result1.txt\", 'r') as f:\n",
        "    data = f.read()\n",
        "print(data)"
      ],
      "metadata": {
        "colab": {
          "base_uri": "https://localhost:8080/"
        },
        "id": "ZF1Z-feE1Hbd",
        "outputId": "bdd41655-d3f5-408c-bc6d-d9ab28205c5f"
      },
      "execution_count": 9,
      "outputs": [
        {
          "output_type": "stream",
          "name": "stdout",
          "text": [
            "MCMC를 이용한 선형전투모형의 베이지안 추론 사례1) (주)심네트 R&D 및 V&V연구소\n",
            "교신저자 : bjyoo@korea.ac.kr\n",
            "\n",
            "(Bayesian Inference for the Linear Combat Model by using MCMC)\n",
            "유병주1†\n",
            "(Byung Joo Yoo)\n",
            "\n",
            "ABSTRACT\n",
            "  As a way of predicting the future combat by analyzing past combat data, a method of fitting and analyzing the linear combat model may be considered. If two kinds of data differ historically from each other, it is difficult to fit into a single linear combat model due to violation of model assumptions. Two data of the same time can be applied to one model such as by using the dummy variable. but in this case, it is difficult to construct one model because it is two heterogeneous data with different ages. To solve this problem, Bayesian inference method using MCMC is proposed. After deriving the posterior distribution based on the noninformative prior and the previous period data, it is used as an informative prior for obtaining the final posterior distribution based on the next period data, then can predict the future combat by generating the posterior predictive distribution. In particular, it is important to use the results of simulation sampling data under special conditions using the MCMC method to infer the posterior or posterior predictive distribution. In this case, it is possible to utilize various information rather than analyzing it with the classic linear combat model, and also has the advantage of continuously updating the model by reflecting additionally acquired data in the future.\n",
            "\n",
            "\n",
            "Key Words : MCMC(Markov Chain Monte Carlo), Bayesian Inference, Linear Combat Model, \n",
            "            Posterior Distribution, Posterior Predictive Distribution\n",
            "\n",
            "요  약   \n",
            "  과거의 전투결과를 분석하여 미래에 있을 전투를 예측하기 위한 방법으로 선형전투모형을 적용하는 방법이 고려될 수 있다. 그러나 역사적으로 시대가 다른 두 유형의 자료들이라면 모형의 가정사항 위반으로 하나의 선형전투모형으로 적합하기는 어렵다. 동시대의 2가지 자료라면 Dummy 변수를 적용하는 등의 방법으로 하나의 모형으로 적합시킬 수 있지만 이 논문에서 다루는 자료의 경우에는 서로 시대가 다른 이질적인 두 가지 자료이기 때문에 하나의 모형으로 통합하기는 어렵다. 이러한 문제를 해결하기 위해 MCMC를 이용한 베이지안 추론 방법을 제안하였다. 제안한 방법은 앞선 시대에 있는 자료를 비정보적 사전분포를 가정하여 사후분포를 구하고 이를 다음 시대에 얻은 자료를 분석하기 위한 사전분포로 활용하여 최종 사후분포를 추론하고, 이를 이용하여 사후예측분포를 얻어 미래를 예측하는 방법이다. 특히 MCMC 방법을 사용하여 특별한 조건 하에 시뮬레이션하여 샘플링한 결과를 이용하여 사후분포나 사후예측분포를 몬테칼를로 방법으로 추론할 수 있다는 점이 중요하다. 이렇게 했을 때 고전적인 선형전투모형으로 분석하는 것보다 다양한 정보를 활용할 수 있을 뿐만 아니라 향후 추가적으로 획득되는 자료도 모형에 반영하여 모형을 계속 업데이트시킬 수 있는 장점이 있다. \n",
            "\n",
            "주요어 : 베이지안 추론, 마코프 체인 몬테 칼로, 선형전투모형, 사후분포, 사후예측분포\n",
            "\n"
          ]
        }
      ]
    },
    {
      "cell_type": "markdown",
      "source": [
        "# 3.6 텍스트 데이터를 판다스 데이터프레임으로 정리하기 "
      ],
      "metadata": {
        "id": "zJ6SpqOXHOIM"
      }
    },
    {
      "cell_type": "code",
      "source": [
        "import json\n",
        "import pandas as pd\n",
        "df = pd.json_normalize(admin['mysql'])\n",
        "df"
      ],
      "metadata": {
        "colab": {
          "base_uri": "https://localhost:8080/",
          "height": 81
        },
        "id": "a7AKPb2aGUM2",
        "outputId": "cfc16380-15e5-4d74-afca-19a857c65726"
      },
      "execution_count": null,
      "outputs": [
        {
          "output_type": "execute_result",
          "data": {
            "text/html": [
              "\n",
              "  <div id=\"df-68af5d3d-bd9c-49d0-9c9c-dd9aec56b733\">\n",
              "    <div class=\"colab-df-container\">\n",
              "      <div>\n",
              "<style scoped>\n",
              "    .dataframe tbody tr th:only-of-type {\n",
              "        vertical-align: middle;\n",
              "    }\n",
              "\n",
              "    .dataframe tbody tr th {\n",
              "        vertical-align: top;\n",
              "    }\n",
              "\n",
              "    .dataframe thead th {\n",
              "        text-align: right;\n",
              "    }\n",
              "</style>\n",
              "<table border=\"1\" class=\"dataframe\">\n",
              "  <thead>\n",
              "    <tr style=\"text-align: right;\">\n",
              "      <th></th>\n",
              "      <th>mysql_user</th>\n",
              "      <th>mysql_pass</th>\n",
              "    </tr>\n",
              "  </thead>\n",
              "  <tbody>\n",
              "    <tr>\n",
              "      <th>0</th>\n",
              "      <td>user</td>\n",
              "      <td>12345</td>\n",
              "    </tr>\n",
              "  </tbody>\n",
              "</table>\n",
              "</div>\n",
              "      <button class=\"colab-df-convert\" onclick=\"convertToInteractive('df-68af5d3d-bd9c-49d0-9c9c-dd9aec56b733')\"\n",
              "              title=\"Convert this dataframe to an interactive table.\"\n",
              "              style=\"display:none;\">\n",
              "        \n",
              "  <svg xmlns=\"http://www.w3.org/2000/svg\" height=\"24px\"viewBox=\"0 0 24 24\"\n",
              "       width=\"24px\">\n",
              "    <path d=\"M0 0h24v24H0V0z\" fill=\"none\"/>\n",
              "    <path d=\"M18.56 5.44l.94 2.06.94-2.06 2.06-.94-2.06-.94-.94-2.06-.94 2.06-2.06.94zm-11 1L8.5 8.5l.94-2.06 2.06-.94-2.06-.94L8.5 2.5l-.94 2.06-2.06.94zm10 10l.94 2.06.94-2.06 2.06-.94-2.06-.94-.94-2.06-.94 2.06-2.06.94z\"/><path d=\"M17.41 7.96l-1.37-1.37c-.4-.4-.92-.59-1.43-.59-.52 0-1.04.2-1.43.59L10.3 9.45l-7.72 7.72c-.78.78-.78 2.05 0 2.83L4 21.41c.39.39.9.59 1.41.59.51 0 1.02-.2 1.41-.59l7.78-7.78 2.81-2.81c.8-.78.8-2.07 0-2.86zM5.41 20L4 18.59l7.72-7.72 1.47 1.35L5.41 20z\"/>\n",
              "  </svg>\n",
              "      </button>\n",
              "      \n",
              "  <style>\n",
              "    .colab-df-container {\n",
              "      display:flex;\n",
              "      flex-wrap:wrap;\n",
              "      gap: 12px;\n",
              "    }\n",
              "\n",
              "    .colab-df-convert {\n",
              "      background-color: #E8F0FE;\n",
              "      border: none;\n",
              "      border-radius: 50%;\n",
              "      cursor: pointer;\n",
              "      display: none;\n",
              "      fill: #1967D2;\n",
              "      height: 32px;\n",
              "      padding: 0 0 0 0;\n",
              "      width: 32px;\n",
              "    }\n",
              "\n",
              "    .colab-df-convert:hover {\n",
              "      background-color: #E2EBFA;\n",
              "      box-shadow: 0px 1px 2px rgba(60, 64, 67, 0.3), 0px 1px 3px 1px rgba(60, 64, 67, 0.15);\n",
              "      fill: #174EA6;\n",
              "    }\n",
              "\n",
              "    [theme=dark] .colab-df-convert {\n",
              "      background-color: #3B4455;\n",
              "      fill: #D2E3FC;\n",
              "    }\n",
              "\n",
              "    [theme=dark] .colab-df-convert:hover {\n",
              "      background-color: #434B5C;\n",
              "      box-shadow: 0px 1px 3px 1px rgba(0, 0, 0, 0.15);\n",
              "      filter: drop-shadow(0px 1px 2px rgba(0, 0, 0, 0.3));\n",
              "      fill: #FFFFFF;\n",
              "    }\n",
              "  </style>\n",
              "\n",
              "      <script>\n",
              "        const buttonEl =\n",
              "          document.querySelector('#df-68af5d3d-bd9c-49d0-9c9c-dd9aec56b733 button.colab-df-convert');\n",
              "        buttonEl.style.display =\n",
              "          google.colab.kernel.accessAllowed ? 'block' : 'none';\n",
              "\n",
              "        async function convertToInteractive(key) {\n",
              "          const element = document.querySelector('#df-68af5d3d-bd9c-49d0-9c9c-dd9aec56b733');\n",
              "          const dataTable =\n",
              "            await google.colab.kernel.invokeFunction('convertToInteractive',\n",
              "                                                     [key], {});\n",
              "          if (!dataTable) return;\n",
              "\n",
              "          const docLinkHtml = 'Like what you see? Visit the ' +\n",
              "            '<a target=\"_blank\" href=https://colab.research.google.com/notebooks/data_table.ipynb>data table notebook</a>'\n",
              "            + ' to learn more about interactive tables.';\n",
              "          element.innerHTML = '';\n",
              "          dataTable['output_type'] = 'display_data';\n",
              "          await google.colab.output.renderOutput(dataTable, element);\n",
              "          const docLink = document.createElement('div');\n",
              "          docLink.innerHTML = docLinkHtml;\n",
              "          element.appendChild(docLink);\n",
              "        }\n",
              "      </script>\n",
              "    </div>\n",
              "  </div>\n",
              "  "
            ],
            "text/plain": [
              "  mysql_user mysql_pass\n",
              "0       user      12345"
            ]
          },
          "metadata": {},
          "execution_count": 34
        }
      ]
    },
    {
      "cell_type": "code",
      "source": [
        "from bs4 import BeautifulSoup as bs\n",
        "with open(\"test_xml\", 'r') as f:\n",
        "    xml_doc = f.read()\n",
        "soup = bs(xml_doc, 'lxml')\n",
        "df_cols=['Name','Age', 'Tall','Add']\n",
        "rows=[]\n",
        "for row in soup.find_all('people'):\n",
        "    s_name=row.get('name')\n",
        "    s_age=row.find('age').text\n",
        "    s_tall=row.find('tall').text\n",
        "    s_add=row.find('add').text \n",
        "    rows.append({\"Name\":s_name, \"Age\":s_age, 'Tall':s_tall, \"Add\" : s_add})\n",
        "    \n",
        "df=pd.DataFrame(rows, columns=df_cols) \n",
        "df"
      ],
      "metadata": {
        "colab": {
          "base_uri": "https://localhost:8080/",
          "height": 112
        },
        "id": "cui-0n_cL5wZ",
        "outputId": "4dfb6fac-557b-41c2-b1ef-79375ff37f2f"
      },
      "execution_count": null,
      "outputs": [
        {
          "output_type": "execute_result",
          "data": {
            "text/html": [
              "\n",
              "  <div id=\"df-92b4af93-61ff-4298-9fe3-eb94a49d5d1b\">\n",
              "    <div class=\"colab-df-container\">\n",
              "      <div>\n",
              "<style scoped>\n",
              "    .dataframe tbody tr th:only-of-type {\n",
              "        vertical-align: middle;\n",
              "    }\n",
              "\n",
              "    .dataframe tbody tr th {\n",
              "        vertical-align: top;\n",
              "    }\n",
              "\n",
              "    .dataframe thead th {\n",
              "        text-align: right;\n",
              "    }\n",
              "</style>\n",
              "<table border=\"1\" class=\"dataframe\">\n",
              "  <thead>\n",
              "    <tr style=\"text-align: right;\">\n",
              "      <th></th>\n",
              "      <th>Name</th>\n",
              "      <th>Age</th>\n",
              "      <th>Tall</th>\n",
              "      <th>Add</th>\n",
              "    </tr>\n",
              "  </thead>\n",
              "  <tbody>\n",
              "    <tr>\n",
              "      <th>0</th>\n",
              "      <td>김민국</td>\n",
              "      <td>15</td>\n",
              "      <td>183cm</td>\n",
              "      <td>'서울시 서대문구'</td>\n",
              "    </tr>\n",
              "    <tr>\n",
              "      <th>1</th>\n",
              "      <td>박한솔</td>\n",
              "      <td>30</td>\n",
              "      <td>175cm</td>\n",
              "      <td>'서울시 용산구'</td>\n",
              "    </tr>\n",
              "  </tbody>\n",
              "</table>\n",
              "</div>\n",
              "      <button class=\"colab-df-convert\" onclick=\"convertToInteractive('df-92b4af93-61ff-4298-9fe3-eb94a49d5d1b')\"\n",
              "              title=\"Convert this dataframe to an interactive table.\"\n",
              "              style=\"display:none;\">\n",
              "        \n",
              "  <svg xmlns=\"http://www.w3.org/2000/svg\" height=\"24px\"viewBox=\"0 0 24 24\"\n",
              "       width=\"24px\">\n",
              "    <path d=\"M0 0h24v24H0V0z\" fill=\"none\"/>\n",
              "    <path d=\"M18.56 5.44l.94 2.06.94-2.06 2.06-.94-2.06-.94-.94-2.06-.94 2.06-2.06.94zm-11 1L8.5 8.5l.94-2.06 2.06-.94-2.06-.94L8.5 2.5l-.94 2.06-2.06.94zm10 10l.94 2.06.94-2.06 2.06-.94-2.06-.94-.94-2.06-.94 2.06-2.06.94z\"/><path d=\"M17.41 7.96l-1.37-1.37c-.4-.4-.92-.59-1.43-.59-.52 0-1.04.2-1.43.59L10.3 9.45l-7.72 7.72c-.78.78-.78 2.05 0 2.83L4 21.41c.39.39.9.59 1.41.59.51 0 1.02-.2 1.41-.59l7.78-7.78 2.81-2.81c.8-.78.8-2.07 0-2.86zM5.41 20L4 18.59l7.72-7.72 1.47 1.35L5.41 20z\"/>\n",
              "  </svg>\n",
              "      </button>\n",
              "      \n",
              "  <style>\n",
              "    .colab-df-container {\n",
              "      display:flex;\n",
              "      flex-wrap:wrap;\n",
              "      gap: 12px;\n",
              "    }\n",
              "\n",
              "    .colab-df-convert {\n",
              "      background-color: #E8F0FE;\n",
              "      border: none;\n",
              "      border-radius: 50%;\n",
              "      cursor: pointer;\n",
              "      display: none;\n",
              "      fill: #1967D2;\n",
              "      height: 32px;\n",
              "      padding: 0 0 0 0;\n",
              "      width: 32px;\n",
              "    }\n",
              "\n",
              "    .colab-df-convert:hover {\n",
              "      background-color: #E2EBFA;\n",
              "      box-shadow: 0px 1px 2px rgba(60, 64, 67, 0.3), 0px 1px 3px 1px rgba(60, 64, 67, 0.15);\n",
              "      fill: #174EA6;\n",
              "    }\n",
              "\n",
              "    [theme=dark] .colab-df-convert {\n",
              "      background-color: #3B4455;\n",
              "      fill: #D2E3FC;\n",
              "    }\n",
              "\n",
              "    [theme=dark] .colab-df-convert:hover {\n",
              "      background-color: #434B5C;\n",
              "      box-shadow: 0px 1px 3px 1px rgba(0, 0, 0, 0.15);\n",
              "      filter: drop-shadow(0px 1px 2px rgba(0, 0, 0, 0.3));\n",
              "      fill: #FFFFFF;\n",
              "    }\n",
              "  </style>\n",
              "\n",
              "      <script>\n",
              "        const buttonEl =\n",
              "          document.querySelector('#df-92b4af93-61ff-4298-9fe3-eb94a49d5d1b button.colab-df-convert');\n",
              "        buttonEl.style.display =\n",
              "          google.colab.kernel.accessAllowed ? 'block' : 'none';\n",
              "\n",
              "        async function convertToInteractive(key) {\n",
              "          const element = document.querySelector('#df-92b4af93-61ff-4298-9fe3-eb94a49d5d1b');\n",
              "          const dataTable =\n",
              "            await google.colab.kernel.invokeFunction('convertToInteractive',\n",
              "                                                     [key], {});\n",
              "          if (!dataTable) return;\n",
              "\n",
              "          const docLinkHtml = 'Like what you see? Visit the ' +\n",
              "            '<a target=\"_blank\" href=https://colab.research.google.com/notebooks/data_table.ipynb>data table notebook</a>'\n",
              "            + ' to learn more about interactive tables.';\n",
              "          element.innerHTML = '';\n",
              "          dataTable['output_type'] = 'display_data';\n",
              "          await google.colab.output.renderOutput(dataTable, element);\n",
              "          const docLink = document.createElement('div');\n",
              "          docLink.innerHTML = docLinkHtml;\n",
              "          element.appendChild(docLink);\n",
              "        }\n",
              "      </script>\n",
              "    </div>\n",
              "  </div>\n",
              "  "
            ],
            "text/plain": [
              "  Name Age   Tall         Add\n",
              "0  김민국  15  183cm  '서울시 서대문구'\n",
              "1  박한솔  30  175cm   '서울시 용산구'"
            ]
          },
          "metadata": {},
          "execution_count": 33
        }
      ]
    },
    {
      "cell_type": "code",
      "source": [],
      "metadata": {
        "id": "VlCGglHsL6RY"
      },
      "execution_count": null,
      "outputs": []
    }
  ]
}