{
  "nbformat": 4,
  "nbformat_minor": 0,
  "metadata": {
    "colab": {
      "provenance": [],
      "toc_visible": true
    },
    "kernelspec": {
      "name": "python3",
      "display_name": "Python 3"
    },
    "language_info": {
      "name": "python"
    },
    "accelerator": "GPU",
    "widgets": {
      "application/vnd.jupyter.widget-state+json": {
        "bd1b4655cf00402fb525490a66ef380c": {
          "model_module": "@jupyter-widgets/controls",
          "model_name": "HBoxModel",
          "model_module_version": "1.5.0",
          "state": {
            "_dom_classes": [],
            "_model_module": "@jupyter-widgets/controls",
            "_model_module_version": "1.5.0",
            "_model_name": "HBoxModel",
            "_view_count": null,
            "_view_module": "@jupyter-widgets/controls",
            "_view_module_version": "1.5.0",
            "_view_name": "HBoxView",
            "box_style": "",
            "children": [
              "IPY_MODEL_3430eeb4fc014147804a605ea953dd38",
              "IPY_MODEL_56516ded065c48f980343049db034c88",
              "IPY_MODEL_7817f6ad840e434b8168973a2cf68a63"
            ],
            "layout": "IPY_MODEL_2b5fff1b7743492fa5efac22bb61ef45"
          }
        },
        "3430eeb4fc014147804a605ea953dd38": {
          "model_module": "@jupyter-widgets/controls",
          "model_name": "HTMLModel",
          "model_module_version": "1.5.0",
          "state": {
            "_dom_classes": [],
            "_model_module": "@jupyter-widgets/controls",
            "_model_module_version": "1.5.0",
            "_model_name": "HTMLModel",
            "_view_count": null,
            "_view_module": "@jupyter-widgets/controls",
            "_view_module_version": "1.5.0",
            "_view_name": "HTMLView",
            "description": "",
            "description_tooltip": null,
            "layout": "IPY_MODEL_f2329394b9fb46f5809715b2f9eb47e1",
            "placeholder": "​",
            "style": "IPY_MODEL_006b0bfebe8049b18d37c6b354b96b95",
            "value": "100%"
          }
        },
        "56516ded065c48f980343049db034c88": {
          "model_module": "@jupyter-widgets/controls",
          "model_name": "FloatProgressModel",
          "model_module_version": "1.5.0",
          "state": {
            "_dom_classes": [],
            "_model_module": "@jupyter-widgets/controls",
            "_model_module_version": "1.5.0",
            "_model_name": "FloatProgressModel",
            "_view_count": null,
            "_view_module": "@jupyter-widgets/controls",
            "_view_module_version": "1.5.0",
            "_view_name": "ProgressView",
            "bar_style": "success",
            "description": "",
            "description_tooltip": null,
            "layout": "IPY_MODEL_4e80381c0e0248cb95cfc9a8ecfc1d26",
            "max": 9990,
            "min": 0,
            "orientation": "horizontal",
            "style": "IPY_MODEL_eb915b400db24a60b0703ec65e04f706",
            "value": 9990
          }
        },
        "7817f6ad840e434b8168973a2cf68a63": {
          "model_module": "@jupyter-widgets/controls",
          "model_name": "HTMLModel",
          "model_module_version": "1.5.0",
          "state": {
            "_dom_classes": [],
            "_model_module": "@jupyter-widgets/controls",
            "_model_module_version": "1.5.0",
            "_model_name": "HTMLModel",
            "_view_count": null,
            "_view_module": "@jupyter-widgets/controls",
            "_view_module_version": "1.5.0",
            "_view_name": "HTMLView",
            "description": "",
            "description_tooltip": null,
            "layout": "IPY_MODEL_bd141efe487846d485f897bb356e7007",
            "placeholder": "​",
            "style": "IPY_MODEL_2b2726bf76654275ab09fb1d9cf50e99",
            "value": " 9990/9990 [00:01&lt;00:00, 10146.74it/s]"
          }
        },
        "2b5fff1b7743492fa5efac22bb61ef45": {
          "model_module": "@jupyter-widgets/base",
          "model_name": "LayoutModel",
          "model_module_version": "1.2.0",
          "state": {
            "_model_module": "@jupyter-widgets/base",
            "_model_module_version": "1.2.0",
            "_model_name": "LayoutModel",
            "_view_count": null,
            "_view_module": "@jupyter-widgets/base",
            "_view_module_version": "1.2.0",
            "_view_name": "LayoutView",
            "align_content": null,
            "align_items": null,
            "align_self": null,
            "border": null,
            "bottom": null,
            "display": null,
            "flex": null,
            "flex_flow": null,
            "grid_area": null,
            "grid_auto_columns": null,
            "grid_auto_flow": null,
            "grid_auto_rows": null,
            "grid_column": null,
            "grid_gap": null,
            "grid_row": null,
            "grid_template_areas": null,
            "grid_template_columns": null,
            "grid_template_rows": null,
            "height": null,
            "justify_content": null,
            "justify_items": null,
            "left": null,
            "margin": null,
            "max_height": null,
            "max_width": null,
            "min_height": null,
            "min_width": null,
            "object_fit": null,
            "object_position": null,
            "order": null,
            "overflow": null,
            "overflow_x": null,
            "overflow_y": null,
            "padding": null,
            "right": null,
            "top": null,
            "visibility": null,
            "width": null
          }
        },
        "f2329394b9fb46f5809715b2f9eb47e1": {
          "model_module": "@jupyter-widgets/base",
          "model_name": "LayoutModel",
          "model_module_version": "1.2.0",
          "state": {
            "_model_module": "@jupyter-widgets/base",
            "_model_module_version": "1.2.0",
            "_model_name": "LayoutModel",
            "_view_count": null,
            "_view_module": "@jupyter-widgets/base",
            "_view_module_version": "1.2.0",
            "_view_name": "LayoutView",
            "align_content": null,
            "align_items": null,
            "align_self": null,
            "border": null,
            "bottom": null,
            "display": null,
            "flex": null,
            "flex_flow": null,
            "grid_area": null,
            "grid_auto_columns": null,
            "grid_auto_flow": null,
            "grid_auto_rows": null,
            "grid_column": null,
            "grid_gap": null,
            "grid_row": null,
            "grid_template_areas": null,
            "grid_template_columns": null,
            "grid_template_rows": null,
            "height": null,
            "justify_content": null,
            "justify_items": null,
            "left": null,
            "margin": null,
            "max_height": null,
            "max_width": null,
            "min_height": null,
            "min_width": null,
            "object_fit": null,
            "object_position": null,
            "order": null,
            "overflow": null,
            "overflow_x": null,
            "overflow_y": null,
            "padding": null,
            "right": null,
            "top": null,
            "visibility": null,
            "width": null
          }
        },
        "006b0bfebe8049b18d37c6b354b96b95": {
          "model_module": "@jupyter-widgets/controls",
          "model_name": "DescriptionStyleModel",
          "model_module_version": "1.5.0",
          "state": {
            "_model_module": "@jupyter-widgets/controls",
            "_model_module_version": "1.5.0",
            "_model_name": "DescriptionStyleModel",
            "_view_count": null,
            "_view_module": "@jupyter-widgets/base",
            "_view_module_version": "1.2.0",
            "_view_name": "StyleView",
            "description_width": ""
          }
        },
        "4e80381c0e0248cb95cfc9a8ecfc1d26": {
          "model_module": "@jupyter-widgets/base",
          "model_name": "LayoutModel",
          "model_module_version": "1.2.0",
          "state": {
            "_model_module": "@jupyter-widgets/base",
            "_model_module_version": "1.2.0",
            "_model_name": "LayoutModel",
            "_view_count": null,
            "_view_module": "@jupyter-widgets/base",
            "_view_module_version": "1.2.0",
            "_view_name": "LayoutView",
            "align_content": null,
            "align_items": null,
            "align_self": null,
            "border": null,
            "bottom": null,
            "display": null,
            "flex": null,
            "flex_flow": null,
            "grid_area": null,
            "grid_auto_columns": null,
            "grid_auto_flow": null,
            "grid_auto_rows": null,
            "grid_column": null,
            "grid_gap": null,
            "grid_row": null,
            "grid_template_areas": null,
            "grid_template_columns": null,
            "grid_template_rows": null,
            "height": null,
            "justify_content": null,
            "justify_items": null,
            "left": null,
            "margin": null,
            "max_height": null,
            "max_width": null,
            "min_height": null,
            "min_width": null,
            "object_fit": null,
            "object_position": null,
            "order": null,
            "overflow": null,
            "overflow_x": null,
            "overflow_y": null,
            "padding": null,
            "right": null,
            "top": null,
            "visibility": null,
            "width": null
          }
        },
        "eb915b400db24a60b0703ec65e04f706": {
          "model_module": "@jupyter-widgets/controls",
          "model_name": "ProgressStyleModel",
          "model_module_version": "1.5.0",
          "state": {
            "_model_module": "@jupyter-widgets/controls",
            "_model_module_version": "1.5.0",
            "_model_name": "ProgressStyleModel",
            "_view_count": null,
            "_view_module": "@jupyter-widgets/base",
            "_view_module_version": "1.2.0",
            "_view_name": "StyleView",
            "bar_color": null,
            "description_width": ""
          }
        },
        "bd141efe487846d485f897bb356e7007": {
          "model_module": "@jupyter-widgets/base",
          "model_name": "LayoutModel",
          "model_module_version": "1.2.0",
          "state": {
            "_model_module": "@jupyter-widgets/base",
            "_model_module_version": "1.2.0",
            "_model_name": "LayoutModel",
            "_view_count": null,
            "_view_module": "@jupyter-widgets/base",
            "_view_module_version": "1.2.0",
            "_view_name": "LayoutView",
            "align_content": null,
            "align_items": null,
            "align_self": null,
            "border": null,
            "bottom": null,
            "display": null,
            "flex": null,
            "flex_flow": null,
            "grid_area": null,
            "grid_auto_columns": null,
            "grid_auto_flow": null,
            "grid_auto_rows": null,
            "grid_column": null,
            "grid_gap": null,
            "grid_row": null,
            "grid_template_areas": null,
            "grid_template_columns": null,
            "grid_template_rows": null,
            "height": null,
            "justify_content": null,
            "justify_items": null,
            "left": null,
            "margin": null,
            "max_height": null,
            "max_width": null,
            "min_height": null,
            "min_width": null,
            "object_fit": null,
            "object_position": null,
            "order": null,
            "overflow": null,
            "overflow_x": null,
            "overflow_y": null,
            "padding": null,
            "right": null,
            "top": null,
            "visibility": null,
            "width": null
          }
        },
        "2b2726bf76654275ab09fb1d9cf50e99": {
          "model_module": "@jupyter-widgets/controls",
          "model_name": "DescriptionStyleModel",
          "model_module_version": "1.5.0",
          "state": {
            "_model_module": "@jupyter-widgets/controls",
            "_model_module_version": "1.5.0",
            "_model_name": "DescriptionStyleModel",
            "_view_count": null,
            "_view_module": "@jupyter-widgets/base",
            "_view_module_version": "1.2.0",
            "_view_name": "StyleView",
            "description_width": ""
          }
        }
      }
    }
  },
  "cells": [
    {
      "cell_type": "markdown",
      "metadata": {
        "id": "hawaiian-colonial"
      },
      "source": [
        "# 15.1 다양한 시퀀스 모델링 기법 소개"
      ]
    },
    {
      "cell_type": "code",
      "metadata": {
        "colab": {
          "base_uri": "https://localhost:8080/"
        },
        "id": "M0_hzexNwpL-",
        "outputId": "902cdec5-337a-4d1a-fa5d-76f141b8130c"
      },
      "source": [
        "#1. 모델링 입력 파라미터 결정: units은 rnn 레이어의 단어벡터 크기\n",
        "import argparse\n",
        "args = {\n",
        "    \"n_seq\": 4,\n",
        "    \"d_model\": 5,\n",
        "    \"units\": 3,\n",
        "    \"n_out\": 2,\n",
        "    \"seed\": 1234\n",
        "}\n",
        "args = argparse.Namespace(**args)\n",
        "args"
      ],
      "execution_count": 1,
      "outputs": [
        {
          "output_type": "execute_result",
          "data": {
            "text/plain": [
              "Namespace(n_seq=4, d_model=5, units=3, n_out=2, seed=1234)"
            ]
          },
          "metadata": {},
          "execution_count": 1
        }
      ]
    },
    {
      "cell_type": "code",
      "metadata": {
        "colab": {
          "base_uri": "https://localhost:8080/"
        },
        "id": "OSV9K5yseiVt",
        "outputId": "840e433a-3e7a-4e0c-eec8-4fdee0fa3594"
      },
      "source": [
        "#2 임베딩 데이터 : '신차 디자인 연비 좋아요', '신차 엉터리로 개발했네요'\n",
        "import numpy as np\n",
        "embedding=np.array([[[ 0.02320199,  0.01021665, -0.00895445, -0.02979749, 0.02322428],\n",
        "        [ 0.0264355 , -0.04554123,  0.04725628,  0.00859541, -0.04999509],\n",
        "        [-0.03991654,  0.03636427,  0.0333014 , -0.00142573, 0.03086834],\n",
        "        [-0.02713783, -0.02981646,  0.04198844, -0.0123964 , -0.00303965]],\n",
        "       [[ 0.02320199,  0.01021665, -0.00895445, -0.02979749, 0.02322428],\n",
        "        [-0.01625543,  0.04943212,  0.00923678,  0.04275037, 0.02018802],\n",
        "        [ 0.02082664,  0.0197835 , -0.04465839,  0.03356267, -0.00063878],\n",
        "        [ 0.00975098, -0.01968622,  0.04976818,  0.03082553, -0.00829091]]])\n",
        "embedding.shape #(bs, n_seq, d_model)"
      ],
      "execution_count": 2,
      "outputs": [
        {
          "output_type": "execute_result",
          "data": {
            "text/plain": [
              "(2, 4, 5)"
            ]
          },
          "metadata": {},
          "execution_count": 2
        }
      ]
    },
    {
      "cell_type": "code",
      "metadata": {
        "colab": {
          "base_uri": "https://localhost:8080/"
        },
        "id": "MPZvDv7exewc",
        "outputId": "0e8d4db0-84c8-4c10-d6db-e1cfd85b2605"
      },
      "source": [
        "#3. RNN 모델링, 그림16.2\n",
        "import tensorflow as tf\n",
        "rnn1 = tf.keras.layers.SimpleRNN(units=args.units)\n",
        "hidden1 = rnn1(embedding)\n",
        "rnn2 = tf.keras.layers.SimpleRNN(units=args.units, return_sequences=True)\n",
        "hidden2 = rnn2(embedding)\n",
        "hidden1.shape, hidden2.shape   # (bs, n_seq, units)"
      ],
      "execution_count": 3,
      "outputs": [
        {
          "output_type": "execute_result",
          "data": {
            "text/plain": [
              "(TensorShape([2, 3]), TensorShape([2, 4, 3]))"
            ]
          },
          "metadata": {},
          "execution_count": 3
        }
      ]
    },
    {
      "cell_type": "code",
      "metadata": {
        "colab": {
          "base_uri": "https://localhost:8080/"
        },
        "id": "RBTTs2O-0I67",
        "outputId": "3b1023f6-cea7-47fa-cb9f-227b4c4265bc"
      },
      "source": [
        "print(hidden1)\n",
        "print(hidden2)"
      ],
      "execution_count": 4,
      "outputs": [
        {
          "output_type": "stream",
          "name": "stdout",
          "text": [
            "tf.Tensor(\n",
            "[[-0.10568792 -0.02458712  0.17039919]\n",
            " [-0.05495265  0.03742053  0.00530214]], shape=(2, 3), dtype=float32)\n",
            "tf.Tensor(\n",
            "[[[-0.00949262  0.01239656 -0.00050656]\n",
            "  [ 0.00453874  0.05925075 -0.00158553]\n",
            "  [ 0.05586353  0.03986724 -0.02173125]\n",
            "  [ 0.08149698  0.09169133 -0.00563255]]\n",
            "\n",
            " [[-0.00949262  0.01239656 -0.00050656]\n",
            "  [-0.00288377 -0.03044254  0.03495883]\n",
            "  [-0.02939887 -0.10024532  0.03323806]\n",
            "  [-0.0420322  -0.05568251  0.06306101]]], shape=(2, 4, 3), dtype=float32)\n"
          ]
        }
      ]
    },
    {
      "cell_type": "code",
      "metadata": {
        "colab": {
          "base_uri": "https://localhost:8080/"
        },
        "id": "PIi5FvxXPm35",
        "outputId": "44fcb8df-aafd-425c-fbc6-33ab6ccf327a"
      },
      "source": [
        "#4 단방향 및 양방향 LSTM 모델\n",
        "lstm = tf.keras.layers.LSTM(units=args.units, return_sequences=True)\n",
        "lstm_hidden = lstm(embedding)  # (bs, n_seq, units)\n",
        "\n",
        "lstm = tf.keras.layers.Bidirectional(tf.keras.layers.LSTM(units=args.units, return_sequences=True))\n",
        "bi_lstm_hidden = lstm(embedding)\n",
        "bi_lstm_hidden.shape   # (bs, n_seq, units*2)"
      ],
      "execution_count": 5,
      "outputs": [
        {
          "output_type": "execute_result",
          "data": {
            "text/plain": [
              "TensorShape([2, 4, 6])"
            ]
          },
          "metadata": {},
          "execution_count": 5
        }
      ]
    },
    {
      "cell_type": "code",
      "metadata": {
        "colab": {
          "base_uri": "https://localhost:8080/"
        },
        "id": "7205toc_SwFp",
        "outputId": "2f7eba1e-b88b-4a23-8172-6361fdd8f448"
      },
      "source": [
        "print(lstm_hidden)\n",
        "print(bi_lstm_hidden)"
      ],
      "execution_count": 6,
      "outputs": [
        {
          "output_type": "stream",
          "name": "stdout",
          "text": [
            "tf.Tensor(\n",
            "[[[-0.0056398   0.00214725  0.00186421]\n",
            "  [ 0.00739955 -0.00664912  0.01151628]\n",
            "  [ 0.0047343   0.00289605 -0.00084534]\n",
            "  [ 0.00951243  0.00682782  0.00026281]]\n",
            "\n",
            " [[-0.0056398   0.00214725  0.00186421]\n",
            "  [-0.00089116  0.00065462 -0.00848445]\n",
            "  [-0.00372702 -0.00620416 -0.00779616]\n",
            "  [ 0.00729027 -0.01002148 -0.00285836]]], shape=(2, 4, 3), dtype=float32)\n",
            "tf.Tensor(\n",
            "[[[ 1.1151750e-03 -5.6212777e-03 -3.4577709e-03  2.2410625e-03\n",
            "    6.2911659e-03 -1.5424598e-04]\n",
            "  [-8.4841956e-04  5.1844334e-03 -1.0218224e-02  4.3628486e-03\n",
            "    7.4103251e-03  3.5357068e-03]\n",
            "  [-1.1957602e-03  6.3822181e-03 -3.6571585e-03 -3.2743169e-03\n",
            "   -7.4951298e-04 -4.9996353e-03]\n",
            "  [-3.1145278e-03  1.3693329e-02 -2.9127449e-03  3.3752602e-03\n",
            "    1.6936094e-03  1.6627740e-03]]\n",
            "\n",
            " [[ 1.1151750e-03 -5.6212777e-03 -3.4577709e-03 -1.1626034e-02\n",
            "   -3.6490229e-03 -7.0845867e-03]\n",
            "  [-1.6307575e-03 -3.9781923e-03  3.9024500e-03 -1.4101889e-02\n",
            "   -4.5718849e-03 -7.8911362e-03]\n",
            "  [-1.0194210e-03 -9.2332615e-03  6.3805762e-03 -5.4916269e-03\n",
            "   -1.0187409e-03 -1.7501982e-03]\n",
            "  [-8.4102871e-03  3.9628507e-03  3.7172199e-03 -2.2835687e-03\n",
            "    3.1235600e-03  3.6065918e-05]]], shape=(2, 4, 6), dtype=float32)\n"
          ]
        }
      ]
    },
    {
      "cell_type": "markdown",
      "metadata": {
        "id": "LjnKxpjYMwXi"
      },
      "source": [
        "# 15.2 감정분류 분석을 위한 모델링 디자인"
      ]
    },
    {
      "cell_type": "code",
      "metadata": {
        "colab": {
          "base_uri": "https://localhost:8080/"
        },
        "id": "ued44EJLjYnF",
        "outputId": "db00c371-d570-4415-95ca-f718b53ab4cd"
      },
      "source": [
        "# 5. 모델링 디자인\n",
        "import argparse\n",
        "args = {\n",
        "    \"n_vocab\": 32007,\n",
        "    \"n_seq\": 65,\n",
        "    \"d_model\": 256,\n",
        "    \"units\": 256,\n",
        "    \"n_out\": 2,\n",
        "    \"seed\": 1234\n",
        "}\n",
        "args = argparse.Namespace(**args)\n",
        "args"
      ],
      "execution_count": 7,
      "outputs": [
        {
          "output_type": "execute_result",
          "data": {
            "text/plain": [
              "Namespace(n_vocab=32007, n_seq=65, d_model=256, units=256, n_out=2, seed=1234)"
            ]
          },
          "metadata": {},
          "execution_count": 7
        }
      ]
    },
    {
      "cell_type": "code",
      "metadata": {
        "colab": {
          "base_uri": "https://localhost:8080/"
        },
        "id": "q1_usSty9aYO",
        "outputId": "099041e9-6b83-4c4a-c8db-6aeecf5ecd11"
      },
      "source": [
        "#6 필요한 라이브러리 설치 및 단어사전 다운로드\n",
        "!pip install sentencepiece\n",
        "!wget https://github.com/byungjooyoo/Dataset/raw/main/kowiki_32000.model"
      ],
      "execution_count": 8,
      "outputs": [
        {
          "output_type": "stream",
          "name": "stdout",
          "text": [
            "Requirement already satisfied: sentencepiece in /usr/local/lib/python3.10/dist-packages (0.1.99)\n",
            "--2024-05-12 05:46:16--  https://github.com/byungjooyoo/Dataset/raw/main/kowiki_32000.model\n",
            "Resolving github.com (github.com)... 140.82.116.3\n",
            "Connecting to github.com (github.com)|140.82.116.3|:443... connected.\n",
            "HTTP request sent, awaiting response... 302 Found\n",
            "Location: https://raw.githubusercontent.com/byungjooyoo/Dataset/main/kowiki_32000.model [following]\n",
            "--2024-05-12 05:46:16--  https://raw.githubusercontent.com/byungjooyoo/Dataset/main/kowiki_32000.model\n",
            "Resolving raw.githubusercontent.com (raw.githubusercontent.com)... 185.199.108.133, 185.199.109.133, 185.199.110.133, ...\n",
            "Connecting to raw.githubusercontent.com (raw.githubusercontent.com)|185.199.108.133|:443... connected.\n",
            "HTTP request sent, awaiting response... 200 OK\n",
            "Length: 814744 (796K) [application/octet-stream]\n",
            "Saving to: ‘kowiki_32000.model’\n",
            "\n",
            "kowiki_32000.model  100%[===================>] 795.65K  --.-KB/s    in 0.03s   \n",
            "\n",
            "2024-05-12 05:46:17 (25.8 MB/s) - ‘kowiki_32000.model’ saved [814744/814744]\n",
            "\n"
          ]
        }
      ]
    },
    {
      "cell_type": "markdown",
      "metadata": {
        "id": "mP4X70GFcyTV"
      },
      "source": [
        "# 15.3 데이터 준비 단계"
      ]
    },
    {
      "cell_type": "code",
      "metadata": {
        "colab": {
          "base_uri": "https://localhost:8080/",
          "height": 423
        },
        "id": "hqVD5XH5qLZV",
        "outputId": "0ca8896a-f74e-4ebe-db8f-c4e50a48e819"
      },
      "source": [
        "#7 네이버 영화 리뷰 데이터 다운로드 및 결측치 제거\n",
        "import pandas as pd\n",
        "df = pd.read_csv('https://raw.githubusercontent.com/byungjooyoo/Dataset/main/movie_comment.csv', index_col=False)[['Title','Score','Comment']]\n",
        "df.dropna()\n",
        "df"
      ],
      "execution_count": 10,
      "outputs": [
        {
          "output_type": "execute_result",
          "data": {
            "text/plain": [
              "                  Title  Score  \\\n",
              "0                     듄      1   \n",
              "1        라스트 듀얼: 최후의 결투      6   \n",
              "2                  그래비티     10   \n",
              "3                 프리 가이     10   \n",
              "4                     듄     10   \n",
              "...                 ...    ...   \n",
              "9985          레옹 디 오리지널      2   \n",
              "9986                엑시트     10   \n",
              "9987                 코다     10   \n",
              "9988              모리타니안     10   \n",
              "9989  원스 어폰 어 타임 인 아메리카     10   \n",
              "\n",
              "                                                Comment  \n",
              "0             대놓고 2편의 예고편....나중에 2편나올때 케이블에서 다시보면될정도...  \n",
              "1                             난또 라스트제다이 스핀오프편인줄 알았네..ㅡㅡ  \n",
              "2     단순한 우주재난 영화가 아닌 '죽음과 삶'이라는 주제를 담고 있는 영화.. 최고의 ...  \n",
              "3     큰 기대 없이 지나가다가 TV에서 광고만 보고 재밌겠다 싶어서 봤는데 ㅋㅋㅋ 생각보...  \n",
              "4     '두려움은 마음을 죽인다. 두려움이 사라지면 나만 오롯이 남는다.' 이미 다음편이 ...  \n",
              "...                                                 ...  \n",
              "9985             디 오리지널은 개뿔 앞뒤 다 잘라놓고 오리지널? 오리지널 뜻 모르냐?  \n",
              "9986  보고나서도 입꼬리가 내려가질 않아요ㅎㅎ 건강한 코미디라는 말이 딱 맞는듯. 영화관에...  \n",
              "9987  소재가 독특한데 19금 유머와 함께여서 자칫 어두울 수 있는 현실이 웃음으로 잘 승...  \n",
              "9988  실화를 떠나 몰입할 수 밖에 없는 스토리.. 실감나는 배우들의 연기력.. 실화와 관...  \n",
              "9989                                아버지랑 보고있는데 시간후딱지나가네  \n",
              "\n",
              "[9990 rows x 3 columns]"
            ],
            "text/html": [
              "\n",
              "  <div id=\"df-ac26b571-ba0b-4def-9b5e-1f5f8bc03700\" class=\"colab-df-container\">\n",
              "    <div>\n",
              "<style scoped>\n",
              "    .dataframe tbody tr th:only-of-type {\n",
              "        vertical-align: middle;\n",
              "    }\n",
              "\n",
              "    .dataframe tbody tr th {\n",
              "        vertical-align: top;\n",
              "    }\n",
              "\n",
              "    .dataframe thead th {\n",
              "        text-align: right;\n",
              "    }\n",
              "</style>\n",
              "<table border=\"1\" class=\"dataframe\">\n",
              "  <thead>\n",
              "    <tr style=\"text-align: right;\">\n",
              "      <th></th>\n",
              "      <th>Title</th>\n",
              "      <th>Score</th>\n",
              "      <th>Comment</th>\n",
              "    </tr>\n",
              "  </thead>\n",
              "  <tbody>\n",
              "    <tr>\n",
              "      <th>0</th>\n",
              "      <td>듄</td>\n",
              "      <td>1</td>\n",
              "      <td>대놓고 2편의 예고편....나중에 2편나올때 케이블에서 다시보면될정도...</td>\n",
              "    </tr>\n",
              "    <tr>\n",
              "      <th>1</th>\n",
              "      <td>라스트 듀얼: 최후의 결투</td>\n",
              "      <td>6</td>\n",
              "      <td>난또 라스트제다이 스핀오프편인줄 알았네..ㅡㅡ</td>\n",
              "    </tr>\n",
              "    <tr>\n",
              "      <th>2</th>\n",
              "      <td>그래비티</td>\n",
              "      <td>10</td>\n",
              "      <td>단순한 우주재난 영화가 아닌 '죽음과 삶'이라는 주제를 담고 있는 영화.. 최고의 ...</td>\n",
              "    </tr>\n",
              "    <tr>\n",
              "      <th>3</th>\n",
              "      <td>프리 가이</td>\n",
              "      <td>10</td>\n",
              "      <td>큰 기대 없이 지나가다가 TV에서 광고만 보고 재밌겠다 싶어서 봤는데 ㅋㅋㅋ 생각보...</td>\n",
              "    </tr>\n",
              "    <tr>\n",
              "      <th>4</th>\n",
              "      <td>듄</td>\n",
              "      <td>10</td>\n",
              "      <td>'두려움은 마음을 죽인다. 두려움이 사라지면 나만 오롯이 남는다.' 이미 다음편이 ...</td>\n",
              "    </tr>\n",
              "    <tr>\n",
              "      <th>...</th>\n",
              "      <td>...</td>\n",
              "      <td>...</td>\n",
              "      <td>...</td>\n",
              "    </tr>\n",
              "    <tr>\n",
              "      <th>9985</th>\n",
              "      <td>레옹 디 오리지널</td>\n",
              "      <td>2</td>\n",
              "      <td>디 오리지널은 개뿔 앞뒤 다 잘라놓고 오리지널? 오리지널 뜻 모르냐?</td>\n",
              "    </tr>\n",
              "    <tr>\n",
              "      <th>9986</th>\n",
              "      <td>엑시트</td>\n",
              "      <td>10</td>\n",
              "      <td>보고나서도 입꼬리가 내려가질 않아요ㅎㅎ 건강한 코미디라는 말이 딱 맞는듯. 영화관에...</td>\n",
              "    </tr>\n",
              "    <tr>\n",
              "      <th>9987</th>\n",
              "      <td>코다</td>\n",
              "      <td>10</td>\n",
              "      <td>소재가 독특한데 19금 유머와 함께여서 자칫 어두울 수 있는 현실이 웃음으로 잘 승...</td>\n",
              "    </tr>\n",
              "    <tr>\n",
              "      <th>9988</th>\n",
              "      <td>모리타니안</td>\n",
              "      <td>10</td>\n",
              "      <td>실화를 떠나 몰입할 수 밖에 없는 스토리.. 실감나는 배우들의 연기력.. 실화와 관...</td>\n",
              "    </tr>\n",
              "    <tr>\n",
              "      <th>9989</th>\n",
              "      <td>원스 어폰 어 타임 인 아메리카</td>\n",
              "      <td>10</td>\n",
              "      <td>아버지랑 보고있는데 시간후딱지나가네</td>\n",
              "    </tr>\n",
              "  </tbody>\n",
              "</table>\n",
              "<p>9990 rows × 3 columns</p>\n",
              "</div>\n",
              "    <div class=\"colab-df-buttons\">\n",
              "\n",
              "  <div class=\"colab-df-container\">\n",
              "    <button class=\"colab-df-convert\" onclick=\"convertToInteractive('df-ac26b571-ba0b-4def-9b5e-1f5f8bc03700')\"\n",
              "            title=\"Convert this dataframe to an interactive table.\"\n",
              "            style=\"display:none;\">\n",
              "\n",
              "  <svg xmlns=\"http://www.w3.org/2000/svg\" height=\"24px\" viewBox=\"0 -960 960 960\">\n",
              "    <path d=\"M120-120v-720h720v720H120Zm60-500h600v-160H180v160Zm220 220h160v-160H400v160Zm0 220h160v-160H400v160ZM180-400h160v-160H180v160Zm440 0h160v-160H620v160ZM180-180h160v-160H180v160Zm440 0h160v-160H620v160Z\"/>\n",
              "  </svg>\n",
              "    </button>\n",
              "\n",
              "  <style>\n",
              "    .colab-df-container {\n",
              "      display:flex;\n",
              "      gap: 12px;\n",
              "    }\n",
              "\n",
              "    .colab-df-convert {\n",
              "      background-color: #E8F0FE;\n",
              "      border: none;\n",
              "      border-radius: 50%;\n",
              "      cursor: pointer;\n",
              "      display: none;\n",
              "      fill: #1967D2;\n",
              "      height: 32px;\n",
              "      padding: 0 0 0 0;\n",
              "      width: 32px;\n",
              "    }\n",
              "\n",
              "    .colab-df-convert:hover {\n",
              "      background-color: #E2EBFA;\n",
              "      box-shadow: 0px 1px 2px rgba(60, 64, 67, 0.3), 0px 1px 3px 1px rgba(60, 64, 67, 0.15);\n",
              "      fill: #174EA6;\n",
              "    }\n",
              "\n",
              "    .colab-df-buttons div {\n",
              "      margin-bottom: 4px;\n",
              "    }\n",
              "\n",
              "    [theme=dark] .colab-df-convert {\n",
              "      background-color: #3B4455;\n",
              "      fill: #D2E3FC;\n",
              "    }\n",
              "\n",
              "    [theme=dark] .colab-df-convert:hover {\n",
              "      background-color: #434B5C;\n",
              "      box-shadow: 0px 1px 3px 1px rgba(0, 0, 0, 0.15);\n",
              "      filter: drop-shadow(0px 1px 2px rgba(0, 0, 0, 0.3));\n",
              "      fill: #FFFFFF;\n",
              "    }\n",
              "  </style>\n",
              "\n",
              "    <script>\n",
              "      const buttonEl =\n",
              "        document.querySelector('#df-ac26b571-ba0b-4def-9b5e-1f5f8bc03700 button.colab-df-convert');\n",
              "      buttonEl.style.display =\n",
              "        google.colab.kernel.accessAllowed ? 'block' : 'none';\n",
              "\n",
              "      async function convertToInteractive(key) {\n",
              "        const element = document.querySelector('#df-ac26b571-ba0b-4def-9b5e-1f5f8bc03700');\n",
              "        const dataTable =\n",
              "          await google.colab.kernel.invokeFunction('convertToInteractive',\n",
              "                                                    [key], {});\n",
              "        if (!dataTable) return;\n",
              "\n",
              "        const docLinkHtml = 'Like what you see? Visit the ' +\n",
              "          '<a target=\"_blank\" href=https://colab.research.google.com/notebooks/data_table.ipynb>data table notebook</a>'\n",
              "          + ' to learn more about interactive tables.';\n",
              "        element.innerHTML = '';\n",
              "        dataTable['output_type'] = 'display_data';\n",
              "        await google.colab.output.renderOutput(dataTable, element);\n",
              "        const docLink = document.createElement('div');\n",
              "        docLink.innerHTML = docLinkHtml;\n",
              "        element.appendChild(docLink);\n",
              "      }\n",
              "    </script>\n",
              "  </div>\n",
              "\n",
              "\n",
              "<div id=\"df-25f4bbef-d993-420f-9e70-2298e1385447\">\n",
              "  <button class=\"colab-df-quickchart\" onclick=\"quickchart('df-25f4bbef-d993-420f-9e70-2298e1385447')\"\n",
              "            title=\"Suggest charts\"\n",
              "            style=\"display:none;\">\n",
              "\n",
              "<svg xmlns=\"http://www.w3.org/2000/svg\" height=\"24px\"viewBox=\"0 0 24 24\"\n",
              "     width=\"24px\">\n",
              "    <g>\n",
              "        <path d=\"M19 3H5c-1.1 0-2 .9-2 2v14c0 1.1.9 2 2 2h14c1.1 0 2-.9 2-2V5c0-1.1-.9-2-2-2zM9 17H7v-7h2v7zm4 0h-2V7h2v10zm4 0h-2v-4h2v4z\"/>\n",
              "    </g>\n",
              "</svg>\n",
              "  </button>\n",
              "\n",
              "<style>\n",
              "  .colab-df-quickchart {\n",
              "      --bg-color: #E8F0FE;\n",
              "      --fill-color: #1967D2;\n",
              "      --hover-bg-color: #E2EBFA;\n",
              "      --hover-fill-color: #174EA6;\n",
              "      --disabled-fill-color: #AAA;\n",
              "      --disabled-bg-color: #DDD;\n",
              "  }\n",
              "\n",
              "  [theme=dark] .colab-df-quickchart {\n",
              "      --bg-color: #3B4455;\n",
              "      --fill-color: #D2E3FC;\n",
              "      --hover-bg-color: #434B5C;\n",
              "      --hover-fill-color: #FFFFFF;\n",
              "      --disabled-bg-color: #3B4455;\n",
              "      --disabled-fill-color: #666;\n",
              "  }\n",
              "\n",
              "  .colab-df-quickchart {\n",
              "    background-color: var(--bg-color);\n",
              "    border: none;\n",
              "    border-radius: 50%;\n",
              "    cursor: pointer;\n",
              "    display: none;\n",
              "    fill: var(--fill-color);\n",
              "    height: 32px;\n",
              "    padding: 0;\n",
              "    width: 32px;\n",
              "  }\n",
              "\n",
              "  .colab-df-quickchart:hover {\n",
              "    background-color: var(--hover-bg-color);\n",
              "    box-shadow: 0 1px 2px rgba(60, 64, 67, 0.3), 0 1px 3px 1px rgba(60, 64, 67, 0.15);\n",
              "    fill: var(--button-hover-fill-color);\n",
              "  }\n",
              "\n",
              "  .colab-df-quickchart-complete:disabled,\n",
              "  .colab-df-quickchart-complete:disabled:hover {\n",
              "    background-color: var(--disabled-bg-color);\n",
              "    fill: var(--disabled-fill-color);\n",
              "    box-shadow: none;\n",
              "  }\n",
              "\n",
              "  .colab-df-spinner {\n",
              "    border: 2px solid var(--fill-color);\n",
              "    border-color: transparent;\n",
              "    border-bottom-color: var(--fill-color);\n",
              "    animation:\n",
              "      spin 1s steps(1) infinite;\n",
              "  }\n",
              "\n",
              "  @keyframes spin {\n",
              "    0% {\n",
              "      border-color: transparent;\n",
              "      border-bottom-color: var(--fill-color);\n",
              "      border-left-color: var(--fill-color);\n",
              "    }\n",
              "    20% {\n",
              "      border-color: transparent;\n",
              "      border-left-color: var(--fill-color);\n",
              "      border-top-color: var(--fill-color);\n",
              "    }\n",
              "    30% {\n",
              "      border-color: transparent;\n",
              "      border-left-color: var(--fill-color);\n",
              "      border-top-color: var(--fill-color);\n",
              "      border-right-color: var(--fill-color);\n",
              "    }\n",
              "    40% {\n",
              "      border-color: transparent;\n",
              "      border-right-color: var(--fill-color);\n",
              "      border-top-color: var(--fill-color);\n",
              "    }\n",
              "    60% {\n",
              "      border-color: transparent;\n",
              "      border-right-color: var(--fill-color);\n",
              "    }\n",
              "    80% {\n",
              "      border-color: transparent;\n",
              "      border-right-color: var(--fill-color);\n",
              "      border-bottom-color: var(--fill-color);\n",
              "    }\n",
              "    90% {\n",
              "      border-color: transparent;\n",
              "      border-bottom-color: var(--fill-color);\n",
              "    }\n",
              "  }\n",
              "</style>\n",
              "\n",
              "  <script>\n",
              "    async function quickchart(key) {\n",
              "      const quickchartButtonEl =\n",
              "        document.querySelector('#' + key + ' button');\n",
              "      quickchartButtonEl.disabled = true;  // To prevent multiple clicks.\n",
              "      quickchartButtonEl.classList.add('colab-df-spinner');\n",
              "      try {\n",
              "        const charts = await google.colab.kernel.invokeFunction(\n",
              "            'suggestCharts', [key], {});\n",
              "      } catch (error) {\n",
              "        console.error('Error during call to suggestCharts:', error);\n",
              "      }\n",
              "      quickchartButtonEl.classList.remove('colab-df-spinner');\n",
              "      quickchartButtonEl.classList.add('colab-df-quickchart-complete');\n",
              "    }\n",
              "    (() => {\n",
              "      let quickchartButtonEl =\n",
              "        document.querySelector('#df-25f4bbef-d993-420f-9e70-2298e1385447 button');\n",
              "      quickchartButtonEl.style.display =\n",
              "        google.colab.kernel.accessAllowed ? 'block' : 'none';\n",
              "    })();\n",
              "  </script>\n",
              "</div>\n",
              "    </div>\n",
              "  </div>\n"
            ],
            "application/vnd.google.colaboratory.intrinsic+json": {
              "type": "dataframe",
              "variable_name": "df",
              "summary": "{\n  \"name\": \"df\",\n  \"rows\": 9990,\n  \"fields\": [\n    {\n      \"column\": \"Title\",\n      \"properties\": {\n        \"dtype\": \"category\",\n        \"num_unique_values\": 1850,\n        \"samples\": [\n          \"\\ubf40\\ub85c\\ub85c \\uadf9\\uc7a5\\ud310 \\ubcf4\\ubb3c\\uc12c \\ub300\\ubaa8\\ud5d8\",\n          \"\\uc815\\uc9c1\\ud55c \\ud6c4\\ubcf4\",\n          \"\\uacc4\\ucd98\\ud560\\ub9dd\"\n        ],\n        \"semantic_type\": \"\",\n        \"description\": \"\"\n      }\n    },\n    {\n      \"column\": \"Score\",\n      \"properties\": {\n        \"dtype\": \"number\",\n        \"std\": 3,\n        \"min\": 1,\n        \"max\": 10,\n        \"num_unique_values\": 10,\n        \"samples\": [\n          4,\n          6,\n          7\n        ],\n        \"semantic_type\": \"\",\n        \"description\": \"\"\n      }\n    },\n    {\n      \"column\": \"Comment\",\n      \"properties\": {\n        \"dtype\": \"string\",\n        \"num_unique_values\": 9362,\n        \"samples\": [\n          \"\\ud3ec\\uc2a4\\ud130\\uc5d0 \\ub370\\uc774\\ube57\\uc774 \\uc5c6\\ub2e4\\ub294 \\uc0ac\\uc2e4\\uc774 \\ucda9\\uaca9\\uc801\\uc774\\uc5c8\\ub2e4. \\uc6b0\\uc5ec\\uace1\\uc808 \\ub05d\\uc5d0 \\ube44\\uc881\\uc740 \\ucc28\\uc5d0 \\uafb8\\uc5ed\\uafb8\\uc5ed \\uc62c\\ub77c\\ud0c4 6\\uba85\\uc740 \\uc55e\\uc73c\\ub85c \\uc5b4\\ub5bb\\uac8c \\uc0b4\\uc544\\uac08\\uae4c\",\n          \"\\u314b\\u314b\\u314b\\u314b \\ub300\\ub2e8\\ud558\\ub2e4...\",\n          \"\\ud3c9\\ub860\\uac00\\ub4e4\\uc758 \\ud3c9\\uc774 \\ub9de\\ub2e4. \\ubb58 \\ub9d0\\ud558\\uace0\\uc2f6\\uc740\\uc9c0 \\ubaa8\\ub97c \\uc5f0\\ucd9c\\ub4e4\\uc744 \\ub123\\uace0 \\uc815\\uc791 \\uba54\\uc138\\uc9c0\\ub294 \\ub300\\uc0ac\\ub85c \\uacc4\\uc18d \\ubc18\\ubcf5\\ud55c\\ub2e4.\\uc774 \\uc7a5\\uba74\\uc740 \\uc774\\ub7f0 \\uad50\\ud6c8\\uc744 \\uc904\\uac70\\uc57c! \\ub77c\\uace0 \\uacc4\\uc18d \\uc124\\uba85\\ud558\\ub824\\ub294 \\ub290\\ub08c\"\n        ],\n        \"semantic_type\": \"\",\n        \"description\": \"\"\n      }\n    }\n  ]\n}"
            }
          },
          "metadata": {},
          "execution_count": 10
        }
      ]
    },
    {
      "cell_type": "code",
      "metadata": {
        "colab": {
          "base_uri": "https://localhost:8080/"
        },
        "id": "0B6Kd4qnUEP6",
        "outputId": "2889ba6c-4632-4cb4-adef-e82ebfbbcc6b"
      },
      "source": [
        "#8. vocab loading\n",
        "import sentencepiece as spm\n",
        "vocab = spm.SentencePieceProcessor()\n",
        "vocab.load('kowiki_32000.model')"
      ],
      "execution_count": 11,
      "outputs": [
        {
          "output_type": "execute_result",
          "data": {
            "text/plain": [
              "True"
            ]
          },
          "metadata": {},
          "execution_count": 11
        }
      ]
    },
    {
      "cell_type": "code",
      "metadata": {
        "id": "zbs235C4KQqH",
        "colab": {
          "base_uri": "https://localhost:8080/",
          "height": 410
        },
        "outputId": "db63087d-2095-4661-c2a7-1d14c692e070"
      },
      "source": [
        "#9 탐색적 데이터 분석 : document 길이 데이터\n",
        "import matplotlib.pyplot as plt\n",
        "train_length = df[\"Comment\"].astype(\"str\").apply(lambda x:len(vocab.encode_as_pieces(x)))\n",
        "plt.figure(figsize=(8, 4))\n",
        "plt.hist(train_length, bins=150, range=[0, 150], facecolor='r', label='word')\n",
        "plt.title('Lengh of word')\n",
        "plt.xlabel('Number of word')\n",
        "plt.ylabel('Count of review')\n",
        "plt.show()"
      ],
      "execution_count": 12,
      "outputs": [
        {
          "output_type": "display_data",
          "data": {
            "text/plain": [
              "<Figure size 800x400 with 1 Axes>"
            ],
            "image/png": "[encoded data removed]"
          },
          "metadata": {}
        }
      ]
    },
    {
      "cell_type": "code",
      "metadata": {
        "colab": {
          "base_uri": "https://localhost:8080/"
        },
        "id": "wkY2J42-MYCW",
        "outputId": "d46c5905-7368-4c67-a5a9-eae34e171b44"
      },
      "source": [
        "# 길이의 분포, 토큰 두개가 574개로 가장 많음\n",
        "train_length.value_counts()[:10]"
      ],
      "execution_count": 13,
      "outputs": [
        {
          "output_type": "execute_result",
          "data": {
            "text/plain": [
              "Comment\n",
              "2     574\n",
              "9     482\n",
              "10    448\n",
              "11    429\n",
              "8     395\n",
              "13    393\n",
              "12    388\n",
              "14    355\n",
              "7     336\n",
              "15    297\n",
              "Name: count, dtype: int64"
            ]
          },
          "metadata": {},
          "execution_count": 13
        }
      ]
    },
    {
      "cell_type": "code",
      "metadata": {
        "id": "i8J-abm_KQqI",
        "colab": {
          "base_uri": "https://localhost:8080/"
        },
        "outputId": "5c766ecc-c5f8-479e-d380-28c4acd292fb"
      },
      "source": [
        "# 데이터 길이\n",
        "print(f\"token 길이 최대:    {np.max(train_length):4d}\")\n",
        "print(f\"token 길이 최소:    {np.min(train_length):4d}\")\n",
        "print(f\"token 길이 평균:    {np.mean(train_length):7.2f}\")\n",
        "print(f\"token 길이 표준편차: {np.std(train_length):7.2f}\")"
      ],
      "execution_count": 14,
      "outputs": [
        {
          "output_type": "stream",
          "name": "stdout",
          "text": [
            "token 길이 최대:     483\n",
            "token 길이 최소:       1\n",
            "token 길이 평균:      27.37\n",
            "token 길이 표준편차:   33.08\n"
          ]
        }
      ]
    },
    {
      "cell_type": "code",
      "metadata": {
        "id": "ktpCiXJnKQqJ",
        "colab": {
          "base_uri": "https://localhost:8080/"
        },
        "outputId": "fc338f75-d157-4ee0-bb6a-1bff8262beea"
      },
      "source": [
        "#10. 워드입베딩 입력 토큰 시퀀스 설정\n",
        "import math\n",
        "percentile25 = np.percentile(train_length, 25)\n",
        "percentile75 = np.percentile(train_length, 75)\n",
        "percentileIQR = percentile75 - percentile25\n",
        "percentileMAX = percentile75 + percentileIQR * 1.5\n",
        "args.n_seq = math.ceil(percentileMAX)\n",
        "args.n_seq"
      ],
      "execution_count": 15,
      "outputs": [
        {
          "output_type": "execute_result",
          "data": {
            "text/plain": [
              "65"
            ]
          },
          "metadata": {},
          "execution_count": 15
        }
      ]
    },
    {
      "cell_type": "code",
      "metadata": {
        "colab": {
          "base_uri": "https://localhost:8080/",
          "height": 656
        },
        "id": "WJSr4gflsqIu",
        "outputId": "7385f27b-5509-4b70-a032-320147bccb47"
      },
      "source": [
        "# 점수별 빈도수\n",
        "print(df['Score'].value_counts())\n",
        "df['Score'].hist()"
      ],
      "execution_count": 16,
      "outputs": [
        {
          "output_type": "stream",
          "name": "stdout",
          "text": [
            "Score\n",
            "10    4663\n",
            "1     1070\n",
            "8      986\n",
            "6      758\n",
            "2      641\n",
            "9      551\n",
            "7      515\n",
            "4      456\n",
            "5      233\n",
            "3      117\n",
            "Name: count, dtype: int64\n"
          ]
        },
        {
          "output_type": "execute_result",
          "data": {
            "text/plain": [
              "<Axes: >"
            ]
          },
          "metadata": {},
          "execution_count": 16
        },
        {
          "output_type": "display_data",
          "data": {
            "text/plain": [
              "<Figure size 640x480 with 1 Axes>"
            ],
            "image/png": "[encoded data removed]"
          },
          "metadata": {}
        }
      ]
    },
    {
      "cell_type": "code",
      "metadata": {
        "id": "ih_EJUsoryFE",
        "colab": {
          "base_uri": "https://localhost:8080/",
          "height": 520
        },
        "outputId": "2ebbf072-e6b3-46e5-8b88-485294eb006f"
      },
      "source": [
        "#11. 점수를 기준으로 이항 클래스로 변환 : 긍정(7-10)과 부정(1-6)으로 변환\n",
        "def rating_to_label(rating):\n",
        "    if rating > 6:\n",
        "        return 1\n",
        "    else:\n",
        "        return 0\n",
        "df['y'] = df['Score'].apply(lambda x: rating_to_label(x))\n",
        "id_to_label = {0: \"부정\", 1: \"긍정\"}\n",
        "print(df['y'].value_counts())\n",
        "df['y'].hist()"
      ],
      "execution_count": 17,
      "outputs": [
        {
          "output_type": "stream",
          "name": "stdout",
          "text": [
            "y\n",
            "1    6715\n",
            "0    3275\n",
            "Name: count, dtype: int64\n"
          ]
        },
        {
          "output_type": "execute_result",
          "data": {
            "text/plain": [
              "<Axes: >"
            ]
          },
          "metadata": {},
          "execution_count": 17
        },
        {
          "output_type": "display_data",
          "data": {
            "text/plain": [
              "<Figure size 640x480 with 1 Axes>"
            ],
            "image/png": "[encoded data removed]"
          },
          "metadata": {}
        }
      ]
    },
    {
      "cell_type": "code",
      "metadata": {
        "colab": {
          "base_uri": "https://localhost:8080/",
          "height": 363
        },
        "id": "kFuHqk8X744p",
        "outputId": "ae217782-1100-4a33-d89a-3ab1c8e5f655"
      },
      "source": [
        "df[:10]"
      ],
      "execution_count": 18,
      "outputs": [
        {
          "output_type": "execute_result",
          "data": {
            "text/plain": [
              "              Title  Score                                            Comment  \\\n",
              "0                 듄      1          대놓고 2편의 예고편....나중에 2편나올때 케이블에서 다시보면될정도...   \n",
              "1    라스트 듀얼: 최후의 결투      6                          난또 라스트제다이 스핀오프편인줄 알았네..ㅡㅡ   \n",
              "2              그래비티     10  단순한 우주재난 영화가 아닌 '죽음과 삶'이라는 주제를 담고 있는 영화.. 최고의 ...   \n",
              "3             프리 가이     10  큰 기대 없이 지나가다가 TV에서 광고만 보고 재밌겠다 싶어서 봤는데 ㅋㅋㅋ 생각보...   \n",
              "4                 듄     10  '두려움은 마음을 죽인다. 두려움이 사라지면 나만 오롯이 남는다.' 이미 다음편이 ...   \n",
              "5               군함도      1                                   억지다 역겹네;'',,;; ;   \n",
              "6               군함도      1                                   억지다 역겹네;'',,;; ;   \n",
              "7    라스트 듀얼: 최후의 결투     10  리들리 스콧 감독 영화라고 해서 봤는데 프리가이에 나왔던 조디 코머도 나와서 반가웠...   \n",
              "8                 듄     10                          시각과 청각의 음미만으로도 감칠맛이 넘친다..   \n",
              "9  베놈 2: 렛 데어 비 카니지      1                         쿠키랑 베놈에디 투닥거리는거 봐서 1점이다...   \n",
              "\n",
              "   y  \n",
              "0  0  \n",
              "1  0  \n",
              "2  1  \n",
              "3  1  \n",
              "4  1  \n",
              "5  0  \n",
              "6  0  \n",
              "7  1  \n",
              "8  1  \n",
              "9  0  "
            ],
            "text/html": [
              "\n",
              "  <div id=\"df-9e62371b-0a3c-47ff-9732-5335aef54ffc\" class=\"colab-df-container\">\n",
              "    <div>\n",
              "<style scoped>\n",
              "    .dataframe tbody tr th:only-of-type {\n",
              "        vertical-align: middle;\n",
              "    }\n",
              "\n",
              "    .dataframe tbody tr th {\n",
              "        vertical-align: top;\n",
              "    }\n",
              "\n",
              "    .dataframe thead th {\n",
              "        text-align: right;\n",
              "    }\n",
              "</style>\n",
              "<table border=\"1\" class=\"dataframe\">\n",
              "  <thead>\n",
              "    <tr style=\"text-align: right;\">\n",
              "      <th></th>\n",
              "      <th>Title</th>\n",
              "      <th>Score</th>\n",
              "      <th>Comment</th>\n",
              "      <th>y</th>\n",
              "    </tr>\n",
              "  </thead>\n",
              "  <tbody>\n",
              "    <tr>\n",
              "      <th>0</th>\n",
              "      <td>듄</td>\n",
              "      <td>1</td>\n",
              "      <td>대놓고 2편의 예고편....나중에 2편나올때 케이블에서 다시보면될정도...</td>\n",
              "      <td>0</td>\n",
              "    </tr>\n",
              "    <tr>\n",
              "      <th>1</th>\n",
              "      <td>라스트 듀얼: 최후의 결투</td>\n",
              "      <td>6</td>\n",
              "      <td>난또 라스트제다이 스핀오프편인줄 알았네..ㅡㅡ</td>\n",
              "      <td>0</td>\n",
              "    </tr>\n",
              "    <tr>\n",
              "      <th>2</th>\n",
              "      <td>그래비티</td>\n",
              "      <td>10</td>\n",
              "      <td>단순한 우주재난 영화가 아닌 '죽음과 삶'이라는 주제를 담고 있는 영화.. 최고의 ...</td>\n",
              "      <td>1</td>\n",
              "    </tr>\n",
              "    <tr>\n",
              "      <th>3</th>\n",
              "      <td>프리 가이</td>\n",
              "      <td>10</td>\n",
              "      <td>큰 기대 없이 지나가다가 TV에서 광고만 보고 재밌겠다 싶어서 봤는데 ㅋㅋㅋ 생각보...</td>\n",
              "      <td>1</td>\n",
              "    </tr>\n",
              "    <tr>\n",
              "      <th>4</th>\n",
              "      <td>듄</td>\n",
              "      <td>10</td>\n",
              "      <td>'두려움은 마음을 죽인다. 두려움이 사라지면 나만 오롯이 남는다.' 이미 다음편이 ...</td>\n",
              "      <td>1</td>\n",
              "    </tr>\n",
              "    <tr>\n",
              "      <th>5</th>\n",
              "      <td>군함도</td>\n",
              "      <td>1</td>\n",
              "      <td>억지다 역겹네;'',,;; ;</td>\n",
              "      <td>0</td>\n",
              "    </tr>\n",
              "    <tr>\n",
              "      <th>6</th>\n",
              "      <td>군함도</td>\n",
              "      <td>1</td>\n",
              "      <td>억지다 역겹네;'',,;; ;</td>\n",
              "      <td>0</td>\n",
              "    </tr>\n",
              "    <tr>\n",
              "      <th>7</th>\n",
              "      <td>라스트 듀얼: 최후의 결투</td>\n",
              "      <td>10</td>\n",
              "      <td>리들리 스콧 감독 영화라고 해서 봤는데 프리가이에 나왔던 조디 코머도 나와서 반가웠...</td>\n",
              "      <td>1</td>\n",
              "    </tr>\n",
              "    <tr>\n",
              "      <th>8</th>\n",
              "      <td>듄</td>\n",
              "      <td>10</td>\n",
              "      <td>시각과 청각의 음미만으로도 감칠맛이 넘친다..</td>\n",
              "      <td>1</td>\n",
              "    </tr>\n",
              "    <tr>\n",
              "      <th>9</th>\n",
              "      <td>베놈 2: 렛 데어 비 카니지</td>\n",
              "      <td>1</td>\n",
              "      <td>쿠키랑 베놈에디 투닥거리는거 봐서 1점이다...</td>\n",
              "      <td>0</td>\n",
              "    </tr>\n",
              "  </tbody>\n",
              "</table>\n",
              "</div>\n",
              "    <div class=\"colab-df-buttons\">\n",
              "\n",
              "  <div class=\"colab-df-container\">\n",
              "    <button class=\"colab-df-convert\" onclick=\"convertToInteractive('df-9e62371b-0a3c-47ff-9732-5335aef54ffc')\"\n",
              "            title=\"Convert this dataframe to an interactive table.\"\n",
              "            style=\"display:none;\">\n",
              "\n",
              "  <svg xmlns=\"http://www.w3.org/2000/svg\" height=\"24px\" viewBox=\"0 -960 960 960\">\n",
              "    <path d=\"M120-120v-720h720v720H120Zm60-500h600v-160H180v160Zm220 220h160v-160H400v160Zm0 220h160v-160H400v160ZM180-400h160v-160H180v160Zm440 0h160v-160H620v160ZM180-180h160v-160H180v160Zm440 0h160v-160H620v160Z\"/>\n",
              "  </svg>\n",
              "    </button>\n",
              "\n",
              "  <style>\n",
              "    .colab-df-container {\n",
              "      display:flex;\n",
              "      gap: 12px;\n",
              "    }\n",
              "\n",
              "    .colab-df-convert {\n",
              "      background-color: #E8F0FE;\n",
              "      border: none;\n",
              "      border-radius: 50%;\n",
              "      cursor: pointer;\n",
              "      display: none;\n",
              "      fill: #1967D2;\n",
              "      height: 32px;\n",
              "      padding: 0 0 0 0;\n",
              "      width: 32px;\n",
              "    }\n",
              "\n",
              "    .colab-df-convert:hover {\n",
              "      background-color: #E2EBFA;\n",
              "      box-shadow: 0px 1px 2px rgba(60, 64, 67, 0.3), 0px 1px 3px 1px rgba(60, 64, 67, 0.15);\n",
              "      fill: #174EA6;\n",
              "    }\n",
              "\n",
              "    .colab-df-buttons div {\n",
              "      margin-bottom: 4px;\n",
              "    }\n",
              "\n",
              "    [theme=dark] .colab-df-convert {\n",
              "      background-color: #3B4455;\n",
              "      fill: #D2E3FC;\n",
              "    }\n",
              "\n",
              "    [theme=dark] .colab-df-convert:hover {\n",
              "      background-color: #434B5C;\n",
              "      box-shadow: 0px 1px 3px 1px rgba(0, 0, 0, 0.15);\n",
              "      filter: drop-shadow(0px 1px 2px rgba(0, 0, 0, 0.3));\n",
              "      fill: #FFFFFF;\n",
              "    }\n",
              "  </style>\n",
              "\n",
              "    <script>\n",
              "      const buttonEl =\n",
              "        document.querySelector('#df-9e62371b-0a3c-47ff-9732-5335aef54ffc button.colab-df-convert');\n",
              "      buttonEl.style.display =\n",
              "        google.colab.kernel.accessAllowed ? 'block' : 'none';\n",
              "\n",
              "      async function convertToInteractive(key) {\n",
              "        const element = document.querySelector('#df-9e62371b-0a3c-47ff-9732-5335aef54ffc');\n",
              "        const dataTable =\n",
              "          await google.colab.kernel.invokeFunction('convertToInteractive',\n",
              "                                                    [key], {});\n",
              "        if (!dataTable) return;\n",
              "\n",
              "        const docLinkHtml = 'Like what you see? Visit the ' +\n",
              "          '<a target=\"_blank\" href=https://colab.research.google.com/notebooks/data_table.ipynb>data table notebook</a>'\n",
              "          + ' to learn more about interactive tables.';\n",
              "        element.innerHTML = '';\n",
              "        dataTable['output_type'] = 'display_data';\n",
              "        await google.colab.output.renderOutput(dataTable, element);\n",
              "        const docLink = document.createElement('div');\n",
              "        docLink.innerHTML = docLinkHtml;\n",
              "        element.appendChild(docLink);\n",
              "      }\n",
              "    </script>\n",
              "  </div>\n",
              "\n",
              "\n",
              "<div id=\"df-fcb34d12-9810-4089-888b-5dc91951133f\">\n",
              "  <button class=\"colab-df-quickchart\" onclick=\"quickchart('df-fcb34d12-9810-4089-888b-5dc91951133f')\"\n",
              "            title=\"Suggest charts\"\n",
              "            style=\"display:none;\">\n",
              "\n",
              "<svg xmlns=\"http://www.w3.org/2000/svg\" height=\"24px\"viewBox=\"0 0 24 24\"\n",
              "     width=\"24px\">\n",
              "    <g>\n",
              "        <path d=\"M19 3H5c-1.1 0-2 .9-2 2v14c0 1.1.9 2 2 2h14c1.1 0 2-.9 2-2V5c0-1.1-.9-2-2-2zM9 17H7v-7h2v7zm4 0h-2V7h2v10zm4 0h-2v-4h2v4z\"/>\n",
              "    </g>\n",
              "</svg>\n",
              "  </button>\n",
              "\n",
              "<style>\n",
              "  .colab-df-quickchart {\n",
              "      --bg-color: #E8F0FE;\n",
              "      --fill-color: #1967D2;\n",
              "      --hover-bg-color: #E2EBFA;\n",
              "      --hover-fill-color: #174EA6;\n",
              "      --disabled-fill-color: #AAA;\n",
              "      --disabled-bg-color: #DDD;\n",
              "  }\n",
              "\n",
              "  [theme=dark] .colab-df-quickchart {\n",
              "      --bg-color: #3B4455;\n",
              "      --fill-color: #D2E3FC;\n",
              "      --hover-bg-color: #434B5C;\n",
              "      --hover-fill-color: #FFFFFF;\n",
              "      --disabled-bg-color: #3B4455;\n",
              "      --disabled-fill-color: #666;\n",
              "  }\n",
              "\n",
              "  .colab-df-quickchart {\n",
              "    background-color: var(--bg-color);\n",
              "    border: none;\n",
              "    border-radius: 50%;\n",
              "    cursor: pointer;\n",
              "    display: none;\n",
              "    fill: var(--fill-color);\n",
              "    height: 32px;\n",
              "    padding: 0;\n",
              "    width: 32px;\n",
              "  }\n",
              "\n",
              "  .colab-df-quickchart:hover {\n",
              "    background-color: var(--hover-bg-color);\n",
              "    box-shadow: 0 1px 2px rgba(60, 64, 67, 0.3), 0 1px 3px 1px rgba(60, 64, 67, 0.15);\n",
              "    fill: var(--button-hover-fill-color);\n",
              "  }\n",
              "\n",
              "  .colab-df-quickchart-complete:disabled,\n",
              "  .colab-df-quickchart-complete:disabled:hover {\n",
              "    background-color: var(--disabled-bg-color);\n",
              "    fill: var(--disabled-fill-color);\n",
              "    box-shadow: none;\n",
              "  }\n",
              "\n",
              "  .colab-df-spinner {\n",
              "    border: 2px solid var(--fill-color);\n",
              "    border-color: transparent;\n",
              "    border-bottom-color: var(--fill-color);\n",
              "    animation:\n",
              "      spin 1s steps(1) infinite;\n",
              "  }\n",
              "\n",
              "  @keyframes spin {\n",
              "    0% {\n",
              "      border-color: transparent;\n",
              "      border-bottom-color: var(--fill-color);\n",
              "      border-left-color: var(--fill-color);\n",
              "    }\n",
              "    20% {\n",
              "      border-color: transparent;\n",
              "      border-left-color: var(--fill-color);\n",
              "      border-top-color: var(--fill-color);\n",
              "    }\n",
              "    30% {\n",
              "      border-color: transparent;\n",
              "      border-left-color: var(--fill-color);\n",
              "      border-top-color: var(--fill-color);\n",
              "      border-right-color: var(--fill-color);\n",
              "    }\n",
              "    40% {\n",
              "      border-color: transparent;\n",
              "      border-right-color: var(--fill-color);\n",
              "      border-top-color: var(--fill-color);\n",
              "    }\n",
              "    60% {\n",
              "      border-color: transparent;\n",
              "      border-right-color: var(--fill-color);\n",
              "    }\n",
              "    80% {\n",
              "      border-color: transparent;\n",
              "      border-right-color: var(--fill-color);\n",
              "      border-bottom-color: var(--fill-color);\n",
              "    }\n",
              "    90% {\n",
              "      border-color: transparent;\n",
              "      border-bottom-color: var(--fill-color);\n",
              "    }\n",
              "  }\n",
              "</style>\n",
              "\n",
              "  <script>\n",
              "    async function quickchart(key) {\n",
              "      const quickchartButtonEl =\n",
              "        document.querySelector('#' + key + ' button');\n",
              "      quickchartButtonEl.disabled = true;  // To prevent multiple clicks.\n",
              "      quickchartButtonEl.classList.add('colab-df-spinner');\n",
              "      try {\n",
              "        const charts = await google.colab.kernel.invokeFunction(\n",
              "            'suggestCharts', [key], {});\n",
              "      } catch (error) {\n",
              "        console.error('Error during call to suggestCharts:', error);\n",
              "      }\n",
              "      quickchartButtonEl.classList.remove('colab-df-spinner');\n",
              "      quickchartButtonEl.classList.add('colab-df-quickchart-complete');\n",
              "    }\n",
              "    (() => {\n",
              "      let quickchartButtonEl =\n",
              "        document.querySelector('#df-fcb34d12-9810-4089-888b-5dc91951133f button');\n",
              "      quickchartButtonEl.style.display =\n",
              "        google.colab.kernel.accessAllowed ? 'block' : 'none';\n",
              "    })();\n",
              "  </script>\n",
              "</div>\n",
              "    </div>\n",
              "  </div>\n"
            ],
            "application/vnd.google.colaboratory.intrinsic+json": {
              "type": "dataframe",
              "summary": "{\n  \"name\": \"df[:10]\",\n  \"rows\": 10,\n  \"fields\": [\n    {\n      \"column\": \"Title\",\n      \"properties\": {\n        \"dtype\": \"string\",\n        \"num_unique_values\": 6,\n        \"samples\": [\n          \"\\ub4c4\",\n          \"\\ub77c\\uc2a4\\ud2b8 \\ub4c0\\uc5bc: \\ucd5c\\ud6c4\\uc758 \\uacb0\\ud22c\",\n          \"\\ubca0\\ub188 2: \\ub81b \\ub370\\uc5b4 \\ube44 \\uce74\\ub2c8\\uc9c0\"\n        ],\n        \"semantic_type\": \"\",\n        \"description\": \"\"\n      }\n    },\n    {\n      \"column\": \"Score\",\n      \"properties\": {\n        \"dtype\": \"number\",\n        \"std\": 4,\n        \"min\": 1,\n        \"max\": 10,\n        \"num_unique_values\": 3,\n        \"samples\": [\n          1,\n          6,\n          10\n        ],\n        \"semantic_type\": \"\",\n        \"description\": \"\"\n      }\n    },\n    {\n      \"column\": \"Comment\",\n      \"properties\": {\n        \"dtype\": \"string\",\n        \"num_unique_values\": 9,\n        \"samples\": [\n          \"\\uc2dc\\uac01\\uacfc \\uccad\\uac01\\uc758 \\uc74c\\ubbf8\\ub9cc\\uc73c\\ub85c\\ub3c4 \\uac10\\uce60\\ub9db\\uc774 \\ub118\\uce5c\\ub2e4..\",\n          \"\\ub09c\\ub610 \\ub77c\\uc2a4\\ud2b8\\uc81c\\ub2e4\\uc774 \\uc2a4\\ud540\\uc624\\ud504\\ud3b8\\uc778\\uc904 \\uc54c\\uc558\\ub124..\\u3161\\u3161\",\n          \"\\uc5b5\\uc9c0\\ub2e4 \\uc5ed\\uacb9\\ub124;'',,;; ;\"\n        ],\n        \"semantic_type\": \"\",\n        \"description\": \"\"\n      }\n    },\n    {\n      \"column\": \"y\",\n      \"properties\": {\n        \"dtype\": \"number\",\n        \"std\": 0,\n        \"min\": 0,\n        \"max\": 1,\n        \"num_unique_values\": 2,\n        \"samples\": [\n          1,\n          0\n        ],\n        \"semantic_type\": \"\",\n        \"description\": \"\"\n      }\n    }\n  ]\n}"
            }
          },
          "metadata": {},
          "execution_count": 18
        }
      ]
    },
    {
      "cell_type": "code",
      "metadata": {
        "colab": {
          "base_uri": "https://localhost:8080/",
          "height": 423
        },
        "id": "n6e2X8_lX_jR",
        "outputId": "358a1de4-25bd-49a5-f24e-b57a0a9338ba"
      },
      "source": [
        "# 12. 분석용 데이터프레임으로 정리 : 불필요한 변수 제거\n",
        "df = df[['y', 'Comment']]\n",
        "df"
      ],
      "execution_count": 19,
      "outputs": [
        {
          "output_type": "execute_result",
          "data": {
            "text/plain": [
              "      y                                            Comment\n",
              "0     0          대놓고 2편의 예고편....나중에 2편나올때 케이블에서 다시보면될정도...\n",
              "1     0                          난또 라스트제다이 스핀오프편인줄 알았네..ㅡㅡ\n",
              "2     1  단순한 우주재난 영화가 아닌 '죽음과 삶'이라는 주제를 담고 있는 영화.. 최고의 ...\n",
              "3     1  큰 기대 없이 지나가다가 TV에서 광고만 보고 재밌겠다 싶어서 봤는데 ㅋㅋㅋ 생각보...\n",
              "4     1  '두려움은 마음을 죽인다. 두려움이 사라지면 나만 오롯이 남는다.' 이미 다음편이 ...\n",
              "...  ..                                                ...\n",
              "9985  0             디 오리지널은 개뿔 앞뒤 다 잘라놓고 오리지널? 오리지널 뜻 모르냐?\n",
              "9986  1  보고나서도 입꼬리가 내려가질 않아요ㅎㅎ 건강한 코미디라는 말이 딱 맞는듯. 영화관에...\n",
              "9987  1  소재가 독특한데 19금 유머와 함께여서 자칫 어두울 수 있는 현실이 웃음으로 잘 승...\n",
              "9988  1  실화를 떠나 몰입할 수 밖에 없는 스토리.. 실감나는 배우들의 연기력.. 실화와 관...\n",
              "9989  1                                아버지랑 보고있는데 시간후딱지나가네\n",
              "\n",
              "[9990 rows x 2 columns]"
            ],
            "text/html": [
              "\n",
              "  <div id=\"df-b6b71edd-02fb-454e-8a34-d99a9f5542da\" class=\"colab-df-container\">\n",
              "    <div>\n",
              "<style scoped>\n",
              "    .dataframe tbody tr th:only-of-type {\n",
              "        vertical-align: middle;\n",
              "    }\n",
              "\n",
              "    .dataframe tbody tr th {\n",
              "        vertical-align: top;\n",
              "    }\n",
              "\n",
              "    .dataframe thead th {\n",
              "        text-align: right;\n",
              "    }\n",
              "</style>\n",
              "<table border=\"1\" class=\"dataframe\">\n",
              "  <thead>\n",
              "    <tr style=\"text-align: right;\">\n",
              "      <th></th>\n",
              "      <th>y</th>\n",
              "      <th>Comment</th>\n",
              "    </tr>\n",
              "  </thead>\n",
              "  <tbody>\n",
              "    <tr>\n",
              "      <th>0</th>\n",
              "      <td>0</td>\n",
              "      <td>대놓고 2편의 예고편....나중에 2편나올때 케이블에서 다시보면될정도...</td>\n",
              "    </tr>\n",
              "    <tr>\n",
              "      <th>1</th>\n",
              "      <td>0</td>\n",
              "      <td>난또 라스트제다이 스핀오프편인줄 알았네..ㅡㅡ</td>\n",
              "    </tr>\n",
              "    <tr>\n",
              "      <th>2</th>\n",
              "      <td>1</td>\n",
              "      <td>단순한 우주재난 영화가 아닌 '죽음과 삶'이라는 주제를 담고 있는 영화.. 최고의 ...</td>\n",
              "    </tr>\n",
              "    <tr>\n",
              "      <th>3</th>\n",
              "      <td>1</td>\n",
              "      <td>큰 기대 없이 지나가다가 TV에서 광고만 보고 재밌겠다 싶어서 봤는데 ㅋㅋㅋ 생각보...</td>\n",
              "    </tr>\n",
              "    <tr>\n",
              "      <th>4</th>\n",
              "      <td>1</td>\n",
              "      <td>'두려움은 마음을 죽인다. 두려움이 사라지면 나만 오롯이 남는다.' 이미 다음편이 ...</td>\n",
              "    </tr>\n",
              "    <tr>\n",
              "      <th>...</th>\n",
              "      <td>...</td>\n",
              "      <td>...</td>\n",
              "    </tr>\n",
              "    <tr>\n",
              "      <th>9985</th>\n",
              "      <td>0</td>\n",
              "      <td>디 오리지널은 개뿔 앞뒤 다 잘라놓고 오리지널? 오리지널 뜻 모르냐?</td>\n",
              "    </tr>\n",
              "    <tr>\n",
              "      <th>9986</th>\n",
              "      <td>1</td>\n",
              "      <td>보고나서도 입꼬리가 내려가질 않아요ㅎㅎ 건강한 코미디라는 말이 딱 맞는듯. 영화관에...</td>\n",
              "    </tr>\n",
              "    <tr>\n",
              "      <th>9987</th>\n",
              "      <td>1</td>\n",
              "      <td>소재가 독특한데 19금 유머와 함께여서 자칫 어두울 수 있는 현실이 웃음으로 잘 승...</td>\n",
              "    </tr>\n",
              "    <tr>\n",
              "      <th>9988</th>\n",
              "      <td>1</td>\n",
              "      <td>실화를 떠나 몰입할 수 밖에 없는 스토리.. 실감나는 배우들의 연기력.. 실화와 관...</td>\n",
              "    </tr>\n",
              "    <tr>\n",
              "      <th>9989</th>\n",
              "      <td>1</td>\n",
              "      <td>아버지랑 보고있는데 시간후딱지나가네</td>\n",
              "    </tr>\n",
              "  </tbody>\n",
              "</table>\n",
              "<p>9990 rows × 2 columns</p>\n",
              "</div>\n",
              "    <div class=\"colab-df-buttons\">\n",
              "\n",
              "  <div class=\"colab-df-container\">\n",
              "    <button class=\"colab-df-convert\" onclick=\"convertToInteractive('df-b6b71edd-02fb-454e-8a34-d99a9f5542da')\"\n",
              "            title=\"Convert this dataframe to an interactive table.\"\n",
              "            style=\"display:none;\">\n",
              "\n",
              "  <svg xmlns=\"http://www.w3.org/2000/svg\" height=\"24px\" viewBox=\"0 -960 960 960\">\n",
              "    <path d=\"M120-120v-720h720v720H120Zm60-500h600v-160H180v160Zm220 220h160v-160H400v160Zm0 220h160v-160H400v160ZM180-400h160v-160H180v160Zm440 0h160v-160H620v160ZM180-180h160v-160H180v160Zm440 0h160v-160H620v160Z\"/>\n",
              "  </svg>\n",
              "    </button>\n",
              "\n",
              "  <style>\n",
              "    .colab-df-container {\n",
              "      display:flex;\n",
              "      gap: 12px;\n",
              "    }\n",
              "\n",
              "    .colab-df-convert {\n",
              "      background-color: #E8F0FE;\n",
              "      border: none;\n",
              "      border-radius: 50%;\n",
              "      cursor: pointer;\n",
              "      display: none;\n",
              "      fill: #1967D2;\n",
              "      height: 32px;\n",
              "      padding: 0 0 0 0;\n",
              "      width: 32px;\n",
              "    }\n",
              "\n",
              "    .colab-df-convert:hover {\n",
              "      background-color: #E2EBFA;\n",
              "      box-shadow: 0px 1px 2px rgba(60, 64, 67, 0.3), 0px 1px 3px 1px rgba(60, 64, 67, 0.15);\n",
              "      fill: #174EA6;\n",
              "    }\n",
              "\n",
              "    .colab-df-buttons div {\n",
              "      margin-bottom: 4px;\n",
              "    }\n",
              "\n",
              "    [theme=dark] .colab-df-convert {\n",
              "      background-color: #3B4455;\n",
              "      fill: #D2E3FC;\n",
              "    }\n",
              "\n",
              "    [theme=dark] .colab-df-convert:hover {\n",
              "      background-color: #434B5C;\n",
              "      box-shadow: 0px 1px 3px 1px rgba(0, 0, 0, 0.15);\n",
              "      filter: drop-shadow(0px 1px 2px rgba(0, 0, 0, 0.3));\n",
              "      fill: #FFFFFF;\n",
              "    }\n",
              "  </style>\n",
              "\n",
              "    <script>\n",
              "      const buttonEl =\n",
              "        document.querySelector('#df-b6b71edd-02fb-454e-8a34-d99a9f5542da button.colab-df-convert');\n",
              "      buttonEl.style.display =\n",
              "        google.colab.kernel.accessAllowed ? 'block' : 'none';\n",
              "\n",
              "      async function convertToInteractive(key) {\n",
              "        const element = document.querySelector('#df-b6b71edd-02fb-454e-8a34-d99a9f5542da');\n",
              "        const dataTable =\n",
              "          await google.colab.kernel.invokeFunction('convertToInteractive',\n",
              "                                                    [key], {});\n",
              "        if (!dataTable) return;\n",
              "\n",
              "        const docLinkHtml = 'Like what you see? Visit the ' +\n",
              "          '<a target=\"_blank\" href=https://colab.research.google.com/notebooks/data_table.ipynb>data table notebook</a>'\n",
              "          + ' to learn more about interactive tables.';\n",
              "        element.innerHTML = '';\n",
              "        dataTable['output_type'] = 'display_data';\n",
              "        await google.colab.output.renderOutput(dataTable, element);\n",
              "        const docLink = document.createElement('div');\n",
              "        docLink.innerHTML = docLinkHtml;\n",
              "        element.appendChild(docLink);\n",
              "      }\n",
              "    </script>\n",
              "  </div>\n",
              "\n",
              "\n",
              "<div id=\"df-07d3d06d-0fbf-48c9-a9b9-748e1190146d\">\n",
              "  <button class=\"colab-df-quickchart\" onclick=\"quickchart('df-07d3d06d-0fbf-48c9-a9b9-748e1190146d')\"\n",
              "            title=\"Suggest charts\"\n",
              "            style=\"display:none;\">\n",
              "\n",
              "<svg xmlns=\"http://www.w3.org/2000/svg\" height=\"24px\"viewBox=\"0 0 24 24\"\n",
              "     width=\"24px\">\n",
              "    <g>\n",
              "        <path d=\"M19 3H5c-1.1 0-2 .9-2 2v14c0 1.1.9 2 2 2h14c1.1 0 2-.9 2-2V5c0-1.1-.9-2-2-2zM9 17H7v-7h2v7zm4 0h-2V7h2v10zm4 0h-2v-4h2v4z\"/>\n",
              "    </g>\n",
              "</svg>\n",
              "  </button>\n",
              "\n",
              "<style>\n",
              "  .colab-df-quickchart {\n",
              "      --bg-color: #E8F0FE;\n",
              "      --fill-color: #1967D2;\n",
              "      --hover-bg-color: #E2EBFA;\n",
              "      --hover-fill-color: #174EA6;\n",
              "      --disabled-fill-color: #AAA;\n",
              "      --disabled-bg-color: #DDD;\n",
              "  }\n",
              "\n",
              "  [theme=dark] .colab-df-quickchart {\n",
              "      --bg-color: #3B4455;\n",
              "      --fill-color: #D2E3FC;\n",
              "      --hover-bg-color: #434B5C;\n",
              "      --hover-fill-color: #FFFFFF;\n",
              "      --disabled-bg-color: #3B4455;\n",
              "      --disabled-fill-color: #666;\n",
              "  }\n",
              "\n",
              "  .colab-df-quickchart {\n",
              "    background-color: var(--bg-color);\n",
              "    border: none;\n",
              "    border-radius: 50%;\n",
              "    cursor: pointer;\n",
              "    display: none;\n",
              "    fill: var(--fill-color);\n",
              "    height: 32px;\n",
              "    padding: 0;\n",
              "    width: 32px;\n",
              "  }\n",
              "\n",
              "  .colab-df-quickchart:hover {\n",
              "    background-color: var(--hover-bg-color);\n",
              "    box-shadow: 0 1px 2px rgba(60, 64, 67, 0.3), 0 1px 3px 1px rgba(60, 64, 67, 0.15);\n",
              "    fill: var(--button-hover-fill-color);\n",
              "  }\n",
              "\n",
              "  .colab-df-quickchart-complete:disabled,\n",
              "  .colab-df-quickchart-complete:disabled:hover {\n",
              "    background-color: var(--disabled-bg-color);\n",
              "    fill: var(--disabled-fill-color);\n",
              "    box-shadow: none;\n",
              "  }\n",
              "\n",
              "  .colab-df-spinner {\n",
              "    border: 2px solid var(--fill-color);\n",
              "    border-color: transparent;\n",
              "    border-bottom-color: var(--fill-color);\n",
              "    animation:\n",
              "      spin 1s steps(1) infinite;\n",
              "  }\n",
              "\n",
              "  @keyframes spin {\n",
              "    0% {\n",
              "      border-color: transparent;\n",
              "      border-bottom-color: var(--fill-color);\n",
              "      border-left-color: var(--fill-color);\n",
              "    }\n",
              "    20% {\n",
              "      border-color: transparent;\n",
              "      border-left-color: var(--fill-color);\n",
              "      border-top-color: var(--fill-color);\n",
              "    }\n",
              "    30% {\n",
              "      border-color: transparent;\n",
              "      border-left-color: var(--fill-color);\n",
              "      border-top-color: var(--fill-color);\n",
              "      border-right-color: var(--fill-color);\n",
              "    }\n",
              "    40% {\n",
              "      border-color: transparent;\n",
              "      border-right-color: var(--fill-color);\n",
              "      border-top-color: var(--fill-color);\n",
              "    }\n",
              "    60% {\n",
              "      border-color: transparent;\n",
              "      border-right-color: var(--fill-color);\n",
              "    }\n",
              "    80% {\n",
              "      border-color: transparent;\n",
              "      border-right-color: var(--fill-color);\n",
              "      border-bottom-color: var(--fill-color);\n",
              "    }\n",
              "    90% {\n",
              "      border-color: transparent;\n",
              "      border-bottom-color: var(--fill-color);\n",
              "    }\n",
              "  }\n",
              "</style>\n",
              "\n",
              "  <script>\n",
              "    async function quickchart(key) {\n",
              "      const quickchartButtonEl =\n",
              "        document.querySelector('#' + key + ' button');\n",
              "      quickchartButtonEl.disabled = true;  // To prevent multiple clicks.\n",
              "      quickchartButtonEl.classList.add('colab-df-spinner');\n",
              "      try {\n",
              "        const charts = await google.colab.kernel.invokeFunction(\n",
              "            'suggestCharts', [key], {});\n",
              "      } catch (error) {\n",
              "        console.error('Error during call to suggestCharts:', error);\n",
              "      }\n",
              "      quickchartButtonEl.classList.remove('colab-df-spinner');\n",
              "      quickchartButtonEl.classList.add('colab-df-quickchart-complete');\n",
              "    }\n",
              "    (() => {\n",
              "      let quickchartButtonEl =\n",
              "        document.querySelector('#df-07d3d06d-0fbf-48c9-a9b9-748e1190146d button');\n",
              "      quickchartButtonEl.style.display =\n",
              "        google.colab.kernel.accessAllowed ? 'block' : 'none';\n",
              "    })();\n",
              "  </script>\n",
              "</div>\n",
              "    </div>\n",
              "  </div>\n"
            ],
            "application/vnd.google.colaboratory.intrinsic+json": {
              "type": "dataframe",
              "variable_name": "df",
              "summary": "{\n  \"name\": \"df\",\n  \"rows\": 9990,\n  \"fields\": [\n    {\n      \"column\": \"y\",\n      \"properties\": {\n        \"dtype\": \"number\",\n        \"std\": 0,\n        \"min\": 0,\n        \"max\": 1,\n        \"num_unique_values\": 2,\n        \"samples\": [\n          1,\n          0\n        ],\n        \"semantic_type\": \"\",\n        \"description\": \"\"\n      }\n    },\n    {\n      \"column\": \"Comment\",\n      \"properties\": {\n        \"dtype\": \"string\",\n        \"num_unique_values\": 9362,\n        \"samples\": [\n          \"\\ud3ec\\uc2a4\\ud130\\uc5d0 \\ub370\\uc774\\ube57\\uc774 \\uc5c6\\ub2e4\\ub294 \\uc0ac\\uc2e4\\uc774 \\ucda9\\uaca9\\uc801\\uc774\\uc5c8\\ub2e4. \\uc6b0\\uc5ec\\uace1\\uc808 \\ub05d\\uc5d0 \\ube44\\uc881\\uc740 \\ucc28\\uc5d0 \\uafb8\\uc5ed\\uafb8\\uc5ed \\uc62c\\ub77c\\ud0c4 6\\uba85\\uc740 \\uc55e\\uc73c\\ub85c \\uc5b4\\ub5bb\\uac8c \\uc0b4\\uc544\\uac08\\uae4c\",\n          \"\\u314b\\u314b\\u314b\\u314b \\ub300\\ub2e8\\ud558\\ub2e4...\"\n        ],\n        \"semantic_type\": \"\",\n        \"description\": \"\"\n      }\n    }\n  ]\n}"
            }
          },
          "metadata": {},
          "execution_count": 19
        }
      ]
    },
    {
      "cell_type": "code",
      "metadata": {
        "colab": {
          "base_uri": "https://localhost:8080/",
          "height": 206
        },
        "id": "5qgxhdZOnp97",
        "outputId": "209f03b4-2eea-4a98-fbc2-8a6f0c00bc4b"
      },
      "source": [
        "df[:5]"
      ],
      "execution_count": 20,
      "outputs": [
        {
          "output_type": "execute_result",
          "data": {
            "text/plain": [
              "   y                                            Comment\n",
              "0  0          대놓고 2편의 예고편....나중에 2편나올때 케이블에서 다시보면될정도...\n",
              "1  0                          난또 라스트제다이 스핀오프편인줄 알았네..ㅡㅡ\n",
              "2  1  단순한 우주재난 영화가 아닌 '죽음과 삶'이라는 주제를 담고 있는 영화.. 최고의 ...\n",
              "3  1  큰 기대 없이 지나가다가 TV에서 광고만 보고 재밌겠다 싶어서 봤는데 ㅋㅋㅋ 생각보...\n",
              "4  1  '두려움은 마음을 죽인다. 두려움이 사라지면 나만 오롯이 남는다.' 이미 다음편이 ..."
            ],
            "text/html": [
              "\n",
              "  <div id=\"df-04d07ea5-5461-4eeb-921a-9952691d7d92\" class=\"colab-df-container\">\n",
              "    <div>\n",
              "<style scoped>\n",
              "    .dataframe tbody tr th:only-of-type {\n",
              "        vertical-align: middle;\n",
              "    }\n",
              "\n",
              "    .dataframe tbody tr th {\n",
              "        vertical-align: top;\n",
              "    }\n",
              "\n",
              "    .dataframe thead th {\n",
              "        text-align: right;\n",
              "    }\n",
              "</style>\n",
              "<table border=\"1\" class=\"dataframe\">\n",
              "  <thead>\n",
              "    <tr style=\"text-align: right;\">\n",
              "      <th></th>\n",
              "      <th>y</th>\n",
              "      <th>Comment</th>\n",
              "    </tr>\n",
              "  </thead>\n",
              "  <tbody>\n",
              "    <tr>\n",
              "      <th>0</th>\n",
              "      <td>0</td>\n",
              "      <td>대놓고 2편의 예고편....나중에 2편나올때 케이블에서 다시보면될정도...</td>\n",
              "    </tr>\n",
              "    <tr>\n",
              "      <th>1</th>\n",
              "      <td>0</td>\n",
              "      <td>난또 라스트제다이 스핀오프편인줄 알았네..ㅡㅡ</td>\n",
              "    </tr>\n",
              "    <tr>\n",
              "      <th>2</th>\n",
              "      <td>1</td>\n",
              "      <td>단순한 우주재난 영화가 아닌 '죽음과 삶'이라는 주제를 담고 있는 영화.. 최고의 ...</td>\n",
              "    </tr>\n",
              "    <tr>\n",
              "      <th>3</th>\n",
              "      <td>1</td>\n",
              "      <td>큰 기대 없이 지나가다가 TV에서 광고만 보고 재밌겠다 싶어서 봤는데 ㅋㅋㅋ 생각보...</td>\n",
              "    </tr>\n",
              "    <tr>\n",
              "      <th>4</th>\n",
              "      <td>1</td>\n",
              "      <td>'두려움은 마음을 죽인다. 두려움이 사라지면 나만 오롯이 남는다.' 이미 다음편이 ...</td>\n",
              "    </tr>\n",
              "  </tbody>\n",
              "</table>\n",
              "</div>\n",
              "    <div class=\"colab-df-buttons\">\n",
              "\n",
              "  <div class=\"colab-df-container\">\n",
              "    <button class=\"colab-df-convert\" onclick=\"convertToInteractive('df-04d07ea5-5461-4eeb-921a-9952691d7d92')\"\n",
              "            title=\"Convert this dataframe to an interactive table.\"\n",
              "            style=\"display:none;\">\n",
              "\n",
              "  <svg xmlns=\"http://www.w3.org/2000/svg\" height=\"24px\" viewBox=\"0 -960 960 960\">\n",
              "    <path d=\"M120-120v-720h720v720H120Zm60-500h600v-160H180v160Zm220 220h160v-160H400v160Zm0 220h160v-160H400v160ZM180-400h160v-160H180v160Zm440 0h160v-160H620v160ZM180-180h160v-160H180v160Zm440 0h160v-160H620v160Z\"/>\n",
              "  </svg>\n",
              "    </button>\n",
              "\n",
              "  <style>\n",
              "    .colab-df-container {\n",
              "      display:flex;\n",
              "      gap: 12px;\n",
              "    }\n",
              "\n",
              "    .colab-df-convert {\n",
              "      background-color: #E8F0FE;\n",
              "      border: none;\n",
              "      border-radius: 50%;\n",
              "      cursor: pointer;\n",
              "      display: none;\n",
              "      fill: #1967D2;\n",
              "      height: 32px;\n",
              "      padding: 0 0 0 0;\n",
              "      width: 32px;\n",
              "    }\n",
              "\n",
              "    .colab-df-convert:hover {\n",
              "      background-color: #E2EBFA;\n",
              "      box-shadow: 0px 1px 2px rgba(60, 64, 67, 0.3), 0px 1px 3px 1px rgba(60, 64, 67, 0.15);\n",
              "      fill: #174EA6;\n",
              "    }\n",
              "\n",
              "    .colab-df-buttons div {\n",
              "      margin-bottom: 4px;\n",
              "    }\n",
              "\n",
              "    [theme=dark] .colab-df-convert {\n",
              "      background-color: #3B4455;\n",
              "      fill: #D2E3FC;\n",
              "    }\n",
              "\n",
              "    [theme=dark] .colab-df-convert:hover {\n",
              "      background-color: #434B5C;\n",
              "      box-shadow: 0px 1px 3px 1px rgba(0, 0, 0, 0.15);\n",
              "      filter: drop-shadow(0px 1px 2px rgba(0, 0, 0, 0.3));\n",
              "      fill: #FFFFFF;\n",
              "    }\n",
              "  </style>\n",
              "\n",
              "    <script>\n",
              "      const buttonEl =\n",
              "        document.querySelector('#df-04d07ea5-5461-4eeb-921a-9952691d7d92 button.colab-df-convert');\n",
              "      buttonEl.style.display =\n",
              "        google.colab.kernel.accessAllowed ? 'block' : 'none';\n",
              "\n",
              "      async function convertToInteractive(key) {\n",
              "        const element = document.querySelector('#df-04d07ea5-5461-4eeb-921a-9952691d7d92');\n",
              "        const dataTable =\n",
              "          await google.colab.kernel.invokeFunction('convertToInteractive',\n",
              "                                                    [key], {});\n",
              "        if (!dataTable) return;\n",
              "\n",
              "        const docLinkHtml = 'Like what you see? Visit the ' +\n",
              "          '<a target=\"_blank\" href=https://colab.research.google.com/notebooks/data_table.ipynb>data table notebook</a>'\n",
              "          + ' to learn more about interactive tables.';\n",
              "        element.innerHTML = '';\n",
              "        dataTable['output_type'] = 'display_data';\n",
              "        await google.colab.output.renderOutput(dataTable, element);\n",
              "        const docLink = document.createElement('div');\n",
              "        docLink.innerHTML = docLinkHtml;\n",
              "        element.appendChild(docLink);\n",
              "      }\n",
              "    </script>\n",
              "  </div>\n",
              "\n",
              "\n",
              "<div id=\"df-a314cb8c-6534-46fa-a8d9-2bcb57234409\">\n",
              "  <button class=\"colab-df-quickchart\" onclick=\"quickchart('df-a314cb8c-6534-46fa-a8d9-2bcb57234409')\"\n",
              "            title=\"Suggest charts\"\n",
              "            style=\"display:none;\">\n",
              "\n",
              "<svg xmlns=\"http://www.w3.org/2000/svg\" height=\"24px\"viewBox=\"0 0 24 24\"\n",
              "     width=\"24px\">\n",
              "    <g>\n",
              "        <path d=\"M19 3H5c-1.1 0-2 .9-2 2v14c0 1.1.9 2 2 2h14c1.1 0 2-.9 2-2V5c0-1.1-.9-2-2-2zM9 17H7v-7h2v7zm4 0h-2V7h2v10zm4 0h-2v-4h2v4z\"/>\n",
              "    </g>\n",
              "</svg>\n",
              "  </button>\n",
              "\n",
              "<style>\n",
              "  .colab-df-quickchart {\n",
              "      --bg-color: #E8F0FE;\n",
              "      --fill-color: #1967D2;\n",
              "      --hover-bg-color: #E2EBFA;\n",
              "      --hover-fill-color: #174EA6;\n",
              "      --disabled-fill-color: #AAA;\n",
              "      --disabled-bg-color: #DDD;\n",
              "  }\n",
              "\n",
              "  [theme=dark] .colab-df-quickchart {\n",
              "      --bg-color: #3B4455;\n",
              "      --fill-color: #D2E3FC;\n",
              "      --hover-bg-color: #434B5C;\n",
              "      --hover-fill-color: #FFFFFF;\n",
              "      --disabled-bg-color: #3B4455;\n",
              "      --disabled-fill-color: #666;\n",
              "  }\n",
              "\n",
              "  .colab-df-quickchart {\n",
              "    background-color: var(--bg-color);\n",
              "    border: none;\n",
              "    border-radius: 50%;\n",
              "    cursor: pointer;\n",
              "    display: none;\n",
              "    fill: var(--fill-color);\n",
              "    height: 32px;\n",
              "    padding: 0;\n",
              "    width: 32px;\n",
              "  }\n",
              "\n",
              "  .colab-df-quickchart:hover {\n",
              "    background-color: var(--hover-bg-color);\n",
              "    box-shadow: 0 1px 2px rgba(60, 64, 67, 0.3), 0 1px 3px 1px rgba(60, 64, 67, 0.15);\n",
              "    fill: var(--button-hover-fill-color);\n",
              "  }\n",
              "\n",
              "  .colab-df-quickchart-complete:disabled,\n",
              "  .colab-df-quickchart-complete:disabled:hover {\n",
              "    background-color: var(--disabled-bg-color);\n",
              "    fill: var(--disabled-fill-color);\n",
              "    box-shadow: none;\n",
              "  }\n",
              "\n",
              "  .colab-df-spinner {\n",
              "    border: 2px solid var(--fill-color);\n",
              "    border-color: transparent;\n",
              "    border-bottom-color: var(--fill-color);\n",
              "    animation:\n",
              "      spin 1s steps(1) infinite;\n",
              "  }\n",
              "\n",
              "  @keyframes spin {\n",
              "    0% {\n",
              "      border-color: transparent;\n",
              "      border-bottom-color: var(--fill-color);\n",
              "      border-left-color: var(--fill-color);\n",
              "    }\n",
              "    20% {\n",
              "      border-color: transparent;\n",
              "      border-left-color: var(--fill-color);\n",
              "      border-top-color: var(--fill-color);\n",
              "    }\n",
              "    30% {\n",
              "      border-color: transparent;\n",
              "      border-left-color: var(--fill-color);\n",
              "      border-top-color: var(--fill-color);\n",
              "      border-right-color: var(--fill-color);\n",
              "    }\n",
              "    40% {\n",
              "      border-color: transparent;\n",
              "      border-right-color: var(--fill-color);\n",
              "      border-top-color: var(--fill-color);\n",
              "    }\n",
              "    60% {\n",
              "      border-color: transparent;\n",
              "      border-right-color: var(--fill-color);\n",
              "    }\n",
              "    80% {\n",
              "      border-color: transparent;\n",
              "      border-right-color: var(--fill-color);\n",
              "      border-bottom-color: var(--fill-color);\n",
              "    }\n",
              "    90% {\n",
              "      border-color: transparent;\n",
              "      border-bottom-color: var(--fill-color);\n",
              "    }\n",
              "  }\n",
              "</style>\n",
              "\n",
              "  <script>\n",
              "    async function quickchart(key) {\n",
              "      const quickchartButtonEl =\n",
              "        document.querySelector('#' + key + ' button');\n",
              "      quickchartButtonEl.disabled = true;  // To prevent multiple clicks.\n",
              "      quickchartButtonEl.classList.add('colab-df-spinner');\n",
              "      try {\n",
              "        const charts = await google.colab.kernel.invokeFunction(\n",
              "            'suggestCharts', [key], {});\n",
              "      } catch (error) {\n",
              "        console.error('Error during call to suggestCharts:', error);\n",
              "      }\n",
              "      quickchartButtonEl.classList.remove('colab-df-spinner');\n",
              "      quickchartButtonEl.classList.add('colab-df-quickchart-complete');\n",
              "    }\n",
              "    (() => {\n",
              "      let quickchartButtonEl =\n",
              "        document.querySelector('#df-a314cb8c-6534-46fa-a8d9-2bcb57234409 button');\n",
              "      quickchartButtonEl.style.display =\n",
              "        google.colab.kernel.accessAllowed ? 'block' : 'none';\n",
              "    })();\n",
              "  </script>\n",
              "</div>\n",
              "    </div>\n",
              "  </div>\n"
            ],
            "application/vnd.google.colaboratory.intrinsic+json": {
              "type": "dataframe",
              "summary": "{\n  \"name\": \"df[:5]\",\n  \"rows\": 5,\n  \"fields\": [\n    {\n      \"column\": \"y\",\n      \"properties\": {\n        \"dtype\": \"number\",\n        \"std\": 0,\n        \"min\": 0,\n        \"max\": 1,\n        \"num_unique_values\": 2,\n        \"samples\": [\n          1,\n          0\n        ],\n        \"semantic_type\": \"\",\n        \"description\": \"\"\n      }\n    },\n    {\n      \"column\": \"Comment\",\n      \"properties\": {\n        \"dtype\": \"string\",\n        \"num_unique_values\": 5,\n        \"samples\": [\n          \"\\ub09c\\ub610 \\ub77c\\uc2a4\\ud2b8\\uc81c\\ub2e4\\uc774 \\uc2a4\\ud540\\uc624\\ud504\\ud3b8\\uc778\\uc904 \\uc54c\\uc558\\ub124..\\u3161\\u3161\",\n          \"'\\ub450\\ub824\\uc6c0\\uc740 \\ub9c8\\uc74c\\uc744 \\uc8fd\\uc778\\ub2e4. \\ub450\\ub824\\uc6c0\\uc774 \\uc0ac\\ub77c\\uc9c0\\uba74 \\ub098\\ub9cc \\uc624\\ub86f\\uc774 \\ub0a8\\ub294\\ub2e4.' \\uc774\\ubbf8 \\ub2e4\\uc74c\\ud3b8\\uc774 \\uae30\\ub300\\ub429\\ub2c8\\ub2e4.\"\n        ],\n        \"semantic_type\": \"\",\n        \"description\": \"\"\n      }\n    }\n  ]\n}"
            }
          },
          "metadata": {},
          "execution_count": 20
        }
      ]
    },
    {
      "cell_type": "code",
      "metadata": {
        "colab": {
          "base_uri": "https://localhost:8080/",
          "height": 211
        },
        "id": "Nu3xntKbbwEo",
        "outputId": "d9c71a23-c129-4e3d-fb8d-36a4b086effe"
      },
      "source": [
        "# iterrows 메소드\n",
        "df1=df[:5]\n",
        "for i, row in tqdm(df1.iterrows(), total=len(df1)):\n",
        "  if i>5:\n",
        "    break\n",
        "  print(i, row['y'], vocab.encode_as_ids(row['Comment']))"
      ],
      "execution_count": 21,
      "outputs": [
        {
          "output_type": "error",
          "ename": "NameError",
          "evalue": "name 'tqdm' is not defined",
          "traceback": [
            "\u001b[0;31m---------------------------------------------------------------------------\u001b[0m",
            "\u001b[0;31mNameError\u001b[0m                                 Traceback (most recent call last)",
            "\u001b[0;32m<ipython-input-21-c142e749df41>\u001b[0m in \u001b[0;36m<cell line: 3>\u001b[0;34m()\u001b[0m\n\u001b[1;32m      1\u001b[0m \u001b[0;31m# iterrows 메소드\u001b[0m\u001b[0;34m\u001b[0m\u001b[0;34m\u001b[0m\u001b[0m\n\u001b[1;32m      2\u001b[0m \u001b[0mdf1\u001b[0m\u001b[0;34m=\u001b[0m\u001b[0mdf\u001b[0m\u001b[0;34m[\u001b[0m\u001b[0;34m:\u001b[0m\u001b[0;36m5\u001b[0m\u001b[0;34m]\u001b[0m\u001b[0;34m\u001b[0m\u001b[0;34m\u001b[0m\u001b[0m\n\u001b[0;32m----> 3\u001b[0;31m \u001b[0;32mfor\u001b[0m \u001b[0mi\u001b[0m\u001b[0;34m,\u001b[0m \u001b[0mrow\u001b[0m \u001b[0;32min\u001b[0m \u001b[0mtqdm\u001b[0m\u001b[0;34m(\u001b[0m\u001b[0mdf1\u001b[0m\u001b[0;34m.\u001b[0m\u001b[0miterrows\u001b[0m\u001b[0;34m(\u001b[0m\u001b[0;34m)\u001b[0m\u001b[0;34m,\u001b[0m \u001b[0mtotal\u001b[0m\u001b[0;34m=\u001b[0m\u001b[0mlen\u001b[0m\u001b[0;34m(\u001b[0m\u001b[0mdf1\u001b[0m\u001b[0;34m)\u001b[0m\u001b[0;34m)\u001b[0m\u001b[0;34m:\u001b[0m\u001b[0;34m\u001b[0m\u001b[0;34m\u001b[0m\u001b[0m\n\u001b[0m\u001b[1;32m      4\u001b[0m   \u001b[0;32mif\u001b[0m \u001b[0mi\u001b[0m\u001b[0;34m>\u001b[0m\u001b[0;36m5\u001b[0m\u001b[0;34m:\u001b[0m\u001b[0;34m\u001b[0m\u001b[0;34m\u001b[0m\u001b[0m\n\u001b[1;32m      5\u001b[0m     \u001b[0;32mbreak\u001b[0m\u001b[0;34m\u001b[0m\u001b[0;34m\u001b[0m\u001b[0m\n",
            "\u001b[0;31mNameError\u001b[0m: name 'tqdm' is not defined"
          ]
        }
      ]
    },
    {
      "cell_type": "code",
      "metadata": {
        "id": "Al7zZ5VyUEP6",
        "colab": {
          "base_uri": "https://localhost:8080/",
          "height": 66,
          "referenced_widgets": [
            "bd1b4655cf00402fb525490a66ef380c",
            "3430eeb4fc014147804a605ea953dd38",
            "56516ded065c48f980343049db034c88",
            "7817f6ad840e434b8168973a2cf68a63",
            "2b5fff1b7743492fa5efac22bb61ef45",
            "f2329394b9fb46f5809715b2f9eb47e1",
            "006b0bfebe8049b18d37c6b354b96b95",
            "4e80381c0e0248cb95cfc9a8ecfc1d26",
            "eb915b400db24a60b0703ec65e04f706",
            "bd141efe487846d485f897bb356e7007",
            "2b2726bf76654275ab09fb1d9cf50e99"
          ]
        },
        "outputId": "a0e04f63-9719-498d-83d0-60f220e8fa02"
      },
      "source": [
        "# 13 데이터 임베딩 함수(패딩으로 길이맞춰서) : 입력변수 데이터프레임(df), 단어사전(vocab), 입력시퀀스 토큰길이(n_seq)\n",
        "from tqdm.notebook import tqdm, trange\n",
        "import numpy as np\n",
        "def make_data(df, vocab, n_seq=args.n_seq):\n",
        "  inputs, labels = [], []\n",
        "  for i, row in tqdm(df.iterrows(), total=len(df)):\n",
        "      label = row['y']\n",
        "      document = row['Comment']\n",
        "      token = vocab.encode_as_ids(str(document))\n",
        "      token = token[:n_seq]\n",
        "      token = token + [0] * (n_seq - len(token))\n",
        "      assert len(token) == n_seq\n",
        "      inputs.append(token)\n",
        "      labels.append(label)\n",
        "  inputs = np.array(inputs)\n",
        "  labels = np.array(labels)\n",
        "  return inputs, labels\n",
        "\n",
        "inputs, labels = make_data(df, vocab, n_seq=args.n_seq)\n",
        "inputs.shape, labels.shape"
      ],
      "execution_count": 22,
      "outputs": [
        {
          "output_type": "display_data",
          "data": {
            "text/plain": [
              "  0%|          | 0/9990 [00:00<?, ?it/s]"
            ],
            "application/vnd.jupyter.widget-view+json": {
              "version_major": 2,
              "version_minor": 0,
              "model_id": "bd1b4655cf00402fb525490a66ef380c"
            }
          },
          "metadata": {}
        },
        {
          "output_type": "execute_result",
          "data": {
            "text/plain": [
              "((9990, 65), (9990,))"
            ]
          },
          "metadata": {},
          "execution_count": 22
        }
      ]
    },
    {
      "cell_type": "code",
      "metadata": {
        "colab": {
          "base_uri": "https://localhost:8080/"
        },
        "id": "dl7J-lv_UEP6",
        "outputId": "7f259892-8f46-4ea1-f4d1-82553be59319"
      },
      "source": [
        "print(inputs)\n",
        "print(labels)\n"
      ],
      "execution_count": 23,
      "outputs": [
        {
          "output_type": "stream",
          "name": "stdout",
          "text": [
            "[[  235  9432    38 ...     0     0     0]\n",
            " [  767 17041   545 ...     0     0     0]\n",
            " [ 4745  1249   357 ...     0     0     0]\n",
            " ...\n",
            " [ 3037    19  3862 ...     0     0     0]\n",
            " [ 1038  2612  2184 ...     0     0     0]\n",
            " [  505   824   823 ...     0     0     0]]\n",
            "[0 0 1 ... 1 1 1]\n"
          ]
        }
      ]
    },
    {
      "cell_type": "code",
      "metadata": {
        "colab": {
          "base_uri": "https://localhost:8080/"
        },
        "id": "ZSy4qBsUrlij",
        "outputId": "3a8d10f1-7a8f-4e67-f2bd-8ad7cc5de0f3"
      },
      "source": [
        "# 14. 데이터를  20%씩 test 데이터와 val 데이터로 분리\n",
        "from sklearn.model_selection import train_test_split\n",
        "train_inputs, test_inputs, train_labels, test_labels = train_test_split(inputs, labels, test_size=0.2, random_state=args.seed)\n",
        "train_inputs, valid_inputs, train_labels, valid_labels = train_test_split(train_inputs, train_labels, test_size=0.2, random_state=args.seed)\n",
        "train_inputs.shape, train_labels.shape"
      ],
      "execution_count": 24,
      "outputs": [
        {
          "output_type": "execute_result",
          "data": {
            "text/plain": [
              "((6393, 65), (6393,))"
            ]
          },
          "metadata": {},
          "execution_count": 24
        }
      ]
    },
    {
      "cell_type": "code",
      "metadata": {
        "colab": {
          "base_uri": "https://localhost:8080/"
        },
        "id": "T6Vlj4mZUEP7",
        "outputId": "d65e84ca-b32c-49f4-c647-6713f6981120"
      },
      "source": [
        "print(valid_inputs.shape, valid_labels.shape)\n",
        "print(test_inputs.shape, test_labels.shape)"
      ],
      "execution_count": 25,
      "outputs": [
        {
          "output_type": "stream",
          "name": "stdout",
          "text": [
            "(1599, 65) (1599,)\n",
            "(1998, 65) (1998,)\n"
          ]
        }
      ]
    },
    {
      "cell_type": "markdown",
      "metadata": {
        "id": "NpKah42WUEP7"
      },
      "source": [
        "# 15.4 모델링과 학습 단계"
      ]
    },
    {
      "cell_type": "code",
      "metadata": {
        "id": "YKGXKeSvUEP7",
        "colab": {
          "base_uri": "https://localhost:8080/",
          "height": 533
        },
        "outputId": "c443e0a7-cf11-4e5a-cd4e-b5748b552236"
      },
      "source": [
        "#15. 양방향 LSTM 모델링 정의\n",
        "import tensorflow as tf\n",
        "\n",
        "def build_model(args):\n",
        "    inputs = tf.keras.layers.Input((None,))\n",
        "\n",
        "    embedding = tf.keras.layers.Embedding(args.n_vocab, args.d_model)\n",
        "    hidden = embedding(inputs)\n",
        "\n",
        "    # modeling 선택 입력 부분 : RNN, CNN, Attention, Linear 등으로 입력\n",
        "    lstm = tf.keras.layers.Bidirectional(tf.keras.layers.LSTM(units=args.units, return_sequences=True))\n",
        "    hidden = lstm(hidden)\n",
        "    # 데이터의 특징 추출\n",
        "    pool = tf.keras.layers.GlobalMaxPooling1D()\n",
        "    hidden = pool(hidden)\n",
        "    linear = tf.keras.layers.Dense(args.n_out, activation=tf.nn.softmax)\n",
        "    y_pred = linear(hidden)\n",
        "\n",
        "    model = tf.keras.Model(inputs=inputs, outputs=y_pred)\n",
        "    return model\n",
        "\n",
        "model = build_model(args)\n",
        "tf.keras.utils.plot_model(model, 'model.png', show_shapes=True)"
      ],
      "execution_count": 26,
      "outputs": [
        {
          "output_type": "execute_result",
          "data": {
            "image/png": "[encoded data removed]",
            "text/plain": [
              "<IPython.core.display.Image object>"
            ]
          },
          "metadata": {},
          "execution_count": 26
        }
      ]
    },
    {
      "cell_type": "code",
      "metadata": {
        "id": "59WvjOuhUEP8",
        "colab": {
          "base_uri": "https://localhost:8080/"
        },
        "outputId": "f65c630e-3828-4087-f454-284624b72dc0"
      },
      "source": [
        "#16. 학습\n",
        "model = build_model(args)\n",
        "model.compile(loss=\"sparse_categorical_crossentropy\", optimizer=\"adam\", metrics=[\"accuracy\"])\n",
        "early_stopping = tf.keras.callbacks.EarlyStopping(monitor='val_accuracy', patience=10)\n",
        "save_weights = tf.keras.callbacks.ModelCheckpoint(\"movie.hdf5\",\n",
        "                                                  monitor='val_accuracy',\n",
        "                                                  verbose=1,\n",
        "                                                  save_best_only=True,\n",
        "                                                  mode=\"max\",\n",
        "                                                  save_freq=\"epoch\",\n",
        "                                                  save_weights_only=True)\n",
        "csv_logger = tf.keras.callbacks.CSVLogger(\"movie.csv\")\n",
        "history = model.fit(train_inputs, train_labels,\n",
        "                    epochs=20,\n",
        "                    batch_size=256,\n",
        "                    validation_data=(valid_inputs, valid_labels),\n",
        "                    callbacks=[early_stopping, save_weights, csv_logger])"
      ],
      "execution_count": 27,
      "outputs": [
        {
          "output_type": "stream",
          "name": "stdout",
          "text": [
            "Epoch 1/20\n",
            "25/25 [==============================] - ETA: 0s - loss: 0.6172 - accuracy: 0.6787\n",
            "Epoch 1: val_accuracy improved from -inf to 0.71107, saving model to movie.hdf5\n",
            "25/25 [==============================] - 9s 182ms/step - loss: 0.6172 - accuracy: 0.6787 - val_loss: 0.5823 - val_accuracy: 0.7111\n",
            "Epoch 2/20\n",
            "25/25 [==============================] - ETA: 0s - loss: 0.4441 - accuracy: 0.7859\n",
            "Epoch 2: val_accuracy improved from 0.71107 to 0.78111, saving model to movie.hdf5\n",
            "25/25 [==============================] - 3s 107ms/step - loss: 0.4441 - accuracy: 0.7859 - val_loss: 0.4652 - val_accuracy: 0.7811\n",
            "Epoch 3/20\n",
            "25/25 [==============================] - ETA: 0s - loss: 0.2777 - accuracy: 0.8907\n",
            "Epoch 3: val_accuracy did not improve from 0.78111\n",
            "25/25 [==============================] - 2s 95ms/step - loss: 0.2777 - accuracy: 0.8907 - val_loss: 0.5487 - val_accuracy: 0.7805\n",
            "Epoch 4/20\n",
            "25/25 [==============================] - ETA: 0s - loss: 0.1817 - accuracy: 0.9351\n",
            "Epoch 4: val_accuracy improved from 0.78111 to 0.78424, saving model to movie.hdf5\n",
            "25/25 [==============================] - 5s 207ms/step - loss: 0.1817 - accuracy: 0.9351 - val_loss: 0.6143 - val_accuracy: 0.7842\n",
            "Epoch 5/20\n",
            "25/25 [==============================] - ETA: 0s - loss: 0.1253 - accuracy: 0.9575\n",
            "Epoch 5: val_accuracy did not improve from 0.78424\n",
            "25/25 [==============================] - 4s 150ms/step - loss: 0.1253 - accuracy: 0.9575 - val_loss: 0.7185 - val_accuracy: 0.7692\n",
            "Epoch 6/20\n",
            "25/25 [==============================] - ETA: 0s - loss: 0.0897 - accuracy: 0.9693\n",
            "Epoch 6: val_accuracy did not improve from 0.78424\n",
            "25/25 [==============================] - 2s 87ms/step - loss: 0.0897 - accuracy: 0.9693 - val_loss: 0.8691 - val_accuracy: 0.7605\n",
            "Epoch 7/20\n",
            "25/25 [==============================] - ETA: 0s - loss: 0.0671 - accuracy: 0.9787\n",
            "Epoch 7: val_accuracy did not improve from 0.78424\n",
            "25/25 [==============================] - 2s 85ms/step - loss: 0.0671 - accuracy: 0.9787 - val_loss: 1.0820 - val_accuracy: 0.7567\n",
            "Epoch 8/20\n",
            "24/25 [===========================>..] - ETA: 0s - loss: 0.0510 - accuracy: 0.9834\n",
            "Epoch 8: val_accuracy did not improve from 0.78424\n",
            "25/25 [==============================] - 2s 81ms/step - loss: 0.0513 - accuracy: 0.9833 - val_loss: 1.1741 - val_accuracy: 0.7548\n",
            "Epoch 9/20\n",
            "25/25 [==============================] - ETA: 0s - loss: 0.0455 - accuracy: 0.9839\n",
            "Epoch 9: val_accuracy did not improve from 0.78424\n",
            "25/25 [==============================] - 3s 126ms/step - loss: 0.0455 - accuracy: 0.9839 - val_loss: 1.2729 - val_accuracy: 0.7536\n",
            "Epoch 10/20\n",
            "25/25 [==============================] - ETA: 0s - loss: 0.0402 - accuracy: 0.9876\n",
            "Epoch 10: val_accuracy did not improve from 0.78424\n",
            "25/25 [==============================] - 2s 81ms/step - loss: 0.0402 - accuracy: 0.9876 - val_loss: 1.5733 - val_accuracy: 0.7530\n",
            "Epoch 11/20\n",
            "25/25 [==============================] - ETA: 0s - loss: 0.0462 - accuracy: 0.9847\n",
            "Epoch 11: val_accuracy did not improve from 0.78424\n",
            "25/25 [==============================] - 2s 73ms/step - loss: 0.0462 - accuracy: 0.9847 - val_loss: 1.3898 - val_accuracy: 0.7586\n",
            "Epoch 12/20\n",
            "25/25 [==============================] - ETA: 0s - loss: 0.0418 - accuracy: 0.9855\n",
            "Epoch 12: val_accuracy did not improve from 0.78424\n",
            "25/25 [==============================] - 2s 79ms/step - loss: 0.0418 - accuracy: 0.9855 - val_loss: 1.4418 - val_accuracy: 0.7573\n",
            "Epoch 13/20\n",
            "24/25 [===========================>..] - ETA: 0s - loss: 0.0345 - accuracy: 0.9886\n",
            "Epoch 13: val_accuracy did not improve from 0.78424\n",
            "25/25 [==============================] - 2s 76ms/step - loss: 0.0338 - accuracy: 0.9889 - val_loss: 1.4197 - val_accuracy: 0.7555\n",
            "Epoch 14/20\n",
            "24/25 [===========================>..] - ETA: 0s - loss: 0.0310 - accuracy: 0.9893\n",
            "Epoch 14: val_accuracy did not improve from 0.78424\n",
            "25/25 [==============================] - 2s 80ms/step - loss: 0.0307 - accuracy: 0.9894 - val_loss: 1.5502 - val_accuracy: 0.7611\n"
          ]
        }
      ]
    },
    {
      "cell_type": "code",
      "metadata": {
        "colab": {
          "base_uri": "https://localhost:8080/",
          "height": 369
        },
        "id": "omRQpwnAUEP8",
        "outputId": "5524b330-ba9f-4ef2-8e86-3cc3c9583a2a"
      },
      "source": [
        "# 17. 학습결과 손실함수와 정확도 확인\n",
        "plt.figure(figsize=(12, 4))\n",
        "plt.subplot(1, 2, 1)\n",
        "plt.plot(history.history['loss'], 'b-', label='loss')\n",
        "plt.plot(history.history['val_loss'], 'r-', label='val_loss')\n",
        "plt.legend()\n",
        "plt.subplot(1, 2, 2)\n",
        "plt.plot(history.history['accuracy'], 'b-', label='accuracy')\n",
        "plt.plot(history.history['val_accuracy'], 'r--', label='val_accuracy')\n",
        "plt.legend()\n",
        "plt.show()"
      ],
      "execution_count": 28,
      "outputs": [
        {
          "output_type": "display_data",
          "data": {
            "text/plain": [
              "<Figure size 1200x400 with 2 Axes>"
            ],
            "image/png": "[encoded data removed]"
          },
          "metadata": {}
        }
      ]
    },
    {
      "cell_type": "markdown",
      "metadata": {
        "id": "2wkwxiAOUEP8"
      },
      "source": [
        "# 15.5 평가 및 배포 단계"
      ]
    },
    {
      "cell_type": "code",
      "metadata": {
        "colab": {
          "base_uri": "https://localhost:8080/"
        },
        "id": "Fe_RMCszUEP9",
        "outputId": "6eda301b-faf3-46cb-e724-2adb5ffbd749"
      },
      "source": [
        "#18 모델 평가\n",
        "model.load_weights(\"movie.hdf5\")\n",
        "model.evaluate(test_inputs, test_labels)"
      ],
      "execution_count": 29,
      "outputs": [
        {
          "output_type": "stream",
          "name": "stdout",
          "text": [
            "63/63 [==============================] - 0s 7ms/step - loss: 0.5460 - accuracy: 0.7948\n"
          ]
        },
        {
          "output_type": "execute_result",
          "data": {
            "text/plain": [
              "[0.5459910035133362, 0.7947947978973389]"
            ]
          },
          "metadata": {},
          "execution_count": 29
        }
      ]
    },
    {
      "cell_type": "code",
      "metadata": {
        "colab": {
          "base_uri": "https://localhost:8080/",
          "height": 331
        },
        "id": "es5BedLDUEP9",
        "outputId": "5367b949-cfce-4203-f850-5947d95e2f94"
      },
      "source": [
        "#19. confusion matrix\n",
        "import seaborn as sns\n",
        "from sklearn.metrics import confusion_matrix\n",
        "y_pred = model.predict(test_inputs)\n",
        "y_class = np.argmax(y_pred, axis=-1)\n",
        "\n",
        "c_mat = confusion_matrix(y_pred = y_class, y_true = test_labels)\n",
        "plt.figure(figsize=(4, 3))\n",
        "sns.heatmap(c_mat, annot=True, annot_kws={'size':15}, cmap='OrRd', fmt='.10g')\n",
        "plt.title('Confusion Matrix')\n",
        "plt.show()\n"
      ],
      "execution_count": 30,
      "outputs": [
        {
          "output_type": "stream",
          "name": "stdout",
          "text": [
            "63/63 [==============================] - 1s 4ms/step\n"
          ]
        },
        {
          "output_type": "display_data",
          "data": {
            "text/plain": [
              "<Figure size 400x300 with 2 Axes>"
            ],
            "image/png": "[encoded data removed]"
          },
          "metadata": {}
        }
      ]
    },
    {
      "cell_type": "code",
      "metadata": {
        "colab": {
          "base_uri": "https://localhost:8080/"
        },
        "id": "p3xLE0GaAxqy",
        "outputId": "38f39f61-bfe9-47cf-f818-94fb000a3c1a"
      },
      "source": [
        "# Confusion Matrix : 앞에 나오는 것이 좌측 index, 뒤에가 아래 인덱스 (통상 실제, 예측순으로 )\n",
        "# TN, FP\n",
        "# FN, TP\n",
        "confusion_matrix(y_true=[0,0,0,0,1,1,1,1,1,1], y_pred=[0,0,0,1,1,1,1,1,0,0])"
      ],
      "execution_count": 31,
      "outputs": [
        {
          "output_type": "execute_result",
          "data": {
            "text/plain": [
              "array([[3, 1],\n",
              "       [2, 4]])"
            ]
          },
          "metadata": {},
          "execution_count": 31
        }
      ]
    },
    {
      "cell_type": "code",
      "metadata": {
        "colab": {
          "base_uri": "https://localhost:8080/",
          "height": 80
        },
        "id": "8iyGim_vUEP-",
        "outputId": "fb8fdd3f-79a1-4e4d-8952-f13e65218579"
      },
      "source": [
        "#19. 정확도 측정 지표\n",
        "pd.options.display.float_format = '{:.2f}'.format\n",
        "tp = c_mat[1, 1]\n",
        "tn = c_mat[0, 0]\n",
        "fp = c_mat[0, 1]\n",
        "fn = c_mat[1, 0]\n",
        "accuracy = (tp + tn) / max((tp + tn + fp + fn), 1)\n",
        "precision = (tp) / max((tp + fp), 1)\n",
        "recall = (tp) / max((tp + fn), 1)\n",
        "f1 = 2 * (precision * recall) / max((precision + recall), 0.1)\n",
        "\n",
        "table = pd.DataFrame([accuracy, precision, recall,f1]).T\n",
        "table.columns=['Accuracy(정확도)', 'Precision(정밀도)', 'Recall(재현율)', 'F1']\n",
        "table"
      ],
      "execution_count": 32,
      "outputs": [
        {
          "output_type": "execute_result",
          "data": {
            "text/plain": [
              "   Accuracy(정확도)  Precision(정밀도)  Recall(재현율)   F1\n",
              "0           0.79            0.85         0.85 0.85"
            ],
            "text/html": [
              "\n",
              "  <div id=\"df-6252e574-ec7b-4b3f-b8e1-6ed0c60cf84b\" class=\"colab-df-container\">\n",
              "    <div>\n",
              "<style scoped>\n",
              "    .dataframe tbody tr th:only-of-type {\n",
              "        vertical-align: middle;\n",
              "    }\n",
              "\n",
              "    .dataframe tbody tr th {\n",
              "        vertical-align: top;\n",
              "    }\n",
              "\n",
              "    .dataframe thead th {\n",
              "        text-align: right;\n",
              "    }\n",
              "</style>\n",
              "<table border=\"1\" class=\"dataframe\">\n",
              "  <thead>\n",
              "    <tr style=\"text-align: right;\">\n",
              "      <th></th>\n",
              "      <th>Accuracy(정확도)</th>\n",
              "      <th>Precision(정밀도)</th>\n",
              "      <th>Recall(재현율)</th>\n",
              "      <th>F1</th>\n",
              "    </tr>\n",
              "  </thead>\n",
              "  <tbody>\n",
              "    <tr>\n",
              "      <th>0</th>\n",
              "      <td>0.79</td>\n",
              "      <td>0.85</td>\n",
              "      <td>0.85</td>\n",
              "      <td>0.85</td>\n",
              "    </tr>\n",
              "  </tbody>\n",
              "</table>\n",
              "</div>\n",
              "    <div class=\"colab-df-buttons\">\n",
              "\n",
              "  <div class=\"colab-df-container\">\n",
              "    <button class=\"colab-df-convert\" onclick=\"convertToInteractive('df-6252e574-ec7b-4b3f-b8e1-6ed0c60cf84b')\"\n",
              "            title=\"Convert this dataframe to an interactive table.\"\n",
              "            style=\"display:none;\">\n",
              "\n",
              "  <svg xmlns=\"http://www.w3.org/2000/svg\" height=\"24px\" viewBox=\"0 -960 960 960\">\n",
              "    <path d=\"M120-120v-720h720v720H120Zm60-500h600v-160H180v160Zm220 220h160v-160H400v160Zm0 220h160v-160H400v160ZM180-400h160v-160H180v160Zm440 0h160v-160H620v160ZM180-180h160v-160H180v160Zm440 0h160v-160H620v160Z\"/>\n",
              "  </svg>\n",
              "    </button>\n",
              "\n",
              "  <style>\n",
              "    .colab-df-container {\n",
              "      display:flex;\n",
              "      gap: 12px;\n",
              "    }\n",
              "\n",
              "    .colab-df-convert {\n",
              "      background-color: #E8F0FE;\n",
              "      border: none;\n",
              "      border-radius: 50%;\n",
              "      cursor: pointer;\n",
              "      display: none;\n",
              "      fill: #1967D2;\n",
              "      height: 32px;\n",
              "      padding: 0 0 0 0;\n",
              "      width: 32px;\n",
              "    }\n",
              "\n",
              "    .colab-df-convert:hover {\n",
              "      background-color: #E2EBFA;\n",
              "      box-shadow: 0px 1px 2px rgba(60, 64, 67, 0.3), 0px 1px 3px 1px rgba(60, 64, 67, 0.15);\n",
              "      fill: #174EA6;\n",
              "    }\n",
              "\n",
              "    .colab-df-buttons div {\n",
              "      margin-bottom: 4px;\n",
              "    }\n",
              "\n",
              "    [theme=dark] .colab-df-convert {\n",
              "      background-color: #3B4455;\n",
              "      fill: #D2E3FC;\n",
              "    }\n",
              "\n",
              "    [theme=dark] .colab-df-convert:hover {\n",
              "      background-color: #434B5C;\n",
              "      box-shadow: 0px 1px 3px 1px rgba(0, 0, 0, 0.15);\n",
              "      filter: drop-shadow(0px 1px 2px rgba(0, 0, 0, 0.3));\n",
              "      fill: #FFFFFF;\n",
              "    }\n",
              "  </style>\n",
              "\n",
              "    <script>\n",
              "      const buttonEl =\n",
              "        document.querySelector('#df-6252e574-ec7b-4b3f-b8e1-6ed0c60cf84b button.colab-df-convert');\n",
              "      buttonEl.style.display =\n",
              "        google.colab.kernel.accessAllowed ? 'block' : 'none';\n",
              "\n",
              "      async function convertToInteractive(key) {\n",
              "        const element = document.querySelector('#df-6252e574-ec7b-4b3f-b8e1-6ed0c60cf84b');\n",
              "        const dataTable =\n",
              "          await google.colab.kernel.invokeFunction('convertToInteractive',\n",
              "                                                    [key], {});\n",
              "        if (!dataTable) return;\n",
              "\n",
              "        const docLinkHtml = 'Like what you see? Visit the ' +\n",
              "          '<a target=\"_blank\" href=https://colab.research.google.com/notebooks/data_table.ipynb>data table notebook</a>'\n",
              "          + ' to learn more about interactive tables.';\n",
              "        element.innerHTML = '';\n",
              "        dataTable['output_type'] = 'display_data';\n",
              "        await google.colab.output.renderOutput(dataTable, element);\n",
              "        const docLink = document.createElement('div');\n",
              "        docLink.innerHTML = docLinkHtml;\n",
              "        element.appendChild(docLink);\n",
              "      }\n",
              "    </script>\n",
              "  </div>\n",
              "\n",
              "    </div>\n",
              "  </div>\n"
            ],
            "application/vnd.google.colaboratory.intrinsic+json": {
              "type": "dataframe",
              "variable_name": "table",
              "summary": "{\n  \"name\": \"table\",\n  \"rows\": 1,\n  \"fields\": [\n    {\n      \"column\": \"Accuracy(\\uc815\\ud655\\ub3c4)\",\n      \"properties\": {\n        \"dtype\": \"number\",\n        \"std\": null,\n        \"min\": 0.7947947947947948,\n        \"max\": 0.7947947947947948,\n        \"num_unique_values\": 1,\n        \"samples\": [\n          0.7947947947947948\n        ],\n        \"semantic_type\": \"\",\n        \"description\": \"\"\n      }\n    },\n    {\n      \"column\": \"Precision(\\uc815\\ubc00\\ub3c4)\",\n      \"properties\": {\n        \"dtype\": \"number\",\n        \"std\": null,\n        \"min\": 0.8481012658227848,\n        \"max\": 0.8481012658227848,\n        \"num_unique_values\": 1,\n        \"samples\": [\n          0.8481012658227848\n        ],\n        \"semantic_type\": \"\",\n        \"description\": \"\"\n      }\n    },\n    {\n      \"column\": \"Recall(\\uc7ac\\ud604\\uc728)\",\n      \"properties\": {\n        \"dtype\": \"number\",\n        \"std\": null,\n        \"min\": 0.8468401486988848,\n        \"max\": 0.8468401486988848,\n        \"num_unique_values\": 1,\n        \"samples\": [\n          0.8468401486988848\n        ],\n        \"semantic_type\": \"\",\n        \"description\": \"\"\n      }\n    },\n    {\n      \"column\": \"F1\",\n      \"properties\": {\n        \"dtype\": \"number\",\n        \"std\": null,\n        \"min\": 0.8474702380952381,\n        \"max\": 0.8474702380952381,\n        \"num_unique_values\": 1,\n        \"samples\": [\n          0.8474702380952381\n        ],\n        \"semantic_type\": \"\",\n        \"description\": \"\"\n      }\n    }\n  ]\n}"
            }
          },
          "metadata": {},
          "execution_count": 32
        }
      ]
    },
    {
      "cell_type": "code",
      "metadata": {
        "id": "4hEw68qTUEP-",
        "colab": {
          "base_uri": "https://localhost:8080/",
          "height": 53
        },
        "outputId": "67986c90-6a5a-446b-9742-f252c151b307"
      },
      "source": [
        "#20. 배포\n",
        "model = build_model(args)\n",
        "model.load_weights(\"movie.hdf5\")\n",
        "def do_predict(model, string):\n",
        "    infer_input = vocab.encode_as_ids(string)\n",
        "    infer_input = np.array([infer_input])\n",
        "    y_pred = model.predict(infer_input)\n",
        "    y_class = np.argmax(y_pred, axis=-1)[0]\n",
        "    return id_to_label[y_class]\n",
        "\n",
        "string = \"영화가 너무 심심해요\"\n",
        "do_predict(model, string)"
      ],
      "execution_count": 33,
      "outputs": [
        {
          "output_type": "stream",
          "name": "stdout",
          "text": [
            "1/1 [==============================] - 1s 648ms/step\n"
          ]
        },
        {
          "output_type": "execute_result",
          "data": {
            "text/plain": [
              "'부정'"
            ],
            "application/vnd.google.colaboratory.intrinsic+json": {
              "type": "string"
            }
          },
          "metadata": {},
          "execution_count": 33
        }
      ]
    },
    {
      "cell_type": "code",
      "metadata": {
        "colab": {
          "base_uri": "https://localhost:8080/"
        },
        "id": "LaxcrYbZUEP-",
        "outputId": "1c22bf0e-f8fb-4253-91f1-93273528f722"
      },
      "source": [
        "# 예측 과정\n",
        "infer_input = vocab.encode_as_ids(string)\n",
        "infer_input = np.array([infer_input])\n",
        "infer_input"
      ],
      "execution_count": 34,
      "outputs": [
        {
          "output_type": "execute_result",
          "data": {
            "text/plain": [
              "array([[ 284,   19, 2360,  732,  690,   61,  489]])"
            ]
          },
          "metadata": {},
          "execution_count": 34
        }
      ]
    },
    {
      "cell_type": "code",
      "metadata": {
        "colab": {
          "base_uri": "https://localhost:8080/"
        },
        "id": "Uw-1Nqv1UEP-",
        "outputId": "0453e95b-d4b7-4b80-e4f6-4c531b1c3ddc"
      },
      "source": [
        "train_inputs.shape, infer_input.shape"
      ],
      "execution_count": 35,
      "outputs": [
        {
          "output_type": "execute_result",
          "data": {
            "text/plain": [
              "((6393, 65), (1, 7))"
            ]
          },
          "metadata": {},
          "execution_count": 35
        }
      ]
    },
    {
      "cell_type": "code",
      "metadata": {
        "colab": {
          "base_uri": "https://localhost:8080/"
        },
        "id": "tYX9co-lUEP_",
        "outputId": "fc8fa37a-77fc-4c0d-bb47-3f03ba2bb462"
      },
      "source": [
        "y_pred = model.predict(infer_input)\n",
        "y_pred"
      ],
      "execution_count": 36,
      "outputs": [
        {
          "output_type": "stream",
          "name": "stdout",
          "text": [
            "1/1 [==============================] - 0s 20ms/step\n"
          ]
        },
        {
          "output_type": "execute_result",
          "data": {
            "text/plain": [
              "array([[0.89341515, 0.10658488]], dtype=float32)"
            ]
          },
          "metadata": {},
          "execution_count": 36
        }
      ]
    },
    {
      "cell_type": "code",
      "metadata": {
        "colab": {
          "base_uri": "https://localhost:8080/"
        },
        "id": "pqIhtBNvUEP_",
        "outputId": "984f3602-5407-4535-92df-17c6912bc4ef"
      },
      "source": [
        "import numpy as np\n",
        "y_class = np.argmax(y_pred, axis=-1)[0]\n",
        "print(f\"{string} : {id_to_label[y_class]}\")"
      ],
      "execution_count": 37,
      "outputs": [
        {
          "output_type": "stream",
          "name": "stdout",
          "text": [
            "영화가 너무 심심해요 : 부정\n"
          ]
        }
      ]
    },
    {
      "cell_type": "code",
      "metadata": {
        "colab": {
          "base_uri": "https://localhost:8080/",
          "height": 53
        },
        "id": "SNyY7hwhUEQA",
        "outputId": "ffe8848f-904a-4c8a-d2d9-00772726eeee"
      },
      "source": [
        "do_predict(model, string)"
      ],
      "execution_count": 38,
      "outputs": [
        {
          "output_type": "stream",
          "name": "stdout",
          "text": [
            "1/1 [==============================] - 0s 16ms/step\n"
          ]
        },
        {
          "output_type": "execute_result",
          "data": {
            "text/plain": [
              "'부정'"
            ],
            "application/vnd.google.colaboratory.intrinsic+json": {
              "type": "string"
            }
          },
          "metadata": {},
          "execution_count": 38
        }
      ]
    },
    {
      "cell_type": "code",
      "metadata": {
        "colab": {
          "base_uri": "https://localhost:8080/"
        },
        "id": "0c7Q0LzfUEQA",
        "outputId": "d9127824-7205-4aec-e1dc-cb4e3f3b6010"
      },
      "source": [
        "#21 대화형으로 배포\n",
        "# 영화 재미없어요, 배우들이 연기를 너무 잘합니다, 너무 심심해, 다음에 다시 보고싶어요\n",
        "while True:\n",
        "    print(\"input> \", end=\"\")\n",
        "    string = str(input())\n",
        "    if len(string) == 0:\n",
        "        break\n",
        "    result = do_predict(model, string)\n",
        "    print(result)"
      ],
      "execution_count": 39,
      "outputs": [
        {
          "name": "stdout",
          "output_type": "stream",
          "text": [
            "input> 영화 재미없어요\n",
            "1/1 [==============================] - 1s 600ms/step\n",
            "부정\n",
            "input> 배우들이 연기를 너무 잘합니다\n",
            "1/1 [==============================] - 0s 18ms/step\n",
            "긍정\n",
            "input> 너무 심심해\n",
            "1/1 [==============================] - 0s 17ms/step\n",
            "부정\n",
            "input> \n"
          ]
        }
      ]
    },
    {
      "cell_type": "code",
      "metadata": {
        "id": "5zUAp1N_Oet5"
      },
      "source": [],
      "execution_count": 39,
      "outputs": []
    }
  ]
}