{
  "nbformat": 4,
  "nbformat_minor": 0,
  "metadata": {
    "colab": {
      "provenance": [],
      "toc_visible": true
    },
    "kernelspec": {
      "name": "python3",
      "display_name": "Python 3"
    },
    "language_info": {
      "name": "python"
    }
  },
  "cells": [
    {
      "cell_type": "markdown",
      "source": [
        "# 07.1 정규표현식과 텍스트 데이터 전처리"
      ],
      "metadata": {
        "id": "l77ZqN_Xnrp_"
      }
    },
    {
      "cell_type": "markdown",
      "source": [
        "7.1.1 정규표현식 소개"
      ],
      "metadata": {
        "id": "z16I3I6DibpZ"
      }
    },
    {
      "cell_type": "markdown",
      "source": [
        "7.1.2 정규표현식을 이용한 텍스트 데이터 전처리"
      ],
      "metadata": {
        "id": "k1oOhX_Oigi1"
      }
    },
    {
      "cell_type": "code",
      "execution_count": 1,
      "metadata": {
        "colab": {
          "base_uri": "https://localhost:8080/"
        },
        "id": "DK3-yo6EnSCw",
        "outputId": "5aeb9794-8d9a-47fc-9606-6f673ee1c172"
      },
      "outputs": [
        {
          "output_type": "execute_result",
          "data": {
            "text/plain": [
              "['홍', '길', '동', '전', '화', '번', '호', '는', '번', '입', '니', '까']"
            ]
          },
          "metadata": {},
          "execution_count": 1
        }
      ],
      "source": [
        "import re\n",
        "text = '홍길동 전화번호는 Kt 1234-5678번 입니까?'\n",
        "f = re.compile('[가-힣]').findall(text)\n",
        "f"
      ]
    },
    {
      "cell_type": "code",
      "source": [
        "join =\" \".join(f)\n",
        "comma = \",\".join(f)\n",
        "print(join, comma)\n",
        "re.compile('\\w+').findall(text)"
      ],
      "metadata": {
        "colab": {
          "base_uri": "https://localhost:8080/"
        },
        "id": "k7csYOdKnerE",
        "outputId": "5cf9b0b4-7da9-42cb-e2e7-0b4aff714058"
      },
      "execution_count": 2,
      "outputs": [
        {
          "output_type": "stream",
          "name": "stdout",
          "text": [
            "홍 길 동 전 화 번 호 는 번 입 니 까 홍,길,동,전,화,번,호,는,번,입,니,까\n"
          ]
        },
        {
          "output_type": "execute_result",
          "data": {
            "text/plain": [
              "['홍길동', '전화번호는', 'Kt', '1234', '5678번', '입니까']"
            ]
          },
          "metadata": {},
          "execution_count": 2
        }
      ]
    },
    {
      "cell_type": "code",
      "source": [
        "print(re.compile('\\d').sub(' ',text))\n",
        "print(re.compile('[^가-힣+ ]').sub(' ',text))"
      ],
      "metadata": {
        "colab": {
          "base_uri": "https://localhost:8080/"
        },
        "id": "L45BsnomnjXW",
        "outputId": "896f85e9-7392-4c09-9f73-af9cfea8f691"
      },
      "execution_count": 3,
      "outputs": [
        {
          "output_type": "stream",
          "name": "stdout",
          "text": [
            "홍길동 전화번호는 Kt     -    번 입니까?\n",
            "홍길동 전화번호는             번 입니까 \n"
          ]
        }
      ]
    },
    {
      "cell_type": "markdown",
      "source": [
        "# 07.2 한글 맞춤법과 반복되는 신조어 처리"
      ],
      "metadata": {
        "id": "QeH5kZTSn330"
      }
    },
    {
      "cell_type": "code",
      "source": [
        "# !pip install git+https://github.com/ssut/py-hanspell\n",
        "# !pip install git+https://github.com/haven-jeon/PyKoSpacing.git"
      ],
      "metadata": {
        "id": "CyawY4MCqsjJ"
      },
      "execution_count": 4,
      "outputs": []
    },
    {
      "cell_type": "markdown",
      "source": [
        "참조 : https://github.com/ssut/py-hanspell\n",
        "\n",
        "참조 : https://github.com/haven-jeon/PyKoSpacing"
      ],
      "metadata": {
        "id": "4-ZO0Kx3hHoH"
      }
    },
    {
      "cell_type": "code",
      "source": [
        "# from hanspell import spell_checker\n",
        "# print(spell_checker.check(\"아버지가방에들어가신다\"))"
      ],
      "metadata": {
        "id": "26uFl59YPRB8"
      },
      "execution_count": 5,
      "outputs": []
    },
    {
      "cell_type": "code",
      "source": [
        "!pip install soynlp"
      ],
      "metadata": {
        "colab": {
          "base_uri": "https://localhost:8080/"
        },
        "id": "ooZSvMMgoAnP",
        "outputId": "4b1dd2ca-59d6-4416-8551-82b53a4d796b"
      },
      "execution_count": 6,
      "outputs": [
        {
          "output_type": "stream",
          "name": "stdout",
          "text": [
            "Collecting soynlp\n",
            "  Downloading soynlp-0.0.493-py3-none-any.whl (416 kB)\n",
            "\u001b[2K     \u001b[90m━━━━━━━━━━━━━━━━━━━━━━━━━━━━━━━━━━━━━━━━\u001b[0m \u001b[32m416.8/416.8 kB\u001b[0m \u001b[31m5.3 MB/s\u001b[0m eta \u001b[36m0:00:00\u001b[0m\n",
            "\u001b[?25hRequirement already satisfied: numpy>=1.12.1 in /usr/local/lib/python3.10/dist-packages (from soynlp) (1.25.2)\n",
            "Requirement already satisfied: psutil>=5.0.1 in /usr/local/lib/python3.10/dist-packages (from soynlp) (5.9.5)\n",
            "Requirement already satisfied: scipy>=1.1.0 in /usr/local/lib/python3.10/dist-packages (from soynlp) (1.11.4)\n",
            "Requirement already satisfied: scikit-learn>=0.20.0 in /usr/local/lib/python3.10/dist-packages (from soynlp) (1.2.2)\n",
            "Requirement already satisfied: joblib>=1.1.1 in /usr/local/lib/python3.10/dist-packages (from scikit-learn>=0.20.0->soynlp) (1.4.0)\n",
            "Requirement already satisfied: threadpoolctl>=2.0.0 in /usr/local/lib/python3.10/dist-packages (from scikit-learn>=0.20.0->soynlp) (3.4.0)\n",
            "Installing collected packages: soynlp\n",
            "Successfully installed soynlp-0.0.493\n"
          ]
        }
      ]
    },
    {
      "cell_type": "code",
      "source": [
        "from soynlp.normalizer import emoticon_normalize, repeat_normalize\n",
        "print(emoticon_normalize('앜ㅋㅋㅋㅋ이영화존잼쓰ㅠㅠㅠㅠㅠ', num_repeats=2))\n",
        "print(emoticon_normalize('앜ㅋㅋㅋㅋㅋㅋㅋㅋㅋ이영화존잼쓰ㅠㅠㅠㅠ', num_repeats=2))\n",
        "print(emoticon_normalize('앜ㅋㅋㅋㅋㅋㅋㅋㅋㅋㅋㅋㅋ이영화존잼쓰ㅠㅠㅠㅠㅠㅠ', num_repeats=2))\n",
        "print(emoticon_normalize('앜ㅋㅋㅋㅋㅋㅋㅋㅋㅋㅋㅋㅋㅋㅋㅋㅋㅋ이영화존잼쓰ㅠㅠㅠㅠㅠㅠㅠㅠ', num_repeats=2))"
      ],
      "metadata": {
        "colab": {
          "base_uri": "https://localhost:8080/"
        },
        "id": "yrHyR3qToDGn",
        "outputId": "428802b2-e712-4f16-bee2-bb62ee75722d"
      },
      "execution_count": 7,
      "outputs": [
        {
          "output_type": "stream",
          "name": "stdout",
          "text": [
            "아ㅋㅋ영화존잼쓰ㅠㅠ\n",
            "아ㅋㅋ영화존잼쓰ㅠㅠ\n",
            "아ㅋㅋ영화존잼쓰ㅠㅠ\n",
            "아ㅋㅋ영화존잼쓰ㅠㅠ\n"
          ]
        }
      ]
    },
    {
      "cell_type": "code",
      "source": [
        "print(repeat_normalize('와하하하하하하하하하핫', num_repeats=2))\n",
        "print(repeat_normalize('와하하하하하하핫', num_repeats=2))\n",
        "print(repeat_normalize('와하하하하핫', num_repeats=2))"
      ],
      "metadata": {
        "colab": {
          "base_uri": "https://localhost:8080/"
        },
        "id": "7RwnBo4KoFq5",
        "outputId": "c18cc44a-96fc-4635-baaf-72cc86e54171"
      },
      "execution_count": 8,
      "outputs": [
        {
          "output_type": "stream",
          "name": "stdout",
          "text": [
            "와하하핫\n",
            "와하하핫\n",
            "와하하핫\n"
          ]
        }
      ]
    },
    {
      "cell_type": "markdown",
      "source": [
        "# 07.3 단어 또는 형태소 단위 토큰화"
      ],
      "metadata": {
        "id": "Yq4t1tGdoJEC"
      }
    },
    {
      "cell_type": "code",
      "source": [
        "# 문자단위 토큰화\n",
        "para = \"나는 학교에 다니는 학생 입니다\\n나는 좋은 선생님 입니다\\n당신은 매우 좋은 선생님 입니다\"\n",
        "print(list(para))"
      ],
      "metadata": {
        "colab": {
          "base_uri": "https://localhost:8080/"
        },
        "id": "JkhjisMjoH3G",
        "outputId": "049bc5c9-e695-4090-f4f4-994f53457958"
      },
      "execution_count": 9,
      "outputs": [
        {
          "output_type": "stream",
          "name": "stdout",
          "text": [
            "['나', '는', ' ', '학', '교', '에', ' ', '다', '니', '는', ' ', '학', '생', ' ', '입', '니', '다', '\\n', '나', '는', ' ', '좋', '은', ' ', '선', '생', '님', ' ', '입', '니', '다', '\\n', '당', '신', '은', ' ', '매', '우', ' ', '좋', '은', ' ', '선', '생', '님', ' ', '입', '니', '다']\n"
          ]
        }
      ]
    },
    {
      "cell_type": "code",
      "source": [
        "# 띄어쓰기 단위 토큰화\n",
        "print(para.split())"
      ],
      "metadata": {
        "colab": {
          "base_uri": "https://localhost:8080/"
        },
        "id": "HyDKtqN0oTC7",
        "outputId": "2d178dac-cf3a-446d-cb31-c183ab751ce1"
      },
      "execution_count": 10,
      "outputs": [
        {
          "output_type": "stream",
          "name": "stdout",
          "text": [
            "['나는', '학교에', '다니는', '학생', '입니다', '나는', '좋은', '선생님', '입니다', '당신은', '매우', '좋은', '선생님', '입니다']\n"
          ]
        }
      ]
    },
    {
      "cell_type": "code",
      "source": [
        "# 영문 단어단위 토큰화 방법\n",
        "from nltk.tokenize import word_tokenize\n",
        "from nltk.tokenize import WordPunctTokenizer\n",
        "from tensorflow.keras.preprocessing.text import text_to_word_sequence\n",
        "import nltk\n",
        "nltk.download('punkt')"
      ],
      "metadata": {
        "colab": {
          "base_uri": "https://localhost:8080/"
        },
        "id": "asbAeepeqhQk",
        "outputId": "90ccfc9e-307a-482f-dfb2-9a203c5ed862"
      },
      "execution_count": 11,
      "outputs": [
        {
          "output_type": "stream",
          "name": "stderr",
          "text": [
            "[nltk_data] Downloading package punkt to /root/nltk_data...\n",
            "[nltk_data]   Unzipping tokenizers/punkt.zip.\n"
          ]
        },
        {
          "output_type": "execute_result",
          "data": {
            "text/plain": [
              "True"
            ]
          },
          "metadata": {},
          "execution_count": 11
        }
      ]
    },
    {
      "cell_type": "code",
      "source": [
        "# 영문의 기반 단어단위 토큰화\n",
        "eng ='''Good muffins cost $3.88\\nin New York.  Please buy me\n",
        "... two of them.\\n\\nThanks.\n",
        "Don't be fooled by the dark sounding name, Mr. Jone's Orphanage is as cheery as cheery goes for a pastry shop.\n",
        "'''\n",
        "print(word_tokenize(eng))"
      ],
      "metadata": {
        "colab": {
          "base_uri": "https://localhost:8080/"
        },
        "id": "CIFJmWiFr8T3",
        "outputId": "d7b582e0-4e86-45e0-bc9b-6fc669d56846"
      },
      "execution_count": 12,
      "outputs": [
        {
          "output_type": "stream",
          "name": "stdout",
          "text": [
            "['Good', 'muffins', 'cost', '$', '3.88', 'in', 'New', 'York', '.', 'Please', 'buy', 'me', '...', 'two', 'of', 'them', '.', 'Thanks', '.', 'Do', \"n't\", 'be', 'fooled', 'by', 'the', 'dark', 'sounding', 'name', ',', 'Mr.', 'Jone', \"'s\", 'Orphanage', 'is', 'as', 'cheery', 'as', 'cheery', 'goes', 'for', 'a', 'pastry', 'shop', '.']\n"
          ]
        }
      ]
    },
    {
      "cell_type": "code",
      "source": [
        "#\n",
        "print(WordPunctTokenizer().tokenize(eng))\n",
        "print(text_to_word_sequence(eng))"
      ],
      "metadata": {
        "colab": {
          "base_uri": "https://localhost:8080/"
        },
        "id": "5jNqk9Uer91D",
        "outputId": "7e99b462-f0e9-4548-e1ec-1cde82b020a3"
      },
      "execution_count": 13,
      "outputs": [
        {
          "output_type": "stream",
          "name": "stdout",
          "text": [
            "['Good', 'muffins', 'cost', '$', '3', '.', '88', 'in', 'New', 'York', '.', 'Please', 'buy', 'me', '...', 'two', 'of', 'them', '.', 'Thanks', '.', 'Don', \"'\", 't', 'be', 'fooled', 'by', 'the', 'dark', 'sounding', 'name', ',', 'Mr', '.', 'Jone', \"'\", 's', 'Orphanage', 'is', 'as', 'cheery', 'as', 'cheery', 'goes', 'for', 'a', 'pastry', 'shop', '.']\n",
            "['good', 'muffins', 'cost', '3', '88', 'in', 'new', 'york', 'please', 'buy', 'me', 'two', 'of', 'them', 'thanks', \"don't\", 'be', 'fooled', 'by', 'the', 'dark', 'sounding', 'name', 'mr', \"jone's\", 'orphanage', 'is', 'as', 'cheery', 'as', 'cheery', 'goes', 'for', 'a', 'pastry', 'shop']\n"
          ]
        }
      ]
    },
    {
      "cell_type": "markdown",
      "source": [
        "# 07.4 한글 형태소 분석기를 이용한 토큰화와 빈도분석 사례"
      ],
      "metadata": {
        "id": "T-ucdAYpoon7"
      }
    },
    {
      "cell_type": "code",
      "source": [
        "# 폰트 설치\n",
        "import matplotlib as mpl\n",
        "import matplotlib.pyplot as plt\n",
        "!wget https://github.com/byungjooyoo/Dataset/raw/main/NanumGothic.ttf\n",
        "mpl.font_manager.fontManager.addfont('NanumGothic.ttf')\n",
        "mpl.rc('font', family='NanumGothic')\n",
        "plt.rc(\"axes\", unicode_minus=False)"
      ],
      "metadata": {
        "id": "3rK2wI5g7CYJ",
        "colab": {
          "base_uri": "https://localhost:8080/"
        },
        "outputId": "1811c87e-81a6-40c7-fd39-2ac9e8f63ac8"
      },
      "execution_count": 14,
      "outputs": [
        {
          "output_type": "stream",
          "name": "stdout",
          "text": [
            "--2024-04-19 18:51:21--  https://github.com/byungjooyoo/Dataset/raw/main/NanumGothic.ttf\n",
            "Resolving github.com (github.com)... 140.82.112.3\n",
            "Connecting to github.com (github.com)|140.82.112.3|:443... connected.\n",
            "HTTP request sent, awaiting response... 302 Found\n",
            "Location: https://raw.githubusercontent.com/byungjooyoo/Dataset/main/NanumGothic.ttf [following]\n",
            "--2024-04-19 18:51:21--  https://raw.githubusercontent.com/byungjooyoo/Dataset/main/NanumGothic.ttf\n",
            "Resolving raw.githubusercontent.com (raw.githubusercontent.com)... 185.199.108.133, 185.199.109.133, 185.199.110.133, ...\n",
            "Connecting to raw.githubusercontent.com (raw.githubusercontent.com)|185.199.108.133|:443... connected.\n",
            "HTTP request sent, awaiting response... 200 OK\n",
            "Length: 4343844 (4.1M) [application/octet-stream]\n",
            "Saving to: ‘NanumGothic.ttf’\n",
            "\n",
            "NanumGothic.ttf     100%[===================>]   4.14M  --.-KB/s    in 0.1s    \n",
            "\n",
            "2024-04-19 18:51:22 (38.6 MB/s) - ‘NanumGothic.ttf’ saved [4343844/4343844]\n",
            "\n"
          ]
        }
      ]
    },
    {
      "cell_type": "code",
      "source": [
        "#폰트설치 결과 확인\n",
        "import pandas as pd\n",
        "pd.Series([0,2,-4,6]).plot(title=\"한글\", figsize=(12, 2))"
      ],
      "metadata": {
        "colab": {
          "base_uri": "https://localhost:8080/",
          "height": 252
        },
        "id": "-X9cQbsepr5G",
        "outputId": "1e0274fd-9a95-4a48-84cf-56879d5dbead"
      },
      "execution_count": 15,
      "outputs": [
        {
          "output_type": "execute_result",
          "data": {
            "text/plain": [
              "<Axes: title={'center': '한글'}>"
            ]
          },
          "metadata": {},
          "execution_count": 15
        },
        {
          "output_type": "display_data",
          "data": {
            "text/plain": [
              "<Figure size 1200x200 with 1 Axes>"
            ],
            "image/png": "[encoded data removed]"
          },
          "metadata": {}
        }
      ]
    },
    {
      "cell_type": "code",
      "source": [
        "!pip install konlpy"
      ],
      "metadata": {
        "colab": {
          "base_uri": "https://localhost:8080/"
        },
        "id": "sOuQ59JbsOxW",
        "outputId": "5e16f53d-2b85-44a6-fbfa-8aa491afb0d5"
      },
      "execution_count": 16,
      "outputs": [
        {
          "output_type": "stream",
          "name": "stdout",
          "text": [
            "Collecting konlpy\n",
            "  Downloading konlpy-0.6.0-py2.py3-none-any.whl (19.4 MB)\n",
            "\u001b[2K     \u001b[90m━━━━━━━━━━━━━━━━━━━━━━━━━━━━━━━━━━━━━━━━\u001b[0m \u001b[32m19.4/19.4 MB\u001b[0m \u001b[31m23.9 MB/s\u001b[0m eta \u001b[36m0:00:00\u001b[0m\n",
            "\u001b[?25hCollecting JPype1>=0.7.0 (from konlpy)\n",
            "  Downloading JPype1-1.5.0-cp310-cp310-manylinux_2_17_x86_64.manylinux2014_x86_64.whl (488 kB)\n",
            "\u001b[2K     \u001b[90m━━━━━━━━━━━━━━━━━━━━━━━━━━━━━━━━━━━━━━━━\u001b[0m \u001b[32m488.6/488.6 kB\u001b[0m \u001b[31m31.0 MB/s\u001b[0m eta \u001b[36m0:00:00\u001b[0m\n",
            "\u001b[?25hRequirement already satisfied: lxml>=4.1.0 in /usr/local/lib/python3.10/dist-packages (from konlpy) (4.9.4)\n",
            "Requirement already satisfied: numpy>=1.6 in /usr/local/lib/python3.10/dist-packages (from konlpy) (1.25.2)\n",
            "Requirement already satisfied: packaging in /usr/local/lib/python3.10/dist-packages (from JPype1>=0.7.0->konlpy) (24.0)\n",
            "Installing collected packages: JPype1, konlpy\n",
            "Successfully installed JPype1-1.5.0 konlpy-0.6.0\n"
          ]
        }
      ]
    },
    {
      "cell_type": "code",
      "source": [
        "#대통령 연설문 다운로드\n",
        "!wget https://raw.githubusercontent.com/byungjooyoo/Dataset/main/president_message.txt\n",
        "para = open('president_message.txt', 'r').read()\n",
        "print(para[:100])"
      ],
      "metadata": {
        "colab": {
          "base_uri": "https://localhost:8080/"
        },
        "id": "c3UHapPnoV1t",
        "outputId": "b80564f8-0fd5-46c6-ac35-9087ddd91033"
      },
      "execution_count": 17,
      "outputs": [
        {
          "output_type": "stream",
          "name": "stdout",
          "text": [
            "--2024-04-19 18:51:40--  https://raw.githubusercontent.com/byungjooyoo/Dataset/main/president_message.txt\n",
            "Resolving raw.githubusercontent.com (raw.githubusercontent.com)... 185.199.108.133, 185.199.109.133, 185.199.110.133, ...\n",
            "Connecting to raw.githubusercontent.com (raw.githubusercontent.com)|185.199.108.133|:443... connected.\n",
            "HTTP request sent, awaiting response... 200 OK\n",
            "Length: 8497 (8.3K) [text/plain]\n",
            "Saving to: ‘president_message.txt’\n",
            "\n",
            "\rpresident_message.t   0%[                    ]       0  --.-KB/s               \rpresident_message.t 100%[===================>]   8.30K  --.-KB/s    in 0s      \n",
            "\n",
            "2024-04-19 18:51:40 (57.9 MB/s) - ‘president_message.txt’ saved [8497/8497]\n",
            "\n",
            "존경하고 사랑하는 국민 여러분, 750만 재외동포 여러분 그리고 자유를 사랑하는 세계 시민 여러분, 저는 이 나라를 자유민주주의와 시장경제 체제를 기반으로 국민이 진정한 주인인 나\n"
          ]
        }
      ]
    },
    {
      "cell_type": "code",
      "source": [
        "from konlpy.tag import Komoran\n",
        "from collections import Counter\n",
        "tagger = Komoran()\n",
        "nouns = tagger.nouns(para)\n",
        "nouns = [n for n in nouns if len(n) > 1]\n",
        "count = Counter(nouns)\n",
        "top = count.most_common(20)\n",
        "print(top)"
      ],
      "metadata": {
        "colab": {
          "base_uri": "https://localhost:8080/"
        },
        "id": "LF24gqSCozBN",
        "outputId": "bd4bd89b-c09f-4152-faaf-5605a299f287"
      },
      "execution_count": 18,
      "outputs": [
        {
          "output_type": "stream",
          "name": "stdout",
          "text": [
            "[('자유', 32), ('국민', 15), ('시민', 15), ('세계', 13), ('여러분', 12), ('평화', 12), ('사회', 11), ('나라', 9), ('국제', 9), ('해결', 9), ('위기', 8), ('존경', 7), ('문제', 7), ('가치', 7), ('연대', 6), ('감사', 5), ('국가', 5), ('우리나라', 5), ('성장', 5), ('민주주의', 5)]\n"
          ]
        }
      ]
    },
    {
      "cell_type": "code",
      "source": [
        "nouns = para.split()\n",
        "nouns = [n for n in nouns if len(n) > 1]\n",
        "count = Counter(nouns)\n",
        "top = count.most_common(20)\n",
        "print(top)"
      ],
      "metadata": {
        "colab": {
          "base_uri": "https://localhost:8080/"
        },
        "id": "r4uGTwWx7n36",
        "outputId": "b86622d1-c1a7-4312-e0c4-88871fdf1148"
      },
      "execution_count": 19,
      "outputs": [
        {
          "output_type": "stream",
          "name": "stdout",
          "text": [
            "[('그리고', 11), ('국민', 10), ('여러분,', 10), ('세계', 10), ('합니다.', 10), ('있습니다.', 9), ('자유', 8), ('것입니다.', 7), ('자유와', 7), ('저는', 6), ('아니라', 6), ('시민', 5), ('존경하는', 5), ('가치를', 5), ('시민이', 5), ('역할을', 4), ('하는', 4), ('대통령,', 4), ('지금', 4), ('있는', 4)]\n"
          ]
        }
      ]
    },
    {
      "cell_type": "code",
      "source": [
        "import matplotlib.pyplot as plt\n",
        "import numpy as np\n",
        "plt.rc('font', family='NanumGothic')\n",
        "x = np.arange(len(top))\n",
        "keys = [x[0] for x in top]\n",
        "values = [x[1] for x in top]\n",
        "plt.figure(figsize=(12,6))\n",
        "plt.bar(x, values)\n",
        "plt.xticks(x, keys)\n",
        "plt.show()"
      ],
      "metadata": {
        "colab": {
          "base_uri": "https://localhost:8080/",
          "height": 522
        },
        "id": "9NDSLrITo1K7",
        "outputId": "03fbc9b8-e361-44d5-8eb3-1d04e99cd008"
      },
      "execution_count": 20,
      "outputs": [
        {
          "output_type": "display_data",
          "data": {
            "text/plain": [
              "<Figure size 1200x600 with 1 Axes>"
            ],
            "image/png": "[encoded data removed]"
          },
          "metadata": {}
        }
      ]
    },
    {
      "cell_type": "code",
      "source": [
        "print(para)"
      ],
      "metadata": {
        "id": "gSqanhzwo3K9",
        "colab": {
          "base_uri": "https://localhost:8080/"
        },
        "outputId": "7317610e-725e-4dc3-a811-21c216e22924"
      },
      "execution_count": 21,
      "outputs": [
        {
          "output_type": "stream",
          "name": "stdout",
          "text": [
            "존경하고 사랑하는 국민 여러분, 750만 재외동포 여러분 그리고 자유를 사랑하는 세계 시민 여러분, 저는 이 나라를 자유민주주의와 시장경제 체제를 기반으로 국민이 진정한 주인인 나라로 재건하고, 국제사회에서 책임과 역할을 다하는 나라로 만들어야 하는 시대적 소명을 갖고 오늘 이 자리에 섰습니다.\n",
            "\n",
            "역사적인 자리에 함께 해주신 국민 여러분께 감사드립니다. 문재인, 박근혜 전 대통령, 그리고 할리마 야콥 싱가포르 대통령, 포스탱 아르샹쥬 투아데라 중앙아프리카공화국 대통령, 왕치산 중국 국가부주석, 메가와티 수카르노푸트리 인도네시아 전 대통령, 더글러스 엠호프 해리스 미국 부통령 부군, 조지 퓨리 캐나다 상원의장, 하야시 요시마사 일본 외무상을 비롯한 세계 각국의 경축 사절과 내외 귀빈 여러분께도 깊이 감사드립니다. 이 자리를 빌려 지난 2년간 코로나 펜데믹을 극복하는 과정에서 큰 고통을 감내해주신 국민 여러분께 경의를 표합니다. 그리고 헌신해주신 의료진 여러분께도 감사드립니다.\n",
            "\n",
            "존경하는 국민 여러분, 세계 시민 여러분, 지금 전 세계는 팬데믹 위기, 교역 질서의 변화와 공급망의 재편, 기후 변화, 식량과 에너지 위기, 분쟁의 평화적 해결의 후퇴 등 어느 한 나라가 독자적으로, 또는 몇몇 나라만 참여해서 해결하기 어려운 난제들에 직면해 있습니다. 다양한 위기가 복합적으로 인류 사회에 어두운 그림자를 드리우고 있는 것입니다. 또한 우리나라를 비롯한 많은 나라들이 국내적으로 초저성장과 대규모 실업, 양극화의 심화와 다양한 사회적 갈등으로 인해 공동체의 결속력이 흔들리고 와해되고 있습니다.\n",
            "\n",
            "한편, 이러한 문제들을 해결해야 하는 정치는 이른바 민주주의의 위기로 인해 제 기능을 하지 못하고 있습니다. 가장 큰 원인으로 지목되는 것이 바로 반지성주의입니다. 견해가 다른 사람들이 서로의 입장을 조정하고 타협하기 위해서는 과학과 진실이 전제되어야 합니다. 그것이 민주주의를 지탱하는 합리주의와 지성주의입니다. 국가 간, 국가 내부의 지나친 집단적 갈등에 의해 진실이 왜곡되고, 각자가 보고 듣고 싶은 사실만을 선택하거나 다수의 힘으로 상대의 의견을 억압하는 반지성주의가 민주주의를 위기에 빠뜨리고 민주주의에 대한 믿음을 해치고 있습니다. 이러한 상황이 우리가 처해있는 문제의 해결을 더 어렵게 만들고 있습니다.\n",
            "\n",
            "그러나 우리는 할 수 있습니다. 역사를 돌이켜 보면 우리 국민은 많은 위기에 처했지만 그럴 때마다 국민 모두 힘을 합쳐 지혜롭게, 또 용기있게 극복해 왔습니다. 저는 이 순간 이러한 위기를 극복하는 책임을 부여받게 된 것을 감사한 마음으로 받아들이고, 우리 위대한 국민과 함께 당당하게 헤쳐 나갈 수 있다고 확신합니다. 또 세계 시민과 힘을 합쳐 국내외적인 위기와 난제들을 해결해 나갈 수 있다고 믿습니다.\n",
            "\n",
            "존경하는 국민 여러분, 세계 시민 여러분, 저는 이 어려움을 해결해 나가기 위해서 우리가 보편적 가치를 공유하는 것이 매우 중요하다고 생각합니다. 그것은 바로 ‘자유’입니다. 우리는 자유의 가치를 제대로, 그리고 정확하게 인식해야 합니다. 자유의 가치를 재발견해야 합니다. 인류 역사를 돌이켜보면 자유로운 정치적 권리, 자유로운 시장이 숨 쉬고 있던 곳은 언제나 번영과 풍요가 꽃 피었습니다. 번영과 풍요, 경제적 성장은 바로 자유의 확대입니다. 자유는 보편적 가치입니다. 우리 사회 모든 구성원이 자유 시민이 되어야 하는 것입니다. 어떤 개인의 자유가 침해되는 것이 방치된다면 우리 공동체 구성원 모두의 자유마저 위협받게 됩니다.\n",
            "\n",
            "자유는 결코 승자독식이 아닙니다. 자유 시민이 되기 위해서는 일정한 수준의 경제적 기초, 그리고 공정한 교육과 문화의 접근 기회가 보장되어야 합니다. 이런 것 없이 자유 시민이라고 할 수 없습니다. 어떤 사람의 자유가 유린되거나 자유 시민이 되는데 필요한 조건을 충족하지 못한다면 모든 자유 시민은 연대해서 도와야 합니다. 그리고 개별 국가뿐 아니라 국제적으로도 기아와 빈곤, 공권력과 군사력에 의한 불법 행위로 개인의 자유가 침해되고 자유 시민으로서의 존엄한 삶이 유지되지 않는다면 모든 세계 시민이 자유 시민으로서 연대하여 도와야 하는 것입니다. 모두가 자유 시민이 되기 위해서는 공정한 규칙을 지켜야 하고, 연대와 박애의 정신을 가져야 합니다.\n",
            "\n",
            "존경하는 국민 여러분, 국내 문제로 눈을 돌려 제가 중요하게 생각하는 방향에 대해 말씀드리겠습니다. 우리나라는 지나친 양극화와 사회 갈등이 자유와 민주주의를 위협할 뿐 아니라 사회 발전의 발목을 잡고 있습니다. 저는 이 문제를 도약과 빠른 성장을 이룩하지 않고는 해결하기 어렵다고 생각합니다. 빠른 성장 과정에서 많은 국민이 새로운 기회를 찾을 수 있고, 사회 이동성을 제고함으로써 양극화와 갈등의 근원을 제거할 수 있습니다. 도약과 빠른 성장은 오로지 과학과 기술, 그리고 혁신에 의해서만 이뤄낼 수 있는 것입니다. 과학과 기술, 그리고 혁신은 우리의 자유민주주의를 지키고 우리의 자유를 확대하며 우리의 존엄한 삶을 지속 가능하게 할 것입니다. 과학과 기술, 그리고 혁신은 우리나라 혼자만의 노력으로는 달성하기 어렵습니다. 자유와 창의를 존중함으로써 과학 기술의 진보와 혁신을 이뤄낸 많은 나라들과 협력하고 연대해야만 합니다.\n",
            "\n",
            "존경하는 국민 여러분, 세계 시민 여러분, 자유민주주의는 평화를 만들어내고, 평화는 자유를 지켜줍니다. 그리고 평화는 자유와 인권의 가치를 존중하는 국제사회와의 연대에 의해 보장이 됩니다. 일시적으로 전쟁을 회피하는 취약한 평화가 아니라 자유와 번영을 꽃피우는 지속 가능한 평화를 추구해야 합니다. 전 세계 어떤 곳도 자유와 평화에 대한 위협에서 자유롭지 못합니다. 지금 한반도와 동북아의 평화도 마찬가지입니다. 저는 한반도뿐 아니라 아시아와 세계의 평화를 위협하는 북한의 핵 개발에 대해서도 그 평화적 해결을 위해 대화의 문을 열어놓겠습니다. 그리고 북한이 핵 개발을 중단하고 실질적인 비핵화로 전환한다면 국제사회와 협력하여 북한 경제와 북한 주민의 삶의 질을 획기적으로 개선할 수 있는 담대한 계획을 준비하겠습니다. 북한의 비핵화는 한반도에 지속 가능한 평화를 가져올 뿐 아니라 아시아와 전 세계의 평화와 번영에도 크게 기여할 것입니다.\n",
            "\n",
            "사랑하고 존경하는 국민 여러분, 지금 우리는 세계 10위권의 경제 대국 그룹에 들어가 있습니다. 그러므로 우리는 자유와 인권의 가치에 기반한 보편적 국제 규범을 적극 지지하고 수호하는데 글로벌 리더 국가로서의 자세를 가져야 합니다. 우리나라뿐 아니라 세계 시민 모두의 자유와 인권을 지키고 확대하는데 더욱 주도적인 역할을 해야 합니다. 국제사회도 대한민국에 더욱 큰 역할을 기대하고 있음이 분명합니다. 지금 우리나라는 국내 문제와 국제 문제를 분리할 수 없습니다. 국제사회가 우리에게 기대하는 역할을 주도적으로 수행할 때 국내 문제도 올바른 해결 방향을 찾을 수 있는 것입니다. 저는 자유, 인권, 공정, 연대의 가치를 기반으로 국민이 진정한 주인인 나라, 국제사회에서 책임을 다하고 존경받는 나라를 위대한 국민 여러분과 함께 반드시 만들어 나가겠습니다. 감사합니다.\n",
            "\n"
          ]
        }
      ]
    },
    {
      "cell_type": "code",
      "source": [],
      "metadata": {
        "id": "bT-h2pJA2a0c"
      },
      "execution_count": 21,
      "outputs": []
    }
  ]
}