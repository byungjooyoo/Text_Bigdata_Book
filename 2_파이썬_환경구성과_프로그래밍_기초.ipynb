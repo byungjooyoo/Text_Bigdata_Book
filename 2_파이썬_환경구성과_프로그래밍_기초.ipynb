{
  "nbformat": 4,
  "nbformat_minor": 0,
  "metadata": {
    "colab": {
      "provenance": [],
      "toc_visible": true
    },
    "kernelspec": {
      "name": "python3",
      "display_name": "Python 3"
    },
    "language_info": {
      "name": "python"
    }
  },
  "cells": [
    {
      "cell_type": "markdown",
      "source": [],
      "metadata": {
        "id": "BREQL5Fq5ZGx"
      }
    },
    {
      "cell_type": "markdown",
      "source": [
        "# 1.파이썬 운용환경"
      ],
      "metadata": {
        "id": "54RTyyn9OgxJ"
      }
    },
    {
      "cell_type": "code",
      "source": [
        "def hello():\n",
        "    print('Hello, world!')\n",
        "hello()"
      ],
      "metadata": {
        "colab": {
          "base_uri": "https://localhost:8080/"
        },
        "id": "-XyLwpGY5LEo",
        "outputId": "544e513d-37ed-4ae3-c0fe-30197b5e4e81"
      },
      "execution_count": null,
      "outputs": [
        {
          "output_type": "stream",
          "name": "stdout",
          "text": [
            "Hello, world!\n"
          ]
        }
      ]
    },
    {
      "cell_type": "code",
      "source": [],
      "metadata": {
        "id": "Rv_UWhOj2C1p"
      },
      "execution_count": null,
      "outputs": []
    },
    {
      "cell_type": "code",
      "source": [
        "def hello():\n",
        "    print('Hello, world!')\n",
        "hello()"
      ],
      "metadata": {
        "colab": {
          "base_uri": "https://localhost:8080/"
        },
        "id": "B3nUIyhTOWli",
        "outputId": "ce1e797f-66d6-4f53-c3f9-1d33f97ddbc1"
      },
      "execution_count": null,
      "outputs": [
        {
          "output_type": "stream",
          "name": "stdout",
          "text": [
            "Hello, world!\n"
          ]
        }
      ]
    },
    {
      "cell_type": "markdown",
      "metadata": {
        "id": "fjLuLFhcM8YV"
      },
      "source": [
        "# 2.코랩 운용환경과 접근 방법"
      ]
    },
    {
      "cell_type": "markdown",
      "metadata": {
        "id": "Wo30msyqNELH"
      },
      "source": [
        "참조 사이트 : https://colab.research.google.com/notebooks/intro.ipynb"
      ]
    },
    {
      "cell_type": "markdown",
      "metadata": {
        "id": "a5lZUPiaNUiz"
      },
      "source": [
        "HTML과 같은 Markup language로 텍스트 셀 입력 사용 가능 \n",
        "\n",
        "기본적인 유닉스 및 리눅스 명령은 !을 앞에 넣고 실행시키면 모두 작동됨\n",
        "\n",
        "%로 시작하는 Line 및 %%로 시작하는 Cell Magic command 사용 가능 \n",
        "\n",
        "꼭 필요한 단축키 사용법 : command mode와 edit mode 로 구분\n",
        "* Ctrl + Enter 해당셀 실행\n",
        "* Shift + Enter 해당셀 실행후 다음셀로 옮기기\n",
        "* 주석 처리 해당 라인 마우스로 선택 후 Ctrl+/ \n",
        "\n",
        "추가적으로 필요한 단축키 알아보기 : 풀다운 메뉴의 도구 - 단축키"
      ]
    },
    {
      "cell_type": "markdown",
      "metadata": {
        "id": "IX518oKLlO1W"
      },
      "source": [
        "## 가. 코랩 운용환경"
      ]
    },
    {
      "cell_type": "markdown",
      "metadata": {
        "id": "oXYZo8_hXbwx"
      },
      "source": [
        "* 코랩 작업 디렉토리 구조와 환경 이해 : 우분투 리눅스 명령 사용 가능\n",
        "* 구글드라이브와 연결시켜 내 데이터를 불러오거나 코랩 데이터를 저장하는 방법 이해"
      ]
    },
    {
      "cell_type": "markdown",
      "metadata": {
        "id": "8lqIduygkm1v"
      },
      "source": [
        "코랩 운용환경은 기본적으로 리눅스 우분투 18.04를 사용"
      ]
    },
    {
      "cell_type": "code",
      "source": [
        "seconds_in_a_day = 24 * 60 * 60\n",
        "seconds_in_a_day"
      ],
      "metadata": {
        "colab": {
          "base_uri": "https://localhost:8080/"
        },
        "id": "4BjvHm0zR8BE",
        "outputId": "e8662cdf-324b-4b34-fd7c-26bd9c557399"
      },
      "execution_count": null,
      "outputs": [
        {
          "output_type": "execute_result",
          "data": {
            "text/plain": [
              "86400"
            ]
          },
          "metadata": {},
          "execution_count": 8
        }
      ]
    },
    {
      "cell_type": "code",
      "metadata": {
        "colab": {
          "base_uri": "https://localhost:8080/"
        },
        "id": "z9uAzjnFkfgT",
        "outputId": "37cf195a-9a61-4185-e1db-0e4fbb209d8b"
      },
      "source": [
        "# 1. 구글에서 내가 할당받은 컴퓨터의 운영체제 , 주석처리 방법은 마우스로 열 선택 후 Ctrl+/ 로 처리\n",
        "!cat /etc/issue"
      ],
      "execution_count": null,
      "outputs": [
        {
          "output_type": "stream",
          "name": "stdout",
          "text": [
            "Ubuntu 18.04.6 LTS \\n \\l\n",
            "\n"
          ]
        }
      ]
    },
    {
      "cell_type": "code",
      "metadata": {
        "colab": {
          "base_uri": "https://localhost:8080/"
        },
        "id": "ui1Cf6ZTkWmq",
        "outputId": "7a8bcdad-b5a6-4dd3-c6e4-d94314647fe0"
      },
      "source": [
        "#2. 현재 사용중인 파이썬의 버전 \n",
        "!python --version"
      ],
      "execution_count": null,
      "outputs": [
        {
          "output_type": "stream",
          "name": "stdout",
          "text": [
            "Python 3.7.13\n"
          ]
        }
      ]
    },
    {
      "cell_type": "code",
      "source": [
        "# 셀단위 실행 Shift+Enter \n",
        "print('Hello, world!')"
      ],
      "metadata": {
        "colab": {
          "base_uri": "https://localhost:8080/"
        },
        "id": "23v74kY1oV44",
        "outputId": "93ce0cd7-f411-4e7d-c7de-aff9eba57702"
      },
      "execution_count": null,
      "outputs": [
        {
          "output_type": "stream",
          "name": "stdout",
          "text": [
            "Hello, world!\n"
          ]
        }
      ]
    },
    {
      "cell_type": "code",
      "metadata": {
        "id": "7j5XW_m-HMki",
        "colab": {
          "base_uri": "https://localhost:8080/"
        },
        "outputId": "2936686c-a45f-41ea-8d9a-c6be62dc4705"
      },
      "source": [
        "#3. 현재 할당받은 컴퓨터에 이미 설치된 파이썬 라이브러리 목록 \n",
        "!pip list"
      ],
      "execution_count": null,
      "outputs": [
        {
          "output_type": "stream",
          "name": "stdout",
          "text": [
            "Package                       Version\n",
            "----------------------------- ----------------------------\n",
            "absl-py                       1.2.0\n",
            "aeppl                         0.0.33\n",
            "aesara                        2.7.9\n",
            "aiohttp                       3.8.1\n",
            "aiosignal                     1.2.0\n",
            "alabaster                     0.7.12\n",
            "albumentations                1.2.1\n",
            "altair                        4.2.0\n",
            "appdirs                       1.4.4\n",
            "arviz                         0.12.1\n",
            "astor                         0.8.1\n",
            "astropy                       4.3.1\n",
            "astunparse                    1.6.3\n",
            "async-timeout                 4.0.2\n",
            "asynctest                     0.13.0\n",
            "atari-py                      0.2.9\n",
            "atomicwrites                  1.4.1\n",
            "attrs                         22.1.0\n",
            "audioread                     3.0.0\n",
            "autograd                      1.4\n",
            "Babel                         2.10.3\n",
            "backcall                      0.2.0\n",
            "beautifulsoup4                4.6.3\n",
            "bleach                        5.0.1\n",
            "blis                          0.7.8\n",
            "bokeh                         2.3.3\n",
            "branca                        0.5.0\n",
            "bs4                           0.0.1\n",
            "CacheControl                  0.12.11\n",
            "cached-property               1.5.2\n",
            "cachetools                    4.2.4\n",
            "catalogue                     2.0.8\n",
            "certifi                       2022.6.15\n",
            "cffi                          1.15.1\n",
            "cftime                        1.6.1\n",
            "chardet                       3.0.4\n",
            "charset-normalizer            2.1.1\n",
            "click                         7.1.2\n",
            "clikit                        0.6.2\n",
            "cloudpickle                   1.5.0\n",
            "cmake                         3.22.6\n",
            "cmdstanpy                     1.0.7\n",
            "colorcet                      3.0.0\n",
            "colorlover                    0.3.0\n",
            "community                     1.0.0b1\n",
            "cons                          0.4.5\n",
            "contextlib2                   0.5.5\n",
            "convertdate                   2.4.0\n",
            "crashtest                     0.3.1\n",
            "crcmod                        1.7\n",
            "cufflinks                     0.17.3\n",
            "cvxopt                        1.3.0\n",
            "cvxpy                         1.2.1\n",
            "cycler                        0.11.0\n",
            "cymem                         2.0.6\n",
            "Cython                        0.29.32\n",
            "daft                          0.0.4\n",
            "dask                          2022.2.0\n",
            "datascience                   0.17.5\n",
            "debugpy                       1.0.0\n",
            "decorator                     4.4.2\n",
            "defusedxml                    0.7.1\n",
            "descartes                     1.1.0\n",
            "dill                          0.3.5.1\n",
            "distributed                   2022.2.0\n",
            "dlib                          19.24.0\n",
            "dm-tree                       0.1.7\n",
            "docutils                      0.17.1\n",
            "dopamine-rl                   1.0.5\n",
            "earthengine-api               0.1.321\n",
            "easydict                      1.9\n",
            "ecos                          2.0.10\n",
            "editdistance                  0.5.3\n",
            "en-core-web-sm                3.4.0\n",
            "entrypoints                   0.4\n",
            "ephem                         4.1.3\n",
            "et-xmlfile                    1.1.0\n",
            "etils                         0.7.1\n",
            "etuples                       0.3.5\n",
            "fa2                           0.3.5\n",
            "fastai                        2.7.9\n",
            "fastcore                      1.5.22\n",
            "fastdownload                  0.0.7\n",
            "fastdtw                       0.3.4\n",
            "fastjsonschema                2.16.1\n",
            "fastprogress                  1.0.3\n",
            "fastrlock                     0.8\n",
            "feather-format                0.4.1\n",
            "filelock                      3.8.0\n",
            "firebase-admin                4.4.0\n",
            "fix-yahoo-finance             0.0.22\n",
            "Flask                         1.1.4\n",
            "flatbuffers                   2.0.7\n",
            "folium                        0.12.1.post1\n",
            "frozenlist                    1.3.1\n",
            "fsspec                        2022.7.1\n",
            "future                        0.16.0\n",
            "gast                          0.5.3\n",
            "GDAL                          2.2.2\n",
            "gdown                         4.4.0\n",
            "gensim                        3.6.0\n",
            "geographiclib                 1.52\n",
            "geopy                         1.17.0\n",
            "gin-config                    0.5.0\n",
            "glob2                         0.7\n",
            "google                        2.0.3\n",
            "google-api-core               1.31.6\n",
            "google-api-python-client      1.12.11\n",
            "google-auth                   1.35.0\n",
            "google-auth-httplib2          0.0.4\n",
            "google-auth-oauthlib          0.4.6\n",
            "google-cloud-bigquery         1.21.0\n",
            "google-cloud-bigquery-storage 1.1.2\n",
            "google-cloud-core             1.0.3\n",
            "google-cloud-datastore        1.8.0\n",
            "google-cloud-firestore        1.7.0\n",
            "google-cloud-language         1.2.0\n",
            "google-cloud-storage          1.18.1\n",
            "google-cloud-translate        1.5.0\n",
            "google-colab                  1.0.0\n",
            "google-pasta                  0.2.0\n",
            "google-resumable-media        0.4.1\n",
            "googleapis-common-protos      1.56.4\n",
            "googledrivedownloader         0.4\n",
            "graphviz                      0.10.1\n",
            "greenlet                      1.1.3\n",
            "grpcio                        1.47.0\n",
            "gspread                       3.4.2\n",
            "gspread-dataframe             3.0.8\n",
            "gym                           0.25.2\n",
            "gym-notices                   0.0.8\n",
            "h5py                          3.1.0\n",
            "HeapDict                      1.0.1\n",
            "hijri-converter               2.2.4\n",
            "holidays                      0.15\n",
            "holoviews                     1.14.9\n",
            "html5lib                      1.0.1\n",
            "httpimport                    0.5.18\n",
            "httplib2                      0.17.4\n",
            "httplib2shim                  0.0.3\n",
            "httpstan                      4.6.1\n",
            "humanize                      0.5.1\n",
            "hyperopt                      0.1.2\n",
            "idna                          2.10\n",
            "imageio                       2.9.0\n",
            "imagesize                     1.4.1\n",
            "imbalanced-learn              0.8.1\n",
            "imblearn                      0.0\n",
            "imgaug                        0.4.0\n",
            "importlib-metadata            4.12.0\n",
            "importlib-resources           5.9.0\n",
            "imutils                       0.5.4\n",
            "inflect                       2.1.0\n",
            "intel-openmp                  2022.1.0\n",
            "intervaltree                  2.1.0\n",
            "ipykernel                     5.3.4\n",
            "ipython                       7.9.0\n",
            "ipython-genutils              0.2.0\n",
            "ipython-sql                   0.3.9\n",
            "ipywidgets                    7.7.1\n",
            "itsdangerous                  1.1.0\n",
            "jax                           0.3.14\n",
            "jaxlib                        0.3.14+cuda11.cudnn805\n",
            "jieba                         0.42.1\n",
            "Jinja2                        2.11.3\n",
            "joblib                        1.1.0\n",
            "jpeg4py                       0.1.4\n",
            "jsonschema                    4.3.3\n",
            "jupyter-client                6.1.12\n",
            "jupyter-console               6.1.0\n",
            "jupyter-core                  4.11.1\n",
            "jupyterlab-widgets            3.0.2\n",
            "kaggle                        1.5.12\n",
            "kapre                         0.3.7\n",
            "keras                         2.8.0\n",
            "Keras-Preprocessing           1.1.2\n",
            "keras-vis                     0.4.1\n",
            "kiwisolver                    1.4.4\n",
            "korean-lunar-calendar         0.2.1\n",
            "langcodes                     3.3.0\n",
            "libclang                      14.0.6\n",
            "librosa                       0.8.1\n",
            "lightgbm                      2.2.3\n",
            "llvmlite                      0.39.0\n",
            "lmdb                          0.99\n",
            "locket                        1.0.0\n",
            "logical-unification           0.4.5\n",
            "LunarCalendar                 0.0.9\n",
            "lxml                          4.9.1\n",
            "Markdown                      3.4.1\n",
            "MarkupSafe                    2.0.1\n",
            "marshmallow                   3.17.1\n",
            "matplotlib                    3.2.2\n",
            "matplotlib-venn               0.11.7\n",
            "miniKanren                    1.0.3\n",
            "missingno                     0.5.1\n",
            "mistune                       0.8.4\n",
            "mizani                        0.7.3\n",
            "mkl                           2019.0\n",
            "mlxtend                       0.14.0\n",
            "more-itertools                8.14.0\n",
            "moviepy                       0.2.3.5\n",
            "mpmath                        1.2.1\n",
            "msgpack                       1.0.4\n",
            "multidict                     6.0.2\n",
            "multipledispatch              0.6.0\n",
            "multitasking                  0.0.11\n",
            "murmurhash                    1.0.8\n",
            "music21                       5.5.0\n",
            "natsort                       5.5.0\n",
            "nbconvert                     5.6.1\n",
            "nbformat                      5.4.0\n",
            "netCDF4                       1.6.0\n",
            "networkx                      2.6.3\n",
            "nibabel                       3.0.2\n",
            "nltk                          3.7\n",
            "notebook                      5.3.1\n",
            "numba                         0.56.0\n",
            "numexpr                       2.8.3\n",
            "numpy                         1.21.6\n",
            "oauth2client                  4.1.3\n",
            "oauthlib                      3.2.0\n",
            "okgrade                       0.4.3\n",
            "opencv-contrib-python         4.6.0.66\n",
            "opencv-python                 4.6.0.66\n",
            "opencv-python-headless        4.6.0.66\n",
            "openpyxl                      3.0.10\n",
            "opt-einsum                    3.3.0\n",
            "osqp                          0.6.2.post0\n",
            "packaging                     21.3\n",
            "palettable                    3.3.0\n",
            "pandas                        1.3.5\n",
            "pandas-datareader             0.9.0\n",
            "pandas-gbq                    0.13.3\n",
            "pandas-profiling              1.4.1\n",
            "pandocfilters                 1.5.0\n",
            "panel                         0.12.1\n",
            "param                         1.12.2\n",
            "parso                         0.8.3\n",
            "partd                         1.3.0\n",
            "pastel                        0.2.1\n",
            "pathlib                       1.0.1\n",
            "pathy                         0.6.2\n",
            "patsy                         0.5.2\n",
            "pep517                        0.13.0\n",
            "pexpect                       4.8.0\n",
            "pickleshare                   0.7.5\n",
            "Pillow                        7.1.2\n",
            "pip                           21.1.3\n",
            "pip-tools                     6.2.0\n",
            "plotly                        5.5.0\n",
            "plotnine                      0.8.0\n",
            "pluggy                        0.7.1\n",
            "pooch                         1.6.0\n",
            "portpicker                    1.3.9\n",
            "prefetch-generator            1.0.1\n",
            "preshed                       3.0.7\n",
            "prettytable                   3.4.0\n",
            "progressbar2                  3.38.0\n",
            "promise                       2.3\n",
            "prompt-toolkit                2.0.10\n",
            "prophet                       1.1\n",
            "protobuf                      3.17.3\n",
            "psutil                        5.4.8\n",
            "psycopg2                      2.9.3\n",
            "ptyprocess                    0.7.0\n",
            "py                            1.11.0\n",
            "pyarrow                       6.0.1\n",
            "pyasn1                        0.4.8\n",
            "pyasn1-modules                0.2.8\n",
            "pycocotools                   2.0.4\n",
            "pycparser                     2.21\n",
            "pyct                          0.4.8\n",
            "pydantic                      1.9.2\n",
            "pydata-google-auth            1.4.0\n",
            "pydot                         1.3.0\n",
            "pydot-ng                      2.0.0\n",
            "pydotplus                     2.0.2\n",
            "PyDrive                       1.3.1\n",
            "pyemd                         0.5.1\n",
            "pyerfa                        2.0.0.1\n",
            "Pygments                      2.6.1\n",
            "pygobject                     3.26.1\n",
            "pylev                         1.4.0\n",
            "pymc                          4.1.4\n",
            "PyMeeus                       0.5.11\n",
            "pymongo                       4.2.0\n",
            "pymystem3                     0.2.0\n",
            "PyOpenGL                      3.1.6\n",
            "pyparsing                     3.0.9\n",
            "pyrsistent                    0.18.1\n",
            "pysimdjson                    3.2.0\n",
            "pysndfile                     1.3.8\n",
            "PySocks                       1.7.1\n",
            "pystan                        3.3.0\n",
            "pytest                        3.6.4\n",
            "python-apt                    0.0.0\n",
            "python-chess                  0.23.11\n",
            "python-dateutil               2.8.2\n",
            "python-louvain                0.16\n",
            "python-slugify                6.1.2\n",
            "python-utils                  3.3.3\n",
            "pytz                          2022.2.1\n",
            "pyviz-comms                   2.2.1\n",
            "PyWavelets                    1.3.0\n",
            "PyYAML                        6.0\n",
            "pyzmq                         23.2.1\n",
            "qdldl                         0.1.5.post2\n",
            "qudida                        0.0.4\n",
            "regex                         2022.6.2\n",
            "requests                      2.23.0\n",
            "requests-oauthlib             1.3.1\n",
            "resampy                       0.4.0\n",
            "rpy2                          3.4.5\n",
            "rsa                           4.9\n",
            "scikit-image                  0.18.3\n",
            "scikit-learn                  1.0.2\n",
            "scipy                         1.7.3\n",
            "screen-resolution-extra       0.0.0\n",
            "scs                           3.2.0\n",
            "seaborn                       0.11.2\n",
            "Send2Trash                    1.8.0\n",
            "setuptools                    57.4.0\n",
            "setuptools-git                1.2\n",
            "Shapely                       1.8.4\n",
            "six                           1.15.0\n",
            "sklearn-pandas                1.8.0\n",
            "smart-open                    5.2.1\n",
            "snowballstemmer               2.2.0\n",
            "sortedcontainers              2.4.0\n",
            "SoundFile                     0.10.3.post1\n",
            "spacy                         3.4.1\n",
            "spacy-legacy                  3.0.10\n",
            "spacy-loggers                 1.0.3\n",
            "Sphinx                        1.8.6\n",
            "sphinxcontrib-serializinghtml 1.1.5\n",
            "sphinxcontrib-websupport      1.2.4\n",
            "SQLAlchemy                    1.4.40\n",
            "sqlparse                      0.4.2\n",
            "srsly                         2.4.4\n",
            "statsmodels                   0.12.2\n",
            "sympy                         1.7.1\n",
            "tables                        3.7.0\n",
            "tabulate                      0.8.10\n",
            "tblib                         1.7.0\n",
            "tenacity                      8.0.1\n",
            "tensorboard                   2.8.0\n",
            "tensorboard-data-server       0.6.1\n",
            "tensorboard-plugin-wit        1.8.1\n",
            "tensorflow                    2.8.2+zzzcolab20220719082949\n",
            "tensorflow-datasets           4.6.0\n",
            "tensorflow-estimator          2.8.0\n",
            "tensorflow-gcs-config         2.8.0\n",
            "tensorflow-hub                0.12.0\n",
            "tensorflow-io-gcs-filesystem  0.26.0\n",
            "tensorflow-metadata           1.10.0\n",
            "tensorflow-probability        0.16.0\n",
            "termcolor                     1.1.0\n",
            "terminado                     0.13.3\n",
            "testpath                      0.6.0\n",
            "text-unidecode                1.3\n",
            "textblob                      0.15.3\n",
            "thinc                         8.1.0\n",
            "threadpoolctl                 3.1.0\n",
            "tifffile                      2021.11.2\n",
            "toml                          0.10.2\n",
            "tomli                         2.0.1\n",
            "toolz                         0.12.0\n",
            "torch                         1.12.1+cu113\n",
            "torchaudio                    0.12.1+cu113\n",
            "torchsummary                  1.5.1\n",
            "torchtext                     0.13.1\n",
            "torchvision                   0.13.1+cu113\n",
            "tornado                       5.1.1\n",
            "tqdm                          4.64.0\n",
            "traitlets                     5.1.1\n",
            "tweepy                        3.10.0\n",
            "typeguard                     2.7.1\n",
            "typer                         0.4.2\n",
            "typing-extensions             4.1.1\n",
            "tzlocal                       1.5.1\n",
            "ujson                         5.4.0\n",
            "uritemplate                   3.0.1\n",
            "urllib3                       1.24.3\n",
            "vega-datasets                 0.9.0\n",
            "wasabi                        0.10.1\n",
            "wcwidth                       0.2.5\n",
            "webargs                       8.2.0\n",
            "webencodings                  0.5.1\n",
            "Werkzeug                      1.0.1\n",
            "wheel                         0.37.1\n",
            "widgetsnbextension            3.6.1\n",
            "wordcloud                     1.8.2.2\n",
            "wrapt                         1.14.1\n",
            "xarray                        0.20.2\n",
            "xarray-einstats               0.2.2\n",
            "xgboost                       0.90\n",
            "xkit                          0.0.0\n",
            "xlrd                          1.1.0\n",
            "xlwt                          1.3.0\n",
            "yarl                          1.8.1\n",
            "yellowbrick                   1.5\n",
            "zict                          2.2.0\n",
            "zipp                          3.8.1\n"
          ]
        }
      ]
    },
    {
      "cell_type": "code",
      "source": [
        "#4. 라이브러리 불러오기 \n",
        "import math\n",
        "print(math.ceil(6.3), math.ceil(1.6))"
      ],
      "metadata": {
        "colab": {
          "base_uri": "https://localhost:8080/"
        },
        "id": "Zcv9ifi0sWxx",
        "outputId": "edce8738-7dce-4aee-fecb-abcf6633ee2b"
      },
      "execution_count": null,
      "outputs": [
        {
          "output_type": "stream",
          "name": "stdout",
          "text": [
            "7 2\n"
          ]
        }
      ]
    },
    {
      "cell_type": "code",
      "source": [
        "#5. 라이브러리나 클래스 불러오고 약칭 부여하기\n",
        "from math import ceil as cl\n",
        "cl(1.6)"
      ],
      "metadata": {
        "colab": {
          "base_uri": "https://localhost:8080/"
        },
        "id": "-C2YbSe0t095",
        "outputId": "c230fded-d548-497f-c7a2-3786bd598e5e"
      },
      "execution_count": null,
      "outputs": [
        {
          "output_type": "execute_result",
          "data": {
            "text/plain": [
              "2"
            ]
          },
          "metadata": {},
          "execution_count": 10
        }
      ]
    },
    {
      "cell_type": "markdown",
      "source": [
        "## 나.구글드라이브 마운트 "
      ],
      "metadata": {
        "id": "ZRvkd3wreXNs"
      }
    },
    {
      "cell_type": "code",
      "metadata": {
        "id": "xVRdxYReYeQj",
        "colab": {
          "base_uri": "https://localhost:8080/"
        },
        "outputId": "8511a3f8-8acf-492f-9bda-aa951e6e65a1"
      },
      "source": [
        "#6 google drive mount - 생성된 링크 누르고 로그인\n",
        "# 로그인 후 코드복사 및 아래 생성된 네모박스에 붙여넣기\n",
        "from google.colab import drive\n",
        "drive.mount('/content/drive')"
      ],
      "execution_count": null,
      "outputs": [
        {
          "output_type": "stream",
          "name": "stdout",
          "text": [
            "Mounted at /content/drive\n"
          ]
        }
      ]
    },
    {
      "cell_type": "code",
      "metadata": {
        "id": "Y_uejAndANVD",
        "colab": {
          "base_uri": "https://localhost:8080/"
        },
        "outputId": "377bbdb0-a1cd-4b54-9fe7-fcd2a1298dc2"
      },
      "source": [
        "# 7. 구글 드라이브에 data 디렉토리 없는 경우 생성\n",
        "import os\n",
        "data_dir = os.path.join('/content/drive/MyDrive/','Data')\n",
        "if not os.path.isdir(data_dir):\n",
        "    os.makedirs(data_dir)\n",
        "os.listdir(data_dir)"
      ],
      "execution_count": null,
      "outputs": [
        {
          "output_type": "execute_result",
          "data": {
            "text/plain": [
              "['kowiki',\n",
              " '감성대화',\n",
              " 'sc_training.json',\n",
              " 'sc_corpus.txt',\n",
              " 'sc_training.csv',\n",
              " 'corpus_mecab.txt',\n",
              " 'GoogleNews-vectors-negative300.bin.gz',\n",
              " 'w2v.model',\n",
              " 'ko_vocab',\n",
              " 'juso',\n",
              " 'songys-chat',\n",
              " 'downstream_exported',\n",
              " 'myproject',\n",
              " 'nsmc',\n",
              " 'vocab_ex',\n",
              " 'bert_files',\n",
              " 'korsquad_files',\n",
              " 'pretrained_files',\n",
              " 'result.txt',\n",
              " 'word-dic.csv',\n",
              " 'movie_comment.xlsx',\n",
              " 'research.txt',\n",
              " 'movie_comment.csv']"
            ]
          },
          "metadata": {},
          "execution_count": 13
        }
      ]
    },
    {
      "cell_type": "markdown",
      "metadata": {
        "id": "1Z56tswcdMDB"
      },
      "source": [
        "# 3.파이썬 프로그래밍 기초"
      ]
    },
    {
      "cell_type": "markdown",
      "source": [
        "## 가.프로그래밍 용어 및 연산자"
      ],
      "metadata": {
        "id": "Urej-y0WL8mc"
      }
    },
    {
      "cell_type": "code",
      "metadata": {
        "colab": {
          "base_uri": "https://localhost:8080/"
        },
        "id": "GawtUdEcsnhc",
        "outputId": "8beceb04-cff0-426e-96f4-5ec202d0f4e0"
      },
      "source": [
        "#8. 데이터 입력, 연산, 출력, 데이터 type 확인 \n",
        "text = '안녕하세요!'\n",
        "print(id(text))\n",
        "\n",
        "print(7%3, 7//3, 2**3)\n",
        "a = 1; b=2.1; c=False\n",
        "print(type(text), type(a), type(b), type(c))\n",
        "\n",
        "print(text.encode('utf-8'))\n",
        "d=text.encode('euc-kr')\n",
        "print(d)\n",
        "print(d.decode('cp949'))\n",
        "print(text,'\\n','\\t','감사합니다.\\n')\n",
        "print(text[:3], text[-2:])"
      ],
      "execution_count": null,
      "outputs": [
        {
          "output_type": "stream",
          "name": "stdout",
          "text": [
            "140530316071184\n",
            "1 2 8\n",
            "<class 'str'> <class 'int'> <class 'float'> <class 'bool'>\n",
            "b'\\xec\\x95\\x88\\xeb\\x85\\x95\\xed\\x95\\x98\\xec\\x84\\xb8\\xec\\x9a\\x94!'\n",
            "b'\\xbe\\xc8\\xb3\\xe7\\xc7\\xcf\\xbc\\xbc\\xbf\\xe4!'\n",
            "안녕하세요!\n",
            "안녕하세요! \n",
            " \t 감사합니다.\n",
            "\n",
            "안녕하 요!\n"
          ]
        }
      ]
    },
    {
      "cell_type": "code",
      "source": [
        "# 인코딩 알아내기 라이브러리 chardet 설치 및 확인\n",
        "!pip install chardet\n",
        "import chardet\n",
        "print (chardet.detect(d))"
      ],
      "metadata": {
        "colab": {
          "base_uri": "https://localhost:8080/"
        },
        "id": "CmGi6pmvHDHM",
        "outputId": "01c56477-aa89-4291-d94c-818c17f8b630"
      },
      "execution_count": null,
      "outputs": [
        {
          "output_type": "stream",
          "name": "stdout",
          "text": [
            "Looking in indexes: https://pypi.org/simple, https://us-python.pkg.dev/colab-wheels/public/simple/\n",
            "Requirement already satisfied: chardet in /usr/local/lib/python3.7/dist-packages (3.0.4)\n",
            "{'encoding': 'EUC-KR', 'confidence': 0.6666666666666666, 'language': 'Korean'}\n"
          ]
        }
      ]
    },
    {
      "cell_type": "markdown",
      "metadata": {
        "id": "sJioOMf6j-Pv"
      },
      "source": [
        "## 나.자료 생성 / 저장, 읽어오기"
      ]
    },
    {
      "cell_type": "code",
      "metadata": {
        "id": "lMICVIPXgCF3"
      },
      "source": [
        "# 저장하기 : with 지시자 활용\n",
        "f = open(\"test.txt\", 'w')\n",
        "f.write('텍스트를 저장하고 읽어오기를 실습하고 있습니다.')\n",
        "f.close()\n",
        "\n",
        "with open(os.path.join(data_dir, \"test1.txt\"), 'w') as f:\n",
        "    f.write('텍스트를 저장하고 읽어오기를 실습하고 있습니다.')"
      ],
      "execution_count": null,
      "outputs": []
    },
    {
      "cell_type": "code",
      "metadata": {
        "colab": {
          "base_uri": "https://localhost:8080/"
        },
        "id": "hszRB5njf5fY",
        "outputId": "c0837a50-2159-4733-f4aa-ce6164d8de53"
      },
      "source": [
        "# 읽어오기 : with 지시자 활용\n",
        "f = open('/content/drive/MyDrive/data/test1.txt', 'r')\n",
        "data = f.read()\n",
        "f.close()\n",
        "print(data)\n",
        "\n",
        "with open(\"/content/test.txt\", \"r\") as f:\n",
        "    test=f.read()\n",
        "print(test)\n"
      ],
      "execution_count": null,
      "outputs": [
        {
          "output_type": "stream",
          "name": "stdout",
          "text": [
            "텍스트를 저장하고 읽어오기를 실습하고 있습니다.\n",
            "텍스트를 저장하고 읽어오기를 실습하고 있습니다.\n"
          ]
        }
      ]
    },
    {
      "cell_type": "markdown",
      "metadata": {
        "id": "GAeU3Zttne-B"
      },
      "source": [
        "## 다.매직 명령과 리눅스 명령어, 모듈 실행 방법"
      ]
    },
    {
      "cell_type": "markdown",
      "source": [
        "매직명령 참조 : https://ipython.readthedocs.io/en/stable/interactive/magics.html#"
      ],
      "metadata": {
        "id": "X2bk9o4QhlJ_"
      }
    },
    {
      "cell_type": "code",
      "metadata": {
        "id": "standard-capability",
        "colab": {
          "base_uri": "https://localhost:8080/"
        },
        "outputId": "c6a59bb0-4b85-4c3a-f9ac-b0abf035c5ae"
      },
      "source": [
        "# 파이썬 사용자 모듈 만들기, 실행 구조(직접실행, 임포트하여 실행)\n",
        "%%writefile test.py\n",
        "def add(a, b): \n",
        "    return a+b\n",
        "\n",
        "def sub(a, b): \n",
        "    return a-b\n",
        "\n",
        "if __name__ == \"__main__\":\n",
        "    print(\"직접 실행\")"
      ],
      "execution_count": null,
      "outputs": [
        {
          "output_type": "stream",
          "name": "stdout",
          "text": [
            "Writing test.py\n"
          ]
        }
      ]
    },
    {
      "cell_type": "code",
      "source": [
        "# 직접 실행시켜 주는 방법 \n",
        "%run test.py\n",
        "!python test.py"
      ],
      "metadata": {
        "colab": {
          "base_uri": "https://localhost:8080/"
        },
        "id": "6FETTPZWTQUh",
        "outputId": "c53a137e-80ca-41a8-e2bd-7234a6a42423"
      },
      "execution_count": null,
      "outputs": [
        {
          "output_type": "stream",
          "name": "stdout",
          "text": [
            "직접 실행\n",
            "직접 실행\n"
          ]
        }
      ]
    },
    {
      "cell_type": "code",
      "metadata": {
        "colab": {
          "base_uri": "https://localhost:8080/"
        },
        "id": "1_bSHumUenVz",
        "outputId": "ac377558-4c67-4c1d-f7cf-72ff6a163a12"
      },
      "source": [
        "# 모듈로 불러서 사용하는 방법\n",
        "from test import add, sub\n",
        "print(add(3,4), sub(5,2))\n",
        "\n",
        "from test import *\n",
        "print(add(1,2),sub(4,2))\n",
        "print(add(10,2))"
      ],
      "execution_count": null,
      "outputs": [
        {
          "output_type": "stream",
          "name": "stdout",
          "text": [
            "7 3\n",
            "3 2\n",
            "12\n"
          ]
        }
      ]
    },
    {
      "cell_type": "code",
      "metadata": {
        "id": "Da8TuIZqihhJ",
        "colab": {
          "base_uri": "https://localhost:8080/"
        },
        "outputId": "2ce100b7-b18a-4230-db10-a5065d2d9ea7"
      },
      "source": [
        "#10. 리눅스 명령어 사용, 파일 생성\n",
        "!echo 'print(1+2)' > 'example1.py'\n",
        "!python example1.py\n",
        "%run example1.py\n",
        "!cat example1.py"
      ],
      "execution_count": null,
      "outputs": [
        {
          "output_type": "stream",
          "name": "stdout",
          "text": [
            "3\n",
            "3\n",
            "print(1+2)\n"
          ]
        }
      ]
    },
    {
      "cell_type": "code",
      "metadata": {
        "colab": {
          "base_uri": "https://localhost:8080/"
        },
        "id": "8OBADNlZfKR3",
        "outputId": "0109b4f9-5442-468c-fef3-22dd574d3cd0"
      },
      "source": [
        "# 구글드라이브에 파일 복사해서 저장하기\n",
        "!cp example.py /content/drive/MyDrive/data\n",
        "os.listdir(data_dir)"
      ],
      "execution_count": null,
      "outputs": [
        {
          "output_type": "stream",
          "name": "stdout",
          "text": [
            "cp: cannot stat 'example.py': No such file or directory\n"
          ]
        },
        {
          "output_type": "execute_result",
          "data": {
            "text/plain": [
              "['myproject',\n",
              " 'movie_comment.csv',\n",
              " 'admin.json',\n",
              " 'test1.txt',\n",
              " 'example1.py',\n",
              " 'admin_ex.json',\n",
              " 'test.txt',\n",
              " 'example.py',\n",
              " 'research.txt']"
            ]
          },
          "metadata": {},
          "execution_count": 21
        }
      ]
    },
    {
      "cell_type": "code",
      "metadata": {
        "id": "nN-Z5rFrlW5_",
        "colab": {
          "base_uri": "https://localhost:8080/"
        },
        "outputId": "73ea2924-a122-4db6-a1b1-94f52d15d4b3"
      },
      "source": [
        "# 구글드라이브 파일 복사해서 작업디렉토리로 옮기기\n",
        "!cp /content/drive/MyDrive/data/test.txt /content/\n",
        "!ls"
      ],
      "execution_count": null,
      "outputs": [
        {
          "output_type": "stream",
          "name": "stdout",
          "text": [
            "drive  example1.py  __pycache__  sample_data  test.py  test.txt\n"
          ]
        }
      ]
    },
    {
      "cell_type": "markdown",
      "metadata": {
        "id": "LiHqjZmA2siP"
      },
      "source": [
        "## 라.라이브러리, 클래스 활용"
      ]
    },
    {
      "cell_type": "code",
      "metadata": {
        "colab": {
          "base_uri": "https://localhost:8080/"
        },
        "id": "yNm5OE8H9whL",
        "outputId": "7b4da465-3c1e-4447-dd1c-b020a1b7f87a"
      },
      "source": [
        "from numpy.random import rand, randint, randn\n",
        "print('1번', rand(2,3))\n",
        "print('2번', randint(5, size=(2, 3)))\n",
        "print('3번', randn(2,3)) "
      ],
      "execution_count": null,
      "outputs": [
        {
          "output_type": "stream",
          "name": "stdout",
          "text": [
            "1번 [[0.76757316 0.915629   0.02715224]\n",
            " [0.95195429 0.82892459 0.42779907]]\n",
            "2번 [[3 2 1]\n",
            " [2 4 0]]\n",
            "3번 [[-0.73399265 -1.2426422  -1.02343293]\n",
            " [ 0.65241186  0.12659335 -0.05608074]]\n"
          ]
        }
      ]
    },
    {
      "cell_type": "code",
      "source": [
        "import numpy as np\n",
        "?np.random"
      ],
      "metadata": {
        "id": "qPDL0iKnfwUA"
      },
      "execution_count": null,
      "outputs": []
    },
    {
      "cell_type": "code",
      "metadata": {
        "colab": {
          "base_uri": "https://localhost:8080/",
          "height": 265
        },
        "id": "hK01CKuvCRgp",
        "outputId": "ee57092d-d93f-4a92-ef49-674b20f88bd3"
      },
      "source": [
        "import matplotlib.pyplot as plt\n",
        "\n",
        "x = np.linspace(0, 1, 100)\n",
        "y = np.sqrt(1 - np.square(x))\n",
        "plt.figure(figsize=(4, 4))\n",
        "plt.plot(x, y)\n",
        "plt.grid()\n",
        "plt.show()"
      ],
      "execution_count": null,
      "outputs": [
        {
          "output_type": "display_data",
          "data": {
            "text/plain": [
              "<Figure size 288x288 with 1 Axes>"
            ],
            "image/png": "[encoded data removed]"
          },
          "metadata": {
            "needs_background": "light"
          }
        }
      ]
    },
    {
      "cell_type": "markdown",
      "metadata": {
        "id": "7VOCh__rOWdz"
      },
      "source": [
        "# 4.파이썬 프로그래밍 응용"
      ]
    },
    {
      "cell_type": "markdown",
      "metadata": {
        "id": "loving-burlington"
      },
      "source": [
        "## 가.리스트, 튜플, 딕셔너리, 데이터프레임"
      ]
    },
    {
      "cell_type": "code",
      "metadata": {
        "id": "looking-bernard",
        "colab": {
          "base_uri": "https://localhost:8080/"
        },
        "outputId": "77282eaa-d6e0-4342-cc66-ed93512a88b3"
      },
      "source": [
        "# 리스트 정의와 slice, 특징 \n",
        "names = ['김강남','양서초', '유신촌']\n",
        "k1, k2, k3 = names\n",
        "print(k1, k2, k3 )\n",
        "for i in names:\n",
        "    print(i)\n",
        "print(names[2], names[1:2], names[-2:])"
      ],
      "execution_count": null,
      "outputs": [
        {
          "output_type": "stream",
          "name": "stdout",
          "text": [
            "김강남 양서초 유신촌\n",
            "김강남\n",
            "양서초\n",
            "유신촌\n",
            "유신촌 ['양서초'] ['양서초', '유신촌']\n"
          ]
        }
      ]
    },
    {
      "cell_type": "code",
      "metadata": {
        "colab": {
          "base_uri": "https://localhost:8080/"
        },
        "id": "6vbBkXG_msQR",
        "outputId": "1cf37f53-77bf-49b5-ce92-398a748ac051"
      },
      "source": [
        "# 튜플 : 속성값 교체 불가, 짝짓기 용이, 필요시 list로 변환 가능\n",
        "name = ('A', 'B', 'C')\n",
        "print(type(name))\n",
        "k1, k2, k3 = name\n",
        "print(k1, k2, k3 )\n",
        "# name[1]='양서초'\n",
        "list_name= list(name)\n",
        "list_name[1] = '양서초'\n",
        "print(list_name)"
      ],
      "execution_count": null,
      "outputs": [
        {
          "output_type": "stream",
          "name": "stdout",
          "text": [
            "<class 'tuple'>\n",
            "A B C\n",
            "['A', '양서초', 'C']\n"
          ]
        }
      ]
    },
    {
      "cell_type": "code",
      "metadata": {
        "id": "other-democrat",
        "colab": {
          "base_uri": "https://localhost:8080/"
        },
        "outputId": "2e43f7e8-e8fe-4c0e-af8d-a6fd64119f77"
      },
      "source": [
        "# 딕셔너리와 데이터프레임\n",
        "dic = {'name':['김강남','양서초'], 'birth': ['1118', '0109'], 'age':[19, 20]}\n",
        "for k, v in dic.items():\n",
        "    print(k,v)\n",
        "# 딕셔너리들의 리스트 다루기 \n",
        "dic1 = [ {'name':'김강남', 'birth': '1118', 'age':19},  {'name':'양서초', 'birth': '0109', 'age': 20}]\n",
        "print(dic.keys())\n",
        "print(dic.values())\n",
        "# dic1.keys() #AttributeError: 'list' object has no attribute 'keys'\n",
        "print(dic1[0].keys(),dic1[1].values() )"
      ],
      "execution_count": null,
      "outputs": [
        {
          "output_type": "stream",
          "name": "stdout",
          "text": [
            "name ['김강남', '양서초']\n",
            "birth ['1118', '0109']\n",
            "age [19, 20]\n",
            "dict_keys(['name', 'birth', 'age'])\n",
            "dict_values([['김강남', '양서초'], ['1118', '0109'], [19, 20]])\n",
            "dict_keys(['name', 'birth', 'age']) dict_values(['양서초', '0109', 20])\n"
          ]
        }
      ]
    },
    {
      "cell_type": "code",
      "metadata": {
        "colab": {
          "base_uri": "https://localhost:8080/",
          "height": 112
        },
        "id": "-rRbQsPIhKDM",
        "outputId": "ac1155fa-3e06-4ede-87c8-82a1933477ed"
      },
      "source": [
        "# 딕셔너리를 데이터프레임, CSV로 변환\n",
        "import pandas as pd\n",
        "df = pd.DataFrame(dic,columns = dic.keys())\n",
        "df.to_csv('dic.csv', index=False)\n",
        "df1 = pd.DataFrame(dic1,columns = dic1[0].keys())\n",
        "# print(df)\n",
        "df1"
      ],
      "execution_count": null,
      "outputs": [
        {
          "output_type": "execute_result",
          "data": {
            "text/plain": [
              "  name birth  age\n",
              "0  김강남  1118   19\n",
              "1  양서초  0109   20"
            ],
            "text/html": [
              "\n",
              "  <div id=\"df-c7876722-8613-47a0-ade6-ccd0b782bea1\">\n",
              "    <div class=\"colab-df-container\">\n",
              "      <div>\n",
              "<style scoped>\n",
              "    .dataframe tbody tr th:only-of-type {\n",
              "        vertical-align: middle;\n",
              "    }\n",
              "\n",
              "    .dataframe tbody tr th {\n",
              "        vertical-align: top;\n",
              "    }\n",
              "\n",
              "    .dataframe thead th {\n",
              "        text-align: right;\n",
              "    }\n",
              "</style>\n",
              "<table border=\"1\" class=\"dataframe\">\n",
              "  <thead>\n",
              "    <tr style=\"text-align: right;\">\n",
              "      <th></th>\n",
              "      <th>name</th>\n",
              "      <th>birth</th>\n",
              "      <th>age</th>\n",
              "    </tr>\n",
              "  </thead>\n",
              "  <tbody>\n",
              "    <tr>\n",
              "      <th>0</th>\n",
              "      <td>김강남</td>\n",
              "      <td>1118</td>\n",
              "      <td>19</td>\n",
              "    </tr>\n",
              "    <tr>\n",
              "      <th>1</th>\n",
              "      <td>양서초</td>\n",
              "      <td>0109</td>\n",
              "      <td>20</td>\n",
              "    </tr>\n",
              "  </tbody>\n",
              "</table>\n",
              "</div>\n",
              "      <button class=\"colab-df-convert\" onclick=\"convertToInteractive('df-c7876722-8613-47a0-ade6-ccd0b782bea1')\"\n",
              "              title=\"Convert this dataframe to an interactive table.\"\n",
              "              style=\"display:none;\">\n",
              "        \n",
              "  <svg xmlns=\"http://www.w3.org/2000/svg\" height=\"24px\"viewBox=\"0 0 24 24\"\n",
              "       width=\"24px\">\n",
              "    <path d=\"M0 0h24v24H0V0z\" fill=\"none\"/>\n",
              "    <path d=\"M18.56 5.44l.94 2.06.94-2.06 2.06-.94-2.06-.94-.94-2.06-.94 2.06-2.06.94zm-11 1L8.5 8.5l.94-2.06 2.06-.94-2.06-.94L8.5 2.5l-.94 2.06-2.06.94zm10 10l.94 2.06.94-2.06 2.06-.94-2.06-.94-.94-2.06-.94 2.06-2.06.94z\"/><path d=\"M17.41 7.96l-1.37-1.37c-.4-.4-.92-.59-1.43-.59-.52 0-1.04.2-1.43.59L10.3 9.45l-7.72 7.72c-.78.78-.78 2.05 0 2.83L4 21.41c.39.39.9.59 1.41.59.51 0 1.02-.2 1.41-.59l7.78-7.78 2.81-2.81c.8-.78.8-2.07 0-2.86zM5.41 20L4 18.59l7.72-7.72 1.47 1.35L5.41 20z\"/>\n",
              "  </svg>\n",
              "      </button>\n",
              "      \n",
              "  <style>\n",
              "    .colab-df-container {\n",
              "      display:flex;\n",
              "      flex-wrap:wrap;\n",
              "      gap: 12px;\n",
              "    }\n",
              "\n",
              "    .colab-df-convert {\n",
              "      background-color: #E8F0FE;\n",
              "      border: none;\n",
              "      border-radius: 50%;\n",
              "      cursor: pointer;\n",
              "      display: none;\n",
              "      fill: #1967D2;\n",
              "      height: 32px;\n",
              "      padding: 0 0 0 0;\n",
              "      width: 32px;\n",
              "    }\n",
              "\n",
              "    .colab-df-convert:hover {\n",
              "      background-color: #E2EBFA;\n",
              "      box-shadow: 0px 1px 2px rgba(60, 64, 67, 0.3), 0px 1px 3px 1px rgba(60, 64, 67, 0.15);\n",
              "      fill: #174EA6;\n",
              "    }\n",
              "\n",
              "    [theme=dark] .colab-df-convert {\n",
              "      background-color: #3B4455;\n",
              "      fill: #D2E3FC;\n",
              "    }\n",
              "\n",
              "    [theme=dark] .colab-df-convert:hover {\n",
              "      background-color: #434B5C;\n",
              "      box-shadow: 0px 1px 3px 1px rgba(0, 0, 0, 0.15);\n",
              "      filter: drop-shadow(0px 1px 2px rgba(0, 0, 0, 0.3));\n",
              "      fill: #FFFFFF;\n",
              "    }\n",
              "  </style>\n",
              "\n",
              "      <script>\n",
              "        const buttonEl =\n",
              "          document.querySelector('#df-c7876722-8613-47a0-ade6-ccd0b782bea1 button.colab-df-convert');\n",
              "        buttonEl.style.display =\n",
              "          google.colab.kernel.accessAllowed ? 'block' : 'none';\n",
              "\n",
              "        async function convertToInteractive(key) {\n",
              "          const element = document.querySelector('#df-c7876722-8613-47a0-ade6-ccd0b782bea1');\n",
              "          const dataTable =\n",
              "            await google.colab.kernel.invokeFunction('convertToInteractive',\n",
              "                                                     [key], {});\n",
              "          if (!dataTable) return;\n",
              "\n",
              "          const docLinkHtml = 'Like what you see? Visit the ' +\n",
              "            '<a target=\"_blank\" href=https://colab.research.google.com/notebooks/data_table.ipynb>data table notebook</a>'\n",
              "            + ' to learn more about interactive tables.';\n",
              "          element.innerHTML = '';\n",
              "          dataTable['output_type'] = 'display_data';\n",
              "          await google.colab.output.renderOutput(dataTable, element);\n",
              "          const docLink = document.createElement('div');\n",
              "          docLink.innerHTML = docLinkHtml;\n",
              "          element.appendChild(docLink);\n",
              "        }\n",
              "      </script>\n",
              "    </div>\n",
              "  </div>\n",
              "  "
            ]
          },
          "metadata": {},
          "execution_count": 29
        }
      ]
    },
    {
      "cell_type": "markdown",
      "metadata": {
        "id": "su9QwMHqlxMk"
      },
      "source": [
        "## 나.반복문, 조건문 활용"
      ]
    },
    {
      "cell_type": "code",
      "metadata": {
        "colab": {
          "base_uri": "https://localhost:8080/"
        },
        "id": "pt89LGO7S5Sq",
        "outputId": "0f0ea4cc-26a7-4514-e8ba-0514debba4b0"
      },
      "source": [
        "for i in range(5):\n",
        "    print(i)"
      ],
      "execution_count": null,
      "outputs": [
        {
          "output_type": "stream",
          "name": "stdout",
          "text": [
            "0\n",
            "1\n",
            "2\n",
            "3\n",
            "4\n"
          ]
        }
      ]
    },
    {
      "cell_type": "code",
      "metadata": {
        "id": "B00OUbDWl2-B"
      },
      "source": [
        "with open(\"text.txt\", 'w') as f:\n",
        "    for i in range(5):\n",
        "        data = \"%d번째 줄입니다.\\n\" % i\n",
        "        # print(data)\n",
        "        f.write(data)"
      ],
      "execution_count": null,
      "outputs": []
    },
    {
      "cell_type": "code",
      "metadata": {
        "colab": {
          "base_uri": "https://localhost:8080/"
        },
        "id": "xaUD9kMWo_V8",
        "outputId": "11df1576-bded-49d7-d99f-4f47eb65cb23"
      },
      "source": [
        "# 전체 라인수 확인\n",
        "count = 0\n",
        "with open('text.txt') as f:\n",
        "    for i, line in enumerate(f):\n",
        "        count += 1\n",
        "        print(line)\n",
        "print(count)"
      ],
      "execution_count": null,
      "outputs": [
        {
          "output_type": "stream",
          "name": "stdout",
          "text": [
            "0번째 줄입니다.\n",
            "\n",
            "1번째 줄입니다.\n",
            "\n",
            "2번째 줄입니다.\n",
            "\n",
            "3번째 줄입니다.\n",
            "\n",
            "4번째 줄입니다.\n",
            "\n",
            "5\n"
          ]
        }
      ]
    },
    {
      "cell_type": "code",
      "source": [
        "# 전체데이터 읽어들이기, 라인별로 읽어들이기, \n",
        "# escape 문자 제거하고 라인별로 리스트로 읽어들이기\n",
        "with open('text.txt', 'r') as f:\n",
        "    data = f.read()\n",
        "print(data)\n",
        "\n",
        "with open('text.txt', 'r') as f:\n",
        "    lines = f.readlines()\n",
        "    new_lines = [line.strip() for line in lines]\n",
        "print(lines)\n",
        "print(new_lines)\n",
        "\n",
        "with open('text.txt', 'r') as f:\n",
        "    lines = f.readlines()\n",
        "    text_list=[]\n",
        "    for line in lines:\n",
        "        line=line.strip()\n",
        "        text_list.append(line)\n",
        "print(text_list)"
      ],
      "metadata": {
        "colab": {
          "base_uri": "https://localhost:8080/"
        },
        "id": "4xDhhFuKU7VX",
        "outputId": "be93cffa-8caa-4b62-96b1-f2f6b2e8daf2"
      },
      "execution_count": null,
      "outputs": [
        {
          "output_type": "stream",
          "name": "stdout",
          "text": [
            "0번째 줄입니다.\n",
            "1번째 줄입니다.\n",
            "2번째 줄입니다.\n",
            "3번째 줄입니다.\n",
            "4번째 줄입니다.\n",
            "\n",
            "['0번째 줄입니다.\\n', '1번째 줄입니다.\\n', '2번째 줄입니다.\\n', '3번째 줄입니다.\\n', '4번째 줄입니다.\\n']\n",
            "['0번째 줄입니다.', '1번째 줄입니다.', '2번째 줄입니다.', '3번째 줄입니다.', '4번째 줄입니다.']\n",
            "['0번째 줄입니다.', '1번째 줄입니다.', '2번째 줄입니다.', '3번째 줄입니다.', '4번째 줄입니다.']\n"
          ]
        }
      ]
    },
    {
      "cell_type": "code",
      "metadata": {
        "colab": {
          "base_uri": "https://localhost:8080/"
        },
        "id": "WCBI7IJkunoa",
        "outputId": "89bb99e0-4641-479f-b14e-39f6074c513f"
      },
      "source": [
        "# 문서의 성격 파악하기\n",
        "with open('text.txt') as f:\n",
        "    for i, line in enumerate(f):\n",
        "        if i >2: break\n",
        "        line = line.strip()\n",
        "        print(i, line)"
      ],
      "execution_count": null,
      "outputs": [
        {
          "output_type": "stream",
          "name": "stdout",
          "text": [
            "0 0번째 줄입니다.\n",
            "1 1번째 줄입니다.\n",
            "2 2번째 줄입니다.\n"
          ]
        }
      ]
    }
  ]
}