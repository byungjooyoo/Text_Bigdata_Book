{
  "nbformat": 4,
  "nbformat_minor": 5,
  "metadata": {
    "kernelspec": {
      "display_name": "Python 3",
      "language": "python",
      "name": "python3"
    },
    "language_info": {
      "codemirror_mode": {
        "name": "ipython",
        "version": 3
      },
      "file_extension": ".py",
      "mimetype": "text/x-python",
      "name": "python",
      "nbconvert_exporter": "python",
      "pygments_lexer": "ipython3",
      "version": "3.6.9"
    },
    "colab": {
      "provenance": [],
      "toc_visible": true
    }
  },
  "cells": [
    {
      "cell_type": "markdown",
      "metadata": {
        "id": "agreed-prairie"
      },
      "source": [
        "# 자연어 처리와 토큰화, 수치화, 수량화에 의한 정보요약"
      ],
      "id": "agreed-prairie"
    },
    {
      "cell_type": "markdown",
      "metadata": {
        "id": "eIlx1a-bI280"
      },
      "source": [
        "인간의 언어를 컴퓨터와 같은 기계가 묘사할 수 있도록 연구하고 구현하는 분야\n",
        "\n",
        ": 음성 - Text화 - 말뭉치 사전 기준 토큰화 - 입력벡터 - 딥러닝 모델 처리 - 출력벡터 - 말뭉치 사전 참조 Text 벡터화 - 음성화"
      ],
      "id": "eIlx1a-bI280"
    },
    {
      "cell_type": "markdown",
      "metadata": {
        "id": "2TsQ_gk0PoEY"
      },
      "source": [
        "# 09.1 자연어 처리에 의한 텍스트 데이터의 상호변환"
      ],
      "id": "2TsQ_gk0PoEY"
    },
    {
      "cell_type": "markdown",
      "source": [
        "텍스트를 음성으로 변환 라이브러리 : https://pypi.org/project/gTTS/"
      ],
      "metadata": {
        "id": "AUQ4inG2vtpE"
      },
      "id": "AUQ4inG2vtpE"
    },
    {
      "cell_type": "markdown",
      "source": [
        "음성인식 라이브러리 : https://pypi.org/project/SpeechRecognition/"
      ],
      "metadata": {
        "id": "l98a4py1vSI3"
      },
      "id": "l98a4py1vSI3"
    },
    {
      "cell_type": "markdown",
      "source": [
        "## 9.1.1 음성과 텍스트의 상호변환을 위한 라이브러리 설치"
      ],
      "metadata": {
        "id": "Dw5nDi5pvZqa"
      },
      "id": "Dw5nDi5pvZqa"
    },
    {
      "cell_type": "code",
      "metadata": {
        "colab": {
          "base_uri": "https://localhost:8080/"
        },
        "id": "xPs6uOM9Fg4f",
        "outputId": "bf2809cb-a832-415b-9284-38ace63e34f7"
      },
      "source": [
        "# 필요한 라이브러리 설치\n",
        "!pip install gTTS SpeechRecognition pydub"
      ],
      "id": "xPs6uOM9Fg4f",
      "execution_count": 1,
      "outputs": [
        {
          "output_type": "stream",
          "name": "stdout",
          "text": [
            "Collecting gTTS\n",
            "  Downloading gTTS-2.5.1-py3-none-any.whl (29 kB)\n",
            "Collecting SpeechRecognition\n",
            "  Downloading SpeechRecognition-3.10.3-py2.py3-none-any.whl (32.8 MB)\n",
            "\u001b[2K     \u001b[90m━━━━━━━━━━━━━━━━━━━━━━━━━━━━━━━━━━━━━━━━\u001b[0m \u001b[32m32.8/32.8 MB\u001b[0m \u001b[31m26.1 MB/s\u001b[0m eta \u001b[36m0:00:00\u001b[0m\n",
            "\u001b[?25hCollecting pydub\n",
            "  Downloading pydub-0.25.1-py2.py3-none-any.whl (32 kB)\n",
            "Requirement already satisfied: requests<3,>=2.27 in /usr/local/lib/python3.10/dist-packages (from gTTS) (2.31.0)\n",
            "Requirement already satisfied: click<8.2,>=7.1 in /usr/local/lib/python3.10/dist-packages (from gTTS) (8.1.7)\n",
            "Requirement already satisfied: typing-extensions in /usr/local/lib/python3.10/dist-packages (from SpeechRecognition) (4.11.0)\n",
            "Requirement already satisfied: charset-normalizer<4,>=2 in /usr/local/lib/python3.10/dist-packages (from requests<3,>=2.27->gTTS) (3.3.2)\n",
            "Requirement already satisfied: idna<4,>=2.5 in /usr/local/lib/python3.10/dist-packages (from requests<3,>=2.27->gTTS) (3.6)\n",
            "Requirement already satisfied: urllib3<3,>=1.21.1 in /usr/local/lib/python3.10/dist-packages (from requests<3,>=2.27->gTTS) (2.0.7)\n",
            "Requirement already satisfied: certifi>=2017.4.17 in /usr/local/lib/python3.10/dist-packages (from requests<3,>=2.27->gTTS) (2024.2.2)\n",
            "Installing collected packages: pydub, SpeechRecognition, gTTS\n",
            "Successfully installed SpeechRecognition-3.10.3 gTTS-2.5.1 pydub-0.25.1\n"
          ]
        }
      ]
    },
    {
      "cell_type": "markdown",
      "metadata": {
        "id": "5g4BuC9lOOIu"
      },
      "source": [
        "## 9.1.2 텍스트를 음성으로 젼환하는 gTTS 기술"
      ],
      "id": "5g4BuC9lOOIu"
    },
    {
      "cell_type": "code",
      "source": [
        "%%writefile sample.txt\n",
        "안녕하세요?\n",
        "저는 인공지능 스피커 입니다.\n",
        "오늘 날씨 어떤가요?"
      ],
      "metadata": {
        "colab": {
          "base_uri": "https://localhost:8080/"
        },
        "id": "YDvUCip9noRM",
        "outputId": "d1bd00ee-87da-48e7-f87c-519f806391cd"
      },
      "id": "YDvUCip9noRM",
      "execution_count": 2,
      "outputs": [
        {
          "output_type": "stream",
          "name": "stdout",
          "text": [
            "Writing sample.txt\n"
          ]
        }
      ]
    },
    {
      "cell_type": "code",
      "metadata": {
        "id": "jn14yWbzFQHv"
      },
      "source": [
        "# 텍스트 파일을 읽어들여 mp3파일로 변환\n",
        "from gtts import gTTS\n",
        "with open('sample.txt','r') as f:\n",
        "    text =f.read()\n",
        "tts = gTTS(text=text, lang='ko')\n",
        "tts.save(\"my_audio.mp3\")"
      ],
      "id": "jn14yWbzFQHv",
      "execution_count": 3,
      "outputs": []
    },
    {
      "cell_type": "code",
      "source": [
        "# 음성으로 출력\n",
        "from IPython.display import Audio, display\n",
        "display(Audio('my_audio.mp3', autoplay=True))"
      ],
      "metadata": {
        "colab": {
          "base_uri": "https://localhost:8080/",
          "height": 75
        },
        "id": "0VklMxqcHrrG",
        "outputId": "36175b99-31b9-4a92-dbee-35e92a708a73"
      },
      "id": "0VklMxqcHrrG",
      "execution_count": 4,
      "outputs": [
        {
          "output_type": "display_data",
          "data": {
            "text/plain": [
              "<IPython.lib.display.Audio object>"
            ],
            "text/html": [
              "\n",
              "                <audio  controls=\"controls\" autoplay=\"autoplay\">\n",
              "                    <source src=\"data:audio/mpeg;base64,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\" type=\"audio/mpeg\" />\n",
              "                    Your browser does not support the audio element.\n",
              "                </audio>\n",
              "              "
            ]
          },
          "metadata": {}
        }
      ]
    },
    {
      "cell_type": "markdown",
      "metadata": {
        "id": "BlODc-IxFTTu"
      },
      "source": [
        "## 9.1.3 음성을 텍스트로 변환하는 STT 기술"
      ],
      "id": "BlODc-IxFTTu"
    },
    {
      "cell_type": "code",
      "metadata": {
        "colab": {
          "base_uri": "https://localhost:8080/"
        },
        "id": "AaJ__lxHGQwy",
        "outputId": "4ff024a9-cd19-4aa3-e518-658384c10b24"
      },
      "source": [
        "# SpeechRecognition 라이브러리는 wav 파일만 인식하여 mp3를 wav파일로 변환이 필요\n",
        "import pydub\n",
        "sound = pydub.AudioSegment.from_mp3('my_audio.mp3')\n",
        "sound.export('my_audio.wav', format=\"wav\")"
      ],
      "id": "AaJ__lxHGQwy",
      "execution_count": 5,
      "outputs": [
        {
          "output_type": "execute_result",
          "data": {
            "text/plain": [
              "<_io.BufferedRandom name='my_audio.wav'>"
            ]
          },
          "metadata": {},
          "execution_count": 5
        }
      ]
    },
    {
      "cell_type": "code",
      "metadata": {
        "colab": {
          "base_uri": "https://localhost:8080/"
        },
        "id": "_PSt0GEdGI45",
        "outputId": "ba4be2a9-8bdd-46c6-c33f-8e646085ca12"
      },
      "source": [
        "# wav 파일을 텍스트로 변환하여 출력\n",
        "import speech_recognition as sr\n",
        "r = sr.Recognizer()\n",
        "with sr.AudioFile('my_audio.wav') as f:\n",
        "    audio = r.record(f)\n",
        "print(r.recognize_google(audio, language='ko'))"
      ],
      "id": "_PSt0GEdGI45",
      "execution_count": 6,
      "outputs": [
        {
          "output_type": "stream",
          "name": "stdout",
          "text": [
            "안녕하세요 저는 인공지능 스피커입니다 오늘 날씨 어떤가요\n"
          ]
        }
      ]
    },
    {
      "cell_type": "markdown",
      "source": [
        "## 9.1.4 영상을 텍스트로 변환하는 기술로 확장"
      ],
      "metadata": {
        "id": "CJzANUKvyMsz"
      },
      "id": "CJzANUKvyMsz"
    },
    {
      "cell_type": "code",
      "source": [
        "# 유튜브 영상 다운로드 및 오디오 추출 라이브러리\n",
        "!pip install pytube moviepy"
      ],
      "metadata": {
        "colab": {
          "base_uri": "https://localhost:8080/"
        },
        "id": "qTWqNKC41jG9",
        "outputId": "6282a215-0ff0-486e-f3ae-83a7595692a3"
      },
      "id": "qTWqNKC41jG9",
      "execution_count": 7,
      "outputs": [
        {
          "output_type": "stream",
          "name": "stdout",
          "text": [
            "Collecting pytube\n",
            "  Downloading pytube-15.0.0-py3-none-any.whl (57 kB)\n",
            "\u001b[2K     \u001b[90m━━━━━━━━━━━━━━━━━━━━━━━━━━━━━━━━━━━━━━━━\u001b[0m \u001b[32m57.6/57.6 kB\u001b[0m \u001b[31m1.1 MB/s\u001b[0m eta \u001b[36m0:00:00\u001b[0m\n",
            "\u001b[?25hRequirement already satisfied: moviepy in /usr/local/lib/python3.10/dist-packages (1.0.3)\n",
            "Requirement already satisfied: decorator<5.0,>=4.0.2 in /usr/local/lib/python3.10/dist-packages (from moviepy) (4.4.2)\n",
            "Requirement already satisfied: tqdm<5.0,>=4.11.2 in /usr/local/lib/python3.10/dist-packages (from moviepy) (4.66.2)\n",
            "Requirement already satisfied: requests<3.0,>=2.8.1 in /usr/local/lib/python3.10/dist-packages (from moviepy) (2.31.0)\n",
            "Requirement already satisfied: proglog<=1.0.0 in /usr/local/lib/python3.10/dist-packages (from moviepy) (0.1.10)\n",
            "Requirement already satisfied: numpy>=1.17.3 in /usr/local/lib/python3.10/dist-packages (from moviepy) (1.25.2)\n",
            "Requirement already satisfied: imageio<3.0,>=2.5 in /usr/local/lib/python3.10/dist-packages (from moviepy) (2.31.6)\n",
            "Requirement already satisfied: imageio-ffmpeg>=0.2.0 in /usr/local/lib/python3.10/dist-packages (from moviepy) (0.4.9)\n",
            "Requirement already satisfied: pillow<10.1.0,>=8.3.2 in /usr/local/lib/python3.10/dist-packages (from imageio<3.0,>=2.5->moviepy) (9.4.0)\n",
            "Requirement already satisfied: setuptools in /usr/local/lib/python3.10/dist-packages (from imageio-ffmpeg>=0.2.0->moviepy) (67.7.2)\n",
            "Requirement already satisfied: charset-normalizer<4,>=2 in /usr/local/lib/python3.10/dist-packages (from requests<3.0,>=2.8.1->moviepy) (3.3.2)\n",
            "Requirement already satisfied: idna<4,>=2.5 in /usr/local/lib/python3.10/dist-packages (from requests<3.0,>=2.8.1->moviepy) (3.6)\n",
            "Requirement already satisfied: urllib3<3,>=1.21.1 in /usr/local/lib/python3.10/dist-packages (from requests<3.0,>=2.8.1->moviepy) (2.0.7)\n",
            "Requirement already satisfied: certifi>=2017.4.17 in /usr/local/lib/python3.10/dist-packages (from requests<3.0,>=2.8.1->moviepy) (2024.2.2)\n",
            "Installing collected packages: pytube\n",
            "Successfully installed pytube-15.0.0\n"
          ]
        }
      ]
    },
    {
      "cell_type": "code",
      "source": [
        "# 유튜브 영상 다운로드 및 오디오 추출\n",
        "from pytube import YouTube\n",
        "from moviepy.editor import VideoFileClip\n",
        "url = \"https://youtu.be/lUkiP31l-jQ\"\n",
        "file =\"audio_file\"\n",
        "print(\"영상을 다운로드 중입니다. 잠시만 기다려 주세요~\")\n",
        "# Download the video\n",
        "yt = YouTube(url)\n",
        "stream = yt.streams.get_highest_resolution()\n",
        "stream.download(filename=file+\".mp4\")\n",
        "print(\"영상다운로드를 완료하고 음성변환 중입니다. 잠시만 더 기다리세요~\")\n",
        "# # Extract the audio\n",
        "video = VideoFileClip(file+'.mp4')\n",
        "audio = video.audio\n",
        "audio.write_audiofile(file+'.mp3')"
      ],
      "metadata": {
        "colab": {
          "base_uri": "https://localhost:8080/"
        },
        "id": "JrfhFyNXyOBN",
        "outputId": "3aceaadb-26d9-475a-ad4d-778b997fb513"
      },
      "id": "JrfhFyNXyOBN",
      "execution_count": 8,
      "outputs": [
        {
          "output_type": "stream",
          "name": "stdout",
          "text": [
            "영상을 다운로드 중입니다. 잠시만 기다려 주세요~\n",
            "영상다운로드를 완료하고 음성변환 중입니다. 잠시만 더 기다리세요~\n",
            "MoviePy - Writing audio in audio_file.mp3\n"
          ]
        },
        {
          "output_type": "stream",
          "name": "stderr",
          "text": [
            "                                                                     "
          ]
        },
        {
          "output_type": "stream",
          "name": "stdout",
          "text": [
            "MoviePy - Done.\n"
          ]
        },
        {
          "output_type": "stream",
          "name": "stderr",
          "text": [
            "\r"
          ]
        }
      ]
    },
    {
      "cell_type": "code",
      "source": [
        "# SpeechRecognition 라이브러리는 wav 파일만 인식하여 mp3를 wav파일로 변환이 필요\n",
        "import pydub\n",
        "sound = pydub.AudioSegment.from_mp3('audio_file.mp3')\n",
        "sound.export('wav_file.wav', format=\"wav\")"
      ],
      "metadata": {
        "colab": {
          "base_uri": "https://localhost:8080/"
        },
        "id": "O4-nnmVY3RSt",
        "outputId": "0fce7a26-2aee-4fbd-c334-a283fecc10d2"
      },
      "id": "O4-nnmVY3RSt",
      "execution_count": 9,
      "outputs": [
        {
          "output_type": "execute_result",
          "data": {
            "text/plain": [
              "<_io.BufferedRandom name='wav_file.wav'>"
            ]
          },
          "metadata": {},
          "execution_count": 9
        }
      ]
    },
    {
      "cell_type": "code",
      "source": [
        "# 긴문장을 세그멘테이션하여 텍스트화하는 함수 정의\n",
        "# transcribe_audio(path): 텍스트로 변환하는 함수,\n",
        "# get_large_audio_transcription_on_silence(path): 오디오 파일 세그멘테이션 함수\n",
        "import speech_recognition as sr\n",
        "import os\n",
        "from pydub import AudioSegment\n",
        "from pydub.silence import split_on_silence\n",
        "r = sr.Recognizer()\n",
        "def transcribe_audio(path):\n",
        "    with sr.AudioFile(path) as source:\n",
        "        audio_listened = r.record(source)\n",
        "        text = r.recognize_google(audio_listened, language='ko')\n",
        "    return text\n",
        "\n",
        "def get_large_audio_transcription_on_silence(path):\n",
        "    sound = AudioSegment.from_file(path)\n",
        "    chunks = split_on_silence(sound,\n",
        "        min_silence_len = 500,\n",
        "        silence_thresh = sound.dBFS-14,\n",
        "        keep_silence=500,\n",
        "    )\n",
        "    folder_name = \"audio-chunks\"\n",
        "    if not os.path.isdir(folder_name):\n",
        "        os.mkdir(folder_name)\n",
        "    whole_text = \"\"\n",
        "    for i, audio_chunk in enumerate(chunks, start=1):\n",
        "        chunk_filename = os.path.join(folder_name, f\"chunk{i}.wav\")\n",
        "        audio_chunk.export(chunk_filename, format=\"wav\")\n",
        "        try:\n",
        "            text = transcribe_audio(chunk_filename)\n",
        "        except sr.UnknownValueError as e:\n",
        "            print(\"Error:\", str(e))\n",
        "        else:\n",
        "            text = f\"{text.capitalize()}. \"\n",
        "            print(chunk_filename, \":\", text)\n",
        "            whole_text += text\n",
        "    return whole_text"
      ],
      "metadata": {
        "id": "jgAsESxJ3zvA"
      },
      "id": "jgAsESxJ3zvA",
      "execution_count": 10,
      "outputs": []
    },
    {
      "cell_type": "code",
      "source": [
        "# wav 파일 입력 text_file 출력\n",
        "path = \"wav_file.wav\"\n",
        "text_file = get_large_audio_transcription_on_silence(path)\n",
        "print(\"\\nFull text:\", text_file)"
      ],
      "metadata": {
        "colab": {
          "base_uri": "https://localhost:8080/"
        },
        "id": "9IxM4rmu4wM_",
        "outputId": "d50e8f78-7b22-4584-9f55-36eb9a818fc9"
      },
      "id": "9IxM4rmu4wM_",
      "execution_count": 11,
      "outputs": [
        {
          "output_type": "stream",
          "name": "stdout",
          "text": [
            "audio-chunks/chunk1.wav : 안녕하세요 에이제트 테크놀로지다 오늘은 블렌더에서 매우 유용한 블렌더 gis 애드온에 대해서 알아보겠습니다 구글에서 블렌더 gis 검색한 다음에. \n",
            "audio-chunks/chunk2.wav : 다음과 같이 기타부 켜서 코드 다운로드 지불해서 블렌더 gis 다운 받습니다 그리고 블렌더를 실행한 다음에. \n",
            "audio-chunks/chunk3.wav : 에. \n",
            "audio-chunks/chunk4.wav : Preference. \n",
            "audio-chunks/chunk5.wav : 애드온에서. \n",
            "audio-chunks/chunk6.wav : 방금 다운 받았던. \n",
            "audio-chunks/chunk7.wav : Gis 선택해 줍니다 인스톨 애드온을 선택하고 여기 3d view 블렌더 gis 체크해 줍니다 그리고 밑에 내려 보면은 지금 캐시 폴더를 저장해 줘야 되는데요 3d 데이터를 제대로 다운 받을 경우에 용량이 상당히 많기 때문에 원하는 곳을 지정해 주시면 됩니다 이렇게 해서 블렌더 gis 사용할 준비가 됐습니다 여기에 gis 추가가 되었습니다 gis 사용하는 방법은 간단합니다 먼저이 디폴트 큐브는 delete 키를 눌러서 지우겠습니다. \n",
            "audio-chunks/chunk8.wav : Gis 웹 지오 데이터 베이스 맵을 선택합니다 그리고 소스 레이어가 기본으로 선택되어 있는데요이 상태에서 오케이를 선택해 줍니다 그러면 이렇게 구글 지도가 나오는데요 마우스 휠 키를 조절하고 마우스 가운데 버튼을 눌러서 이렇게 지도를 조절할 수가 있습니다 원하는 곳으로 움직인 다음에 기다리고 있으면. \n",
            "audio-chunks/chunk9.wav : 베키 왼쪽에 다운로드가 됐고 점점 더 정확하게 위치가 나타나는 것을 볼 수가 있습니다 그리고 단축키 쥐를 누르고 검색을 해서도 찾을 수가 있습니다. \n",
            "audio-chunks/chunk10.wav : 런던을 누르고 줌 레벨은 15로 하겠습니다. \n",
            "audio-chunks/chunk11.wav : 그러면 이렇게 런던 지역이 블렌더에 나타나는데요 마우스 왼쪽 버튼을 누르고 화면을 움직여 보면은. \n",
            "audio-chunks/chunk12.wav : 지도가 나타나는 것을 볼 수 있습니다 이때이 상태에서 단축키 2를 누르면은. \n",
            "audio-chunks/chunk13.wav : 런던 지역이. \n",
            "audio-chunks/chunk14.wav : 블렌더에 이렇게 지도로 들어오는 것을 볼 수가 있습니다 그리고 이제이 2d 지도에 높이를 나타내면서 건물을 세워 줘야 됩니다 그렇게 하기 위해서는 먼저 gis. \n",
            "audio-chunks/chunk15.wav : 웹 지오 데이터에서. \n",
            "audio-chunks/chunk16.wav : 겟 엘리베이션 srtm 선택해 줍니다 그리고 오케이를 선택해 주면은 이렇게 블렌더에 나오는 지도에 미세한 높이가 표시되는 것을 볼 수가 있습니다 지금 높이가 잘 안 보일 수가 있는데 지금 런던 지역이 상대적으로 매우 평평하기 때문입니다 그리고 이제 건물을 한번 세워 보겠습니다 gis 데이터 웹 지우 데이터 이번에는 get osma 합니다 그리고 shift 키를 누른 채 빌딩 하이웨이 레저 내추럴 레이어웨이 워터 웨이드를 다 선택하고 여기 엘리베이션 from object 선택합니다 그리고이 상태에서 오케이 눌러 줍니다 인터넷 속도와 컴퓨터에 따라서 이렇게 데이터를 다운 받는데 약간의 시간이 걸릴 수가 있습니다. \n",
            "audio-chunks/chunk17.wav : 지금 10시 56분인데 약 5분 정도 걸릴 거 같습니다. \n",
            "audio-chunks/chunk18.wav : 지금 약 10분 정도가 걸려서 이렇게 다운로드가 완료가 됐습니다. \n",
            "audio-chunks/chunk19.wav : 지금 오른쪽에 보면은 빌딩 하이웨이 랜드 레저 내추럴 레이 웨이 워터웨이 등. \n",
            "audio-chunks/chunk20.wav : 다양한 것들이 지금 다운된 것을 볼 수가 있습니다. \n",
            "audio-chunks/chunk21.wav : 그리고 이렇게 블렌더 화면을 움직여 보면은. \n",
            "audio-chunks/chunk22.wav : 3d 건물 높이가 나타났음을 볼 수 있습니다. \n",
            "audio-chunks/chunk23.wav : 지금 이렇게 뷰포트 쉐이딩을 와이어프레임으로 바꿔 보면은 모든 것들이 다 나타나는 것을 볼 수. \n",
            "audio-chunks/chunk24.wav : 그리고 여기 뷰포트 쉐이딩 해서 캐비트론. \n",
            "audio-chunks/chunk25.wav : 스크린으로 이렇게 보면은. \n",
            "audio-chunks/chunk26.wav : 이 경계면이 좀 더 뚜렷하게 나타나서 확인하기 건물들을 볼 수가 있습니다. \n",
            "audio-chunks/chunk27.wav : 지금 런던 도시를 선택했을 때 약 10분 정도 걸려서 다운이 됐는데 더 넓은 도시를 선택하면 시간이 상당히 오래 걸리기 때문에 적절하게 화면 배율을 조절할 필요가 있습니다 그리고 이렇게 다운 받은 건물은 탭 키를 눌러서 에딧 모드로 들어가면은 지금. \n",
            "audio-chunks/chunk28.wav : 표면 단축키 숫자 3을 누르고 이렇게 선택을 해서 돌출 단축키 알파벳 e 누르고. \n",
            "audio-chunks/chunk29.wav : Z 축으로 올려 보면은 건물에 높이도 조절할 수가 있습니다. \n",
            "audio-chunks/chunk30.wav : 이런 식으로 해서 원하는. \n",
            "audio-chunks/chunk31.wav : 도시를 구글에서 찾은 다음에 블렌더 3d 가지고 와서. \n",
            "audio-chunks/chunk32.wav : 모델링을 이용할 수도 있습니다 오늘은 간단하게 블렌더 gis 애드온에 대해서 알아보았습니다 본 영상이 도움이 되었다면 좋아요 댓글 구독 부탁드립니다. \n",
            "audio-chunks/chunk33.wav : 영상을 봐 주셔서 감사합니다. \n",
            "\n",
            "Full text: 안녕하세요 에이제트 테크놀로지다 오늘은 블렌더에서 매우 유용한 블렌더 gis 애드온에 대해서 알아보겠습니다 구글에서 블렌더 gis 검색한 다음에. 다음과 같이 기타부 켜서 코드 다운로드 지불해서 블렌더 gis 다운 받습니다 그리고 블렌더를 실행한 다음에. 에. Preference. 애드온에서. 방금 다운 받았던. Gis 선택해 줍니다 인스톨 애드온을 선택하고 여기 3d view 블렌더 gis 체크해 줍니다 그리고 밑에 내려 보면은 지금 캐시 폴더를 저장해 줘야 되는데요 3d 데이터를 제대로 다운 받을 경우에 용량이 상당히 많기 때문에 원하는 곳을 지정해 주시면 됩니다 이렇게 해서 블렌더 gis 사용할 준비가 됐습니다 여기에 gis 추가가 되었습니다 gis 사용하는 방법은 간단합니다 먼저이 디폴트 큐브는 delete 키를 눌러서 지우겠습니다. Gis 웹 지오 데이터 베이스 맵을 선택합니다 그리고 소스 레이어가 기본으로 선택되어 있는데요이 상태에서 오케이를 선택해 줍니다 그러면 이렇게 구글 지도가 나오는데요 마우스 휠 키를 조절하고 마우스 가운데 버튼을 눌러서 이렇게 지도를 조절할 수가 있습니다 원하는 곳으로 움직인 다음에 기다리고 있으면. 베키 왼쪽에 다운로드가 됐고 점점 더 정확하게 위치가 나타나는 것을 볼 수가 있습니다 그리고 단축키 쥐를 누르고 검색을 해서도 찾을 수가 있습니다. 런던을 누르고 줌 레벨은 15로 하겠습니다. 그러면 이렇게 런던 지역이 블렌더에 나타나는데요 마우스 왼쪽 버튼을 누르고 화면을 움직여 보면은. 지도가 나타나는 것을 볼 수 있습니다 이때이 상태에서 단축키 2를 누르면은. 런던 지역이. 블렌더에 이렇게 지도로 들어오는 것을 볼 수가 있습니다 그리고 이제이 2d 지도에 높이를 나타내면서 건물을 세워 줘야 됩니다 그렇게 하기 위해서는 먼저 gis. 웹 지오 데이터에서. 겟 엘리베이션 srtm 선택해 줍니다 그리고 오케이를 선택해 주면은 이렇게 블렌더에 나오는 지도에 미세한 높이가 표시되는 것을 볼 수가 있습니다 지금 높이가 잘 안 보일 수가 있는데 지금 런던 지역이 상대적으로 매우 평평하기 때문입니다 그리고 이제 건물을 한번 세워 보겠습니다 gis 데이터 웹 지우 데이터 이번에는 get osma 합니다 그리고 shift 키를 누른 채 빌딩 하이웨이 레저 내추럴 레이어웨이 워터 웨이드를 다 선택하고 여기 엘리베이션 from object 선택합니다 그리고이 상태에서 오케이 눌러 줍니다 인터넷 속도와 컴퓨터에 따라서 이렇게 데이터를 다운 받는데 약간의 시간이 걸릴 수가 있습니다. 지금 10시 56분인데 약 5분 정도 걸릴 거 같습니다. 지금 약 10분 정도가 걸려서 이렇게 다운로드가 완료가 됐습니다. 지금 오른쪽에 보면은 빌딩 하이웨이 랜드 레저 내추럴 레이 웨이 워터웨이 등. 다양한 것들이 지금 다운된 것을 볼 수가 있습니다. 그리고 이렇게 블렌더 화면을 움직여 보면은. 3d 건물 높이가 나타났음을 볼 수 있습니다. 지금 이렇게 뷰포트 쉐이딩을 와이어프레임으로 바꿔 보면은 모든 것들이 다 나타나는 것을 볼 수. 그리고 여기 뷰포트 쉐이딩 해서 캐비트론. 스크린으로 이렇게 보면은. 이 경계면이 좀 더 뚜렷하게 나타나서 확인하기 건물들을 볼 수가 있습니다. 지금 런던 도시를 선택했을 때 약 10분 정도 걸려서 다운이 됐는데 더 넓은 도시를 선택하면 시간이 상당히 오래 걸리기 때문에 적절하게 화면 배율을 조절할 필요가 있습니다 그리고 이렇게 다운 받은 건물은 탭 키를 눌러서 에딧 모드로 들어가면은 지금. 표면 단축키 숫자 3을 누르고 이렇게 선택을 해서 돌출 단축키 알파벳 e 누르고. Z 축으로 올려 보면은 건물에 높이도 조절할 수가 있습니다. 이런 식으로 해서 원하는. 도시를 구글에서 찾은 다음에 블렌더 3d 가지고 와서. 모델링을 이용할 수도 있습니다 오늘은 간단하게 블렌더 gis 애드온에 대해서 알아보았습니다 본 영상이 도움이 되었다면 좋아요 댓글 구독 부탁드립니다. 영상을 봐 주셔서 감사합니다. \n"
          ]
        }
      ]
    },
    {
      "cell_type": "code",
      "source": [
        "text_file"
      ],
      "metadata": {
        "colab": {
          "base_uri": "https://localhost:8080/",
          "height": 227
        },
        "id": "4dUABO-P9bdU",
        "outputId": "40c8e86c-5652-4931-a3f7-67128a34e422"
      },
      "id": "4dUABO-P9bdU",
      "execution_count": 12,
      "outputs": [
        {
          "output_type": "execute_result",
          "data": {
            "text/plain": [
              "'안녕하세요 에이제트 테크놀로지다 오늘은 블렌더에서 매우 유용한 블렌더 gis 애드온에 대해서 알아보겠습니다 구글에서 블렌더 gis 검색한 다음에. 다음과 같이 기타부 켜서 코드 다운로드 지불해서 블렌더 gis 다운 받습니다 그리고 블렌더를 실행한 다음에. 에. Preference. 애드온에서. 방금 다운 받았던. Gis 선택해 줍니다 인스톨 애드온을 선택하고 여기 3d view 블렌더 gis 체크해 줍니다 그리고 밑에 내려 보면은 지금 캐시 폴더를 저장해 줘야 되는데요 3d 데이터를 제대로 다운 받을 경우에 용량이 상당히 많기 때문에 원하는 곳을 지정해 주시면 됩니다 이렇게 해서 블렌더 gis 사용할 준비가 됐습니다 여기에 gis 추가가 되었습니다 gis 사용하는 방법은 간단합니다 먼저이 디폴트 큐브는 delete 키를 눌러서 지우겠습니다. Gis 웹 지오 데이터 베이스 맵을 선택합니다 그리고 소스 레이어가 기본으로 선택되어 있는데요이 상태에서 오케이를 선택해 줍니다 그러면 이렇게 구글 지도가 나오는데요 마우스 휠 키를 조절하고 마우스 가운데 버튼을 눌러서 이렇게 지도를 조절할 수가 있습니다 원하는 곳으로 움직인 다음에 기다리고 있으면. 베키 왼쪽에 다운로드가 됐고 점점 더 정확하게 위치가 나타나는 것을 볼 수가 있습니다 그리고 단축키 쥐를 누르고 검색을 해서도 찾을 수가 있습니다. 런던을 누르고 줌 레벨은 15로 하겠습니다. 그러면 이렇게 런던 지역이 블렌더에 나타나는데요 마우스 왼쪽 버튼을 누르고 화면을 움직여 보면은. 지도가 나타나는 것을 볼 수 있습니다 이때이 상태에서 단축키 2를 누르면은. 런던 지역이. 블렌더에 이렇게 지도로 들어오는 것을 볼 수가 있습니다 그리고 이제이 2d 지도에 높이를 나타내면서 건물을 세워 줘야 됩니다 그렇게 하기 위해서는 먼저 gis. 웹 지오 데이터에서. 겟 엘리베이션 srtm 선택해 줍니다 그리고 오케이를 선택해 주면은 이렇게 블렌더에 나오는 지도에 미세한 높이가 표시되는 것을 볼 수가 있습니다 지금 높이가 잘 안 보일 수가 있는데 지금 런던 지역이 상대적으로 매우 평평하기 때문입니다 그리고 이제 건물을 한번 세워 보겠습니다 gis 데이터 웹 지우 데이터 이번에는 get osma 합니다 그리고 shift 키를 누른 채 빌딩 하이웨이 레저 내추럴 레이어웨이 워터 웨이드를 다 선택하고 여기 엘리베이션 from object 선택합니다 그리고이 상태에서 오케이 눌러 줍니다 인터넷 속도와 컴퓨터에 따라서 이렇게 데이터를 다운 받는데 약간의 시간이 걸릴 수가 있습니다. 지금 10시 56분인데 약 5분 정도 걸릴 거 같습니다. 지금 약 10분 정도가 걸려서 이렇게 다운로드가 완료가 됐습니다. 지금 오른쪽에 보면은 빌딩 하이웨이 랜드 레저 내추럴 레이 웨이 워터웨이 등. 다양한 것들이 지금 다운된 것을 볼 수가 있습니다. 그리고 이렇게 블렌더 화면을 움직여 보면은. 3d 건물 높이가 나타났음을 볼 수 있습니다. 지금 이렇게 뷰포트 쉐이딩을 와이어프레임으로 바꿔 보면은 모든 것들이 다 나타나는 것을 볼 수. 그리고 여기 뷰포트 쉐이딩 해서 캐비트론. 스크린으로 이렇게 보면은. 이 경계면이 좀 더 뚜렷하게 나타나서 확인하기 건물들을 볼 수가 있습니다. 지금 런던 도시를 선택했을 때 약 10분 정도 걸려서 다운이 됐는데 더 넓은 도시를 선택하면 시간이 상당히 오래 걸리기 때문에 적절하게 화면 배율을 조절할 필요가 있습니다 그리고 이렇게 다운 받은 건물은 탭 키를 눌러서 에딧 모드로 들어가면은 지금. 표면 단축키 숫자 3을 누르고 이렇게 선택을 해서 돌출 단축키 알파벳 e 누르고. Z 축으로 올려 보면은 건물에 높이도 조절할 수가 있습니다. 이런 식으로 해서 원하는. 도시를 구글에서 찾은 다음에 블렌더 3d 가지고 와서. 모델링을 이용할 수도 있습니다 오늘은 간단하게 블렌더 gis 애드온에 대해서 알아보았습니다 본 영상이 도움이 되었다면 좋아요 댓글 구독 부탁드립니다. 영상을 봐 주셔서 감사합니다. '"
            ],
            "application/vnd.google.colaboratory.intrinsic+json": {
              "type": "string"
            }
          },
          "metadata": {},
          "execution_count": 12
        }
      ]
    },
    {
      "cell_type": "markdown",
      "metadata": {
        "id": "AK9__QtVEOAs"
      },
      "source": [
        "# 09.2 텍스트 데이터의 토큰화 방법"
      ],
      "id": "AK9__QtVEOAs"
    },
    {
      "cell_type": "markdown",
      "metadata": {
        "id": "wShD9uZ4Ood1"
      },
      "source": [
        "토큰화 : 일정한 입력단위로 분할"
      ],
      "id": "wShD9uZ4Ood1"
    },
    {
      "cell_type": "markdown",
      "metadata": {
        "id": "H6Pgz60edJFa"
      },
      "source": [
        "## 9.2.1 문자단위, 띄어쓰기단위, 문장단위 토큰화"
      ],
      "id": "H6Pgz60edJFa"
    },
    {
      "cell_type": "code",
      "metadata": {
        "colab": {
          "base_uri": "https://localhost:8080/",
          "height": 35
        },
        "id": "rzJWtai-fcH2",
        "outputId": "0a7166e0-7977-45e3-c559-c558d6720a57"
      },
      "source": [
        "corpus = \"\"\"나는 학교에 다니는 학생입니다.\n",
        "나는 좋은 선생님입니다.\n",
        "당신은 매우 좋은 선생님입니다.\"\"\"\n",
        "corpus"
      ],
      "id": "rzJWtai-fcH2",
      "execution_count": 37,
      "outputs": [
        {
          "output_type": "execute_result",
          "data": {
            "text/plain": [
              "'나는 학교에 다니는 학생입니다.\\n나는 좋은 선생님입니다.\\n당신은 매우 좋은 선생님입니다.'"
            ],
            "application/vnd.google.colaboratory.intrinsic+json": {
              "type": "string"
            }
          },
          "metadata": {},
          "execution_count": 37
        }
      ]
    },
    {
      "cell_type": "code",
      "metadata": {
        "id": "o5_pPMOMKiMv",
        "colab": {
          "base_uri": "https://localhost:8080/"
        },
        "outputId": "3a8f5a60-90bb-4c54-dfbb-e69fcaffbd9e"
      },
      "source": [
        "# 여러가기 토큰화 방법 : 문자단위, 띄어쓰기 단위, 문장단위 토큰화\n",
        "print(list(corpus))\n",
        "# space 기준 단어단위 나누기 : split\n",
        "print(corpus.split())\n",
        "# 문장단위는 개행 escape 문자 \\n 기준으로 나누기\n",
        "print(corpus.split(\"\\n\"))"
      ],
      "id": "o5_pPMOMKiMv",
      "execution_count": 38,
      "outputs": [
        {
          "output_type": "stream",
          "name": "stdout",
          "text": [
            "['나', '는', ' ', '학', '교', '에', ' ', '다', '니', '는', ' ', '학', '생', '입', '니', '다', '.', '\\n', '나', '는', ' ', '좋', '은', ' ', '선', '생', '님', '입', '니', '다', '.', '\\n', '당', '신', '은', ' ', '매', '우', ' ', '좋', '은', ' ', '선', '생', '님', '입', '니', '다', '.']\n",
            "['나는', '학교에', '다니는', '학생입니다.', '나는', '좋은', '선생님입니다.', '당신은', '매우', '좋은', '선생님입니다.']\n",
            "['나는 학교에 다니는 학생입니다.', '나는 좋은 선생님입니다.', '당신은 매우 좋은 선생님입니다.']\n"
          ]
        }
      ]
    },
    {
      "cell_type": "markdown",
      "metadata": {
        "id": "ruOrFEFQn_W2"
      },
      "source": [
        "## 9.2.2 한글현태소 분석기를 이용한 토큰화"
      ],
      "id": "ruOrFEFQn_W2"
    },
    {
      "cell_type": "code",
      "source": [
        "!pip install konlpy"
      ],
      "metadata": {
        "colab": {
          "base_uri": "https://localhost:8080/"
        },
        "id": "MhSg1TeR_4_2",
        "outputId": "0e2e673e-08df-4ec7-e719-200323536680"
      },
      "id": "MhSg1TeR_4_2",
      "execution_count": 39,
      "outputs": [
        {
          "output_type": "stream",
          "name": "stdout",
          "text": [
            "Requirement already satisfied: konlpy in /usr/local/lib/python3.10/dist-packages (0.6.0)\n",
            "Requirement already satisfied: JPype1>=0.7.0 in /usr/local/lib/python3.10/dist-packages (from konlpy) (1.5.0)\n",
            "Requirement already satisfied: lxml>=4.1.0 in /usr/local/lib/python3.10/dist-packages (from konlpy) (4.9.4)\n",
            "Requirement already satisfied: numpy>=1.6 in /usr/local/lib/python3.10/dist-packages (from konlpy) (1.25.2)\n",
            "Requirement already satisfied: packaging in /usr/local/lib/python3.10/dist-packages (from JPype1>=0.7.0->konlpy) (24.0)\n"
          ]
        }
      ]
    },
    {
      "cell_type": "code",
      "metadata": {
        "id": "ZPlCsvujo3js",
        "colab": {
          "base_uri": "https://localhost:8080/"
        },
        "outputId": "b2816aed-b02f-461e-f30c-527b3f067e03"
      },
      "source": [
        "# 형태소 단위 토큰화\n",
        "import konlpy\n",
        "komoran = konlpy.tag.Komoran()\n",
        "print(komoran.morphs(corpus))\n",
        "print(komoran.nouns(corpus))"
      ],
      "id": "ZPlCsvujo3js",
      "execution_count": 40,
      "outputs": [
        {
          "output_type": "stream",
          "name": "stdout",
          "text": [
            "['나', '는', '학교', '에', '다니', '는', '학생', '이', 'ㅂ니다', '.', '나', '는', '좋', '은', '선생님', '이', 'ㅂ니다', '.', '당신', '은', '매우', '좋', '은', '선생님', '이', 'ㅂ니다', '.']\n",
            "['학교', '학생', '선생님', '선생님']\n"
          ]
        }
      ]
    },
    {
      "cell_type": "markdown",
      "source": [
        "## 9.2.3 기존에 만들어진 단어사전을 기준으로한 토큰화"
      ],
      "metadata": {
        "id": "hihoiiSaD7ub"
      },
      "id": "hihoiiSaD7ub"
    },
    {
      "cell_type": "code",
      "source": [
        "# 기존에 만들어진 단어사전 활용\n",
        "import sentencepiece as spm\n",
        "!wget https://github.com/byungjooyoo/Dataset/raw/main/kowiki_32000.model\n",
        "sp = spm.SentencePieceProcessor(\"kowiki_32000.model\")\n",
        "print(sp.encode_as_pieces(corpus))"
      ],
      "metadata": {
        "colab": {
          "base_uri": "https://localhost:8080/"
        },
        "id": "ub9DbKFZD_0x",
        "outputId": "4858521d-e1af-4ce6-ff26-536389356e46"
      },
      "id": "ub9DbKFZD_0x",
      "execution_count": 41,
      "outputs": [
        {
          "output_type": "stream",
          "name": "stdout",
          "text": [
            "--2024-04-15 19:25:45--  https://github.com/byungjooyoo/Dataset/raw/main/kowiki_32000.model\n",
            "Resolving github.com (github.com)... 140.82.112.3\n",
            "Connecting to github.com (github.com)|140.82.112.3|:443... connected.\n",
            "HTTP request sent, awaiting response... 302 Found\n",
            "Location: https://raw.githubusercontent.com/byungjooyoo/Dataset/main/kowiki_32000.model [following]\n",
            "--2024-04-15 19:25:45--  https://raw.githubusercontent.com/byungjooyoo/Dataset/main/kowiki_32000.model\n",
            "Resolving raw.githubusercontent.com (raw.githubusercontent.com)... 185.199.108.133, 185.199.109.133, 185.199.110.133, ...\n",
            "Connecting to raw.githubusercontent.com (raw.githubusercontent.com)|185.199.108.133|:443... connected.\n",
            "HTTP request sent, awaiting response... 200 OK\n",
            "Length: 814744 (796K) [application/octet-stream]\n",
            "Saving to: ‘kowiki_32000.model.2’\n",
            "\n",
            "kowiki_32000.model. 100%[===================>] 795.65K  --.-KB/s    in 0.05s   \n",
            "\n",
            "2024-04-15 19:25:46 (16.4 MB/s) - ‘kowiki_32000.model.2’ saved [814744/814744]\n",
            "\n",
            "['▁나는', '▁학교에', '▁다니는', '▁학생', '입니다', '.', '▁나는', '▁좋은', '▁선생님', '입니다', '.', '▁당신', '은', '▁매우', '▁좋은', '▁선생님', '입니다', '.']\n"
          ]
        }
      ]
    },
    {
      "cell_type": "code",
      "source": [
        "# 단어사전의 아이디로 수치화, 수치화된 것을 본래의 문장으로 복원\n",
        "print(sp.encode(corpus))\n",
        "print(sp.decode_pieces(sp.encode(corpus)))"
      ],
      "metadata": {
        "colab": {
          "base_uri": "https://localhost:8080/"
        },
        "id": "pnxK8iVSEBZ1",
        "outputId": "3a78780d-4231-4b8f-f5a7-6543df2a14b7"
      },
      "id": "pnxK8iVSEBZ1",
      "execution_count": 48,
      "outputs": [
        {
          "output_type": "stream",
          "name": "stdout",
          "text": [
            "[3782, 10732, 10832, 1782, 5863, 7, 3782, 1229, 14024, 5863, 7, 7301, 18, 446, 1229, 14024, 5863, 7]\n",
            "나는 학교에 다니는 학생입니다. 나는 좋은 선생님입니다. 당신은 매우 좋은 선생님입니다.\n"
          ]
        }
      ]
    },
    {
      "cell_type": "code",
      "source": [
        "sp.encode(corpus)"
      ],
      "metadata": {
        "colab": {
          "base_uri": "https://localhost:8080/"
        },
        "id": "b5m7BSIBRPD7",
        "outputId": "67db28cd-c55a-4f9c-ef27-11cc282ad07e"
      },
      "id": "b5m7BSIBRPD7",
      "execution_count": 47,
      "outputs": [
        {
          "output_type": "execute_result",
          "data": {
            "text/plain": [
              "[3782,\n",
              " 10732,\n",
              " 10832,\n",
              " 1782,\n",
              " 5863,\n",
              " 7,\n",
              " 3782,\n",
              " 1229,\n",
              " 14024,\n",
              " 5863,\n",
              " 7,\n",
              " 7301,\n",
              " 18,\n",
              " 446,\n",
              " 1229,\n",
              " 14024,\n",
              " 5863,\n",
              " 7]"
            ]
          },
          "metadata": {},
          "execution_count": 47
        }
      ]
    },
    {
      "cell_type": "markdown",
      "source": [
        "## 9.2.4 사전학습 모델에 의한 토큰화"
      ],
      "metadata": {
        "id": "QLtmXX1VJ9J7"
      },
      "id": "QLtmXX1VJ9J7"
    },
    {
      "cell_type": "markdown",
      "source": [
        "참조 : https://huggingface.co/google-bert/bert-base-multilingual-cased\n",
        "\n",
        "이정범님의 깃허브 참조 https://github.com/Beomi/KcELECTRA"
      ],
      "metadata": {
        "id": "5vd-Vp6HSkU8"
      },
      "id": "5vd-Vp6HSkU8"
    },
    {
      "cell_type": "code",
      "source": [
        "# Bert 다국어 버전의 토큰나이저 활용\n",
        "from transformers import BertTokenizer\n",
        "tokenizer = BertTokenizer.from_pretrained('bert-base-multilingual-cased')\n",
        "print(tokenizer.tokenize(corpus))\n",
        "print(tokenizer.encode(corpus))\n",
        "print(tokenizer.decode(tokenizer.encode(corpus)))"
      ],
      "metadata": {
        "colab": {
          "base_uri": "https://localhost:8080/"
        },
        "id": "nzYTTC1YLnNJ",
        "outputId": "32c681b9-15d9-45b4-8222-8a7f5bbd88d4"
      },
      "id": "nzYTTC1YLnNJ",
      "execution_count": 43,
      "outputs": [
        {
          "output_type": "stream",
          "name": "stdout",
          "text": [
            "['나는', '학', '##교', '##에', '다', '##니', '##는', '학', '##생', '##입', '##니다', '.', '나는', '좋은', '선', '##생', '##님', '##입', '##니다', '.', '당', '##신', '##은', '매우', '좋은', '선', '##생', '##님', '##입', '##니다', '.']\n",
            "[101, 100585, 9953, 25242, 10530, 9056, 25503, 11018, 9953, 24017, 58303, 48345, 119, 100585, 79633, 9428, 24017, 108578, 58303, 48345, 119, 9067, 25387, 10892, 42608, 79633, 9428, 24017, 108578, 58303, 48345, 119, 102]\n",
            "[CLS] 나는 학교에 다니는 학생입니다. 나는 좋은 선생님입니다. 당신은 매우 좋은 선생님입니다. [SEP]\n"
          ]
        }
      ]
    },
    {
      "cell_type": "code",
      "source": [
        "# 이정범님의 사전학습 모델을 이용한 토큰화 : 참조 https://github.com/Beomi/KcELECTRA\n",
        "from transformers import AutoTokenizer, AutoModel\n",
        "tokenizer = AutoTokenizer.from_pretrained(\"beomi/KcELECTRA-base-v2022\")\n",
        "print(tokenizer.tokenize(corpus))\n",
        "print(tokenizer.encode(corpus))\n",
        "print(tokenizer.decode(tokenizer.encode(corpus)))"
      ],
      "metadata": {
        "colab": {
          "base_uri": "https://localhost:8080/"
        },
        "id": "gI4IUK81J-MJ",
        "outputId": "dc46560f-de65-4098-8028-bf9cc3025463"
      },
      "id": "gI4IUK81J-MJ",
      "execution_count": 44,
      "outputs": [
        {
          "output_type": "stream",
          "name": "stdout",
          "text": [
            "['나는', '학교에', '다니는', '학생', '##입니다', '.', '나는', '좋은', '선생님', '##입니다', '.', '당신은', '매우', '좋은', '선생님', '##입니다', '.']\n",
            "[2, 8582, 23327, 11071, 9069, 8034, 18, 8582, 8213, 15570, 8034, 18, 9730, 11123, 8213, 15570, 8034, 18, 3]\n",
            "[CLS] 나는 학교에 다니는 학생입니다. 나는 좋은 선생님입니다. 당신은 매우 좋은 선생님입니다. [SEP]\n"
          ]
        }
      ]
    },
    {
      "cell_type": "markdown",
      "metadata": {
        "id": "soviet-population"
      },
      "source": [
        "# 09.3 텍스트 데이터의 수치화 표현 : OHE, BOW"
      ],
      "id": "soviet-population"
    },
    {
      "cell_type": "markdown",
      "metadata": {
        "id": "dzYi6TANSKQR"
      },
      "source": [
        "말뭉치 사전 : 자연언어 연구를 위해 특정한 목적을 가지고 언어의 표본을 추출한 집합\n",
        "\n",
        "Text를 수치화 시키는 방법은 말뭉치 사전을 만들고 그것을 기준으로 One-Hot Encoding과 BOW 방법으로 정보를 요약했으나 이 방법들은 비효율 적이고 정보의 유실이 있어 최근에는 Sentencepiece를 이용하여 수치화 수량화한다."
      ],
      "id": "dzYi6TANSKQR"
    },
    {
      "cell_type": "markdown",
      "source": [
        "## 9.3.1 단어사전의 개념"
      ],
      "metadata": {
        "id": "4946mZstYklx"
      },
      "id": "4946mZstYklx"
    },
    {
      "cell_type": "code",
      "source": [
        "docs = '''오늘은 매우 매우 매우 좋은 날씨 입니다\n",
        "내일도 매우 좋은 날씨를 기대합니다\n",
        "오늘은 좋은 날씨 내일도 매우 좋은 날씨 입니다'''\n",
        "words = docs.split()\n",
        "print(words)\n",
        "tokens = list(dict.fromkeys(words))\n",
        "tokens"
      ],
      "metadata": {
        "colab": {
          "base_uri": "https://localhost:8080/"
        },
        "id": "_Rl5VEA0Y6u1",
        "outputId": "612da0e4-57dc-4a54-f1d9-ebd88afa4a1c"
      },
      "id": "_Rl5VEA0Y6u1",
      "execution_count": 49,
      "outputs": [
        {
          "output_type": "stream",
          "name": "stdout",
          "text": [
            "['오늘은', '매우', '매우', '매우', '좋은', '날씨', '입니다', '내일도', '매우', '좋은', '날씨를', '기대합니다', '오늘은', '좋은', '날씨', '내일도', '매우', '좋은', '날씨', '입니다']\n"
          ]
        },
        {
          "output_type": "execute_result",
          "data": {
            "text/plain": [
              "['오늘은', '매우', '좋은', '날씨', '입니다', '내일도', '날씨를', '기대합니다']"
            ]
          },
          "metadata": {},
          "execution_count": 49
        }
      ]
    },
    {
      "cell_type": "code",
      "source": [
        "token_to_id = {'[PAD]': 0, '[UNK]': 1}\n",
        "for token in tokens:\n",
        "    token_to_id[token] = len(token_to_id)\n",
        "print(token_to_id)\n",
        "\n",
        "id_to_token = {_id : token for token, _id in token_to_id.items()}\n",
        "print(id_to_token)"
      ],
      "metadata": {
        "colab": {
          "base_uri": "https://localhost:8080/"
        },
        "id": "7tGQla-yY-nw",
        "outputId": "ef37dab6-dc4f-4d7f-f944-0e9d6e501d5a"
      },
      "id": "7tGQla-yY-nw",
      "execution_count": 50,
      "outputs": [
        {
          "output_type": "stream",
          "name": "stdout",
          "text": [
            "{'[PAD]': 0, '[UNK]': 1, '오늘은': 2, '매우': 3, '좋은': 4, '날씨': 5, '입니다': 6, '내일도': 7, '날씨를': 8, '기대합니다': 9}\n",
            "{0: '[PAD]', 1: '[UNK]', 2: '오늘은', 3: '매우', 4: '좋은', 5: '날씨', 6: '입니다', 7: '내일도', 8: '날씨를', 9: '기대합니다'}\n"
          ]
        }
      ]
    },
    {
      "cell_type": "code",
      "source": [
        "# 문장별 수치화된 리스트의 리스트\n",
        "token_ids = []\n",
        "line_words = docs.split('\\n')\n",
        "for line_word in line_words:\n",
        "    token_ids.append([token_to_id[word] for word in line_word.split()])\n",
        "token_ids\n"
      ],
      "metadata": {
        "colab": {
          "base_uri": "https://localhost:8080/"
        },
        "id": "j1VC9IsIZBHS",
        "outputId": "fa5bef52-f80f-4c48-b133-5a80c4c20dee"
      },
      "id": "j1VC9IsIZBHS",
      "execution_count": 51,
      "outputs": [
        {
          "output_type": "execute_result",
          "data": {
            "text/plain": [
              "[[2, 3, 3, 3, 4, 5, 6], [7, 3, 4, 8, 9], [2, 4, 5, 7, 3, 4, 5, 6]]"
            ]
          },
          "metadata": {},
          "execution_count": 51
        }
      ]
    },
    {
      "cell_type": "markdown",
      "source": [
        "## 9.3.2 원핫인코딩(One-Hot Encoding)"
      ],
      "metadata": {
        "id": "8U12OBIEZGNO"
      },
      "id": "8U12OBIEZGNO"
    },
    {
      "cell_type": "code",
      "source": [
        "# 하나의 행이 하나의 단어를 표현하는 One-Hot 인코딩\n",
        "one_hot_encodings = []\n",
        "for line_token in token_ids:\n",
        "    print(line_token)\n",
        "    one_hot_line = []\n",
        "    for id in line_token:\n",
        "        one_hot = [0] * len(token_to_id)\n",
        "        one_hot[id] = 1\n",
        "        print(id, one_hot)\n",
        "        one_hot_line.append(one_hot)\n",
        "    print(one_hot_line)\n",
        "    one_hot_encodings.append(one_hot_line)\n"
      ],
      "metadata": {
        "colab": {
          "base_uri": "https://localhost:8080/"
        },
        "id": "Ud9RDe_fZDk_",
        "outputId": "01fca763-4144-4490-a37c-bf2232e42070"
      },
      "id": "Ud9RDe_fZDk_",
      "execution_count": 52,
      "outputs": [
        {
          "output_type": "stream",
          "name": "stdout",
          "text": [
            "[2, 3, 3, 3, 4, 5, 6]\n",
            "2 [0, 0, 1, 0, 0, 0, 0, 0, 0, 0]\n",
            "3 [0, 0, 0, 1, 0, 0, 0, 0, 0, 0]\n",
            "3 [0, 0, 0, 1, 0, 0, 0, 0, 0, 0]\n",
            "3 [0, 0, 0, 1, 0, 0, 0, 0, 0, 0]\n",
            "4 [0, 0, 0, 0, 1, 0, 0, 0, 0, 0]\n",
            "5 [0, 0, 0, 0, 0, 1, 0, 0, 0, 0]\n",
            "6 [0, 0, 0, 0, 0, 0, 1, 0, 0, 0]\n",
            "[[0, 0, 1, 0, 0, 0, 0, 0, 0, 0], [0, 0, 0, 1, 0, 0, 0, 0, 0, 0], [0, 0, 0, 1, 0, 0, 0, 0, 0, 0], [0, 0, 0, 1, 0, 0, 0, 0, 0, 0], [0, 0, 0, 0, 1, 0, 0, 0, 0, 0], [0, 0, 0, 0, 0, 1, 0, 0, 0, 0], [0, 0, 0, 0, 0, 0, 1, 0, 0, 0]]\n",
            "[7, 3, 4, 8, 9]\n",
            "7 [0, 0, 0, 0, 0, 0, 0, 1, 0, 0]\n",
            "3 [0, 0, 0, 1, 0, 0, 0, 0, 0, 0]\n",
            "4 [0, 0, 0, 0, 1, 0, 0, 0, 0, 0]\n",
            "8 [0, 0, 0, 0, 0, 0, 0, 0, 1, 0]\n",
            "9 [0, 0, 0, 0, 0, 0, 0, 0, 0, 1]\n",
            "[[0, 0, 0, 0, 0, 0, 0, 1, 0, 0], [0, 0, 0, 1, 0, 0, 0, 0, 0, 0], [0, 0, 0, 0, 1, 0, 0, 0, 0, 0], [0, 0, 0, 0, 0, 0, 0, 0, 1, 0], [0, 0, 0, 0, 0, 0, 0, 0, 0, 1]]\n",
            "[2, 4, 5, 7, 3, 4, 5, 6]\n",
            "2 [0, 0, 1, 0, 0, 0, 0, 0, 0, 0]\n",
            "4 [0, 0, 0, 0, 1, 0, 0, 0, 0, 0]\n",
            "5 [0, 0, 0, 0, 0, 1, 0, 0, 0, 0]\n",
            "7 [0, 0, 0, 0, 0, 0, 0, 1, 0, 0]\n",
            "3 [0, 0, 0, 1, 0, 0, 0, 0, 0, 0]\n",
            "4 [0, 0, 0, 0, 1, 0, 0, 0, 0, 0]\n",
            "5 [0, 0, 0, 0, 0, 1, 0, 0, 0, 0]\n",
            "6 [0, 0, 0, 0, 0, 0, 1, 0, 0, 0]\n",
            "[[0, 0, 1, 0, 0, 0, 0, 0, 0, 0], [0, 0, 0, 0, 1, 0, 0, 0, 0, 0], [0, 0, 0, 0, 0, 1, 0, 0, 0, 0], [0, 0, 0, 0, 0, 0, 0, 1, 0, 0], [0, 0, 0, 1, 0, 0, 0, 0, 0, 0], [0, 0, 0, 0, 1, 0, 0, 0, 0, 0], [0, 0, 0, 0, 0, 1, 0, 0, 0, 0], [0, 0, 0, 0, 0, 0, 1, 0, 0, 0]]\n"
          ]
        }
      ]
    },
    {
      "cell_type": "code",
      "source": [
        "import pandas as pd\n",
        "pd.DataFrame(one_hot_encodings[0], columns = list(token_to_id.keys()))\n"
      ],
      "metadata": {
        "colab": {
          "base_uri": "https://localhost:8080/",
          "height": 269
        },
        "id": "bFUWNfO5ZJ_W",
        "outputId": "dfa6844e-ed57-43d3-d260-bf6551eb0428"
      },
      "id": "bFUWNfO5ZJ_W",
      "execution_count": 53,
      "outputs": [
        {
          "output_type": "execute_result",
          "data": {
            "text/plain": [
              "   [PAD]  [UNK]  오늘은  매우  좋은  날씨  입니다  내일도  날씨를  기대합니다\n",
              "0      0      0    1   0   0   0    0    0    0      0\n",
              "1      0      0    0   1   0   0    0    0    0      0\n",
              "2      0      0    0   1   0   0    0    0    0      0\n",
              "3      0      0    0   1   0   0    0    0    0      0\n",
              "4      0      0    0   0   1   0    0    0    0      0\n",
              "5      0      0    0   0   0   1    0    0    0      0\n",
              "6      0      0    0   0   0   0    1    0    0      0"
            ],
            "text/html": [
              "\n",
              "  <div id=\"df-61623bd3-0723-4427-8cee-fb83d77b0d7d\" class=\"colab-df-container\">\n",
              "    <div>\n",
              "<style scoped>\n",
              "    .dataframe tbody tr th:only-of-type {\n",
              "        vertical-align: middle;\n",
              "    }\n",
              "\n",
              "    .dataframe tbody tr th {\n",
              "        vertical-align: top;\n",
              "    }\n",
              "\n",
              "    .dataframe thead th {\n",
              "        text-align: right;\n",
              "    }\n",
              "</style>\n",
              "<table border=\"1\" class=\"dataframe\">\n",
              "  <thead>\n",
              "    <tr style=\"text-align: right;\">\n",
              "      <th></th>\n",
              "      <th>[PAD]</th>\n",
              "      <th>[UNK]</th>\n",
              "      <th>오늘은</th>\n",
              "      <th>매우</th>\n",
              "      <th>좋은</th>\n",
              "      <th>날씨</th>\n",
              "      <th>입니다</th>\n",
              "      <th>내일도</th>\n",
              "      <th>날씨를</th>\n",
              "      <th>기대합니다</th>\n",
              "    </tr>\n",
              "  </thead>\n",
              "  <tbody>\n",
              "    <tr>\n",
              "      <th>0</th>\n",
              "      <td>0</td>\n",
              "      <td>0</td>\n",
              "      <td>1</td>\n",
              "      <td>0</td>\n",
              "      <td>0</td>\n",
              "      <td>0</td>\n",
              "      <td>0</td>\n",
              "      <td>0</td>\n",
              "      <td>0</td>\n",
              "      <td>0</td>\n",
              "    </tr>\n",
              "    <tr>\n",
              "      <th>1</th>\n",
              "      <td>0</td>\n",
              "      <td>0</td>\n",
              "      <td>0</td>\n",
              "      <td>1</td>\n",
              "      <td>0</td>\n",
              "      <td>0</td>\n",
              "      <td>0</td>\n",
              "      <td>0</td>\n",
              "      <td>0</td>\n",
              "      <td>0</td>\n",
              "    </tr>\n",
              "    <tr>\n",
              "      <th>2</th>\n",
              "      <td>0</td>\n",
              "      <td>0</td>\n",
              "      <td>0</td>\n",
              "      <td>1</td>\n",
              "      <td>0</td>\n",
              "      <td>0</td>\n",
              "      <td>0</td>\n",
              "      <td>0</td>\n",
              "      <td>0</td>\n",
              "      <td>0</td>\n",
              "    </tr>\n",
              "    <tr>\n",
              "      <th>3</th>\n",
              "      <td>0</td>\n",
              "      <td>0</td>\n",
              "      <td>0</td>\n",
              "      <td>1</td>\n",
              "      <td>0</td>\n",
              "      <td>0</td>\n",
              "      <td>0</td>\n",
              "      <td>0</td>\n",
              "      <td>0</td>\n",
              "      <td>0</td>\n",
              "    </tr>\n",
              "    <tr>\n",
              "      <th>4</th>\n",
              "      <td>0</td>\n",
              "      <td>0</td>\n",
              "      <td>0</td>\n",
              "      <td>0</td>\n",
              "      <td>1</td>\n",
              "      <td>0</td>\n",
              "      <td>0</td>\n",
              "      <td>0</td>\n",
              "      <td>0</td>\n",
              "      <td>0</td>\n",
              "    </tr>\n",
              "    <tr>\n",
              "      <th>5</th>\n",
              "      <td>0</td>\n",
              "      <td>0</td>\n",
              "      <td>0</td>\n",
              "      <td>0</td>\n",
              "      <td>0</td>\n",
              "      <td>1</td>\n",
              "      <td>0</td>\n",
              "      <td>0</td>\n",
              "      <td>0</td>\n",
              "      <td>0</td>\n",
              "    </tr>\n",
              "    <tr>\n",
              "      <th>6</th>\n",
              "      <td>0</td>\n",
              "      <td>0</td>\n",
              "      <td>0</td>\n",
              "      <td>0</td>\n",
              "      <td>0</td>\n",
              "      <td>0</td>\n",
              "      <td>1</td>\n",
              "      <td>0</td>\n",
              "      <td>0</td>\n",
              "      <td>0</td>\n",
              "    </tr>\n",
              "  </tbody>\n",
              "</table>\n",
              "</div>\n",
              "    <div class=\"colab-df-buttons\">\n",
              "\n",
              "  <div class=\"colab-df-container\">\n",
              "    <button class=\"colab-df-convert\" onclick=\"convertToInteractive('df-61623bd3-0723-4427-8cee-fb83d77b0d7d')\"\n",
              "            title=\"Convert this dataframe to an interactive table.\"\n",
              "            style=\"display:none;\">\n",
              "\n",
              "  <svg xmlns=\"http://www.w3.org/2000/svg\" height=\"24px\" viewBox=\"0 -960 960 960\">\n",
              "    <path d=\"M120-120v-720h720v720H120Zm60-500h600v-160H180v160Zm220 220h160v-160H400v160Zm0 220h160v-160H400v160ZM180-400h160v-160H180v160Zm440 0h160v-160H620v160ZM180-180h160v-160H180v160Zm440 0h160v-160H620v160Z\"/>\n",
              "  </svg>\n",
              "    </button>\n",
              "\n",
              "  <style>\n",
              "    .colab-df-container {\n",
              "      display:flex;\n",
              "      gap: 12px;\n",
              "    }\n",
              "\n",
              "    .colab-df-convert {\n",
              "      background-color: #E8F0FE;\n",
              "      border: none;\n",
              "      border-radius: 50%;\n",
              "      cursor: pointer;\n",
              "      display: none;\n",
              "      fill: #1967D2;\n",
              "      height: 32px;\n",
              "      padding: 0 0 0 0;\n",
              "      width: 32px;\n",
              "    }\n",
              "\n",
              "    .colab-df-convert:hover {\n",
              "      background-color: #E2EBFA;\n",
              "      box-shadow: 0px 1px 2px rgba(60, 64, 67, 0.3), 0px 1px 3px 1px rgba(60, 64, 67, 0.15);\n",
              "      fill: #174EA6;\n",
              "    }\n",
              "\n",
              "    .colab-df-buttons div {\n",
              "      margin-bottom: 4px;\n",
              "    }\n",
              "\n",
              "    [theme=dark] .colab-df-convert {\n",
              "      background-color: #3B4455;\n",
              "      fill: #D2E3FC;\n",
              "    }\n",
              "\n",
              "    [theme=dark] .colab-df-convert:hover {\n",
              "      background-color: #434B5C;\n",
              "      box-shadow: 0px 1px 3px 1px rgba(0, 0, 0, 0.15);\n",
              "      filter: drop-shadow(0px 1px 2px rgba(0, 0, 0, 0.3));\n",
              "      fill: #FFFFFF;\n",
              "    }\n",
              "  </style>\n",
              "\n",
              "    <script>\n",
              "      const buttonEl =\n",
              "        document.querySelector('#df-61623bd3-0723-4427-8cee-fb83d77b0d7d button.colab-df-convert');\n",
              "      buttonEl.style.display =\n",
              "        google.colab.kernel.accessAllowed ? 'block' : 'none';\n",
              "\n",
              "      async function convertToInteractive(key) {\n",
              "        const element = document.querySelector('#df-61623bd3-0723-4427-8cee-fb83d77b0d7d');\n",
              "        const dataTable =\n",
              "          await google.colab.kernel.invokeFunction('convertToInteractive',\n",
              "                                                    [key], {});\n",
              "        if (!dataTable) return;\n",
              "\n",
              "        const docLinkHtml = 'Like what you see? Visit the ' +\n",
              "          '<a target=\"_blank\" href=https://colab.research.google.com/notebooks/data_table.ipynb>data table notebook</a>'\n",
              "          + ' to learn more about interactive tables.';\n",
              "        element.innerHTML = '';\n",
              "        dataTable['output_type'] = 'display_data';\n",
              "        await google.colab.output.renderOutput(dataTable, element);\n",
              "        const docLink = document.createElement('div');\n",
              "        docLink.innerHTML = docLinkHtml;\n",
              "        element.appendChild(docLink);\n",
              "      }\n",
              "    </script>\n",
              "  </div>\n",
              "\n",
              "\n",
              "<div id=\"df-3d080a5b-a5f4-409e-b383-4806e0dd1a18\">\n",
              "  <button class=\"colab-df-quickchart\" onclick=\"quickchart('df-3d080a5b-a5f4-409e-b383-4806e0dd1a18')\"\n",
              "            title=\"Suggest charts\"\n",
              "            style=\"display:none;\">\n",
              "\n",
              "<svg xmlns=\"http://www.w3.org/2000/svg\" height=\"24px\"viewBox=\"0 0 24 24\"\n",
              "     width=\"24px\">\n",
              "    <g>\n",
              "        <path d=\"M19 3H5c-1.1 0-2 .9-2 2v14c0 1.1.9 2 2 2h14c1.1 0 2-.9 2-2V5c0-1.1-.9-2-2-2zM9 17H7v-7h2v7zm4 0h-2V7h2v10zm4 0h-2v-4h2v4z\"/>\n",
              "    </g>\n",
              "</svg>\n",
              "  </button>\n",
              "\n",
              "<style>\n",
              "  .colab-df-quickchart {\n",
              "      --bg-color: #E8F0FE;\n",
              "      --fill-color: #1967D2;\n",
              "      --hover-bg-color: #E2EBFA;\n",
              "      --hover-fill-color: #174EA6;\n",
              "      --disabled-fill-color: #AAA;\n",
              "      --disabled-bg-color: #DDD;\n",
              "  }\n",
              "\n",
              "  [theme=dark] .colab-df-quickchart {\n",
              "      --bg-color: #3B4455;\n",
              "      --fill-color: #D2E3FC;\n",
              "      --hover-bg-color: #434B5C;\n",
              "      --hover-fill-color: #FFFFFF;\n",
              "      --disabled-bg-color: #3B4455;\n",
              "      --disabled-fill-color: #666;\n",
              "  }\n",
              "\n",
              "  .colab-df-quickchart {\n",
              "    background-color: var(--bg-color);\n",
              "    border: none;\n",
              "    border-radius: 50%;\n",
              "    cursor: pointer;\n",
              "    display: none;\n",
              "    fill: var(--fill-color);\n",
              "    height: 32px;\n",
              "    padding: 0;\n",
              "    width: 32px;\n",
              "  }\n",
              "\n",
              "  .colab-df-quickchart:hover {\n",
              "    background-color: var(--hover-bg-color);\n",
              "    box-shadow: 0 1px 2px rgba(60, 64, 67, 0.3), 0 1px 3px 1px rgba(60, 64, 67, 0.15);\n",
              "    fill: var(--button-hover-fill-color);\n",
              "  }\n",
              "\n",
              "  .colab-df-quickchart-complete:disabled,\n",
              "  .colab-df-quickchart-complete:disabled:hover {\n",
              "    background-color: var(--disabled-bg-color);\n",
              "    fill: var(--disabled-fill-color);\n",
              "    box-shadow: none;\n",
              "  }\n",
              "\n",
              "  .colab-df-spinner {\n",
              "    border: 2px solid var(--fill-color);\n",
              "    border-color: transparent;\n",
              "    border-bottom-color: var(--fill-color);\n",
              "    animation:\n",
              "      spin 1s steps(1) infinite;\n",
              "  }\n",
              "\n",
              "  @keyframes spin {\n",
              "    0% {\n",
              "      border-color: transparent;\n",
              "      border-bottom-color: var(--fill-color);\n",
              "      border-left-color: var(--fill-color);\n",
              "    }\n",
              "    20% {\n",
              "      border-color: transparent;\n",
              "      border-left-color: var(--fill-color);\n",
              "      border-top-color: var(--fill-color);\n",
              "    }\n",
              "    30% {\n",
              "      border-color: transparent;\n",
              "      border-left-color: var(--fill-color);\n",
              "      border-top-color: var(--fill-color);\n",
              "      border-right-color: var(--fill-color);\n",
              "    }\n",
              "    40% {\n",
              "      border-color: transparent;\n",
              "      border-right-color: var(--fill-color);\n",
              "      border-top-color: var(--fill-color);\n",
              "    }\n",
              "    60% {\n",
              "      border-color: transparent;\n",
              "      border-right-color: var(--fill-color);\n",
              "    }\n",
              "    80% {\n",
              "      border-color: transparent;\n",
              "      border-right-color: var(--fill-color);\n",
              "      border-bottom-color: var(--fill-color);\n",
              "    }\n",
              "    90% {\n",
              "      border-color: transparent;\n",
              "      border-bottom-color: var(--fill-color);\n",
              "    }\n",
              "  }\n",
              "</style>\n",
              "\n",
              "  <script>\n",
              "    async function quickchart(key) {\n",
              "      const quickchartButtonEl =\n",
              "        document.querySelector('#' + key + ' button');\n",
              "      quickchartButtonEl.disabled = true;  // To prevent multiple clicks.\n",
              "      quickchartButtonEl.classList.add('colab-df-spinner');\n",
              "      try {\n",
              "        const charts = await google.colab.kernel.invokeFunction(\n",
              "            'suggestCharts', [key], {});\n",
              "      } catch (error) {\n",
              "        console.error('Error during call to suggestCharts:', error);\n",
              "      }\n",
              "      quickchartButtonEl.classList.remove('colab-df-spinner');\n",
              "      quickchartButtonEl.classList.add('colab-df-quickchart-complete');\n",
              "    }\n",
              "    (() => {\n",
              "      let quickchartButtonEl =\n",
              "        document.querySelector('#df-3d080a5b-a5f4-409e-b383-4806e0dd1a18 button');\n",
              "      quickchartButtonEl.style.display =\n",
              "        google.colab.kernel.accessAllowed ? 'block' : 'none';\n",
              "    })();\n",
              "  </script>\n",
              "</div>\n",
              "    </div>\n",
              "  </div>\n"
            ],
            "application/vnd.google.colaboratory.intrinsic+json": {
              "type": "dataframe",
              "summary": "{\n  \"name\": \"pd\",\n  \"rows\": 7,\n  \"fields\": [\n    {\n      \"column\": \"[PAD]\",\n      \"properties\": {\n        \"dtype\": \"number\",\n        \"std\": 0,\n        \"min\": 0,\n        \"max\": 0,\n        \"num_unique_values\": 1,\n        \"samples\": [\n          0\n        ],\n        \"semantic_type\": \"\",\n        \"description\": \"\"\n      }\n    },\n    {\n      \"column\": \"[UNK]\",\n      \"properties\": {\n        \"dtype\": \"number\",\n        \"std\": 0,\n        \"min\": 0,\n        \"max\": 0,\n        \"num_unique_values\": 1,\n        \"samples\": [\n          0\n        ],\n        \"semantic_type\": \"\",\n        \"description\": \"\"\n      }\n    },\n    {\n      \"column\": \"\\uc624\\ub298\\uc740\",\n      \"properties\": {\n        \"dtype\": \"number\",\n        \"std\": 0,\n        \"min\": 0,\n        \"max\": 1,\n        \"num_unique_values\": 2,\n        \"samples\": [\n          0\n        ],\n        \"semantic_type\": \"\",\n        \"description\": \"\"\n      }\n    },\n    {\n      \"column\": \"\\ub9e4\\uc6b0\",\n      \"properties\": {\n        \"dtype\": \"number\",\n        \"std\": 0,\n        \"min\": 0,\n        \"max\": 1,\n        \"num_unique_values\": 2,\n        \"samples\": [\n          1\n        ],\n        \"semantic_type\": \"\",\n        \"description\": \"\"\n      }\n    },\n    {\n      \"column\": \"\\uc88b\\uc740\",\n      \"properties\": {\n        \"dtype\": \"number\",\n        \"std\": 0,\n        \"min\": 0,\n        \"max\": 1,\n        \"num_unique_values\": 2,\n        \"samples\": [\n          1\n        ],\n        \"semantic_type\": \"\",\n        \"description\": \"\"\n      }\n    },\n    {\n      \"column\": \"\\ub0a0\\uc528\",\n      \"properties\": {\n        \"dtype\": \"number\",\n        \"std\": 0,\n        \"min\": 0,\n        \"max\": 1,\n        \"num_unique_values\": 2,\n        \"samples\": [\n          1\n        ],\n        \"semantic_type\": \"\",\n        \"description\": \"\"\n      }\n    },\n    {\n      \"column\": \"\\uc785\\ub2c8\\ub2e4\",\n      \"properties\": {\n        \"dtype\": \"number\",\n        \"std\": 0,\n        \"min\": 0,\n        \"max\": 1,\n        \"num_unique_values\": 2,\n        \"samples\": [\n          1\n        ],\n        \"semantic_type\": \"\",\n        \"description\": \"\"\n      }\n    },\n    {\n      \"column\": \"\\ub0b4\\uc77c\\ub3c4\",\n      \"properties\": {\n        \"dtype\": \"number\",\n        \"std\": 0,\n        \"min\": 0,\n        \"max\": 0,\n        \"num_unique_values\": 1,\n        \"samples\": [\n          0\n        ],\n        \"semantic_type\": \"\",\n        \"description\": \"\"\n      }\n    },\n    {\n      \"column\": \"\\ub0a0\\uc528\\ub97c\",\n      \"properties\": {\n        \"dtype\": \"number\",\n        \"std\": 0,\n        \"min\": 0,\n        \"max\": 0,\n        \"num_unique_values\": 1,\n        \"samples\": [\n          0\n        ],\n        \"semantic_type\": \"\",\n        \"description\": \"\"\n      }\n    },\n    {\n      \"column\": \"\\uae30\\ub300\\ud569\\ub2c8\\ub2e4\",\n      \"properties\": {\n        \"dtype\": \"number\",\n        \"std\": 0,\n        \"min\": 0,\n        \"max\": 0,\n        \"num_unique_values\": 1,\n        \"samples\": [\n          0\n        ],\n        \"semantic_type\": \"\",\n        \"description\": \"\"\n      }\n    }\n  ]\n}"
            }
          },
          "metadata": {},
          "execution_count": 53
        }
      ]
    },
    {
      "cell_type": "code",
      "source": [
        "import numpy as np\n",
        "np.argmax(np.array(one_hot_encodings[2]), axis=-1)\n",
        "print(token_ids[2])\n",
        "for id in token_ids[2]:\n",
        "  print(id_to_token[id])\n"
      ],
      "metadata": {
        "colab": {
          "base_uri": "https://localhost:8080/"
        },
        "id": "HW2yE8PiZNAr",
        "outputId": "90afe283-21b1-4c77-b368-451c8b31db94"
      },
      "id": "HW2yE8PiZNAr",
      "execution_count": 54,
      "outputs": [
        {
          "output_type": "stream",
          "name": "stdout",
          "text": [
            "[2, 4, 5, 7, 3, 4, 5, 6]\n",
            "오늘은\n",
            "좋은\n",
            "날씨\n",
            "내일도\n",
            "매우\n",
            "좋은\n",
            "날씨\n",
            "입니다\n"
          ]
        }
      ]
    },
    {
      "cell_type": "code",
      "source": [
        "# tf로 원핫인코딩을 하기 위해서는 문장의 길이를 동일하게 조정 : 짧은 문장에 PAD 추가\n",
        "# 3차원 배열로 shape은 (3,8,10)으로 변환 : 가장 긴 문장인 마지막 문장을 기준으로 [PAD]를 추가\n",
        "import tensorflow as tf\n",
        "pad_ids = []\n",
        "for line in token_ids:\n",
        "    line = line[:8]\n",
        "    line += [0] * (8 - len(line))\n",
        "    pad_ids.append(line)\n",
        "print(pad_ids)\n",
        "\n",
        "tf_one_hot_encodings = tf.one_hot(indices=pad_ids, depth=len(token_to_id))\n",
        "tf_one_hot_encodings\n"
      ],
      "metadata": {
        "colab": {
          "base_uri": "https://localhost:8080/"
        },
        "id": "PW2-TveJZPN4",
        "outputId": "c14a7a98-7dd2-47c7-94ac-cdb2e2023bf1"
      },
      "id": "PW2-TveJZPN4",
      "execution_count": 55,
      "outputs": [
        {
          "output_type": "stream",
          "name": "stdout",
          "text": [
            "[[2, 3, 3, 3, 4, 5, 6, 0], [7, 3, 4, 8, 9, 0, 0, 0], [2, 4, 5, 7, 3, 4, 5, 6]]\n"
          ]
        },
        {
          "output_type": "execute_result",
          "data": {
            "text/plain": [
              "<tf.Tensor: shape=(3, 8, 10), dtype=float32, numpy=\n",
              "array([[[0., 0., 1., 0., 0., 0., 0., 0., 0., 0.],\n",
              "        [0., 0., 0., 1., 0., 0., 0., 0., 0., 0.],\n",
              "        [0., 0., 0., 1., 0., 0., 0., 0., 0., 0.],\n",
              "        [0., 0., 0., 1., 0., 0., 0., 0., 0., 0.],\n",
              "        [0., 0., 0., 0., 1., 0., 0., 0., 0., 0.],\n",
              "        [0., 0., 0., 0., 0., 1., 0., 0., 0., 0.],\n",
              "        [0., 0., 0., 0., 0., 0., 1., 0., 0., 0.],\n",
              "        [1., 0., 0., 0., 0., 0., 0., 0., 0., 0.]],\n",
              "\n",
              "       [[0., 0., 0., 0., 0., 0., 0., 1., 0., 0.],\n",
              "        [0., 0., 0., 1., 0., 0., 0., 0., 0., 0.],\n",
              "        [0., 0., 0., 0., 1., 0., 0., 0., 0., 0.],\n",
              "        [0., 0., 0., 0., 0., 0., 0., 0., 1., 0.],\n",
              "        [0., 0., 0., 0., 0., 0., 0., 0., 0., 1.],\n",
              "        [1., 0., 0., 0., 0., 0., 0., 0., 0., 0.],\n",
              "        [1., 0., 0., 0., 0., 0., 0., 0., 0., 0.],\n",
              "        [1., 0., 0., 0., 0., 0., 0., 0., 0., 0.]],\n",
              "\n",
              "       [[0., 0., 1., 0., 0., 0., 0., 0., 0., 0.],\n",
              "        [0., 0., 0., 0., 1., 0., 0., 0., 0., 0.],\n",
              "        [0., 0., 0., 0., 0., 1., 0., 0., 0., 0.],\n",
              "        [0., 0., 0., 0., 0., 0., 0., 1., 0., 0.],\n",
              "        [0., 0., 0., 1., 0., 0., 0., 0., 0., 0.],\n",
              "        [0., 0., 0., 0., 1., 0., 0., 0., 0., 0.],\n",
              "        [0., 0., 0., 0., 0., 1., 0., 0., 0., 0.],\n",
              "        [0., 0., 0., 0., 0., 0., 1., 0., 0., 0.]]], dtype=float32)>"
            ]
          },
          "metadata": {},
          "execution_count": 55
        }
      ]
    },
    {
      "cell_type": "markdown",
      "source": [
        "## 9.3.3 Bag of Words(BOW) 표현"
      ],
      "metadata": {
        "id": "_OqcwztCZ2OO"
      },
      "id": "_OqcwztCZ2OO"
    },
    {
      "cell_type": "code",
      "source": [
        "sentences = docs.split(\"\\n\")\n",
        "words = []\n",
        "for sentence in sentences:\n",
        "    words.append(sentence.split())\n",
        "words\n"
      ],
      "metadata": {
        "colab": {
          "base_uri": "https://localhost:8080/"
        },
        "id": "TRCypaafZSYq",
        "outputId": "7e9d258e-df1b-4336-d7ad-c6de1be8b9c1"
      },
      "id": "TRCypaafZSYq",
      "execution_count": 56,
      "outputs": [
        {
          "output_type": "execute_result",
          "data": {
            "text/plain": [
              "[['오늘은', '매우', '매우', '매우', '좋은', '날씨', '입니다'],\n",
              " ['내일도', '매우', '좋은', '날씨를', '기대합니다'],\n",
              " ['오늘은', '좋은', '날씨', '내일도', '매우', '좋은', '날씨', '입니다']]"
            ]
          },
          "metadata": {},
          "execution_count": 56
        }
      ]
    },
    {
      "cell_type": "code",
      "source": [
        "bows = []\n",
        "for line in words:\n",
        "    print(line)\n",
        "    bow = [0] * len(token_to_id)\n",
        "    print(bow)\n",
        "    for t in line:\n",
        "        # print(t)\n",
        "        bow[token_to_id[t]] += 1\n",
        "        print(t, bow)\n",
        "    print()\n",
        "    bows.append(bow)\n",
        "bows = np.array(bows)\n",
        "bows\n"
      ],
      "metadata": {
        "colab": {
          "base_uri": "https://localhost:8080/"
        },
        "id": "f_CWiDF2Z5YY",
        "outputId": "195eff33-07ba-4a82-d506-6f65f1f74890"
      },
      "id": "f_CWiDF2Z5YY",
      "execution_count": 57,
      "outputs": [
        {
          "output_type": "stream",
          "name": "stdout",
          "text": [
            "['오늘은', '매우', '매우', '매우', '좋은', '날씨', '입니다']\n",
            "[0, 0, 0, 0, 0, 0, 0, 0, 0, 0]\n",
            "오늘은 [0, 0, 1, 0, 0, 0, 0, 0, 0, 0]\n",
            "매우 [0, 0, 1, 1, 0, 0, 0, 0, 0, 0]\n",
            "매우 [0, 0, 1, 2, 0, 0, 0, 0, 0, 0]\n",
            "매우 [0, 0, 1, 3, 0, 0, 0, 0, 0, 0]\n",
            "좋은 [0, 0, 1, 3, 1, 0, 0, 0, 0, 0]\n",
            "날씨 [0, 0, 1, 3, 1, 1, 0, 0, 0, 0]\n",
            "입니다 [0, 0, 1, 3, 1, 1, 1, 0, 0, 0]\n",
            "\n",
            "['내일도', '매우', '좋은', '날씨를', '기대합니다']\n",
            "[0, 0, 0, 0, 0, 0, 0, 0, 0, 0]\n",
            "내일도 [0, 0, 0, 0, 0, 0, 0, 1, 0, 0]\n",
            "매우 [0, 0, 0, 1, 0, 0, 0, 1, 0, 0]\n",
            "좋은 [0, 0, 0, 1, 1, 0, 0, 1, 0, 0]\n",
            "날씨를 [0, 0, 0, 1, 1, 0, 0, 1, 1, 0]\n",
            "기대합니다 [0, 0, 0, 1, 1, 0, 0, 1, 1, 1]\n",
            "\n",
            "['오늘은', '좋은', '날씨', '내일도', '매우', '좋은', '날씨', '입니다']\n",
            "[0, 0, 0, 0, 0, 0, 0, 0, 0, 0]\n",
            "오늘은 [0, 0, 1, 0, 0, 0, 0, 0, 0, 0]\n",
            "좋은 [0, 0, 1, 0, 1, 0, 0, 0, 0, 0]\n",
            "날씨 [0, 0, 1, 0, 1, 1, 0, 0, 0, 0]\n",
            "내일도 [0, 0, 1, 0, 1, 1, 0, 1, 0, 0]\n",
            "매우 [0, 0, 1, 1, 1, 1, 0, 1, 0, 0]\n",
            "좋은 [0, 0, 1, 1, 2, 1, 0, 1, 0, 0]\n",
            "날씨 [0, 0, 1, 1, 2, 2, 0, 1, 0, 0]\n",
            "입니다 [0, 0, 1, 1, 2, 2, 1, 1, 0, 0]\n",
            "\n"
          ]
        },
        {
          "output_type": "execute_result",
          "data": {
            "text/plain": [
              "array([[0, 0, 1, 3, 1, 1, 1, 0, 0, 0],\n",
              "       [0, 0, 0, 1, 1, 0, 0, 1, 1, 1],\n",
              "       [0, 0, 1, 1, 2, 2, 1, 1, 0, 0]])"
            ]
          },
          "metadata": {},
          "execution_count": 57
        }
      ]
    },
    {
      "cell_type": "markdown",
      "source": [
        "## 9.1.4 빈도수 기반 단어 표현의 한계"
      ],
      "metadata": {
        "id": "izsIjKGkZ-im"
      },
      "id": "izsIjKGkZ-im"
    },
    {
      "cell_type": "code",
      "source": [
        "# DTM 도표\n",
        "col = token_to_id.keys()\n",
        "pd.DataFrame(bows, columns=col)\n"
      ],
      "metadata": {
        "colab": {
          "base_uri": "https://localhost:8080/",
          "height": 143
        },
        "id": "lC-LQBb-Z7KW",
        "outputId": "117ba544-7e13-425f-ffba-3acd716f6a25"
      },
      "id": "lC-LQBb-Z7KW",
      "execution_count": 58,
      "outputs": [
        {
          "output_type": "execute_result",
          "data": {
            "text/plain": [
              "   [PAD]  [UNK]  오늘은  매우  좋은  날씨  입니다  내일도  날씨를  기대합니다\n",
              "0      0      0    1   3   1   1    1    0    0      0\n",
              "1      0      0    0   1   1   0    0    1    1      1\n",
              "2      0      0    1   1   2   2    1    1    0      0"
            ],
            "text/html": [
              "\n",
              "  <div id=\"df-dd28151a-67e5-4ffc-9132-9fc5ecc7a1cf\" class=\"colab-df-container\">\n",
              "    <div>\n",
              "<style scoped>\n",
              "    .dataframe tbody tr th:only-of-type {\n",
              "        vertical-align: middle;\n",
              "    }\n",
              "\n",
              "    .dataframe tbody tr th {\n",
              "        vertical-align: top;\n",
              "    }\n",
              "\n",
              "    .dataframe thead th {\n",
              "        text-align: right;\n",
              "    }\n",
              "</style>\n",
              "<table border=\"1\" class=\"dataframe\">\n",
              "  <thead>\n",
              "    <tr style=\"text-align: right;\">\n",
              "      <th></th>\n",
              "      <th>[PAD]</th>\n",
              "      <th>[UNK]</th>\n",
              "      <th>오늘은</th>\n",
              "      <th>매우</th>\n",
              "      <th>좋은</th>\n",
              "      <th>날씨</th>\n",
              "      <th>입니다</th>\n",
              "      <th>내일도</th>\n",
              "      <th>날씨를</th>\n",
              "      <th>기대합니다</th>\n",
              "    </tr>\n",
              "  </thead>\n",
              "  <tbody>\n",
              "    <tr>\n",
              "      <th>0</th>\n",
              "      <td>0</td>\n",
              "      <td>0</td>\n",
              "      <td>1</td>\n",
              "      <td>3</td>\n",
              "      <td>1</td>\n",
              "      <td>1</td>\n",
              "      <td>1</td>\n",
              "      <td>0</td>\n",
              "      <td>0</td>\n",
              "      <td>0</td>\n",
              "    </tr>\n",
              "    <tr>\n",
              "      <th>1</th>\n",
              "      <td>0</td>\n",
              "      <td>0</td>\n",
              "      <td>0</td>\n",
              "      <td>1</td>\n",
              "      <td>1</td>\n",
              "      <td>0</td>\n",
              "      <td>0</td>\n",
              "      <td>1</td>\n",
              "      <td>1</td>\n",
              "      <td>1</td>\n",
              "    </tr>\n",
              "    <tr>\n",
              "      <th>2</th>\n",
              "      <td>0</td>\n",
              "      <td>0</td>\n",
              "      <td>1</td>\n",
              "      <td>1</td>\n",
              "      <td>2</td>\n",
              "      <td>2</td>\n",
              "      <td>1</td>\n",
              "      <td>1</td>\n",
              "      <td>0</td>\n",
              "      <td>0</td>\n",
              "    </tr>\n",
              "  </tbody>\n",
              "</table>\n",
              "</div>\n",
              "    <div class=\"colab-df-buttons\">\n",
              "\n",
              "  <div class=\"colab-df-container\">\n",
              "    <button class=\"colab-df-convert\" onclick=\"convertToInteractive('df-dd28151a-67e5-4ffc-9132-9fc5ecc7a1cf')\"\n",
              "            title=\"Convert this dataframe to an interactive table.\"\n",
              "            style=\"display:none;\">\n",
              "\n",
              "  <svg xmlns=\"http://www.w3.org/2000/svg\" height=\"24px\" viewBox=\"0 -960 960 960\">\n",
              "    <path d=\"M120-120v-720h720v720H120Zm60-500h600v-160H180v160Zm220 220h160v-160H400v160Zm0 220h160v-160H400v160ZM180-400h160v-160H180v160Zm440 0h160v-160H620v160ZM180-180h160v-160H180v160Zm440 0h160v-160H620v160Z\"/>\n",
              "  </svg>\n",
              "    </button>\n",
              "\n",
              "  <style>\n",
              "    .colab-df-container {\n",
              "      display:flex;\n",
              "      gap: 12px;\n",
              "    }\n",
              "\n",
              "    .colab-df-convert {\n",
              "      background-color: #E8F0FE;\n",
              "      border: none;\n",
              "      border-radius: 50%;\n",
              "      cursor: pointer;\n",
              "      display: none;\n",
              "      fill: #1967D2;\n",
              "      height: 32px;\n",
              "      padding: 0 0 0 0;\n",
              "      width: 32px;\n",
              "    }\n",
              "\n",
              "    .colab-df-convert:hover {\n",
              "      background-color: #E2EBFA;\n",
              "      box-shadow: 0px 1px 2px rgba(60, 64, 67, 0.3), 0px 1px 3px 1px rgba(60, 64, 67, 0.15);\n",
              "      fill: #174EA6;\n",
              "    }\n",
              "\n",
              "    .colab-df-buttons div {\n",
              "      margin-bottom: 4px;\n",
              "    }\n",
              "\n",
              "    [theme=dark] .colab-df-convert {\n",
              "      background-color: #3B4455;\n",
              "      fill: #D2E3FC;\n",
              "    }\n",
              "\n",
              "    [theme=dark] .colab-df-convert:hover {\n",
              "      background-color: #434B5C;\n",
              "      box-shadow: 0px 1px 3px 1px rgba(0, 0, 0, 0.15);\n",
              "      filter: drop-shadow(0px 1px 2px rgba(0, 0, 0, 0.3));\n",
              "      fill: #FFFFFF;\n",
              "    }\n",
              "  </style>\n",
              "\n",
              "    <script>\n",
              "      const buttonEl =\n",
              "        document.querySelector('#df-dd28151a-67e5-4ffc-9132-9fc5ecc7a1cf button.colab-df-convert');\n",
              "      buttonEl.style.display =\n",
              "        google.colab.kernel.accessAllowed ? 'block' : 'none';\n",
              "\n",
              "      async function convertToInteractive(key) {\n",
              "        const element = document.querySelector('#df-dd28151a-67e5-4ffc-9132-9fc5ecc7a1cf');\n",
              "        const dataTable =\n",
              "          await google.colab.kernel.invokeFunction('convertToInteractive',\n",
              "                                                    [key], {});\n",
              "        if (!dataTable) return;\n",
              "\n",
              "        const docLinkHtml = 'Like what you see? Visit the ' +\n",
              "          '<a target=\"_blank\" href=https://colab.research.google.com/notebooks/data_table.ipynb>data table notebook</a>'\n",
              "          + ' to learn more about interactive tables.';\n",
              "        element.innerHTML = '';\n",
              "        dataTable['output_type'] = 'display_data';\n",
              "        await google.colab.output.renderOutput(dataTable, element);\n",
              "        const docLink = document.createElement('div');\n",
              "        docLink.innerHTML = docLinkHtml;\n",
              "        element.appendChild(docLink);\n",
              "      }\n",
              "    </script>\n",
              "  </div>\n",
              "\n",
              "\n",
              "<div id=\"df-230082b0-1aaf-4b8c-af7c-2f2be006ac83\">\n",
              "  <button class=\"colab-df-quickchart\" onclick=\"quickchart('df-230082b0-1aaf-4b8c-af7c-2f2be006ac83')\"\n",
              "            title=\"Suggest charts\"\n",
              "            style=\"display:none;\">\n",
              "\n",
              "<svg xmlns=\"http://www.w3.org/2000/svg\" height=\"24px\"viewBox=\"0 0 24 24\"\n",
              "     width=\"24px\">\n",
              "    <g>\n",
              "        <path d=\"M19 3H5c-1.1 0-2 .9-2 2v14c0 1.1.9 2 2 2h14c1.1 0 2-.9 2-2V5c0-1.1-.9-2-2-2zM9 17H7v-7h2v7zm4 0h-2V7h2v10zm4 0h-2v-4h2v4z\"/>\n",
              "    </g>\n",
              "</svg>\n",
              "  </button>\n",
              "\n",
              "<style>\n",
              "  .colab-df-quickchart {\n",
              "      --bg-color: #E8F0FE;\n",
              "      --fill-color: #1967D2;\n",
              "      --hover-bg-color: #E2EBFA;\n",
              "      --hover-fill-color: #174EA6;\n",
              "      --disabled-fill-color: #AAA;\n",
              "      --disabled-bg-color: #DDD;\n",
              "  }\n",
              "\n",
              "  [theme=dark] .colab-df-quickchart {\n",
              "      --bg-color: #3B4455;\n",
              "      --fill-color: #D2E3FC;\n",
              "      --hover-bg-color: #434B5C;\n",
              "      --hover-fill-color: #FFFFFF;\n",
              "      --disabled-bg-color: #3B4455;\n",
              "      --disabled-fill-color: #666;\n",
              "  }\n",
              "\n",
              "  .colab-df-quickchart {\n",
              "    background-color: var(--bg-color);\n",
              "    border: none;\n",
              "    border-radius: 50%;\n",
              "    cursor: pointer;\n",
              "    display: none;\n",
              "    fill: var(--fill-color);\n",
              "    height: 32px;\n",
              "    padding: 0;\n",
              "    width: 32px;\n",
              "  }\n",
              "\n",
              "  .colab-df-quickchart:hover {\n",
              "    background-color: var(--hover-bg-color);\n",
              "    box-shadow: 0 1px 2px rgba(60, 64, 67, 0.3), 0 1px 3px 1px rgba(60, 64, 67, 0.15);\n",
              "    fill: var(--button-hover-fill-color);\n",
              "  }\n",
              "\n",
              "  .colab-df-quickchart-complete:disabled,\n",
              "  .colab-df-quickchart-complete:disabled:hover {\n",
              "    background-color: var(--disabled-bg-color);\n",
              "    fill: var(--disabled-fill-color);\n",
              "    box-shadow: none;\n",
              "  }\n",
              "\n",
              "  .colab-df-spinner {\n",
              "    border: 2px solid var(--fill-color);\n",
              "    border-color: transparent;\n",
              "    border-bottom-color: var(--fill-color);\n",
              "    animation:\n",
              "      spin 1s steps(1) infinite;\n",
              "  }\n",
              "\n",
              "  @keyframes spin {\n",
              "    0% {\n",
              "      border-color: transparent;\n",
              "      border-bottom-color: var(--fill-color);\n",
              "      border-left-color: var(--fill-color);\n",
              "    }\n",
              "    20% {\n",
              "      border-color: transparent;\n",
              "      border-left-color: var(--fill-color);\n",
              "      border-top-color: var(--fill-color);\n",
              "    }\n",
              "    30% {\n",
              "      border-color: transparent;\n",
              "      border-left-color: var(--fill-color);\n",
              "      border-top-color: var(--fill-color);\n",
              "      border-right-color: var(--fill-color);\n",
              "    }\n",
              "    40% {\n",
              "      border-color: transparent;\n",
              "      border-right-color: var(--fill-color);\n",
              "      border-top-color: var(--fill-color);\n",
              "    }\n",
              "    60% {\n",
              "      border-color: transparent;\n",
              "      border-right-color: var(--fill-color);\n",
              "    }\n",
              "    80% {\n",
              "      border-color: transparent;\n",
              "      border-right-color: var(--fill-color);\n",
              "      border-bottom-color: var(--fill-color);\n",
              "    }\n",
              "    90% {\n",
              "      border-color: transparent;\n",
              "      border-bottom-color: var(--fill-color);\n",
              "    }\n",
              "  }\n",
              "</style>\n",
              "\n",
              "  <script>\n",
              "    async function quickchart(key) {\n",
              "      const quickchartButtonEl =\n",
              "        document.querySelector('#' + key + ' button');\n",
              "      quickchartButtonEl.disabled = true;  // To prevent multiple clicks.\n",
              "      quickchartButtonEl.classList.add('colab-df-spinner');\n",
              "      try {\n",
              "        const charts = await google.colab.kernel.invokeFunction(\n",
              "            'suggestCharts', [key], {});\n",
              "      } catch (error) {\n",
              "        console.error('Error during call to suggestCharts:', error);\n",
              "      }\n",
              "      quickchartButtonEl.classList.remove('colab-df-spinner');\n",
              "      quickchartButtonEl.classList.add('colab-df-quickchart-complete');\n",
              "    }\n",
              "    (() => {\n",
              "      let quickchartButtonEl =\n",
              "        document.querySelector('#df-230082b0-1aaf-4b8c-af7c-2f2be006ac83 button');\n",
              "      quickchartButtonEl.style.display =\n",
              "        google.colab.kernel.accessAllowed ? 'block' : 'none';\n",
              "    })();\n",
              "  </script>\n",
              "</div>\n",
              "    </div>\n",
              "  </div>\n"
            ],
            "application/vnd.google.colaboratory.intrinsic+json": {
              "type": "dataframe",
              "summary": "{\n  \"name\": \"pd\",\n  \"rows\": 3,\n  \"fields\": [\n    {\n      \"column\": \"[PAD]\",\n      \"properties\": {\n        \"dtype\": \"number\",\n        \"std\": 0,\n        \"min\": 0,\n        \"max\": 0,\n        \"num_unique_values\": 1,\n        \"samples\": [\n          0\n        ],\n        \"semantic_type\": \"\",\n        \"description\": \"\"\n      }\n    },\n    {\n      \"column\": \"[UNK]\",\n      \"properties\": {\n        \"dtype\": \"number\",\n        \"std\": 0,\n        \"min\": 0,\n        \"max\": 0,\n        \"num_unique_values\": 1,\n        \"samples\": [\n          0\n        ],\n        \"semantic_type\": \"\",\n        \"description\": \"\"\n      }\n    },\n    {\n      \"column\": \"\\uc624\\ub298\\uc740\",\n      \"properties\": {\n        \"dtype\": \"number\",\n        \"std\": 0,\n        \"min\": 0,\n        \"max\": 1,\n        \"num_unique_values\": 2,\n        \"samples\": [\n          0\n        ],\n        \"semantic_type\": \"\",\n        \"description\": \"\"\n      }\n    },\n    {\n      \"column\": \"\\ub9e4\\uc6b0\",\n      \"properties\": {\n        \"dtype\": \"number\",\n        \"std\": 1,\n        \"min\": 1,\n        \"max\": 3,\n        \"num_unique_values\": 2,\n        \"samples\": [\n          1\n        ],\n        \"semantic_type\": \"\",\n        \"description\": \"\"\n      }\n    },\n    {\n      \"column\": \"\\uc88b\\uc740\",\n      \"properties\": {\n        \"dtype\": \"number\",\n        \"std\": 0,\n        \"min\": 1,\n        \"max\": 2,\n        \"num_unique_values\": 2,\n        \"samples\": [\n          2\n        ],\n        \"semantic_type\": \"\",\n        \"description\": \"\"\n      }\n    },\n    {\n      \"column\": \"\\ub0a0\\uc528\",\n      \"properties\": {\n        \"dtype\": \"number\",\n        \"std\": 1,\n        \"min\": 0,\n        \"max\": 2,\n        \"num_unique_values\": 3,\n        \"samples\": [\n          1\n        ],\n        \"semantic_type\": \"\",\n        \"description\": \"\"\n      }\n    },\n    {\n      \"column\": \"\\uc785\\ub2c8\\ub2e4\",\n      \"properties\": {\n        \"dtype\": \"number\",\n        \"std\": 0,\n        \"min\": 0,\n        \"max\": 1,\n        \"num_unique_values\": 2,\n        \"samples\": [\n          0\n        ],\n        \"semantic_type\": \"\",\n        \"description\": \"\"\n      }\n    },\n    {\n      \"column\": \"\\ub0b4\\uc77c\\ub3c4\",\n      \"properties\": {\n        \"dtype\": \"number\",\n        \"std\": 0,\n        \"min\": 0,\n        \"max\": 1,\n        \"num_unique_values\": 2,\n        \"samples\": [\n          1\n        ],\n        \"semantic_type\": \"\",\n        \"description\": \"\"\n      }\n    },\n    {\n      \"column\": \"\\ub0a0\\uc528\\ub97c\",\n      \"properties\": {\n        \"dtype\": \"number\",\n        \"std\": 0,\n        \"min\": 0,\n        \"max\": 1,\n        \"num_unique_values\": 2,\n        \"samples\": [\n          1\n        ],\n        \"semantic_type\": \"\",\n        \"description\": \"\"\n      }\n    },\n    {\n      \"column\": \"\\uae30\\ub300\\ud569\\ub2c8\\ub2e4\",\n      \"properties\": {\n        \"dtype\": \"number\",\n        \"std\": 0,\n        \"min\": 0,\n        \"max\": 1,\n        \"num_unique_values\": 2,\n        \"samples\": [\n          1\n        ],\n        \"semantic_type\": \"\",\n        \"description\": \"\"\n      }\n    }\n  ]\n}"
            }
          },
          "metadata": {},
          "execution_count": 58
        }
      ]
    },
    {
      "cell_type": "markdown",
      "source": [
        "# 09.4 문서의 수량화 표현과 요약 : DTM, TF-IDF"
      ],
      "metadata": {
        "id": "9_if5nSOb2zu"
      },
      "id": "9_if5nSOb2zu"
    },
    {
      "cell_type": "markdown",
      "source": [
        "## 9.4.1 문서단어행렬(DTM, Document-Term Matrix)"
      ],
      "metadata": {
        "id": "6qpEZrOUb6R-"
      },
      "id": "6qpEZrOUb6R-"
    },
    {
      "cell_type": "code",
      "source": [
        "!pip install konlpy\n",
        "!wget https://raw.githubusercontent.com/byungjooyoo/Dataset/main/news.txt\n"
      ],
      "metadata": {
        "colab": {
          "base_uri": "https://localhost:8080/"
        },
        "id": "YMq1HhKGaA-w",
        "outputId": "ac26b116-90da-4d20-c39c-36303fcef579"
      },
      "id": "YMq1HhKGaA-w",
      "execution_count": 59,
      "outputs": [
        {
          "output_type": "stream",
          "name": "stdout",
          "text": [
            "Requirement already satisfied: konlpy in /usr/local/lib/python3.10/dist-packages (0.6.0)\n",
            "Requirement already satisfied: JPype1>=0.7.0 in /usr/local/lib/python3.10/dist-packages (from konlpy) (1.5.0)\n",
            "Requirement already satisfied: lxml>=4.1.0 in /usr/local/lib/python3.10/dist-packages (from konlpy) (4.9.4)\n",
            "Requirement already satisfied: numpy>=1.6 in /usr/local/lib/python3.10/dist-packages (from konlpy) (1.25.2)\n",
            "Requirement already satisfied: packaging in /usr/local/lib/python3.10/dist-packages (from JPype1>=0.7.0->konlpy) (24.0)\n",
            "--2024-04-15 20:25:55--  https://raw.githubusercontent.com/byungjooyoo/Dataset/main/news.txt\n",
            "Resolving raw.githubusercontent.com (raw.githubusercontent.com)... 185.199.110.133, 185.199.109.133, 185.199.111.133, ...\n",
            "Connecting to raw.githubusercontent.com (raw.githubusercontent.com)|185.199.110.133|:443... connected.\n",
            "HTTP request sent, awaiting response... 200 OK\n",
            "Length: 13292 (13K) [text/plain]\n",
            "Saving to: ‘news.txt’\n",
            "\n",
            "news.txt            100%[===================>]  12.98K  --.-KB/s    in 0s      \n",
            "\n",
            "2024-04-15 20:25:55 (49.0 MB/s) - ‘news.txt’ saved [13292/13292]\n",
            "\n"
          ]
        }
      ]
    },
    {
      "cell_type": "code",
      "source": [
        "# 기사를 형태소 분석기로 정리하여 리스트로 만들기\n",
        "import konlpy\n",
        "docs = []\n",
        "with open(\"news.txt\", 'r') as f:\n",
        "    while True:\n",
        "        line = f.readline()\n",
        "        if not line: break\n",
        "        doc = konlpy.tag.Komoran().morphs(line)\n",
        "        docs.append(' '.join(doc))\n",
        "docs\n"
      ],
      "metadata": {
        "colab": {
          "base_uri": "https://localhost:8080/"
        },
        "id": "l6yj-ktbb9tq",
        "outputId": "fbbc891c-93f9-467c-fbd3-d939407b86f7"
      },
      "id": "l6yj-ktbb9tq",
      "execution_count": 60,
      "outputs": [
        {
          "output_type": "execute_result",
          "data": {
            "text/plain": [
              "[\"' 28 일 중소 벤처기업 부가 공개 하 ㄴ ‘ 2019년 기준 중소기업 기본 통계 ’ 를 살펴보 면 울산 중소기업 은 전체 기업 의 99 . 9 % , 중소기업 근로자 는 전체 기업 종사자 의 88 . 4 % 를 차지 하 고 있 는 것 으로 나타나 았 다 . 중소기업 기본 통계 는 매년 통계청 의 기업 통계 등록부 를 토대 로 중기 부가 작성 하 는 자료 다 . 집계 결과 2019 년 기준 울산 중소기업 수 는 12 만 7682 개 로 전국 의 1 . 9 % 를 점유 하 았 다 . 전년 ( 12 만 5352 ) 보다 2330 개 ( 1 . 9 % ) 증가 하 았 다 . 세종 ( 3 만 4608 개 ) 을 제외 하 면 제주 ( 11 만 983 개 ) 에 이어 전국 에서 두 번 째 로 적 은 것 으로 조사 되 었 다 . 특히 관광 도시 제주 ( 5 . 7 % 증가 ) 와 의 격차 도 중소기업 격차 로 1년 새 크 게 좁히 어 지 었 다 . 울산 의 중소기업 인수 는 34 만 4092 명 으로 전국 의 2 . 0 % 를 점유 하 았 다 . 전년 ( 33 만 7241 명 ) 보다 중소기업 인수 는 6851 명 ( 2 . 0 % ) 증가 하 았 다 . 울산 의 중소기업 매출액 은 46 조 948 억 원 으로 전국 의 1 . 7 % 를 점유 하 는데 그치 었 다 . 중소기업 매출액 은 전년 ( 44 조 8664 억 원 ) 보다 1 조 2284 억 원 ( 2 . 7 % ) 증가 하 았 다 . 하 지만 , 중기 매출액 은 산업 도시 울산 의 위상 ( 인구 비중 2 . 2 % ) 은 물론 지역 중소기업 수 비중 ( 1 . 95 % ) 에 도 못 미치 었 다 . 3 대 주력 산업 의 수직 계열 화 구조 에서 벗어나 지 못하 고 있 는 울산 의 중소기업 들 의 성장 이 상대 적 으로 부진 하 다는 방증 으로 풀이 되 ㄴ다 . 지역 중기 매출액 역시 세종 ( 10 조 1367 억 원 ) 을 제외 하 면 제주 ( 27 조 4096 억 원 ) 에 이어 두 번 째 로 적 었 다 . 울산 지역 중소기업 매출액 중 35 . 3 % 는 제조업 ( 16 조 2828 억 원 ) 이 차지 하 았 고 , 도 · 소매업 ( 11 조 1657 억 원 ) , 건설업 ( 6 조 3610 억 원 ) 등 의 순 으로 많 았 다 . 아울러 대표자 가 여성 이 ㄴ 울산 중소기업 은 5 만 5595 개 로 전국 의 2 . 0 % 를 점유 하 아 상대 적 으로 여성 중소기업 이 강세 를 나타내 었 다 . 여성 중소기업 종사자 는 9 만 3698 명 으로 전국 의 1 . 9 % 를 차지 하 았 다 . 하지만 여성 중소기업 매출액 은 7 조 9389 억 원 으로 전국 비중 의 1 . 6 % 에 불과 하 었 다 . 제조업 중심 도시 울산 지역 에서 남성 과 여성 중소기업인 모두 매출 등 양 적 성장 에 상당 하 ㄴ 어려움 을 겪 고 있 는 것 으로 분석 되 ㄴ다 . 2019년 기준 전국 중소기업 수 는 직전 해 보다 3 . 8 % 증가 하 ㄴ 688 만 8000 개 이 었 다 . 종사자 수 는 2 . 0 % 늘어나 ㄴ 1744 만 명 , 매출액 은 2 . 6 % 증가 하 ㄴ 2732 조 1000 억 원 으로 각각 집계 되 었 다 . 중소기업 매출액 은 전체 기업 매출액 의 48 . 7 % 를 차지 하 았 다 . 한편 이날 중소기업중앙회 부산 울산 지역 본부 가 발표 하 ㄴ ‘ 11월 중소기업 경기 전망 조사 ’ 결과 울산 의 중소기업 경기 전망 지수 ( SBHI ) 는 전월 보다 7 . 6 p 상승 하 ㄴ 77 . 4 를 기록 하 았 다 . 지역 중소기업 의 가장 크 ㄴ 경영 애로 는 내수 부진 ( 53 . 8 % ) 을 꼽 았 다 . 석현 주기 자 hyunju 021 @ ksilbo .co .kr ' ,\",\n",
              " \"' 울산 지역 주력 산업 침체 여파 로 장기 하락세 에 빠지 ㄴ 울산 오피스텔 시장 이 집값 상승세 에 힘입 어 반등 하 고 있 다 . 아파트 가격 이 워낙 급등 하 ㄴ 데 다 대출 규제 까지 겹치 자 ‘ 내 집 마련 ’ 을 원하 는 수요자 들 이 오피스텔 로 눈 을 돌리 고 있 기 때문 으로 분석 되 ㄴ다 . 24 일 울산 부동산 원 과 지역 부동산 업계 에 따르 면 오피스텔 매매 시장 이 장기간 지속 되 ㄴ 거세 ㄴ 하방 압력 을 딛 고 , 회복세 를 보이 고 있 는 것 으로 나타나 았 다 . 7월 울산 지역 오피스텔 매매 가격 은 전월 대비 0 . 11 % 상승 하 았 다 . 아파트 값 이 크 게 급등 하 자 ‘ 대체재 ’ 로 전국 각지 의 오피스텔 가격 이 상승 하 았 음 에 도 불구 하 고 울산만 유일 하 게 4 년 째 하락세 를 지속 하 았 으나 결국 울산 도 상승세 로 돌아서 ㄴ 것 이 다 . 울산 의 오피스텔 가격 은 2018년 1월 첫 공표 이후 줄곧 하락세 를 거듭 하 았 다 . 2020 년 7월 갑작스럽 게 전국 오피스텔 가격 이 급등 하 았 으나 , 새롭 ㄴ 표본 이 설정 되 면서 벌어지 ㄴ 일시 적 현상 에 불과 하 었 다 . 7월 울산 오피스텔 규모 별 매매 지수 변동 률 을 살펴보 면 85 ㎡ 초과 면적 이 0 . 33 % 상승 하 아 가장 많이 오르 았 다 . 이어 60 ~ 85 ㎡ 이하 ( 0 . 23 % ) , 40 ~ 60 ㎡ 이하 ( 0 . 15 % ) , 40 ㎡ 이하 ( 0 . 00 % ) 순 이 다 . 실제로 울산 남구 의 한 부동산 관계자 는 “ 소형 면적 보다 는 거실 과 방 두 개 이상 의 오피스텔 이 거래 가 잘 되 ㄴ다 . 전용 85 ㎡ 주거 형 오피스텔 은 사실 상 아파트 와 동일 하 ㄴ 주거 상품 이 라는 인식 때문 이 다 . 신규 아파트 입주 청약 이나 가격 에 부담 을 느끼 ㄴ 젊 은 세대 들 이 주거 용 오피스텔 로 관심 을 돌리 기 도 하 ㄴ다 ” 고 말했다.같은 기간 전국 오피스텔 가격 은 0 . 18 % 상승 하 았 으며 , 인천 ( 0 . 49 % ) 과 대전 ( 0 . 27 % ) 이 높 은 상승 률 을 보이 었 고 , 부산 ( 0 . 00 % ) 보 합 , 대구 ( -0 . 02 % ) 는 하락 하 았 다 . 울산 의 오피스텔 전세 와 월세 가격 상승 폭 은 여전히 전국 최고 수준 이 ㄴ 것 으로 집계 되 었 다 . 7월 울산 오피스텔 전세 가격 은 전월 대비 0 . 49 % 상승 하 았 다 . 전국 8 개 광역 시도 중 오름 폭 이 가장 크 었 다 . 이 기간 전국 오피스텔 전세 가격 은 0 . 18 % 상승 하 았 다 . 울산 지역 오피스텔 전세 가격 은 지난해 9월 이후 11 개월 연속 상승 중 이 다 . 특히 60 ~ 85 ㎡ 면적 의 경우 한 달 사이 전셋값 이 1 . 30 % 상승 하 아 동일 면적 아파트 전셋값 상승 률 ( 1 . 06 % ) 을 넘 어 서 었 다 . 월세 가격 상승 률 역시 전국 에서 가장 높 다 . 월세 가격 은 전월 대비 0 . 27 % 상승 , 올해 1월 부터 7 개월 째 상승세 를 유지 중 이 다 . 지역 부동산 업계 관계자 는 “ 아파트 전세 가격 이 지속 적 으로 상승 하 면서 오피스텔 전세 가격 또한 동반 상승 하 았 고 , 전세 매물 이 상대 적 으로 부족 하 ㄴ 울산 에서 전세 가격 상승 률 이 높 았 던 것 으로 분석 되 고 있다 ” 고 밝히 었 다 . 석현 주기 자 hyunju 021 @ ksilbo .co .kr ' ,\",\n",
              " \"' 당정 은 이날 국회 에서 ‘ 물가 대책 관련 당정 협의 ’ 를 열 어 11 월 12 일 부터 내년 4 월 30 일 까지 6 개월 동안 휘발유 · 경유 · LPG 부탄 에 대하 ㄴ 유류 세 를 20 % 한시 적 으로 인하 하 기 로 뜻 을 모으 았 다 . 이 이렇 게 되 면 휘발유 는 ℓ 당 164 원 , 경유 116 원 , LPG 부탄 은 40 원 씩 내려가 ㄴ다 . 6 개월 간 유류 세 부담 경감 규모 는 총 2 조 5000 억 원 규모 로 , 휘발유 차량 을 하루 40 ㎞ 운행 하 ㄹ 경우 월 2 만원 을 아끼 ㄹ 수 있 을 것 으로 정부 는 전망했다.같은 기간 액화천연가스 ( LNG ) 에 대하 ㄴ 할당 관세 율 은 현재 2 % 에서 0 % 로 내리 기 로 하 았 다 . 정부 는 유류 세 인하 직후 즉각 인하 효과 가 나타나 ㄹ 수 있 도록 관계 부처 및 소비자 단체 합동 감시 체계 를 가동 하 기 로 하 았 다 . 또 가스 요금 을 비롯 하 ㄴ 공공요금 은 연말 까지 동결 원칙 으로 관리 하 기 로 하 았 다 . 정부 는 농축수산물 에 대하 아서 ㄴ 쌀 · 계란 · 육류 등 주요 품목 중심 으로 할인 행사 추진 등 안정 적 관리 를 도모 하 기 로 하 았 다 . 김 두수 기자 dusoo @ ksilbo .co .kr ' ,\",\n",
              " \"' 정부 는 25 일 ‘ 코로나 단계 적 일상 회복 이행 계획 ’ 공청회 를 열 고 위드 코로나 로드맵 초안 을 발표 하 았 다 . 이 에 따르 아 기존 사회 적 거리 두기 를 해제 하 고 단계 적 완화 를 3 차로 나누 어 차수 별 4 주 시행 , 2 주 평가 를 더하 아 6 주 씩 시간 을 두 고 단계 · 점진 적 일상 회복 을 추진 하 ㄴ다 . 단 평가 결과 와 방역 상황 에 따르 아 평가 기간 은 조금 줄이 거나 연장 되 ㄹ 수 있 다 . 이 에 따르 아 오 는 11 월 1 일 1 단계 가 시작 되 ㄹ 경우 , 2 단계 는 12 월 13 일 , 3 단계 는 내년 1월 말 께 진행 되 ㄴ다 . 1 단계 개편 안 에서 는 그동안 자정 까지 로 제한 되 었 던 식당 · 카페 · 학원 · 영화관 · 공연장 · 독서실 · PC 방 등 의 시간제한 이 전면 해제 되 ㄴ다 . 사적 모임 인원 제한 은 기존 과 같이 10 명 이 다 . 또 오후 10 시 까지 로 운영 을 제한 하 았 던 노래 연습장 · 목욕 장 · 실내 체육 시설 역시 시간제한 을 없애 고 , 접종 증명 · 음성 확인 제 를 도입 하 기 로 하 았 다 . 하지 만 유흥 시설 은 코로나 감염 위험 이 높 은 만큼 영업시간 을 자정 까지 로 제한 하 ㄴ다 . 다만 2 단계 부터 는 해제 하 ㄴ다 . 행사 나 집회 도 1 차 개편 에서 도 접종 완료 자와 음성 확인 자 의 경우 500 명 미만 으로 행사 를 열 수 있 다 . 3 차 개편 에 이르 면 행사 와 집회 에서 인원 제한 이 전면 해제 되 ㄴ다 . 이런 계획 이 이어지 기 위하 아 정부 는 자율 과 참여 를 기반 으로 일상 속 방역 실천 을 강화 하 ㄴ다는 방침 이 다 . 특히 실내 마스크 착용 과 전자 출입 명부 · 안심 콜 · 방명록 작성 등 은 앞으로 도 의무 적 으로 실시 하 고 , 방역 에서 지자체 의 역할 을 강화 하 아 각 지역 내 일상 회복 지원 위원회 가 자율 적 으로 방역 에 나서 ㄹ 수 있 도록 하 ㄴ다 . 1 차 개편 안 에 실내 마스크 착용 · 실외 마스크 착용 준수 가 포함 되 고 , 2 차 개편 부터 실외 에서 도 마스크 를 벗 는 내용 도 논의 되 고 있 다 . 또 코로나 확진 자 치료 는 무증상 · 경 증 확진 자 는 원격 모니터링 , 비대 이 면 진료 를 적극 적 으로 활용 하 ㄴ 재택 치료 를 기본 으로 하 고 , 24 시간 응급 이송 체계 를 확보 하 ㄹ 계획 이 다 . 다만 만 70 세 이상 고령 층 이나 호흡곤란 , 조절 되 지 않 는 발열 이나 당뇨 , 정신 질환자 , 투석 입원 환자 , 노숙 이 ㄴ , 감염 에 취약 하 ㄴ 주거 환경 ( 고시원 ) 거주자 , 의사소통 불능 자 등 은 경 증 · 무증상 자라 도 재택 치료 에서 제외 되 ㄴ다 . 한편 25 일 울산 에서 는 8 명 ( 울산 5387 ~ 5394 번 ) 의 신규 코로나 확진 자 가 발생 하 았 다 . 이 중 6 명 은 기존 확진 자와 접촉 으로 양성 판정 을 받 았 고 , 나머지 2 명 은 아직 감염 경로 가 확인 되 지 않 았 다 . 이런 가운데 울산 에서 도 이날 75 세 이상 고령 층 및 고 위험군 을 대상 으로 위탁 의료 기관 에서 추가 접종 도 실시 되 었 다 . 전상 헌 기자 honey @ ksilbo .co .kr ' ,\",\n",
              " \"' 류현진 ( 34 · 토론토 블루제이스 ) 이 세 번 째 도전 만 에 시즌 12 승 을 수확 하 았 다 . 류현진 은 22 일 ( 한국 시간 ) 캐나다 온타리오 주 토론토 의 로저스 센터 에서 열리 ㄴ 2021 미국 프로 야구 메이저 리그 디트로이트 타이거스 와 의 홈경기 에 선발 등판 , 7 이닝 무실점 완벽 투르 ㄹ 펼치 었 다 . 안타 5 개 와 볼넷 1 개 를 내주 었 으나 병살타 3 개 를 유도 하 며 한 점 도 허용 하 지 않 았 다 . 삼진 은 5 개 솎 아 내 었 고 , 볼넷 은 1 개 내주 었 다 . 앞서 ㄴ 2 경기 도합 10 이닝 동안 11 실점 하 며 승리 없이 1 패 만 은 떠안 은 류현진 은 안방 에서 무실점 투구 로 다시 일어서 었 다 . 3 대 0 승리 를 이끌 며 팀 의 3 연패 를 끊 어 내 ㄴ 호투 이 었 기 에 더욱 값 지 었 다 . 류현진 은 시즌 평균 자책점 을 3 . 72 에서 3 . 54 로 낮추 었 다 . 류현진 은 지나 ㄴ 4 일 클리블랜드 인디언스 를 상대로 11 승 을 거두 ㄴ 이렇 어 세 번 째 도전 만 에 승수 를 추가 하 고 크리스 배싯(오클랜드 애슬레틱스 ) , 게릿 콜 ( 뉴욕 양키스 ) 과 함께 아메리칸 리그 ( AL ) 다승 공동 1 위 로 오르 아 서 었 다 . 류현진 은 디트로이트 를 상대로 통산 두 번 등판 하 아 1 패 , 평균 자책점 8 . 59 를 남기 었 다 . 로스앤젤레스 다저스 에서 뛰 던 2014년 과 2017 년 에 한 번 씩 등판 하 ㄴ 결과 이 었 다 . 토론토 유니폼 으로 갈아입 고 다시 만나 ㄴ 디트로이트 를 상대로 류현진 은 에이스 다운 위용 을 과시 하 았 다 . 야구 통계 사이트 베이스볼 서 번트 를 보 면 , 류현진 은 이날 투구 수 105 개 를 포 심 패스트 보 ㄹ 40 개 ( 38 % ) , 체인지업 29 개 ( 28 % ) , 컷 패스트 보 ㄹ 22 개 ( 21 % ) , 커브 14 개 ( 13 % ) 로 채우 었 다 . 포 심 패스트 보 ㄹ 평균 시속 은 90 . 8마일 ( 약 146 ㎞ ) , 최고 시속 은 93 . 5 마일 ( 약 150 ㎞ ) 이 었 다 . 체인지업 이 주효 하 았 다 . 1 회 초 요 나타 ㄴ 스호프를 상대로 첫 삼진 을 잡 은 공도 체인지업 이 다 . 2 볼 -2 스트라이크 에서 스호프의 방망이 는 체인지업 에 홀리 어 헛돌 았 다 . 5 회 초 와 6 회 초 에 잡 은 삼진 도 모두 체인지업 이 결정구 이 었 다 . 체인지업 은 이날 땅볼 제조기 역할 도 하 았 다 . 류현진 은 이날 11 개 의 땅볼 을 유도 하 았 는데 , 이 가운데 6 개 를 체인지업 으로 만들 어 내 었 다 . 류현진 은 특히 이날 병살타 3 개 를 잡아내 었 다 . 1 · 4 · 7 회 초 에 1 개 씩 , 각각 커터 , 체인지업 , 포 심 패스트 볼 로 병살 을 유도 하 았 다 . 4 회 초 1 사 1루 에서 는 개인 통산 500 홈런 에 1 홈런 남기 어 두 ㄴ 미겔 카브레라 를 상대로 체인지업 을 던지 어 유격수 - 2루수 - 1루수 병살타 로 이닝 을 끝내 었 다 . 7 회 초 에 는 카브레라에게 볼넷 을 던지 어 1 사 1루 에 몰리 었 다 . 위기 이 었 다 . 찰리 몬 토요 토론토 감독 은 지나 ㄴ 15 일 시애틀 전 에서 는 7 회 볼넷 을 던지 어 1 사 1 , 3루 에 몰리 ㄴ 류현진 을 즉시 교체 하 았 지만 , 이날 은 류현진 을 믿 고 지켜보 았 다 . 시애틀 전 에서 는 교체 되 ㄴ 투수 트레 버 리처즈가 3 점 홈런 을 맞 아 불펜 작전 이 실패 로 돌아가 았 다 . 류현진 은 해롤드 카스트로 와 풀 ㄹ 카운트 로 맞서 다가 2루수 - 유격수 - 1루수 병살타 로 깔끔 하 게 처리 하 며 스스로 불 을 끄 었 다 . 류현진 은 경기 후 “ 모든 구종 이 잘 통하 았 고 힘 도 있 었 다고 생각 하 ㄴ다 ” 고 만족감 을 드러내 면서 “ 제구 , 특히 체인지업 이 오늘 굉장히 만족 하 게 가 면서 범타 와 삼진 을 만들 ㄹ 수 있 었 다 ” 고 말 하 았 다 . 연합뉴스 '\"]"
            ]
          },
          "metadata": {},
          "execution_count": 60
        }
      ]
    },
    {
      "cell_type": "code",
      "source": [
        "# DTM 테이블로 정리\n",
        "from sklearn.feature_extraction.text import CountVectorizer\n",
        "vect = CountVectorizer()\n",
        "vect.fit(docs)\n",
        "vocab = vect.vocabulary_\n",
        "dtm = vect.transform(docs).toarray()\n",
        "col = vect.get_feature_names_out()\n",
        "pd.DataFrame(dtm, columns=col)\n"
      ],
      "metadata": {
        "colab": {
          "base_uri": "https://localhost:8080/",
          "height": 235
        },
        "id": "_so2D-pccAP-",
        "outputId": "a348cd84-30ae-4289-fbf9-f718e7635369"
      },
      "id": "_so2D-pccAP-",
      "execution_count": 97,
      "outputs": [
        {
          "output_type": "execute_result",
          "data": {
            "text/plain": [
              "   00  02  021  06  10  1000  105  11  116  11월  ...  확인  확진  환경  환자  활용  회복  \\\n",
              "0   0   0    1   0   1     1    0   2    0    1  ...   0   0   0   0   0   0   \n",
              "1   2   1    1   1   0     0    0   2    0    0  ...   0   0   0   0   0   0   \n",
              "2   0   0    0   0   0     0    0   1    1    0  ...   0   0   0   0   0   0   \n",
              "3   0   0    0   0   2     0    0   1    0    0  ...   3   4   1   1   1   3   \n",
              "4   0   0    0   0   1     0    1   3    0    0  ...   0   0   0   0   0   0   \n",
              "\n",
              "   회복세  효과  휘발유  힘입  \n",
              "0    0   0    0   0  \n",
              "1    1   0    0   1  \n",
              "2    0   1    3   0  \n",
              "3    0   0    0   0  \n",
              "4    0   0    0   0  \n",
              "\n",
              "[5 rows x 692 columns]"
            ],
            "text/html": [
              "\n",
              "  <div id=\"df-565540e6-acf0-465e-a98e-18238f6d3a27\" class=\"colab-df-container\">\n",
              "    <div>\n",
              "<style scoped>\n",
              "    .dataframe tbody tr th:only-of-type {\n",
              "        vertical-align: middle;\n",
              "    }\n",
              "\n",
              "    .dataframe tbody tr th {\n",
              "        vertical-align: top;\n",
              "    }\n",
              "\n",
              "    .dataframe thead th {\n",
              "        text-align: right;\n",
              "    }\n",
              "</style>\n",
              "<table border=\"1\" class=\"dataframe\">\n",
              "  <thead>\n",
              "    <tr style=\"text-align: right;\">\n",
              "      <th></th>\n",
              "      <th>00</th>\n",
              "      <th>02</th>\n",
              "      <th>021</th>\n",
              "      <th>06</th>\n",
              "      <th>10</th>\n",
              "      <th>1000</th>\n",
              "      <th>105</th>\n",
              "      <th>11</th>\n",
              "      <th>116</th>\n",
              "      <th>11월</th>\n",
              "      <th>...</th>\n",
              "      <th>확인</th>\n",
              "      <th>확진</th>\n",
              "      <th>환경</th>\n",
              "      <th>환자</th>\n",
              "      <th>활용</th>\n",
              "      <th>회복</th>\n",
              "      <th>회복세</th>\n",
              "      <th>효과</th>\n",
              "      <th>휘발유</th>\n",
              "      <th>힘입</th>\n",
              "    </tr>\n",
              "  </thead>\n",
              "  <tbody>\n",
              "    <tr>\n",
              "      <th>0</th>\n",
              "      <td>0</td>\n",
              "      <td>0</td>\n",
              "      <td>1</td>\n",
              "      <td>0</td>\n",
              "      <td>1</td>\n",
              "      <td>1</td>\n",
              "      <td>0</td>\n",
              "      <td>2</td>\n",
              "      <td>0</td>\n",
              "      <td>1</td>\n",
              "      <td>...</td>\n",
              "      <td>0</td>\n",
              "      <td>0</td>\n",
              "      <td>0</td>\n",
              "      <td>0</td>\n",
              "      <td>0</td>\n",
              "      <td>0</td>\n",
              "      <td>0</td>\n",
              "      <td>0</td>\n",
              "      <td>0</td>\n",
              "      <td>0</td>\n",
              "    </tr>\n",
              "    <tr>\n",
              "      <th>1</th>\n",
              "      <td>2</td>\n",
              "      <td>1</td>\n",
              "      <td>1</td>\n",
              "      <td>1</td>\n",
              "      <td>0</td>\n",
              "      <td>0</td>\n",
              "      <td>0</td>\n",
              "      <td>2</td>\n",
              "      <td>0</td>\n",
              "      <td>0</td>\n",
              "      <td>...</td>\n",
              "      <td>0</td>\n",
              "      <td>0</td>\n",
              "      <td>0</td>\n",
              "      <td>0</td>\n",
              "      <td>0</td>\n",
              "      <td>0</td>\n",
              "      <td>1</td>\n",
              "      <td>0</td>\n",
              "      <td>0</td>\n",
              "      <td>1</td>\n",
              "    </tr>\n",
              "    <tr>\n",
              "      <th>2</th>\n",
              "      <td>0</td>\n",
              "      <td>0</td>\n",
              "      <td>0</td>\n",
              "      <td>0</td>\n",
              "      <td>0</td>\n",
              "      <td>0</td>\n",
              "      <td>0</td>\n",
              "      <td>1</td>\n",
              "      <td>1</td>\n",
              "      <td>0</td>\n",
              "      <td>...</td>\n",
              "      <td>0</td>\n",
              "      <td>0</td>\n",
              "      <td>0</td>\n",
              "      <td>0</td>\n",
              "      <td>0</td>\n",
              "      <td>0</td>\n",
              "      <td>0</td>\n",
              "      <td>1</td>\n",
              "      <td>3</td>\n",
              "      <td>0</td>\n",
              "    </tr>\n",
              "    <tr>\n",
              "      <th>3</th>\n",
              "      <td>0</td>\n",
              "      <td>0</td>\n",
              "      <td>0</td>\n",
              "      <td>0</td>\n",
              "      <td>2</td>\n",
              "      <td>0</td>\n",
              "      <td>0</td>\n",
              "      <td>1</td>\n",
              "      <td>0</td>\n",
              "      <td>0</td>\n",
              "      <td>...</td>\n",
              "      <td>3</td>\n",
              "      <td>4</td>\n",
              "      <td>1</td>\n",
              "      <td>1</td>\n",
              "      <td>1</td>\n",
              "      <td>3</td>\n",
              "      <td>0</td>\n",
              "      <td>0</td>\n",
              "      <td>0</td>\n",
              "      <td>0</td>\n",
              "    </tr>\n",
              "    <tr>\n",
              "      <th>4</th>\n",
              "      <td>0</td>\n",
              "      <td>0</td>\n",
              "      <td>0</td>\n",
              "      <td>0</td>\n",
              "      <td>1</td>\n",
              "      <td>0</td>\n",
              "      <td>1</td>\n",
              "      <td>3</td>\n",
              "      <td>0</td>\n",
              "      <td>0</td>\n",
              "      <td>...</td>\n",
              "      <td>0</td>\n",
              "      <td>0</td>\n",
              "      <td>0</td>\n",
              "      <td>0</td>\n",
              "      <td>0</td>\n",
              "      <td>0</td>\n",
              "      <td>0</td>\n",
              "      <td>0</td>\n",
              "      <td>0</td>\n",
              "      <td>0</td>\n",
              "    </tr>\n",
              "  </tbody>\n",
              "</table>\n",
              "<p>5 rows × 692 columns</p>\n",
              "</div>\n",
              "    <div class=\"colab-df-buttons\">\n",
              "\n",
              "  <div class=\"colab-df-container\">\n",
              "    <button class=\"colab-df-convert\" onclick=\"convertToInteractive('df-565540e6-acf0-465e-a98e-18238f6d3a27')\"\n",
              "            title=\"Convert this dataframe to an interactive table.\"\n",
              "            style=\"display:none;\">\n",
              "\n",
              "  <svg xmlns=\"http://www.w3.org/2000/svg\" height=\"24px\" viewBox=\"0 -960 960 960\">\n",
              "    <path d=\"M120-120v-720h720v720H120Zm60-500h600v-160H180v160Zm220 220h160v-160H400v160Zm0 220h160v-160H400v160ZM180-400h160v-160H180v160Zm440 0h160v-160H620v160ZM180-180h160v-160H180v160Zm440 0h160v-160H620v160Z\"/>\n",
              "  </svg>\n",
              "    </button>\n",
              "\n",
              "  <style>\n",
              "    .colab-df-container {\n",
              "      display:flex;\n",
              "      gap: 12px;\n",
              "    }\n",
              "\n",
              "    .colab-df-convert {\n",
              "      background-color: #E8F0FE;\n",
              "      border: none;\n",
              "      border-radius: 50%;\n",
              "      cursor: pointer;\n",
              "      display: none;\n",
              "      fill: #1967D2;\n",
              "      height: 32px;\n",
              "      padding: 0 0 0 0;\n",
              "      width: 32px;\n",
              "    }\n",
              "\n",
              "    .colab-df-convert:hover {\n",
              "      background-color: #E2EBFA;\n",
              "      box-shadow: 0px 1px 2px rgba(60, 64, 67, 0.3), 0px 1px 3px 1px rgba(60, 64, 67, 0.15);\n",
              "      fill: #174EA6;\n",
              "    }\n",
              "\n",
              "    .colab-df-buttons div {\n",
              "      margin-bottom: 4px;\n",
              "    }\n",
              "\n",
              "    [theme=dark] .colab-df-convert {\n",
              "      background-color: #3B4455;\n",
              "      fill: #D2E3FC;\n",
              "    }\n",
              "\n",
              "    [theme=dark] .colab-df-convert:hover {\n",
              "      background-color: #434B5C;\n",
              "      box-shadow: 0px 1px 3px 1px rgba(0, 0, 0, 0.15);\n",
              "      filter: drop-shadow(0px 1px 2px rgba(0, 0, 0, 0.3));\n",
              "      fill: #FFFFFF;\n",
              "    }\n",
              "  </style>\n",
              "\n",
              "    <script>\n",
              "      const buttonEl =\n",
              "        document.querySelector('#df-565540e6-acf0-465e-a98e-18238f6d3a27 button.colab-df-convert');\n",
              "      buttonEl.style.display =\n",
              "        google.colab.kernel.accessAllowed ? 'block' : 'none';\n",
              "\n",
              "      async function convertToInteractive(key) {\n",
              "        const element = document.querySelector('#df-565540e6-acf0-465e-a98e-18238f6d3a27');\n",
              "        const dataTable =\n",
              "          await google.colab.kernel.invokeFunction('convertToInteractive',\n",
              "                                                    [key], {});\n",
              "        if (!dataTable) return;\n",
              "\n",
              "        const docLinkHtml = 'Like what you see? Visit the ' +\n",
              "          '<a target=\"_blank\" href=https://colab.research.google.com/notebooks/data_table.ipynb>data table notebook</a>'\n",
              "          + ' to learn more about interactive tables.';\n",
              "        element.innerHTML = '';\n",
              "        dataTable['output_type'] = 'display_data';\n",
              "        await google.colab.output.renderOutput(dataTable, element);\n",
              "        const docLink = document.createElement('div');\n",
              "        docLink.innerHTML = docLinkHtml;\n",
              "        element.appendChild(docLink);\n",
              "      }\n",
              "    </script>\n",
              "  </div>\n",
              "\n",
              "\n",
              "<div id=\"df-72f86f01-ec78-4212-a07b-5ba5a70bbb77\">\n",
              "  <button class=\"colab-df-quickchart\" onclick=\"quickchart('df-72f86f01-ec78-4212-a07b-5ba5a70bbb77')\"\n",
              "            title=\"Suggest charts\"\n",
              "            style=\"display:none;\">\n",
              "\n",
              "<svg xmlns=\"http://www.w3.org/2000/svg\" height=\"24px\"viewBox=\"0 0 24 24\"\n",
              "     width=\"24px\">\n",
              "    <g>\n",
              "        <path d=\"M19 3H5c-1.1 0-2 .9-2 2v14c0 1.1.9 2 2 2h14c1.1 0 2-.9 2-2V5c0-1.1-.9-2-2-2zM9 17H7v-7h2v7zm4 0h-2V7h2v10zm4 0h-2v-4h2v4z\"/>\n",
              "    </g>\n",
              "</svg>\n",
              "  </button>\n",
              "\n",
              "<style>\n",
              "  .colab-df-quickchart {\n",
              "      --bg-color: #E8F0FE;\n",
              "      --fill-color: #1967D2;\n",
              "      --hover-bg-color: #E2EBFA;\n",
              "      --hover-fill-color: #174EA6;\n",
              "      --disabled-fill-color: #AAA;\n",
              "      --disabled-bg-color: #DDD;\n",
              "  }\n",
              "\n",
              "  [theme=dark] .colab-df-quickchart {\n",
              "      --bg-color: #3B4455;\n",
              "      --fill-color: #D2E3FC;\n",
              "      --hover-bg-color: #434B5C;\n",
              "      --hover-fill-color: #FFFFFF;\n",
              "      --disabled-bg-color: #3B4455;\n",
              "      --disabled-fill-color: #666;\n",
              "  }\n",
              "\n",
              "  .colab-df-quickchart {\n",
              "    background-color: var(--bg-color);\n",
              "    border: none;\n",
              "    border-radius: 50%;\n",
              "    cursor: pointer;\n",
              "    display: none;\n",
              "    fill: var(--fill-color);\n",
              "    height: 32px;\n",
              "    padding: 0;\n",
              "    width: 32px;\n",
              "  }\n",
              "\n",
              "  .colab-df-quickchart:hover {\n",
              "    background-color: var(--hover-bg-color);\n",
              "    box-shadow: 0 1px 2px rgba(60, 64, 67, 0.3), 0 1px 3px 1px rgba(60, 64, 67, 0.15);\n",
              "    fill: var(--button-hover-fill-color);\n",
              "  }\n",
              "\n",
              "  .colab-df-quickchart-complete:disabled,\n",
              "  .colab-df-quickchart-complete:disabled:hover {\n",
              "    background-color: var(--disabled-bg-color);\n",
              "    fill: var(--disabled-fill-color);\n",
              "    box-shadow: none;\n",
              "  }\n",
              "\n",
              "  .colab-df-spinner {\n",
              "    border: 2px solid var(--fill-color);\n",
              "    border-color: transparent;\n",
              "    border-bottom-color: var(--fill-color);\n",
              "    animation:\n",
              "      spin 1s steps(1) infinite;\n",
              "  }\n",
              "\n",
              "  @keyframes spin {\n",
              "    0% {\n",
              "      border-color: transparent;\n",
              "      border-bottom-color: var(--fill-color);\n",
              "      border-left-color: var(--fill-color);\n",
              "    }\n",
              "    20% {\n",
              "      border-color: transparent;\n",
              "      border-left-color: var(--fill-color);\n",
              "      border-top-color: var(--fill-color);\n",
              "    }\n",
              "    30% {\n",
              "      border-color: transparent;\n",
              "      border-left-color: var(--fill-color);\n",
              "      border-top-color: var(--fill-color);\n",
              "      border-right-color: var(--fill-color);\n",
              "    }\n",
              "    40% {\n",
              "      border-color: transparent;\n",
              "      border-right-color: var(--fill-color);\n",
              "      border-top-color: var(--fill-color);\n",
              "    }\n",
              "    60% {\n",
              "      border-color: transparent;\n",
              "      border-right-color: var(--fill-color);\n",
              "    }\n",
              "    80% {\n",
              "      border-color: transparent;\n",
              "      border-right-color: var(--fill-color);\n",
              "      border-bottom-color: var(--fill-color);\n",
              "    }\n",
              "    90% {\n",
              "      border-color: transparent;\n",
              "      border-bottom-color: var(--fill-color);\n",
              "    }\n",
              "  }\n",
              "</style>\n",
              "\n",
              "  <script>\n",
              "    async function quickchart(key) {\n",
              "      const quickchartButtonEl =\n",
              "        document.querySelector('#' + key + ' button');\n",
              "      quickchartButtonEl.disabled = true;  // To prevent multiple clicks.\n",
              "      quickchartButtonEl.classList.add('colab-df-spinner');\n",
              "      try {\n",
              "        const charts = await google.colab.kernel.invokeFunction(\n",
              "            'suggestCharts', [key], {});\n",
              "      } catch (error) {\n",
              "        console.error('Error during call to suggestCharts:', error);\n",
              "      }\n",
              "      quickchartButtonEl.classList.remove('colab-df-spinner');\n",
              "      quickchartButtonEl.classList.add('colab-df-quickchart-complete');\n",
              "    }\n",
              "    (() => {\n",
              "      let quickchartButtonEl =\n",
              "        document.querySelector('#df-72f86f01-ec78-4212-a07b-5ba5a70bbb77 button');\n",
              "      quickchartButtonEl.style.display =\n",
              "        google.colab.kernel.accessAllowed ? 'block' : 'none';\n",
              "    })();\n",
              "  </script>\n",
              "</div>\n",
              "    </div>\n",
              "  </div>\n"
            ],
            "application/vnd.google.colaboratory.intrinsic+json": {
              "type": "dataframe"
            }
          },
          "metadata": {},
          "execution_count": 97
        }
      ]
    },
    {
      "cell_type": "code",
      "source": [
        "# 단어사전의 id로 단어찾기 준비\n",
        "vocab_words = {v:k for k,v in vocab.items()}\n",
        "vocab_words[9]"
      ],
      "metadata": {
        "colab": {
          "base_uri": "https://localhost:8080/",
          "height": 35
        },
        "id": "5_i5ICsph_Ct",
        "outputId": "5247709a-e42a-4422-e83b-ca8e50303811"
      },
      "id": "5_i5ICsph_Ct",
      "execution_count": 98,
      "outputs": [
        {
          "output_type": "execute_result",
          "data": {
            "text/plain": [
              "'11월'"
            ],
            "application/vnd.google.colaboratory.intrinsic+json": {
              "type": "string"
            }
          },
          "metadata": {},
          "execution_count": 98
        }
      ]
    },
    {
      "cell_type": "code",
      "source": [
        "# 많이 등장하는 단어로 주제 식별\n",
        "import numpy as np\n",
        "dtm_order = np.flip(np.argsort(dtm, axis=-1), axis=-1)\n",
        "for line in dtm_order:\n",
        "    str_order = [vocab_words[_id] for _id in line[:10] ]\n",
        "    print(str_order)\n"
      ],
      "metadata": {
        "colab": {
          "base_uri": "https://localhost:8080/"
        },
        "id": "CuIubJwkcEWZ",
        "outputId": "c2b163fa-8e60-4c38-8529-517b35e08418"
      },
      "id": "CuIubJwkcEWZ",
      "execution_count": 99,
      "outputs": [
        {
          "output_type": "stream",
          "name": "stdout",
          "text": [
            "['중소기업', '으로', '울산', '매출액', '전국', '증가', '지역', '여성', '보다', '차지']\n",
            "['오피스텔', '가격', '상승', '울산', '전세', '전국', '아파트', '으로', '지역', '7월']\n",
            "['으로', '인하', '정부', '휘발유', '대하', '유류', '관리', '개월', '당정', 'lpg']\n",
            "['에서', '단계', 'ㄴ다', '으로', '코로나', '제한', '개편', '확진', '마스크', '해제']\n",
            "['류현진', '체인지업', '에서', '이날', '상대로', '패스트', '삼진', '볼넷', '토론토', '병살타']\n"
          ]
        }
      ]
    },
    {
      "cell_type": "code",
      "source": [
        "# 전체 문서의 정보 요약\n",
        "count_id = np.flip(np.argsort(dtm.sum(axis=0), axis=-1), axis=-1)\n",
        "print(count_id[:10])\n",
        "for id in count_id[:10]:\n",
        "    print(vocab_words[id], dtm.sum(axis=0)[id])"
      ],
      "metadata": {
        "colab": {
          "base_uri": "https://localhost:8080/"
        },
        "id": "9OOrqB7qvGHc",
        "outputId": "f2b1bf58-e2c3-4bd5-bd6b-0bbd2efa6948"
      },
      "id": "9OOrqB7qvGHc",
      "execution_count": 103,
      "outputs": [
        {
          "output_type": "stream",
          "name": "stdout",
          "text": [
            "[486 461 431 572 363 451 108 106 533 269]\n",
            "으로 32\n",
            "울산 26\n",
            "에서 24\n",
            "중소기업 22\n",
            "상승 17\n",
            "오피스텔 17\n",
            "가격 16\n",
            "ㄴ다 15\n",
            "전국 15\n",
            "류현진 14\n"
          ]
        }
      ]
    },
    {
      "cell_type": "markdown",
      "source": [
        "## 9.4.2 TF-IDF(Term Frequencey - Inverse Document Frequency)"
      ],
      "metadata": {
        "id": "luko1XeAvhsL"
      },
      "id": "luko1XeAvhsL"
    },
    {
      "cell_type": "code",
      "source": [
        "import numpy as np\n",
        "tf = dtm\n",
        "df = np.sum(tf > 0, axis=0)\n",
        "n_df = tf.shape[0] / df\n",
        "idf = np.log(n_df)\n",
        "print(tf.shape, df.shape, n_df.shape, idf.shape)\n",
        "print('세개의문서에서 3번, 1번 등장횟수별 IDF값', round(np.log(5/3),2), round(np.log(5/1),2))\n",
        "print([round(num,2) for num in idf])"
      ],
      "metadata": {
        "colab": {
          "base_uri": "https://localhost:8080/"
        },
        "id": "Y19OdwFqvg2U",
        "outputId": "c68c98a3-922a-4f93-c4f5-cbc66bdebd48"
      },
      "id": "Y19OdwFqvg2U",
      "execution_count": 104,
      "outputs": [
        {
          "output_type": "stream",
          "name": "stdout",
          "text": [
            "(5, 692) (692,) (692,) (692,)\n",
            "세개의문서에서 3번, 1번 등장횟수별 IDF값 0.51 1.61\n",
            "[1.61, 1.61, 0.92, 1.61, 0.51, 1.61, 1.61, 0.0, 1.61, 1.61, 0.22, 0.92, 1.61, 1.61, 1.61, 0.92, 1.61, 1.61, 1.61, 1.61, 1.61, 1.61, 1.61, 1.61, 1.61, 0.92, 1.61, 1.61, 1.61, 1.61, 1.61, 1.61, 1.61, 1.61, 1.61, 1.61, 1.61, 1.61, 1.61, 0.92, 1.61, 0.92, 1.61, 0.92, 1.61, 1.61, 1.61, 0.92, 0.92, 0.92, 1.61, 1.61, 1.61, 1.61, 1.61, 0.51, 1.61, 1.61, 1.61, 1.61, 1.61, 1.61, 1.61, 0.92, 1.61, 1.61, 1.61, 1.61, 1.61, 1.61, 1.61, 1.61, 1.61, 1.61, 1.61, 1.61, 1.61, 1.61, 1.61, 1.61, 1.61, 1.61, 1.61, 1.61, 1.61, 1.61, 1.61, 1.61, 1.61, 1.61, 1.61, 1.61, 1.61, 1.61, 1.61, 1.61, 0.22, 1.61, 1.61, 0.92, 0.22, 0.22, 1.61, 1.61, 1.61, 1.61, 0.0, 1.61, 1.61, 1.61, 1.61, 0.92, 0.92, 0.92, 1.61, 1.61, 1.61, 1.61, 1.61, 1.61, 1.61, 1.61, 0.92, 1.61, 0.92, 1.61, 1.61, 1.61, 1.61, 1.61, 1.61, 1.61, 1.61, 1.61, 1.61, 1.61, 1.61, 1.61, 0.51, 1.61, 1.61, 1.61, 1.61, 0.92, 1.61, 1.61, 0.51, 1.61, 1.61, 1.61, 1.61, 1.61, 1.61, 1.61, 1.61, 1.61, 1.61, 1.61, 1.61, 1.61, 1.61, 1.61, 1.61, 1.61, 1.61, 1.61, 1.61, 1.61, 1.61, 1.61, 1.61, 1.61, 1.61, 1.61, 0.92, 1.61, 1.61, 1.61, 1.61, 1.61, 0.51, 1.61, 1.61, 1.61, 0.92, 1.61, 0.92, 1.61, 1.61, 0.51, 1.61, 1.61, 1.61, 1.61, 1.61, 1.61, 0.51, 1.61, 1.61, 1.61, 1.61, 1.61, 0.92, 1.61, 1.61, 1.61, 1.61, 1.61, 1.61, 1.61, 1.61, 1.61, 1.61, 1.61, 0.92, 1.61, 1.61, 1.61, 1.61, 1.61, 1.61, 1.61, 1.61, 1.61, 1.61, 1.61, 1.61, 1.61, 1.61, 1.61, 1.61, 1.61, 1.61, 1.61, 1.61, 1.61, 1.61, 1.61, 1.61, 1.61, 0.92, 1.61, 1.61, 1.61, 1.61, 1.61, 1.61, 1.61, 1.61, 1.61, 1.61, 1.61, 0.92, 1.61, 1.61, 1.61, 1.61, 1.61, 1.61, 1.61, 0.92, 1.61, 1.61, 1.61, 1.61, 1.61, 1.61, 1.61, 1.61, 1.61, 1.61, 1.61, 1.61, 1.61, 1.61, 1.61, 1.61, 1.61, 1.61, 1.61, 1.61, 1.61, 1.61, 1.61, 1.61, 1.61, 1.61, 1.61, 1.61, 1.61, 0.92, 1.61, 1.61, 1.61, 0.92, 1.61, 1.61, 1.61, 1.61, 1.61, 1.61, 1.61, 1.61, 1.61, 1.61, 1.61, 1.61, 1.61, 1.61, 1.61, 1.61, 1.61, 0.92, 1.61, 1.61, 1.61, 1.61, 1.61, 1.61, 1.61, 1.61, 1.61, 1.61, 1.61, 1.61, 1.61, 1.61, 1.61, 1.61, 0.92, 1.61, 1.61, 1.61, 1.61, 0.92, 1.61, 0.92, 1.61, 1.61, 1.61, 1.61, 0.51, 0.92, 0.92, 1.61, 1.61, 1.61, 1.61, 1.61, 1.61, 1.61, 1.61, 1.61, 1.61, 1.61, 1.61, 1.61, 0.92, 0.92, 1.61, 1.61, 0.92, 1.61, 0.92, 1.61, 1.61, 1.61, 1.61, 1.61, 0.92, 1.61, 1.61, 1.61, 1.61, 1.61, 1.61, 1.61, 1.61, 1.61, 1.61, 1.61, 1.61, 1.61, 1.61, 1.61, 1.61, 1.61, 1.61, 1.61, 0.92, 1.61, 1.61, 1.61, 1.61, 1.61, 1.61, 1.61, 1.61, 1.61, 1.61, 0.92, 1.61, 1.61, 1.61, 1.61, 1.61, 1.61, 1.61, 1.61, 1.61, 1.61, 1.61, 1.61, 1.61, 1.61, 1.61, 1.61, 1.61, 1.61, 1.61, 1.61, 1.61, 1.61, 1.61, 1.61, 1.61, 1.61, 1.61, 1.61, 1.61, 1.61, 0.0, 1.61, 1.61, 1.61, 1.61, 0.51, 0.92, 1.61, 1.61, 1.61, 1.61, 1.61, 1.61, 1.61, 1.61, 1.61, 1.61, 0.92, 1.61, 1.61, 1.61, 1.61, 1.61, 1.61, 1.61, 1.61, 1.61, 1.61, 1.61, 1.61, 0.51, 1.61, 1.61, 1.61, 1.61, 1.61, 1.61, 1.61, 1.61, 1.61, 1.61, 1.61, 1.61, 1.61, 1.61, 1.61, 1.61, 1.61, 1.61, 1.61, 1.61, 1.61, 1.61, 1.61, 0.92, 0.0, 1.61, 1.61, 1.61, 1.61, 1.61, 1.61, 1.61, 0.92, 0.22, 1.61, 1.61, 0.92, 1.61, 0.92, 1.61, 0.92, 1.61, 1.61, 1.61, 1.61, 1.61, 1.61, 1.61, 1.61, 1.61, 1.61, 1.61, 1.61, 1.61, 1.61, 1.61, 1.61, 1.61, 1.61, 1.61, 1.61, 1.61, 1.61, 1.61, 0.92, 1.61, 1.61, 1.61, 1.61, 1.61, 1.61, 0.92, 1.61, 1.61, 1.61, 1.61, 1.61, 1.61, 1.61, 1.61, 0.92, 1.61, 1.61, 1.61, 1.61, 1.61, 1.61, 0.92, 1.61, 1.61, 0.92, 1.61, 1.61, 1.61, 1.61, 1.61, 1.61, 1.61, 1.61, 1.61, 0.92, 0.92, 0.92, 1.61, 1.61, 1.61, 1.61, 1.61, 1.61, 1.61, 1.61, 1.61, 1.61, 0.92, 1.61, 1.61, 1.61, 1.61, 1.61, 1.61, 0.92, 1.61, 0.92, 0.51, 1.61, 1.61, 1.61, 1.61, 1.61, 1.61, 1.61, 1.61, 1.61, 0.92, 1.61, 1.61, 1.61, 1.61, 1.61, 1.61, 1.61, 1.61, 1.61, 1.61, 1.61, 0.92, 1.61, 1.61, 1.61, 1.61, 0.92, 0.92, 0.92, 1.61, 1.61, 1.61, 1.61, 1.61, 1.61, 1.61, 1.61, 1.61, 1.61, 1.61, 1.61, 1.61, 1.61, 1.61, 1.61, 1.61, 1.61, 1.61, 0.92, 1.61, 1.61, 1.61, 1.61, 1.61, 1.61, 1.61, 1.61, 0.22, 1.61, 1.61, 1.61, 1.61, 1.61, 1.61, 1.61, 1.61, 1.61, 1.61, 1.61, 1.61, 1.61, 1.61, 1.61, 1.61, 1.61, 1.61, 1.61, 0.92, 1.61, 1.61, 1.61, 1.61, 1.61, 1.61, 0.92, 1.61, 1.61, 1.61, 1.61, 1.61, 1.61, 1.61, 1.61, 1.61, 1.61, 1.61, 1.61, 1.61, 1.61, 1.61, 1.61, 1.61, 1.61, 1.61, 1.61, 1.61]\n"
          ]
        }
      ]
    },
    {
      "cell_type": "code",
      "source": [
        "import pandas as pd\n",
        "tf_idf=tf*idf\n",
        "pd.DataFrame(tf_idf, columns = col)"
      ],
      "metadata": {
        "colab": {
          "base_uri": "https://localhost:8080/",
          "height": 255
        },
        "id": "4_wXccmXvqrU",
        "outputId": "2d8944b8-a144-44aa-b6b7-e90f41c0fc4a"
      },
      "id": "4_wXccmXvqrU",
      "execution_count": 105,
      "outputs": [
        {
          "output_type": "execute_result",
          "data": {
            "text/plain": [
              "         00        02       021        06        10      1000       105   11  \\\n",
              "0  0.000000  0.000000  0.916291  0.000000  0.510826  1.609438  0.000000  0.0   \n",
              "1  3.218876  1.609438  0.916291  1.609438  0.000000  0.000000  0.000000  0.0   \n",
              "2  0.000000  0.000000  0.000000  0.000000  0.000000  0.000000  0.000000  0.0   \n",
              "3  0.000000  0.000000  0.000000  0.000000  1.021651  0.000000  0.000000  0.0   \n",
              "4  0.000000  0.000000  0.000000  0.000000  0.510826  0.000000  1.609438  0.0   \n",
              "\n",
              "        116       11월  ...        확인        확진        환경        환자        활용  \\\n",
              "0  0.000000  1.609438  ...  0.000000  0.000000  0.000000  0.000000  0.000000   \n",
              "1  0.000000  0.000000  ...  0.000000  0.000000  0.000000  0.000000  0.000000   \n",
              "2  1.609438  0.000000  ...  0.000000  0.000000  0.000000  0.000000  0.000000   \n",
              "3  0.000000  0.000000  ...  4.828314  6.437752  1.609438  1.609438  1.609438   \n",
              "4  0.000000  0.000000  ...  0.000000  0.000000  0.000000  0.000000  0.000000   \n",
              "\n",
              "         회복       회복세        효과       휘발유        힘입  \n",
              "0  0.000000  0.000000  0.000000  0.000000  0.000000  \n",
              "1  0.000000  1.609438  0.000000  0.000000  1.609438  \n",
              "2  0.000000  0.000000  1.609438  4.828314  0.000000  \n",
              "3  4.828314  0.000000  0.000000  0.000000  0.000000  \n",
              "4  0.000000  0.000000  0.000000  0.000000  0.000000  \n",
              "\n",
              "[5 rows x 692 columns]"
            ],
            "text/html": [
              "\n",
              "  <div id=\"df-ba16e29b-915c-4c43-9426-02097a1b335f\" class=\"colab-df-container\">\n",
              "    <div>\n",
              "<style scoped>\n",
              "    .dataframe tbody tr th:only-of-type {\n",
              "        vertical-align: middle;\n",
              "    }\n",
              "\n",
              "    .dataframe tbody tr th {\n",
              "        vertical-align: top;\n",
              "    }\n",
              "\n",
              "    .dataframe thead th {\n",
              "        text-align: right;\n",
              "    }\n",
              "</style>\n",
              "<table border=\"1\" class=\"dataframe\">\n",
              "  <thead>\n",
              "    <tr style=\"text-align: right;\">\n",
              "      <th></th>\n",
              "      <th>00</th>\n",
              "      <th>02</th>\n",
              "      <th>021</th>\n",
              "      <th>06</th>\n",
              "      <th>10</th>\n",
              "      <th>1000</th>\n",
              "      <th>105</th>\n",
              "      <th>11</th>\n",
              "      <th>116</th>\n",
              "      <th>11월</th>\n",
              "      <th>...</th>\n",
              "      <th>확인</th>\n",
              "      <th>확진</th>\n",
              "      <th>환경</th>\n",
              "      <th>환자</th>\n",
              "      <th>활용</th>\n",
              "      <th>회복</th>\n",
              "      <th>회복세</th>\n",
              "      <th>효과</th>\n",
              "      <th>휘발유</th>\n",
              "      <th>힘입</th>\n",
              "    </tr>\n",
              "  </thead>\n",
              "  <tbody>\n",
              "    <tr>\n",
              "      <th>0</th>\n",
              "      <td>0.000000</td>\n",
              "      <td>0.000000</td>\n",
              "      <td>0.916291</td>\n",
              "      <td>0.000000</td>\n",
              "      <td>0.510826</td>\n",
              "      <td>1.609438</td>\n",
              "      <td>0.000000</td>\n",
              "      <td>0.0</td>\n",
              "      <td>0.000000</td>\n",
              "      <td>1.609438</td>\n",
              "      <td>...</td>\n",
              "      <td>0.000000</td>\n",
              "      <td>0.000000</td>\n",
              "      <td>0.000000</td>\n",
              "      <td>0.000000</td>\n",
              "      <td>0.000000</td>\n",
              "      <td>0.000000</td>\n",
              "      <td>0.000000</td>\n",
              "      <td>0.000000</td>\n",
              "      <td>0.000000</td>\n",
              "      <td>0.000000</td>\n",
              "    </tr>\n",
              "    <tr>\n",
              "      <th>1</th>\n",
              "      <td>3.218876</td>\n",
              "      <td>1.609438</td>\n",
              "      <td>0.916291</td>\n",
              "      <td>1.609438</td>\n",
              "      <td>0.000000</td>\n",
              "      <td>0.000000</td>\n",
              "      <td>0.000000</td>\n",
              "      <td>0.0</td>\n",
              "      <td>0.000000</td>\n",
              "      <td>0.000000</td>\n",
              "      <td>...</td>\n",
              "      <td>0.000000</td>\n",
              "      <td>0.000000</td>\n",
              "      <td>0.000000</td>\n",
              "      <td>0.000000</td>\n",
              "      <td>0.000000</td>\n",
              "      <td>0.000000</td>\n",
              "      <td>1.609438</td>\n",
              "      <td>0.000000</td>\n",
              "      <td>0.000000</td>\n",
              "      <td>1.609438</td>\n",
              "    </tr>\n",
              "    <tr>\n",
              "      <th>2</th>\n",
              "      <td>0.000000</td>\n",
              "      <td>0.000000</td>\n",
              "      <td>0.000000</td>\n",
              "      <td>0.000000</td>\n",
              "      <td>0.000000</td>\n",
              "      <td>0.000000</td>\n",
              "      <td>0.000000</td>\n",
              "      <td>0.0</td>\n",
              "      <td>1.609438</td>\n",
              "      <td>0.000000</td>\n",
              "      <td>...</td>\n",
              "      <td>0.000000</td>\n",
              "      <td>0.000000</td>\n",
              "      <td>0.000000</td>\n",
              "      <td>0.000000</td>\n",
              "      <td>0.000000</td>\n",
              "      <td>0.000000</td>\n",
              "      <td>0.000000</td>\n",
              "      <td>1.609438</td>\n",
              "      <td>4.828314</td>\n",
              "      <td>0.000000</td>\n",
              "    </tr>\n",
              "    <tr>\n",
              "      <th>3</th>\n",
              "      <td>0.000000</td>\n",
              "      <td>0.000000</td>\n",
              "      <td>0.000000</td>\n",
              "      <td>0.000000</td>\n",
              "      <td>1.021651</td>\n",
              "      <td>0.000000</td>\n",
              "      <td>0.000000</td>\n",
              "      <td>0.0</td>\n",
              "      <td>0.000000</td>\n",
              "      <td>0.000000</td>\n",
              "      <td>...</td>\n",
              "      <td>4.828314</td>\n",
              "      <td>6.437752</td>\n",
              "      <td>1.609438</td>\n",
              "      <td>1.609438</td>\n",
              "      <td>1.609438</td>\n",
              "      <td>4.828314</td>\n",
              "      <td>0.000000</td>\n",
              "      <td>0.000000</td>\n",
              "      <td>0.000000</td>\n",
              "      <td>0.000000</td>\n",
              "    </tr>\n",
              "    <tr>\n",
              "      <th>4</th>\n",
              "      <td>0.000000</td>\n",
              "      <td>0.000000</td>\n",
              "      <td>0.000000</td>\n",
              "      <td>0.000000</td>\n",
              "      <td>0.510826</td>\n",
              "      <td>0.000000</td>\n",
              "      <td>1.609438</td>\n",
              "      <td>0.0</td>\n",
              "      <td>0.000000</td>\n",
              "      <td>0.000000</td>\n",
              "      <td>...</td>\n",
              "      <td>0.000000</td>\n",
              "      <td>0.000000</td>\n",
              "      <td>0.000000</td>\n",
              "      <td>0.000000</td>\n",
              "      <td>0.000000</td>\n",
              "      <td>0.000000</td>\n",
              "      <td>0.000000</td>\n",
              "      <td>0.000000</td>\n",
              "      <td>0.000000</td>\n",
              "      <td>0.000000</td>\n",
              "    </tr>\n",
              "  </tbody>\n",
              "</table>\n",
              "<p>5 rows × 692 columns</p>\n",
              "</div>\n",
              "    <div class=\"colab-df-buttons\">\n",
              "\n",
              "  <div class=\"colab-df-container\">\n",
              "    <button class=\"colab-df-convert\" onclick=\"convertToInteractive('df-ba16e29b-915c-4c43-9426-02097a1b335f')\"\n",
              "            title=\"Convert this dataframe to an interactive table.\"\n",
              "            style=\"display:none;\">\n",
              "\n",
              "  <svg xmlns=\"http://www.w3.org/2000/svg\" height=\"24px\" viewBox=\"0 -960 960 960\">\n",
              "    <path d=\"M120-120v-720h720v720H120Zm60-500h600v-160H180v160Zm220 220h160v-160H400v160Zm0 220h160v-160H400v160ZM180-400h160v-160H180v160Zm440 0h160v-160H620v160ZM180-180h160v-160H180v160Zm440 0h160v-160H620v160Z\"/>\n",
              "  </svg>\n",
              "    </button>\n",
              "\n",
              "  <style>\n",
              "    .colab-df-container {\n",
              "      display:flex;\n",
              "      gap: 12px;\n",
              "    }\n",
              "\n",
              "    .colab-df-convert {\n",
              "      background-color: #E8F0FE;\n",
              "      border: none;\n",
              "      border-radius: 50%;\n",
              "      cursor: pointer;\n",
              "      display: none;\n",
              "      fill: #1967D2;\n",
              "      height: 32px;\n",
              "      padding: 0 0 0 0;\n",
              "      width: 32px;\n",
              "    }\n",
              "\n",
              "    .colab-df-convert:hover {\n",
              "      background-color: #E2EBFA;\n",
              "      box-shadow: 0px 1px 2px rgba(60, 64, 67, 0.3), 0px 1px 3px 1px rgba(60, 64, 67, 0.15);\n",
              "      fill: #174EA6;\n",
              "    }\n",
              "\n",
              "    .colab-df-buttons div {\n",
              "      margin-bottom: 4px;\n",
              "    }\n",
              "\n",
              "    [theme=dark] .colab-df-convert {\n",
              "      background-color: #3B4455;\n",
              "      fill: #D2E3FC;\n",
              "    }\n",
              "\n",
              "    [theme=dark] .colab-df-convert:hover {\n",
              "      background-color: #434B5C;\n",
              "      box-shadow: 0px 1px 3px 1px rgba(0, 0, 0, 0.15);\n",
              "      filter: drop-shadow(0px 1px 2px rgba(0, 0, 0, 0.3));\n",
              "      fill: #FFFFFF;\n",
              "    }\n",
              "  </style>\n",
              "\n",
              "    <script>\n",
              "      const buttonEl =\n",
              "        document.querySelector('#df-ba16e29b-915c-4c43-9426-02097a1b335f button.colab-df-convert');\n",
              "      buttonEl.style.display =\n",
              "        google.colab.kernel.accessAllowed ? 'block' : 'none';\n",
              "\n",
              "      async function convertToInteractive(key) {\n",
              "        const element = document.querySelector('#df-ba16e29b-915c-4c43-9426-02097a1b335f');\n",
              "        const dataTable =\n",
              "          await google.colab.kernel.invokeFunction('convertToInteractive',\n",
              "                                                    [key], {});\n",
              "        if (!dataTable) return;\n",
              "\n",
              "        const docLinkHtml = 'Like what you see? Visit the ' +\n",
              "          '<a target=\"_blank\" href=https://colab.research.google.com/notebooks/data_table.ipynb>data table notebook</a>'\n",
              "          + ' to learn more about interactive tables.';\n",
              "        element.innerHTML = '';\n",
              "        dataTable['output_type'] = 'display_data';\n",
              "        await google.colab.output.renderOutput(dataTable, element);\n",
              "        const docLink = document.createElement('div');\n",
              "        docLink.innerHTML = docLinkHtml;\n",
              "        element.appendChild(docLink);\n",
              "      }\n",
              "    </script>\n",
              "  </div>\n",
              "\n",
              "\n",
              "<div id=\"df-f29c12e0-4935-45f2-a3d6-3d37868464a2\">\n",
              "  <button class=\"colab-df-quickchart\" onclick=\"quickchart('df-f29c12e0-4935-45f2-a3d6-3d37868464a2')\"\n",
              "            title=\"Suggest charts\"\n",
              "            style=\"display:none;\">\n",
              "\n",
              "<svg xmlns=\"http://www.w3.org/2000/svg\" height=\"24px\"viewBox=\"0 0 24 24\"\n",
              "     width=\"24px\">\n",
              "    <g>\n",
              "        <path d=\"M19 3H5c-1.1 0-2 .9-2 2v14c0 1.1.9 2 2 2h14c1.1 0 2-.9 2-2V5c0-1.1-.9-2-2-2zM9 17H7v-7h2v7zm4 0h-2V7h2v10zm4 0h-2v-4h2v4z\"/>\n",
              "    </g>\n",
              "</svg>\n",
              "  </button>\n",
              "\n",
              "<style>\n",
              "  .colab-df-quickchart {\n",
              "      --bg-color: #E8F0FE;\n",
              "      --fill-color: #1967D2;\n",
              "      --hover-bg-color: #E2EBFA;\n",
              "      --hover-fill-color: #174EA6;\n",
              "      --disabled-fill-color: #AAA;\n",
              "      --disabled-bg-color: #DDD;\n",
              "  }\n",
              "\n",
              "  [theme=dark] .colab-df-quickchart {\n",
              "      --bg-color: #3B4455;\n",
              "      --fill-color: #D2E3FC;\n",
              "      --hover-bg-color: #434B5C;\n",
              "      --hover-fill-color: #FFFFFF;\n",
              "      --disabled-bg-color: #3B4455;\n",
              "      --disabled-fill-color: #666;\n",
              "  }\n",
              "\n",
              "  .colab-df-quickchart {\n",
              "    background-color: var(--bg-color);\n",
              "    border: none;\n",
              "    border-radius: 50%;\n",
              "    cursor: pointer;\n",
              "    display: none;\n",
              "    fill: var(--fill-color);\n",
              "    height: 32px;\n",
              "    padding: 0;\n",
              "    width: 32px;\n",
              "  }\n",
              "\n",
              "  .colab-df-quickchart:hover {\n",
              "    background-color: var(--hover-bg-color);\n",
              "    box-shadow: 0 1px 2px rgba(60, 64, 67, 0.3), 0 1px 3px 1px rgba(60, 64, 67, 0.15);\n",
              "    fill: var(--button-hover-fill-color);\n",
              "  }\n",
              "\n",
              "  .colab-df-quickchart-complete:disabled,\n",
              "  .colab-df-quickchart-complete:disabled:hover {\n",
              "    background-color: var(--disabled-bg-color);\n",
              "    fill: var(--disabled-fill-color);\n",
              "    box-shadow: none;\n",
              "  }\n",
              "\n",
              "  .colab-df-spinner {\n",
              "    border: 2px solid var(--fill-color);\n",
              "    border-color: transparent;\n",
              "    border-bottom-color: var(--fill-color);\n",
              "    animation:\n",
              "      spin 1s steps(1) infinite;\n",
              "  }\n",
              "\n",
              "  @keyframes spin {\n",
              "    0% {\n",
              "      border-color: transparent;\n",
              "      border-bottom-color: var(--fill-color);\n",
              "      border-left-color: var(--fill-color);\n",
              "    }\n",
              "    20% {\n",
              "      border-color: transparent;\n",
              "      border-left-color: var(--fill-color);\n",
              "      border-top-color: var(--fill-color);\n",
              "    }\n",
              "    30% {\n",
              "      border-color: transparent;\n",
              "      border-left-color: var(--fill-color);\n",
              "      border-top-color: var(--fill-color);\n",
              "      border-right-color: var(--fill-color);\n",
              "    }\n",
              "    40% {\n",
              "      border-color: transparent;\n",
              "      border-right-color: var(--fill-color);\n",
              "      border-top-color: var(--fill-color);\n",
              "    }\n",
              "    60% {\n",
              "      border-color: transparent;\n",
              "      border-right-color: var(--fill-color);\n",
              "    }\n",
              "    80% {\n",
              "      border-color: transparent;\n",
              "      border-right-color: var(--fill-color);\n",
              "      border-bottom-color: var(--fill-color);\n",
              "    }\n",
              "    90% {\n",
              "      border-color: transparent;\n",
              "      border-bottom-color: var(--fill-color);\n",
              "    }\n",
              "  }\n",
              "</style>\n",
              "\n",
              "  <script>\n",
              "    async function quickchart(key) {\n",
              "      const quickchartButtonEl =\n",
              "        document.querySelector('#' + key + ' button');\n",
              "      quickchartButtonEl.disabled = true;  // To prevent multiple clicks.\n",
              "      quickchartButtonEl.classList.add('colab-df-spinner');\n",
              "      try {\n",
              "        const charts = await google.colab.kernel.invokeFunction(\n",
              "            'suggestCharts', [key], {});\n",
              "      } catch (error) {\n",
              "        console.error('Error during call to suggestCharts:', error);\n",
              "      }\n",
              "      quickchartButtonEl.classList.remove('colab-df-spinner');\n",
              "      quickchartButtonEl.classList.add('colab-df-quickchart-complete');\n",
              "    }\n",
              "    (() => {\n",
              "      let quickchartButtonEl =\n",
              "        document.querySelector('#df-f29c12e0-4935-45f2-a3d6-3d37868464a2 button');\n",
              "      quickchartButtonEl.style.display =\n",
              "        google.colab.kernel.accessAllowed ? 'block' : 'none';\n",
              "    })();\n",
              "  </script>\n",
              "</div>\n",
              "    </div>\n",
              "  </div>\n"
            ],
            "application/vnd.google.colaboratory.intrinsic+json": {
              "type": "dataframe"
            }
          },
          "metadata": {},
          "execution_count": 105
        }
      ]
    },
    {
      "cell_type": "code",
      "source": [
        "from sklearn.feature_extraction.text import TfidfVectorizer\n",
        "tfidfv = TfidfVectorizer(vocabulary=vocab)\n",
        "tfidf = tfidfv.fit_transform(docs).toarray()\n",
        "pd.DataFrame(tfidf, columns=col)"
      ],
      "metadata": {
        "colab": {
          "base_uri": "https://localhost:8080/",
          "height": 255
        },
        "id": "Y6YEjK7hhMx2",
        "outputId": "0e87025d-e821-4c03-896d-2432510ad030"
      },
      "id": "Y6YEjK7hhMx2",
      "execution_count": 100,
      "outputs": [
        {
          "output_type": "execute_result",
          "data": {
            "text/plain": [
              "         00        02       021        06        10      1000       105  \\\n",
              "0  0.000000  0.000000  0.024558  0.000000  0.020386  0.030439  0.000000   \n",
              "1  0.056249  0.028125  0.022691  0.028125  0.000000  0.000000  0.000000   \n",
              "2  0.000000  0.000000  0.000000  0.000000  0.000000  0.000000  0.000000   \n",
              "3  0.000000  0.000000  0.000000  0.000000  0.054850  0.000000  0.000000   \n",
              "4  0.000000  0.000000  0.000000  0.000000  0.024650  0.000000  0.036807   \n",
              "\n",
              "         11       116       11월  ...       확인      확진       환경       환자  \\\n",
              "0  0.029009  0.000000  0.030439  ...  0.00000  0.0000  0.00000  0.00000   \n",
              "1  0.026803  0.000000  0.000000  ...  0.00000  0.0000  0.00000  0.00000   \n",
              "2  0.040295  0.084563  0.000000  ...  0.00000  0.0000  0.00000  0.00000   \n",
              "3  0.019513  0.000000  0.000000  ...  0.12285  0.1638  0.04095  0.04095   \n",
              "4  0.052616  0.000000  0.000000  ...  0.00000  0.0000  0.00000  0.00000   \n",
              "\n",
              "        활용       회복       회복세        효과      휘발유        힘입  \n",
              "0  0.00000  0.00000  0.000000  0.000000  0.00000  0.000000  \n",
              "1  0.00000  0.00000  0.028125  0.000000  0.00000  0.028125  \n",
              "2  0.00000  0.00000  0.000000  0.084563  0.25369  0.000000  \n",
              "3  0.04095  0.12285  0.000000  0.000000  0.00000  0.000000  \n",
              "4  0.00000  0.00000  0.000000  0.000000  0.00000  0.000000  \n",
              "\n",
              "[5 rows x 692 columns]"
            ],
            "text/html": [
              "\n",
              "  <div id=\"df-e097326c-87e5-4df8-8494-648696e07c6c\" class=\"colab-df-container\">\n",
              "    <div>\n",
              "<style scoped>\n",
              "    .dataframe tbody tr th:only-of-type {\n",
              "        vertical-align: middle;\n",
              "    }\n",
              "\n",
              "    .dataframe tbody tr th {\n",
              "        vertical-align: top;\n",
              "    }\n",
              "\n",
              "    .dataframe thead th {\n",
              "        text-align: right;\n",
              "    }\n",
              "</style>\n",
              "<table border=\"1\" class=\"dataframe\">\n",
              "  <thead>\n",
              "    <tr style=\"text-align: right;\">\n",
              "      <th></th>\n",
              "      <th>00</th>\n",
              "      <th>02</th>\n",
              "      <th>021</th>\n",
              "      <th>06</th>\n",
              "      <th>10</th>\n",
              "      <th>1000</th>\n",
              "      <th>105</th>\n",
              "      <th>11</th>\n",
              "      <th>116</th>\n",
              "      <th>11월</th>\n",
              "      <th>...</th>\n",
              "      <th>확인</th>\n",
              "      <th>확진</th>\n",
              "      <th>환경</th>\n",
              "      <th>환자</th>\n",
              "      <th>활용</th>\n",
              "      <th>회복</th>\n",
              "      <th>회복세</th>\n",
              "      <th>효과</th>\n",
              "      <th>휘발유</th>\n",
              "      <th>힘입</th>\n",
              "    </tr>\n",
              "  </thead>\n",
              "  <tbody>\n",
              "    <tr>\n",
              "      <th>0</th>\n",
              "      <td>0.000000</td>\n",
              "      <td>0.000000</td>\n",
              "      <td>0.024558</td>\n",
              "      <td>0.000000</td>\n",
              "      <td>0.020386</td>\n",
              "      <td>0.030439</td>\n",
              "      <td>0.000000</td>\n",
              "      <td>0.029009</td>\n",
              "      <td>0.000000</td>\n",
              "      <td>0.030439</td>\n",
              "      <td>...</td>\n",
              "      <td>0.00000</td>\n",
              "      <td>0.0000</td>\n",
              "      <td>0.00000</td>\n",
              "      <td>0.00000</td>\n",
              "      <td>0.00000</td>\n",
              "      <td>0.00000</td>\n",
              "      <td>0.000000</td>\n",
              "      <td>0.000000</td>\n",
              "      <td>0.00000</td>\n",
              "      <td>0.000000</td>\n",
              "    </tr>\n",
              "    <tr>\n",
              "      <th>1</th>\n",
              "      <td>0.056249</td>\n",
              "      <td>0.028125</td>\n",
              "      <td>0.022691</td>\n",
              "      <td>0.028125</td>\n",
              "      <td>0.000000</td>\n",
              "      <td>0.000000</td>\n",
              "      <td>0.000000</td>\n",
              "      <td>0.026803</td>\n",
              "      <td>0.000000</td>\n",
              "      <td>0.000000</td>\n",
              "      <td>...</td>\n",
              "      <td>0.00000</td>\n",
              "      <td>0.0000</td>\n",
              "      <td>0.00000</td>\n",
              "      <td>0.00000</td>\n",
              "      <td>0.00000</td>\n",
              "      <td>0.00000</td>\n",
              "      <td>0.028125</td>\n",
              "      <td>0.000000</td>\n",
              "      <td>0.00000</td>\n",
              "      <td>0.028125</td>\n",
              "    </tr>\n",
              "    <tr>\n",
              "      <th>2</th>\n",
              "      <td>0.000000</td>\n",
              "      <td>0.000000</td>\n",
              "      <td>0.000000</td>\n",
              "      <td>0.000000</td>\n",
              "      <td>0.000000</td>\n",
              "      <td>0.000000</td>\n",
              "      <td>0.000000</td>\n",
              "      <td>0.040295</td>\n",
              "      <td>0.084563</td>\n",
              "      <td>0.000000</td>\n",
              "      <td>...</td>\n",
              "      <td>0.00000</td>\n",
              "      <td>0.0000</td>\n",
              "      <td>0.00000</td>\n",
              "      <td>0.00000</td>\n",
              "      <td>0.00000</td>\n",
              "      <td>0.00000</td>\n",
              "      <td>0.000000</td>\n",
              "      <td>0.084563</td>\n",
              "      <td>0.25369</td>\n",
              "      <td>0.000000</td>\n",
              "    </tr>\n",
              "    <tr>\n",
              "      <th>3</th>\n",
              "      <td>0.000000</td>\n",
              "      <td>0.000000</td>\n",
              "      <td>0.000000</td>\n",
              "      <td>0.000000</td>\n",
              "      <td>0.054850</td>\n",
              "      <td>0.000000</td>\n",
              "      <td>0.000000</td>\n",
              "      <td>0.019513</td>\n",
              "      <td>0.000000</td>\n",
              "      <td>0.000000</td>\n",
              "      <td>...</td>\n",
              "      <td>0.12285</td>\n",
              "      <td>0.1638</td>\n",
              "      <td>0.04095</td>\n",
              "      <td>0.04095</td>\n",
              "      <td>0.04095</td>\n",
              "      <td>0.12285</td>\n",
              "      <td>0.000000</td>\n",
              "      <td>0.000000</td>\n",
              "      <td>0.00000</td>\n",
              "      <td>0.000000</td>\n",
              "    </tr>\n",
              "    <tr>\n",
              "      <th>4</th>\n",
              "      <td>0.000000</td>\n",
              "      <td>0.000000</td>\n",
              "      <td>0.000000</td>\n",
              "      <td>0.000000</td>\n",
              "      <td>0.024650</td>\n",
              "      <td>0.000000</td>\n",
              "      <td>0.036807</td>\n",
              "      <td>0.052616</td>\n",
              "      <td>0.000000</td>\n",
              "      <td>0.000000</td>\n",
              "      <td>...</td>\n",
              "      <td>0.00000</td>\n",
              "      <td>0.0000</td>\n",
              "      <td>0.00000</td>\n",
              "      <td>0.00000</td>\n",
              "      <td>0.00000</td>\n",
              "      <td>0.00000</td>\n",
              "      <td>0.000000</td>\n",
              "      <td>0.000000</td>\n",
              "      <td>0.00000</td>\n",
              "      <td>0.000000</td>\n",
              "    </tr>\n",
              "  </tbody>\n",
              "</table>\n",
              "<p>5 rows × 692 columns</p>\n",
              "</div>\n",
              "    <div class=\"colab-df-buttons\">\n",
              "\n",
              "  <div class=\"colab-df-container\">\n",
              "    <button class=\"colab-df-convert\" onclick=\"convertToInteractive('df-e097326c-87e5-4df8-8494-648696e07c6c')\"\n",
              "            title=\"Convert this dataframe to an interactive table.\"\n",
              "            style=\"display:none;\">\n",
              "\n",
              "  <svg xmlns=\"http://www.w3.org/2000/svg\" height=\"24px\" viewBox=\"0 -960 960 960\">\n",
              "    <path d=\"M120-120v-720h720v720H120Zm60-500h600v-160H180v160Zm220 220h160v-160H400v160Zm0 220h160v-160H400v160ZM180-400h160v-160H180v160Zm440 0h160v-160H620v160ZM180-180h160v-160H180v160Zm440 0h160v-160H620v160Z\"/>\n",
              "  </svg>\n",
              "    </button>\n",
              "\n",
              "  <style>\n",
              "    .colab-df-container {\n",
              "      display:flex;\n",
              "      gap: 12px;\n",
              "    }\n",
              "\n",
              "    .colab-df-convert {\n",
              "      background-color: #E8F0FE;\n",
              "      border: none;\n",
              "      border-radius: 50%;\n",
              "      cursor: pointer;\n",
              "      display: none;\n",
              "      fill: #1967D2;\n",
              "      height: 32px;\n",
              "      padding: 0 0 0 0;\n",
              "      width: 32px;\n",
              "    }\n",
              "\n",
              "    .colab-df-convert:hover {\n",
              "      background-color: #E2EBFA;\n",
              "      box-shadow: 0px 1px 2px rgba(60, 64, 67, 0.3), 0px 1px 3px 1px rgba(60, 64, 67, 0.15);\n",
              "      fill: #174EA6;\n",
              "    }\n",
              "\n",
              "    .colab-df-buttons div {\n",
              "      margin-bottom: 4px;\n",
              "    }\n",
              "\n",
              "    [theme=dark] .colab-df-convert {\n",
              "      background-color: #3B4455;\n",
              "      fill: #D2E3FC;\n",
              "    }\n",
              "\n",
              "    [theme=dark] .colab-df-convert:hover {\n",
              "      background-color: #434B5C;\n",
              "      box-shadow: 0px 1px 3px 1px rgba(0, 0, 0, 0.15);\n",
              "      filter: drop-shadow(0px 1px 2px rgba(0, 0, 0, 0.3));\n",
              "      fill: #FFFFFF;\n",
              "    }\n",
              "  </style>\n",
              "\n",
              "    <script>\n",
              "      const buttonEl =\n",
              "        document.querySelector('#df-e097326c-87e5-4df8-8494-648696e07c6c button.colab-df-convert');\n",
              "      buttonEl.style.display =\n",
              "        google.colab.kernel.accessAllowed ? 'block' : 'none';\n",
              "\n",
              "      async function convertToInteractive(key) {\n",
              "        const element = document.querySelector('#df-e097326c-87e5-4df8-8494-648696e07c6c');\n",
              "        const dataTable =\n",
              "          await google.colab.kernel.invokeFunction('convertToInteractive',\n",
              "                                                    [key], {});\n",
              "        if (!dataTable) return;\n",
              "\n",
              "        const docLinkHtml = 'Like what you see? Visit the ' +\n",
              "          '<a target=\"_blank\" href=https://colab.research.google.com/notebooks/data_table.ipynb>data table notebook</a>'\n",
              "          + ' to learn more about interactive tables.';\n",
              "        element.innerHTML = '';\n",
              "        dataTable['output_type'] = 'display_data';\n",
              "        await google.colab.output.renderOutput(dataTable, element);\n",
              "        const docLink = document.createElement('div');\n",
              "        docLink.innerHTML = docLinkHtml;\n",
              "        element.appendChild(docLink);\n",
              "      }\n",
              "    </script>\n",
              "  </div>\n",
              "\n",
              "\n",
              "<div id=\"df-7b029753-d8d6-49ff-8a5f-7d6c06481ae9\">\n",
              "  <button class=\"colab-df-quickchart\" onclick=\"quickchart('df-7b029753-d8d6-49ff-8a5f-7d6c06481ae9')\"\n",
              "            title=\"Suggest charts\"\n",
              "            style=\"display:none;\">\n",
              "\n",
              "<svg xmlns=\"http://www.w3.org/2000/svg\" height=\"24px\"viewBox=\"0 0 24 24\"\n",
              "     width=\"24px\">\n",
              "    <g>\n",
              "        <path d=\"M19 3H5c-1.1 0-2 .9-2 2v14c0 1.1.9 2 2 2h14c1.1 0 2-.9 2-2V5c0-1.1-.9-2-2-2zM9 17H7v-7h2v7zm4 0h-2V7h2v10zm4 0h-2v-4h2v4z\"/>\n",
              "    </g>\n",
              "</svg>\n",
              "  </button>\n",
              "\n",
              "<style>\n",
              "  .colab-df-quickchart {\n",
              "      --bg-color: #E8F0FE;\n",
              "      --fill-color: #1967D2;\n",
              "      --hover-bg-color: #E2EBFA;\n",
              "      --hover-fill-color: #174EA6;\n",
              "      --disabled-fill-color: #AAA;\n",
              "      --disabled-bg-color: #DDD;\n",
              "  }\n",
              "\n",
              "  [theme=dark] .colab-df-quickchart {\n",
              "      --bg-color: #3B4455;\n",
              "      --fill-color: #D2E3FC;\n",
              "      --hover-bg-color: #434B5C;\n",
              "      --hover-fill-color: #FFFFFF;\n",
              "      --disabled-bg-color: #3B4455;\n",
              "      --disabled-fill-color: #666;\n",
              "  }\n",
              "\n",
              "  .colab-df-quickchart {\n",
              "    background-color: var(--bg-color);\n",
              "    border: none;\n",
              "    border-radius: 50%;\n",
              "    cursor: pointer;\n",
              "    display: none;\n",
              "    fill: var(--fill-color);\n",
              "    height: 32px;\n",
              "    padding: 0;\n",
              "    width: 32px;\n",
              "  }\n",
              "\n",
              "  .colab-df-quickchart:hover {\n",
              "    background-color: var(--hover-bg-color);\n",
              "    box-shadow: 0 1px 2px rgba(60, 64, 67, 0.3), 0 1px 3px 1px rgba(60, 64, 67, 0.15);\n",
              "    fill: var(--button-hover-fill-color);\n",
              "  }\n",
              "\n",
              "  .colab-df-quickchart-complete:disabled,\n",
              "  .colab-df-quickchart-complete:disabled:hover {\n",
              "    background-color: var(--disabled-bg-color);\n",
              "    fill: var(--disabled-fill-color);\n",
              "    box-shadow: none;\n",
              "  }\n",
              "\n",
              "  .colab-df-spinner {\n",
              "    border: 2px solid var(--fill-color);\n",
              "    border-color: transparent;\n",
              "    border-bottom-color: var(--fill-color);\n",
              "    animation:\n",
              "      spin 1s steps(1) infinite;\n",
              "  }\n",
              "\n",
              "  @keyframes spin {\n",
              "    0% {\n",
              "      border-color: transparent;\n",
              "      border-bottom-color: var(--fill-color);\n",
              "      border-left-color: var(--fill-color);\n",
              "    }\n",
              "    20% {\n",
              "      border-color: transparent;\n",
              "      border-left-color: var(--fill-color);\n",
              "      border-top-color: var(--fill-color);\n",
              "    }\n",
              "    30% {\n",
              "      border-color: transparent;\n",
              "      border-left-color: var(--fill-color);\n",
              "      border-top-color: var(--fill-color);\n",
              "      border-right-color: var(--fill-color);\n",
              "    }\n",
              "    40% {\n",
              "      border-color: transparent;\n",
              "      border-right-color: var(--fill-color);\n",
              "      border-top-color: var(--fill-color);\n",
              "    }\n",
              "    60% {\n",
              "      border-color: transparent;\n",
              "      border-right-color: var(--fill-color);\n",
              "    }\n",
              "    80% {\n",
              "      border-color: transparent;\n",
              "      border-right-color: var(--fill-color);\n",
              "      border-bottom-color: var(--fill-color);\n",
              "    }\n",
              "    90% {\n",
              "      border-color: transparent;\n",
              "      border-bottom-color: var(--fill-color);\n",
              "    }\n",
              "  }\n",
              "</style>\n",
              "\n",
              "  <script>\n",
              "    async function quickchart(key) {\n",
              "      const quickchartButtonEl =\n",
              "        document.querySelector('#' + key + ' button');\n",
              "      quickchartButtonEl.disabled = true;  // To prevent multiple clicks.\n",
              "      quickchartButtonEl.classList.add('colab-df-spinner');\n",
              "      try {\n",
              "        const charts = await google.colab.kernel.invokeFunction(\n",
              "            'suggestCharts', [key], {});\n",
              "      } catch (error) {\n",
              "        console.error('Error during call to suggestCharts:', error);\n",
              "      }\n",
              "      quickchartButtonEl.classList.remove('colab-df-spinner');\n",
              "      quickchartButtonEl.classList.add('colab-df-quickchart-complete');\n",
              "    }\n",
              "    (() => {\n",
              "      let quickchartButtonEl =\n",
              "        document.querySelector('#df-7b029753-d8d6-49ff-8a5f-7d6c06481ae9 button');\n",
              "      quickchartButtonEl.style.display =\n",
              "        google.colab.kernel.accessAllowed ? 'block' : 'none';\n",
              "    })();\n",
              "  </script>\n",
              "</div>\n",
              "    </div>\n",
              "  </div>\n"
            ],
            "application/vnd.google.colaboratory.intrinsic+json": {
              "type": "dataframe"
            }
          },
          "metadata": {},
          "execution_count": 100
        }
      ]
    },
    {
      "cell_type": "code",
      "source": [
        "import numpy as np\n",
        "tfidf_order = np.flip(np.argsort(tfidf, axis=-1), axis=-1)\n",
        "# tfidf_order\n",
        "topics =[]\n",
        "n_top = 10\n",
        "for line in tfidf_order:\n",
        "  topic = [vocab_words[x] for x in line[:n_top]]\n",
        "  topics.append(topic)\n",
        "df = pd.DataFrame(topics)\n",
        "df"
      ],
      "metadata": {
        "colab": {
          "base_uri": "https://localhost:8080/",
          "height": 206
        },
        "id": "y_ryllhikVk2",
        "outputId": "527fa5a6-250d-4615-ceeb-da5bef2494a3"
      },
      "id": "y_ryllhikVk2",
      "execution_count": 102,
      "outputs": [
        {
          "output_type": "execute_result",
          "data": {
            "text/plain": [
              "      0     1    2    3    4    5    6    7    8   9\n",
              "0  중소기업   매출액   울산   전국   증가   으로   여성   보다   지역  차지\n",
              "1  오피스텔    가격   상승   울산   전세  아파트   전국   면적  부동산  7월\n",
              "2    인하    대하   유류  휘발유   정부   경유   부탄  lpg   관리  당정\n",
              "3    단계    개편  코로나   제한   에서   방역   확진  마스크   일상  해제\n",
              "4   류현진  체인지업  상대로   볼넷  병살타   삼진  토론토  패스트   에서  던지"
            ],
            "text/html": [
              "\n",
              "  <div id=\"df-14decaf0-2e7a-4503-8a91-f83e621f5821\" class=\"colab-df-container\">\n",
              "    <div>\n",
              "<style scoped>\n",
              "    .dataframe tbody tr th:only-of-type {\n",
              "        vertical-align: middle;\n",
              "    }\n",
              "\n",
              "    .dataframe tbody tr th {\n",
              "        vertical-align: top;\n",
              "    }\n",
              "\n",
              "    .dataframe thead th {\n",
              "        text-align: right;\n",
              "    }\n",
              "</style>\n",
              "<table border=\"1\" class=\"dataframe\">\n",
              "  <thead>\n",
              "    <tr style=\"text-align: right;\">\n",
              "      <th></th>\n",
              "      <th>0</th>\n",
              "      <th>1</th>\n",
              "      <th>2</th>\n",
              "      <th>3</th>\n",
              "      <th>4</th>\n",
              "      <th>5</th>\n",
              "      <th>6</th>\n",
              "      <th>7</th>\n",
              "      <th>8</th>\n",
              "      <th>9</th>\n",
              "    </tr>\n",
              "  </thead>\n",
              "  <tbody>\n",
              "    <tr>\n",
              "      <th>0</th>\n",
              "      <td>중소기업</td>\n",
              "      <td>매출액</td>\n",
              "      <td>울산</td>\n",
              "      <td>전국</td>\n",
              "      <td>증가</td>\n",
              "      <td>으로</td>\n",
              "      <td>여성</td>\n",
              "      <td>보다</td>\n",
              "      <td>지역</td>\n",
              "      <td>차지</td>\n",
              "    </tr>\n",
              "    <tr>\n",
              "      <th>1</th>\n",
              "      <td>오피스텔</td>\n",
              "      <td>가격</td>\n",
              "      <td>상승</td>\n",
              "      <td>울산</td>\n",
              "      <td>전세</td>\n",
              "      <td>아파트</td>\n",
              "      <td>전국</td>\n",
              "      <td>면적</td>\n",
              "      <td>부동산</td>\n",
              "      <td>7월</td>\n",
              "    </tr>\n",
              "    <tr>\n",
              "      <th>2</th>\n",
              "      <td>인하</td>\n",
              "      <td>대하</td>\n",
              "      <td>유류</td>\n",
              "      <td>휘발유</td>\n",
              "      <td>정부</td>\n",
              "      <td>경유</td>\n",
              "      <td>부탄</td>\n",
              "      <td>lpg</td>\n",
              "      <td>관리</td>\n",
              "      <td>당정</td>\n",
              "    </tr>\n",
              "    <tr>\n",
              "      <th>3</th>\n",
              "      <td>단계</td>\n",
              "      <td>개편</td>\n",
              "      <td>코로나</td>\n",
              "      <td>제한</td>\n",
              "      <td>에서</td>\n",
              "      <td>방역</td>\n",
              "      <td>확진</td>\n",
              "      <td>마스크</td>\n",
              "      <td>일상</td>\n",
              "      <td>해제</td>\n",
              "    </tr>\n",
              "    <tr>\n",
              "      <th>4</th>\n",
              "      <td>류현진</td>\n",
              "      <td>체인지업</td>\n",
              "      <td>상대로</td>\n",
              "      <td>볼넷</td>\n",
              "      <td>병살타</td>\n",
              "      <td>삼진</td>\n",
              "      <td>토론토</td>\n",
              "      <td>패스트</td>\n",
              "      <td>에서</td>\n",
              "      <td>던지</td>\n",
              "    </tr>\n",
              "  </tbody>\n",
              "</table>\n",
              "</div>\n",
              "    <div class=\"colab-df-buttons\">\n",
              "\n",
              "  <div class=\"colab-df-container\">\n",
              "    <button class=\"colab-df-convert\" onclick=\"convertToInteractive('df-14decaf0-2e7a-4503-8a91-f83e621f5821')\"\n",
              "            title=\"Convert this dataframe to an interactive table.\"\n",
              "            style=\"display:none;\">\n",
              "\n",
              "  <svg xmlns=\"http://www.w3.org/2000/svg\" height=\"24px\" viewBox=\"0 -960 960 960\">\n",
              "    <path d=\"M120-120v-720h720v720H120Zm60-500h600v-160H180v160Zm220 220h160v-160H400v160Zm0 220h160v-160H400v160ZM180-400h160v-160H180v160Zm440 0h160v-160H620v160ZM180-180h160v-160H180v160Zm440 0h160v-160H620v160Z\"/>\n",
              "  </svg>\n",
              "    </button>\n",
              "\n",
              "  <style>\n",
              "    .colab-df-container {\n",
              "      display:flex;\n",
              "      gap: 12px;\n",
              "    }\n",
              "\n",
              "    .colab-df-convert {\n",
              "      background-color: #E8F0FE;\n",
              "      border: none;\n",
              "      border-radius: 50%;\n",
              "      cursor: pointer;\n",
              "      display: none;\n",
              "      fill: #1967D2;\n",
              "      height: 32px;\n",
              "      padding: 0 0 0 0;\n",
              "      width: 32px;\n",
              "    }\n",
              "\n",
              "    .colab-df-convert:hover {\n",
              "      background-color: #E2EBFA;\n",
              "      box-shadow: 0px 1px 2px rgba(60, 64, 67, 0.3), 0px 1px 3px 1px rgba(60, 64, 67, 0.15);\n",
              "      fill: #174EA6;\n",
              "    }\n",
              "\n",
              "    .colab-df-buttons div {\n",
              "      margin-bottom: 4px;\n",
              "    }\n",
              "\n",
              "    [theme=dark] .colab-df-convert {\n",
              "      background-color: #3B4455;\n",
              "      fill: #D2E3FC;\n",
              "    }\n",
              "\n",
              "    [theme=dark] .colab-df-convert:hover {\n",
              "      background-color: #434B5C;\n",
              "      box-shadow: 0px 1px 3px 1px rgba(0, 0, 0, 0.15);\n",
              "      filter: drop-shadow(0px 1px 2px rgba(0, 0, 0, 0.3));\n",
              "      fill: #FFFFFF;\n",
              "    }\n",
              "  </style>\n",
              "\n",
              "    <script>\n",
              "      const buttonEl =\n",
              "        document.querySelector('#df-14decaf0-2e7a-4503-8a91-f83e621f5821 button.colab-df-convert');\n",
              "      buttonEl.style.display =\n",
              "        google.colab.kernel.accessAllowed ? 'block' : 'none';\n",
              "\n",
              "      async function convertToInteractive(key) {\n",
              "        const element = document.querySelector('#df-14decaf0-2e7a-4503-8a91-f83e621f5821');\n",
              "        const dataTable =\n",
              "          await google.colab.kernel.invokeFunction('convertToInteractive',\n",
              "                                                    [key], {});\n",
              "        if (!dataTable) return;\n",
              "\n",
              "        const docLinkHtml = 'Like what you see? Visit the ' +\n",
              "          '<a target=\"_blank\" href=https://colab.research.google.com/notebooks/data_table.ipynb>data table notebook</a>'\n",
              "          + ' to learn more about interactive tables.';\n",
              "        element.innerHTML = '';\n",
              "        dataTable['output_type'] = 'display_data';\n",
              "        await google.colab.output.renderOutput(dataTable, element);\n",
              "        const docLink = document.createElement('div');\n",
              "        docLink.innerHTML = docLinkHtml;\n",
              "        element.appendChild(docLink);\n",
              "      }\n",
              "    </script>\n",
              "  </div>\n",
              "\n",
              "\n",
              "<div id=\"df-bf50a3e0-a5f0-45bd-aa2f-70fd97010d4f\">\n",
              "  <button class=\"colab-df-quickchart\" onclick=\"quickchart('df-bf50a3e0-a5f0-45bd-aa2f-70fd97010d4f')\"\n",
              "            title=\"Suggest charts\"\n",
              "            style=\"display:none;\">\n",
              "\n",
              "<svg xmlns=\"http://www.w3.org/2000/svg\" height=\"24px\"viewBox=\"0 0 24 24\"\n",
              "     width=\"24px\">\n",
              "    <g>\n",
              "        <path d=\"M19 3H5c-1.1 0-2 .9-2 2v14c0 1.1.9 2 2 2h14c1.1 0 2-.9 2-2V5c0-1.1-.9-2-2-2zM9 17H7v-7h2v7zm4 0h-2V7h2v10zm4 0h-2v-4h2v4z\"/>\n",
              "    </g>\n",
              "</svg>\n",
              "  </button>\n",
              "\n",
              "<style>\n",
              "  .colab-df-quickchart {\n",
              "      --bg-color: #E8F0FE;\n",
              "      --fill-color: #1967D2;\n",
              "      --hover-bg-color: #E2EBFA;\n",
              "      --hover-fill-color: #174EA6;\n",
              "      --disabled-fill-color: #AAA;\n",
              "      --disabled-bg-color: #DDD;\n",
              "  }\n",
              "\n",
              "  [theme=dark] .colab-df-quickchart {\n",
              "      --bg-color: #3B4455;\n",
              "      --fill-color: #D2E3FC;\n",
              "      --hover-bg-color: #434B5C;\n",
              "      --hover-fill-color: #FFFFFF;\n",
              "      --disabled-bg-color: #3B4455;\n",
              "      --disabled-fill-color: #666;\n",
              "  }\n",
              "\n",
              "  .colab-df-quickchart {\n",
              "    background-color: var(--bg-color);\n",
              "    border: none;\n",
              "    border-radius: 50%;\n",
              "    cursor: pointer;\n",
              "    display: none;\n",
              "    fill: var(--fill-color);\n",
              "    height: 32px;\n",
              "    padding: 0;\n",
              "    width: 32px;\n",
              "  }\n",
              "\n",
              "  .colab-df-quickchart:hover {\n",
              "    background-color: var(--hover-bg-color);\n",
              "    box-shadow: 0 1px 2px rgba(60, 64, 67, 0.3), 0 1px 3px 1px rgba(60, 64, 67, 0.15);\n",
              "    fill: var(--button-hover-fill-color);\n",
              "  }\n",
              "\n",
              "  .colab-df-quickchart-complete:disabled,\n",
              "  .colab-df-quickchart-complete:disabled:hover {\n",
              "    background-color: var(--disabled-bg-color);\n",
              "    fill: var(--disabled-fill-color);\n",
              "    box-shadow: none;\n",
              "  }\n",
              "\n",
              "  .colab-df-spinner {\n",
              "    border: 2px solid var(--fill-color);\n",
              "    border-color: transparent;\n",
              "    border-bottom-color: var(--fill-color);\n",
              "    animation:\n",
              "      spin 1s steps(1) infinite;\n",
              "  }\n",
              "\n",
              "  @keyframes spin {\n",
              "    0% {\n",
              "      border-color: transparent;\n",
              "      border-bottom-color: var(--fill-color);\n",
              "      border-left-color: var(--fill-color);\n",
              "    }\n",
              "    20% {\n",
              "      border-color: transparent;\n",
              "      border-left-color: var(--fill-color);\n",
              "      border-top-color: var(--fill-color);\n",
              "    }\n",
              "    30% {\n",
              "      border-color: transparent;\n",
              "      border-left-color: var(--fill-color);\n",
              "      border-top-color: var(--fill-color);\n",
              "      border-right-color: var(--fill-color);\n",
              "    }\n",
              "    40% {\n",
              "      border-color: transparent;\n",
              "      border-right-color: var(--fill-color);\n",
              "      border-top-color: var(--fill-color);\n",
              "    }\n",
              "    60% {\n",
              "      border-color: transparent;\n",
              "      border-right-color: var(--fill-color);\n",
              "    }\n",
              "    80% {\n",
              "      border-color: transparent;\n",
              "      border-right-color: var(--fill-color);\n",
              "      border-bottom-color: var(--fill-color);\n",
              "    }\n",
              "    90% {\n",
              "      border-color: transparent;\n",
              "      border-bottom-color: var(--fill-color);\n",
              "    }\n",
              "  }\n",
              "</style>\n",
              "\n",
              "  <script>\n",
              "    async function quickchart(key) {\n",
              "      const quickchartButtonEl =\n",
              "        document.querySelector('#' + key + ' button');\n",
              "      quickchartButtonEl.disabled = true;  // To prevent multiple clicks.\n",
              "      quickchartButtonEl.classList.add('colab-df-spinner');\n",
              "      try {\n",
              "        const charts = await google.colab.kernel.invokeFunction(\n",
              "            'suggestCharts', [key], {});\n",
              "      } catch (error) {\n",
              "        console.error('Error during call to suggestCharts:', error);\n",
              "      }\n",
              "      quickchartButtonEl.classList.remove('colab-df-spinner');\n",
              "      quickchartButtonEl.classList.add('colab-df-quickchart-complete');\n",
              "    }\n",
              "    (() => {\n",
              "      let quickchartButtonEl =\n",
              "        document.querySelector('#df-bf50a3e0-a5f0-45bd-aa2f-70fd97010d4f button');\n",
              "      quickchartButtonEl.style.display =\n",
              "        google.colab.kernel.accessAllowed ? 'block' : 'none';\n",
              "    })();\n",
              "  </script>\n",
              "</div>\n",
              "    </div>\n",
              "  </div>\n"
            ],
            "application/vnd.google.colaboratory.intrinsic+json": {
              "type": "dataframe",
              "variable_name": "df",
              "summary": "{\n  \"name\": \"df\",\n  \"rows\": 5,\n  \"fields\": [\n    {\n      \"column\": 0,\n      \"properties\": {\n        \"dtype\": \"string\",\n        \"num_unique_values\": 5,\n        \"samples\": [\n          \"\\uc624\\ud53c\\uc2a4\\ud154\",\n          \"\\ub958\\ud604\\uc9c4\",\n          \"\\uc778\\ud558\"\n        ],\n        \"semantic_type\": \"\",\n        \"description\": \"\"\n      }\n    },\n    {\n      \"column\": 1,\n      \"properties\": {\n        \"dtype\": \"string\",\n        \"num_unique_values\": 5,\n        \"samples\": [\n          \"\\uac00\\uaca9\",\n          \"\\uccb4\\uc778\\uc9c0\\uc5c5\",\n          \"\\ub300\\ud558\"\n        ],\n        \"semantic_type\": \"\",\n        \"description\": \"\"\n      }\n    },\n    {\n      \"column\": 2,\n      \"properties\": {\n        \"dtype\": \"string\",\n        \"num_unique_values\": 5,\n        \"samples\": [\n          \"\\uc0c1\\uc2b9\",\n          \"\\uc0c1\\ub300\\ub85c\",\n          \"\\uc720\\ub958\"\n        ],\n        \"semantic_type\": \"\",\n        \"description\": \"\"\n      }\n    },\n    {\n      \"column\": 3,\n      \"properties\": {\n        \"dtype\": \"string\",\n        \"num_unique_values\": 5,\n        \"samples\": [\n          \"\\uc6b8\\uc0b0\",\n          \"\\ubcfc\\ub137\",\n          \"\\ud718\\ubc1c\\uc720\"\n        ],\n        \"semantic_type\": \"\",\n        \"description\": \"\"\n      }\n    },\n    {\n      \"column\": 4,\n      \"properties\": {\n        \"dtype\": \"string\",\n        \"num_unique_values\": 5,\n        \"samples\": [\n          \"\\uc804\\uc138\",\n          \"\\ubcd1\\uc0b4\\ud0c0\",\n          \"\\uc815\\ubd80\"\n        ],\n        \"semantic_type\": \"\",\n        \"description\": \"\"\n      }\n    },\n    {\n      \"column\": 5,\n      \"properties\": {\n        \"dtype\": \"string\",\n        \"num_unique_values\": 5,\n        \"samples\": [\n          \"\\uc544\\ud30c\\ud2b8\",\n          \"\\uc0bc\\uc9c4\",\n          \"\\uacbd\\uc720\"\n        ],\n        \"semantic_type\": \"\",\n        \"description\": \"\"\n      }\n    },\n    {\n      \"column\": 6,\n      \"properties\": {\n        \"dtype\": \"string\",\n        \"num_unique_values\": 5,\n        \"samples\": [\n          \"\\uc804\\uad6d\",\n          \"\\ud1a0\\ub860\\ud1a0\",\n          \"\\ubd80\\ud0c4\"\n        ],\n        \"semantic_type\": \"\",\n        \"description\": \"\"\n      }\n    },\n    {\n      \"column\": 7,\n      \"properties\": {\n        \"dtype\": \"string\",\n        \"num_unique_values\": 5,\n        \"samples\": [\n          \"\\uba74\\uc801\",\n          \"\\ud328\\uc2a4\\ud2b8\",\n          \"lpg\"\n        ],\n        \"semantic_type\": \"\",\n        \"description\": \"\"\n      }\n    },\n    {\n      \"column\": 8,\n      \"properties\": {\n        \"dtype\": \"string\",\n        \"num_unique_values\": 5,\n        \"samples\": [\n          \"\\ubd80\\ub3d9\\uc0b0\",\n          \"\\uc5d0\\uc11c\",\n          \"\\uad00\\ub9ac\"\n        ],\n        \"semantic_type\": \"\",\n        \"description\": \"\"\n      }\n    },\n    {\n      \"column\": 9,\n      \"properties\": {\n        \"dtype\": \"string\",\n        \"num_unique_values\": 5,\n        \"samples\": [\n          \"7\\uc6d4\",\n          \"\\ub358\\uc9c0\",\n          \"\\ub2f9\\uc815\"\n        ],\n        \"semantic_type\": \"\",\n        \"description\": \"\"\n      }\n    }\n  ]\n}"
            }
          },
          "metadata": {},
          "execution_count": 102
        }
      ]
    },
    {
      "cell_type": "markdown",
      "source": [
        "# 09.5 코사인 유사도에 의한 문서 유사도 평가"
      ],
      "metadata": {
        "id": "lUne_n8zwh5a"
      },
      "id": "lUne_n8zwh5a"
    },
    {
      "cell_type": "code",
      "source": [
        "import numpy as np\n",
        "def cos_sim(A, B):\n",
        "    return np.dot(A, B)/(np.linalg.norm(A)*np.linalg.norm(B))\n",
        "print(cos_sim(dtm[0],dtm[1]),cos_sim(dtm[0],dtm[2]), cos_sim(dtm[0],dtm[3]), cos_sim(dtm[0],dtm[4]))\n",
        "print(cos_sim(tfidf[0],tfidf[1]),cos_sim(tfidf[0],tfidf[2]), cos_sim(tfidf[0],tfidf[3]), cos_sim(tfidf[0],tfidf[4]))"
      ],
      "metadata": {
        "colab": {
          "base_uri": "https://localhost:8080/"
        },
        "id": "ojNup6tMkxYJ",
        "outputId": "f97cb24c-c42a-4228-94c1-ef91aabb8d58"
      },
      "id": "ojNup6tMkxYJ",
      "execution_count": 109,
      "outputs": [
        {
          "output_type": "stream",
          "name": "stdout",
          "text": [
            "0.24992869224796024 0.13486784062821366 0.19127542896706215 0.07643584558374635\n",
            "0.13967511316579612 0.041630823790375936 0.07295507073539963 0.028434352099514188\n"
          ]
        }
      ]
    },
    {
      "cell_type": "code",
      "source": [],
      "metadata": {
        "id": "u4Hf0S2pyMJ9"
      },
      "id": "u4Hf0S2pyMJ9",
      "execution_count": null,
      "outputs": []
    }
  ]
}