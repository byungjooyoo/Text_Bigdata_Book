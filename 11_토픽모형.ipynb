{
  "nbformat": 4,
  "nbformat_minor": 0,
  "metadata": {
    "colab": {
      "provenance": [],
      "toc_visible": true
    },
    "kernelspec": {
      "name": "python3",
      "display_name": "Python 3"
    },
    "language_info": {
      "name": "python"
    }
  },
  "cells": [
    {
      "cell_type": "markdown",
      "metadata": {
        "id": "kvoo0S9C4NxP"
      },
      "source": [
        "# 환경구성"
      ]
    },
    {
      "cell_type": "code",
      "metadata": {
        "id": "_LzgMeMw4VB5"
      },
      "source": [
        "# 폰트 설치\n",
        "!apt-get update -qq # 나눔고딕 설치\n",
        "!apt-get install fonts-nanum* -qq\n",
        "\n",
        "import matplotlib as mpl\n",
        "import matplotlib.pyplot as plt\n",
        "import matplotlib.font_manager as fm\n",
        "\n",
        "fontpath = '/usr/share/fonts/truetype/nanum/NanumBarunGothic.ttf'\n",
        "font = fm.FontProperties(fname=fontpath, size=9)\n",
        "plt.rc('font', family='NanumBarunGothic') \n",
        "mpl.font_manager._rebuild()\n",
        "# 여기까지 실행 후 \"런타임 다시 시작...\" 실행 (이 부분은 실행할 필요 없음)"
      ],
      "execution_count": null,
      "outputs": []
    },
    {
      "cell_type": "code",
      "metadata": {
        "colab": {
          "base_uri": "https://localhost:8080/"
        },
        "id": "8prjnIkEIACW",
        "outputId": "41d6802a-cf0f-4c58-e661-8cb5bccf6a25"
      },
      "source": [
        "# 한국어 형태소 분석 라이브러리\n",
        "!pip install konlpy"
      ],
      "execution_count": null,
      "outputs": [
        {
          "output_type": "stream",
          "name": "stdout",
          "text": [
            "Requirement already satisfied: konlpy in /usr/local/lib/python3.7/dist-packages (0.6.0)\n",
            "Requirement already satisfied: lxml>=4.1.0 in /usr/local/lib/python3.7/dist-packages (from konlpy) (4.2.6)\n",
            "Requirement already satisfied: numpy>=1.6 in /usr/local/lib/python3.7/dist-packages (from konlpy) (1.21.6)\n",
            "Requirement already satisfied: JPype1>=0.7.0 in /usr/local/lib/python3.7/dist-packages (from konlpy) (1.3.0)\n",
            "Requirement already satisfied: typing-extensions in /usr/local/lib/python3.7/dist-packages (from JPype1>=0.7.0->konlpy) (4.2.0)\n"
          ]
        }
      ]
    },
    {
      "cell_type": "code",
      "metadata": {
        "colab": {
          "base_uri": "https://localhost:8080/"
        },
        "id": "Dyp29XPNIE-r",
        "outputId": "79398203-9dab-4207-ea2c-eaa6a1367b8f"
      },
      "source": [
        "# 토픽모형 분석을 위한 라이브러리\n",
        "!pip install gensim"
      ],
      "execution_count": null,
      "outputs": [
        {
          "output_type": "stream",
          "name": "stdout",
          "text": [
            "Requirement already satisfied: gensim in /usr/local/lib/python3.7/dist-packages (3.6.0)\n",
            "Requirement already satisfied: smart-open>=1.2.1 in /usr/local/lib/python3.7/dist-packages (from gensim) (6.0.0)\n",
            "Requirement already satisfied: numpy>=1.11.3 in /usr/local/lib/python3.7/dist-packages (from gensim) (1.21.6)\n",
            "Requirement already satisfied: six>=1.5.0 in /usr/local/lib/python3.7/dist-packages (from gensim) (1.15.0)\n",
            "Requirement already satisfied: scipy>=0.18.1 in /usr/local/lib/python3.7/dist-packages (from gensim) (1.4.1)\n"
          ]
        }
      ]
    },
    {
      "cell_type": "markdown",
      "metadata": {
        "id": "h0Z8tca1eWuE"
      },
      "source": [
        "# 1.문서 수치화 : 카운트 기반의 단어 표현(Count based word Representation)"
      ]
    },
    {
      "cell_type": "markdown",
      "metadata": {
        "id": "AoPfQHbbzdIr"
      },
      "source": [
        "## 가.One-Hot Encoding"
      ]
    },
    {
      "cell_type": "code",
      "metadata": {
        "id": "2H0BLydCb7lg"
      },
      "source": [
        "# one hot encoding text\n",
        "docs = '''나는 매우 매우 나는 매우 좋은 선생님 입니다\n",
        "당신은 매우 좋은 학생 학생 학생 입니다\n",
        "당신은 매우 좋은 학생 학생 입니다'''"
      ],
      "execution_count": null,
      "outputs": []
    },
    {
      "cell_type": "code",
      "metadata": {
        "id": "kYkW9ulfMsJh",
        "colab": {
          "base_uri": "https://localhost:8080/"
        },
        "outputId": "a3721362-e424-4f6d-bcf8-1f52389d3c61"
      },
      "source": [
        "tokens = docs.split()\n",
        "print(tokens)"
      ],
      "execution_count": null,
      "outputs": [
        {
          "output_type": "stream",
          "name": "stdout",
          "text": [
            "['나는', '매우', '매우', '나는', '매우', '좋은', '선생님', '입니다', '당신은', '매우', '좋은', '학생', '학생', '학생', '입니다', '당신은', '매우', '좋은', '학생', '학생', '입니다']\n"
          ]
        }
      ]
    },
    {
      "cell_type": "code",
      "metadata": {
        "id": "fBy3trarM9K6",
        "colab": {
          "base_uri": "https://localhost:8080/"
        },
        "outputId": "6a281a25-6050-4259-b23a-b9fffe2d2eba"
      },
      "source": [
        "words = list(dict.fromkeys(tokens))\n",
        "words"
      ],
      "execution_count": null,
      "outputs": [
        {
          "output_type": "execute_result",
          "data": {
            "text/plain": [
              "['나는', '매우', '좋은', '선생님', '입니다', '당신은', '학생']"
            ]
          },
          "metadata": {},
          "execution_count": 5
        }
      ]
    },
    {
      "cell_type": "code",
      "metadata": {
        "id": "DSndx7RxNDyR",
        "colab": {
          "base_uri": "https://localhost:8080/"
        },
        "outputId": "f58ba8fd-3a72-4610-b4b1-b69751d9a977"
      },
      "source": [
        "# 각 단어에 고유한 번호 부여한 dictionary 생성\n",
        "word_to_id = {'[PAD]': 0, '[UNK]': 1}  # [PAD]: 길이 맞추는 용도, [UNK]: 알 수 없는 token\n",
        "for word in words:\n",
        "    word_to_id[word] = len(word_to_id)\n",
        "\n",
        "print(word_to_id)"
      ],
      "execution_count": null,
      "outputs": [
        {
          "output_type": "stream",
          "name": "stdout",
          "text": [
            "{'[PAD]': 0, '[UNK]': 1, '나는': 2, '매우': 3, '좋은': 4, '선생님': 5, '입니다': 6, '당신은': 7, '학생': 8}\n"
          ]
        }
      ]
    },
    {
      "cell_type": "code",
      "metadata": {
        "id": "hyxX8P0UNogt",
        "colab": {
          "base_uri": "https://localhost:8080/"
        },
        "outputId": "444f2ba6-01ef-4e2d-d10d-3bfc8eddab9a"
      },
      "source": [
        "# 고유한 번호로 부터 단어를 찾을 수 있는 dictionary 생성\n",
        "id_to_word = {_id:word for word, _id in word_to_id.items()}\n",
        "print(id_to_word)"
      ],
      "execution_count": null,
      "outputs": [
        {
          "output_type": "stream",
          "name": "stdout",
          "text": [
            "{0: '[PAD]', 1: '[UNK]', 2: '나는', 3: '매우', 4: '좋은', 5: '선생님', 6: '입니다', 7: '당신은', 8: '학생'}\n"
          ]
        }
      ]
    },
    {
      "cell_type": "code",
      "metadata": {
        "id": "EH8CnhmuN4Ev",
        "colab": {
          "base_uri": "https://localhost:8080/"
        },
        "outputId": "ceddec94-d5c7-44cc-b4a0-5f7319a31c10"
      },
      "source": [
        "# 줄바꿈 단위로 문장 분리\n",
        "sentences = docs.split(\"\\n\")\n",
        "sentences"
      ],
      "execution_count": null,
      "outputs": [
        {
          "output_type": "execute_result",
          "data": {
            "text/plain": [
              "['나는 매우 매우 나는 매우 좋은 선생님 입니다', '당신은 매우 좋은 학생 학생 학생 입니다', '당신은 매우 좋은 학생 학생 입니다']"
            ]
          },
          "metadata": {},
          "execution_count": 8
        }
      ]
    },
    {
      "cell_type": "code",
      "metadata": {
        "id": "q330mF5IN6Q-",
        "colab": {
          "base_uri": "https://localhost:8080/"
        },
        "outputId": "4dbede07-d2eb-4dd5-d424-331f1023c9fa"
      },
      "source": [
        "# 띄어쓰기 단위로 단어 분리\n",
        "tokens = []\n",
        "for sentence in sentences:\n",
        "    tokens.append(sentence.split())\n",
        "tokens"
      ],
      "execution_count": null,
      "outputs": [
        {
          "output_type": "execute_result",
          "data": {
            "text/plain": [
              "[['나는', '매우', '매우', '나는', '매우', '좋은', '선생님', '입니다'],\n",
              " ['당신은', '매우', '좋은', '학생', '학생', '학생', '입니다'],\n",
              " ['당신은', '매우', '좋은', '학생', '학생', '입니다']]"
            ]
          },
          "metadata": {},
          "execution_count": 9
        }
      ]
    },
    {
      "cell_type": "code",
      "metadata": {
        "id": "4mJPXOBJOOuw",
        "colab": {
          "base_uri": "https://localhost:8080/"
        },
        "outputId": "139fa948-2c42-4682-a3cc-37e780142cb4"
      },
      "source": [
        "# tokens을 vocabulary의 고유 번호로 변경\n",
        "token_ids = []\n",
        "for line_token in tokens:\n",
        "    token_ids.append([word_to_id[token] for token in line_token])\n",
        "token_ids"
      ],
      "execution_count": null,
      "outputs": [
        {
          "output_type": "execute_result",
          "data": {
            "text/plain": [
              "[[2, 3, 3, 2, 3, 4, 5, 6], [7, 3, 4, 8, 8, 8, 6], [7, 3, 4, 8, 8, 6]]"
            ]
          },
          "metadata": {},
          "execution_count": 10
        }
      ]
    },
    {
      "cell_type": "code",
      "metadata": {
        "id": "qpL1RtY7OS1p",
        "colab": {
          "base_uri": "https://localhost:8080/"
        },
        "outputId": "6da5a72f-d5f5-4547-d31f-5edd49d3aabf"
      },
      "source": [
        "# one hot encoding\n",
        "one_hot_encodings = []\n",
        "for line_token in token_ids:\n",
        "    print(line_token)\n",
        "    one_hot_line = []  # 한 줄을 표현하는 벡터\n",
        "    for id in line_token:\n",
        "        # print(id)\n",
        "        one_hot = [0] * len(word_to_id)  # 모두 0인 벡터를 만듬\n",
        "        # print(one_hot)\n",
        "        one_hot[id] = 1  # 단어 id만 1로 변경\n",
        "        print(id, one_hot)\n",
        "        one_hot_line.append(one_hot)  # 단어를 라인에 추가\n",
        "    print(one_hot_line)\n",
        "    one_hot_encodings.append(one_hot_line)  # 라인을 전체 문서에 추가"
      ],
      "execution_count": null,
      "outputs": [
        {
          "output_type": "stream",
          "name": "stdout",
          "text": [
            "[2, 3, 3, 2, 3, 4, 5, 6]\n",
            "2 [0, 0, 1, 0, 0, 0, 0, 0, 0]\n",
            "3 [0, 0, 0, 1, 0, 0, 0, 0, 0]\n",
            "3 [0, 0, 0, 1, 0, 0, 0, 0, 0]\n",
            "2 [0, 0, 1, 0, 0, 0, 0, 0, 0]\n",
            "3 [0, 0, 0, 1, 0, 0, 0, 0, 0]\n",
            "4 [0, 0, 0, 0, 1, 0, 0, 0, 0]\n",
            "5 [0, 0, 0, 0, 0, 1, 0, 0, 0]\n",
            "6 [0, 0, 0, 0, 0, 0, 1, 0, 0]\n",
            "[[0, 0, 1, 0, 0, 0, 0, 0, 0], [0, 0, 0, 1, 0, 0, 0, 0, 0], [0, 0, 0, 1, 0, 0, 0, 0, 0], [0, 0, 1, 0, 0, 0, 0, 0, 0], [0, 0, 0, 1, 0, 0, 0, 0, 0], [0, 0, 0, 0, 1, 0, 0, 0, 0], [0, 0, 0, 0, 0, 1, 0, 0, 0], [0, 0, 0, 0, 0, 0, 1, 0, 0]]\n",
            "[7, 3, 4, 8, 8, 8, 6]\n",
            "7 [0, 0, 0, 0, 0, 0, 0, 1, 0]\n",
            "3 [0, 0, 0, 1, 0, 0, 0, 0, 0]\n",
            "4 [0, 0, 0, 0, 1, 0, 0, 0, 0]\n",
            "8 [0, 0, 0, 0, 0, 0, 0, 0, 1]\n",
            "8 [0, 0, 0, 0, 0, 0, 0, 0, 1]\n",
            "8 [0, 0, 0, 0, 0, 0, 0, 0, 1]\n",
            "6 [0, 0, 0, 0, 0, 0, 1, 0, 0]\n",
            "[[0, 0, 0, 0, 0, 0, 0, 1, 0], [0, 0, 0, 1, 0, 0, 0, 0, 0], [0, 0, 0, 0, 1, 0, 0, 0, 0], [0, 0, 0, 0, 0, 0, 0, 0, 1], [0, 0, 0, 0, 0, 0, 0, 0, 1], [0, 0, 0, 0, 0, 0, 0, 0, 1], [0, 0, 0, 0, 0, 0, 1, 0, 0]]\n",
            "[7, 3, 4, 8, 8, 6]\n",
            "7 [0, 0, 0, 0, 0, 0, 0, 1, 0]\n",
            "3 [0, 0, 0, 1, 0, 0, 0, 0, 0]\n",
            "4 [0, 0, 0, 0, 1, 0, 0, 0, 0]\n",
            "8 [0, 0, 0, 0, 0, 0, 0, 0, 1]\n",
            "8 [0, 0, 0, 0, 0, 0, 0, 0, 1]\n",
            "6 [0, 0, 0, 0, 0, 0, 1, 0, 0]\n",
            "[[0, 0, 0, 0, 0, 0, 0, 1, 0], [0, 0, 0, 1, 0, 0, 0, 0, 0], [0, 0, 0, 0, 1, 0, 0, 0, 0], [0, 0, 0, 0, 0, 0, 0, 0, 1], [0, 0, 0, 0, 0, 0, 0, 0, 1], [0, 0, 0, 0, 0, 0, 1, 0, 0]]\n"
          ]
        }
      ]
    },
    {
      "cell_type": "code",
      "metadata": {
        "id": "USRtIkT4-PUP",
        "colab": {
          "base_uri": "https://localhost:8080/"
        },
        "outputId": "8bd9b754-ca80-4164-db85-a52aafefc799"
      },
      "source": [
        "one_hot_encodings"
      ],
      "execution_count": null,
      "outputs": [
        {
          "output_type": "execute_result",
          "data": {
            "text/plain": [
              "[[[0, 0, 1, 0, 0, 0, 0, 0, 0],\n",
              "  [0, 0, 0, 1, 0, 0, 0, 0, 0],\n",
              "  [0, 0, 0, 1, 0, 0, 0, 0, 0],\n",
              "  [0, 0, 1, 0, 0, 0, 0, 0, 0],\n",
              "  [0, 0, 0, 1, 0, 0, 0, 0, 0],\n",
              "  [0, 0, 0, 0, 1, 0, 0, 0, 0],\n",
              "  [0, 0, 0, 0, 0, 1, 0, 0, 0],\n",
              "  [0, 0, 0, 0, 0, 0, 1, 0, 0]],\n",
              " [[0, 0, 0, 0, 0, 0, 0, 1, 0],\n",
              "  [0, 0, 0, 1, 0, 0, 0, 0, 0],\n",
              "  [0, 0, 0, 0, 1, 0, 0, 0, 0],\n",
              "  [0, 0, 0, 0, 0, 0, 0, 0, 1],\n",
              "  [0, 0, 0, 0, 0, 0, 0, 0, 1],\n",
              "  [0, 0, 0, 0, 0, 0, 0, 0, 1],\n",
              "  [0, 0, 0, 0, 0, 0, 1, 0, 0]],\n",
              " [[0, 0, 0, 0, 0, 0, 0, 1, 0],\n",
              "  [0, 0, 0, 1, 0, 0, 0, 0, 0],\n",
              "  [0, 0, 0, 0, 1, 0, 0, 0, 0],\n",
              "  [0, 0, 0, 0, 0, 0, 0, 0, 1],\n",
              "  [0, 0, 0, 0, 0, 0, 0, 0, 1],\n",
              "  [0, 0, 0, 0, 0, 0, 1, 0, 0]]]"
            ]
          },
          "metadata": {},
          "execution_count": 12
        }
      ]
    },
    {
      "cell_type": "code",
      "metadata": {
        "id": "hXaaC7l1MNfI",
        "colab": {
          "base_uri": "https://localhost:8080/"
        },
        "outputId": "06c5fe1a-5d82-4698-ff18-79cd0aad6f59"
      },
      "source": [
        "import numpy as np\n",
        "np.argmax(np.array(one_hot_encodings[2]), axis=-1)"
      ],
      "execution_count": null,
      "outputs": [
        {
          "output_type": "execute_result",
          "data": {
            "text/plain": [
              "array([7, 3, 4, 8, 8, 6])"
            ]
          },
          "metadata": {},
          "execution_count": 13
        }
      ]
    },
    {
      "cell_type": "code",
      "metadata": {
        "id": "-7643drmsHvh",
        "colab": {
          "base_uri": "https://localhost:8080/"
        },
        "outputId": "a6c86c64-bd8f-4fd7-a761-916889ed74d4"
      },
      "source": [
        "token_ids[2]\n",
        "for token in token_ids[2]:\n",
        "  print(id_to_word[token])"
      ],
      "execution_count": null,
      "outputs": [
        {
          "output_type": "stream",
          "name": "stdout",
          "text": [
            "당신은\n",
            "매우\n",
            "좋은\n",
            "학생\n",
            "학생\n",
            "입니다\n"
          ]
        }
      ]
    },
    {
      "cell_type": "code",
      "metadata": {
        "id": "k_29J14jOtYq"
      },
      "source": [
        "import tensorflow as tf\n",
        "# tensorflow one hot\n",
        "# token_ids가 길이가 달라서 오류 발생\n",
        "# depth는 vocabulary 크기\n",
        "\n",
        "# tf_one_hot_encodings = tf.one_hot(indices=token_ids, depth=len(word_to_id))\n",
        "# tf_one_hot_encodings"
      ],
      "execution_count": null,
      "outputs": []
    },
    {
      "cell_type": "code",
      "metadata": {
        "colab": {
          "base_uri": "https://localhost:8080/"
        },
        "id": "0vjHAjSSj2Jc",
        "outputId": "46e7d8a8-01f8-4aa1-b5e1-27af0a3b3c3e"
      },
      "source": [
        "id_to_word"
      ],
      "execution_count": null,
      "outputs": [
        {
          "output_type": "execute_result",
          "data": {
            "text/plain": [
              "{0: '[PAD]',\n",
              " 1: '[UNK]',\n",
              " 2: '나는',\n",
              " 3: '매우',\n",
              " 4: '좋은',\n",
              " 5: '선생님',\n",
              " 6: '입니다',\n",
              " 7: '당신은',\n",
              " 8: '학생'}"
            ]
          },
          "metadata": {},
          "execution_count": 16
        }
      ]
    },
    {
      "cell_type": "code",
      "metadata": {
        "id": "pMh8KXVbZ55a",
        "colab": {
          "base_uri": "https://localhost:8080/"
        },
        "outputId": "4b2a87f0-e00f-4767-e381-256cde6de13a"
      },
      "source": [
        "# token_ids가 앞 1개만 one_hot으로 변경\n",
        "tf_one_hot_encodings = tf.one_hot(indices=token_ids[2], depth=len(word_to_id))\n",
        "tf_one_hot_encodings"
      ],
      "execution_count": null,
      "outputs": [
        {
          "output_type": "execute_result",
          "data": {
            "text/plain": [
              "<tf.Tensor: shape=(6, 9), dtype=float32, numpy=\n",
              "array([[0., 0., 0., 0., 0., 0., 0., 1., 0.],\n",
              "       [0., 0., 0., 1., 0., 0., 0., 0., 0.],\n",
              "       [0., 0., 0., 0., 1., 0., 0., 0., 0.],\n",
              "       [0., 0., 0., 0., 0., 0., 0., 0., 1.],\n",
              "       [0., 0., 0., 0., 0., 0., 0., 0., 1.],\n",
              "       [0., 0., 0., 0., 0., 0., 1., 0., 0.]], dtype=float32)>"
            ]
          },
          "metadata": {},
          "execution_count": 17
        }
      ]
    },
    {
      "cell_type": "code",
      "metadata": {
        "id": "xWmcI_-YaMmc",
        "colab": {
          "base_uri": "https://localhost:8080/"
        },
        "outputId": "d80946a7-2084-4fc8-8b19-fbdfe9b3b044"
      },
      "source": [
        "# 모두 길이가 5가 되도록 pad(0) 추가\n",
        "pad_ids = []\n",
        "for line in token_ids:\n",
        "    line = line[:8]\n",
        "    line += [0] * (8 - len(line))\n",
        "    pad_ids.append(line)\n",
        "pad_ids"
      ],
      "execution_count": null,
      "outputs": [
        {
          "output_type": "execute_result",
          "data": {
            "text/plain": [
              "[[2, 3, 3, 2, 3, 4, 5, 6], [7, 3, 4, 8, 8, 8, 6, 0], [7, 3, 4, 8, 8, 6, 0, 0]]"
            ]
          },
          "metadata": {},
          "execution_count": 18
        }
      ]
    },
    {
      "cell_type": "code",
      "metadata": {
        "id": "QVNudJ4-aT7c",
        "colab": {
          "base_uri": "https://localhost:8080/"
        },
        "outputId": "7f31ab68-d9a4-4824-9010-139e7a0d5976"
      },
      "source": [
        "tf_one_hot_encodings = tf.one_hot(indices=pad_ids, depth=len(word_to_id))\n",
        "tf_one_hot_encodings"
      ],
      "execution_count": null,
      "outputs": [
        {
          "output_type": "execute_result",
          "data": {
            "text/plain": [
              "<tf.Tensor: shape=(3, 8, 9), dtype=float32, numpy=\n",
              "array([[[0., 0., 1., 0., 0., 0., 0., 0., 0.],\n",
              "        [0., 0., 0., 1., 0., 0., 0., 0., 0.],\n",
              "        [0., 0., 0., 1., 0., 0., 0., 0., 0.],\n",
              "        [0., 0., 1., 0., 0., 0., 0., 0., 0.],\n",
              "        [0., 0., 0., 1., 0., 0., 0., 0., 0.],\n",
              "        [0., 0., 0., 0., 1., 0., 0., 0., 0.],\n",
              "        [0., 0., 0., 0., 0., 1., 0., 0., 0.],\n",
              "        [0., 0., 0., 0., 0., 0., 1., 0., 0.]],\n",
              "\n",
              "       [[0., 0., 0., 0., 0., 0., 0., 1., 0.],\n",
              "        [0., 0., 0., 1., 0., 0., 0., 0., 0.],\n",
              "        [0., 0., 0., 0., 1., 0., 0., 0., 0.],\n",
              "        [0., 0., 0., 0., 0., 0., 0., 0., 1.],\n",
              "        [0., 0., 0., 0., 0., 0., 0., 0., 1.],\n",
              "        [0., 0., 0., 0., 0., 0., 0., 0., 1.],\n",
              "        [0., 0., 0., 0., 0., 0., 1., 0., 0.],\n",
              "        [1., 0., 0., 0., 0., 0., 0., 0., 0.]],\n",
              "\n",
              "       [[0., 0., 0., 0., 0., 0., 0., 1., 0.],\n",
              "        [0., 0., 0., 1., 0., 0., 0., 0., 0.],\n",
              "        [0., 0., 0., 0., 1., 0., 0., 0., 0.],\n",
              "        [0., 0., 0., 0., 0., 0., 0., 0., 1.],\n",
              "        [0., 0., 0., 0., 0., 0., 0., 0., 1.],\n",
              "        [0., 0., 0., 0., 0., 0., 1., 0., 0.],\n",
              "        [1., 0., 0., 0., 0., 0., 0., 0., 0.],\n",
              "        [1., 0., 0., 0., 0., 0., 0., 0., 0.]]], dtype=float32)>"
            ]
          },
          "metadata": {},
          "execution_count": 19
        }
      ]
    },
    {
      "cell_type": "markdown",
      "metadata": {
        "id": "DsZKQL0mAxEz"
      },
      "source": [
        "## 나.Bag of Words"
      ]
    },
    {
      "cell_type": "markdown",
      "metadata": {
        "id": "YNJVasBbA1qU"
      },
      "source": [
        "* 모든 단어를 포함하는 vocab을 만들어서 각 단어에 인텍스를 부여\n",
        "* vocab의 인텍스 위치에 그단어의 등장횟수를 기록"
      ]
    },
    {
      "cell_type": "markdown",
      "metadata": {
        "id": "SnF9E71rB1CJ"
      },
      "source": [
        "#### 1)말뭉치 사전 만들기"
      ]
    },
    {
      "cell_type": "code",
      "metadata": {
        "id": "4wnEVl4-B-8n",
        "colab": {
          "base_uri": "https://localhost:8080/"
        },
        "outputId": "4e5295a2-8143-4966-e7b6-3863b214f106"
      },
      "source": [
        "# 토큰으로 분리\n",
        "tokens = docs.split()\n",
        "words = list(dict.fromkeys(tokens))\n",
        "words"
      ],
      "execution_count": null,
      "outputs": [
        {
          "output_type": "execute_result",
          "data": {
            "text/plain": [
              "['나는', '매우', '좋은', '선생님', '입니다', '당신은', '학생']"
            ]
          },
          "metadata": {},
          "execution_count": 20
        }
      ]
    },
    {
      "cell_type": "code",
      "metadata": {
        "id": "CeMQfvN4CIEv",
        "colab": {
          "base_uri": "https://localhost:8080/"
        },
        "outputId": "2251d644-4064-4719-f7be-060be86d56ac"
      },
      "source": [
        "# 각 단어에 고유한 번호 부여한 dictionary 생성\n",
        "word_to_id = {}\n",
        "for word in words:\n",
        "    word_to_id[word] = len(word_to_id)\n",
        "word_to_id"
      ],
      "execution_count": null,
      "outputs": [
        {
          "output_type": "execute_result",
          "data": {
            "text/plain": [
              "{'나는': 0, '당신은': 5, '매우': 1, '선생님': 3, '입니다': 4, '좋은': 2, '학생': 6}"
            ]
          },
          "metadata": {},
          "execution_count": 21
        }
      ]
    },
    {
      "cell_type": "code",
      "metadata": {
        "id": "1TLWStSUAHST",
        "colab": {
          "base_uri": "https://localhost:8080/"
        },
        "outputId": "68a6b99b-f71c-4654-d09b-9f2d08255d7b"
      },
      "source": [
        "word_to_id.values()\n"
      ],
      "execution_count": null,
      "outputs": [
        {
          "output_type": "execute_result",
          "data": {
            "text/plain": [
              "dict_values([0, 1, 2, 3, 4, 5, 6])"
            ]
          },
          "metadata": {},
          "execution_count": 22
        }
      ]
    },
    {
      "cell_type": "code",
      "metadata": {
        "id": "hCbzNuLwCP_8",
        "colab": {
          "base_uri": "https://localhost:8080/"
        },
        "outputId": "298821d2-11dc-42db-a30b-8ebef7a6b6c1"
      },
      "source": [
        "# 고유한 번호로 부터 단어를 찾을 수 있는 dictionary 생성\n",
        "id2word = {_id:word for word, _id in word_to_id.items()}\n",
        "id2word"
      ],
      "execution_count": null,
      "outputs": [
        {
          "output_type": "execute_result",
          "data": {
            "text/plain": [
              "{0: '나는', 1: '매우', 2: '좋은', 3: '선생님', 4: '입니다', 5: '당신은', 6: '학생'}"
            ]
          },
          "metadata": {},
          "execution_count": 23
        }
      ]
    },
    {
      "cell_type": "code",
      "metadata": {
        "id": "uGjN4UVyCSsz",
        "colab": {
          "base_uri": "https://localhost:8080/"
        },
        "outputId": "726c9b3c-60ac-44f5-cafe-f35663958fdd"
      },
      "source": [
        "# 말뭉치 사전 : id2word, 말뭉치 단어기준 index :word_to_id\n",
        "id2word"
      ],
      "execution_count": null,
      "outputs": [
        {
          "output_type": "execute_result",
          "data": {
            "text/plain": [
              "{0: '나는', 1: '매우', 2: '좋은', 3: '선생님', 4: '입니다', 5: '당신은', 6: '학생'}"
            ]
          },
          "metadata": {},
          "execution_count": 24
        }
      ]
    },
    {
      "cell_type": "markdown",
      "metadata": {
        "id": "SSxQ8kDECuF9"
      },
      "source": [
        "#### 2) BOW 생성"
      ]
    },
    {
      "cell_type": "markdown",
      "metadata": {
        "id": "V9pTaYQyKyqx"
      },
      "source": [
        "말뭉치 사전의 토큰 인덱스 위치에 토큰 출현 회수 누적"
      ]
    },
    {
      "cell_type": "code",
      "metadata": {
        "id": "maw7sk4IDgye",
        "colab": {
          "base_uri": "https://localhost:8080/"
        },
        "outputId": "5c7cb3d3-273d-4244-f8df-00f237eac7b4"
      },
      "source": [
        "# 줄바꿈 단위로 문장 분리\n",
        "sentences = docs.split(\"\\n\")\n",
        "# 띄어쓰기 단위로 단어 분리\n",
        "tokens = []\n",
        "for sentence in sentences:\n",
        "    tokens.append(sentence.split())\n",
        "tokens"
      ],
      "execution_count": null,
      "outputs": [
        {
          "output_type": "execute_result",
          "data": {
            "text/plain": [
              "[['나는', '매우', '매우', '나는', '매우', '좋은', '선생님', '입니다'],\n",
              " ['당신은', '매우', '좋은', '학생', '학생', '학생', '입니다'],\n",
              " ['당신은', '매우', '좋은', '학생', '학생', '입니다']]"
            ]
          },
          "metadata": {},
          "execution_count": 25
        }
      ]
    },
    {
      "cell_type": "code",
      "metadata": {
        "id": "4bye5owjJNRr",
        "colab": {
          "base_uri": "https://localhost:8080/"
        },
        "outputId": "ac56a8f2-c2b2-46c9-823d-c4e1716242bc"
      },
      "source": [
        "# 말뭉치사전에서 토큰 기준 id를 생성\n",
        "token_to_id = {t:_id for _id, t in id2word.items()}\n",
        "print(token_to_id)"
      ],
      "execution_count": null,
      "outputs": [
        {
          "output_type": "stream",
          "name": "stdout",
          "text": [
            "{'나는': 0, '매우': 1, '좋은': 2, '선생님': 3, '입니다': 4, '당신은': 5, '학생': 6}\n"
          ]
        }
      ]
    },
    {
      "cell_type": "code",
      "metadata": {
        "id": "ZBOQZxmtTUE5",
        "colab": {
          "base_uri": "https://localhost:8080/"
        },
        "outputId": "69a9c1ec-675f-4a84-f6f1-0483a6f70897"
      },
      "source": [
        "# tokens을 말뭉치사전의 고유 번호로 변경\n",
        "token_ids = []\n",
        "for line in tokens:\n",
        "    token_ids.append([token_to_id[token] for token in line])\n",
        "token_ids"
      ],
      "execution_count": null,
      "outputs": [
        {
          "output_type": "execute_result",
          "data": {
            "text/plain": [
              "[[0, 1, 1, 0, 1, 2, 3, 4], [5, 1, 2, 6, 6, 6, 4], [5, 1, 2, 6, 6, 4]]"
            ]
          },
          "metadata": {},
          "execution_count": 27
        }
      ]
    },
    {
      "cell_type": "markdown",
      "metadata": {
        "id": "JmEwHOVjeMAS"
      },
      "source": [
        "#  2.문서 단어 행렬과 유사도 평가"
      ]
    },
    {
      "cell_type": "markdown",
      "metadata": {
        "id": "yNCyhNZsct88"
      },
      "source": [
        "## 가.문서 단어 행렬(Document-Term Matrix, DTM)"
      ]
    },
    {
      "cell_type": "markdown",
      "metadata": {
        "id": "pyZlpfvCdJDN"
      },
      "source": [
        "DTM 문서에서 등장한 단어의 빈도를 행렬의 값으로 표기하여 문서들의 특징을 서로 비교할 수 있도록 수치화\n",
        "\n",
        "* 희소 표현(Sparse representation) : one-hot으로 표현\n",
        "* 단어의 빈도수로 표현"
      ]
    },
    {
      "cell_type": "code",
      "metadata": {
        "id": "ijQMpofVUFSO",
        "colab": {
          "base_uri": "https://localhost:8080/"
        },
        "outputId": "f329db88-4c96-4146-82bc-f1854957104b"
      },
      "source": [
        "# one hot encoding\n",
        "one_hot_encodings = []\n",
        "for line_token in token_ids:\n",
        "    print(line_token)\n",
        "    one_hot_line = []  # 한 줄을 표현하는 벡터\n",
        "    for id in line_token:\n",
        "        one_hot = [0] * len(id2word)  # 모두 0인 벡터를 만듬\n",
        "        one_hot[id] = 1  # 단어 id만 1로 변경\n",
        "        print(id, one_hot)\n",
        "        one_hot_line.append(one_hot)  # 단어를 라인에 추가\n",
        "    one_hot_encodings.append((one_hot_line))  # 라인을 전체 문서에 추가"
      ],
      "execution_count": null,
      "outputs": [
        {
          "output_type": "stream",
          "name": "stdout",
          "text": [
            "[0, 1, 1, 0, 1, 2, 3, 4]\n",
            "0 [1, 0, 0, 0, 0, 0, 0]\n",
            "1 [0, 1, 0, 0, 0, 0, 0]\n",
            "1 [0, 1, 0, 0, 0, 0, 0]\n",
            "0 [1, 0, 0, 0, 0, 0, 0]\n",
            "1 [0, 1, 0, 0, 0, 0, 0]\n",
            "2 [0, 0, 1, 0, 0, 0, 0]\n",
            "3 [0, 0, 0, 1, 0, 0, 0]\n",
            "4 [0, 0, 0, 0, 1, 0, 0]\n",
            "[5, 1, 2, 6, 6, 6, 4]\n",
            "5 [0, 0, 0, 0, 0, 1, 0]\n",
            "1 [0, 1, 0, 0, 0, 0, 0]\n",
            "2 [0, 0, 1, 0, 0, 0, 0]\n",
            "6 [0, 0, 0, 0, 0, 0, 1]\n",
            "6 [0, 0, 0, 0, 0, 0, 1]\n",
            "6 [0, 0, 0, 0, 0, 0, 1]\n",
            "4 [0, 0, 0, 0, 1, 0, 0]\n",
            "[5, 1, 2, 6, 6, 4]\n",
            "5 [0, 0, 0, 0, 0, 1, 0]\n",
            "1 [0, 1, 0, 0, 0, 0, 0]\n",
            "2 [0, 0, 1, 0, 0, 0, 0]\n",
            "6 [0, 0, 0, 0, 0, 0, 1]\n",
            "6 [0, 0, 0, 0, 0, 0, 1]\n",
            "4 [0, 0, 0, 0, 1, 0, 0]\n"
          ]
        }
      ]
    },
    {
      "cell_type": "code",
      "metadata": {
        "id": "fTfi4cntDruR",
        "colab": {
          "base_uri": "https://localhost:8080/"
        },
        "outputId": "c9158ef9-2ced-431a-cb1b-f47b242ead66"
      },
      "source": [
        "# 말뭉치사전(id2word)의 인텍스를 기준으로 bow 생성\n",
        "bows = []\n",
        "for line in tokens:\n",
        "    print(line)\n",
        "    bow = [0] * len(id2word)\n",
        "    print(bow)\n",
        "    for t in line:\n",
        "        # print(t)\n",
        "        bow[token_to_id[t]] += 1\n",
        "        print(t, bow)\n",
        "    print()\n",
        "    bows.append(bow)\n",
        "bows = np.array(bows)\n",
        "bows"
      ],
      "execution_count": null,
      "outputs": [
        {
          "output_type": "stream",
          "name": "stdout",
          "text": [
            "['나는', '매우', '매우', '나는', '매우', '좋은', '선생님', '입니다']\n",
            "[0, 0, 0, 0, 0, 0, 0]\n",
            "나는 [1, 0, 0, 0, 0, 0, 0]\n",
            "매우 [1, 1, 0, 0, 0, 0, 0]\n",
            "매우 [1, 2, 0, 0, 0, 0, 0]\n",
            "나는 [2, 2, 0, 0, 0, 0, 0]\n",
            "매우 [2, 3, 0, 0, 0, 0, 0]\n",
            "좋은 [2, 3, 1, 0, 0, 0, 0]\n",
            "선생님 [2, 3, 1, 1, 0, 0, 0]\n",
            "입니다 [2, 3, 1, 1, 1, 0, 0]\n",
            "\n",
            "['당신은', '매우', '좋은', '학생', '학생', '학생', '입니다']\n",
            "[0, 0, 0, 0, 0, 0, 0]\n",
            "당신은 [0, 0, 0, 0, 0, 1, 0]\n",
            "매우 [0, 1, 0, 0, 0, 1, 0]\n",
            "좋은 [0, 1, 1, 0, 0, 1, 0]\n",
            "학생 [0, 1, 1, 0, 0, 1, 1]\n",
            "학생 [0, 1, 1, 0, 0, 1, 2]\n",
            "학생 [0, 1, 1, 0, 0, 1, 3]\n",
            "입니다 [0, 1, 1, 0, 1, 1, 3]\n",
            "\n",
            "['당신은', '매우', '좋은', '학생', '학생', '입니다']\n",
            "[0, 0, 0, 0, 0, 0, 0]\n",
            "당신은 [0, 0, 0, 0, 0, 1, 0]\n",
            "매우 [0, 1, 0, 0, 0, 1, 0]\n",
            "좋은 [0, 1, 1, 0, 0, 1, 0]\n",
            "학생 [0, 1, 1, 0, 0, 1, 1]\n",
            "학생 [0, 1, 1, 0, 0, 1, 2]\n",
            "입니다 [0, 1, 1, 0, 1, 1, 2]\n",
            "\n"
          ]
        },
        {
          "output_type": "execute_result",
          "data": {
            "text/plain": [
              "array([[2, 3, 1, 1, 1, 0, 0],\n",
              "       [0, 1, 1, 0, 1, 1, 3],\n",
              "       [0, 1, 1, 0, 1, 1, 2]])"
            ]
          },
          "metadata": {},
          "execution_count": 29
        }
      ]
    },
    {
      "cell_type": "code",
      "metadata": {
        "id": "KMJRFLS6NfRD",
        "colab": {
          "base_uri": "https://localhost:8080/"
        },
        "outputId": "8406e9e9-dc6e-4e14-b3e6-93a477be9a29"
      },
      "source": [
        "print(list(id2word.values()),'\\n')\n",
        "np.sum(bows, axis=0)"
      ],
      "execution_count": null,
      "outputs": [
        {
          "output_type": "stream",
          "name": "stdout",
          "text": [
            "['나는', '매우', '좋은', '선생님', '입니다', '당신은', '학생'] \n",
            "\n"
          ]
        },
        {
          "output_type": "execute_result",
          "data": {
            "text/plain": [
              "array([2, 5, 3, 1, 3, 2, 5])"
            ]
          },
          "metadata": {},
          "execution_count": 30
        }
      ]
    },
    {
      "cell_type": "code",
      "metadata": {
        "id": "p1DZr6F_TJgc",
        "colab": {
          "base_uri": "https://localhost:8080/"
        },
        "outputId": "08ab0961-a352-499a-c596-bd72330179e6"
      },
      "source": [
        "# 행 내에서 1차 오름차순으로, 2차 내림차순으로 뒤집기로 말뭉치 id  구하기 \n",
        "tf = bows\n",
        "tf_order = np.argsort(tf, axis=-1)\n",
        "# 순서뒤집기\n",
        "tf_order = np.flip(tf_order, axis=-1)\n",
        "tf_order"
      ],
      "execution_count": null,
      "outputs": [
        {
          "output_type": "execute_result",
          "data": {
            "text/plain": [
              "array([[1, 0, 4, 3, 2, 6, 5],\n",
              "       [6, 5, 4, 2, 1, 3, 0],\n",
              "       [6, 5, 4, 2, 1, 3, 0]])"
            ]
          },
          "metadata": {},
          "execution_count": 31
        }
      ]
    },
    {
      "cell_type": "code",
      "metadata": {
        "id": "1UYBAM-xNzng",
        "colab": {
          "base_uri": "https://localhost:8080/"
        },
        "outputId": "6cc5b001-7a41-4909-af8b-0500c1884843"
      },
      "source": [
        "for i, line in enumerate(tf_order):\n",
        "    print(line)\n",
        "    str_order = [id2word[_id] for _id in line if 0 < tf[i][_id]]\n",
        "    print(str_order)"
      ],
      "execution_count": null,
      "outputs": [
        {
          "output_type": "stream",
          "name": "stdout",
          "text": [
            "[1 0 4 3 2 6 5]\n",
            "['매우', '나는', '입니다', '선생님', '좋은']\n",
            "[6 5 4 2 1 3 0]\n",
            "['학생', '당신은', '입니다', '좋은', '매우']\n",
            "[6 5 4 2 1 3 0]\n",
            "['학생', '당신은', '입니다', '좋은', '매우']\n"
          ]
        }
      ]
    },
    {
      "cell_type": "markdown",
      "metadata": {
        "id": "wDVfRfdkfvt2"
      },
      "source": [
        "## 나.TF-IDF(Term Frequency-Inverse Document Frequency)를 이용한 문서별 주제 요약"
      ]
    },
    {
      "cell_type": "markdown",
      "metadata": {
        "id": "G7P4hlddfyp-"
      },
      "source": [
        "* DTM 내에 있는 각 단어에 대한 중요도를 계산\n",
        "* 단어의 빈도(TF)와 역 문서 빈도(IDF)를 사용하여 DTM 내의 각 단어들마다 중요한 정도를 가중치로 주는 방법\n",
        "*문서를 d, 단어를 t, 문서의 총 개수를 N 라고하면 \n",
        "* tf(d,t) : 특정 문서 d에서의 특정 단어 t의 등장 횟수\n",
        "* df(t) : 특정 단어 t가 등장한 문서의 수\n",
        "* idf(d, t) : df(t)에 반비례하는 수, $\\log{N \\over df(d, t)}$\n",
        "* idf 값은 작은 빈도의 단어는 큰값: 모든 문서 등장 0, 90% 등장한 단어는 0.1, 10% 등장한 단어는 2.3 "
      ]
    },
    {
      "cell_type": "code",
      "metadata": {
        "id": "ctelMIWifuZE",
        "colab": {
          "base_uri": "https://localhost:8080/"
        },
        "outputId": "316f5cc4-364c-4308-9832-d5d882e3a9e5"
      },
      "source": [
        "# vocab 의 단어가 총 n개 라면\n",
        "dtm = bows\n",
        "tf = bows        # (문서수, n)\n",
        "df = np.sum(tf > 0, axis=0)  # n 벡터 각 단어들이 몇개의 문서에 등장했는지 \n",
        "n_df = tf.shape[0] / df # 총 문서의 수 N/ 각 단어 등장한 문서수, n벡터\n",
        "idf = np.log(n_df)\n",
        "print(tf.shape, df.shape, n_df.shape, idf.shape)"
      ],
      "execution_count": null,
      "outputs": [
        {
          "output_type": "stream",
          "name": "stdout",
          "text": [
            "(3, 7) (7,) (7,) (7,)\n"
          ]
        }
      ]
    },
    {
      "cell_type": "code",
      "metadata": {
        "id": "8BK6mk1gtFe_",
        "colab": {
          "base_uri": "https://localhost:8080/"
        },
        "outputId": "4a05436c-32f3-409c-ca27-37a18309facb"
      },
      "source": [
        "type(idf)"
      ],
      "execution_count": null,
      "outputs": [
        {
          "output_type": "execute_result",
          "data": {
            "text/plain": [
              "numpy.ndarray"
            ]
          },
          "metadata": {},
          "execution_count": 34
        }
      ]
    },
    {
      "cell_type": "code",
      "metadata": {
        "id": "L9gtQcybjbm1",
        "colab": {
          "base_uri": "https://localhost:8080/"
        },
        "outputId": "a8f1dafe-b292-4fee-ead6-25148838d1ea"
      },
      "source": [
        "# idf 값은 적게등장하면 큰값: 모두 등장은 0, 90% 등장한 단어는 0.1, 10% 등장한 단어는 2.3 \n",
        "print('세개의문서에서 두번, 한번 등장횟수별 IDF값', round(np.log(3/2),2), round(np.log(3/1),2))\n",
        "print(dtm)\n",
        "idf = [round(num,2) for num in idf]\n",
        "print(idf)"
      ],
      "execution_count": null,
      "outputs": [
        {
          "output_type": "stream",
          "name": "stdout",
          "text": [
            "세개의문서에서 두번, 한번 등장횟수별 IDF값 0.41 1.1\n",
            "[[2 3 1 1 1 0 0]\n",
            " [0 1 1 0 1 1 3]\n",
            " [0 1 1 0 1 1 2]]\n",
            "[1.1, 0.0, 0.0, 1.1, 0.0, 0.41, 0.41]\n"
          ]
        }
      ]
    },
    {
      "cell_type": "code",
      "metadata": {
        "id": "A69tdIT1kzp7",
        "colab": {
          "base_uri": "https://localhost:8080/",
          "height": 143
        },
        "outputId": "2a7467d6-5321-4e65-9e1d-42dc8e2216e7"
      },
      "source": [
        "# DTM 즉 tf 행렬\n",
        "import pandas as pd\n",
        "pd.DataFrame(dtm, columns = list(id2word.values()))"
      ],
      "execution_count": null,
      "outputs": [
        {
          "output_type": "execute_result",
          "data": {
            "text/plain": [
              "   나는  매우  좋은  선생님  입니다  당신은  학생\n",
              "0   2   3   1    1    1    0   0\n",
              "1   0   1   1    0    1    1   3\n",
              "2   0   1   1    0    1    1   2"
            ],
            "text/html": [
              "\n",
              "  <div id=\"df-b2547247-35fa-4697-98fc-2d1322642c72\">\n",
              "    <div class=\"colab-df-container\">\n",
              "      <div>\n",
              "<style scoped>\n",
              "    .dataframe tbody tr th:only-of-type {\n",
              "        vertical-align: middle;\n",
              "    }\n",
              "\n",
              "    .dataframe tbody tr th {\n",
              "        vertical-align: top;\n",
              "    }\n",
              "\n",
              "    .dataframe thead th {\n",
              "        text-align: right;\n",
              "    }\n",
              "</style>\n",
              "<table border=\"1\" class=\"dataframe\">\n",
              "  <thead>\n",
              "    <tr style=\"text-align: right;\">\n",
              "      <th></th>\n",
              "      <th>나는</th>\n",
              "      <th>매우</th>\n",
              "      <th>좋은</th>\n",
              "      <th>선생님</th>\n",
              "      <th>입니다</th>\n",
              "      <th>당신은</th>\n",
              "      <th>학생</th>\n",
              "    </tr>\n",
              "  </thead>\n",
              "  <tbody>\n",
              "    <tr>\n",
              "      <th>0</th>\n",
              "      <td>2</td>\n",
              "      <td>3</td>\n",
              "      <td>1</td>\n",
              "      <td>1</td>\n",
              "      <td>1</td>\n",
              "      <td>0</td>\n",
              "      <td>0</td>\n",
              "    </tr>\n",
              "    <tr>\n",
              "      <th>1</th>\n",
              "      <td>0</td>\n",
              "      <td>1</td>\n",
              "      <td>1</td>\n",
              "      <td>0</td>\n",
              "      <td>1</td>\n",
              "      <td>1</td>\n",
              "      <td>3</td>\n",
              "    </tr>\n",
              "    <tr>\n",
              "      <th>2</th>\n",
              "      <td>0</td>\n",
              "      <td>1</td>\n",
              "      <td>1</td>\n",
              "      <td>0</td>\n",
              "      <td>1</td>\n",
              "      <td>1</td>\n",
              "      <td>2</td>\n",
              "    </tr>\n",
              "  </tbody>\n",
              "</table>\n",
              "</div>\n",
              "      <button class=\"colab-df-convert\" onclick=\"convertToInteractive('df-b2547247-35fa-4697-98fc-2d1322642c72')\"\n",
              "              title=\"Convert this dataframe to an interactive table.\"\n",
              "              style=\"display:none;\">\n",
              "        \n",
              "  <svg xmlns=\"http://www.w3.org/2000/svg\" height=\"24px\"viewBox=\"0 0 24 24\"\n",
              "       width=\"24px\">\n",
              "    <path d=\"M0 0h24v24H0V0z\" fill=\"none\"/>\n",
              "    <path d=\"M18.56 5.44l.94 2.06.94-2.06 2.06-.94-2.06-.94-.94-2.06-.94 2.06-2.06.94zm-11 1L8.5 8.5l.94-2.06 2.06-.94-2.06-.94L8.5 2.5l-.94 2.06-2.06.94zm10 10l.94 2.06.94-2.06 2.06-.94-2.06-.94-.94-2.06-.94 2.06-2.06.94z\"/><path d=\"M17.41 7.96l-1.37-1.37c-.4-.4-.92-.59-1.43-.59-.52 0-1.04.2-1.43.59L10.3 9.45l-7.72 7.72c-.78.78-.78 2.05 0 2.83L4 21.41c.39.39.9.59 1.41.59.51 0 1.02-.2 1.41-.59l7.78-7.78 2.81-2.81c.8-.78.8-2.07 0-2.86zM5.41 20L4 18.59l7.72-7.72 1.47 1.35L5.41 20z\"/>\n",
              "  </svg>\n",
              "      </button>\n",
              "      \n",
              "  <style>\n",
              "    .colab-df-container {\n",
              "      display:flex;\n",
              "      flex-wrap:wrap;\n",
              "      gap: 12px;\n",
              "    }\n",
              "\n",
              "    .colab-df-convert {\n",
              "      background-color: #E8F0FE;\n",
              "      border: none;\n",
              "      border-radius: 50%;\n",
              "      cursor: pointer;\n",
              "      display: none;\n",
              "      fill: #1967D2;\n",
              "      height: 32px;\n",
              "      padding: 0 0 0 0;\n",
              "      width: 32px;\n",
              "    }\n",
              "\n",
              "    .colab-df-convert:hover {\n",
              "      background-color: #E2EBFA;\n",
              "      box-shadow: 0px 1px 2px rgba(60, 64, 67, 0.3), 0px 1px 3px 1px rgba(60, 64, 67, 0.15);\n",
              "      fill: #174EA6;\n",
              "    }\n",
              "\n",
              "    [theme=dark] .colab-df-convert {\n",
              "      background-color: #3B4455;\n",
              "      fill: #D2E3FC;\n",
              "    }\n",
              "\n",
              "    [theme=dark] .colab-df-convert:hover {\n",
              "      background-color: #434B5C;\n",
              "      box-shadow: 0px 1px 3px 1px rgba(0, 0, 0, 0.15);\n",
              "      filter: drop-shadow(0px 1px 2px rgba(0, 0, 0, 0.3));\n",
              "      fill: #FFFFFF;\n",
              "    }\n",
              "  </style>\n",
              "\n",
              "      <script>\n",
              "        const buttonEl =\n",
              "          document.querySelector('#df-b2547247-35fa-4697-98fc-2d1322642c72 button.colab-df-convert');\n",
              "        buttonEl.style.display =\n",
              "          google.colab.kernel.accessAllowed ? 'block' : 'none';\n",
              "\n",
              "        async function convertToInteractive(key) {\n",
              "          const element = document.querySelector('#df-b2547247-35fa-4697-98fc-2d1322642c72');\n",
              "          const dataTable =\n",
              "            await google.colab.kernel.invokeFunction('convertToInteractive',\n",
              "                                                     [key], {});\n",
              "          if (!dataTable) return;\n",
              "\n",
              "          const docLinkHtml = 'Like what you see? Visit the ' +\n",
              "            '<a target=\"_blank\" href=https://colab.research.google.com/notebooks/data_table.ipynb>data table notebook</a>'\n",
              "            + ' to learn more about interactive tables.';\n",
              "          element.innerHTML = '';\n",
              "          dataTable['output_type'] = 'display_data';\n",
              "          await google.colab.output.renderOutput(dataTable, element);\n",
              "          const docLink = document.createElement('div');\n",
              "          docLink.innerHTML = docLinkHtml;\n",
              "          element.appendChild(docLink);\n",
              "        }\n",
              "      </script>\n",
              "    </div>\n",
              "  </div>\n",
              "  "
            ]
          },
          "metadata": {},
          "execution_count": 36
        }
      ]
    },
    {
      "cell_type": "code",
      "metadata": {
        "id": "GEr87Fk-uTTz",
        "colab": {
          "base_uri": "https://localhost:8080/"
        },
        "outputId": "cd887bbf-ed36-4345-a43c-f1f83002f162"
      },
      "source": [
        "# IDF 벡터 : 문서별로 얼마나 유니크하게 등장했나? '나는'과 '입니다' 대조 \n",
        "np.array(idf).reshape(1,7)"
      ],
      "execution_count": null,
      "outputs": [
        {
          "output_type": "execute_result",
          "data": {
            "text/plain": [
              "array([[1.1 , 0.  , 0.  , 1.1 , 0.  , 0.41, 0.41]])"
            ]
          },
          "metadata": {},
          "execution_count": 37
        }
      ]
    },
    {
      "cell_type": "code",
      "metadata": {
        "id": "2fquj45fsFU7",
        "colab": {
          "base_uri": "https://localhost:8080/",
          "height": 81
        },
        "outputId": "18b80b5f-3354-4023-9c2b-5b6bbff1ae49"
      },
      "source": [
        "#IDF\n",
        "pd.DataFrame(np.array(idf).reshape(1,7) , columns = list(id2word.values()))"
      ],
      "execution_count": null,
      "outputs": [
        {
          "output_type": "execute_result",
          "data": {
            "text/plain": [
              "    나는   매우   좋은  선생님  입니다   당신은    학생\n",
              "0  1.1  0.0  0.0  1.1  0.0  0.41  0.41"
            ],
            "text/html": [
              "\n",
              "  <div id=\"df-675b8b17-6760-40e4-b303-2a5ba05dd05e\">\n",
              "    <div class=\"colab-df-container\">\n",
              "      <div>\n",
              "<style scoped>\n",
              "    .dataframe tbody tr th:only-of-type {\n",
              "        vertical-align: middle;\n",
              "    }\n",
              "\n",
              "    .dataframe tbody tr th {\n",
              "        vertical-align: top;\n",
              "    }\n",
              "\n",
              "    .dataframe thead th {\n",
              "        text-align: right;\n",
              "    }\n",
              "</style>\n",
              "<table border=\"1\" class=\"dataframe\">\n",
              "  <thead>\n",
              "    <tr style=\"text-align: right;\">\n",
              "      <th></th>\n",
              "      <th>나는</th>\n",
              "      <th>매우</th>\n",
              "      <th>좋은</th>\n",
              "      <th>선생님</th>\n",
              "      <th>입니다</th>\n",
              "      <th>당신은</th>\n",
              "      <th>학생</th>\n",
              "    </tr>\n",
              "  </thead>\n",
              "  <tbody>\n",
              "    <tr>\n",
              "      <th>0</th>\n",
              "      <td>1.1</td>\n",
              "      <td>0.0</td>\n",
              "      <td>0.0</td>\n",
              "      <td>1.1</td>\n",
              "      <td>0.0</td>\n",
              "      <td>0.41</td>\n",
              "      <td>0.41</td>\n",
              "    </tr>\n",
              "  </tbody>\n",
              "</table>\n",
              "</div>\n",
              "      <button class=\"colab-df-convert\" onclick=\"convertToInteractive('df-675b8b17-6760-40e4-b303-2a5ba05dd05e')\"\n",
              "              title=\"Convert this dataframe to an interactive table.\"\n",
              "              style=\"display:none;\">\n",
              "        \n",
              "  <svg xmlns=\"http://www.w3.org/2000/svg\" height=\"24px\"viewBox=\"0 0 24 24\"\n",
              "       width=\"24px\">\n",
              "    <path d=\"M0 0h24v24H0V0z\" fill=\"none\"/>\n",
              "    <path d=\"M18.56 5.44l.94 2.06.94-2.06 2.06-.94-2.06-.94-.94-2.06-.94 2.06-2.06.94zm-11 1L8.5 8.5l.94-2.06 2.06-.94-2.06-.94L8.5 2.5l-.94 2.06-2.06.94zm10 10l.94 2.06.94-2.06 2.06-.94-2.06-.94-.94-2.06-.94 2.06-2.06.94z\"/><path d=\"M17.41 7.96l-1.37-1.37c-.4-.4-.92-.59-1.43-.59-.52 0-1.04.2-1.43.59L10.3 9.45l-7.72 7.72c-.78.78-.78 2.05 0 2.83L4 21.41c.39.39.9.59 1.41.59.51 0 1.02-.2 1.41-.59l7.78-7.78 2.81-2.81c.8-.78.8-2.07 0-2.86zM5.41 20L4 18.59l7.72-7.72 1.47 1.35L5.41 20z\"/>\n",
              "  </svg>\n",
              "      </button>\n",
              "      \n",
              "  <style>\n",
              "    .colab-df-container {\n",
              "      display:flex;\n",
              "      flex-wrap:wrap;\n",
              "      gap: 12px;\n",
              "    }\n",
              "\n",
              "    .colab-df-convert {\n",
              "      background-color: #E8F0FE;\n",
              "      border: none;\n",
              "      border-radius: 50%;\n",
              "      cursor: pointer;\n",
              "      display: none;\n",
              "      fill: #1967D2;\n",
              "      height: 32px;\n",
              "      padding: 0 0 0 0;\n",
              "      width: 32px;\n",
              "    }\n",
              "\n",
              "    .colab-df-convert:hover {\n",
              "      background-color: #E2EBFA;\n",
              "      box-shadow: 0px 1px 2px rgba(60, 64, 67, 0.3), 0px 1px 3px 1px rgba(60, 64, 67, 0.15);\n",
              "      fill: #174EA6;\n",
              "    }\n",
              "\n",
              "    [theme=dark] .colab-df-convert {\n",
              "      background-color: #3B4455;\n",
              "      fill: #D2E3FC;\n",
              "    }\n",
              "\n",
              "    [theme=dark] .colab-df-convert:hover {\n",
              "      background-color: #434B5C;\n",
              "      box-shadow: 0px 1px 3px 1px rgba(0, 0, 0, 0.15);\n",
              "      filter: drop-shadow(0px 1px 2px rgba(0, 0, 0, 0.3));\n",
              "      fill: #FFFFFF;\n",
              "    }\n",
              "  </style>\n",
              "\n",
              "      <script>\n",
              "        const buttonEl =\n",
              "          document.querySelector('#df-675b8b17-6760-40e4-b303-2a5ba05dd05e button.colab-df-convert');\n",
              "        buttonEl.style.display =\n",
              "          google.colab.kernel.accessAllowed ? 'block' : 'none';\n",
              "\n",
              "        async function convertToInteractive(key) {\n",
              "          const element = document.querySelector('#df-675b8b17-6760-40e4-b303-2a5ba05dd05e');\n",
              "          const dataTable =\n",
              "            await google.colab.kernel.invokeFunction('convertToInteractive',\n",
              "                                                     [key], {});\n",
              "          if (!dataTable) return;\n",
              "\n",
              "          const docLinkHtml = 'Like what you see? Visit the ' +\n",
              "            '<a target=\"_blank\" href=https://colab.research.google.com/notebooks/data_table.ipynb>data table notebook</a>'\n",
              "            + ' to learn more about interactive tables.';\n",
              "          element.innerHTML = '';\n",
              "          dataTable['output_type'] = 'display_data';\n",
              "          await google.colab.output.renderOutput(dataTable, element);\n",
              "          const docLink = document.createElement('div');\n",
              "          docLink.innerHTML = docLinkHtml;\n",
              "          element.appendChild(docLink);\n",
              "        }\n",
              "      </script>\n",
              "    </div>\n",
              "  </div>\n",
              "  "
            ]
          },
          "metadata": {},
          "execution_count": 38
        }
      ]
    },
    {
      "cell_type": "code",
      "metadata": {
        "id": "-RLdqahmsYwz",
        "colab": {
          "base_uri": "https://localhost:8080/",
          "height": 143
        },
        "outputId": "fd063327-e2e5-4ffd-dd97-3731ce315f36"
      },
      "source": [
        "#TF-IDF 행렬 : 특정문서에 유니크하게 등장한 단어 찾기\n",
        "tf_idf=tf*idf\n",
        "pd.DataFrame(tf_idf, columns = list(id2word.values()))"
      ],
      "execution_count": null,
      "outputs": [
        {
          "output_type": "execute_result",
          "data": {
            "text/plain": [
              "    나는   매우   좋은  선생님  입니다   당신은    학생\n",
              "0  2.2  0.0  0.0  1.1  0.0  0.00  0.00\n",
              "1  0.0  0.0  0.0  0.0  0.0  0.41  1.23\n",
              "2  0.0  0.0  0.0  0.0  0.0  0.41  0.82"
            ],
            "text/html": [
              "\n",
              "  <div id=\"df-8d434192-1616-48d0-8b58-104ab6484113\">\n",
              "    <div class=\"colab-df-container\">\n",
              "      <div>\n",
              "<style scoped>\n",
              "    .dataframe tbody tr th:only-of-type {\n",
              "        vertical-align: middle;\n",
              "    }\n",
              "\n",
              "    .dataframe tbody tr th {\n",
              "        vertical-align: top;\n",
              "    }\n",
              "\n",
              "    .dataframe thead th {\n",
              "        text-align: right;\n",
              "    }\n",
              "</style>\n",
              "<table border=\"1\" class=\"dataframe\">\n",
              "  <thead>\n",
              "    <tr style=\"text-align: right;\">\n",
              "      <th></th>\n",
              "      <th>나는</th>\n",
              "      <th>매우</th>\n",
              "      <th>좋은</th>\n",
              "      <th>선생님</th>\n",
              "      <th>입니다</th>\n",
              "      <th>당신은</th>\n",
              "      <th>학생</th>\n",
              "    </tr>\n",
              "  </thead>\n",
              "  <tbody>\n",
              "    <tr>\n",
              "      <th>0</th>\n",
              "      <td>2.2</td>\n",
              "      <td>0.0</td>\n",
              "      <td>0.0</td>\n",
              "      <td>1.1</td>\n",
              "      <td>0.0</td>\n",
              "      <td>0.00</td>\n",
              "      <td>0.00</td>\n",
              "    </tr>\n",
              "    <tr>\n",
              "      <th>1</th>\n",
              "      <td>0.0</td>\n",
              "      <td>0.0</td>\n",
              "      <td>0.0</td>\n",
              "      <td>0.0</td>\n",
              "      <td>0.0</td>\n",
              "      <td>0.41</td>\n",
              "      <td>1.23</td>\n",
              "    </tr>\n",
              "    <tr>\n",
              "      <th>2</th>\n",
              "      <td>0.0</td>\n",
              "      <td>0.0</td>\n",
              "      <td>0.0</td>\n",
              "      <td>0.0</td>\n",
              "      <td>0.0</td>\n",
              "      <td>0.41</td>\n",
              "      <td>0.82</td>\n",
              "    </tr>\n",
              "  </tbody>\n",
              "</table>\n",
              "</div>\n",
              "      <button class=\"colab-df-convert\" onclick=\"convertToInteractive('df-8d434192-1616-48d0-8b58-104ab6484113')\"\n",
              "              title=\"Convert this dataframe to an interactive table.\"\n",
              "              style=\"display:none;\">\n",
              "        \n",
              "  <svg xmlns=\"http://www.w3.org/2000/svg\" height=\"24px\"viewBox=\"0 0 24 24\"\n",
              "       width=\"24px\">\n",
              "    <path d=\"M0 0h24v24H0V0z\" fill=\"none\"/>\n",
              "    <path d=\"M18.56 5.44l.94 2.06.94-2.06 2.06-.94-2.06-.94-.94-2.06-.94 2.06-2.06.94zm-11 1L8.5 8.5l.94-2.06 2.06-.94-2.06-.94L8.5 2.5l-.94 2.06-2.06.94zm10 10l.94 2.06.94-2.06 2.06-.94-2.06-.94-.94-2.06-.94 2.06-2.06.94z\"/><path d=\"M17.41 7.96l-1.37-1.37c-.4-.4-.92-.59-1.43-.59-.52 0-1.04.2-1.43.59L10.3 9.45l-7.72 7.72c-.78.78-.78 2.05 0 2.83L4 21.41c.39.39.9.59 1.41.59.51 0 1.02-.2 1.41-.59l7.78-7.78 2.81-2.81c.8-.78.8-2.07 0-2.86zM5.41 20L4 18.59l7.72-7.72 1.47 1.35L5.41 20z\"/>\n",
              "  </svg>\n",
              "      </button>\n",
              "      \n",
              "  <style>\n",
              "    .colab-df-container {\n",
              "      display:flex;\n",
              "      flex-wrap:wrap;\n",
              "      gap: 12px;\n",
              "    }\n",
              "\n",
              "    .colab-df-convert {\n",
              "      background-color: #E8F0FE;\n",
              "      border: none;\n",
              "      border-radius: 50%;\n",
              "      cursor: pointer;\n",
              "      display: none;\n",
              "      fill: #1967D2;\n",
              "      height: 32px;\n",
              "      padding: 0 0 0 0;\n",
              "      width: 32px;\n",
              "    }\n",
              "\n",
              "    .colab-df-convert:hover {\n",
              "      background-color: #E2EBFA;\n",
              "      box-shadow: 0px 1px 2px rgba(60, 64, 67, 0.3), 0px 1px 3px 1px rgba(60, 64, 67, 0.15);\n",
              "      fill: #174EA6;\n",
              "    }\n",
              "\n",
              "    [theme=dark] .colab-df-convert {\n",
              "      background-color: #3B4455;\n",
              "      fill: #D2E3FC;\n",
              "    }\n",
              "\n",
              "    [theme=dark] .colab-df-convert:hover {\n",
              "      background-color: #434B5C;\n",
              "      box-shadow: 0px 1px 3px 1px rgba(0, 0, 0, 0.15);\n",
              "      filter: drop-shadow(0px 1px 2px rgba(0, 0, 0, 0.3));\n",
              "      fill: #FFFFFF;\n",
              "    }\n",
              "  </style>\n",
              "\n",
              "      <script>\n",
              "        const buttonEl =\n",
              "          document.querySelector('#df-8d434192-1616-48d0-8b58-104ab6484113 button.colab-df-convert');\n",
              "        buttonEl.style.display =\n",
              "          google.colab.kernel.accessAllowed ? 'block' : 'none';\n",
              "\n",
              "        async function convertToInteractive(key) {\n",
              "          const element = document.querySelector('#df-8d434192-1616-48d0-8b58-104ab6484113');\n",
              "          const dataTable =\n",
              "            await google.colab.kernel.invokeFunction('convertToInteractive',\n",
              "                                                     [key], {});\n",
              "          if (!dataTable) return;\n",
              "\n",
              "          const docLinkHtml = 'Like what you see? Visit the ' +\n",
              "            '<a target=\"_blank\" href=https://colab.research.google.com/notebooks/data_table.ipynb>data table notebook</a>'\n",
              "            + ' to learn more about interactive tables.';\n",
              "          element.innerHTML = '';\n",
              "          dataTable['output_type'] = 'display_data';\n",
              "          await google.colab.output.renderOutput(dataTable, element);\n",
              "          const docLink = document.createElement('div');\n",
              "          docLink.innerHTML = docLinkHtml;\n",
              "          element.appendChild(docLink);\n",
              "        }\n",
              "      </script>\n",
              "    </div>\n",
              "  </div>\n",
              "  "
            ]
          },
          "metadata": {},
          "execution_count": 39
        }
      ]
    },
    {
      "cell_type": "code",
      "metadata": {
        "id": "7N3J5YSMwUfb",
        "colab": {
          "base_uri": "https://localhost:8080/"
        },
        "outputId": "95026002-b510-47cb-8af1-7a187375b8b7"
      },
      "source": [
        "# 적게 나온 단어 ID 부터 오름차순 으로, 행내에서\n",
        "tfidf_order = np.argsort(tf_idf, axis=-1)\n",
        "# 많이 나온 단어 ID 부터  내림차순\n",
        "tfidf_order = np.flip(tfidf_order, axis=-1)\n",
        "tfidf_order"
      ],
      "execution_count": null,
      "outputs": [
        {
          "output_type": "execute_result",
          "data": {
            "text/plain": [
              "array([[0, 3, 6, 5, 4, 2, 1],\n",
              "       [6, 5, 4, 3, 2, 1, 0],\n",
              "       [6, 5, 4, 3, 2, 1, 0]])"
            ]
          },
          "metadata": {},
          "execution_count": 40
        }
      ]
    },
    {
      "cell_type": "code",
      "metadata": {
        "id": "6ADD3gT7w5gy",
        "colab": {
          "base_uri": "https://localhost:8080/"
        },
        "outputId": "770c9999-0f0c-4022-f6f0-80b053b28597"
      },
      "source": [
        "# 문서별 주제\n",
        "for i, line in enumerate(tfidf_order):\n",
        "    str_order = [id2word[_id] for _id in line if 0 < tf_idf[i][_id]]\n",
        "    print(str_order)"
      ],
      "execution_count": null,
      "outputs": [
        {
          "output_type": "stream",
          "name": "stdout",
          "text": [
            "['나는', '선생님']\n",
            "['학생', '당신은']\n",
            "['학생', '당신은']\n"
          ]
        }
      ]
    },
    {
      "cell_type": "markdown",
      "metadata": {
        "id": "3iEnMpH13FjH"
      },
      "source": [
        "## 다.TF-IDF sklearn으로 계산"
      ]
    },
    {
      "cell_type": "markdown",
      "metadata": {
        "id": "j0Ez0QJslXgA"
      },
      "source": [
        "https://scikit-learn.org/stable/modules/generated/sklearn.feature_extraction.text.TfidfVectorizer.html"
      ]
    },
    {
      "cell_type": "code",
      "metadata": {
        "colab": {
          "base_uri": "https://localhost:8080/"
        },
        "id": "E0OQBwVUA2mp",
        "outputId": "6279edc7-1ed3-43ea-9021-3083750de010"
      },
      "source": [
        "# corpus를 문서단위로 list화\n",
        "list_docs = docs.split('\\n')\n",
        "list_docs"
      ],
      "execution_count": null,
      "outputs": [
        {
          "output_type": "execute_result",
          "data": {
            "text/plain": [
              "['나는 매우 매우 나는 매우 좋은 선생님 입니다', '당신은 매우 좋은 학생 학생 학생 입니다', '당신은 매우 좋은 학생 학생 입니다']"
            ]
          },
          "metadata": {},
          "execution_count": 42
        }
      ]
    },
    {
      "cell_type": "code",
      "metadata": {
        "id": "Whb4nW3ZyuO8",
        "colab": {
          "base_uri": "https://localhost:8080/"
        },
        "outputId": "8912af57-0d93-4881-9973-c2cec565e1f9"
      },
      "source": [
        "# list_docs=문서단위 list, vocabulary=word_to_id은 단어 순서(생략가능, 위에 것과 비교하기 위해 입력)\n",
        "from sklearn.feature_extraction.text import CountVectorizer\n",
        "vector = CountVectorizer(vocabulary=word_to_id)\n",
        "print(vector.fit_transform(list_docs).toarray()) # 코퍼스로부터 각 단어의 빈도 수를 기록한다.\n",
        "print(vector.vocabulary_) # 각 단어의 인덱스가 어떻게 부여되었는지를 보여준다."
      ],
      "execution_count": null,
      "outputs": [
        {
          "output_type": "stream",
          "name": "stdout",
          "text": [
            "[[2 3 1 1 1 0 0]\n",
            " [0 1 1 0 1 1 3]\n",
            " [0 1 1 0 1 1 2]]\n",
            "{'나는': 0, '매우': 1, '좋은': 2, '선생님': 3, '입니다': 4, '당신은': 5, '학생': 6}\n"
          ]
        }
      ]
    },
    {
      "cell_type": "code",
      "metadata": {
        "id": "niisCVCeI0GH",
        "colab": {
          "base_uri": "https://localhost:8080/",
          "height": 143
        },
        "outputId": "7b52ced8-b457-4506-ebab-041f2c323811"
      },
      "source": [
        "# DTM 메트릭스를 출력 \n",
        "dtm = vector.fit_transform(list_docs).toarray()\n",
        "col = vector.vocabulary_.keys()\n",
        "pd.DataFrame(dtm, columns=col)"
      ],
      "execution_count": null,
      "outputs": [
        {
          "output_type": "execute_result",
          "data": {
            "text/plain": [
              "   나는  매우  좋은  선생님  입니다  당신은  학생\n",
              "0   2   3   1    1    1    0   0\n",
              "1   0   1   1    0    1    1   3\n",
              "2   0   1   1    0    1    1   2"
            ],
            "text/html": [
              "\n",
              "  <div id=\"df-b42a4aaa-1d5f-4ffd-9afb-eb44020fd7a0\">\n",
              "    <div class=\"colab-df-container\">\n",
              "      <div>\n",
              "<style scoped>\n",
              "    .dataframe tbody tr th:only-of-type {\n",
              "        vertical-align: middle;\n",
              "    }\n",
              "\n",
              "    .dataframe tbody tr th {\n",
              "        vertical-align: top;\n",
              "    }\n",
              "\n",
              "    .dataframe thead th {\n",
              "        text-align: right;\n",
              "    }\n",
              "</style>\n",
              "<table border=\"1\" class=\"dataframe\">\n",
              "  <thead>\n",
              "    <tr style=\"text-align: right;\">\n",
              "      <th></th>\n",
              "      <th>나는</th>\n",
              "      <th>매우</th>\n",
              "      <th>좋은</th>\n",
              "      <th>선생님</th>\n",
              "      <th>입니다</th>\n",
              "      <th>당신은</th>\n",
              "      <th>학생</th>\n",
              "    </tr>\n",
              "  </thead>\n",
              "  <tbody>\n",
              "    <tr>\n",
              "      <th>0</th>\n",
              "      <td>2</td>\n",
              "      <td>3</td>\n",
              "      <td>1</td>\n",
              "      <td>1</td>\n",
              "      <td>1</td>\n",
              "      <td>0</td>\n",
              "      <td>0</td>\n",
              "    </tr>\n",
              "    <tr>\n",
              "      <th>1</th>\n",
              "      <td>0</td>\n",
              "      <td>1</td>\n",
              "      <td>1</td>\n",
              "      <td>0</td>\n",
              "      <td>1</td>\n",
              "      <td>1</td>\n",
              "      <td>3</td>\n",
              "    </tr>\n",
              "    <tr>\n",
              "      <th>2</th>\n",
              "      <td>0</td>\n",
              "      <td>1</td>\n",
              "      <td>1</td>\n",
              "      <td>0</td>\n",
              "      <td>1</td>\n",
              "      <td>1</td>\n",
              "      <td>2</td>\n",
              "    </tr>\n",
              "  </tbody>\n",
              "</table>\n",
              "</div>\n",
              "      <button class=\"colab-df-convert\" onclick=\"convertToInteractive('df-b42a4aaa-1d5f-4ffd-9afb-eb44020fd7a0')\"\n",
              "              title=\"Convert this dataframe to an interactive table.\"\n",
              "              style=\"display:none;\">\n",
              "        \n",
              "  <svg xmlns=\"http://www.w3.org/2000/svg\" height=\"24px\"viewBox=\"0 0 24 24\"\n",
              "       width=\"24px\">\n",
              "    <path d=\"M0 0h24v24H0V0z\" fill=\"none\"/>\n",
              "    <path d=\"M18.56 5.44l.94 2.06.94-2.06 2.06-.94-2.06-.94-.94-2.06-.94 2.06-2.06.94zm-11 1L8.5 8.5l.94-2.06 2.06-.94-2.06-.94L8.5 2.5l-.94 2.06-2.06.94zm10 10l.94 2.06.94-2.06 2.06-.94-2.06-.94-.94-2.06-.94 2.06-2.06.94z\"/><path d=\"M17.41 7.96l-1.37-1.37c-.4-.4-.92-.59-1.43-.59-.52 0-1.04.2-1.43.59L10.3 9.45l-7.72 7.72c-.78.78-.78 2.05 0 2.83L4 21.41c.39.39.9.59 1.41.59.51 0 1.02-.2 1.41-.59l7.78-7.78 2.81-2.81c.8-.78.8-2.07 0-2.86zM5.41 20L4 18.59l7.72-7.72 1.47 1.35L5.41 20z\"/>\n",
              "  </svg>\n",
              "      </button>\n",
              "      \n",
              "  <style>\n",
              "    .colab-df-container {\n",
              "      display:flex;\n",
              "      flex-wrap:wrap;\n",
              "      gap: 12px;\n",
              "    }\n",
              "\n",
              "    .colab-df-convert {\n",
              "      background-color: #E8F0FE;\n",
              "      border: none;\n",
              "      border-radius: 50%;\n",
              "      cursor: pointer;\n",
              "      display: none;\n",
              "      fill: #1967D2;\n",
              "      height: 32px;\n",
              "      padding: 0 0 0 0;\n",
              "      width: 32px;\n",
              "    }\n",
              "\n",
              "    .colab-df-convert:hover {\n",
              "      background-color: #E2EBFA;\n",
              "      box-shadow: 0px 1px 2px rgba(60, 64, 67, 0.3), 0px 1px 3px 1px rgba(60, 64, 67, 0.15);\n",
              "      fill: #174EA6;\n",
              "    }\n",
              "\n",
              "    [theme=dark] .colab-df-convert {\n",
              "      background-color: #3B4455;\n",
              "      fill: #D2E3FC;\n",
              "    }\n",
              "\n",
              "    [theme=dark] .colab-df-convert:hover {\n",
              "      background-color: #434B5C;\n",
              "      box-shadow: 0px 1px 3px 1px rgba(0, 0, 0, 0.15);\n",
              "      filter: drop-shadow(0px 1px 2px rgba(0, 0, 0, 0.3));\n",
              "      fill: #FFFFFF;\n",
              "    }\n",
              "  </style>\n",
              "\n",
              "      <script>\n",
              "        const buttonEl =\n",
              "          document.querySelector('#df-b42a4aaa-1d5f-4ffd-9afb-eb44020fd7a0 button.colab-df-convert');\n",
              "        buttonEl.style.display =\n",
              "          google.colab.kernel.accessAllowed ? 'block' : 'none';\n",
              "\n",
              "        async function convertToInteractive(key) {\n",
              "          const element = document.querySelector('#df-b42a4aaa-1d5f-4ffd-9afb-eb44020fd7a0');\n",
              "          const dataTable =\n",
              "            await google.colab.kernel.invokeFunction('convertToInteractive',\n",
              "                                                     [key], {});\n",
              "          if (!dataTable) return;\n",
              "\n",
              "          const docLinkHtml = 'Like what you see? Visit the ' +\n",
              "            '<a target=\"_blank\" href=https://colab.research.google.com/notebooks/data_table.ipynb>data table notebook</a>'\n",
              "            + ' to learn more about interactive tables.';\n",
              "          element.innerHTML = '';\n",
              "          dataTable['output_type'] = 'display_data';\n",
              "          await google.colab.output.renderOutput(dataTable, element);\n",
              "          const docLink = document.createElement('div');\n",
              "          docLink.innerHTML = docLinkHtml;\n",
              "          element.appendChild(docLink);\n",
              "        }\n",
              "      </script>\n",
              "    </div>\n",
              "  </div>\n",
              "  "
            ]
          },
          "metadata": {},
          "execution_count": 44
        }
      ]
    },
    {
      "cell_type": "markdown",
      "metadata": {
        "id": "UiOhXkys9eiS"
      },
      "source": []
    },
    {
      "cell_type": "code",
      "metadata": {
        "id": "t-A6tMGKzr5d",
        "colab": {
          "base_uri": "https://localhost:8080/"
        },
        "outputId": "c82f2b2c-0c52-4ced-d1c7-d4f3873c79ae"
      },
      "source": [
        "# TFIDF 벡터 : IDF 로그항 분자에 1을 더하고 로그항에 1을 더함, TF-IDF 행렬을 L2 정규화 수행\n",
        "from sklearn.feature_extraction.text import TfidfVectorizer\n",
        "tfidfv = TfidfVectorizer(vocabulary=word_to_id)\n",
        "print(tfidfv.fit_transform(list_docs).toarray())\n",
        "print(tfidfv.vocabulary_)"
      ],
      "execution_count": null,
      "outputs": [
        {
          "output_type": "stream",
          "name": "stdout",
          "text": [
            "[[0.67278311 0.59603481 0.19867827 0.33639155 0.19867827 0.\n",
            "  0.        ]\n",
            " [0.         0.22598509 0.22598509 0.         0.22598509 0.29099695\n",
            "  0.87299084]\n",
            " [0.         0.29760553 0.29760553 0.         0.29760553 0.38322131\n",
            "  0.76644261]]\n",
            "{'나는': 0, '매우': 1, '좋은': 2, '선생님': 3, '입니다': 4, '당신은': 5, '학생': 6}\n"
          ]
        }
      ]
    },
    {
      "cell_type": "code",
      "metadata": {
        "id": "TE2gZroTNIOY",
        "colab": {
          "base_uri": "https://localhost:8080/",
          "height": 143
        },
        "outputId": "6bbfbb3e-d83f-47b4-c913-f40154762af2"
      },
      "source": [
        "tfidf = tfidfv.fit_transform(list_docs).toarray()\n",
        "pd.DataFrame(tfidf, columns=col)"
      ],
      "execution_count": null,
      "outputs": [
        {
          "output_type": "execute_result",
          "data": {
            "text/plain": [
              "         나는        매우        좋은       선생님       입니다       당신은        학생\n",
              "0  0.672783  0.596035  0.198678  0.336392  0.198678  0.000000  0.000000\n",
              "1  0.000000  0.225985  0.225985  0.000000  0.225985  0.290997  0.872991\n",
              "2  0.000000  0.297606  0.297606  0.000000  0.297606  0.383221  0.766443"
            ],
            "text/html": [
              "\n",
              "  <div id=\"df-6c13d2ce-a4a9-472c-ab2e-3585a045950e\">\n",
              "    <div class=\"colab-df-container\">\n",
              "      <div>\n",
              "<style scoped>\n",
              "    .dataframe tbody tr th:only-of-type {\n",
              "        vertical-align: middle;\n",
              "    }\n",
              "\n",
              "    .dataframe tbody tr th {\n",
              "        vertical-align: top;\n",
              "    }\n",
              "\n",
              "    .dataframe thead th {\n",
              "        text-align: right;\n",
              "    }\n",
              "</style>\n",
              "<table border=\"1\" class=\"dataframe\">\n",
              "  <thead>\n",
              "    <tr style=\"text-align: right;\">\n",
              "      <th></th>\n",
              "      <th>나는</th>\n",
              "      <th>매우</th>\n",
              "      <th>좋은</th>\n",
              "      <th>선생님</th>\n",
              "      <th>입니다</th>\n",
              "      <th>당신은</th>\n",
              "      <th>학생</th>\n",
              "    </tr>\n",
              "  </thead>\n",
              "  <tbody>\n",
              "    <tr>\n",
              "      <th>0</th>\n",
              "      <td>0.672783</td>\n",
              "      <td>0.596035</td>\n",
              "      <td>0.198678</td>\n",
              "      <td>0.336392</td>\n",
              "      <td>0.198678</td>\n",
              "      <td>0.000000</td>\n",
              "      <td>0.000000</td>\n",
              "    </tr>\n",
              "    <tr>\n",
              "      <th>1</th>\n",
              "      <td>0.000000</td>\n",
              "      <td>0.225985</td>\n",
              "      <td>0.225985</td>\n",
              "      <td>0.000000</td>\n",
              "      <td>0.225985</td>\n",
              "      <td>0.290997</td>\n",
              "      <td>0.872991</td>\n",
              "    </tr>\n",
              "    <tr>\n",
              "      <th>2</th>\n",
              "      <td>0.000000</td>\n",
              "      <td>0.297606</td>\n",
              "      <td>0.297606</td>\n",
              "      <td>0.000000</td>\n",
              "      <td>0.297606</td>\n",
              "      <td>0.383221</td>\n",
              "      <td>0.766443</td>\n",
              "    </tr>\n",
              "  </tbody>\n",
              "</table>\n",
              "</div>\n",
              "      <button class=\"colab-df-convert\" onclick=\"convertToInteractive('df-6c13d2ce-a4a9-472c-ab2e-3585a045950e')\"\n",
              "              title=\"Convert this dataframe to an interactive table.\"\n",
              "              style=\"display:none;\">\n",
              "        \n",
              "  <svg xmlns=\"http://www.w3.org/2000/svg\" height=\"24px\"viewBox=\"0 0 24 24\"\n",
              "       width=\"24px\">\n",
              "    <path d=\"M0 0h24v24H0V0z\" fill=\"none\"/>\n",
              "    <path d=\"M18.56 5.44l.94 2.06.94-2.06 2.06-.94-2.06-.94-.94-2.06-.94 2.06-2.06.94zm-11 1L8.5 8.5l.94-2.06 2.06-.94-2.06-.94L8.5 2.5l-.94 2.06-2.06.94zm10 10l.94 2.06.94-2.06 2.06-.94-2.06-.94-.94-2.06-.94 2.06-2.06.94z\"/><path d=\"M17.41 7.96l-1.37-1.37c-.4-.4-.92-.59-1.43-.59-.52 0-1.04.2-1.43.59L10.3 9.45l-7.72 7.72c-.78.78-.78 2.05 0 2.83L4 21.41c.39.39.9.59 1.41.59.51 0 1.02-.2 1.41-.59l7.78-7.78 2.81-2.81c.8-.78.8-2.07 0-2.86zM5.41 20L4 18.59l7.72-7.72 1.47 1.35L5.41 20z\"/>\n",
              "  </svg>\n",
              "      </button>\n",
              "      \n",
              "  <style>\n",
              "    .colab-df-container {\n",
              "      display:flex;\n",
              "      flex-wrap:wrap;\n",
              "      gap: 12px;\n",
              "    }\n",
              "\n",
              "    .colab-df-convert {\n",
              "      background-color: #E8F0FE;\n",
              "      border: none;\n",
              "      border-radius: 50%;\n",
              "      cursor: pointer;\n",
              "      display: none;\n",
              "      fill: #1967D2;\n",
              "      height: 32px;\n",
              "      padding: 0 0 0 0;\n",
              "      width: 32px;\n",
              "    }\n",
              "\n",
              "    .colab-df-convert:hover {\n",
              "      background-color: #E2EBFA;\n",
              "      box-shadow: 0px 1px 2px rgba(60, 64, 67, 0.3), 0px 1px 3px 1px rgba(60, 64, 67, 0.15);\n",
              "      fill: #174EA6;\n",
              "    }\n",
              "\n",
              "    [theme=dark] .colab-df-convert {\n",
              "      background-color: #3B4455;\n",
              "      fill: #D2E3FC;\n",
              "    }\n",
              "\n",
              "    [theme=dark] .colab-df-convert:hover {\n",
              "      background-color: #434B5C;\n",
              "      box-shadow: 0px 1px 3px 1px rgba(0, 0, 0, 0.15);\n",
              "      filter: drop-shadow(0px 1px 2px rgba(0, 0, 0, 0.3));\n",
              "      fill: #FFFFFF;\n",
              "    }\n",
              "  </style>\n",
              "\n",
              "      <script>\n",
              "        const buttonEl =\n",
              "          document.querySelector('#df-6c13d2ce-a4a9-472c-ab2e-3585a045950e button.colab-df-convert');\n",
              "        buttonEl.style.display =\n",
              "          google.colab.kernel.accessAllowed ? 'block' : 'none';\n",
              "\n",
              "        async function convertToInteractive(key) {\n",
              "          const element = document.querySelector('#df-6c13d2ce-a4a9-472c-ab2e-3585a045950e');\n",
              "          const dataTable =\n",
              "            await google.colab.kernel.invokeFunction('convertToInteractive',\n",
              "                                                     [key], {});\n",
              "          if (!dataTable) return;\n",
              "\n",
              "          const docLinkHtml = 'Like what you see? Visit the ' +\n",
              "            '<a target=\"_blank\" href=https://colab.research.google.com/notebooks/data_table.ipynb>data table notebook</a>'\n",
              "            + ' to learn more about interactive tables.';\n",
              "          element.innerHTML = '';\n",
              "          dataTable['output_type'] = 'display_data';\n",
              "          await google.colab.output.renderOutput(dataTable, element);\n",
              "          const docLink = document.createElement('div');\n",
              "          docLink.innerHTML = docLinkHtml;\n",
              "          element.appendChild(docLink);\n",
              "        }\n",
              "      </script>\n",
              "    </div>\n",
              "  </div>\n",
              "  "
            ]
          },
          "metadata": {},
          "execution_count": 46
        }
      ]
    },
    {
      "cell_type": "code",
      "metadata": {
        "id": "lmMwB3Qf0dSX",
        "colab": {
          "base_uri": "https://localhost:8080/"
        },
        "outputId": "a18e8000-5332-441e-a00e-11e58b3519c7"
      },
      "source": [
        "# tf-idf 높은 순으로 단어 id 정렬\n",
        "tfidf_order = np.flip(np.argsort(tfidfv.transform(list_docs).toarray(), axis=-1), axis=-1)\n",
        "tfidf_order"
      ],
      "execution_count": null,
      "outputs": [
        {
          "output_type": "execute_result",
          "data": {
            "text/plain": [
              "array([[0, 1, 3, 4, 2, 6, 5],\n",
              "       [6, 5, 4, 2, 1, 3, 0],\n",
              "       [6, 5, 4, 2, 1, 3, 0]])"
            ]
          },
          "metadata": {},
          "execution_count": 47
        }
      ]
    },
    {
      "cell_type": "code",
      "metadata": {
        "id": "N6_qI4zzbSIN",
        "colab": {
          "base_uri": "https://localhost:8080/"
        },
        "outputId": "d6a89d3f-78c3-4366-8fed-cd94c9733c7c"
      },
      "source": [
        "for i, line in enumerate(tfidf_order):\n",
        "    str_order = [id2word[_id] for _id in line if 0 < tf_idf[i][_id]]\n",
        "    print(str_order)"
      ],
      "execution_count": null,
      "outputs": [
        {
          "output_type": "stream",
          "name": "stdout",
          "text": [
            "['나는', '선생님']\n",
            "['학생', '당신은']\n",
            "['학생', '당신은']\n"
          ]
        }
      ]
    },
    {
      "cell_type": "markdown",
      "metadata": {
        "id": "Xn6bb-XFYww3"
      },
      "source": [
        "##  라.문서의 유사도 평가"
      ]
    },
    {
      "cell_type": "markdown",
      "metadata": {
        "id": "HMrwXJwGX_N-"
      },
      "source": [
        "* BOW 벡터를 기준으로 문서(장)의 유사도를 cosine 으로 평가\n",
        "* 코사인 유사도(Cosine Similarity) : $cos \\theta = {\\vec{a} \\cdot \\vec{b} \\over |\\vec{a}| * |\\vec{b}|}$"
      ]
    },
    {
      "cell_type": "code",
      "metadata": {
        "id": "NhiIodUvb9w6"
      },
      "source": [
        "from numpy import dot\n",
        "from numpy.linalg import norm\n",
        "import numpy as np\n",
        "def cos_sim(A, B):\n",
        "       return dot(A, B)/(norm(A)*norm(B))"
      ],
      "execution_count": null,
      "outputs": []
    },
    {
      "cell_type": "markdown",
      "metadata": {
        "id": "FykxVX9jm26M"
      },
      "source": []
    },
    {
      "cell_type": "code",
      "metadata": {
        "id": "bACKlmTkYGTr",
        "colab": {
          "base_uri": "https://localhost:8080/"
        },
        "outputId": "8efaf9bf-ab87-454f-d6f7-d0611c3b5095"
      },
      "source": [
        "a = bows[0]  # 나는 매우 매우 나는 매우 좋은 선생님 입니다\n",
        "b = bows[1]  # 당신은 매우 좋은 학생 학생 학생 입니다\n",
        "c = bows[2]  # 당신은 매우 좋은 학생 학생 입니다\n",
        "a,b,c"
      ],
      "execution_count": null,
      "outputs": [
        {
          "output_type": "execute_result",
          "data": {
            "text/plain": [
              "(array([2, 3, 1, 1, 1, 0, 0]),\n",
              " array([0, 1, 1, 0, 1, 1, 3]),\n",
              " array([0, 1, 1, 0, 1, 1, 2]))"
            ]
          },
          "metadata": {},
          "execution_count": 50
        }
      ]
    },
    {
      "cell_type": "code",
      "metadata": {
        "id": "G23qCePQQgZM",
        "colab": {
          "base_uri": "https://localhost:8080/"
        },
        "outputId": "832b7ba7-332b-47d6-9055-3fb1d38426ae"
      },
      "source": [
        "print(cos_sim(a,b), cos_sim(b,c), cos_sim(a,c)) "
      ],
      "execution_count": null,
      "outputs": [
        {
          "output_type": "stream",
          "name": "stdout",
          "text": [
            "0.34668762264076824 0.98058067569092 0.44194173824159216\n"
          ]
        }
      ]
    },
    {
      "cell_type": "markdown",
      "metadata": {
        "id": "1f7uHNBIgkJP"
      },
      "source": [
        "## 마.LSA 모형"
      ]
    },
    {
      "cell_type": "markdown",
      "metadata": {
        "id": "JqTzipdbw-O7"
      },
      "source": [
        "DTM 이나 TF-IDF 모형은 기본적으로 단어의 빈도수를 기준으로 수치화하여 단어의 의미를 분석하는 것이 아님\n",
        "\n",
        "하지만 새로운 단어나 문서에 대해서 새롭게 계산해야되는 단점"
      ]
    },
    {
      "cell_type": "code",
      "metadata": {
        "colab": {
          "base_uri": "https://localhost:8080/"
        },
        "id": "3l0-UgUGwXgz",
        "outputId": "e3a8e889-9410-4b8c-acfb-671bdaba1045"
      },
      "source": [
        "X = dtm\n",
        "X"
      ],
      "execution_count": null,
      "outputs": [
        {
          "output_type": "execute_result",
          "data": {
            "text/plain": [
              "array([[2, 3, 1, 1, 1, 0, 0],\n",
              "       [0, 1, 1, 0, 1, 1, 3],\n",
              "       [0, 1, 1, 0, 1, 1, 2]])"
            ]
          },
          "metadata": {},
          "execution_count": 52
        }
      ]
    },
    {
      "cell_type": "code",
      "metadata": {
        "colab": {
          "base_uri": "https://localhost:8080/"
        },
        "id": "SwqoX3MzSv-x",
        "outputId": "82af4540-ec04-4500-b69a-3683a2d18751"
      },
      "source": [
        "# 토픽수 3, X는 DTM 행렬, n_components = 토픽수(문서의수)\n",
        "from sklearn.decomposition import TruncatedSVD\n",
        "svd_model = TruncatedSVD(n_components=3, algorithm='randomized', n_iter=100, random_state=122)\n",
        "svd_model.fit(X)\n",
        "len(svd_model.components_)"
      ],
      "execution_count": null,
      "outputs": [
        {
          "output_type": "execute_result",
          "data": {
            "text/plain": [
              "3"
            ]
          },
          "metadata": {},
          "execution_count": 53
        }
      ]
    },
    {
      "cell_type": "code",
      "metadata": {
        "colab": {
          "base_uri": "https://localhost:8080/"
        },
        "id": "sbnLQfEeSv-x",
        "outputId": "5f12a513-d530-4ec2-ff20-94b8fa5384f6"
      },
      "source": [
        "#svd_model.componets_는 앞서 배운 LSA에서 VT행렬에 해당\n",
        "import numpy as np\n",
        "np.shape(svd_model.components_)"
      ],
      "execution_count": null,
      "outputs": [
        {
          "output_type": "execute_result",
          "data": {
            "text/plain": [
              "(3, 7)"
            ]
          },
          "metadata": {},
          "execution_count": 54
        }
      ]
    },
    {
      "cell_type": "code",
      "metadata": {
        "colab": {
          "base_uri": "https://localhost:8080/"
        },
        "id": "X3i_cuI6Sv-y",
        "outputId": "da0c3a3c-2316-4b56-89c4-f49623db21c0"
      },
      "source": [
        "terms = tfidfv.get_feature_names() # 단어 집합\n",
        "\n",
        "def get_topics(components, feature_names, n=2):\n",
        "    for idx, topic in enumerate(components):\n",
        "        print(\"Topic %d:\" % (idx+1), [(feature_names[i], topic[i].round(5)) for i in topic.argsort()[:-n - 1:-1]])\n",
        "get_topics(svd_model.components_,terms)"
      ],
      "execution_count": null,
      "outputs": [
        {
          "output_type": "stream",
          "name": "stdout",
          "text": [
            "Topic 1: [('학생', 0.57405), ('매우', 0.56871)]\n",
            "Topic 2: [('매우', 0.48968), ('나는', 0.48816)]\n",
            "Topic 3: [('당신은', 0.54837), ('입니다', 0.37553)]\n"
          ]
        },
        {
          "output_type": "stream",
          "name": "stderr",
          "text": [
            "/usr/local/lib/python3.7/dist-packages/sklearn/utils/deprecation.py:87: FutureWarning: Function get_feature_names is deprecated; get_feature_names is deprecated in 1.0 and will be removed in 1.2. Please use get_feature_names_out instead.\n",
            "  warnings.warn(msg, category=FutureWarning)\n"
          ]
        }
      ]
    },
    {
      "cell_type": "code",
      "metadata": {
        "colab": {
          "base_uri": "https://localhost:8080/"
        },
        "id": "crcdTwixZVSU",
        "outputId": "5587bde9-395b-44f8-c116-5ba8038c1986"
      },
      "source": [
        "# 단어의 빈도수 기반 잠재 토픽은 1번:학생 매우,2번 매우 나는, 3번 당신은 입니다. \n",
        "print(docs)"
      ],
      "execution_count": null,
      "outputs": [
        {
          "output_type": "stream",
          "name": "stdout",
          "text": [
            "나는 매우 매우 나는 매우 좋은 선생님 입니다\n",
            "당신은 매우 좋은 학생 학생 학생 입니다\n",
            "당신은 매우 좋은 학생 학생 입니다\n"
          ]
        }
      ]
    },
    {
      "cell_type": "markdown",
      "metadata": {
        "id": "p_gG6emIUgd0"
      },
      "source": [
        "## 바.LDA 모형"
      ]
    },
    {
      "cell_type": "code",
      "metadata": {
        "colab": {
          "base_uri": "https://localhost:8080/"
        },
        "id": "WnrgVeEZ2ZwD",
        "outputId": "6dbe5966-a88d-4c3b-d0cb-7fb35448e5d4"
      },
      "source": [
        "tokens"
      ],
      "execution_count": null,
      "outputs": [
        {
          "output_type": "execute_result",
          "data": {
            "text/plain": [
              "[['나는', '매우', '매우', '나는', '매우', '좋은', '선생님', '입니다'],\n",
              " ['당신은', '매우', '좋은', '학생', '학생', '학생', '입니다'],\n",
              " ['당신은', '매우', '좋은', '학생', '학생', '입니다']]"
            ]
          },
          "metadata": {},
          "execution_count": 57
        }
      ]
    },
    {
      "cell_type": "code",
      "metadata": {
        "colab": {
          "base_uri": "https://localhost:8080/"
        },
        "id": "1i15MKifUeOC",
        "outputId": "9b367b5e-3961-4a68-f1a6-eecc6adb1081"
      },
      "source": [
        "# corpus는 단어를 (word_id, word_frequency)의 형태로 변경, dictionary unique한 token의 리스트\n",
        "from gensim import corpora\n",
        "g_dictionary = corpora.Dictionary(tokens)\n",
        "g_corpus = [g_dictionary.doc2bow(text) for text in tokens]\n",
        "print(g_dictionary.token2id)\n",
        "print(g_dictionary.token2id.items())\n",
        "print(g_corpus)"
      ],
      "execution_count": null,
      "outputs": [
        {
          "output_type": "stream",
          "name": "stdout",
          "text": [
            "{'나는': 0, '매우': 1, '선생님': 2, '입니다': 3, '좋은': 4, '당신은': 5, '학생': 6}\n",
            "dict_items([('나는', 0), ('매우', 1), ('선생님', 2), ('입니다', 3), ('좋은', 4), ('당신은', 5), ('학생', 6)])\n",
            "[[(0, 2), (1, 3), (2, 1), (3, 1), (4, 1)], [(1, 1), (3, 1), (4, 1), (5, 1), (6, 3)], [(1, 1), (3, 1), (4, 1), (5, 1), (6, 2)]]\n"
          ]
        }
      ]
    },
    {
      "cell_type": "code",
      "metadata": {
        "id": "mcr9pi1nUv8g"
      },
      "source": [
        "# 모델훈련시키기, 토픽수와 출력 단어수 입력\n",
        "import gensim\n",
        "NUM_TOPICS = 3\n",
        "ldamodel = gensim.models.ldamodel.LdaModel(corpus=g_corpus, num_topics = NUM_TOPICS, id2word=g_dictionary, passes=15)\n",
        "topics = ldamodel.print_topics(num_words=2)"
      ],
      "execution_count": null,
      "outputs": []
    },
    {
      "cell_type": "code",
      "metadata": {
        "colab": {
          "base_uri": "https://localhost:8080/"
        },
        "id": "8EgALELCVxCG",
        "outputId": "6110e1c9-936b-4f95-e16c-89e7b1fbf07b"
      },
      "source": [
        "topics"
      ],
      "execution_count": null,
      "outputs": [
        {
          "output_type": "execute_result",
          "data": {
            "text/plain": [
              "[(0, '0.143*\"입니다\" + 0.143*\"좋은\"'),\n",
              " (1, '0.325*\"매우\" + 0.225*\"나는\"'),\n",
              " (2, '0.349*\"학생\" + 0.153*\"당신은\"')]"
            ]
          },
          "metadata": {},
          "execution_count": 60
        }
      ]
    },
    {
      "cell_type": "markdown",
      "metadata": {
        "id": "hgjC4YZN5AG8"
      },
      "source": [
        "# 3.실제 데이터를 활용한 문서 토픽 요약"
      ]
    },
    {
      "cell_type": "markdown",
      "metadata": {
        "id": "1x0BHkTscnix"
      },
      "source": [
        "1.전체 문서들에 대한 한글형태소 분석기 등의 전처리를 통하여 corpus(문서리스트)와 tokens(문서별토큰리스트)을 만든다.\n",
        "\n",
        "2.sklearn의 CountVectorizer를 이용해서 DTM을 구하고, TfidfVectorizer 클래스로 TF-IDF 행렬을 구하여 토픽과 유사성 탐색한다.\n",
        "\n",
        "3.Gensim 라이브러리를 이용하여 LDA 모형을 학습시켜 문서별 토픽과 토픽별 키워드 등을 분석한다. \n",
        "\n",
        "4.wordcloud, pyLDAvis, Matplotlib 등으로 시각화 표현 "
      ]
    },
    {
      "cell_type": "markdown",
      "metadata": {
        "id": "xuxv77fFfjPY"
      },
      "source": [
        "## 가.전처리 후 토큰과 코퍼스 만들기"
      ]
    },
    {
      "cell_type": "code",
      "metadata": {
        "id": "xVRdxYReYeQj",
        "colab": {
          "base_uri": "https://localhost:8080/"
        },
        "outputId": "8241b2f8-b67d-464d-fea4-f3187a541db2"
      },
      "source": [
        "# google drive mount\n",
        "from google.colab import drive\n",
        "drive.mount('/content/drive')"
      ],
      "execution_count": null,
      "outputs": [
        {
          "output_type": "stream",
          "name": "stdout",
          "text": [
            "Drive already mounted at /content/drive; to attempt to forcibly remount, call drive.mount(\"/content/drive\", force_remount=True).\n"
          ]
        }
      ]
    },
    {
      "cell_type": "code",
      "metadata": {
        "id": "byCIiLJBbFHh",
        "colab": {
          "base_uri": "https://localhost:8080/"
        },
        "outputId": "75d7b884-4553-47a4-a2d5-258f06b09465"
      },
      "source": [
        "# data dir\n",
        "import os\n",
        "data_dir = '/content/drive/MyDrive/Data'\n",
        "os.listdir(data_dir)"
      ],
      "execution_count": null,
      "outputs": [
        {
          "output_type": "execute_result",
          "data": {
            "text/plain": [
              "['kowiki',\n",
              " '감성대화',\n",
              " 'sc_training.json',\n",
              " 'sc_corpus.txt',\n",
              " 'sc_training.csv',\n",
              " 'corpus_mecab.txt',\n",
              " 'GoogleNews-vectors-negative300.bin.gz',\n",
              " 'w2v.model',\n",
              " 'ko_vocab',\n",
              " 'juso',\n",
              " 'songys-chat',\n",
              " 'downstream_exported',\n",
              " 'myproject',\n",
              " 'research.txt',\n",
              " 'movie_comment.csv',\n",
              " 'nsmc',\n",
              " 'vocab_ex',\n",
              " 'bert_files',\n",
              " 'korsquad_files',\n",
              " 'pretrained_files']"
            ]
          },
          "metadata": {},
          "execution_count": 62
        }
      ]
    },
    {
      "cell_type": "code",
      "metadata": {
        "id": "D00rXr_h10_Q",
        "colab": {
          "base_uri": "https://localhost:8080/"
        },
        "outputId": "1be21942-f0e3-4a40-8170-a21be4403173"
      },
      "source": [
        "import zipfile\n",
        "docs, doc = [], []\n",
        "\n",
        "# wiki 내용 확인\n",
        "with zipfile.ZipFile(os.path.join(data_dir, 'kowiki', \"kowiki.txt.zip\")) as z:\n",
        "    with z.open(\"kowiki.txt\") as f:\n",
        "        for i, line in enumerate(f):\n",
        "            line = line.decode('utf-8').strip()\n",
        "            if line:\n",
        "                doc.append(line)\n",
        "            else:\n",
        "                if doc:\n",
        "                    docs.append(doc)\n",
        "                doc = []\n",
        "            if len(docs) >= 10:\n",
        "                break\n",
        "docs[:2]"
      ],
      "execution_count": null,
      "outputs": [
        {
          "output_type": "execute_result",
          "data": {
            "text/plain": [
              "[['지미 카터',\n",
              "  '제임스 얼 \"지미\" 카터 주니어(, 1924년 10월 1일 ~ )는 민주당 출신 미국 39번째 대통령 (1977년 ~ 1981년)이다.',\n",
              "  '지미 카터는 조지아주 섬터 카운티 플레인스 마을에서 태어났다. 조지아 공과대학교를 졸업하였다. 그 후 해군에 들어가 전함·원자력·잠수함의 승무원으로 일하였다. 1953년 미국 해군 대위로 예편하였고 이후 땅콩·면화 등을 가꿔 많은 돈을 벌었다. 그의 별명이 \"땅콩 농부\" (Peanut Farmer)로 알려졌다.',\n",
              "  '1962년 조지아 주 상원 의원 선거에서 낙선하나 그 선거가 부정선거 였음을 입증하게 되어 당선되고, 1966년 조지아 주 지사 선거에 낙선하지만 1970년 조지아 주 지사를 역임했다. 대통령이 되기 전 조지아주 상원의원을 두번 연임했으며, 1971년부터 1975년까지 조지아 지사로 근무했다. 조지아 주지사로 지내면서, 미국에 사는 흑인 등용법을 내세웠다.',\n",
              "  '1976년 대통령 선거에 민주당 후보로 출마하여 도덕주의 정책으로 내세워, 포드를 누르고 당선되었다.',\n",
              "  '카터 대통령은 에너지 개발을 촉구했으나 공화당의 반대로 무산되었다.',\n",
              "  '카터는 이집트와 이스라엘을 조정하여, 캠프 데이비드에서 안와르 사다트 대통령과 메나헴 베긴 수상과 함께 중동 평화를 위한 캠프데이비드 협정을 체결했다.',\n",
              "  '그러나 이것은 공화당과 미국의 유대인 단체의 반발을 일으켰다. 1979년 백악관에서 양국 간의 평화조약으로 이끌어졌다. 또한 소련과 제2차 전략 무기 제한 협상에 조인했다.',\n",
              "  '카터는 1970년대 후반 당시 대한민국 등 인권 후진국의 국민들의 인권을 지키기 위해 노력했으며, 취임 이후 계속해서 도덕정치를 내세웠다.',\n",
              "  '그러나 주 이란 미국 대사관 인질 사건에서 인질 구출 실패를 이유로 1980년 대통령 선거에서 공화당의 로널드 레이건 후보에게 져 결국 재선에 실패했다. 또한 임기 말기에 터진 소련의 아프가니스탄 침공 사건으로 인해 1980년 하계 올림픽에 반공국가들의 보이콧을 내세웠다.',\n",
              "  '지미 카터는 대한민국과의 관계에서도 중요한 영향을 미쳤던 대통령 중 하나다. 인권 문제와 주한미군 철수 문제로 한때 한미 관계가 불편하기도 했다. 1978년 대한민국에 대한 북한의 위협에 대비해 한미연합사를 창설하면서, 1982년까지 3단계에 걸쳐 주한미군을 철수하기로 했다. 그러나 주한미군사령부와 정보기관·의회의 반대에 부딪혀 주한미군은 완전철수 대신 6,000명을 감축하는 데 그쳤다. 또한 박정희 정권의 인권 문제 등과의 논란으로 불협화음을 냈으나, 1979년 6월 하순, 대한민국을 방문하여 관계가 다소 회복되었다.',\n",
              "  '1979년 ~ 1980년 대한민국의 정치적 격변기 당시의 대통령이었던 그는 이에 대해 애매한 태도를 보였고, 이는 후에 대한민국 내에서 고조되는 반미 운동의 한 원인이 됐다. 10월 26일, 박정희 대통령이 김재규 중앙정보부장에 의해 살해된 것에 대해 그는 이 사건으로 큰 충격을 받았으며, 사이러스 밴스 국무장관을 조문사절로 파견했다. 12·12 군사 반란과 5.17 쿠데타에 대해 초기에는 강하게 비난했으나, 미국 정부가 신군부를 설득하는데, 한계가 있었고 결국 묵인하는 듯한 태도를 보이게 됐다.',\n",
              "  '퇴임 이후 민간 자원을 적극 활용한 비영리 기구인 카터 재단을 설립한 뒤 민주주의 실현을 위해 제 3세계의 선거 감시 활동 및 기니 벌레에 의한 드라쿤쿠르스 질병 방재를 위해 힘썼다. 미국의 빈곤층 지원 활동, 사랑의 집짓기 운동, 국제 분쟁 중재 등의 활동도 했다.',\n",
              "  '카터는 카터 행정부 이후 미국이 북핵 위기, 코소보 전쟁, 이라크 전쟁과 같이 미국이 군사적 행동을 최후로 선택하는 전통적 사고를 버리고 군사적 행동을 선행하는 행위에 대해 깊은 유감을 표시 하며 미국의 군사적 활동에 강한 반대 입장을 보이고 있다.',\n",
              "  '특히 국제 분쟁 조정을 위해 북한의 김일성, 아이티의 세드라스 장군, 팔레인스타인의 하마스, 보스니아의 세르비아계 정권 같이 미국 정부에 대해 협상을 거부하면서 사태의 위기를 초래한 인물 및 단체를 직접 만나 분쟁의 원인을 근본적으로 해결하기 위해 힘썼다. 이 과정에서 미국 행정부와 갈등을 보이기도 했지만, 전직 대통령의 권한과 재야 유명 인사들의 활약으로 해결해 나갔다.',\n",
              "  '1978년에 채결된 캠프데이비드 협정의 이행이 지지부진 하자 중동 분쟁 분제를 해결하기 위해 1993년 퇴임 후 직접 이스라엘과 팔레인스타인의 오슬로 협정을 이끌어 내는 데도 성공했다.',\n",
              "  '1993년 1차 북핵 위기 당시 북한에 대한 미국의 군사적 행동이 임박했으나, 미국 전직 대통령으로는 처음으로 북한을 방문하고 미국과 북 양국의 중재에 큰 기여를 해 위기를 해결했다는 평가를 받았다. 또한 이 때 김영삼 대통령과 김일성 주석의 만남을 주선했다. 하지만 그로부터 수주일 후 김일성이 갑자기 사망하여 김일성과 김영삼의 정상회담은 이루어지지 못했다.',\n",
              "  '미국의 관타나모 수용소 문제, 세계의 인권문제에서도 관심이 깊어 유엔에 유엔인권고등판무관의 제도를 시행하도록 노력하여 독재자들의 인권 유린에 대해 제약을 하고, 국제형사재판소를 만드는 데 기여하여 독재자들 같은 인권유린범죄자를 재판소로 회부하여 국제적인 처벌을 받게 하는 등 인권 신장에 크나 큰 기여를 했다.',\n",
              "  '2011년 4월 26일부터 29일까지 북한을 3일간 방문했다.',\n",
              "  '경제문제를 해결하지 못하고 주 이란 미국 대사관 인질 사건에 발목이 잡혀 실패한 대통령으로 평가를 받지만 이란 사태는 미국 내 이란 재산을 풀어주겠다는 조건을 내세워서 사실상 카터가 해결한 것이었고, 사랑의 집짓기 운동 등으로 퇴임 후에 훨씬 더 존경받는 미국 대통령 중에 특이한 인물로 남았다.',\n",
              "  '그는 2002년 말 인권과 중재 역할에 대한 공로를 인정받아 노벨 평화상을 받게 되었다.'],\n",
              " ['수학',\n",
              "  '수학(數學, ) 은 양, 구조, 공간, 변화, 미적분 등의 개념을 다루는 학문이다. 현대 수학은 형식 논리를 이용해서 공리로 구성된 추상적 구조를 연구하는 학문으로 여겨지기도 한다. 수학은 그 구조와 발전 과정에서는 자연과학에 속하는 물리학을 비롯한 다른 학문들과 깊은 연관을 맺고 있다. 하지만, 어느 과학의 분야들과는 달리, 자연계에서 관측되지 않는 개념들에 대해서까지 이론을 일반화 및 추상화시킬 수 있다는 차이가 있다고 한다. 수학자들은 그러한 개념들에 대해서 추측을 하고, 적절하게 선택된 정의와 공리로부터의 엄밀한 연역을 통해서 추측들의 진위를 파악한다.',\n",
              "  '수학은 숫자 세기, 계산, 측정 및 물리적 대상의 모양과 움직임을 추상화하고, 이에 논리적 추론을 적용하여 나타났다. 이런 기본 개념들은 고대 이집트, 메소포타미아, 고대 인도, 고대 중국 및 고대 그리스의 수학책에서 찾아볼 수 있다. 그리고, 유클리드의 원론에서는 엄밀한 논증이 발견된다. 이런 발전은 그 뒤로도 계속되어, 16세기의 르네상스에 이르러서는 수학적 발전과 과학적 방법들의 상호 작용이 일어나, 혁명적인 연구들이 진행되며 인류 문명에 큰 영향을 미치게 되었다. 그리고, 이는 현재까지도 계속되고 있다.',\n",
              "  '오늘날 수학은 자연과학, 공학, 의학뿐만 아니라, 경제학 등의 사회과학에서도 중요한 도구로서도 사용된다. 수학을 이런 분야들에 적용한 응용수학은 그 결과로써 수학 자체의 발전을 이끌고 새로운 분야들을 낳았다. 응용이 아닌 수학 자체의 아름다움과 재미를 추구하며 연구하는 것을 순수수학이라 하는데, 긴 시간이 지난 뒤에 순수수학적 연구를 다른 분야에 응용할 방법이 발견된 경우도 많았다고 한다.',\n",
              "  '대부분 자료를 보면, \"mathematics\"는 \"수리적인\"이라는 뜻을 가진 라틴어 mathmaticus와 그리스어 mathematikos에서 유래되었거나, \"학식있는\"을 뜻하는 mathema와 \"배우다\"를 뜻하는 manthanein에서 유래되었다고 한다. 줄여서 \"math\"라고 표현하기도 한다.',\n",
              "  '수학은 기원전 600년 경에 살았던 탈레스로부터 시작됐다. 하지만 탈레스가 태어나기 전에도 수학을 연구한 사람이 있을 수도 있기 때문에, 인류의 역사와 더불어 시작되었다고 할 수 있다. 교역•분배•과세 등의 인류의 사회 생활에 필요한 모든 계산을 수학이 담당해 왔고, 농경 생활에 필수적인 천문 관측과 달력의 제정, 토지의 측량 또한 수학이 직접적으로 관여한 분야이다. 고대 수학을 크게 발전시킨 나라로는 이집트, 인도, 그리스, 중국 등이 있다. 그 중에서도 그리스는 처음으로 수학의 방정식에서 변수를 문자로 쓴 나라이다.',\n",
              "  '한국의 수학은 약 1,500년 전부터 기록으로 보이기 시작한다. 신라 시대에 수학을 가르쳤으며, 탈레스가 최초로 발견한 일식과 월식을 예측할 정도로 발달했다. 조선 시대에 훈민정음을 창제한 세종 대왕은 집현전 학자들에게 수학 연구를 명하는 등, 조선의 수학 수준을 향상시키기 위해서 많은 노력을 기울였다. 하지만 임진왜란으로 많은 서적들이 불타고, 천문학 분야에서 큰 손실을 입었다. 조선 후기의 한국의 수학은 실학자들을 중심으로 다시 발전하였고, 새로운 결과도 성취되었다.',\n",
              "  '수학의 각 분야들은 상업에 필요한 계산을 하기 위해, 숫자들의 관계를 이해하기 위해, 토지를 측량하기 위해, 그리고 천문학적 사건들을 예견하기 위해 발전되어왔다. 이 네 가지 목적은 대략적으로 수학이 다루는 대상인 양, 구조, 공간 및 변화에 대응되며, 이들을 다루는 수학의 분야를 각각 산술, 대수학, 기하학, 해석학이라 한다. 또한 이 밖에도 근대 이후에 나타난 수학기초론과 이산수학 및 응용수학 등이 있다.',\n",
              "  '산술은 자연수와 정수 및 이에 대한 사칙연산에 대한 연구로서 시작했다. 수론은 이런 주제들을 보다 깊게 다루는 학문으로, 그 결과로는 페르마의 마지막 정리 등이 유명하다. 또한 쌍둥이 소수 추측과 골드바흐 추측 등을 비롯해 오랜 세월 동안 해결되지 않고 남아있는 문제들도 여럿 있다.',\n",
              "  '수의 체계가 보다 발전하면서, 정수의 집합을 유리수의 집합의 부분집합으로 여기게 되었다. 또한 유리수의 집합은 실수의 집합의 부분집합이며, 이는 또다시 복소수 집합의 일부분으로 볼 수 있다. 여기에서 더 나아가면 사원수와 팔원수 등의 개념을 생각할 수도 있다. 이와는 약간 다른 방향으로, 자연수를 무한대까지 세어나간다는 개념을 형식화하여 순서수의 개념을 얻으며, 집합의 크기 비교를 이용하여 무한대를 다루기 위한 또다른 방법으로는 기수의 개념도 있다.',\n",
              "  '수 대신 문자를 써서 문제해결을 쉽게 하는 것과, 마찬가지로 수학적 법칙을 일반적이고 간명하게 나타내는 것을 포함한다. 고전대수학은 대수방정식 및 연립방정식의 해법에서 시작하여 군, 환, 체 등의 추상대수학을 거쳐 현대에 와서는 대수계의 구조를 보는 것을 중심으로 하는 선형대수학으로 전개되었다. 수의 집합이나 함수와 같은 많은 수학적 대상들은 내재적인 구조를 보인다. 이러한 대상들의 구조적 특성들이 군론, 환론, 체론 그리고 그 외의 수많은 대수적 구조들을 연구하면서 다루어지며, 그것들 하나하나가 내재적 구조를 지닌 수학적 대상이다. 이 분야에서 중요한 개념은 벡터, 벡터 공간으로의 일반화, 그리고 선형대수학에서의 지식들이다. 벡터의 연구에는 산술, 대수, 기하라는 수학의 중요한 세개의 분야가 조합되어 있다. 벡터 미적분학은 여기에 해석학의 영역이 추가된다. 텐서 미적분학은 대칭성과 회전축의 영향 아래에서 벡터의 움직임을 연구한다. 눈금없는 자와 컴퍼스와 관련된 많은 고대의 미해결 문제들이 갈루아 이론을 사용하여 비로소 해결되었다.',\n",
              "  '공간에 대한 연구는 기하학에서 시작되었고, 특히 유클리드 기하학에서 비롯되었다. 삼각법은 공간과 수들을 결합하였고, 잘 알려진 피타고라스의 정리를 포함한다. 현대에 와서 공간에 대한 연구는, 이러한 개념들은 더 높은 차원의 기하학을 다루기 위해 비유클리드 기하학(상대성이론에서 핵심적인 역할을 함)과 위상수학으로 일반화되었다. 수론과 공간에 대한 이해는 모두 해석 기하학, 미분기하학, 대수기하학에 중요한 역할을 한다. 리 군도 공간과 구조, 변화를 다루는데 사용된다. 위상수학은 20세기 수학의 다양한 지류속에서 괄목할만한 성장을 한 분야이며, 푸앵카레 추측과 인간에 의해서 증명되지 못하고 오직 컴퓨터로만 증명된 4색정리를 포함한다.',\n",
              "  '변화에 대한 이해와 묘사는 자연과학에 있어서 일반적인 주제이며, 미적분학은 변화를 탐구하는 강력한 도구로서 발전되었다. 함수는 변화하는 양을 묘사함에 있어서 중추적인 개념으로써 떠오르게 된다. 실수와 실변수로 구성된 함수의 엄밀한 탐구가 실해석학이라는 분야로 알려지게 되었고, 복소수에 대한 이와 같은 탐구 분야는 복소해석학이라고 한다. 함수해석학은 함수의 공간(특히 무한차원)의 탐구에 주목한다. 함수해석학의 많은 응용분야 중 하나가 양자역학이다. 많은 문제들이 자연스럽게 양과 그 양의 변화율의 관계로 귀착되고, 이러한 문제들이 미분방정식으로 다루어진다. 자연의 많은 현상들이 동역학계로 기술될 수 있다. 혼돈 이론은 이러한 예측 불가능한 현상을 탐구하는 데 상당한 기여를 한다.',\n",
              "  '수학의 기초를 확실히 세우기 위해, 수리논리학과 집합론이 발전하였고, 이와 더불어 범주론이 최근에도 발전되고 있다. “근본 위기”라는 말은 대략 1900년에서 1930년 사이에 일어난, 수학의 엄밀한 기초에 대한 탐구를 상징적으로 보여주는 말이다. 수학의 엄밀한 기초에 대한 몇 가지 의견 불일치는 오늘날에도 계속되고 있다. 수학의 기초에 대한 위기는 그 당시 수많은 논쟁에 의해 촉발되었으며, 그 논쟁에는 칸토어의 집합론과 브라우어-힐베르트 논쟁이 포함되었다.']]"
            ]
          },
          "metadata": {},
          "execution_count": 63
        }
      ]
    },
    {
      "cell_type": "code",
      "metadata": {
        "id": "4GiAlhONJhNf",
        "colab": {
          "base_uri": "https://localhost:8080/"
        },
        "outputId": "bfe0e0e7-6643-4cc3-f68f-776c8fbff1af"
      },
      "source": [
        "# 전체 문서의 수는 10개, 첫번째 문서의 센텐스 수는 21개\n",
        "print(len(docs), len(docs[0]))\n",
        "# docs"
      ],
      "execution_count": null,
      "outputs": [
        {
          "output_type": "stream",
          "name": "stdout",
          "text": [
            "10 21\n"
          ]
        }
      ]
    },
    {
      "cell_type": "code",
      "metadata": {
        "id": "p_GZEqoj8c6I"
      },
      "source": [
        "# 한글 형태소 분석기 선택\n",
        "import konlpy\n",
        "tag = konlpy.tag.Okt()"
      ],
      "execution_count": null,
      "outputs": []
    },
    {
      "cell_type": "code",
      "metadata": {
        "colab": {
          "base_uri": "https://localhost:8080/"
        },
        "id": "jDZ0QlkU2224",
        "outputId": "73f27593-f7b6-4ef2-f992-725d0246952a"
      },
      "source": [
        "# 하나의 문서 형태소 분석기로 형태소 추출 \n",
        "print(tag.morphs(' '.join(docs[0])))\n",
        "print(tag.nouns(' '.join(docs[0])))"
      ],
      "execution_count": null,
      "outputs": [
        {
          "output_type": "stream",
          "name": "stdout",
          "text": [
            "['지미', '카터', '제임스', '얼', '\"', '지미', '\"', '카터', '주니어', '(,', '1924년', '10월', '1일', '~', ')', '는', '민주당', '출신', '미국', '39', '번째', '대통령', '(', '1977년', '~', '1981년', ')', '이다', '.', '지미', '카터', '는', '조지아주', '섬터', '카운티', '플레인스', '마을', '에서', '태어났다', '.', '조지아', '공과', '대학교', '를', '졸업', '하였다', '.', '그', '후', '해군', '에', '들어가', '전함', '·', '원자력', '·', '잠수함', '의', '승무원', '으로', '일', '하였다', '.', '1953년', '미국', '해군', '대위', '로', '예', '편하였고', '이후', '땅콩', '·', '면화', '등', '을', '가꿔', '많은', '돈', '을', '벌었다', '.', '그', '의', '별명', '이', '\"', '땅콩', '농부', '\"', '(', 'Peanut', 'Farmer', ')', '로', '알려졌다', '.', '1962년', '조지아', '주', '상원', '의원', '선거', '에서', '낙선', '하나', '그', '선거', '가', '부정선거', '였', '음', '을', '입증', '하게', '되어', '당선', '되고', ',', '1966년', '조지아', '주', '지사', '선거', '에', '낙선', '하지만', '1970년', '조지아', '주', '지사', '를', '역임', '했다', '.', '대통령', '이', '되기', '전', '조지아주', '상원의원', '을', '두', '번', '연', '임', '했으며', ',', '1971년', '부터', '1975년', '까지', '조지아', '지사', '로', '근무', '했다', '.', '조지아', '주', '지사', '로', '지내면서', ',', '미국', '에', '사는', '흑인', '등', '용법', '을', '내', '세웠다', '.', '1976년', '대통령', '선거', '에', '민주당', '후보', '로', '출마', '하여', '도덕', '주의', '정책', '으로', '내세워', ',', '포드', '를', '누르고', '당선', '되었다', '.', '카터', '대통령', '은', '에너지', '개발', '을', '촉구', '했으나', '공화당', '의', '반대', '로', '무산', '되었다', '.', '카터', '는', '이집트', '와', '이스라엘', '을', '조정', '하여', ',', '캠프', '데이비드', '에서', '안와르', '사다트', '대통령', '과', '메나헴', '베긴', '수상', '과', '함께', '중동', '평화', '를', '위', '한', '캠프데이비드', '협정', '을', '체결', '했다', '.', '그러나', '이', '것', '은', '공화당', '과', '미국', '의', '유대인', '단체', '의', '반발', '을', '일으켰다', '.', '1979년', '백악관', '에서', '양국', '간의', '평화조약', '으로', '이끌어졌다', '.', '또한', '소련', '과', '제', '2', '차', '전략', '무기', '제한', '협상', '에', '조인', '했다', '.', '카터', '는', '1970년', '대', '후반', '당시', '대한민국', '등', '인권', '후진국', '의', '국민', '들', '의', '인권', '을', '지키기', '위해', '노력', '했으며', ',', '취임', '이후', '계속', '해서', '도덕', '정치', '를', '내', '세웠다', '.', '그러나', '주', '이란', '미국', '대사관', '인질', '사건', '에서', '인질', '구출', '실패', '를', '이유', '로', '1980년', '대통령', '선거', '에서', '공화당', '의', '로널드', '레이건', '후보', '에게', '져', '결국', '재선', '에', '실패했다', '.', '또한', '임기', '말기', '에', '터진', '소련', '의', '아프가니스탄', '침공', '사건', '으로', '인해', '1980년', '하', '계', '올림픽', '에', '반', '공', '국가', '들', '의', '보이콧', '을', '내', '세웠다', '.', '지미', '카터', '는', '대한민국', '과의', '관계', '에서도', '중요한', '영향', '을', '미쳤던', '대통령', '중', '하나', '다', '.', '인권', '문제', '와', '주', '한', '미군', '철수', '문제', '로', '한때', '한미', '관계', '가', '불편하기도', '했다', '.', '1978년', '대한민국', '에', '대한', '북한', '의', '위협', '에', '대비', '해', '한미연합사', '를', '창설', '하면서', ',', '1982년', '까지', '3', '단계', '에', '걸쳐', '주', '한', '미군', '을', '철수', '하기로', '했다', '.', '그러나', '주', '한', '미군', '사령부', '와', '정보기관', '·', '의회', '의', '반대', '에', '부딪혀', '주', '한', '미군', '은', '완전', '철수', '대신', '6,000', '명', '을', '감축', '하는', '데', '그쳤다', '.', '또한', '박정희', '정권', '의', '인권', '문제', '등', '과의', '논란', '으로', '불협화음', '을', '냈으나', ',', '1979년', '6월', '하순', ',', '대한민국', '을', '방문', '하여', '관계', '가', '다소', '회복', '되었다', '.', '1979년', '~', '1980년', '대한민국', '의', '정치', '적', '격변', '기', '당시', '의', '대통령', '이었던', '그', '는', '이', '에', '대해', '애매한', '태도', '를', '보였고', ',', '이는', '후', '에', '대한민국', '내', '에서', '고조', '되는', '반미', '운동', '의', '한', '원인', '이', '됐다', '.', '10월', '26일', ',', '박정희', '대통령', '이', '김재규', '중앙', '정보', '부장', '에', '의해', '살해', '된', '것', '에', '대해', '그', '는', '이', '사건', '으로', '큰', '충격', '을', '받았으며', ',', '사이러스', '밴스', '국무장관', '을', '조', '문', '사절', '로', '파견', '했다', '.', '12', '·', '12', '군사', '반란', '과', '5.17', '쿠데타', '에', '대해', '초기', '에는', '강하게', '비난', '했으나', ',', '미국', '정부', '가', '신군부', '를', '설득', '하는데', ',', '한계', '가', '있었고', '결국', '묵인', '하는', '듯', '한', '태도', '를', '보이', '게', '됐다', '.', '퇴임', '이후', '민간', '자원', '을', '적극', '활용', '한', '비영리', '기구', '인', '카터', '재단', '을', '설립', '한', '뒤', '민주주의', '실현', '을', '위해', '제', '3', '세계', '의', '선거', '감시', '활동', '및', '기니', '벌레', '에', '의한', '드라쿤쿠르스', '질병', '방재', '를', '위해', '힘썼다', '.', '미국', '의', '빈곤층', '지원', '활동', ',', '사랑', '의', '집짓기', '운동', ',', '국제', '분쟁', '중재', '등', '의', '활동', '도', '했다', '.', '카터', '는', '카터', '행정부', '이후', '미국', '이', '북핵', '위기', ',', '코소보', '전쟁', ',', '이라크', '전쟁', '과', '같이', '미국', '이', '군사', '적', '행동', '을', '최후', '로', '선택', '하는', '전통', '적', '사고', '를', '버리고', '군사', '적', '행동', '을', '선행', '하는', '행위', '에', '대해', '깊은', '유감', '을', '표시', '하며', '미국', '의', '군사', '적', '활동', '에', '강한', '반대', '입장', '을', '보이', '고', '있다', '.', '특히', '국제', '분쟁', '조정', '을', '위해', '북한', '의', '김일성', ',', '아이티', '의', '세', '드', '라스', '장군', ',', '팔레', '인스타', '인', '의', '하마스', ',', '보스니아', '의', '세르비아', '계', '정권', '같이', '미국', '정부', '에', '대해', '협상', '을', '거부', '하면서', '사태', '의', '위기', '를', '초래', '한', '인물', '및', '단체', '를', '직접', '만나', '분쟁', '의', '원인', '을', '근본', '적', '으로', '해결', '하기', '위해', '힘썼다', '.', '이', '과정', '에서', '미국', '행정부', '와', '갈등', '을', '보', '이기도', '했지만', ',', '전직', '대통령', '의', '권한', '과', '재야', '유명', '인사', '들', '의', '활약', '으로', '해결', '해', '나갔다', '.', '1978년', '에', '채결', '된', '캠프데이비드', '협정', '의', '이행', '이', '지지', '부진', '하자', '중동', '분쟁', '분제', '를', '해결', '하기', '위해', '1993년', '퇴임', '후', '직접', '이스라엘', '과', '팔레', '인스타', '인', '의', '오슬로', '협정', '을', '이끌어', '내는', '데도', '성공했다', '.', '1993년', '1', '차', '북핵', '위기', '당시', '북한', '에', '대한', '미국', '의', '군사', '적', '행동', '이', '임박', '했으나', ',', '미국', '전직', '대통령', '으로는', '처음', '으로', '북한', '을', '방문', '하고', '미국', '과', '북', '양국', '의', '중재', '에', '큰', '기여', '를', '해', '위기', '를', '해결', '했다는', '평가', '를', '받았다', '.', '또한', '이', '때', '김영삼', '대통령', '과', '김일성', '주석', '의', '만남', '을', '주선', '했다', '.', '하지만', '그로', '부터', '수', '주일', '후', '김일성', '이', '갑자기', '사망', '하여', '김일성', '과', '김영삼', '의', '정상회담', '은', '이루어지지', '못', '했다', '.', '미국', '의', '관타나모', '수', '용소', '문제', ',', '세계', '의', '인권', '문제', '에서도', '관심', '이', '깊어', '유엔', '에', '유엔', '인권', '고등판무관', '의', '제도', '를', '시행', '하도록', '노력', '하여', '독재자', '들', '의', '인권', '유린', '에', '대해', '제약', '을', '하고', ',', '국제', '형', '사', '재판소', '를', '만드는', '데', '기여', '하여', '독재자', '들', '같은', '인권', '유린', '범죄자', '를', '재판소', '로', '회부', '하여', '국제', '적', '인', '처벌', '을', '받게', '하는', '등', '인권', '신장', '에', '크나', '큰', '기여', '를', '했다', '.', '2011년', '4월', '26일', '부터', '29일', '까지', '북한', '을', '3일', '간', '방문', '했다', '.', '경', '제', '문제', '를', '해결', '하지', '못', '하고', '주', '이란', '미국', '대사관', '인질', '사건', '에', '발목', '이', '잡혀', '실패한', '대통령', '으로', '평가', '를', '받지만', '이란', '사태', '는', '미국', '내', '이란', '재산', '을', '풀어주겠다는', '조건', '을', '내', '세', '워', '서', '사실', '상', '카터', '가', '해결', '한', '것', '이었고', ',', '사랑', '의', '집짓기', '운동', '등', '으로', '퇴임', '후', '에', '훨씬', '더', '존경', '받는', '미국', '대통령', '중', '에', '특이한', '인물', '로', '남았다', '.', '그', '는', '2002년', '말', '인권', '과', '중재', '역할', '에', '대한', '공로', '를', '인정받아', '노벨', '평화상', '을', '받게', '되었다', '.']\n",
            "['지미', '카터', '제임스', '얼', '지미', '카터', '주니어', '민주당', '출신', '미국', '대통령', '지미', '카터', '조지아주', '섬터', '카운티', '플레인스', '마을', '조지아', '공과', '대학교', '졸업', '그', '후', '해군', '전함', '원자력', '잠수함', '승무원', '일', '미국', '해군', '대위', '예', '이후', '땅콩', '면화', '등', '돈', '그', '별명', '땅콩', '농부', '로', '조지아', '주', '상원', '의원', '선거', '낙선', '하나', '그', '선거', '부정선거', '음', '입증', '당선', '조지아', '주', '지사', '선거', '낙선', '조지아', '주', '지사', '역임', '대통령', '전', '조지아주', '상원의원', '번', '임', '조지아', '지사', '근무', '조지아', '지사', '미국', '흑인', '등', '용법', '내', '대통령', '선거', '민주당', '후보', '출마', '도덕', '주의', '정책', '포드', '당선', '카터', '대통령', '에너지', '개발', '촉구', '공화당', '반대', '무산', '카터', '이집트', '이스라엘', '조정', '캠프', '데이비드', '안와르', '사다트', '대통령', '메나헴', '수상', '중동', '평화', '위', '캠프데이비드', '협정', '체결', '것', '공화당', '미국', '유대인', '단체', '반발', '백악관', '양국', '간의', '평화조약', '또한', '소련', '제', '차', '전략', '무기', '제한', '협상', '조인', '카터', '후반', '당시', '대한민국', '등', '인권', '후진국', '국민', '인권', '위해', '노력', '취임', '이후', '계속', '도덕', '정치', '내', '주', '이란', '미국', '대사관', '인질', '사건', '인질', '구출', '실패', '이유', '대통령', '선거', '공화당', '로널드', '레이건', '후보', '재선', '또한', '임기', '말기', '소련', '아프가니스탄', '침공', '사건', '계', '올림픽', '국가', '보이콧', '내', '지미', '카터', '대한민국', '관계', '영향', '대통령', '중', '하나', '인권', '문제', '미군', '철수', '문제', '한미', '관계', '대한민국', '대한', '북한', '위협', '대비', '한미연합사', '창설', '단계', '미군', '철수', '미군', '사령부', '정보기관', '의회', '반대', '미군', '완전', '철수', '대신', '명', '감축', '데', '또한', '박정희', '정권', '인권', '문제', '등', '논란', '불협화음', '하순', '대한민국', '방문', '관계', '다소', '회복', '대한민국', '정치', '격변', '기', '당시', '대통령', '그', '이', '대해', '태도', '후', '대한민국', '내', '고조', '반미', '운동', '원인', '박정희', '대통령', '김재규', '중앙', '정보', '부장', '살해', '것', '대해', '그', '이', '사건', '충격', '사이러스', '밴스', '국무장관', '사절', '파견', '군사', '반란', '쿠데타', '대해', '초기', '비난', '미국', '정부', '신군부', '설득', '한계', '묵인', '듯', '태도', '보이', '퇴임', '이후', '민간', '자원', '적극', '활용', '비영리', '기구', '카터', '재단', '설립', '뒤', '민주주의', '실현', '위해', '제', '세계', '선거', '감시', '활동', '및', '기니', '벌레', '드라쿤쿠르스', '질병', '방재', '위해', '미국', '빈곤층', '지원', '활동', '사랑', '집짓기', '운동', '국제', '분쟁', '중재', '등', '활동', '카터', '카터', '행정부', '이후', '미국', '북핵', '위기', '코소보', '전쟁', '이라크', '전쟁', '미국', '군사', '행동', '최후', '선택', '전통', '사고', '군사', '행동', '선행', '행위', '대해', '유감', '표시', '미국', '군사', '활동', '반대', '입장', '보이', '국제', '분쟁', '조정', '위해', '북한', '김일성', '아이티', '드', '라스', '장군', '팔레', '인스타', '하마스', '보스니아', '세르비아', '정권', '미국', '정부', '대해', '협상', '거부', '사태', '위기', '초래', '인물', '및', '단체', '직접', '분쟁', '원인', '근본', '해결', '위해', '이', '과정', '미국', '행정부', '갈등', '보', '전직', '대통령', '권한', '재야', '유명', '인사', '활약', '해결', '채결', '캠프데이비드', '협정', '이행', '지지', '부진', '하자', '중동', '분쟁', '분제', '해결', '위해', '퇴임', '후', '직접', '이스라엘', '팔레', '인스타', '오슬로', '협정', '차', '북핵', '위기', '당시', '북한', '대한', '미국', '군사', '행동', '임박', '미국', '전직', '대통령', '처음', '북한', '방문', '미국', '북', '양국', '중재', '기여', '해', '위기', '해결', '평가', '또한', '이', '때', '김영삼', '대통령', '김일성', '주석', '만남', '주선', '그로', '주일', '후', '김일성', '갑자기', '사망', '김일성', '김영삼', '정상회담', '미국', '관타나모', '용소', '문제', '세계', '인권', '문제', '관심', '유엔', '유엔', '인권', '고등판무관', '제도', '시행', '노력', '독재자', '인권', '유린', '대해', '제약', '국제', '재판소', '데', '기여', '독재자', '인권', '유린', '범죄자', '재판소', '회부', '국제', '처벌', '등', '인권', '신장', '기여', '북한', '방문', '문제', '해결', '못', '주', '이란', '미국', '대사관', '인질', '사건', '발목', '대통령', '평가', '이란', '사태', '미국', '내', '이란', '재산', '조건', '워', '사실', '카터', '해결', '것', '사랑', '집짓기', '운동', '등', '퇴임', '후', '더', '존경', '미국', '대통령', '중', '인물', '그', '말', '인권', '중재', '역할', '대한', '공로', '노벨', '평화상']\n"
          ]
        }
      ]
    },
    {
      "cell_type": "code",
      "metadata": {
        "colab": {
          "base_uri": "https://localhost:8080/"
        },
        "id": "wLsRNJ6Ruu-W",
        "outputId": "36f51eae-4b42-44f5-fbca-8624eb7ffe20"
      },
      "source": [
        "# 문서별로 한글 형태소 분석기로 전처리 후 형태소만 추출하고, Stop words 제거, 한글자 제거 후 tokens으로 담기 \n",
        "tokens=[]\n",
        "corpus =[]\n",
        "stopwords = ['(,', '것', '계','간의']\n",
        "for doc in docs:\n",
        "  morp = tag.nouns(' '.join(doc))\n",
        "  morp = [x for x in morp if x not in stopwords] \n",
        "  morp = [x for x in morp if len(x) > 1]\n",
        "  tokens.append(morp)\n",
        "  corpus.append(' '.join(morp))\n",
        "\n",
        "print(corpus)\n",
        "print(tokens)"
      ],
      "execution_count": null,
      "outputs": [
        {
          "output_type": "stream",
          "name": "stdout",
          "text": [
            "['지미 카터 제임스 지미 카터 주니어 민주당 출신 미국 대통령 지미 카터 조지아주 섬터 카운티 플레인스 마을 조지아 공과 대학교 졸업 해군 전함 원자력 잠수함 승무원 미국 해군 대위 이후 땅콩 면화 별명 땅콩 농부 조지아 상원 의원 선거 낙선 하나 선거 부정선거 입증 당선 조지아 지사 선거 낙선 조지아 지사 역임 대통령 조지아주 상원의원 조지아 지사 근무 조지아 지사 미국 흑인 용법 대통령 선거 민주당 후보 출마 도덕 주의 정책 포드 당선 카터 대통령 에너지 개발 촉구 공화당 반대 무산 카터 이집트 이스라엘 조정 캠프 데이비드 안와르 사다트 대통령 메나헴 수상 중동 평화 캠프데이비드 협정 체결 공화당 미국 유대인 단체 반발 백악관 양국 평화조약 또한 소련 전략 무기 제한 협상 조인 카터 후반 당시 대한민국 인권 후진국 국민 인권 위해 노력 취임 이후 계속 도덕 정치 이란 미국 대사관 인질 사건 인질 구출 실패 이유 대통령 선거 공화당 로널드 레이건 후보 재선 또한 임기 말기 소련 아프가니스탄 침공 사건 올림픽 국가 보이콧 지미 카터 대한민국 관계 영향 대통령 하나 인권 문제 미군 철수 문제 한미 관계 대한민국 대한 북한 위협 대비 한미연합사 창설 단계 미군 철수 미군 사령부 정보기관 의회 반대 미군 완전 철수 대신 감축 또한 박정희 정권 인권 문제 논란 불협화음 하순 대한민국 방문 관계 다소 회복 대한민국 정치 격변 당시 대통령 대해 태도 대한민국 고조 반미 운동 원인 박정희 대통령 김재규 중앙 정보 부장 살해 대해 사건 충격 사이러스 밴스 국무장관 사절 파견 군사 반란 쿠데타 대해 초기 비난 미국 정부 신군부 설득 한계 묵인 태도 보이 퇴임 이후 민간 자원 적극 활용 비영리 기구 카터 재단 설립 민주주의 실현 위해 세계 선거 감시 활동 기니 벌레 드라쿤쿠르스 질병 방재 위해 미국 빈곤층 지원 활동 사랑 집짓기 운동 국제 분쟁 중재 활동 카터 카터 행정부 이후 미국 북핵 위기 코소보 전쟁 이라크 전쟁 미국 군사 행동 최후 선택 전통 사고 군사 행동 선행 행위 대해 유감 표시 미국 군사 활동 반대 입장 보이 국제 분쟁 조정 위해 북한 김일성 아이티 라스 장군 팔레 인스타 하마스 보스니아 세르비아 정권 미국 정부 대해 협상 거부 사태 위기 초래 인물 단체 직접 분쟁 원인 근본 해결 위해 과정 미국 행정부 갈등 전직 대통령 권한 재야 유명 인사 활약 해결 채결 캠프데이비드 협정 이행 지지 부진 하자 중동 분쟁 분제 해결 위해 퇴임 직접 이스라엘 팔레 인스타 오슬로 협정 북핵 위기 당시 북한 대한 미국 군사 행동 임박 미국 전직 대통령 처음 북한 방문 미국 양국 중재 기여 위기 해결 평가 또한 김영삼 대통령 김일성 주석 만남 주선 그로 주일 김일성 갑자기 사망 김일성 김영삼 정상회담 미국 관타나모 용소 문제 세계 인권 문제 관심 유엔 유엔 인권 고등판무관 제도 시행 노력 독재자 인권 유린 대해 제약 국제 재판소 기여 독재자 인권 유린 범죄자 재판소 회부 국제 처벌 인권 신장 기여 북한 방문 문제 해결 이란 미국 대사관 인질 사건 발목 대통령 평가 이란 사태 미국 이란 재산 조건 사실 카터 해결 사랑 집짓기 운동 퇴임 존경 미국 대통령 인물 인권 중재 역할 대한 공로 노벨 평화상', '수학 수학 구조 공간 변화 미적분 개념 학문 현대 수학 형식 논리 이용 공리 구성 추상 구조 연구 학문 기도 수학 구조 발전 과정 자연과학 물리학 비롯 다른 학문 연관 과학 분야 달리 자연계 관측 개념 대해 이론 일반 추상화 차이 수학자 개념 대해 추측 선택 정의 공리 로부터 연역 통해 추측 진위 파악 수학 숫자 세기 계산 측정 물리 대상 모양 움직임 추상화 논리 추론 적용 기본 개념 고대 이집트 메소포타미아 고대 인도 고대 중국 고대 그리스 수학 유클리드 원론 논증 발견 발전 계속 세기 르네상스 수학 발전 과학 방법 상호 작용 혁명 연구 진행 인류 문명 영향 현재 계속 오늘날 수학 자연과학 공학 의학 경제학 사회과학 도구로 서도 사용 수학 분야 적용 응용수학 결과 로써 수학 자체 발전 분야 응용 수학 자체 재미 추구 연구 순수수학 시간 지난 순수수학 연구 다른 분야 응용 방법 발견 경우 대부분 자료 수리 라틴어 그리스어 유래 학식 유래 표현 수학 기원전 탈레스 로부터 시작 탈레스 수학 연구 사람 수도 때문 인류 역사 시작 교역 분배 과세 인류 사회 생활 모든 계산 수학 담당 농경 생활 필수 천문 관측 달력 제정 토지 측량 또한 수학 직접 관여 분야 고대 수학 크게 발전 나라 이집트 인도 그리스 중국 그리스 처음 수학 방정식 변수 문자 나라 한국 수학 기록 시작 신라 시대 수학 탈레스 최초 발견 일식 월식 예측 정도 발달 조선 시대 훈민정음 창제 세종 대왕 집현전 학자 수학 연구 조선 수학 수준 향상 위해 노력 임진왜란 서적 천문학 분야 손실 조선 후기 한국 수학 실학자 중심 다시 발전 결과 성취 수학 분야 상업 계산 위해 숫자 관계 이해 위해 토지 측량 위해 천문학 사건 예견 위해 발전 가지 목적 대략 수학 대상 구조 공간 변화 대응 수학 분야 각각 산술 대수학 기하학 해석학 또한 근대 이후 수학기초론 이산수학 응용수학 산술 자연수 정수 대한 사칙연산 대한 연구 로서 시작 수론 주제 학문 결과 페르마 마지막 정리 또한 쌍둥이 소수 추측 골드 바흐 추측 비롯 세월 동안 해결 문제 여럿 수의 체계 발전 정수 집합 유리수 집합 부분집합 여기 또한 유리수 집합 실수 집합 부분집합 복소수 집합 일부분 여기 사원수 팔원수 개념 생각 수도 약간 다른 방향 자연수 무한대 간다 개념 형식 순서수 개념 집합 크기 비교 이용 무한대 방법 기수 개념 대신 문자 문제해결 마찬가지 수학 법칙 일반 간명 포함 대수학 대수 방정식 방정식 해법 시작 추상대수학 현대 대수 구조 중심 선형대수학 전개 수의 집합 함수 수학 대상 재적 구조 대상 구조 특성 군론 환론 체론 대수 구조 연구 그것 하나 하나 재적 구조 수학 대상 분야 개념 벡터 벡터 공간 일반 선형대수학 지식 벡터 연구 산술 대수 기하 수학 분야 조합 벡터 미적분학 여기 해석학 영역 추가 텐서 미적분학 대칭성 회전 축의 영향 아래 벡터 움직임 연구 눈금 컴퍼스 관련 고대 미해결 문제 갈루아 이론 사용 비로소 해결 공간 대한 연구 기하학 시작 유클리드 기하학 비롯 삼각법 공간 피타고라스 정리 포함 현대 공간 대한 연구 개념 차원 기하학 위해 유클리드 기하학 상대성이론 핵심 역할 위상수학 일반 수론 공간 대한 이해 모두 해석 기하학 미분기하학 대수기하학 역할 군도 공간 구조 변화 사용 위상수학 세기 수학 지류 괄목 성장 분야 푸앵카레 추측 인간 증명 오직 컴퓨터 로만 증명 정리 포함 변화 대한 이해 묘사 자연과학 일반 주제 미적분학 변화 탐구 도구로 발전 함수 변화 묘사 중추 개념 실수 변수 구성 함수 탐구 실해석학 분야 복소수 대한 탐구 분야 복소해석학 함수해석학 함수 공간 무한 차원 탐구 주목 함수해석학 응용분야 하나 양자역학 문제 자연 변화율 관계 귀착 문제 미분방정식 자연 현상 동역학계 기술 혼돈 이론 예측 현상 탐구 기여 수학 기초 위해 수리논리학 집합론 발전 범주론 최근 발전 근본 위기 대략 사이 수학 기초 대한 탐구 상징 수학 기초 대한 가지 의견 일치 오늘날 계속 수학 기초 대한 위기 당시 논쟁 촉발 논쟁 칸토어 집합론 브라우 힐베르트 논쟁 포함', '수학 상수 수학 상수 변량 변수 반대말 물리 상수 달리 수학 상수 물리 측정 정의 수학 상수 대개 실수체 복소수체 원소 우리 이야기 상수 거의 대부분 계산 정의 수이 특정 수학 상수 골롬 딕맨 상수 프랑 로빈슨 상수 레비 상수 상수 다른 수학 상수 함수 상관관계 상관관계', '문학 문학 언어 예술 표현 제재 의미 출하 인간 사회 묘사 예술 하위 분야 설명 언어 통해 인간 미적 형상 문학 원래 문예 문학 학문 대상 탐구 학문 명칭 역시 문예학 문예학 음악 사학 미술사학 예술 핵심 분야 로서 인문학 하위 범주 포함 일반 문학 정의 텍스트 집합 각각 국가 고유 문학 기업 철학 조류 역사 시대 마찬가지 국가 문학 분류 고대 그리스어 성서 베오울프 일리아드 미국 헌법 분류 범주 일반 문학 주제 이야기 희곡 모음 경우 이야기 희곡 민족주의 색채 수도 수도 문학 부분 아이템 구분 매우 일이 사람 문학 상징 기록 형태 이미지 조각 자로 사람 문학 오직 문자 텍스트 구성 포함 보수 사람 개념 물리 형태 텍스트 여야 대개 형태 종이 매체 디지털 미디어 문학 몇몇 인기 기록 형태 작업 소위 대중문학 사이 인식 차이점 존재 문학 허구성 문학 재능 종종 개별 작품 구별 사용 찰스 디킨즈 작품 대부분 사람 문학 제프리 작품 영문학 일반 범주 아래 두기 다소 가치 생각 또한 문법 어법 이야기 혼란 신뢰 주지 인물 성격 관성 경우 문학 제외 로맨스 범죄소설 과학소설 장르 소설 문학 간주 경우 대부분 대중문학 범주 포함 문학 분류 방법 다음 구분 편의 발생 대별 문학 처음 종류 노래 분화 중심 발달 연극 노래 발달 발달 산문 이야기 정형시 자유시 산문시 또한 서사시 서정시 산문 사건 중심 이야기 근대 리얼리즘 수법 이후 인물 성격 묘사 중심 소설 이야기 소설 구상 작자 흥미 씌어 잡문 수필 날짜 씌어 일기 여행 과정 씌어 기행문 일기 마찬가지 발표 의도 서간 사건 경험 회고록 사건 특정시 한정 자서전 제삼자 씌어 전기 또한 포함 예술 작품 가치 평가 시도 평론 대중문학 상업성 대중 겨냥 통속 흥미 욕구 문학 대중문학 하위 장르 여러가지 문학 창작 예술가 가라 문예학 연구 사람 문예학 문학 창작 사람 저술가 문예학 언어학자 어문학자 언어 언어 사용 예술인 문학 현격 차이 주의 반영론 관점 감상 작품 창작 당시 시대 정황 연결 감상 입장 재적 관점 감상 작품 형식 내용 국한 감상 표현론 관점 감상 작가 기적 사실 작품 연결 감상 수용론 관점 감상 독자 작품 연결 감상', '나라 목록 문서 나라 목록 세계 나라 현황 주권 승인 정보 개요 형태 목록 명료 위해 부분 목록 모두 가나다 순이 일부 국가 경우 국가 로서 자격 논쟁 여부 때문 목록 엮는 매우 논란 과정 목록 구성 국가 선정 기준 대한 정보 포함 기준 단락 통해 설명 나라 대한 일반 정보 국가 문서 설명 목록 주권 주장 점유 영토 실제 관리 국가 외교관 나라 설명 소형 국가 목록 포함 목록 국가 기준 몬테비데오 협약 참고 협정 국가 다음 조건 마지막 조건 국제 공동체 참여 용인 내포 때문 다른 나라 승인 매우 역할 목록 포함 모든 국가 보통 기준 자주 독립 국가 몬테비데오 협약 기준 여부 국가 논쟁 실정 또한 몬테비데오 협약 기준 국가 지위 자격 국제 견해 존재 물음 대한 다른 이론 대한 고리 아래 기준 목록 다음 국가 포함 목록 포함 다음 국가 몬테비데오 협약 모든 조건 거나 자주 독립 적임 주장 국가', '화학 화학 물질 성질 조성 구조 변화 수반 에너지 변화 연구 자연과학 분야 물리학 역시 물질 학문 물리학 원소 화합물 모두 포함 물체 운동 에너지 기적 광학 기계 속성 현상 통일 이론 구축 달리 화학 물질 자체 연구 대상 화학 존재 물질 이용 목적 물질 합성 제공 농작물 증산 질병 치료 예방 에너지 효율 증대 환경오염 감소 여러 가지 이점 제공 고대 화학 초기 야금 야금 금속 광석 추출 정련 기술 인간 발견 최초 기록 금속 보이 구석기 후기 스페인 동굴 소량 천연 발견 구리 주석 유성 또한 고대 문화 제한 금속 가공 허용 문화 발견 기원전 유성 철제 이집트 무기 천국 단검 높이 평가 통제 방식 사용 최초 화학 반응 천년 동안 물질 다른 물질 나무 변형 초기 사회 여러 측면 영향 요리 서식지 조명 일상 생활 가장 도기 벽돌 금속 도구 고급 기술 유리 발견 금속 정화 불로 야금 부상 야금 초기 단계 금속 정화 방법 요구 금은 초기 고대 이집트 금속 세기 세기 초기 화학 로버트 영국 미국인 화학자 로버트 연금술 대한 현대 과학 방법 정제 화학 연금술 분리 생각 연구 연금술 전통 뿌리 불구 오늘날 현대 화학자 이자 화학 창시자 이자 현대 실험 과학 방법 선구자 사람 불리 원래 발견 제시 법칙 가장 법칙 온도 폐쇄된 시스템 유지 가스 절대 압력 부피 반비례 의미 또한 화학 분야 초석 간주 의심 화학자 대한 획기 저서 작품 모든 현상 입자 충돌 결과 가설 시한 화학자 실험 호소 실험 지구 화염 공기 전적 가지 원소 화학 원소 부인 또한 화학 의학 연금술 종속 과학 지위 부상 중단 촉구 과학 실험 대한 접근 방식 주장 모든 이론 사실 간주 실험 입증 작품 원자 분자 화학 반응 가장 초기 현대 아이디어 포함 현대 화학 역사 시작 또한 화학 물질 정제 재현 반응 시도 재료 물질 물리 특성 상호 작용 설명 정량 위해 제안 기계 철학 보컬 지지자 원자 핵론 원자 입자 선호 속성 유지 물질 가장 정밀 부분 미립 수준 논평 또한 공기 펌프 조사 수행 공기 펌프 수은 또한 컨테이너 공기 펌핑하 화염 내부 동물 관찰 과거 화학 이상 기초 요소 존재 기초 요소 원자 원자 물질 구성 기본 입자 고대 그리스 데모 크리 토스 존재 주장 돌턴 원자론 정리 세기 화학자 원자 구성 입자 전자 양성자 중성자 존재 사실 발견 전자 음전하 양성자 양전하 중성자 전하 원자 양성자 중성자 구성 원자핵 가지 전자 주변 오비탈 분포 원소 일반 화학 물리학 방법 분해 물질 의미 원소 원자핵 존재 양성자 수로 정의 원자 번호 구별 산소 주석 원소 세기 중엽 가지 원소 발견 주기율 배열 동위원소 아이 토프 동위 체라 고도 서로 화학 거의 구별 그것 구성 원자 질량 서로 다른 원소 동위원소 영어 그리스어 장소 합성어 질량 서로 달라 원소 주기율표 장소 배열 영국 화학자 소디 명칭 대부분 원소 동위 원소 동위 원소 원자 번호 중성자 수가 다른 원소 동위 원소 화학 성질 원자량 차이 이용 분리 자연 발견 원소 동위 원소 지표면 존재 자연 발견 동위 원소 핵반응 이용 동위 원소 방사 가지 기도 경우 동위 원소 원자핵 방사선 방출 자연 붕괴 원소 원자 질량 양성자 수가 다른 원소 원소 화학 물리 성질 분자 원자 결합체 독립 입자 로서 작용 단위체 개수 원자 정렬 서로 분자 형성 원자 원소 최소 단위 분자 화합물 최소 단위 원자 결합 전자 재배 치가 화학 관심사 하나 화학 반응 원자 분자 화학 변화 화학 반응 원자 결합 일과 다시 포함 결합 에너지 흡수 결합 에너지 방출 화학 반응 수소 산소 반응 물이 반응 다음 반응 화학 반응 원자 일어나지 에너지 엔탈피 변화 반응 발열반응 수도 흡열반응 수도 발열반응 주위 방출 반응 엔탈피 변화 음수 반면 흡열반응 주위 흡수 반응 엔탈피 변화 양수 반응 경우 발열반응 계로 주위 이동 의미 화학 결합 가지 부류 이온 결합 공유 결합 금속결합 이온 전하 원자 분자 이온 결합 양전하 음전하 기적 인력 화학 결합 염화 나트륨 양전하 나트륨 이온 음전하 염화 이온 사이 기적 결합 이온 화합물 물질 이온 분자 수화 수용액 전기전도도 공유 결합 오비탈 결과 원자 전자 공유 결합 의미 공유 결합 형성 결합 발열반응 방출 에너지 합의 결합 에너지 결합 에너지 에너지 결합 결합 금속 결합 금속 원자 전자 자유전자 결합 의미 금속 특성 연성 전성 이유 화합물 구성 원자 종류 배치 특성 결정 자연 인공 합성 화합물 대부분 유기 화합물 유기 화합물 화학 원소 탄소 다른 화학 원소 매우 사슬 형태 정렬 이성질체 형성 분자식 서로 다른 화합물 화학 취급 대상 대상 취급 방법 따라서 가지 분과 구분 물질 분석 분석화학 크게 물질 존재 취급 정성 분석 물질 결정 정량 분석 탄소 포함 유기 화합물 유기화학 유기 화합물 제외 무기 화합물 무기화학 물리학 화학 경계 물리화학 생물학 경계 생화학 물리화학 분자 구조 성질 관계 부분 화학 기도 세계 대전 이후 방사성 물질 방사 화학 발전 화학 공업 공업화 학도 화학 분과 매우 화학 분과 전통 다음 가지 각각 분과 더욱 세분 무기화학 유기화학 물질 주로 금속 준금속 포함 물질 대해 연구 따라서 무기화학 매우 범위 화합물 초기 광물 구성 원소 발견 주요 관심사 여기 부터 지구화학 분기 주로 전이 금속 이용 촉매 생물 산소 수송 광합성 질소 고정 과정 역할 금속 원자 대해 연구 세라믹 복합 재료 초전도체 대한 연구 물리화학 화학 현상 대한 해석 설명 물리 원리 대해 분과 화학반응 관련 열역학 원리 물질 물리학 성질 대한 설명 물리화학 전적 주제 물리화학 양자화학 발전 기여 분광 자기 공명 회절 기기 물리화학 사용 실험 장비 실험 방법 다른 화학 분과 매우 사용 물리화학 대상 유기 화합물 무기 화합물 혼합물 모두 포함 분석화학 물질 조성 혼합물 구성요소 결정 방법 대해 연구 화학 분과 혼합물 성분 탐색 분리 정량 분자 원자 비율 측정 분자식 결정 분석화학 분석화학 발전 질량 분석 포함 분석 기구 등장 해상도 크로마토그래피 전기화학 실험 방법 분석화학 분석 분석화학 최종 목표 측정 측정 기기 개발 분석화학 발전 환경오염 물질 피코 그램 수준 감지 생화학 생물 화학 관점 학문 식물 동물 세포 발견 물질 화학 반응 관심사 생명체 발견 탄수화물 지방 단백질 핵산 호르몬 유기 화합물 유기화학 기도 하나 화합물 관련 물질대사 과정 조절 과정 대한 연구 생화학 고유 분야 효소 조효소 작용 과정 대해 서도 연구 세포막 통과 이온 분자 전달 물질 다른 조절 물질 작용 대해 서도 연구 생화학 내분비학 유전학 면역학 바이러스학 발전 영향 유기화학 탄소 화합물 연구 분과 원래 유기 화합물 식물 동물 로부터 추출 화합물 지금 유기 화합물 범위 크게 탄소 사슬 탄소 고리 모든 화합물 유기화학 관심사 유기 화합물 합성 메커니즘 현대 자기 공명 결정학 개발 유기 화합물 분석 매우 방법 자리 플라스틱 합성섬유 고분자 물질 유기화학', '체첸 공화국 체첸 공화국 체첸 러시아 공화국 체첸 사용 언어 체첸어 러시아어 체첸어 캅카스 제어 북동 캅카스 제어 그룹 인구시어 매우 관계 거의 대부분 체첸인 일부 러시아인 인구시인 기타 북코카서스 민족 체첸 인구시 자치공화국 통계 체첸인 인구시인 명의 러시아인 인구 소수 민족 서부 잉구슈 공화국 분리 때문 인구시인 수가 절반 가까이 감소 내전 사회 불안 대부분 러시아인 체첸공화국 대부분 체첸 공화국 남아 러시아인 체첸 공화국 일반 러시아 연방 가장 인구 구성 몇몇 지방 인구 증가 다게스탄 지역 통해 세기 세기 기점 체첸인 대다수 수니파 이슬람교 러시아 정교회 소수 존재 동안 러시아 오스만 투르크 제국 접경 지역 안보 이유 체첸 진주 체첸 러시아 제국 병합 세계 대전 동안 소비에트 정부 체첸 나치 협력 비난 스탈린 체첸 국민 전체 카자흐스탄 강제 이주 명령 스탈린 사망 체첸인 귀환 허용 체첸 전쟁 러시아 공세 체첸 전역 초토화', '맥스웰 방정식 맥스웰 방정식 전기 자기 발생 전기장 자기장 전하 밀도 전류 밀도 형성 편미분 방정식 맥스웰 방정식 역시 전자기파 하나 각각 방정식 가우스 법칙 가우스 자기 법칙 패러데이 전자기 유도 법칙 앙페르 회로 법칙 각각 방정식 제임스 러크 맥스웰 종합 이후 맥스웰 방정식 불리 전자기역학 맥스웰 방정식 로런츠 법칙 요약 로런츠 맥스웰 방정식 유도 맥스웰 방정식 법칙 종합 구성 맥스웰 방정식 빛과 전자기파 특성 설명 방정식 수학 표현 공식 부분 우선 방정식 의미 다음 맥스웰 방정식 시간 연구 전기 자기 특성 종합 인류 고대 시대 정전기 인력 방전 현상 자석 특징 이용 나침반 사용 근대 전기 자기 대한 연구 진행 결과 쿨롱 법칙 패러데이 전자기 유도 법칙 앙페르 회로 법칙 법칙 발견 맥스웰 기존 연구 성과 종합 전기 자기 하나 상호작용 전자기력 것임 증명 역시 전자기파 전자기 복사 발견 예언 앞서 전하 사이 인력 척력 작용 고대 이후 전하 사이 작용 관계 크기 측정 매우 까닭 작용 크기 매우 때문 샤를 쿨롱 비틀림 저울 이용 실험 장치 고안 대전 전하 사이 작용 크기 측정 샤를 쿨롱 금속 공과 비틀림 저울 이용 점전하 사이 작용 측정 전하 사이 작용 전하 크기 비례 거리 제곱 반비례 쿨롱 법칙 발견 쿨롱 법칙 다음 한편 쿨롱 전하 사이 작용 자계 적용 자극 세기 각각 자극 사이 작용 다음 정리 자극 세기 단위 웨버 쿨롱 세기 자극 작용 세기 경우 정의 따라서 상수 다음 자극 사이 작용 크기 전하 사이 작용 크기 방식 계산 사이 차이 전하 양전하 음전하 단독 존재 자극 존재 존재 제임스 러크 맥스웰 각각 독립 전기 자기 법칙 종합 맥스웰 방정식 수립 맥스웰 마이클 패러데이 역선 개념 앙드레 마리 앙페르 회로 이론 근간 방정식 정리 맥스웰 논문 물리 역선 대해 발표 모두 방정식 구성 맥스웰 방정식 소개 방정식 발표 논문 전자기장 역학 이론 전기 자기 대한 논문 다시 소개 물리학자 리처드 파인먼 방정식 남북전쟁 의미 사건 맥스웰 방정식 중요성 강조 맥스웰 자신 발표 맥스웰 방정식 원래 형태 방정식 오늘날 올리버 헤비사이드 방정식 정리 형태 일반 사용 조사이 윌러드 기브스 하인리히 루돌프 헤르츠 역시 헤비사이드 작업 때문 맥스웰 방정식 헤르츠 헤비사이드 방정식 불리 기도 맥스웰 방정식 이란 이름 맥스웰 물리 역선 대해 앙페르 회로 법칙 설명 위해 방정식 열거 맥스웰 논문 앙페르 회로 법칙 치환 전류 발표 전자기장 역학 이론 전자기파 방정식 기술 전자기파 제시 맥스웰 이론 하인리히 루돌프 헤르츠 실험 증명 이란 개념 마이클 패러데이 도입 알베르트 아인슈타인 맥스웰 개념 도입 대해 다음 평가 당시 방정식 헤르츠 헤비사이드 방정식 멕스웰 헤비사이드 방정식 아인슈타인 사이언스 고문 맥스웰 방정식 방정식 이론물리학 기초 설명 맥스웰 방정식 정리 헤비사이드 전위 벡터 위치 위치 요소 개념 도입 맥스웰 전자기파 전달 중력 원격 상호작용 전자기장 속도 전파 전위 파악 라디오 안테나 대한 현대 분석 맥스웰 백터 스칼라 위키 대한 수식 서로 안테나 사이 작용 전파 영향 모두 설명 맥스웰 방정식 관련 헤비사이드 업적 맥스웰 여러 논문 서술 맥스웰 방정식 오늘날 방정식 정리 오늘날 방정식 정리 맥스웰 방정식 발표 논문 물리 역선 대해 기반 논문 전자기장 대한 다수 방정식 맥스웰 케임브리지 철학 학회 패러데이 역선 발표 벡터 차이점 설명 논문 오늘날 패러데이 전자기 유도 법칙 대한 가장 모형 여기 맥스웰 전류 모든 지식 미분 방정식 맥스웰 제안 분자 와동 바다 개념 물리 역선 대해 소개 논문 자기장 형성 분자 규모 와동 밀도 와동 운동 결정 맥스웰 와동 밀도 측정 투자율 정의 논문 맥스웰 개념 다음 전하 밀도 회전 자기 전류 주위 자기력선 자기 선속 투자율 자기장 유도 자기 선속 전류 방정식 전하 대류 전류 선형 한편 자기 방정식 유도 전류 회전 발생 자기 벡터 방향성 비선형 방정식 따라서 자기 유도 전류 역선 표현 자기력선 제곱 법칙 전류 맥스웰 전자기장 역학 이론 맥스웰 전자기파 제시 맥스웰 방정식 전자기장 대한 일반 방정식 제시 때문 훗날 맥스웰 방정식 표현 오늘날 방정식 제시 방정식 인지 혼동 따라서 오늘날 구성 방정식 위해 헤비사이드 정리 맥스웰 방정식 멕스웰 헤비사이드 방정식 표현 사용 현대 벡터 표기 사용 정리 멕스웰 방정식 다음 표현 방정식 로런츠 효과 논문 방정식 표현 또한 맥스웰 논문 전자기파 방정식 정의 방정식 전자기 유도 설명 위해 사용 오늘날 방정식 대신 패러데이 전자기 유도 법칙 맥스웰 전자기파 방정식 연구 과정 방정식 맥스웰 전기 자기 대한 논문 방정식 묶음 묶음 묶음 다음 국제 단위계 사용 수식 표현 맥스웰 방정식 발산정리 스토크 정리 이용 미분 적분 방정식 동치 아래 기호 단위 발산 연산자 단위 미터 회전 연산자 단위 미터 방정식 자기 전기장 자기장 대전 입자 로런츠 국제 단위계 다음 여기 입자 전하량 입자 속도 단위계 자기장 정의 대신 수식 국제 단위계 표현 다른 단위계 맥스웰 방정식 약간 상수 변화 물리학 공학 일반 가장 널리 국제 단위계 이외 경우 단위계', '초월수 초월수 계수 유리수 방정식 해도 복소수 방정식 수인 대수 반대 개념 실수 초월수 모두 무리수 성립 무리수 다음 이차방정식 초월수 대수 수의 집합 가산 집합 복소수 집합 가산 집합 따라서 초월수 집합 가산 집합 대수 수의 개수 초월수 개수 지금 초월수 수가 초월 수임 증명 매우 초월수 존재 레온 르트 오일러 예상 최초 초월수 제프 리우빌 발견 초월수 로서 다음 정의 리우빌 상수 제시 초월수 존재 증명 위해 수가 처음 초월 수임 증명 상수 샤를 에르미트 증명 페르디난트 린데 원주율 또한 초월 수임 증명 고대 그리스 시대 난제 원적문제 결과 게오르크 칸토어 구체 초월수 제시 대신 설명 가산 집합 가산 집합 논리 이용 초월수 존재 비트 힐베르트 힐베르트 문제 가운데 문제 초월수 대하 다음 문제 제시 힐베르트 문제 구체 문제 폰트 슈나이더 정리 결과 앨런 베이커 확장', '음계 음계 음악 음높이 순서 집합 악곡 주로 구성 음계 종류 분위기 음계 각각 위치 도수 음계 음계 포함 음정 따라서 이름 음계 포함 서로 다른 피치 클래스 따라서 이름 음계 음정 음계 수가 문화 음악 음악 특징 지니 음계 거리 음악 소리 대해 온음계 반음계 서양 음악 용어 자체 음계 온음계 반음계 선율 화음 화성 진행 표현 대부분 경우 온음계 음으로 장음계 세기 음악 반음계 모든 음계 팔음음계 반음계 반음 음계 계이름 음계 기준 이름 장음계 계이름 으뜸음 위로 각각 서양 음악 시로 음계 한국 전통 음악 황종 태주 중려 임종 무역 음계 중국 전통 음악 변치 림화 변궁 시로 음계 한국 전통 음악 음계 음계 계통 음계']\n",
            "[['지미', '카터', '제임스', '지미', '카터', '주니어', '민주당', '출신', '미국', '대통령', '지미', '카터', '조지아주', '섬터', '카운티', '플레인스', '마을', '조지아', '공과', '대학교', '졸업', '해군', '전함', '원자력', '잠수함', '승무원', '미국', '해군', '대위', '이후', '땅콩', '면화', '별명', '땅콩', '농부', '조지아', '상원', '의원', '선거', '낙선', '하나', '선거', '부정선거', '입증', '당선', '조지아', '지사', '선거', '낙선', '조지아', '지사', '역임', '대통령', '조지아주', '상원의원', '조지아', '지사', '근무', '조지아', '지사', '미국', '흑인', '용법', '대통령', '선거', '민주당', '후보', '출마', '도덕', '주의', '정책', '포드', '당선', '카터', '대통령', '에너지', '개발', '촉구', '공화당', '반대', '무산', '카터', '이집트', '이스라엘', '조정', '캠프', '데이비드', '안와르', '사다트', '대통령', '메나헴', '수상', '중동', '평화', '캠프데이비드', '협정', '체결', '공화당', '미국', '유대인', '단체', '반발', '백악관', '양국', '평화조약', '또한', '소련', '전략', '무기', '제한', '협상', '조인', '카터', '후반', '당시', '대한민국', '인권', '후진국', '국민', '인권', '위해', '노력', '취임', '이후', '계속', '도덕', '정치', '이란', '미국', '대사관', '인질', '사건', '인질', '구출', '실패', '이유', '대통령', '선거', '공화당', '로널드', '레이건', '후보', '재선', '또한', '임기', '말기', '소련', '아프가니스탄', '침공', '사건', '올림픽', '국가', '보이콧', '지미', '카터', '대한민국', '관계', '영향', '대통령', '하나', '인권', '문제', '미군', '철수', '문제', '한미', '관계', '대한민국', '대한', '북한', '위협', '대비', '한미연합사', '창설', '단계', '미군', '철수', '미군', '사령부', '정보기관', '의회', '반대', '미군', '완전', '철수', '대신', '감축', '또한', '박정희', '정권', '인권', '문제', '논란', '불협화음', '하순', '대한민국', '방문', '관계', '다소', '회복', '대한민국', '정치', '격변', '당시', '대통령', '대해', '태도', '대한민국', '고조', '반미', '운동', '원인', '박정희', '대통령', '김재규', '중앙', '정보', '부장', '살해', '대해', '사건', '충격', '사이러스', '밴스', '국무장관', '사절', '파견', '군사', '반란', '쿠데타', '대해', '초기', '비난', '미국', '정부', '신군부', '설득', '한계', '묵인', '태도', '보이', '퇴임', '이후', '민간', '자원', '적극', '활용', '비영리', '기구', '카터', '재단', '설립', '민주주의', '실현', '위해', '세계', '선거', '감시', '활동', '기니', '벌레', '드라쿤쿠르스', '질병', '방재', '위해', '미국', '빈곤층', '지원', '활동', '사랑', '집짓기', '운동', '국제', '분쟁', '중재', '활동', '카터', '카터', '행정부', '이후', '미국', '북핵', '위기', '코소보', '전쟁', '이라크', '전쟁', '미국', '군사', '행동', '최후', '선택', '전통', '사고', '군사', '행동', '선행', '행위', '대해', '유감', '표시', '미국', '군사', '활동', '반대', '입장', '보이', '국제', '분쟁', '조정', '위해', '북한', '김일성', '아이티', '라스', '장군', '팔레', '인스타', '하마스', '보스니아', '세르비아', '정권', '미국', '정부', '대해', '협상', '거부', '사태', '위기', '초래', '인물', '단체', '직접', '분쟁', '원인', '근본', '해결', '위해', '과정', '미국', '행정부', '갈등', '전직', '대통령', '권한', '재야', '유명', '인사', '활약', '해결', '채결', '캠프데이비드', '협정', '이행', '지지', '부진', '하자', '중동', '분쟁', '분제', '해결', '위해', '퇴임', '직접', '이스라엘', '팔레', '인스타', '오슬로', '협정', '북핵', '위기', '당시', '북한', '대한', '미국', '군사', '행동', '임박', '미국', '전직', '대통령', '처음', '북한', '방문', '미국', '양국', '중재', '기여', '위기', '해결', '평가', '또한', '김영삼', '대통령', '김일성', '주석', '만남', '주선', '그로', '주일', '김일성', '갑자기', '사망', '김일성', '김영삼', '정상회담', '미국', '관타나모', '용소', '문제', '세계', '인권', '문제', '관심', '유엔', '유엔', '인권', '고등판무관', '제도', '시행', '노력', '독재자', '인권', '유린', '대해', '제약', '국제', '재판소', '기여', '독재자', '인권', '유린', '범죄자', '재판소', '회부', '국제', '처벌', '인권', '신장', '기여', '북한', '방문', '문제', '해결', '이란', '미국', '대사관', '인질', '사건', '발목', '대통령', '평가', '이란', '사태', '미국', '이란', '재산', '조건', '사실', '카터', '해결', '사랑', '집짓기', '운동', '퇴임', '존경', '미국', '대통령', '인물', '인권', '중재', '역할', '대한', '공로', '노벨', '평화상'], ['수학', '수학', '구조', '공간', '변화', '미적분', '개념', '학문', '현대', '수학', '형식', '논리', '이용', '공리', '구성', '추상', '구조', '연구', '학문', '기도', '수학', '구조', '발전', '과정', '자연과학', '물리학', '비롯', '다른', '학문', '연관', '과학', '분야', '달리', '자연계', '관측', '개념', '대해', '이론', '일반', '추상화', '차이', '수학자', '개념', '대해', '추측', '선택', '정의', '공리', '로부터', '연역', '통해', '추측', '진위', '파악', '수학', '숫자', '세기', '계산', '측정', '물리', '대상', '모양', '움직임', '추상화', '논리', '추론', '적용', '기본', '개념', '고대', '이집트', '메소포타미아', '고대', '인도', '고대', '중국', '고대', '그리스', '수학', '유클리드', '원론', '논증', '발견', '발전', '계속', '세기', '르네상스', '수학', '발전', '과학', '방법', '상호', '작용', '혁명', '연구', '진행', '인류', '문명', '영향', '현재', '계속', '오늘날', '수학', '자연과학', '공학', '의학', '경제학', '사회과학', '도구로', '서도', '사용', '수학', '분야', '적용', '응용수학', '결과', '로써', '수학', '자체', '발전', '분야', '응용', '수학', '자체', '재미', '추구', '연구', '순수수학', '시간', '지난', '순수수학', '연구', '다른', '분야', '응용', '방법', '발견', '경우', '대부분', '자료', '수리', '라틴어', '그리스어', '유래', '학식', '유래', '표현', '수학', '기원전', '탈레스', '로부터', '시작', '탈레스', '수학', '연구', '사람', '수도', '때문', '인류', '역사', '시작', '교역', '분배', '과세', '인류', '사회', '생활', '모든', '계산', '수학', '담당', '농경', '생활', '필수', '천문', '관측', '달력', '제정', '토지', '측량', '또한', '수학', '직접', '관여', '분야', '고대', '수학', '크게', '발전', '나라', '이집트', '인도', '그리스', '중국', '그리스', '처음', '수학', '방정식', '변수', '문자', '나라', '한국', '수학', '기록', '시작', '신라', '시대', '수학', '탈레스', '최초', '발견', '일식', '월식', '예측', '정도', '발달', '조선', '시대', '훈민정음', '창제', '세종', '대왕', '집현전', '학자', '수학', '연구', '조선', '수학', '수준', '향상', '위해', '노력', '임진왜란', '서적', '천문학', '분야', '손실', '조선', '후기', '한국', '수학', '실학자', '중심', '다시', '발전', '결과', '성취', '수학', '분야', '상업', '계산', '위해', '숫자', '관계', '이해', '위해', '토지', '측량', '위해', '천문학', '사건', '예견', '위해', '발전', '가지', '목적', '대략', '수학', '대상', '구조', '공간', '변화', '대응', '수학', '분야', '각각', '산술', '대수학', '기하학', '해석학', '또한', '근대', '이후', '수학기초론', '이산수학', '응용수학', '산술', '자연수', '정수', '대한', '사칙연산', '대한', '연구', '로서', '시작', '수론', '주제', '학문', '결과', '페르마', '마지막', '정리', '또한', '쌍둥이', '소수', '추측', '골드', '바흐', '추측', '비롯', '세월', '동안', '해결', '문제', '여럿', '수의', '체계', '발전', '정수', '집합', '유리수', '집합', '부분집합', '여기', '또한', '유리수', '집합', '실수', '집합', '부분집합', '복소수', '집합', '일부분', '여기', '사원수', '팔원수', '개념', '생각', '수도', '약간', '다른', '방향', '자연수', '무한대', '간다', '개념', '형식', '순서수', '개념', '집합', '크기', '비교', '이용', '무한대', '방법', '기수', '개념', '대신', '문자', '문제해결', '마찬가지', '수학', '법칙', '일반', '간명', '포함', '대수학', '대수', '방정식', '방정식', '해법', '시작', '추상대수학', '현대', '대수', '구조', '중심', '선형대수학', '전개', '수의', '집합', '함수', '수학', '대상', '재적', '구조', '대상', '구조', '특성', '군론', '환론', '체론', '대수', '구조', '연구', '그것', '하나', '하나', '재적', '구조', '수학', '대상', '분야', '개념', '벡터', '벡터', '공간', '일반', '선형대수학', '지식', '벡터', '연구', '산술', '대수', '기하', '수학', '분야', '조합', '벡터', '미적분학', '여기', '해석학', '영역', '추가', '텐서', '미적분학', '대칭성', '회전', '축의', '영향', '아래', '벡터', '움직임', '연구', '눈금', '컴퍼스', '관련', '고대', '미해결', '문제', '갈루아', '이론', '사용', '비로소', '해결', '공간', '대한', '연구', '기하학', '시작', '유클리드', '기하학', '비롯', '삼각법', '공간', '피타고라스', '정리', '포함', '현대', '공간', '대한', '연구', '개념', '차원', '기하학', '위해', '유클리드', '기하학', '상대성이론', '핵심', '역할', '위상수학', '일반', '수론', '공간', '대한', '이해', '모두', '해석', '기하학', '미분기하학', '대수기하학', '역할', '군도', '공간', '구조', '변화', '사용', '위상수학', '세기', '수학', '지류', '괄목', '성장', '분야', '푸앵카레', '추측', '인간', '증명', '오직', '컴퓨터', '로만', '증명', '정리', '포함', '변화', '대한', '이해', '묘사', '자연과학', '일반', '주제', '미적분학', '변화', '탐구', '도구로', '발전', '함수', '변화', '묘사', '중추', '개념', '실수', '변수', '구성', '함수', '탐구', '실해석학', '분야', '복소수', '대한', '탐구', '분야', '복소해석학', '함수해석학', '함수', '공간', '무한', '차원', '탐구', '주목', '함수해석학', '응용분야', '하나', '양자역학', '문제', '자연', '변화율', '관계', '귀착', '문제', '미분방정식', '자연', '현상', '동역학계', '기술', '혼돈', '이론', '예측', '현상', '탐구', '기여', '수학', '기초', '위해', '수리논리학', '집합론', '발전', '범주론', '최근', '발전', '근본', '위기', '대략', '사이', '수학', '기초', '대한', '탐구', '상징', '수학', '기초', '대한', '가지', '의견', '일치', '오늘날', '계속', '수학', '기초', '대한', '위기', '당시', '논쟁', '촉발', '논쟁', '칸토어', '집합론', '브라우', '힐베르트', '논쟁', '포함'], ['수학', '상수', '수학', '상수', '변량', '변수', '반대말', '물리', '상수', '달리', '수학', '상수', '물리', '측정', '정의', '수학', '상수', '대개', '실수체', '복소수체', '원소', '우리', '이야기', '상수', '거의', '대부분', '계산', '정의', '수이', '특정', '수학', '상수', '골롬', '딕맨', '상수', '프랑', '로빈슨', '상수', '레비', '상수', '상수', '다른', '수학', '상수', '함수', '상관관계', '상관관계'], ['문학', '문학', '언어', '예술', '표현', '제재', '의미', '출하', '인간', '사회', '묘사', '예술', '하위', '분야', '설명', '언어', '통해', '인간', '미적', '형상', '문학', '원래', '문예', '문학', '학문', '대상', '탐구', '학문', '명칭', '역시', '문예학', '문예학', '음악', '사학', '미술사학', '예술', '핵심', '분야', '로서', '인문학', '하위', '범주', '포함', '일반', '문학', '정의', '텍스트', '집합', '각각', '국가', '고유', '문학', '기업', '철학', '조류', '역사', '시대', '마찬가지', '국가', '문학', '분류', '고대', '그리스어', '성서', '베오울프', '일리아드', '미국', '헌법', '분류', '범주', '일반', '문학', '주제', '이야기', '희곡', '모음', '경우', '이야기', '희곡', '민족주의', '색채', '수도', '수도', '문학', '부분', '아이템', '구분', '매우', '일이', '사람', '문학', '상징', '기록', '형태', '이미지', '조각', '자로', '사람', '문학', '오직', '문자', '텍스트', '구성', '포함', '보수', '사람', '개념', '물리', '형태', '텍스트', '여야', '대개', '형태', '종이', '매체', '디지털', '미디어', '문학', '몇몇', '인기', '기록', '형태', '작업', '소위', '대중문학', '사이', '인식', '차이점', '존재', '문학', '허구성', '문학', '재능', '종종', '개별', '작품', '구별', '사용', '찰스', '디킨즈', '작품', '대부분', '사람', '문학', '제프리', '작품', '영문학', '일반', '범주', '아래', '두기', '다소', '가치', '생각', '또한', '문법', '어법', '이야기', '혼란', '신뢰', '주지', '인물', '성격', '관성', '경우', '문학', '제외', '로맨스', '범죄소설', '과학소설', '장르', '소설', '문학', '간주', '경우', '대부분', '대중문학', '범주', '포함', '문학', '분류', '방법', '다음', '구분', '편의', '발생', '대별', '문학', '처음', '종류', '노래', '분화', '중심', '발달', '연극', '노래', '발달', '발달', '산문', '이야기', '정형시', '자유시', '산문시', '또한', '서사시', '서정시', '산문', '사건', '중심', '이야기', '근대', '리얼리즘', '수법', '이후', '인물', '성격', '묘사', '중심', '소설', '이야기', '소설', '구상', '작자', '흥미', '씌어', '잡문', '수필', '날짜', '씌어', '일기', '여행', '과정', '씌어', '기행문', '일기', '마찬가지', '발표', '의도', '서간', '사건', '경험', '회고록', '사건', '특정시', '한정', '자서전', '제삼자', '씌어', '전기', '또한', '포함', '예술', '작품', '가치', '평가', '시도', '평론', '대중문학', '상업성', '대중', '겨냥', '통속', '흥미', '욕구', '문학', '대중문학', '하위', '장르', '여러가지', '문학', '창작', '예술가', '가라', '문예학', '연구', '사람', '문예학', '문학', '창작', '사람', '저술가', '문예학', '언어학자', '어문학자', '언어', '언어', '사용', '예술인', '문학', '현격', '차이', '주의', '반영론', '관점', '감상', '작품', '창작', '당시', '시대', '정황', '연결', '감상', '입장', '재적', '관점', '감상', '작품', '형식', '내용', '국한', '감상', '표현론', '관점', '감상', '작가', '기적', '사실', '작품', '연결', '감상', '수용론', '관점', '감상', '독자', '작품', '연결', '감상'], ['나라', '목록', '문서', '나라', '목록', '세계', '나라', '현황', '주권', '승인', '정보', '개요', '형태', '목록', '명료', '위해', '부분', '목록', '모두', '가나다', '순이', '일부', '국가', '경우', '국가', '로서', '자격', '논쟁', '여부', '때문', '목록', '엮는', '매우', '논란', '과정', '목록', '구성', '국가', '선정', '기준', '대한', '정보', '포함', '기준', '단락', '통해', '설명', '나라', '대한', '일반', '정보', '국가', '문서', '설명', '목록', '주권', '주장', '점유', '영토', '실제', '관리', '국가', '외교관', '나라', '설명', '소형', '국가', '목록', '포함', '목록', '국가', '기준', '몬테비데오', '협약', '참고', '협정', '국가', '다음', '조건', '마지막', '조건', '국제', '공동체', '참여', '용인', '내포', '때문', '다른', '나라', '승인', '매우', '역할', '목록', '포함', '모든', '국가', '보통', '기준', '자주', '독립', '국가', '몬테비데오', '협약', '기준', '여부', '국가', '논쟁', '실정', '또한', '몬테비데오', '협약', '기준', '국가', '지위', '자격', '국제', '견해', '존재', '물음', '대한', '다른', '이론', '대한', '고리', '아래', '기준', '목록', '다음', '국가', '포함', '목록', '포함', '다음', '국가', '몬테비데오', '협약', '모든', '조건', '거나', '자주', '독립', '적임', '주장', '국가'], ['화학', '화학', '물질', '성질', '조성', '구조', '변화', '수반', '에너지', '변화', '연구', '자연과학', '분야', '물리학', '역시', '물질', '학문', '물리학', '원소', '화합물', '모두', '포함', '물체', '운동', '에너지', '기적', '광학', '기계', '속성', '현상', '통일', '이론', '구축', '달리', '화학', '물질', '자체', '연구', '대상', '화학', '존재', '물질', '이용', '목적', '물질', '합성', '제공', '농작물', '증산', '질병', '치료', '예방', '에너지', '효율', '증대', '환경오염', '감소', '여러', '가지', '이점', '제공', '고대', '화학', '초기', '야금', '야금', '금속', '광석', '추출', '정련', '기술', '인간', '발견', '최초', '기록', '금속', '보이', '구석기', '후기', '스페인', '동굴', '소량', '천연', '발견', '구리', '주석', '유성', '또한', '고대', '문화', '제한', '금속', '가공', '허용', '문화', '발견', '기원전', '유성', '철제', '이집트', '무기', '천국', '단검', '높이', '평가', '통제', '방식', '사용', '최초', '화학', '반응', '천년', '동안', '물질', '다른', '물질', '나무', '변형', '초기', '사회', '여러', '측면', '영향', '요리', '서식지', '조명', '일상', '생활', '가장', '도기', '벽돌', '금속', '도구', '고급', '기술', '유리', '발견', '금속', '정화', '불로', '야금', '부상', '야금', '초기', '단계', '금속', '정화', '방법', '요구', '금은', '초기', '고대', '이집트', '금속', '세기', '세기', '초기', '화학', '로버트', '영국', '미국인', '화학자', '로버트', '연금술', '대한', '현대', '과학', '방법', '정제', '화학', '연금술', '분리', '생각', '연구', '연금술', '전통', '뿌리', '불구', '오늘날', '현대', '화학자', '이자', '화학', '창시자', '이자', '현대', '실험', '과학', '방법', '선구자', '사람', '불리', '원래', '발견', '제시', '법칙', '가장', '법칙', '온도', '폐쇄된', '시스템', '유지', '가스', '절대', '압력', '부피', '반비례', '의미', '또한', '화학', '분야', '초석', '간주', '의심', '화학자', '대한', '획기', '저서', '작품', '모든', '현상', '입자', '충돌', '결과', '가설', '시한', '화학자', '실험', '호소', '실험', '지구', '화염', '공기', '전적', '가지', '원소', '화학', '원소', '부인', '또한', '화학', '의학', '연금술', '종속', '과학', '지위', '부상', '중단', '촉구', '과학', '실험', '대한', '접근', '방식', '주장', '모든', '이론', '사실', '간주', '실험', '입증', '작품', '원자', '분자', '화학', '반응', '가장', '초기', '현대', '아이디어', '포함', '현대', '화학', '역사', '시작', '또한', '화학', '물질', '정제', '재현', '반응', '시도', '재료', '물질', '물리', '특성', '상호', '작용', '설명', '정량', '위해', '제안', '기계', '철학', '보컬', '지지자', '원자', '핵론', '원자', '입자', '선호', '속성', '유지', '물질', '가장', '정밀', '부분', '미립', '수준', '논평', '또한', '공기', '펌프', '조사', '수행', '공기', '펌프', '수은', '또한', '컨테이너', '공기', '펌핑하', '화염', '내부', '동물', '관찰', '과거', '화학', '이상', '기초', '요소', '존재', '기초', '요소', '원자', '원자', '물질', '구성', '기본', '입자', '고대', '그리스', '데모', '크리', '토스', '존재', '주장', '돌턴', '원자론', '정리', '세기', '화학자', '원자', '구성', '입자', '전자', '양성자', '중성자', '존재', '사실', '발견', '전자', '음전하', '양성자', '양전하', '중성자', '전하', '원자', '양성자', '중성자', '구성', '원자핵', '가지', '전자', '주변', '오비탈', '분포', '원소', '일반', '화학', '물리학', '방법', '분해', '물질', '의미', '원소', '원자핵', '존재', '양성자', '수로', '정의', '원자', '번호', '구별', '산소', '주석', '원소', '세기', '중엽', '가지', '원소', '발견', '주기율', '배열', '동위원소', '아이', '토프', '동위', '체라', '고도', '서로', '화학', '거의', '구별', '그것', '구성', '원자', '질량', '서로', '다른', '원소', '동위원소', '영어', '그리스어', '장소', '합성어', '질량', '서로', '달라', '원소', '주기율표', '장소', '배열', '영국', '화학자', '소디', '명칭', '대부분', '원소', '동위', '원소', '동위', '원소', '원자', '번호', '중성자', '수가', '다른', '원소', '동위', '원소', '화학', '성질', '원자량', '차이', '이용', '분리', '자연', '발견', '원소', '동위', '원소', '지표면', '존재', '자연', '발견', '동위', '원소', '핵반응', '이용', '동위', '원소', '방사', '가지', '기도', '경우', '동위', '원소', '원자핵', '방사선', '방출', '자연', '붕괴', '원소', '원자', '질량', '양성자', '수가', '다른', '원소', '원소', '화학', '물리', '성질', '분자', '원자', '결합체', '독립', '입자', '로서', '작용', '단위체', '개수', '원자', '정렬', '서로', '분자', '형성', '원자', '원소', '최소', '단위', '분자', '화합물', '최소', '단위', '원자', '결합', '전자', '재배', '치가', '화학', '관심사', '하나', '화학', '반응', '원자', '분자', '화학', '변화', '화학', '반응', '원자', '결합', '일과', '다시', '포함', '결합', '에너지', '흡수', '결합', '에너지', '방출', '화학', '반응', '수소', '산소', '반응', '물이', '반응', '다음', '반응', '화학', '반응', '원자', '일어나지', '에너지', '엔탈피', '변화', '반응', '발열반응', '수도', '흡열반응', '수도', '발열반응', '주위', '방출', '반응', '엔탈피', '변화', '음수', '반면', '흡열반응', '주위', '흡수', '반응', '엔탈피', '변화', '양수', '반응', '경우', '발열반응', '계로', '주위', '이동', '의미', '화학', '결합', '가지', '부류', '이온', '결합', '공유', '결합', '금속결합', '이온', '전하', '원자', '분자', '이온', '결합', '양전하', '음전하', '기적', '인력', '화학', '결합', '염화', '나트륨', '양전하', '나트륨', '이온', '음전하', '염화', '이온', '사이', '기적', '결합', '이온', '화합물', '물질', '이온', '분자', '수화', '수용액', '전기전도도', '공유', '결합', '오비탈', '결과', '원자', '전자', '공유', '결합', '의미', '공유', '결합', '형성', '결합', '발열반응', '방출', '에너지', '합의', '결합', '에너지', '결합', '에너지', '에너지', '결합', '결합', '금속', '결합', '금속', '원자', '전자', '자유전자', '결합', '의미', '금속', '특성', '연성', '전성', '이유', '화합물', '구성', '원자', '종류', '배치', '특성', '결정', '자연', '인공', '합성', '화합물', '대부분', '유기', '화합물', '유기', '화합물', '화학', '원소', '탄소', '다른', '화학', '원소', '매우', '사슬', '형태', '정렬', '이성질체', '형성', '분자식', '서로', '다른', '화합물', '화학', '취급', '대상', '대상', '취급', '방법', '따라서', '가지', '분과', '구분', '물질', '분석', '분석화학', '크게', '물질', '존재', '취급', '정성', '분석', '물질', '결정', '정량', '분석', '탄소', '포함', '유기', '화합물', '유기화학', '유기', '화합물', '제외', '무기', '화합물', '무기화학', '물리학', '화학', '경계', '물리화학', '생물학', '경계', '생화학', '물리화학', '분자', '구조', '성질', '관계', '부분', '화학', '기도', '세계', '대전', '이후', '방사성', '물질', '방사', '화학', '발전', '화학', '공업', '공업화', '학도', '화학', '분과', '매우', '화학', '분과', '전통', '다음', '가지', '각각', '분과', '더욱', '세분', '무기화학', '유기화학', '물질', '주로', '금속', '준금속', '포함', '물질', '대해', '연구', '따라서', '무기화학', '매우', '범위', '화합물', '초기', '광물', '구성', '원소', '발견', '주요', '관심사', '여기', '부터', '지구화학', '분기', '주로', '전이', '금속', '이용', '촉매', '생물', '산소', '수송', '광합성', '질소', '고정', '과정', '역할', '금속', '원자', '대해', '연구', '세라믹', '복합', '재료', '초전도체', '대한', '연구', '물리화학', '화학', '현상', '대한', '해석', '설명', '물리', '원리', '대해', '분과', '화학반응', '관련', '열역학', '원리', '물질', '물리학', '성질', '대한', '설명', '물리화학', '전적', '주제', '물리화학', '양자화학', '발전', '기여', '분광', '자기', '공명', '회절', '기기', '물리화학', '사용', '실험', '장비', '실험', '방법', '다른', '화학', '분과', '매우', '사용', '물리화학', '대상', '유기', '화합물', '무기', '화합물', '혼합물', '모두', '포함', '분석화학', '물질', '조성', '혼합물', '구성요소', '결정', '방법', '대해', '연구', '화학', '분과', '혼합물', '성분', '탐색', '분리', '정량', '분자', '원자', '비율', '측정', '분자식', '결정', '분석화학', '분석화학', '발전', '질량', '분석', '포함', '분석', '기구', '등장', '해상도', '크로마토그래피', '전기화학', '실험', '방법', '분석화학', '분석', '분석화학', '최종', '목표', '측정', '측정', '기기', '개발', '분석화학', '발전', '환경오염', '물질', '피코', '그램', '수준', '감지', '생화학', '생물', '화학', '관점', '학문', '식물', '동물', '세포', '발견', '물질', '화학', '반응', '관심사', '생명체', '발견', '탄수화물', '지방', '단백질', '핵산', '호르몬', '유기', '화합물', '유기화학', '기도', '하나', '화합물', '관련', '물질대사', '과정', '조절', '과정', '대한', '연구', '생화학', '고유', '분야', '효소', '조효소', '작용', '과정', '대해', '서도', '연구', '세포막', '통과', '이온', '분자', '전달', '물질', '다른', '조절', '물질', '작용', '대해', '서도', '연구', '생화학', '내분비학', '유전학', '면역학', '바이러스학', '발전', '영향', '유기화학', '탄소', '화합물', '연구', '분과', '원래', '유기', '화합물', '식물', '동물', '로부터', '추출', '화합물', '지금', '유기', '화합물', '범위', '크게', '탄소', '사슬', '탄소', '고리', '모든', '화합물', '유기화학', '관심사', '유기', '화합물', '합성', '메커니즘', '현대', '자기', '공명', '결정학', '개발', '유기', '화합물', '분석', '매우', '방법', '자리', '플라스틱', '합성섬유', '고분자', '물질', '유기화학'], ['체첸', '공화국', '체첸', '공화국', '체첸', '러시아', '공화국', '체첸', '사용', '언어', '체첸어', '러시아어', '체첸어', '캅카스', '제어', '북동', '캅카스', '제어', '그룹', '인구시어', '매우', '관계', '거의', '대부분', '체첸인', '일부', '러시아인', '인구시인', '기타', '북코카서스', '민족', '체첸', '인구시', '자치공화국', '통계', '체첸인', '인구시인', '명의', '러시아인', '인구', '소수', '민족', '서부', '잉구슈', '공화국', '분리', '때문', '인구시인', '수가', '절반', '가까이', '감소', '내전', '사회', '불안', '대부분', '러시아인', '체첸공화국', '대부분', '체첸', '공화국', '남아', '러시아인', '체첸', '공화국', '일반', '러시아', '연방', '가장', '인구', '구성', '몇몇', '지방', '인구', '증가', '다게스탄', '지역', '통해', '세기', '세기', '기점', '체첸인', '대다수', '수니파', '이슬람교', '러시아', '정교회', '소수', '존재', '동안', '러시아', '오스만', '투르크', '제국', '접경', '지역', '안보', '이유', '체첸', '진주', '체첸', '러시아', '제국', '병합', '세계', '대전', '동안', '소비에트', '정부', '체첸', '나치', '협력', '비난', '스탈린', '체첸', '국민', '전체', '카자흐스탄', '강제', '이주', '명령', '스탈린', '사망', '체첸인', '귀환', '허용', '체첸', '전쟁', '러시아', '공세', '체첸', '전역', '초토화'], ['맥스웰', '방정식', '맥스웰', '방정식', '전기', '자기', '발생', '전기장', '자기장', '전하', '밀도', '전류', '밀도', '형성', '편미분', '방정식', '맥스웰', '방정식', '역시', '전자기파', '하나', '각각', '방정식', '가우스', '법칙', '가우스', '자기', '법칙', '패러데이', '전자기', '유도', '법칙', '앙페르', '회로', '법칙', '각각', '방정식', '제임스', '러크', '맥스웰', '종합', '이후', '맥스웰', '방정식', '불리', '전자기역학', '맥스웰', '방정식', '로런츠', '법칙', '요약', '로런츠', '맥스웰', '방정식', '유도', '맥스웰', '방정식', '법칙', '종합', '구성', '맥스웰', '방정식', '빛과', '전자기파', '특성', '설명', '방정식', '수학', '표현', '공식', '부분', '우선', '방정식', '의미', '다음', '맥스웰', '방정식', '시간', '연구', '전기', '자기', '특성', '종합', '인류', '고대', '시대', '정전기', '인력', '방전', '현상', '자석', '특징', '이용', '나침반', '사용', '근대', '전기', '자기', '대한', '연구', '진행', '결과', '쿨롱', '법칙', '패러데이', '전자기', '유도', '법칙', '앙페르', '회로', '법칙', '법칙', '발견', '맥스웰', '기존', '연구', '성과', '종합', '전기', '자기', '하나', '상호작용', '전자기력', '것임', '증명', '역시', '전자기파', '전자기', '복사', '발견', '예언', '앞서', '전하', '사이', '인력', '척력', '작용', '고대', '이후', '전하', '사이', '작용', '관계', '크기', '측정', '매우', '까닭', '작용', '크기', '매우', '때문', '샤를', '쿨롱', '비틀림', '저울', '이용', '실험', '장치', '고안', '대전', '전하', '사이', '작용', '크기', '측정', '샤를', '쿨롱', '금속', '공과', '비틀림', '저울', '이용', '점전하', '사이', '작용', '측정', '전하', '사이', '작용', '전하', '크기', '비례', '거리', '제곱', '반비례', '쿨롱', '법칙', '발견', '쿨롱', '법칙', '다음', '한편', '쿨롱', '전하', '사이', '작용', '자계', '적용', '자극', '세기', '각각', '자극', '사이', '작용', '다음', '정리', '자극', '세기', '단위', '웨버', '쿨롱', '세기', '자극', '작용', '세기', '경우', '정의', '따라서', '상수', '다음', '자극', '사이', '작용', '크기', '전하', '사이', '작용', '크기', '방식', '계산', '사이', '차이', '전하', '양전하', '음전하', '단독', '존재', '자극', '존재', '존재', '제임스', '러크', '맥스웰', '각각', '독립', '전기', '자기', '법칙', '종합', '맥스웰', '방정식', '수립', '맥스웰', '마이클', '패러데이', '역선', '개념', '앙드레', '마리', '앙페르', '회로', '이론', '근간', '방정식', '정리', '맥스웰', '논문', '물리', '역선', '대해', '발표', '모두', '방정식', '구성', '맥스웰', '방정식', '소개', '방정식', '발표', '논문', '전자기장', '역학', '이론', '전기', '자기', '대한', '논문', '다시', '소개', '물리학자', '리처드', '파인먼', '방정식', '남북전쟁', '의미', '사건', '맥스웰', '방정식', '중요성', '강조', '맥스웰', '자신', '발표', '맥스웰', '방정식', '원래', '형태', '방정식', '오늘날', '올리버', '헤비사이드', '방정식', '정리', '형태', '일반', '사용', '조사이', '윌러드', '기브스', '하인리히', '루돌프', '헤르츠', '역시', '헤비사이드', '작업', '때문', '맥스웰', '방정식', '헤르츠', '헤비사이드', '방정식', '불리', '기도', '맥스웰', '방정식', '이란', '이름', '맥스웰', '물리', '역선', '대해', '앙페르', '회로', '법칙', '설명', '위해', '방정식', '열거', '맥스웰', '논문', '앙페르', '회로', '법칙', '치환', '전류', '발표', '전자기장', '역학', '이론', '전자기파', '방정식', '기술', '전자기파', '제시', '맥스웰', '이론', '하인리히', '루돌프', '헤르츠', '실험', '증명', '이란', '개념', '마이클', '패러데이', '도입', '알베르트', '아인슈타인', '맥스웰', '개념', '도입', '대해', '다음', '평가', '당시', '방정식', '헤르츠', '헤비사이드', '방정식', '멕스웰', '헤비사이드', '방정식', '아인슈타인', '사이언스', '고문', '맥스웰', '방정식', '방정식', '이론물리학', '기초', '설명', '맥스웰', '방정식', '정리', '헤비사이드', '전위', '벡터', '위치', '위치', '요소', '개념', '도입', '맥스웰', '전자기파', '전달', '중력', '원격', '상호작용', '전자기장', '속도', '전파', '전위', '파악', '라디오', '안테나', '대한', '현대', '분석', '맥스웰', '백터', '스칼라', '위키', '대한', '수식', '서로', '안테나', '사이', '작용', '전파', '영향', '모두', '설명', '맥스웰', '방정식', '관련', '헤비사이드', '업적', '맥스웰', '여러', '논문', '서술', '맥스웰', '방정식', '오늘날', '방정식', '정리', '오늘날', '방정식', '정리', '맥스웰', '방정식', '발표', '논문', '물리', '역선', '대해', '기반', '논문', '전자기장', '대한', '다수', '방정식', '맥스웰', '케임브리지', '철학', '학회', '패러데이', '역선', '발표', '벡터', '차이점', '설명', '논문', '오늘날', '패러데이', '전자기', '유도', '법칙', '대한', '가장', '모형', '여기', '맥스웰', '전류', '모든', '지식', '미분', '방정식', '맥스웰', '제안', '분자', '와동', '바다', '개념', '물리', '역선', '대해', '소개', '논문', '자기장', '형성', '분자', '규모', '와동', '밀도', '와동', '운동', '결정', '맥스웰', '와동', '밀도', '측정', '투자율', '정의', '논문', '맥스웰', '개념', '다음', '전하', '밀도', '회전', '자기', '전류', '주위', '자기력선', '자기', '선속', '투자율', '자기장', '유도', '자기', '선속', '전류', '방정식', '전하', '대류', '전류', '선형', '한편', '자기', '방정식', '유도', '전류', '회전', '발생', '자기', '벡터', '방향성', '비선형', '방정식', '따라서', '자기', '유도', '전류', '역선', '표현', '자기력선', '제곱', '법칙', '전류', '맥스웰', '전자기장', '역학', '이론', '맥스웰', '전자기파', '제시', '맥스웰', '방정식', '전자기장', '대한', '일반', '방정식', '제시', '때문', '훗날', '맥스웰', '방정식', '표현', '오늘날', '방정식', '제시', '방정식', '인지', '혼동', '따라서', '오늘날', '구성', '방정식', '위해', '헤비사이드', '정리', '맥스웰', '방정식', '멕스웰', '헤비사이드', '방정식', '표현', '사용', '현대', '벡터', '표기', '사용', '정리', '멕스웰', '방정식', '다음', '표현', '방정식', '로런츠', '효과', '논문', '방정식', '표현', '또한', '맥스웰', '논문', '전자기파', '방정식', '정의', '방정식', '전자기', '유도', '설명', '위해', '사용', '오늘날', '방정식', '대신', '패러데이', '전자기', '유도', '법칙', '맥스웰', '전자기파', '방정식', '연구', '과정', '방정식', '맥스웰', '전기', '자기', '대한', '논문', '방정식', '묶음', '묶음', '묶음', '다음', '국제', '단위계', '사용', '수식', '표현', '맥스웰', '방정식', '발산정리', '스토크', '정리', '이용', '미분', '적분', '방정식', '동치', '아래', '기호', '단위', '발산', '연산자', '단위', '미터', '회전', '연산자', '단위', '미터', '방정식', '자기', '전기장', '자기장', '대전', '입자', '로런츠', '국제', '단위계', '다음', '여기', '입자', '전하량', '입자', '속도', '단위계', '자기장', '정의', '대신', '수식', '국제', '단위계', '표현', '다른', '단위계', '맥스웰', '방정식', '약간', '상수', '변화', '물리학', '공학', '일반', '가장', '널리', '국제', '단위계', '이외', '경우', '단위계'], ['초월수', '초월수', '계수', '유리수', '방정식', '해도', '복소수', '방정식', '수인', '대수', '반대', '개념', '실수', '초월수', '모두', '무리수', '성립', '무리수', '다음', '이차방정식', '초월수', '대수', '수의', '집합', '가산', '집합', '복소수', '집합', '가산', '집합', '따라서', '초월수', '집합', '가산', '집합', '대수', '수의', '개수', '초월수', '개수', '지금', '초월수', '수가', '초월', '수임', '증명', '매우', '초월수', '존재', '레온', '르트', '오일러', '예상', '최초', '초월수', '제프', '리우빌', '발견', '초월수', '로서', '다음', '정의', '리우빌', '상수', '제시', '초월수', '존재', '증명', '위해', '수가', '처음', '초월', '수임', '증명', '상수', '샤를', '에르미트', '증명', '페르디난트', '린데', '원주율', '또한', '초월', '수임', '증명', '고대', '그리스', '시대', '난제', '원적문제', '결과', '게오르크', '칸토어', '구체', '초월수', '제시', '대신', '설명', '가산', '집합', '가산', '집합', '논리', '이용', '초월수', '존재', '비트', '힐베르트', '힐베르트', '문제', '가운데', '문제', '초월수', '대하', '다음', '문제', '제시', '힐베르트', '문제', '구체', '문제', '폰트', '슈나이더', '정리', '결과', '앨런', '베이커', '확장'], ['음계', '음계', '음악', '음높이', '순서', '집합', '악곡', '주로', '구성', '음계', '종류', '분위기', '음계', '각각', '위치', '도수', '음계', '음계', '포함', '음정', '따라서', '이름', '음계', '포함', '서로', '다른', '피치', '클래스', '따라서', '이름', '음계', '음정', '음계', '수가', '문화', '음악', '음악', '특징', '지니', '음계', '거리', '음악', '소리', '대해', '온음계', '반음계', '서양', '음악', '용어', '자체', '음계', '온음계', '반음계', '선율', '화음', '화성', '진행', '표현', '대부분', '경우', '온음계', '음으로', '장음계', '세기', '음악', '반음계', '모든', '음계', '팔음음계', '반음계', '반음', '음계', '계이름', '음계', '기준', '이름', '장음계', '계이름', '으뜸음', '위로', '각각', '서양', '음악', '시로', '음계', '한국', '전통', '음악', '황종', '태주', '중려', '임종', '무역', '음계', '중국', '전통', '음악', '변치', '림화', '변궁', '시로', '음계', '한국', '전통', '음악', '음계', '음계', '계통', '음계']]\n"
          ]
        }
      ]
    },
    {
      "cell_type": "markdown",
      "metadata": {
        "id": "3samJ8VNgZx2"
      },
      "source": [
        "## 나.Sklearn으로 DTM, TF-IDF를 만들어 탐색하기"
      ]
    },
    {
      "cell_type": "code",
      "metadata": {
        "id": "ZjhoN3_Uq0Gh",
        "colab": {
          "base_uri": "https://localhost:8080/",
          "height": 453
        },
        "outputId": "f7910379-83ba-4929-ce5d-4d78c01d050d"
      },
      "source": [
        "# DTM 구하기, corpus 문서단위 리스트, \n",
        "import pandas as pd\n",
        "from sklearn.feature_extraction.text import CountVectorizer\n",
        "import gensim\n",
        "g_dictionary = gensim.corpora.Dictionary(tokens)\n",
        "g_corpus = [g_dictionary.doc2bow(text) for text in tokens]\n",
        "vector = CountVectorizer(vocabulary=g_dictionary.token2id)\n",
        "dtm = vector.fit_transform(corpus).toarray()\n",
        "col = g_dictionary.token2id.keys()\n",
        "pd.DataFrame(dtm, columns=col)"
      ],
      "execution_count": null,
      "outputs": [
        {
          "output_type": "execute_result",
          "data": {
            "text/plain": [
              "   갈등  감시  감축  갑자기  개발  거부  격변  계속  고등판무관  고조  ...  장음계  중려  지니  클래스  태주  \\\n",
              "0   1   1   1    1   1   1   1   1      1   1  ...    0   0   0    0   0   \n",
              "1   0   0   0    0   0   0   0   3      0   0  ...    0   0   0    0   0   \n",
              "2   0   0   0    0   0   0   0   0      0   0  ...    0   0   0    0   0   \n",
              "3   0   0   0    0   0   0   0   0      0   0  ...    0   0   0    0   0   \n",
              "4   0   0   0    0   0   0   0   0      0   0  ...    0   0   0    0   0   \n",
              "5   0   0   0    0   2   0   0   0      0   0  ...    0   0   0    0   0   \n",
              "6   0   0   0    0   0   0   0   0      0   0  ...    0   0   0    0   0   \n",
              "7   0   0   0    0   0   0   0   0      0   0  ...    0   0   0    0   0   \n",
              "8   0   0   0    0   0   0   0   0      0   0  ...    0   0   0    0   0   \n",
              "9   0   0   0    0   0   0   0   0      0   0  ...    2   1   1    1   1   \n",
              "\n",
              "   팔음음계  피치  화성  화음  황종  \n",
              "0     0   0   0   0   0  \n",
              "1     0   0   0   0   0  \n",
              "2     0   0   0   0   0  \n",
              "3     0   0   0   0   0  \n",
              "4     0   0   0   0   0  \n",
              "5     0   0   0   0   0  \n",
              "6     0   0   0   0   0  \n",
              "7     0   0   0   0   0  \n",
              "8     0   0   0   0   0  \n",
              "9     1   1   1   1   1  \n",
              "\n",
              "[10 rows x 1337 columns]"
            ],
            "text/html": [
              "\n",
              "  <div id=\"df-4c24cd89-e8fe-4989-b76f-6baced4364c4\">\n",
              "    <div class=\"colab-df-container\">\n",
              "      <div>\n",
              "<style scoped>\n",
              "    .dataframe tbody tr th:only-of-type {\n",
              "        vertical-align: middle;\n",
              "    }\n",
              "\n",
              "    .dataframe tbody tr th {\n",
              "        vertical-align: top;\n",
              "    }\n",
              "\n",
              "    .dataframe thead th {\n",
              "        text-align: right;\n",
              "    }\n",
              "</style>\n",
              "<table border=\"1\" class=\"dataframe\">\n",
              "  <thead>\n",
              "    <tr style=\"text-align: right;\">\n",
              "      <th></th>\n",
              "      <th>갈등</th>\n",
              "      <th>감시</th>\n",
              "      <th>감축</th>\n",
              "      <th>갑자기</th>\n",
              "      <th>개발</th>\n",
              "      <th>거부</th>\n",
              "      <th>격변</th>\n",
              "      <th>계속</th>\n",
              "      <th>고등판무관</th>\n",
              "      <th>고조</th>\n",
              "      <th>...</th>\n",
              "      <th>장음계</th>\n",
              "      <th>중려</th>\n",
              "      <th>지니</th>\n",
              "      <th>클래스</th>\n",
              "      <th>태주</th>\n",
              "      <th>팔음음계</th>\n",
              "      <th>피치</th>\n",
              "      <th>화성</th>\n",
              "      <th>화음</th>\n",
              "      <th>황종</th>\n",
              "    </tr>\n",
              "  </thead>\n",
              "  <tbody>\n",
              "    <tr>\n",
              "      <th>0</th>\n",
              "      <td>1</td>\n",
              "      <td>1</td>\n",
              "      <td>1</td>\n",
              "      <td>1</td>\n",
              "      <td>1</td>\n",
              "      <td>1</td>\n",
              "      <td>1</td>\n",
              "      <td>1</td>\n",
              "      <td>1</td>\n",
              "      <td>1</td>\n",
              "      <td>...</td>\n",
              "      <td>0</td>\n",
              "      <td>0</td>\n",
              "      <td>0</td>\n",
              "      <td>0</td>\n",
              "      <td>0</td>\n",
              "      <td>0</td>\n",
              "      <td>0</td>\n",
              "      <td>0</td>\n",
              "      <td>0</td>\n",
              "      <td>0</td>\n",
              "    </tr>\n",
              "    <tr>\n",
              "      <th>1</th>\n",
              "      <td>0</td>\n",
              "      <td>0</td>\n",
              "      <td>0</td>\n",
              "      <td>0</td>\n",
              "      <td>0</td>\n",
              "      <td>0</td>\n",
              "      <td>0</td>\n",
              "      <td>3</td>\n",
              "      <td>0</td>\n",
              "      <td>0</td>\n",
              "      <td>...</td>\n",
              "      <td>0</td>\n",
              "      <td>0</td>\n",
              "      <td>0</td>\n",
              "      <td>0</td>\n",
              "      <td>0</td>\n",
              "      <td>0</td>\n",
              "      <td>0</td>\n",
              "      <td>0</td>\n",
              "      <td>0</td>\n",
              "      <td>0</td>\n",
              "    </tr>\n",
              "    <tr>\n",
              "      <th>2</th>\n",
              "      <td>0</td>\n",
              "      <td>0</td>\n",
              "      <td>0</td>\n",
              "      <td>0</td>\n",
              "      <td>0</td>\n",
              "      <td>0</td>\n",
              "      <td>0</td>\n",
              "      <td>0</td>\n",
              "      <td>0</td>\n",
              "      <td>0</td>\n",
              "      <td>...</td>\n",
              "      <td>0</td>\n",
              "      <td>0</td>\n",
              "      <td>0</td>\n",
              "      <td>0</td>\n",
              "      <td>0</td>\n",
              "      <td>0</td>\n",
              "      <td>0</td>\n",
              "      <td>0</td>\n",
              "      <td>0</td>\n",
              "      <td>0</td>\n",
              "    </tr>\n",
              "    <tr>\n",
              "      <th>3</th>\n",
              "      <td>0</td>\n",
              "      <td>0</td>\n",
              "      <td>0</td>\n",
              "      <td>0</td>\n",
              "      <td>0</td>\n",
              "      <td>0</td>\n",
              "      <td>0</td>\n",
              "      <td>0</td>\n",
              "      <td>0</td>\n",
              "      <td>0</td>\n",
              "      <td>...</td>\n",
              "      <td>0</td>\n",
              "      <td>0</td>\n",
              "      <td>0</td>\n",
              "      <td>0</td>\n",
              "      <td>0</td>\n",
              "      <td>0</td>\n",
              "      <td>0</td>\n",
              "      <td>0</td>\n",
              "      <td>0</td>\n",
              "      <td>0</td>\n",
              "    </tr>\n",
              "    <tr>\n",
              "      <th>4</th>\n",
              "      <td>0</td>\n",
              "      <td>0</td>\n",
              "      <td>0</td>\n",
              "      <td>0</td>\n",
              "      <td>0</td>\n",
              "      <td>0</td>\n",
              "      <td>0</td>\n",
              "      <td>0</td>\n",
              "      <td>0</td>\n",
              "      <td>0</td>\n",
              "      <td>...</td>\n",
              "      <td>0</td>\n",
              "      <td>0</td>\n",
              "      <td>0</td>\n",
              "      <td>0</td>\n",
              "      <td>0</td>\n",
              "      <td>0</td>\n",
              "      <td>0</td>\n",
              "      <td>0</td>\n",
              "      <td>0</td>\n",
              "      <td>0</td>\n",
              "    </tr>\n",
              "    <tr>\n",
              "      <th>5</th>\n",
              "      <td>0</td>\n",
              "      <td>0</td>\n",
              "      <td>0</td>\n",
              "      <td>0</td>\n",
              "      <td>2</td>\n",
              "      <td>0</td>\n",
              "      <td>0</td>\n",
              "      <td>0</td>\n",
              "      <td>0</td>\n",
              "      <td>0</td>\n",
              "      <td>...</td>\n",
              "      <td>0</td>\n",
              "      <td>0</td>\n",
              "      <td>0</td>\n",
              "      <td>0</td>\n",
              "      <td>0</td>\n",
              "      <td>0</td>\n",
              "      <td>0</td>\n",
              "      <td>0</td>\n",
              "      <td>0</td>\n",
              "      <td>0</td>\n",
              "    </tr>\n",
              "    <tr>\n",
              "      <th>6</th>\n",
              "      <td>0</td>\n",
              "      <td>0</td>\n",
              "      <td>0</td>\n",
              "      <td>0</td>\n",
              "      <td>0</td>\n",
              "      <td>0</td>\n",
              "      <td>0</td>\n",
              "      <td>0</td>\n",
              "      <td>0</td>\n",
              "      <td>0</td>\n",
              "      <td>...</td>\n",
              "      <td>0</td>\n",
              "      <td>0</td>\n",
              "      <td>0</td>\n",
              "      <td>0</td>\n",
              "      <td>0</td>\n",
              "      <td>0</td>\n",
              "      <td>0</td>\n",
              "      <td>0</td>\n",
              "      <td>0</td>\n",
              "      <td>0</td>\n",
              "    </tr>\n",
              "    <tr>\n",
              "      <th>7</th>\n",
              "      <td>0</td>\n",
              "      <td>0</td>\n",
              "      <td>0</td>\n",
              "      <td>0</td>\n",
              "      <td>0</td>\n",
              "      <td>0</td>\n",
              "      <td>0</td>\n",
              "      <td>0</td>\n",
              "      <td>0</td>\n",
              "      <td>0</td>\n",
              "      <td>...</td>\n",
              "      <td>0</td>\n",
              "      <td>0</td>\n",
              "      <td>0</td>\n",
              "      <td>0</td>\n",
              "      <td>0</td>\n",
              "      <td>0</td>\n",
              "      <td>0</td>\n",
              "      <td>0</td>\n",
              "      <td>0</td>\n",
              "      <td>0</td>\n",
              "    </tr>\n",
              "    <tr>\n",
              "      <th>8</th>\n",
              "      <td>0</td>\n",
              "      <td>0</td>\n",
              "      <td>0</td>\n",
              "      <td>0</td>\n",
              "      <td>0</td>\n",
              "      <td>0</td>\n",
              "      <td>0</td>\n",
              "      <td>0</td>\n",
              "      <td>0</td>\n",
              "      <td>0</td>\n",
              "      <td>...</td>\n",
              "      <td>0</td>\n",
              "      <td>0</td>\n",
              "      <td>0</td>\n",
              "      <td>0</td>\n",
              "      <td>0</td>\n",
              "      <td>0</td>\n",
              "      <td>0</td>\n",
              "      <td>0</td>\n",
              "      <td>0</td>\n",
              "      <td>0</td>\n",
              "    </tr>\n",
              "    <tr>\n",
              "      <th>9</th>\n",
              "      <td>0</td>\n",
              "      <td>0</td>\n",
              "      <td>0</td>\n",
              "      <td>0</td>\n",
              "      <td>0</td>\n",
              "      <td>0</td>\n",
              "      <td>0</td>\n",
              "      <td>0</td>\n",
              "      <td>0</td>\n",
              "      <td>0</td>\n",
              "      <td>...</td>\n",
              "      <td>2</td>\n",
              "      <td>1</td>\n",
              "      <td>1</td>\n",
              "      <td>1</td>\n",
              "      <td>1</td>\n",
              "      <td>1</td>\n",
              "      <td>1</td>\n",
              "      <td>1</td>\n",
              "      <td>1</td>\n",
              "      <td>1</td>\n",
              "    </tr>\n",
              "  </tbody>\n",
              "</table>\n",
              "<p>10 rows × 1337 columns</p>\n",
              "</div>\n",
              "      <button class=\"colab-df-convert\" onclick=\"convertToInteractive('df-4c24cd89-e8fe-4989-b76f-6baced4364c4')\"\n",
              "              title=\"Convert this dataframe to an interactive table.\"\n",
              "              style=\"display:none;\">\n",
              "        \n",
              "  <svg xmlns=\"http://www.w3.org/2000/svg\" height=\"24px\"viewBox=\"0 0 24 24\"\n",
              "       width=\"24px\">\n",
              "    <path d=\"M0 0h24v24H0V0z\" fill=\"none\"/>\n",
              "    <path d=\"M18.56 5.44l.94 2.06.94-2.06 2.06-.94-2.06-.94-.94-2.06-.94 2.06-2.06.94zm-11 1L8.5 8.5l.94-2.06 2.06-.94-2.06-.94L8.5 2.5l-.94 2.06-2.06.94zm10 10l.94 2.06.94-2.06 2.06-.94-2.06-.94-.94-2.06-.94 2.06-2.06.94z\"/><path d=\"M17.41 7.96l-1.37-1.37c-.4-.4-.92-.59-1.43-.59-.52 0-1.04.2-1.43.59L10.3 9.45l-7.72 7.72c-.78.78-.78 2.05 0 2.83L4 21.41c.39.39.9.59 1.41.59.51 0 1.02-.2 1.41-.59l7.78-7.78 2.81-2.81c.8-.78.8-2.07 0-2.86zM5.41 20L4 18.59l7.72-7.72 1.47 1.35L5.41 20z\"/>\n",
              "  </svg>\n",
              "      </button>\n",
              "      \n",
              "  <style>\n",
              "    .colab-df-container {\n",
              "      display:flex;\n",
              "      flex-wrap:wrap;\n",
              "      gap: 12px;\n",
              "    }\n",
              "\n",
              "    .colab-df-convert {\n",
              "      background-color: #E8F0FE;\n",
              "      border: none;\n",
              "      border-radius: 50%;\n",
              "      cursor: pointer;\n",
              "      display: none;\n",
              "      fill: #1967D2;\n",
              "      height: 32px;\n",
              "      padding: 0 0 0 0;\n",
              "      width: 32px;\n",
              "    }\n",
              "\n",
              "    .colab-df-convert:hover {\n",
              "      background-color: #E2EBFA;\n",
              "      box-shadow: 0px 1px 2px rgba(60, 64, 67, 0.3), 0px 1px 3px 1px rgba(60, 64, 67, 0.15);\n",
              "      fill: #174EA6;\n",
              "    }\n",
              "\n",
              "    [theme=dark] .colab-df-convert {\n",
              "      background-color: #3B4455;\n",
              "      fill: #D2E3FC;\n",
              "    }\n",
              "\n",
              "    [theme=dark] .colab-df-convert:hover {\n",
              "      background-color: #434B5C;\n",
              "      box-shadow: 0px 1px 3px 1px rgba(0, 0, 0, 0.15);\n",
              "      filter: drop-shadow(0px 1px 2px rgba(0, 0, 0, 0.3));\n",
              "      fill: #FFFFFF;\n",
              "    }\n",
              "  </style>\n",
              "\n",
              "      <script>\n",
              "        const buttonEl =\n",
              "          document.querySelector('#df-4c24cd89-e8fe-4989-b76f-6baced4364c4 button.colab-df-convert');\n",
              "        buttonEl.style.display =\n",
              "          google.colab.kernel.accessAllowed ? 'block' : 'none';\n",
              "\n",
              "        async function convertToInteractive(key) {\n",
              "          const element = document.querySelector('#df-4c24cd89-e8fe-4989-b76f-6baced4364c4');\n",
              "          const dataTable =\n",
              "            await google.colab.kernel.invokeFunction('convertToInteractive',\n",
              "                                                     [key], {});\n",
              "          if (!dataTable) return;\n",
              "\n",
              "          const docLinkHtml = 'Like what you see? Visit the ' +\n",
              "            '<a target=\"_blank\" href=https://colab.research.google.com/notebooks/data_table.ipynb>data table notebook</a>'\n",
              "            + ' to learn more about interactive tables.';\n",
              "          element.innerHTML = '';\n",
              "          dataTable['output_type'] = 'display_data';\n",
              "          await google.colab.output.renderOutput(dataTable, element);\n",
              "          const docLink = document.createElement('div');\n",
              "          docLink.innerHTML = docLinkHtml;\n",
              "          element.appendChild(docLink);\n",
              "        }\n",
              "      </script>\n",
              "    </div>\n",
              "  </div>\n",
              "  "
            ]
          },
          "metadata": {},
          "execution_count": 68
        }
      ]
    },
    {
      "cell_type": "code",
      "metadata": {
        "id": "TmkGeCylgmU_",
        "colab": {
          "base_uri": "https://localhost:8080/",
          "height": 473
        },
        "outputId": "657beb2c-a22f-4419-eec3-0cb2924cc167"
      },
      "source": [
        "# TFIDF 도표 구하기 : 딕셔너리는 vocab, 분석대상은 corpus\n",
        "from sklearn.feature_extraction.text import TfidfVectorizer\n",
        "tfidfv = TfidfVectorizer(vocabulary=g_dictionary.token2id)\n",
        "tfidf = tfidfv.fit_transform(corpus).toarray()\n",
        "col = g_dictionary.token2id.keys()\n",
        "pd.DataFrame(tfidf, columns=col)"
      ],
      "execution_count": null,
      "outputs": [
        {
          "output_type": "execute_result",
          "data": {
            "text/plain": [
              "         갈등        감시        감축       갑자기        개발        거부        격변  \\\n",
              "0  0.025924  0.025924  0.025924  0.025924  0.022038  0.025924  0.025924   \n",
              "1  0.000000  0.000000  0.000000  0.000000  0.000000  0.000000  0.000000   \n",
              "2  0.000000  0.000000  0.000000  0.000000  0.000000  0.000000  0.000000   \n",
              "3  0.000000  0.000000  0.000000  0.000000  0.000000  0.000000  0.000000   \n",
              "4  0.000000  0.000000  0.000000  0.000000  0.000000  0.000000  0.000000   \n",
              "5  0.000000  0.000000  0.000000  0.000000  0.020396  0.000000  0.000000   \n",
              "6  0.000000  0.000000  0.000000  0.000000  0.000000  0.000000  0.000000   \n",
              "7  0.000000  0.000000  0.000000  0.000000  0.000000  0.000000  0.000000   \n",
              "8  0.000000  0.000000  0.000000  0.000000  0.000000  0.000000  0.000000   \n",
              "9  0.000000  0.000000  0.000000  0.000000  0.000000  0.000000  0.000000   \n",
              "\n",
              "         계속     고등판무관        고조  ...       장음계        중려        지니       클래스  \\\n",
              "0  0.022038  0.025924  0.025924  ...  0.000000  0.000000  0.000000  0.000000   \n",
              "1  0.058210  0.000000  0.000000  ...  0.000000  0.000000  0.000000  0.000000   \n",
              "2  0.000000  0.000000  0.000000  ...  0.000000  0.000000  0.000000  0.000000   \n",
              "3  0.000000  0.000000  0.000000  ...  0.000000  0.000000  0.000000  0.000000   \n",
              "4  0.000000  0.000000  0.000000  ...  0.000000  0.000000  0.000000  0.000000   \n",
              "5  0.000000  0.000000  0.000000  ...  0.000000  0.000000  0.000000  0.000000   \n",
              "6  0.000000  0.000000  0.000000  ...  0.000000  0.000000  0.000000  0.000000   \n",
              "7  0.000000  0.000000  0.000000  ...  0.000000  0.000000  0.000000  0.000000   \n",
              "8  0.000000  0.000000  0.000000  ...  0.000000  0.000000  0.000000  0.000000   \n",
              "9  0.000000  0.000000  0.000000  ...  0.083482  0.041741  0.041741  0.041741   \n",
              "\n",
              "         태주      팔음음계        피치        화성        화음        황종  \n",
              "0  0.000000  0.000000  0.000000  0.000000  0.000000  0.000000  \n",
              "1  0.000000  0.000000  0.000000  0.000000  0.000000  0.000000  \n",
              "2  0.000000  0.000000  0.000000  0.000000  0.000000  0.000000  \n",
              "3  0.000000  0.000000  0.000000  0.000000  0.000000  0.000000  \n",
              "4  0.000000  0.000000  0.000000  0.000000  0.000000  0.000000  \n",
              "5  0.000000  0.000000  0.000000  0.000000  0.000000  0.000000  \n",
              "6  0.000000  0.000000  0.000000  0.000000  0.000000  0.000000  \n",
              "7  0.000000  0.000000  0.000000  0.000000  0.000000  0.000000  \n",
              "8  0.000000  0.000000  0.000000  0.000000  0.000000  0.000000  \n",
              "9  0.041741  0.041741  0.041741  0.041741  0.041741  0.041741  \n",
              "\n",
              "[10 rows x 1337 columns]"
            ],
            "text/html": [
              "\n",
              "  <div id=\"df-ef1c684e-5844-482b-9ada-a1ea61493f83\">\n",
              "    <div class=\"colab-df-container\">\n",
              "      <div>\n",
              "<style scoped>\n",
              "    .dataframe tbody tr th:only-of-type {\n",
              "        vertical-align: middle;\n",
              "    }\n",
              "\n",
              "    .dataframe tbody tr th {\n",
              "        vertical-align: top;\n",
              "    }\n",
              "\n",
              "    .dataframe thead th {\n",
              "        text-align: right;\n",
              "    }\n",
              "</style>\n",
              "<table border=\"1\" class=\"dataframe\">\n",
              "  <thead>\n",
              "    <tr style=\"text-align: right;\">\n",
              "      <th></th>\n",
              "      <th>갈등</th>\n",
              "      <th>감시</th>\n",
              "      <th>감축</th>\n",
              "      <th>갑자기</th>\n",
              "      <th>개발</th>\n",
              "      <th>거부</th>\n",
              "      <th>격변</th>\n",
              "      <th>계속</th>\n",
              "      <th>고등판무관</th>\n",
              "      <th>고조</th>\n",
              "      <th>...</th>\n",
              "      <th>장음계</th>\n",
              "      <th>중려</th>\n",
              "      <th>지니</th>\n",
              "      <th>클래스</th>\n",
              "      <th>태주</th>\n",
              "      <th>팔음음계</th>\n",
              "      <th>피치</th>\n",
              "      <th>화성</th>\n",
              "      <th>화음</th>\n",
              "      <th>황종</th>\n",
              "    </tr>\n",
              "  </thead>\n",
              "  <tbody>\n",
              "    <tr>\n",
              "      <th>0</th>\n",
              "      <td>0.025924</td>\n",
              "      <td>0.025924</td>\n",
              "      <td>0.025924</td>\n",
              "      <td>0.025924</td>\n",
              "      <td>0.022038</td>\n",
              "      <td>0.025924</td>\n",
              "      <td>0.025924</td>\n",
              "      <td>0.022038</td>\n",
              "      <td>0.025924</td>\n",
              "      <td>0.025924</td>\n",
              "      <td>...</td>\n",
              "      <td>0.000000</td>\n",
              "      <td>0.000000</td>\n",
              "      <td>0.000000</td>\n",
              "      <td>0.000000</td>\n",
              "      <td>0.000000</td>\n",
              "      <td>0.000000</td>\n",
              "      <td>0.000000</td>\n",
              "      <td>0.000000</td>\n",
              "      <td>0.000000</td>\n",
              "      <td>0.000000</td>\n",
              "    </tr>\n",
              "    <tr>\n",
              "      <th>1</th>\n",
              "      <td>0.000000</td>\n",
              "      <td>0.000000</td>\n",
              "      <td>0.000000</td>\n",
              "      <td>0.000000</td>\n",
              "      <td>0.000000</td>\n",
              "      <td>0.000000</td>\n",
              "      <td>0.000000</td>\n",
              "      <td>0.058210</td>\n",
              "      <td>0.000000</td>\n",
              "      <td>0.000000</td>\n",
              "      <td>...</td>\n",
              "      <td>0.000000</td>\n",
              "      <td>0.000000</td>\n",
              "      <td>0.000000</td>\n",
              "      <td>0.000000</td>\n",
              "      <td>0.000000</td>\n",
              "      <td>0.000000</td>\n",
              "      <td>0.000000</td>\n",
              "      <td>0.000000</td>\n",
              "      <td>0.000000</td>\n",
              "      <td>0.000000</td>\n",
              "    </tr>\n",
              "    <tr>\n",
              "      <th>2</th>\n",
              "      <td>0.000000</td>\n",
              "      <td>0.000000</td>\n",
              "      <td>0.000000</td>\n",
              "      <td>0.000000</td>\n",
              "      <td>0.000000</td>\n",
              "      <td>0.000000</td>\n",
              "      <td>0.000000</td>\n",
              "      <td>0.000000</td>\n",
              "      <td>0.000000</td>\n",
              "      <td>0.000000</td>\n",
              "      <td>...</td>\n",
              "      <td>0.000000</td>\n",
              "      <td>0.000000</td>\n",
              "      <td>0.000000</td>\n",
              "      <td>0.000000</td>\n",
              "      <td>0.000000</td>\n",
              "      <td>0.000000</td>\n",
              "      <td>0.000000</td>\n",
              "      <td>0.000000</td>\n",
              "      <td>0.000000</td>\n",
              "      <td>0.000000</td>\n",
              "    </tr>\n",
              "    <tr>\n",
              "      <th>3</th>\n",
              "      <td>0.000000</td>\n",
              "      <td>0.000000</td>\n",
              "      <td>0.000000</td>\n",
              "      <td>0.000000</td>\n",
              "      <td>0.000000</td>\n",
              "      <td>0.000000</td>\n",
              "      <td>0.000000</td>\n",
              "      <td>0.000000</td>\n",
              "      <td>0.000000</td>\n",
              "      <td>0.000000</td>\n",
              "      <td>...</td>\n",
              "      <td>0.000000</td>\n",
              "      <td>0.000000</td>\n",
              "      <td>0.000000</td>\n",
              "      <td>0.000000</td>\n",
              "      <td>0.000000</td>\n",
              "      <td>0.000000</td>\n",
              "      <td>0.000000</td>\n",
              "      <td>0.000000</td>\n",
              "      <td>0.000000</td>\n",
              "      <td>0.000000</td>\n",
              "    </tr>\n",
              "    <tr>\n",
              "      <th>4</th>\n",
              "      <td>0.000000</td>\n",
              "      <td>0.000000</td>\n",
              "      <td>0.000000</td>\n",
              "      <td>0.000000</td>\n",
              "      <td>0.000000</td>\n",
              "      <td>0.000000</td>\n",
              "      <td>0.000000</td>\n",
              "      <td>0.000000</td>\n",
              "      <td>0.000000</td>\n",
              "      <td>0.000000</td>\n",
              "      <td>...</td>\n",
              "      <td>0.000000</td>\n",
              "      <td>0.000000</td>\n",
              "      <td>0.000000</td>\n",
              "      <td>0.000000</td>\n",
              "      <td>0.000000</td>\n",
              "      <td>0.000000</td>\n",
              "      <td>0.000000</td>\n",
              "      <td>0.000000</td>\n",
              "      <td>0.000000</td>\n",
              "      <td>0.000000</td>\n",
              "    </tr>\n",
              "    <tr>\n",
              "      <th>5</th>\n",
              "      <td>0.000000</td>\n",
              "      <td>0.000000</td>\n",
              "      <td>0.000000</td>\n",
              "      <td>0.000000</td>\n",
              "      <td>0.020396</td>\n",
              "      <td>0.000000</td>\n",
              "      <td>0.000000</td>\n",
              "      <td>0.000000</td>\n",
              "      <td>0.000000</td>\n",
              "      <td>0.000000</td>\n",
              "      <td>...</td>\n",
              "      <td>0.000000</td>\n",
              "      <td>0.000000</td>\n",
              "      <td>0.000000</td>\n",
              "      <td>0.000000</td>\n",
              "      <td>0.000000</td>\n",
              "      <td>0.000000</td>\n",
              "      <td>0.000000</td>\n",
              "      <td>0.000000</td>\n",
              "      <td>0.000000</td>\n",
              "      <td>0.000000</td>\n",
              "    </tr>\n",
              "    <tr>\n",
              "      <th>6</th>\n",
              "      <td>0.000000</td>\n",
              "      <td>0.000000</td>\n",
              "      <td>0.000000</td>\n",
              "      <td>0.000000</td>\n",
              "      <td>0.000000</td>\n",
              "      <td>0.000000</td>\n",
              "      <td>0.000000</td>\n",
              "      <td>0.000000</td>\n",
              "      <td>0.000000</td>\n",
              "      <td>0.000000</td>\n",
              "      <td>...</td>\n",
              "      <td>0.000000</td>\n",
              "      <td>0.000000</td>\n",
              "      <td>0.000000</td>\n",
              "      <td>0.000000</td>\n",
              "      <td>0.000000</td>\n",
              "      <td>0.000000</td>\n",
              "      <td>0.000000</td>\n",
              "      <td>0.000000</td>\n",
              "      <td>0.000000</td>\n",
              "      <td>0.000000</td>\n",
              "    </tr>\n",
              "    <tr>\n",
              "      <th>7</th>\n",
              "      <td>0.000000</td>\n",
              "      <td>0.000000</td>\n",
              "      <td>0.000000</td>\n",
              "      <td>0.000000</td>\n",
              "      <td>0.000000</td>\n",
              "      <td>0.000000</td>\n",
              "      <td>0.000000</td>\n",
              "      <td>0.000000</td>\n",
              "      <td>0.000000</td>\n",
              "      <td>0.000000</td>\n",
              "      <td>...</td>\n",
              "      <td>0.000000</td>\n",
              "      <td>0.000000</td>\n",
              "      <td>0.000000</td>\n",
              "      <td>0.000000</td>\n",
              "      <td>0.000000</td>\n",
              "      <td>0.000000</td>\n",
              "      <td>0.000000</td>\n",
              "      <td>0.000000</td>\n",
              "      <td>0.000000</td>\n",
              "      <td>0.000000</td>\n",
              "    </tr>\n",
              "    <tr>\n",
              "      <th>8</th>\n",
              "      <td>0.000000</td>\n",
              "      <td>0.000000</td>\n",
              "      <td>0.000000</td>\n",
              "      <td>0.000000</td>\n",
              "      <td>0.000000</td>\n",
              "      <td>0.000000</td>\n",
              "      <td>0.000000</td>\n",
              "      <td>0.000000</td>\n",
              "      <td>0.000000</td>\n",
              "      <td>0.000000</td>\n",
              "      <td>...</td>\n",
              "      <td>0.000000</td>\n",
              "      <td>0.000000</td>\n",
              "      <td>0.000000</td>\n",
              "      <td>0.000000</td>\n",
              "      <td>0.000000</td>\n",
              "      <td>0.000000</td>\n",
              "      <td>0.000000</td>\n",
              "      <td>0.000000</td>\n",
              "      <td>0.000000</td>\n",
              "      <td>0.000000</td>\n",
              "    </tr>\n",
              "    <tr>\n",
              "      <th>9</th>\n",
              "      <td>0.000000</td>\n",
              "      <td>0.000000</td>\n",
              "      <td>0.000000</td>\n",
              "      <td>0.000000</td>\n",
              "      <td>0.000000</td>\n",
              "      <td>0.000000</td>\n",
              "      <td>0.000000</td>\n",
              "      <td>0.000000</td>\n",
              "      <td>0.000000</td>\n",
              "      <td>0.000000</td>\n",
              "      <td>...</td>\n",
              "      <td>0.083482</td>\n",
              "      <td>0.041741</td>\n",
              "      <td>0.041741</td>\n",
              "      <td>0.041741</td>\n",
              "      <td>0.041741</td>\n",
              "      <td>0.041741</td>\n",
              "      <td>0.041741</td>\n",
              "      <td>0.041741</td>\n",
              "      <td>0.041741</td>\n",
              "      <td>0.041741</td>\n",
              "    </tr>\n",
              "  </tbody>\n",
              "</table>\n",
              "<p>10 rows × 1337 columns</p>\n",
              "</div>\n",
              "      <button class=\"colab-df-convert\" onclick=\"convertToInteractive('df-ef1c684e-5844-482b-9ada-a1ea61493f83')\"\n",
              "              title=\"Convert this dataframe to an interactive table.\"\n",
              "              style=\"display:none;\">\n",
              "        \n",
              "  <svg xmlns=\"http://www.w3.org/2000/svg\" height=\"24px\"viewBox=\"0 0 24 24\"\n",
              "       width=\"24px\">\n",
              "    <path d=\"M0 0h24v24H0V0z\" fill=\"none\"/>\n",
              "    <path d=\"M18.56 5.44l.94 2.06.94-2.06 2.06-.94-2.06-.94-.94-2.06-.94 2.06-2.06.94zm-11 1L8.5 8.5l.94-2.06 2.06-.94-2.06-.94L8.5 2.5l-.94 2.06-2.06.94zm10 10l.94 2.06.94-2.06 2.06-.94-2.06-.94-.94-2.06-.94 2.06-2.06.94z\"/><path d=\"M17.41 7.96l-1.37-1.37c-.4-.4-.92-.59-1.43-.59-.52 0-1.04.2-1.43.59L10.3 9.45l-7.72 7.72c-.78.78-.78 2.05 0 2.83L4 21.41c.39.39.9.59 1.41.59.51 0 1.02-.2 1.41-.59l7.78-7.78 2.81-2.81c.8-.78.8-2.07 0-2.86zM5.41 20L4 18.59l7.72-7.72 1.47 1.35L5.41 20z\"/>\n",
              "  </svg>\n",
              "      </button>\n",
              "      \n",
              "  <style>\n",
              "    .colab-df-container {\n",
              "      display:flex;\n",
              "      flex-wrap:wrap;\n",
              "      gap: 12px;\n",
              "    }\n",
              "\n",
              "    .colab-df-convert {\n",
              "      background-color: #E8F0FE;\n",
              "      border: none;\n",
              "      border-radius: 50%;\n",
              "      cursor: pointer;\n",
              "      display: none;\n",
              "      fill: #1967D2;\n",
              "      height: 32px;\n",
              "      padding: 0 0 0 0;\n",
              "      width: 32px;\n",
              "    }\n",
              "\n",
              "    .colab-df-convert:hover {\n",
              "      background-color: #E2EBFA;\n",
              "      box-shadow: 0px 1px 2px rgba(60, 64, 67, 0.3), 0px 1px 3px 1px rgba(60, 64, 67, 0.15);\n",
              "      fill: #174EA6;\n",
              "    }\n",
              "\n",
              "    [theme=dark] .colab-df-convert {\n",
              "      background-color: #3B4455;\n",
              "      fill: #D2E3FC;\n",
              "    }\n",
              "\n",
              "    [theme=dark] .colab-df-convert:hover {\n",
              "      background-color: #434B5C;\n",
              "      box-shadow: 0px 1px 3px 1px rgba(0, 0, 0, 0.15);\n",
              "      filter: drop-shadow(0px 1px 2px rgba(0, 0, 0, 0.3));\n",
              "      fill: #FFFFFF;\n",
              "    }\n",
              "  </style>\n",
              "\n",
              "      <script>\n",
              "        const buttonEl =\n",
              "          document.querySelector('#df-ef1c684e-5844-482b-9ada-a1ea61493f83 button.colab-df-convert');\n",
              "        buttonEl.style.display =\n",
              "          google.colab.kernel.accessAllowed ? 'block' : 'none';\n",
              "\n",
              "        async function convertToInteractive(key) {\n",
              "          const element = document.querySelector('#df-ef1c684e-5844-482b-9ada-a1ea61493f83');\n",
              "          const dataTable =\n",
              "            await google.colab.kernel.invokeFunction('convertToInteractive',\n",
              "                                                     [key], {});\n",
              "          if (!dataTable) return;\n",
              "\n",
              "          const docLinkHtml = 'Like what you see? Visit the ' +\n",
              "            '<a target=\"_blank\" href=https://colab.research.google.com/notebooks/data_table.ipynb>data table notebook</a>'\n",
              "            + ' to learn more about interactive tables.';\n",
              "          element.innerHTML = '';\n",
              "          dataTable['output_type'] = 'display_data';\n",
              "          await google.colab.output.renderOutput(dataTable, element);\n",
              "          const docLink = document.createElement('div');\n",
              "          docLink.innerHTML = docLinkHtml;\n",
              "          element.appendChild(docLink);\n",
              "        }\n",
              "      </script>\n",
              "    </div>\n",
              "  </div>\n",
              "  "
            ]
          },
          "metadata": {},
          "execution_count": 69
        }
      ]
    },
    {
      "cell_type": "markdown",
      "metadata": {
        "id": "ityvUutIDYEC"
      },
      "source": [
        "### 문서 유사도 탐색"
      ]
    },
    {
      "cell_type": "code",
      "metadata": {
        "colab": {
          "base_uri": "https://localhost:8080/"
        },
        "id": "I9SPOsuVxqaf",
        "outputId": "0b02dfa8-fccc-4dfb-af9e-f66137449cd4"
      },
      "source": [
        "corpus"
      ],
      "execution_count": null,
      "outputs": [
        {
          "output_type": "execute_result",
          "data": {
            "text/plain": [
              "['지미 카터 제임스 지미 카터 주니어 민주당 출신 미국 대통령 지미 카터 조지아주 섬터 카운티 플레인스 마을 조지아 공과 대학교 졸업 해군 전함 원자력 잠수함 승무원 미국 해군 대위 이후 땅콩 면화 별명 땅콩 농부 조지아 상원 의원 선거 낙선 하나 선거 부정선거 입증 당선 조지아 지사 선거 낙선 조지아 지사 역임 대통령 조지아주 상원의원 조지아 지사 근무 조지아 지사 미국 흑인 용법 대통령 선거 민주당 후보 출마 도덕 주의 정책 포드 당선 카터 대통령 에너지 개발 촉구 공화당 반대 무산 카터 이집트 이스라엘 조정 캠프 데이비드 안와르 사다트 대통령 메나헴 수상 중동 평화 캠프데이비드 협정 체결 공화당 미국 유대인 단체 반발 백악관 양국 평화조약 또한 소련 전략 무기 제한 협상 조인 카터 후반 당시 대한민국 인권 후진국 국민 인권 위해 노력 취임 이후 계속 도덕 정치 이란 미국 대사관 인질 사건 인질 구출 실패 이유 대통령 선거 공화당 로널드 레이건 후보 재선 또한 임기 말기 소련 아프가니스탄 침공 사건 올림픽 국가 보이콧 지미 카터 대한민국 관계 영향 대통령 하나 인권 문제 미군 철수 문제 한미 관계 대한민국 대한 북한 위협 대비 한미연합사 창설 단계 미군 철수 미군 사령부 정보기관 의회 반대 미군 완전 철수 대신 감축 또한 박정희 정권 인권 문제 논란 불협화음 하순 대한민국 방문 관계 다소 회복 대한민국 정치 격변 당시 대통령 대해 태도 대한민국 고조 반미 운동 원인 박정희 대통령 김재규 중앙 정보 부장 살해 대해 사건 충격 사이러스 밴스 국무장관 사절 파견 군사 반란 쿠데타 대해 초기 비난 미국 정부 신군부 설득 한계 묵인 태도 보이 퇴임 이후 민간 자원 적극 활용 비영리 기구 카터 재단 설립 민주주의 실현 위해 세계 선거 감시 활동 기니 벌레 드라쿤쿠르스 질병 방재 위해 미국 빈곤층 지원 활동 사랑 집짓기 운동 국제 분쟁 중재 활동 카터 카터 행정부 이후 미국 북핵 위기 코소보 전쟁 이라크 전쟁 미국 군사 행동 최후 선택 전통 사고 군사 행동 선행 행위 대해 유감 표시 미국 군사 활동 반대 입장 보이 국제 분쟁 조정 위해 북한 김일성 아이티 라스 장군 팔레 인스타 하마스 보스니아 세르비아 정권 미국 정부 대해 협상 거부 사태 위기 초래 인물 단체 직접 분쟁 원인 근본 해결 위해 과정 미국 행정부 갈등 전직 대통령 권한 재야 유명 인사 활약 해결 채결 캠프데이비드 협정 이행 지지 부진 하자 중동 분쟁 분제 해결 위해 퇴임 직접 이스라엘 팔레 인스타 오슬로 협정 북핵 위기 당시 북한 대한 미국 군사 행동 임박 미국 전직 대통령 처음 북한 방문 미국 양국 중재 기여 위기 해결 평가 또한 김영삼 대통령 김일성 주석 만남 주선 그로 주일 김일성 갑자기 사망 김일성 김영삼 정상회담 미국 관타나모 용소 문제 세계 인권 문제 관심 유엔 유엔 인권 고등판무관 제도 시행 노력 독재자 인권 유린 대해 제약 국제 재판소 기여 독재자 인권 유린 범죄자 재판소 회부 국제 처벌 인권 신장 기여 북한 방문 문제 해결 이란 미국 대사관 인질 사건 발목 대통령 평가 이란 사태 미국 이란 재산 조건 사실 카터 해결 사랑 집짓기 운동 퇴임 존경 미국 대통령 인물 인권 중재 역할 대한 공로 노벨 평화상',\n",
              " '수학 수학 구조 공간 변화 미적분 개념 학문 현대 수학 형식 논리 이용 공리 구성 추상 구조 연구 학문 기도 수학 구조 발전 과정 자연과학 물리학 비롯 다른 학문 연관 과학 분야 달리 자연계 관측 개념 대해 이론 일반 추상화 차이 수학자 개념 대해 추측 선택 정의 공리 로부터 연역 통해 추측 진위 파악 수학 숫자 세기 계산 측정 물리 대상 모양 움직임 추상화 논리 추론 적용 기본 개념 고대 이집트 메소포타미아 고대 인도 고대 중국 고대 그리스 수학 유클리드 원론 논증 발견 발전 계속 세기 르네상스 수학 발전 과학 방법 상호 작용 혁명 연구 진행 인류 문명 영향 현재 계속 오늘날 수학 자연과학 공학 의학 경제학 사회과학 도구로 서도 사용 수학 분야 적용 응용수학 결과 로써 수학 자체 발전 분야 응용 수학 자체 재미 추구 연구 순수수학 시간 지난 순수수학 연구 다른 분야 응용 방법 발견 경우 대부분 자료 수리 라틴어 그리스어 유래 학식 유래 표현 수학 기원전 탈레스 로부터 시작 탈레스 수학 연구 사람 수도 때문 인류 역사 시작 교역 분배 과세 인류 사회 생활 모든 계산 수학 담당 농경 생활 필수 천문 관측 달력 제정 토지 측량 또한 수학 직접 관여 분야 고대 수학 크게 발전 나라 이집트 인도 그리스 중국 그리스 처음 수학 방정식 변수 문자 나라 한국 수학 기록 시작 신라 시대 수학 탈레스 최초 발견 일식 월식 예측 정도 발달 조선 시대 훈민정음 창제 세종 대왕 집현전 학자 수학 연구 조선 수학 수준 향상 위해 노력 임진왜란 서적 천문학 분야 손실 조선 후기 한국 수학 실학자 중심 다시 발전 결과 성취 수학 분야 상업 계산 위해 숫자 관계 이해 위해 토지 측량 위해 천문학 사건 예견 위해 발전 가지 목적 대략 수학 대상 구조 공간 변화 대응 수학 분야 각각 산술 대수학 기하학 해석학 또한 근대 이후 수학기초론 이산수학 응용수학 산술 자연수 정수 대한 사칙연산 대한 연구 로서 시작 수론 주제 학문 결과 페르마 마지막 정리 또한 쌍둥이 소수 추측 골드 바흐 추측 비롯 세월 동안 해결 문제 여럿 수의 체계 발전 정수 집합 유리수 집합 부분집합 여기 또한 유리수 집합 실수 집합 부분집합 복소수 집합 일부분 여기 사원수 팔원수 개념 생각 수도 약간 다른 방향 자연수 무한대 간다 개념 형식 순서수 개념 집합 크기 비교 이용 무한대 방법 기수 개념 대신 문자 문제해결 마찬가지 수학 법칙 일반 간명 포함 대수학 대수 방정식 방정식 해법 시작 추상대수학 현대 대수 구조 중심 선형대수학 전개 수의 집합 함수 수학 대상 재적 구조 대상 구조 특성 군론 환론 체론 대수 구조 연구 그것 하나 하나 재적 구조 수학 대상 분야 개념 벡터 벡터 공간 일반 선형대수학 지식 벡터 연구 산술 대수 기하 수학 분야 조합 벡터 미적분학 여기 해석학 영역 추가 텐서 미적분학 대칭성 회전 축의 영향 아래 벡터 움직임 연구 눈금 컴퍼스 관련 고대 미해결 문제 갈루아 이론 사용 비로소 해결 공간 대한 연구 기하학 시작 유클리드 기하학 비롯 삼각법 공간 피타고라스 정리 포함 현대 공간 대한 연구 개념 차원 기하학 위해 유클리드 기하학 상대성이론 핵심 역할 위상수학 일반 수론 공간 대한 이해 모두 해석 기하학 미분기하학 대수기하학 역할 군도 공간 구조 변화 사용 위상수학 세기 수학 지류 괄목 성장 분야 푸앵카레 추측 인간 증명 오직 컴퓨터 로만 증명 정리 포함 변화 대한 이해 묘사 자연과학 일반 주제 미적분학 변화 탐구 도구로 발전 함수 변화 묘사 중추 개념 실수 변수 구성 함수 탐구 실해석학 분야 복소수 대한 탐구 분야 복소해석학 함수해석학 함수 공간 무한 차원 탐구 주목 함수해석학 응용분야 하나 양자역학 문제 자연 변화율 관계 귀착 문제 미분방정식 자연 현상 동역학계 기술 혼돈 이론 예측 현상 탐구 기여 수학 기초 위해 수리논리학 집합론 발전 범주론 최근 발전 근본 위기 대략 사이 수학 기초 대한 탐구 상징 수학 기초 대한 가지 의견 일치 오늘날 계속 수학 기초 대한 위기 당시 논쟁 촉발 논쟁 칸토어 집합론 브라우 힐베르트 논쟁 포함',\n",
              " '수학 상수 수학 상수 변량 변수 반대말 물리 상수 달리 수학 상수 물리 측정 정의 수학 상수 대개 실수체 복소수체 원소 우리 이야기 상수 거의 대부분 계산 정의 수이 특정 수학 상수 골롬 딕맨 상수 프랑 로빈슨 상수 레비 상수 상수 다른 수학 상수 함수 상관관계 상관관계',\n",
              " '문학 문학 언어 예술 표현 제재 의미 출하 인간 사회 묘사 예술 하위 분야 설명 언어 통해 인간 미적 형상 문학 원래 문예 문학 학문 대상 탐구 학문 명칭 역시 문예학 문예학 음악 사학 미술사학 예술 핵심 분야 로서 인문학 하위 범주 포함 일반 문학 정의 텍스트 집합 각각 국가 고유 문학 기업 철학 조류 역사 시대 마찬가지 국가 문학 분류 고대 그리스어 성서 베오울프 일리아드 미국 헌법 분류 범주 일반 문학 주제 이야기 희곡 모음 경우 이야기 희곡 민족주의 색채 수도 수도 문학 부분 아이템 구분 매우 일이 사람 문학 상징 기록 형태 이미지 조각 자로 사람 문학 오직 문자 텍스트 구성 포함 보수 사람 개념 물리 형태 텍스트 여야 대개 형태 종이 매체 디지털 미디어 문학 몇몇 인기 기록 형태 작업 소위 대중문학 사이 인식 차이점 존재 문학 허구성 문학 재능 종종 개별 작품 구별 사용 찰스 디킨즈 작품 대부분 사람 문학 제프리 작품 영문학 일반 범주 아래 두기 다소 가치 생각 또한 문법 어법 이야기 혼란 신뢰 주지 인물 성격 관성 경우 문학 제외 로맨스 범죄소설 과학소설 장르 소설 문학 간주 경우 대부분 대중문학 범주 포함 문학 분류 방법 다음 구분 편의 발생 대별 문학 처음 종류 노래 분화 중심 발달 연극 노래 발달 발달 산문 이야기 정형시 자유시 산문시 또한 서사시 서정시 산문 사건 중심 이야기 근대 리얼리즘 수법 이후 인물 성격 묘사 중심 소설 이야기 소설 구상 작자 흥미 씌어 잡문 수필 날짜 씌어 일기 여행 과정 씌어 기행문 일기 마찬가지 발표 의도 서간 사건 경험 회고록 사건 특정시 한정 자서전 제삼자 씌어 전기 또한 포함 예술 작품 가치 평가 시도 평론 대중문학 상업성 대중 겨냥 통속 흥미 욕구 문학 대중문학 하위 장르 여러가지 문학 창작 예술가 가라 문예학 연구 사람 문예학 문학 창작 사람 저술가 문예학 언어학자 어문학자 언어 언어 사용 예술인 문학 현격 차이 주의 반영론 관점 감상 작품 창작 당시 시대 정황 연결 감상 입장 재적 관점 감상 작품 형식 내용 국한 감상 표현론 관점 감상 작가 기적 사실 작품 연결 감상 수용론 관점 감상 독자 작품 연결 감상',\n",
              " '나라 목록 문서 나라 목록 세계 나라 현황 주권 승인 정보 개요 형태 목록 명료 위해 부분 목록 모두 가나다 순이 일부 국가 경우 국가 로서 자격 논쟁 여부 때문 목록 엮는 매우 논란 과정 목록 구성 국가 선정 기준 대한 정보 포함 기준 단락 통해 설명 나라 대한 일반 정보 국가 문서 설명 목록 주권 주장 점유 영토 실제 관리 국가 외교관 나라 설명 소형 국가 목록 포함 목록 국가 기준 몬테비데오 협약 참고 협정 국가 다음 조건 마지막 조건 국제 공동체 참여 용인 내포 때문 다른 나라 승인 매우 역할 목록 포함 모든 국가 보통 기준 자주 독립 국가 몬테비데오 협약 기준 여부 국가 논쟁 실정 또한 몬테비데오 협약 기준 국가 지위 자격 국제 견해 존재 물음 대한 다른 이론 대한 고리 아래 기준 목록 다음 국가 포함 목록 포함 다음 국가 몬테비데오 협약 모든 조건 거나 자주 독립 적임 주장 국가',\n",
              " '화학 화학 물질 성질 조성 구조 변화 수반 에너지 변화 연구 자연과학 분야 물리학 역시 물질 학문 물리학 원소 화합물 모두 포함 물체 운동 에너지 기적 광학 기계 속성 현상 통일 이론 구축 달리 화학 물질 자체 연구 대상 화학 존재 물질 이용 목적 물질 합성 제공 농작물 증산 질병 치료 예방 에너지 효율 증대 환경오염 감소 여러 가지 이점 제공 고대 화학 초기 야금 야금 금속 광석 추출 정련 기술 인간 발견 최초 기록 금속 보이 구석기 후기 스페인 동굴 소량 천연 발견 구리 주석 유성 또한 고대 문화 제한 금속 가공 허용 문화 발견 기원전 유성 철제 이집트 무기 천국 단검 높이 평가 통제 방식 사용 최초 화학 반응 천년 동안 물질 다른 물질 나무 변형 초기 사회 여러 측면 영향 요리 서식지 조명 일상 생활 가장 도기 벽돌 금속 도구 고급 기술 유리 발견 금속 정화 불로 야금 부상 야금 초기 단계 금속 정화 방법 요구 금은 초기 고대 이집트 금속 세기 세기 초기 화학 로버트 영국 미국인 화학자 로버트 연금술 대한 현대 과학 방법 정제 화학 연금술 분리 생각 연구 연금술 전통 뿌리 불구 오늘날 현대 화학자 이자 화학 창시자 이자 현대 실험 과학 방법 선구자 사람 불리 원래 발견 제시 법칙 가장 법칙 온도 폐쇄된 시스템 유지 가스 절대 압력 부피 반비례 의미 또한 화학 분야 초석 간주 의심 화학자 대한 획기 저서 작품 모든 현상 입자 충돌 결과 가설 시한 화학자 실험 호소 실험 지구 화염 공기 전적 가지 원소 화학 원소 부인 또한 화학 의학 연금술 종속 과학 지위 부상 중단 촉구 과학 실험 대한 접근 방식 주장 모든 이론 사실 간주 실험 입증 작품 원자 분자 화학 반응 가장 초기 현대 아이디어 포함 현대 화학 역사 시작 또한 화학 물질 정제 재현 반응 시도 재료 물질 물리 특성 상호 작용 설명 정량 위해 제안 기계 철학 보컬 지지자 원자 핵론 원자 입자 선호 속성 유지 물질 가장 정밀 부분 미립 수준 논평 또한 공기 펌프 조사 수행 공기 펌프 수은 또한 컨테이너 공기 펌핑하 화염 내부 동물 관찰 과거 화학 이상 기초 요소 존재 기초 요소 원자 원자 물질 구성 기본 입자 고대 그리스 데모 크리 토스 존재 주장 돌턴 원자론 정리 세기 화학자 원자 구성 입자 전자 양성자 중성자 존재 사실 발견 전자 음전하 양성자 양전하 중성자 전하 원자 양성자 중성자 구성 원자핵 가지 전자 주변 오비탈 분포 원소 일반 화학 물리학 방법 분해 물질 의미 원소 원자핵 존재 양성자 수로 정의 원자 번호 구별 산소 주석 원소 세기 중엽 가지 원소 발견 주기율 배열 동위원소 아이 토프 동위 체라 고도 서로 화학 거의 구별 그것 구성 원자 질량 서로 다른 원소 동위원소 영어 그리스어 장소 합성어 질량 서로 달라 원소 주기율표 장소 배열 영국 화학자 소디 명칭 대부분 원소 동위 원소 동위 원소 원자 번호 중성자 수가 다른 원소 동위 원소 화학 성질 원자량 차이 이용 분리 자연 발견 원소 동위 원소 지표면 존재 자연 발견 동위 원소 핵반응 이용 동위 원소 방사 가지 기도 경우 동위 원소 원자핵 방사선 방출 자연 붕괴 원소 원자 질량 양성자 수가 다른 원소 원소 화학 물리 성질 분자 원자 결합체 독립 입자 로서 작용 단위체 개수 원자 정렬 서로 분자 형성 원자 원소 최소 단위 분자 화합물 최소 단위 원자 결합 전자 재배 치가 화학 관심사 하나 화학 반응 원자 분자 화학 변화 화학 반응 원자 결합 일과 다시 포함 결합 에너지 흡수 결합 에너지 방출 화학 반응 수소 산소 반응 물이 반응 다음 반응 화학 반응 원자 일어나지 에너지 엔탈피 변화 반응 발열반응 수도 흡열반응 수도 발열반응 주위 방출 반응 엔탈피 변화 음수 반면 흡열반응 주위 흡수 반응 엔탈피 변화 양수 반응 경우 발열반응 계로 주위 이동 의미 화학 결합 가지 부류 이온 결합 공유 결합 금속결합 이온 전하 원자 분자 이온 결합 양전하 음전하 기적 인력 화학 결합 염화 나트륨 양전하 나트륨 이온 음전하 염화 이온 사이 기적 결합 이온 화합물 물질 이온 분자 수화 수용액 전기전도도 공유 결합 오비탈 결과 원자 전자 공유 결합 의미 공유 결합 형성 결합 발열반응 방출 에너지 합의 결합 에너지 결합 에너지 에너지 결합 결합 금속 결합 금속 원자 전자 자유전자 결합 의미 금속 특성 연성 전성 이유 화합물 구성 원자 종류 배치 특성 결정 자연 인공 합성 화합물 대부분 유기 화합물 유기 화합물 화학 원소 탄소 다른 화학 원소 매우 사슬 형태 정렬 이성질체 형성 분자식 서로 다른 화합물 화학 취급 대상 대상 취급 방법 따라서 가지 분과 구분 물질 분석 분석화학 크게 물질 존재 취급 정성 분석 물질 결정 정량 분석 탄소 포함 유기 화합물 유기화학 유기 화합물 제외 무기 화합물 무기화학 물리학 화학 경계 물리화학 생물학 경계 생화학 물리화학 분자 구조 성질 관계 부분 화학 기도 세계 대전 이후 방사성 물질 방사 화학 발전 화학 공업 공업화 학도 화학 분과 매우 화학 분과 전통 다음 가지 각각 분과 더욱 세분 무기화학 유기화학 물질 주로 금속 준금속 포함 물질 대해 연구 따라서 무기화학 매우 범위 화합물 초기 광물 구성 원소 발견 주요 관심사 여기 부터 지구화학 분기 주로 전이 금속 이용 촉매 생물 산소 수송 광합성 질소 고정 과정 역할 금속 원자 대해 연구 세라믹 복합 재료 초전도체 대한 연구 물리화학 화학 현상 대한 해석 설명 물리 원리 대해 분과 화학반응 관련 열역학 원리 물질 물리학 성질 대한 설명 물리화학 전적 주제 물리화학 양자화학 발전 기여 분광 자기 공명 회절 기기 물리화학 사용 실험 장비 실험 방법 다른 화학 분과 매우 사용 물리화학 대상 유기 화합물 무기 화합물 혼합물 모두 포함 분석화학 물질 조성 혼합물 구성요소 결정 방법 대해 연구 화학 분과 혼합물 성분 탐색 분리 정량 분자 원자 비율 측정 분자식 결정 분석화학 분석화학 발전 질량 분석 포함 분석 기구 등장 해상도 크로마토그래피 전기화학 실험 방법 분석화학 분석 분석화학 최종 목표 측정 측정 기기 개발 분석화학 발전 환경오염 물질 피코 그램 수준 감지 생화학 생물 화학 관점 학문 식물 동물 세포 발견 물질 화학 반응 관심사 생명체 발견 탄수화물 지방 단백질 핵산 호르몬 유기 화합물 유기화학 기도 하나 화합물 관련 물질대사 과정 조절 과정 대한 연구 생화학 고유 분야 효소 조효소 작용 과정 대해 서도 연구 세포막 통과 이온 분자 전달 물질 다른 조절 물질 작용 대해 서도 연구 생화학 내분비학 유전학 면역학 바이러스학 발전 영향 유기화학 탄소 화합물 연구 분과 원래 유기 화합물 식물 동물 로부터 추출 화합물 지금 유기 화합물 범위 크게 탄소 사슬 탄소 고리 모든 화합물 유기화학 관심사 유기 화합물 합성 메커니즘 현대 자기 공명 결정학 개발 유기 화합물 분석 매우 방법 자리 플라스틱 합성섬유 고분자 물질 유기화학',\n",
              " '체첸 공화국 체첸 공화국 체첸 러시아 공화국 체첸 사용 언어 체첸어 러시아어 체첸어 캅카스 제어 북동 캅카스 제어 그룹 인구시어 매우 관계 거의 대부분 체첸인 일부 러시아인 인구시인 기타 북코카서스 민족 체첸 인구시 자치공화국 통계 체첸인 인구시인 명의 러시아인 인구 소수 민족 서부 잉구슈 공화국 분리 때문 인구시인 수가 절반 가까이 감소 내전 사회 불안 대부분 러시아인 체첸공화국 대부분 체첸 공화국 남아 러시아인 체첸 공화국 일반 러시아 연방 가장 인구 구성 몇몇 지방 인구 증가 다게스탄 지역 통해 세기 세기 기점 체첸인 대다수 수니파 이슬람교 러시아 정교회 소수 존재 동안 러시아 오스만 투르크 제국 접경 지역 안보 이유 체첸 진주 체첸 러시아 제국 병합 세계 대전 동안 소비에트 정부 체첸 나치 협력 비난 스탈린 체첸 국민 전체 카자흐스탄 강제 이주 명령 스탈린 사망 체첸인 귀환 허용 체첸 전쟁 러시아 공세 체첸 전역 초토화',\n",
              " '맥스웰 방정식 맥스웰 방정식 전기 자기 발생 전기장 자기장 전하 밀도 전류 밀도 형성 편미분 방정식 맥스웰 방정식 역시 전자기파 하나 각각 방정식 가우스 법칙 가우스 자기 법칙 패러데이 전자기 유도 법칙 앙페르 회로 법칙 각각 방정식 제임스 러크 맥스웰 종합 이후 맥스웰 방정식 불리 전자기역학 맥스웰 방정식 로런츠 법칙 요약 로런츠 맥스웰 방정식 유도 맥스웰 방정식 법칙 종합 구성 맥스웰 방정식 빛과 전자기파 특성 설명 방정식 수학 표현 공식 부분 우선 방정식 의미 다음 맥스웰 방정식 시간 연구 전기 자기 특성 종합 인류 고대 시대 정전기 인력 방전 현상 자석 특징 이용 나침반 사용 근대 전기 자기 대한 연구 진행 결과 쿨롱 법칙 패러데이 전자기 유도 법칙 앙페르 회로 법칙 법칙 발견 맥스웰 기존 연구 성과 종합 전기 자기 하나 상호작용 전자기력 것임 증명 역시 전자기파 전자기 복사 발견 예언 앞서 전하 사이 인력 척력 작용 고대 이후 전하 사이 작용 관계 크기 측정 매우 까닭 작용 크기 매우 때문 샤를 쿨롱 비틀림 저울 이용 실험 장치 고안 대전 전하 사이 작용 크기 측정 샤를 쿨롱 금속 공과 비틀림 저울 이용 점전하 사이 작용 측정 전하 사이 작용 전하 크기 비례 거리 제곱 반비례 쿨롱 법칙 발견 쿨롱 법칙 다음 한편 쿨롱 전하 사이 작용 자계 적용 자극 세기 각각 자극 사이 작용 다음 정리 자극 세기 단위 웨버 쿨롱 세기 자극 작용 세기 경우 정의 따라서 상수 다음 자극 사이 작용 크기 전하 사이 작용 크기 방식 계산 사이 차이 전하 양전하 음전하 단독 존재 자극 존재 존재 제임스 러크 맥스웰 각각 독립 전기 자기 법칙 종합 맥스웰 방정식 수립 맥스웰 마이클 패러데이 역선 개념 앙드레 마리 앙페르 회로 이론 근간 방정식 정리 맥스웰 논문 물리 역선 대해 발표 모두 방정식 구성 맥스웰 방정식 소개 방정식 발표 논문 전자기장 역학 이론 전기 자기 대한 논문 다시 소개 물리학자 리처드 파인먼 방정식 남북전쟁 의미 사건 맥스웰 방정식 중요성 강조 맥스웰 자신 발표 맥스웰 방정식 원래 형태 방정식 오늘날 올리버 헤비사이드 방정식 정리 형태 일반 사용 조사이 윌러드 기브스 하인리히 루돌프 헤르츠 역시 헤비사이드 작업 때문 맥스웰 방정식 헤르츠 헤비사이드 방정식 불리 기도 맥스웰 방정식 이란 이름 맥스웰 물리 역선 대해 앙페르 회로 법칙 설명 위해 방정식 열거 맥스웰 논문 앙페르 회로 법칙 치환 전류 발표 전자기장 역학 이론 전자기파 방정식 기술 전자기파 제시 맥스웰 이론 하인리히 루돌프 헤르츠 실험 증명 이란 개념 마이클 패러데이 도입 알베르트 아인슈타인 맥스웰 개념 도입 대해 다음 평가 당시 방정식 헤르츠 헤비사이드 방정식 멕스웰 헤비사이드 방정식 아인슈타인 사이언스 고문 맥스웰 방정식 방정식 이론물리학 기초 설명 맥스웰 방정식 정리 헤비사이드 전위 벡터 위치 위치 요소 개념 도입 맥스웰 전자기파 전달 중력 원격 상호작용 전자기장 속도 전파 전위 파악 라디오 안테나 대한 현대 분석 맥스웰 백터 스칼라 위키 대한 수식 서로 안테나 사이 작용 전파 영향 모두 설명 맥스웰 방정식 관련 헤비사이드 업적 맥스웰 여러 논문 서술 맥스웰 방정식 오늘날 방정식 정리 오늘날 방정식 정리 맥스웰 방정식 발표 논문 물리 역선 대해 기반 논문 전자기장 대한 다수 방정식 맥스웰 케임브리지 철학 학회 패러데이 역선 발표 벡터 차이점 설명 논문 오늘날 패러데이 전자기 유도 법칙 대한 가장 모형 여기 맥스웰 전류 모든 지식 미분 방정식 맥스웰 제안 분자 와동 바다 개념 물리 역선 대해 소개 논문 자기장 형성 분자 규모 와동 밀도 와동 운동 결정 맥스웰 와동 밀도 측정 투자율 정의 논문 맥스웰 개념 다음 전하 밀도 회전 자기 전류 주위 자기력선 자기 선속 투자율 자기장 유도 자기 선속 전류 방정식 전하 대류 전류 선형 한편 자기 방정식 유도 전류 회전 발생 자기 벡터 방향성 비선형 방정식 따라서 자기 유도 전류 역선 표현 자기력선 제곱 법칙 전류 맥스웰 전자기장 역학 이론 맥스웰 전자기파 제시 맥스웰 방정식 전자기장 대한 일반 방정식 제시 때문 훗날 맥스웰 방정식 표현 오늘날 방정식 제시 방정식 인지 혼동 따라서 오늘날 구성 방정식 위해 헤비사이드 정리 맥스웰 방정식 멕스웰 헤비사이드 방정식 표현 사용 현대 벡터 표기 사용 정리 멕스웰 방정식 다음 표현 방정식 로런츠 효과 논문 방정식 표현 또한 맥스웰 논문 전자기파 방정식 정의 방정식 전자기 유도 설명 위해 사용 오늘날 방정식 대신 패러데이 전자기 유도 법칙 맥스웰 전자기파 방정식 연구 과정 방정식 맥스웰 전기 자기 대한 논문 방정식 묶음 묶음 묶음 다음 국제 단위계 사용 수식 표현 맥스웰 방정식 발산정리 스토크 정리 이용 미분 적분 방정식 동치 아래 기호 단위 발산 연산자 단위 미터 회전 연산자 단위 미터 방정식 자기 전기장 자기장 대전 입자 로런츠 국제 단위계 다음 여기 입자 전하량 입자 속도 단위계 자기장 정의 대신 수식 국제 단위계 표현 다른 단위계 맥스웰 방정식 약간 상수 변화 물리학 공학 일반 가장 널리 국제 단위계 이외 경우 단위계',\n",
              " '초월수 초월수 계수 유리수 방정식 해도 복소수 방정식 수인 대수 반대 개념 실수 초월수 모두 무리수 성립 무리수 다음 이차방정식 초월수 대수 수의 집합 가산 집합 복소수 집합 가산 집합 따라서 초월수 집합 가산 집합 대수 수의 개수 초월수 개수 지금 초월수 수가 초월 수임 증명 매우 초월수 존재 레온 르트 오일러 예상 최초 초월수 제프 리우빌 발견 초월수 로서 다음 정의 리우빌 상수 제시 초월수 존재 증명 위해 수가 처음 초월 수임 증명 상수 샤를 에르미트 증명 페르디난트 린데 원주율 또한 초월 수임 증명 고대 그리스 시대 난제 원적문제 결과 게오르크 칸토어 구체 초월수 제시 대신 설명 가산 집합 가산 집합 논리 이용 초월수 존재 비트 힐베르트 힐베르트 문제 가운데 문제 초월수 대하 다음 문제 제시 힐베르트 문제 구체 문제 폰트 슈나이더 정리 결과 앨런 베이커 확장',\n",
              " '음계 음계 음악 음높이 순서 집합 악곡 주로 구성 음계 종류 분위기 음계 각각 위치 도수 음계 음계 포함 음정 따라서 이름 음계 포함 서로 다른 피치 클래스 따라서 이름 음계 음정 음계 수가 문화 음악 음악 특징 지니 음계 거리 음악 소리 대해 온음계 반음계 서양 음악 용어 자체 음계 온음계 반음계 선율 화음 화성 진행 표현 대부분 경우 온음계 음으로 장음계 세기 음악 반음계 모든 음계 팔음음계 반음계 반음 음계 계이름 음계 기준 이름 장음계 계이름 으뜸음 위로 각각 서양 음악 시로 음계 한국 전통 음악 황종 태주 중려 임종 무역 음계 중국 전통 음악 변치 림화 변궁 시로 음계 한국 전통 음악 음계 음계 계통 음계']"
            ]
          },
          "metadata": {},
          "execution_count": 70
        }
      ]
    },
    {
      "cell_type": "code",
      "metadata": {
        "colab": {
          "base_uri": "https://localhost:8080/"
        },
        "id": "4Z9lsLxXmnnM",
        "outputId": "1566ec0a-2981-46d4-e798-fe96eb3e99be"
      },
      "source": [
        "# DTM을 이용한 문서 유사도 평가\n",
        "from numpy import dot\n",
        "from numpy.linalg import norm\n",
        "import numpy as np\n",
        "def cos_sim(A, B):\n",
        "       return dot(A, B)/(norm(A)*norm(B))\n",
        "       \n",
        "print(cos_sim(dtm[0],dtm[1]), cos_sim(dtm[1],dtm[2]),cos_sim(dtm[1],dtm[8]) ) "
      ],
      "execution_count": null,
      "outputs": [
        {
          "output_type": "stream",
          "name": "stdout",
          "text": [
            "0.07958275295385071 0.2705466070535094 0.14092388144339044\n"
          ]
        }
      ]
    },
    {
      "cell_type": "code",
      "metadata": {
        "id": "sHPGl9M0AYbS",
        "colab": {
          "base_uri": "https://localhost:8080/"
        },
        "outputId": "06958cd6-45ca-4376-d646-de6be25047f1"
      },
      "source": [
        "# 문서 유사도 평가  :  dtm으로 비교, tfidf로 비교 \n",
        "print(cos_sim(dtm[0],dtm[1]), cos_sim(dtm[1],dtm[2]),cos_sim(dtm[1],dtm[8]),cos_sim(dtm[1],dtm[9]) ) \n",
        "print(cos_sim(tfidf[0],tfidf[1]), cos_sim(tfidf[1],tfidf[2]),cos_sim(tfidf[1],tfidf[8]),cos_sim(tfidf[1],tfidf[9]) ) \n"
      ],
      "execution_count": null,
      "outputs": [
        {
          "output_type": "stream",
          "name": "stdout",
          "text": [
            "0.07958275295385071 0.2705466070535094 0.14092388144339044 0.028417291328517596\n",
            "0.047239344439478484 0.2501829759857559 0.10136798759623566 0.016245327646178746\n"
          ]
        }
      ]
    },
    {
      "cell_type": "markdown",
      "metadata": {
        "id": "rzM7ZeVlpgwH"
      },
      "source": [
        "### 문서별 토픽 탐색"
      ]
    },
    {
      "cell_type": "code",
      "metadata": {
        "id": "OyTadH991qHn",
        "colab": {
          "base_uri": "https://localhost:8080/"
        },
        "outputId": "3da5df20-3e9d-4100-c643-e4f0dac8a760"
      },
      "source": [
        "import numpy as np\n",
        "tfidf_order = np.flip(np.argsort(tfidf, axis=-1), axis=-1)\n",
        "tfidf_order"
      ],
      "execution_count": null,
      "outputs": [
        {
          "output_type": "execute_result",
          "data": {
            "text/plain": [
              "array([[  70,   47,  236, ...,  893,  894,  668],\n",
              "       [ 418,  382,  368, ...,  893,  894,    0],\n",
              "       [ 573,  418,  572, ...,  893,  894,    0],\n",
              "       ...,\n",
              "       [ 370, 1167,  373, ...,  793,  794,    0],\n",
              "       [1297,  499, 1270, ...,  871,  872,    0],\n",
              "       [1322,  671, 1308, ...,  869,  870,    0]])"
            ]
          },
          "metadata": {},
          "execution_count": 73
        }
      ]
    },
    {
      "cell_type": "code",
      "metadata": {
        "colab": {
          "base_uri": "https://localhost:8080/",
          "height": 35
        },
        "id": "DRDyIGneqlBw",
        "outputId": "0e73e1c6-3e50-48e9-d43f-2395b3ce0659"
      },
      "source": [
        "# id를 참조하여 단어 찾는 사전 \n",
        "id_to_word = {_id:word for word, _id in g_dictionary.token2id.items()}\n",
        "id_to_word[0]"
      ],
      "execution_count": null,
      "outputs": [
        {
          "output_type": "execute_result",
          "data": {
            "text/plain": [
              "'갈등'"
            ],
            "application/vnd.google.colaboratory.intrinsic+json": {
              "type": "string"
            }
          },
          "metadata": {},
          "execution_count": 74
        }
      ]
    },
    {
      "cell_type": "code",
      "metadata": {
        "id": "ysZypg3L2lEP",
        "colab": {
          "base_uri": "https://localhost:8080/",
          "height": 363
        },
        "outputId": "e22ec61c-c4d1-489f-e10d-dd54ccaad0dd"
      },
      "source": [
        "# TF-IDF 문서별 토픽 추출 - 다른 문서와 차별화되는 유니크한 주제 \n",
        "n = 10 # 토픽 상위 n 후보\n",
        "topics =[]\n",
        "tfidf_mat = []\n",
        "for i, line in enumerate(tfidf_order):\n",
        "    str_order = [id_to_word[_id] for _id in line if 0 < tfidf[i][_id]]\n",
        "    tfidf_val = [tfidf[i,_id] for _id in line if 0 < tfidf[i][_id]]\n",
        "    tfidf_mat.append(tfidf_val[:n])\n",
        "    topics.append(str_order[:n])\n",
        "    # print(str_order)\n",
        "\n",
        "pd.DataFrame(tfidf_mat)"
      ],
      "execution_count": null,
      "outputs": [
        {
          "output_type": "execute_result",
          "data": {
            "text/plain": [
              "          0         1         2         3         4         5         6  \\\n",
              "0  0.418715  0.362934  0.285162  0.259238  0.155543  0.155543  0.155543   \n",
              "1  0.577170  0.220683  0.213436  0.205424  0.194033  0.181110  0.166018   \n",
              "2  0.800133  0.400067  0.179307  0.106476  0.096257  0.089653  0.089653   \n",
              "3  0.699259  0.243220  0.206760  0.155070  0.152013  0.135668  0.121610   \n",
              "4  0.553294  0.514376  0.274371  0.235175  0.184431  0.184431  0.136899   \n",
              "5  0.503854  0.311910  0.287917  0.275920  0.265152  0.239931  0.179948   \n",
              "6  0.660840  0.305003  0.305003  0.203335  0.203335  0.152501  0.152501   \n",
              "7  0.587886  0.574878  0.160333  0.155696  0.152718  0.111993  0.107790   \n",
              "8  0.714284  0.269889  0.255101  0.189726  0.189726  0.153061  0.153061   \n",
              "9  0.834820  0.354836  0.166964  0.125223  0.106451  0.093132  0.083482   \n",
              "\n",
              "          7         8         9  \n",
              "0  0.132226  0.129619  0.129619  \n",
              "1  0.136950  0.135539  0.116420  \n",
              "2  0.089653  0.089653  0.089653  \n",
              "3  0.121610  0.121610  0.121610  \n",
              "4  0.117588  0.117588  0.109519  \n",
              "5  0.132576  0.119965  0.101981  \n",
              "6  0.101668  0.101668  0.101668  \n",
              "7  0.107790  0.107790  0.107790  \n",
              "8  0.130116  0.130116  0.113836  \n",
              "9  0.083482  0.083482  0.083482  "
            ],
            "text/html": [
              "\n",
              "  <div id=\"df-f8c6e76c-7a68-4597-83cd-5c88cc28b30c\">\n",
              "    <div class=\"colab-df-container\">\n",
              "      <div>\n",
              "<style scoped>\n",
              "    .dataframe tbody tr th:only-of-type {\n",
              "        vertical-align: middle;\n",
              "    }\n",
              "\n",
              "    .dataframe tbody tr th {\n",
              "        vertical-align: top;\n",
              "    }\n",
              "\n",
              "    .dataframe thead th {\n",
              "        text-align: right;\n",
              "    }\n",
              "</style>\n",
              "<table border=\"1\" class=\"dataframe\">\n",
              "  <thead>\n",
              "    <tr style=\"text-align: right;\">\n",
              "      <th></th>\n",
              "      <th>0</th>\n",
              "      <th>1</th>\n",
              "      <th>2</th>\n",
              "      <th>3</th>\n",
              "      <th>4</th>\n",
              "      <th>5</th>\n",
              "      <th>6</th>\n",
              "      <th>7</th>\n",
              "      <th>8</th>\n",
              "      <th>9</th>\n",
              "    </tr>\n",
              "  </thead>\n",
              "  <tbody>\n",
              "    <tr>\n",
              "      <th>0</th>\n",
              "      <td>0.418715</td>\n",
              "      <td>0.362934</td>\n",
              "      <td>0.285162</td>\n",
              "      <td>0.259238</td>\n",
              "      <td>0.155543</td>\n",
              "      <td>0.155543</td>\n",
              "      <td>0.155543</td>\n",
              "      <td>0.132226</td>\n",
              "      <td>0.129619</td>\n",
              "      <td>0.129619</td>\n",
              "    </tr>\n",
              "    <tr>\n",
              "      <th>1</th>\n",
              "      <td>0.577170</td>\n",
              "      <td>0.220683</td>\n",
              "      <td>0.213436</td>\n",
              "      <td>0.205424</td>\n",
              "      <td>0.194033</td>\n",
              "      <td>0.181110</td>\n",
              "      <td>0.166018</td>\n",
              "      <td>0.136950</td>\n",
              "      <td>0.135539</td>\n",
              "      <td>0.116420</td>\n",
              "    </tr>\n",
              "    <tr>\n",
              "      <th>2</th>\n",
              "      <td>0.800133</td>\n",
              "      <td>0.400067</td>\n",
              "      <td>0.179307</td>\n",
              "      <td>0.106476</td>\n",
              "      <td>0.096257</td>\n",
              "      <td>0.089653</td>\n",
              "      <td>0.089653</td>\n",
              "      <td>0.089653</td>\n",
              "      <td>0.089653</td>\n",
              "      <td>0.089653</td>\n",
              "    </tr>\n",
              "    <tr>\n",
              "      <th>3</th>\n",
              "      <td>0.699259</td>\n",
              "      <td>0.243220</td>\n",
              "      <td>0.206760</td>\n",
              "      <td>0.155070</td>\n",
              "      <td>0.152013</td>\n",
              "      <td>0.135668</td>\n",
              "      <td>0.121610</td>\n",
              "      <td>0.121610</td>\n",
              "      <td>0.121610</td>\n",
              "      <td>0.121610</td>\n",
              "    </tr>\n",
              "    <tr>\n",
              "      <th>4</th>\n",
              "      <td>0.553294</td>\n",
              "      <td>0.514376</td>\n",
              "      <td>0.274371</td>\n",
              "      <td>0.235175</td>\n",
              "      <td>0.184431</td>\n",
              "      <td>0.184431</td>\n",
              "      <td>0.136899</td>\n",
              "      <td>0.117588</td>\n",
              "      <td>0.117588</td>\n",
              "      <td>0.109519</td>\n",
              "    </tr>\n",
              "    <tr>\n",
              "      <th>5</th>\n",
              "      <td>0.503854</td>\n",
              "      <td>0.311910</td>\n",
              "      <td>0.287917</td>\n",
              "      <td>0.275920</td>\n",
              "      <td>0.265152</td>\n",
              "      <td>0.239931</td>\n",
              "      <td>0.179948</td>\n",
              "      <td>0.132576</td>\n",
              "      <td>0.119965</td>\n",
              "      <td>0.101981</td>\n",
              "    </tr>\n",
              "    <tr>\n",
              "      <th>6</th>\n",
              "      <td>0.660840</td>\n",
              "      <td>0.305003</td>\n",
              "      <td>0.305003</td>\n",
              "      <td>0.203335</td>\n",
              "      <td>0.203335</td>\n",
              "      <td>0.152501</td>\n",
              "      <td>0.152501</td>\n",
              "      <td>0.101668</td>\n",
              "      <td>0.101668</td>\n",
              "      <td>0.101668</td>\n",
              "    </tr>\n",
              "    <tr>\n",
              "      <th>7</th>\n",
              "      <td>0.587886</td>\n",
              "      <td>0.574878</td>\n",
              "      <td>0.160333</td>\n",
              "      <td>0.155696</td>\n",
              "      <td>0.152718</td>\n",
              "      <td>0.111993</td>\n",
              "      <td>0.107790</td>\n",
              "      <td>0.107790</td>\n",
              "      <td>0.107790</td>\n",
              "      <td>0.107790</td>\n",
              "    </tr>\n",
              "    <tr>\n",
              "      <th>8</th>\n",
              "      <td>0.714284</td>\n",
              "      <td>0.269889</td>\n",
              "      <td>0.255101</td>\n",
              "      <td>0.189726</td>\n",
              "      <td>0.189726</td>\n",
              "      <td>0.153061</td>\n",
              "      <td>0.153061</td>\n",
              "      <td>0.130116</td>\n",
              "      <td>0.130116</td>\n",
              "      <td>0.113836</td>\n",
              "    </tr>\n",
              "    <tr>\n",
              "      <th>9</th>\n",
              "      <td>0.834820</td>\n",
              "      <td>0.354836</td>\n",
              "      <td>0.166964</td>\n",
              "      <td>0.125223</td>\n",
              "      <td>0.106451</td>\n",
              "      <td>0.093132</td>\n",
              "      <td>0.083482</td>\n",
              "      <td>0.083482</td>\n",
              "      <td>0.083482</td>\n",
              "      <td>0.083482</td>\n",
              "    </tr>\n",
              "  </tbody>\n",
              "</table>\n",
              "</div>\n",
              "      <button class=\"colab-df-convert\" onclick=\"convertToInteractive('df-f8c6e76c-7a68-4597-83cd-5c88cc28b30c')\"\n",
              "              title=\"Convert this dataframe to an interactive table.\"\n",
              "              style=\"display:none;\">\n",
              "        \n",
              "  <svg xmlns=\"http://www.w3.org/2000/svg\" height=\"24px\"viewBox=\"0 0 24 24\"\n",
              "       width=\"24px\">\n",
              "    <path d=\"M0 0h24v24H0V0z\" fill=\"none\"/>\n",
              "    <path d=\"M18.56 5.44l.94 2.06.94-2.06 2.06-.94-2.06-.94-.94-2.06-.94 2.06-2.06.94zm-11 1L8.5 8.5l.94-2.06 2.06-.94-2.06-.94L8.5 2.5l-.94 2.06-2.06.94zm10 10l.94 2.06.94-2.06 2.06-.94-2.06-.94-.94-2.06-.94 2.06-2.06.94z\"/><path d=\"M17.41 7.96l-1.37-1.37c-.4-.4-.92-.59-1.43-.59-.52 0-1.04.2-1.43.59L10.3 9.45l-7.72 7.72c-.78.78-.78 2.05 0 2.83L4 21.41c.39.39.9.59 1.41.59.51 0 1.02-.2 1.41-.59l7.78-7.78 2.81-2.81c.8-.78.8-2.07 0-2.86zM5.41 20L4 18.59l7.72-7.72 1.47 1.35L5.41 20z\"/>\n",
              "  </svg>\n",
              "      </button>\n",
              "      \n",
              "  <style>\n",
              "    .colab-df-container {\n",
              "      display:flex;\n",
              "      flex-wrap:wrap;\n",
              "      gap: 12px;\n",
              "    }\n",
              "\n",
              "    .colab-df-convert {\n",
              "      background-color: #E8F0FE;\n",
              "      border: none;\n",
              "      border-radius: 50%;\n",
              "      cursor: pointer;\n",
              "      display: none;\n",
              "      fill: #1967D2;\n",
              "      height: 32px;\n",
              "      padding: 0 0 0 0;\n",
              "      width: 32px;\n",
              "    }\n",
              "\n",
              "    .colab-df-convert:hover {\n",
              "      background-color: #E2EBFA;\n",
              "      box-shadow: 0px 1px 2px rgba(60, 64, 67, 0.3), 0px 1px 3px 1px rgba(60, 64, 67, 0.15);\n",
              "      fill: #174EA6;\n",
              "    }\n",
              "\n",
              "    [theme=dark] .colab-df-convert {\n",
              "      background-color: #3B4455;\n",
              "      fill: #D2E3FC;\n",
              "    }\n",
              "\n",
              "    [theme=dark] .colab-df-convert:hover {\n",
              "      background-color: #434B5C;\n",
              "      box-shadow: 0px 1px 3px 1px rgba(0, 0, 0, 0.15);\n",
              "      filter: drop-shadow(0px 1px 2px rgba(0, 0, 0, 0.3));\n",
              "      fill: #FFFFFF;\n",
              "    }\n",
              "  </style>\n",
              "\n",
              "      <script>\n",
              "        const buttonEl =\n",
              "          document.querySelector('#df-f8c6e76c-7a68-4597-83cd-5c88cc28b30c button.colab-df-convert');\n",
              "        buttonEl.style.display =\n",
              "          google.colab.kernel.accessAllowed ? 'block' : 'none';\n",
              "\n",
              "        async function convertToInteractive(key) {\n",
              "          const element = document.querySelector('#df-f8c6e76c-7a68-4597-83cd-5c88cc28b30c');\n",
              "          const dataTable =\n",
              "            await google.colab.kernel.invokeFunction('convertToInteractive',\n",
              "                                                     [key], {});\n",
              "          if (!dataTable) return;\n",
              "\n",
              "          const docLinkHtml = 'Like what you see? Visit the ' +\n",
              "            '<a target=\"_blank\" href=https://colab.research.google.com/notebooks/data_table.ipynb>data table notebook</a>'\n",
              "            + ' to learn more about interactive tables.';\n",
              "          element.innerHTML = '';\n",
              "          dataTable['output_type'] = 'display_data';\n",
              "          await google.colab.output.renderOutput(dataTable, element);\n",
              "          const docLink = document.createElement('div');\n",
              "          docLink.innerHTML = docLinkHtml;\n",
              "          element.appendChild(docLink);\n",
              "        }\n",
              "      </script>\n",
              "    </div>\n",
              "  </div>\n",
              "  "
            ]
          },
          "metadata": {},
          "execution_count": 75
        }
      ]
    },
    {
      "cell_type": "code",
      "metadata": {
        "colab": {
          "base_uri": "https://localhost:8080/",
          "height": 363
        },
        "id": "vMqL4PUwzCuF",
        "outputId": "77f2ac42-356b-4eca-9dfa-92694378f442"
      },
      "source": [
        "# 각 문서별 주제별 등장비율\n",
        "pd.DataFrame(topics)"
      ],
      "execution_count": null,
      "outputs": [
        {
          "output_type": "execute_result",
          "data": {
            "text/plain": [
              "     0    1     2     3    4      5     6     7     8      9\n",
              "0   미국  대통령    카터    인권  조지아     선거  대한민국    해결    군사     북한\n",
              "1   수학   분야    발전    공간   구조     연구    개념   기하학    대한     시작\n",
              "2   상수   수학  상관관계    물리   정의    반대말  복소수체    골롬    딕맨     레비\n",
              "3   문학   감상    작품   이야기  문예학     사람    범주    예술  대중문학     씌어\n",
              "4   목록   국가    기준    나라   협약  몬테비데오    포함    정보    조건     대한\n",
              "5   화학   물질    원자   화합물   원소     결합    반응    금속    유기    에너지\n",
              "6   체첸  공화국   러시아  러시아인  체첸인     인구  인구시인    제국    지역     민족\n",
              "7  방정식  맥스웰    법칙    논문   자기     전하    전류  전자기파    유도  헤비사이드\n",
              "8  초월수   집합    가산    문제   증명     수임    초월    대수  힐베르트     제시\n",
              "9   음계   음악   반음계   온음계   이름     전통   장음계   계이름    음정     서양"
            ],
            "text/html": [
              "\n",
              "  <div id=\"df-aedd61da-24ce-4511-8d28-b9d937329326\">\n",
              "    <div class=\"colab-df-container\">\n",
              "      <div>\n",
              "<style scoped>\n",
              "    .dataframe tbody tr th:only-of-type {\n",
              "        vertical-align: middle;\n",
              "    }\n",
              "\n",
              "    .dataframe tbody tr th {\n",
              "        vertical-align: top;\n",
              "    }\n",
              "\n",
              "    .dataframe thead th {\n",
              "        text-align: right;\n",
              "    }\n",
              "</style>\n",
              "<table border=\"1\" class=\"dataframe\">\n",
              "  <thead>\n",
              "    <tr style=\"text-align: right;\">\n",
              "      <th></th>\n",
              "      <th>0</th>\n",
              "      <th>1</th>\n",
              "      <th>2</th>\n",
              "      <th>3</th>\n",
              "      <th>4</th>\n",
              "      <th>5</th>\n",
              "      <th>6</th>\n",
              "      <th>7</th>\n",
              "      <th>8</th>\n",
              "      <th>9</th>\n",
              "    </tr>\n",
              "  </thead>\n",
              "  <tbody>\n",
              "    <tr>\n",
              "      <th>0</th>\n",
              "      <td>미국</td>\n",
              "      <td>대통령</td>\n",
              "      <td>카터</td>\n",
              "      <td>인권</td>\n",
              "      <td>조지아</td>\n",
              "      <td>선거</td>\n",
              "      <td>대한민국</td>\n",
              "      <td>해결</td>\n",
              "      <td>군사</td>\n",
              "      <td>북한</td>\n",
              "    </tr>\n",
              "    <tr>\n",
              "      <th>1</th>\n",
              "      <td>수학</td>\n",
              "      <td>분야</td>\n",
              "      <td>발전</td>\n",
              "      <td>공간</td>\n",
              "      <td>구조</td>\n",
              "      <td>연구</td>\n",
              "      <td>개념</td>\n",
              "      <td>기하학</td>\n",
              "      <td>대한</td>\n",
              "      <td>시작</td>\n",
              "    </tr>\n",
              "    <tr>\n",
              "      <th>2</th>\n",
              "      <td>상수</td>\n",
              "      <td>수학</td>\n",
              "      <td>상관관계</td>\n",
              "      <td>물리</td>\n",
              "      <td>정의</td>\n",
              "      <td>반대말</td>\n",
              "      <td>복소수체</td>\n",
              "      <td>골롬</td>\n",
              "      <td>딕맨</td>\n",
              "      <td>레비</td>\n",
              "    </tr>\n",
              "    <tr>\n",
              "      <th>3</th>\n",
              "      <td>문학</td>\n",
              "      <td>감상</td>\n",
              "      <td>작품</td>\n",
              "      <td>이야기</td>\n",
              "      <td>문예학</td>\n",
              "      <td>사람</td>\n",
              "      <td>범주</td>\n",
              "      <td>예술</td>\n",
              "      <td>대중문학</td>\n",
              "      <td>씌어</td>\n",
              "    </tr>\n",
              "    <tr>\n",
              "      <th>4</th>\n",
              "      <td>목록</td>\n",
              "      <td>국가</td>\n",
              "      <td>기준</td>\n",
              "      <td>나라</td>\n",
              "      <td>협약</td>\n",
              "      <td>몬테비데오</td>\n",
              "      <td>포함</td>\n",
              "      <td>정보</td>\n",
              "      <td>조건</td>\n",
              "      <td>대한</td>\n",
              "    </tr>\n",
              "    <tr>\n",
              "      <th>5</th>\n",
              "      <td>화학</td>\n",
              "      <td>물질</td>\n",
              "      <td>원자</td>\n",
              "      <td>화합물</td>\n",
              "      <td>원소</td>\n",
              "      <td>결합</td>\n",
              "      <td>반응</td>\n",
              "      <td>금속</td>\n",
              "      <td>유기</td>\n",
              "      <td>에너지</td>\n",
              "    </tr>\n",
              "    <tr>\n",
              "      <th>6</th>\n",
              "      <td>체첸</td>\n",
              "      <td>공화국</td>\n",
              "      <td>러시아</td>\n",
              "      <td>러시아인</td>\n",
              "      <td>체첸인</td>\n",
              "      <td>인구</td>\n",
              "      <td>인구시인</td>\n",
              "      <td>제국</td>\n",
              "      <td>지역</td>\n",
              "      <td>민족</td>\n",
              "    </tr>\n",
              "    <tr>\n",
              "      <th>7</th>\n",
              "      <td>방정식</td>\n",
              "      <td>맥스웰</td>\n",
              "      <td>법칙</td>\n",
              "      <td>논문</td>\n",
              "      <td>자기</td>\n",
              "      <td>전하</td>\n",
              "      <td>전류</td>\n",
              "      <td>전자기파</td>\n",
              "      <td>유도</td>\n",
              "      <td>헤비사이드</td>\n",
              "    </tr>\n",
              "    <tr>\n",
              "      <th>8</th>\n",
              "      <td>초월수</td>\n",
              "      <td>집합</td>\n",
              "      <td>가산</td>\n",
              "      <td>문제</td>\n",
              "      <td>증명</td>\n",
              "      <td>수임</td>\n",
              "      <td>초월</td>\n",
              "      <td>대수</td>\n",
              "      <td>힐베르트</td>\n",
              "      <td>제시</td>\n",
              "    </tr>\n",
              "    <tr>\n",
              "      <th>9</th>\n",
              "      <td>음계</td>\n",
              "      <td>음악</td>\n",
              "      <td>반음계</td>\n",
              "      <td>온음계</td>\n",
              "      <td>이름</td>\n",
              "      <td>전통</td>\n",
              "      <td>장음계</td>\n",
              "      <td>계이름</td>\n",
              "      <td>음정</td>\n",
              "      <td>서양</td>\n",
              "    </tr>\n",
              "  </tbody>\n",
              "</table>\n",
              "</div>\n",
              "      <button class=\"colab-df-convert\" onclick=\"convertToInteractive('df-aedd61da-24ce-4511-8d28-b9d937329326')\"\n",
              "              title=\"Convert this dataframe to an interactive table.\"\n",
              "              style=\"display:none;\">\n",
              "        \n",
              "  <svg xmlns=\"http://www.w3.org/2000/svg\" height=\"24px\"viewBox=\"0 0 24 24\"\n",
              "       width=\"24px\">\n",
              "    <path d=\"M0 0h24v24H0V0z\" fill=\"none\"/>\n",
              "    <path d=\"M18.56 5.44l.94 2.06.94-2.06 2.06-.94-2.06-.94-.94-2.06-.94 2.06-2.06.94zm-11 1L8.5 8.5l.94-2.06 2.06-.94-2.06-.94L8.5 2.5l-.94 2.06-2.06.94zm10 10l.94 2.06.94-2.06 2.06-.94-2.06-.94-.94-2.06-.94 2.06-2.06.94z\"/><path d=\"M17.41 7.96l-1.37-1.37c-.4-.4-.92-.59-1.43-.59-.52 0-1.04.2-1.43.59L10.3 9.45l-7.72 7.72c-.78.78-.78 2.05 0 2.83L4 21.41c.39.39.9.59 1.41.59.51 0 1.02-.2 1.41-.59l7.78-7.78 2.81-2.81c.8-.78.8-2.07 0-2.86zM5.41 20L4 18.59l7.72-7.72 1.47 1.35L5.41 20z\"/>\n",
              "  </svg>\n",
              "      </button>\n",
              "      \n",
              "  <style>\n",
              "    .colab-df-container {\n",
              "      display:flex;\n",
              "      flex-wrap:wrap;\n",
              "      gap: 12px;\n",
              "    }\n",
              "\n",
              "    .colab-df-convert {\n",
              "      background-color: #E8F0FE;\n",
              "      border: none;\n",
              "      border-radius: 50%;\n",
              "      cursor: pointer;\n",
              "      display: none;\n",
              "      fill: #1967D2;\n",
              "      height: 32px;\n",
              "      padding: 0 0 0 0;\n",
              "      width: 32px;\n",
              "    }\n",
              "\n",
              "    .colab-df-convert:hover {\n",
              "      background-color: #E2EBFA;\n",
              "      box-shadow: 0px 1px 2px rgba(60, 64, 67, 0.3), 0px 1px 3px 1px rgba(60, 64, 67, 0.15);\n",
              "      fill: #174EA6;\n",
              "    }\n",
              "\n",
              "    [theme=dark] .colab-df-convert {\n",
              "      background-color: #3B4455;\n",
              "      fill: #D2E3FC;\n",
              "    }\n",
              "\n",
              "    [theme=dark] .colab-df-convert:hover {\n",
              "      background-color: #434B5C;\n",
              "      box-shadow: 0px 1px 3px 1px rgba(0, 0, 0, 0.15);\n",
              "      filter: drop-shadow(0px 1px 2px rgba(0, 0, 0, 0.3));\n",
              "      fill: #FFFFFF;\n",
              "    }\n",
              "  </style>\n",
              "\n",
              "      <script>\n",
              "        const buttonEl =\n",
              "          document.querySelector('#df-aedd61da-24ce-4511-8d28-b9d937329326 button.colab-df-convert');\n",
              "        buttonEl.style.display =\n",
              "          google.colab.kernel.accessAllowed ? 'block' : 'none';\n",
              "\n",
              "        async function convertToInteractive(key) {\n",
              "          const element = document.querySelector('#df-aedd61da-24ce-4511-8d28-b9d937329326');\n",
              "          const dataTable =\n",
              "            await google.colab.kernel.invokeFunction('convertToInteractive',\n",
              "                                                     [key], {});\n",
              "          if (!dataTable) return;\n",
              "\n",
              "          const docLinkHtml = 'Like what you see? Visit the ' +\n",
              "            '<a target=\"_blank\" href=https://colab.research.google.com/notebooks/data_table.ipynb>data table notebook</a>'\n",
              "            + ' to learn more about interactive tables.';\n",
              "          element.innerHTML = '';\n",
              "          dataTable['output_type'] = 'display_data';\n",
              "          await google.colab.output.renderOutput(dataTable, element);\n",
              "          const docLink = document.createElement('div');\n",
              "          docLink.innerHTML = docLinkHtml;\n",
              "          element.appendChild(docLink);\n",
              "        }\n",
              "      </script>\n",
              "    </div>\n",
              "  </div>\n",
              "  "
            ]
          },
          "metadata": {},
          "execution_count": 76
        }
      ]
    },
    {
      "cell_type": "markdown",
      "metadata": {
        "id": "q8nnPveTCSvK"
      },
      "source": [
        "## 다.Gensim으로 LDA 모형에 적합"
      ]
    },
    {
      "cell_type": "code",
      "metadata": {
        "colab": {
          "base_uri": "https://localhost:8080/"
        },
        "id": "3UkvwkmrBdOl",
        "outputId": "bd5be1d9-6028-4b12-ea65-2773c8853f76"
      },
      "source": [
        "# LDA 모형 적합, g_dictionary 사전 만들고, g_corpus(word, count)로 정리하고, ldamodel 객체 생성 (토픽4)\n",
        "import gensim\n",
        "g_dictionary = gensim.corpora.Dictionary(tokens)\n",
        "g_corpus = [g_dictionary.doc2bow(text) for text in tokens]\n",
        "ldamodel = gensim.models.ldamodel.LdaModel(corpus=g_corpus, id2word=g_dictionary, num_topics=4, passes=15)\n",
        "print(ldamodel.print_topics())"
      ],
      "execution_count": null,
      "outputs": [
        {
          "output_type": "stream",
          "name": "stdout",
          "text": [
            "[(0, '0.033*\"수학\" + 0.017*\"음계\" + 0.013*\"집합\" + 0.012*\"상수\" + 0.012*\"초월수\" + 0.011*\"분야\" + 0.010*\"연구\" + 0.010*\"개념\" + 0.009*\"발전\" + 0.008*\"대한\"'), (1, '0.031*\"화학\" + 0.019*\"원소\" + 0.019*\"물질\" + 0.018*\"원자\" + 0.017*\"화합물\" + 0.015*\"결합\" + 0.011*\"반응\" + 0.010*\"금속\" + 0.009*\"발견\" + 0.008*\"연구\"'), (2, '0.043*\"방정식\" + 0.032*\"맥스웰\" + 0.015*\"문학\" + 0.012*\"법칙\" + 0.011*\"국가\" + 0.010*\"자기\" + 0.009*\"다음\" + 0.009*\"논문\" + 0.008*\"목록\" + 0.008*\"대한\"'), (3, '0.020*\"미국\" + 0.015*\"대통령\" + 0.014*\"체첸\" + 0.012*\"카터\" + 0.011*\"인권\" + 0.007*\"대해\" + 0.007*\"문제\" + 0.007*\"위해\" + 0.007*\"공화국\" + 0.007*\"러시아\"')]\n"
          ]
        }
      ]
    },
    {
      "cell_type": "code",
      "metadata": {
        "id": "5dy50Zl-DF8w"
      },
      "source": [
        "# 문서별 주요 토픽과 키워드 정리 함수 정의\n",
        "def format_topics_sentences(ldamodel=None, g_corpus=g_corpus, tokens=tokens):\n",
        "    # Init output\n",
        "    sent_topics_df = pd.DataFrame()\n",
        "\n",
        "    # Get main topic in each document\n",
        "    for i, row_list in enumerate(ldamodel[g_corpus]):\n",
        "        row = row_list[0] if ldamodel.per_word_topics else row_list            \n",
        "        # print(row)\n",
        "        row = sorted(row, key=lambda x: (x[1]), reverse=True)\n",
        "        # Get the Dominant topic, Perc Contribution and Keywords for each document\n",
        "        for j, (topic_num, prop_topic) in enumerate(row):\n",
        "            if j == 0:  # => dominant topic\n",
        "                wp = ldamodel.show_topic(topic_num)\n",
        "                topic_keywords = \", \".join([word for word, prop in wp])\n",
        "                sent_topics_df = sent_topics_df.append(pd.Series([int(topic_num), round(prop_topic,4), topic_keywords]), ignore_index=True)\n",
        "            else:\n",
        "                break\n",
        "    sent_topics_df.columns = ['주요토픽', '토픽 기여도', '주요 토픽 키워드']\n",
        "\n",
        "    # Add original text to the end of the output\n",
        "    contents = pd.Series(tokens)\n",
        "    sent_topics_df = pd.concat([sent_topics_df, contents], axis=1)\n",
        "    return(sent_topics_df)\n"
      ],
      "execution_count": null,
      "outputs": []
    },
    {
      "cell_type": "markdown",
      "metadata": {
        "id": "oG4_M7jpLfy1"
      },
      "source": [
        "### 문서별 토픽 정리"
      ]
    },
    {
      "cell_type": "code",
      "metadata": {
        "colab": {
          "base_uri": "https://localhost:8080/",
          "height": 598
        },
        "id": "T9pv55jjDhSG",
        "outputId": "96042750-7122-4de9-ebe7-9a99cd91d0ad"
      },
      "source": [
        "# 문서별 토픽정리 \n",
        "df_topic_sents_keywords = format_topics_sentences(ldamodel=ldamodel, g_corpus=g_corpus, tokens=tokens)\n",
        "\n",
        "# Format\n",
        "df_dominant_topic = df_topic_sents_keywords.reset_index()\n",
        "df_dominant_topic.columns = ['문서번호', '주요토픽', '토픽 기여도', '키워드', '토큰']\n",
        "df_dominant_topic"
      ],
      "execution_count": null,
      "outputs": [
        {
          "output_type": "execute_result",
          "data": {
            "text/plain": [
              "   문서번호  주요토픽  토픽 기여도                                        키워드  \\\n",
              "0     0   3.0  0.9984  미국, 대통령, 체첸, 카터, 인권, 대해, 문제, 위해, 공화국, 러시아   \n",
              "1     1   0.0  0.9987    수학, 음계, 집합, 상수, 초월수, 분야, 연구, 개념, 발전, 대한   \n",
              "2     2   0.0  0.9839    수학, 음계, 집합, 상수, 초월수, 분야, 연구, 개념, 발전, 대한   \n",
              "3     3   2.0  0.9977   방정식, 맥스웰, 문학, 법칙, 국가, 자기, 다음, 논문, 목록, 대한   \n",
              "4     4   2.0  0.9947   방정식, 맥스웰, 문학, 법칙, 국가, 자기, 다음, 논문, 목록, 대한   \n",
              "5     5   1.0  0.9993    화학, 원소, 물질, 원자, 화합물, 결합, 반응, 금속, 발견, 연구   \n",
              "6     6   3.0  0.9943  미국, 대통령, 체첸, 카터, 인권, 대해, 문제, 위해, 공화국, 러시아   \n",
              "7     7   2.0  0.9989   방정식, 맥스웰, 문학, 법칙, 국가, 자기, 다음, 논문, 목록, 대한   \n",
              "8     8   0.0  0.9941    수학, 음계, 집합, 상수, 초월수, 분야, 연구, 개념, 발전, 대한   \n",
              "9     9   0.0  0.9931    수학, 음계, 집합, 상수, 초월수, 분야, 연구, 개념, 발전, 대한   \n",
              "\n",
              "                                                  토큰  \n",
              "0  [지미, 카터, 제임스, 지미, 카터, 주니어, 민주당, 출신, 미국, 대통령, 지...  \n",
              "1  [수학, 수학, 구조, 공간, 변화, 미적분, 개념, 학문, 현대, 수학, 형식, ...  \n",
              "2  [수학, 상수, 수학, 상수, 변량, 변수, 반대말, 물리, 상수, 달리, 수학, ...  \n",
              "3  [문학, 문학, 언어, 예술, 표현, 제재, 의미, 출하, 인간, 사회, 묘사, 예...  \n",
              "4  [나라, 목록, 문서, 나라, 목록, 세계, 나라, 현황, 주권, 승인, 정보, 개...  \n",
              "5  [화학, 화학, 물질, 성질, 조성, 구조, 변화, 수반, 에너지, 변화, 연구, ...  \n",
              "6  [체첸, 공화국, 체첸, 공화국, 체첸, 러시아, 공화국, 체첸, 사용, 언어, 체...  \n",
              "7  [맥스웰, 방정식, 맥스웰, 방정식, 전기, 자기, 발생, 전기장, 자기장, 전하,...  \n",
              "8  [초월수, 초월수, 계수, 유리수, 방정식, 해도, 복소수, 방정식, 수인, 대수,...  \n",
              "9  [음계, 음계, 음악, 음높이, 순서, 집합, 악곡, 주로, 구성, 음계, 종류, ...  "
            ],
            "text/html": [
              "\n",
              "  <div id=\"df-d915c437-8655-4690-aafd-2bd9479a9827\">\n",
              "    <div class=\"colab-df-container\">\n",
              "      <div>\n",
              "<style scoped>\n",
              "    .dataframe tbody tr th:only-of-type {\n",
              "        vertical-align: middle;\n",
              "    }\n",
              "\n",
              "    .dataframe tbody tr th {\n",
              "        vertical-align: top;\n",
              "    }\n",
              "\n",
              "    .dataframe thead th {\n",
              "        text-align: right;\n",
              "    }\n",
              "</style>\n",
              "<table border=\"1\" class=\"dataframe\">\n",
              "  <thead>\n",
              "    <tr style=\"text-align: right;\">\n",
              "      <th></th>\n",
              "      <th>문서번호</th>\n",
              "      <th>주요토픽</th>\n",
              "      <th>토픽 기여도</th>\n",
              "      <th>키워드</th>\n",
              "      <th>토큰</th>\n",
              "    </tr>\n",
              "  </thead>\n",
              "  <tbody>\n",
              "    <tr>\n",
              "      <th>0</th>\n",
              "      <td>0</td>\n",
              "      <td>3.0</td>\n",
              "      <td>0.9984</td>\n",
              "      <td>미국, 대통령, 체첸, 카터, 인권, 대해, 문제, 위해, 공화국, 러시아</td>\n",
              "      <td>[지미, 카터, 제임스, 지미, 카터, 주니어, 민주당, 출신, 미국, 대통령, 지...</td>\n",
              "    </tr>\n",
              "    <tr>\n",
              "      <th>1</th>\n",
              "      <td>1</td>\n",
              "      <td>0.0</td>\n",
              "      <td>0.9987</td>\n",
              "      <td>수학, 음계, 집합, 상수, 초월수, 분야, 연구, 개념, 발전, 대한</td>\n",
              "      <td>[수학, 수학, 구조, 공간, 변화, 미적분, 개념, 학문, 현대, 수학, 형식, ...</td>\n",
              "    </tr>\n",
              "    <tr>\n",
              "      <th>2</th>\n",
              "      <td>2</td>\n",
              "      <td>0.0</td>\n",
              "      <td>0.9839</td>\n",
              "      <td>수학, 음계, 집합, 상수, 초월수, 분야, 연구, 개념, 발전, 대한</td>\n",
              "      <td>[수학, 상수, 수학, 상수, 변량, 변수, 반대말, 물리, 상수, 달리, 수학, ...</td>\n",
              "    </tr>\n",
              "    <tr>\n",
              "      <th>3</th>\n",
              "      <td>3</td>\n",
              "      <td>2.0</td>\n",
              "      <td>0.9977</td>\n",
              "      <td>방정식, 맥스웰, 문학, 법칙, 국가, 자기, 다음, 논문, 목록, 대한</td>\n",
              "      <td>[문학, 문학, 언어, 예술, 표현, 제재, 의미, 출하, 인간, 사회, 묘사, 예...</td>\n",
              "    </tr>\n",
              "    <tr>\n",
              "      <th>4</th>\n",
              "      <td>4</td>\n",
              "      <td>2.0</td>\n",
              "      <td>0.9947</td>\n",
              "      <td>방정식, 맥스웰, 문학, 법칙, 국가, 자기, 다음, 논문, 목록, 대한</td>\n",
              "      <td>[나라, 목록, 문서, 나라, 목록, 세계, 나라, 현황, 주권, 승인, 정보, 개...</td>\n",
              "    </tr>\n",
              "    <tr>\n",
              "      <th>5</th>\n",
              "      <td>5</td>\n",
              "      <td>1.0</td>\n",
              "      <td>0.9993</td>\n",
              "      <td>화학, 원소, 물질, 원자, 화합물, 결합, 반응, 금속, 발견, 연구</td>\n",
              "      <td>[화학, 화학, 물질, 성질, 조성, 구조, 변화, 수반, 에너지, 변화, 연구, ...</td>\n",
              "    </tr>\n",
              "    <tr>\n",
              "      <th>6</th>\n",
              "      <td>6</td>\n",
              "      <td>3.0</td>\n",
              "      <td>0.9943</td>\n",
              "      <td>미국, 대통령, 체첸, 카터, 인권, 대해, 문제, 위해, 공화국, 러시아</td>\n",
              "      <td>[체첸, 공화국, 체첸, 공화국, 체첸, 러시아, 공화국, 체첸, 사용, 언어, 체...</td>\n",
              "    </tr>\n",
              "    <tr>\n",
              "      <th>7</th>\n",
              "      <td>7</td>\n",
              "      <td>2.0</td>\n",
              "      <td>0.9989</td>\n",
              "      <td>방정식, 맥스웰, 문학, 법칙, 국가, 자기, 다음, 논문, 목록, 대한</td>\n",
              "      <td>[맥스웰, 방정식, 맥스웰, 방정식, 전기, 자기, 발생, 전기장, 자기장, 전하,...</td>\n",
              "    </tr>\n",
              "    <tr>\n",
              "      <th>8</th>\n",
              "      <td>8</td>\n",
              "      <td>0.0</td>\n",
              "      <td>0.9941</td>\n",
              "      <td>수학, 음계, 집합, 상수, 초월수, 분야, 연구, 개념, 발전, 대한</td>\n",
              "      <td>[초월수, 초월수, 계수, 유리수, 방정식, 해도, 복소수, 방정식, 수인, 대수,...</td>\n",
              "    </tr>\n",
              "    <tr>\n",
              "      <th>9</th>\n",
              "      <td>9</td>\n",
              "      <td>0.0</td>\n",
              "      <td>0.9931</td>\n",
              "      <td>수학, 음계, 집합, 상수, 초월수, 분야, 연구, 개념, 발전, 대한</td>\n",
              "      <td>[음계, 음계, 음악, 음높이, 순서, 집합, 악곡, 주로, 구성, 음계, 종류, ...</td>\n",
              "    </tr>\n",
              "  </tbody>\n",
              "</table>\n",
              "</div>\n",
              "      <button class=\"colab-df-convert\" onclick=\"convertToInteractive('df-d915c437-8655-4690-aafd-2bd9479a9827')\"\n",
              "              title=\"Convert this dataframe to an interactive table.\"\n",
              "              style=\"display:none;\">\n",
              "        \n",
              "  <svg xmlns=\"http://www.w3.org/2000/svg\" height=\"24px\"viewBox=\"0 0 24 24\"\n",
              "       width=\"24px\">\n",
              "    <path d=\"M0 0h24v24H0V0z\" fill=\"none\"/>\n",
              "    <path d=\"M18.56 5.44l.94 2.06.94-2.06 2.06-.94-2.06-.94-.94-2.06-.94 2.06-2.06.94zm-11 1L8.5 8.5l.94-2.06 2.06-.94-2.06-.94L8.5 2.5l-.94 2.06-2.06.94zm10 10l.94 2.06.94-2.06 2.06-.94-2.06-.94-.94-2.06-.94 2.06-2.06.94z\"/><path d=\"M17.41 7.96l-1.37-1.37c-.4-.4-.92-.59-1.43-.59-.52 0-1.04.2-1.43.59L10.3 9.45l-7.72 7.72c-.78.78-.78 2.05 0 2.83L4 21.41c.39.39.9.59 1.41.59.51 0 1.02-.2 1.41-.59l7.78-7.78 2.81-2.81c.8-.78.8-2.07 0-2.86zM5.41 20L4 18.59l7.72-7.72 1.47 1.35L5.41 20z\"/>\n",
              "  </svg>\n",
              "      </button>\n",
              "      \n",
              "  <style>\n",
              "    .colab-df-container {\n",
              "      display:flex;\n",
              "      flex-wrap:wrap;\n",
              "      gap: 12px;\n",
              "    }\n",
              "\n",
              "    .colab-df-convert {\n",
              "      background-color: #E8F0FE;\n",
              "      border: none;\n",
              "      border-radius: 50%;\n",
              "      cursor: pointer;\n",
              "      display: none;\n",
              "      fill: #1967D2;\n",
              "      height: 32px;\n",
              "      padding: 0 0 0 0;\n",
              "      width: 32px;\n",
              "    }\n",
              "\n",
              "    .colab-df-convert:hover {\n",
              "      background-color: #E2EBFA;\n",
              "      box-shadow: 0px 1px 2px rgba(60, 64, 67, 0.3), 0px 1px 3px 1px rgba(60, 64, 67, 0.15);\n",
              "      fill: #174EA6;\n",
              "    }\n",
              "\n",
              "    [theme=dark] .colab-df-convert {\n",
              "      background-color: #3B4455;\n",
              "      fill: #D2E3FC;\n",
              "    }\n",
              "\n",
              "    [theme=dark] .colab-df-convert:hover {\n",
              "      background-color: #434B5C;\n",
              "      box-shadow: 0px 1px 3px 1px rgba(0, 0, 0, 0.15);\n",
              "      filter: drop-shadow(0px 1px 2px rgba(0, 0, 0, 0.3));\n",
              "      fill: #FFFFFF;\n",
              "    }\n",
              "  </style>\n",
              "\n",
              "      <script>\n",
              "        const buttonEl =\n",
              "          document.querySelector('#df-d915c437-8655-4690-aafd-2bd9479a9827 button.colab-df-convert');\n",
              "        buttonEl.style.display =\n",
              "          google.colab.kernel.accessAllowed ? 'block' : 'none';\n",
              "\n",
              "        async function convertToInteractive(key) {\n",
              "          const element = document.querySelector('#df-d915c437-8655-4690-aafd-2bd9479a9827');\n",
              "          const dataTable =\n",
              "            await google.colab.kernel.invokeFunction('convertToInteractive',\n",
              "                                                     [key], {});\n",
              "          if (!dataTable) return;\n",
              "\n",
              "          const docLinkHtml = 'Like what you see? Visit the ' +\n",
              "            '<a target=\"_blank\" href=https://colab.research.google.com/notebooks/data_table.ipynb>data table notebook</a>'\n",
              "            + ' to learn more about interactive tables.';\n",
              "          element.innerHTML = '';\n",
              "          dataTable['output_type'] = 'display_data';\n",
              "          await google.colab.output.renderOutput(dataTable, element);\n",
              "          const docLink = document.createElement('div');\n",
              "          docLink.innerHTML = docLinkHtml;\n",
              "          element.appendChild(docLink);\n",
              "        }\n",
              "      </script>\n",
              "    </div>\n",
              "  </div>\n",
              "  "
            ]
          },
          "metadata": {},
          "execution_count": 79
        }
      ]
    },
    {
      "cell_type": "code",
      "metadata": {
        "colab": {
          "base_uri": "https://localhost:8080/"
        },
        "id": "wEh3bTW7E-KY",
        "outputId": "6f57a1fc-7481-4129-f3ed-652eed1d8005"
      },
      "source": [
        "# 문서별 주요 토큰 비교 \n",
        "corpus"
      ],
      "execution_count": null,
      "outputs": [
        {
          "output_type": "execute_result",
          "data": {
            "text/plain": [
              "['지미 카터 제임스 지미 카터 주니어 민주당 출신 미국 대통령 지미 카터 조지아주 섬터 카운티 플레인스 마을 조지아 공과 대학교 졸업 해군 전함 원자력 잠수함 승무원 미국 해군 대위 이후 땅콩 면화 별명 땅콩 농부 조지아 상원 의원 선거 낙선 하나 선거 부정선거 입증 당선 조지아 지사 선거 낙선 조지아 지사 역임 대통령 조지아주 상원의원 조지아 지사 근무 조지아 지사 미국 흑인 용법 대통령 선거 민주당 후보 출마 도덕 주의 정책 포드 당선 카터 대통령 에너지 개발 촉구 공화당 반대 무산 카터 이집트 이스라엘 조정 캠프 데이비드 안와르 사다트 대통령 메나헴 수상 중동 평화 캠프데이비드 협정 체결 공화당 미국 유대인 단체 반발 백악관 양국 평화조약 또한 소련 전략 무기 제한 협상 조인 카터 후반 당시 대한민국 인권 후진국 국민 인권 위해 노력 취임 이후 계속 도덕 정치 이란 미국 대사관 인질 사건 인질 구출 실패 이유 대통령 선거 공화당 로널드 레이건 후보 재선 또한 임기 말기 소련 아프가니스탄 침공 사건 올림픽 국가 보이콧 지미 카터 대한민국 관계 영향 대통령 하나 인권 문제 미군 철수 문제 한미 관계 대한민국 대한 북한 위협 대비 한미연합사 창설 단계 미군 철수 미군 사령부 정보기관 의회 반대 미군 완전 철수 대신 감축 또한 박정희 정권 인권 문제 논란 불협화음 하순 대한민국 방문 관계 다소 회복 대한민국 정치 격변 당시 대통령 대해 태도 대한민국 고조 반미 운동 원인 박정희 대통령 김재규 중앙 정보 부장 살해 대해 사건 충격 사이러스 밴스 국무장관 사절 파견 군사 반란 쿠데타 대해 초기 비난 미국 정부 신군부 설득 한계 묵인 태도 보이 퇴임 이후 민간 자원 적극 활용 비영리 기구 카터 재단 설립 민주주의 실현 위해 세계 선거 감시 활동 기니 벌레 드라쿤쿠르스 질병 방재 위해 미국 빈곤층 지원 활동 사랑 집짓기 운동 국제 분쟁 중재 활동 카터 카터 행정부 이후 미국 북핵 위기 코소보 전쟁 이라크 전쟁 미국 군사 행동 최후 선택 전통 사고 군사 행동 선행 행위 대해 유감 표시 미국 군사 활동 반대 입장 보이 국제 분쟁 조정 위해 북한 김일성 아이티 라스 장군 팔레 인스타 하마스 보스니아 세르비아 정권 미국 정부 대해 협상 거부 사태 위기 초래 인물 단체 직접 분쟁 원인 근본 해결 위해 과정 미국 행정부 갈등 전직 대통령 권한 재야 유명 인사 활약 해결 채결 캠프데이비드 협정 이행 지지 부진 하자 중동 분쟁 분제 해결 위해 퇴임 직접 이스라엘 팔레 인스타 오슬로 협정 북핵 위기 당시 북한 대한 미국 군사 행동 임박 미국 전직 대통령 처음 북한 방문 미국 양국 중재 기여 위기 해결 평가 또한 김영삼 대통령 김일성 주석 만남 주선 그로 주일 김일성 갑자기 사망 김일성 김영삼 정상회담 미국 관타나모 용소 문제 세계 인권 문제 관심 유엔 유엔 인권 고등판무관 제도 시행 노력 독재자 인권 유린 대해 제약 국제 재판소 기여 독재자 인권 유린 범죄자 재판소 회부 국제 처벌 인권 신장 기여 북한 방문 문제 해결 이란 미국 대사관 인질 사건 발목 대통령 평가 이란 사태 미국 이란 재산 조건 사실 카터 해결 사랑 집짓기 운동 퇴임 존경 미국 대통령 인물 인권 중재 역할 대한 공로 노벨 평화상',\n",
              " '수학 수학 구조 공간 변화 미적분 개념 학문 현대 수학 형식 논리 이용 공리 구성 추상 구조 연구 학문 기도 수학 구조 발전 과정 자연과학 물리학 비롯 다른 학문 연관 과학 분야 달리 자연계 관측 개념 대해 이론 일반 추상화 차이 수학자 개념 대해 추측 선택 정의 공리 로부터 연역 통해 추측 진위 파악 수학 숫자 세기 계산 측정 물리 대상 모양 움직임 추상화 논리 추론 적용 기본 개념 고대 이집트 메소포타미아 고대 인도 고대 중국 고대 그리스 수학 유클리드 원론 논증 발견 발전 계속 세기 르네상스 수학 발전 과학 방법 상호 작용 혁명 연구 진행 인류 문명 영향 현재 계속 오늘날 수학 자연과학 공학 의학 경제학 사회과학 도구로 서도 사용 수학 분야 적용 응용수학 결과 로써 수학 자체 발전 분야 응용 수학 자체 재미 추구 연구 순수수학 시간 지난 순수수학 연구 다른 분야 응용 방법 발견 경우 대부분 자료 수리 라틴어 그리스어 유래 학식 유래 표현 수학 기원전 탈레스 로부터 시작 탈레스 수학 연구 사람 수도 때문 인류 역사 시작 교역 분배 과세 인류 사회 생활 모든 계산 수학 담당 농경 생활 필수 천문 관측 달력 제정 토지 측량 또한 수학 직접 관여 분야 고대 수학 크게 발전 나라 이집트 인도 그리스 중국 그리스 처음 수학 방정식 변수 문자 나라 한국 수학 기록 시작 신라 시대 수학 탈레스 최초 발견 일식 월식 예측 정도 발달 조선 시대 훈민정음 창제 세종 대왕 집현전 학자 수학 연구 조선 수학 수준 향상 위해 노력 임진왜란 서적 천문학 분야 손실 조선 후기 한국 수학 실학자 중심 다시 발전 결과 성취 수학 분야 상업 계산 위해 숫자 관계 이해 위해 토지 측량 위해 천문학 사건 예견 위해 발전 가지 목적 대략 수학 대상 구조 공간 변화 대응 수학 분야 각각 산술 대수학 기하학 해석학 또한 근대 이후 수학기초론 이산수학 응용수학 산술 자연수 정수 대한 사칙연산 대한 연구 로서 시작 수론 주제 학문 결과 페르마 마지막 정리 또한 쌍둥이 소수 추측 골드 바흐 추측 비롯 세월 동안 해결 문제 여럿 수의 체계 발전 정수 집합 유리수 집합 부분집합 여기 또한 유리수 집합 실수 집합 부분집합 복소수 집합 일부분 여기 사원수 팔원수 개념 생각 수도 약간 다른 방향 자연수 무한대 간다 개념 형식 순서수 개념 집합 크기 비교 이용 무한대 방법 기수 개념 대신 문자 문제해결 마찬가지 수학 법칙 일반 간명 포함 대수학 대수 방정식 방정식 해법 시작 추상대수학 현대 대수 구조 중심 선형대수학 전개 수의 집합 함수 수학 대상 재적 구조 대상 구조 특성 군론 환론 체론 대수 구조 연구 그것 하나 하나 재적 구조 수학 대상 분야 개념 벡터 벡터 공간 일반 선형대수학 지식 벡터 연구 산술 대수 기하 수학 분야 조합 벡터 미적분학 여기 해석학 영역 추가 텐서 미적분학 대칭성 회전 축의 영향 아래 벡터 움직임 연구 눈금 컴퍼스 관련 고대 미해결 문제 갈루아 이론 사용 비로소 해결 공간 대한 연구 기하학 시작 유클리드 기하학 비롯 삼각법 공간 피타고라스 정리 포함 현대 공간 대한 연구 개념 차원 기하학 위해 유클리드 기하학 상대성이론 핵심 역할 위상수학 일반 수론 공간 대한 이해 모두 해석 기하학 미분기하학 대수기하학 역할 군도 공간 구조 변화 사용 위상수학 세기 수학 지류 괄목 성장 분야 푸앵카레 추측 인간 증명 오직 컴퓨터 로만 증명 정리 포함 변화 대한 이해 묘사 자연과학 일반 주제 미적분학 변화 탐구 도구로 발전 함수 변화 묘사 중추 개념 실수 변수 구성 함수 탐구 실해석학 분야 복소수 대한 탐구 분야 복소해석학 함수해석학 함수 공간 무한 차원 탐구 주목 함수해석학 응용분야 하나 양자역학 문제 자연 변화율 관계 귀착 문제 미분방정식 자연 현상 동역학계 기술 혼돈 이론 예측 현상 탐구 기여 수학 기초 위해 수리논리학 집합론 발전 범주론 최근 발전 근본 위기 대략 사이 수학 기초 대한 탐구 상징 수학 기초 대한 가지 의견 일치 오늘날 계속 수학 기초 대한 위기 당시 논쟁 촉발 논쟁 칸토어 집합론 브라우 힐베르트 논쟁 포함',\n",
              " '수학 상수 수학 상수 변량 변수 반대말 물리 상수 달리 수학 상수 물리 측정 정의 수학 상수 대개 실수체 복소수체 원소 우리 이야기 상수 거의 대부분 계산 정의 수이 특정 수학 상수 골롬 딕맨 상수 프랑 로빈슨 상수 레비 상수 상수 다른 수학 상수 함수 상관관계 상관관계',\n",
              " '문학 문학 언어 예술 표현 제재 의미 출하 인간 사회 묘사 예술 하위 분야 설명 언어 통해 인간 미적 형상 문학 원래 문예 문학 학문 대상 탐구 학문 명칭 역시 문예학 문예학 음악 사학 미술사학 예술 핵심 분야 로서 인문학 하위 범주 포함 일반 문학 정의 텍스트 집합 각각 국가 고유 문학 기업 철학 조류 역사 시대 마찬가지 국가 문학 분류 고대 그리스어 성서 베오울프 일리아드 미국 헌법 분류 범주 일반 문학 주제 이야기 희곡 모음 경우 이야기 희곡 민족주의 색채 수도 수도 문학 부분 아이템 구분 매우 일이 사람 문학 상징 기록 형태 이미지 조각 자로 사람 문학 오직 문자 텍스트 구성 포함 보수 사람 개념 물리 형태 텍스트 여야 대개 형태 종이 매체 디지털 미디어 문학 몇몇 인기 기록 형태 작업 소위 대중문학 사이 인식 차이점 존재 문학 허구성 문학 재능 종종 개별 작품 구별 사용 찰스 디킨즈 작품 대부분 사람 문학 제프리 작품 영문학 일반 범주 아래 두기 다소 가치 생각 또한 문법 어법 이야기 혼란 신뢰 주지 인물 성격 관성 경우 문학 제외 로맨스 범죄소설 과학소설 장르 소설 문학 간주 경우 대부분 대중문학 범주 포함 문학 분류 방법 다음 구분 편의 발생 대별 문학 처음 종류 노래 분화 중심 발달 연극 노래 발달 발달 산문 이야기 정형시 자유시 산문시 또한 서사시 서정시 산문 사건 중심 이야기 근대 리얼리즘 수법 이후 인물 성격 묘사 중심 소설 이야기 소설 구상 작자 흥미 씌어 잡문 수필 날짜 씌어 일기 여행 과정 씌어 기행문 일기 마찬가지 발표 의도 서간 사건 경험 회고록 사건 특정시 한정 자서전 제삼자 씌어 전기 또한 포함 예술 작품 가치 평가 시도 평론 대중문학 상업성 대중 겨냥 통속 흥미 욕구 문학 대중문학 하위 장르 여러가지 문학 창작 예술가 가라 문예학 연구 사람 문예학 문학 창작 사람 저술가 문예학 언어학자 어문학자 언어 언어 사용 예술인 문학 현격 차이 주의 반영론 관점 감상 작품 창작 당시 시대 정황 연결 감상 입장 재적 관점 감상 작품 형식 내용 국한 감상 표현론 관점 감상 작가 기적 사실 작품 연결 감상 수용론 관점 감상 독자 작품 연결 감상',\n",
              " '나라 목록 문서 나라 목록 세계 나라 현황 주권 승인 정보 개요 형태 목록 명료 위해 부분 목록 모두 가나다 순이 일부 국가 경우 국가 로서 자격 논쟁 여부 때문 목록 엮는 매우 논란 과정 목록 구성 국가 선정 기준 대한 정보 포함 기준 단락 통해 설명 나라 대한 일반 정보 국가 문서 설명 목록 주권 주장 점유 영토 실제 관리 국가 외교관 나라 설명 소형 국가 목록 포함 목록 국가 기준 몬테비데오 협약 참고 협정 국가 다음 조건 마지막 조건 국제 공동체 참여 용인 내포 때문 다른 나라 승인 매우 역할 목록 포함 모든 국가 보통 기준 자주 독립 국가 몬테비데오 협약 기준 여부 국가 논쟁 실정 또한 몬테비데오 협약 기준 국가 지위 자격 국제 견해 존재 물음 대한 다른 이론 대한 고리 아래 기준 목록 다음 국가 포함 목록 포함 다음 국가 몬테비데오 협약 모든 조건 거나 자주 독립 적임 주장 국가',\n",
              " '화학 화학 물질 성질 조성 구조 변화 수반 에너지 변화 연구 자연과학 분야 물리학 역시 물질 학문 물리학 원소 화합물 모두 포함 물체 운동 에너지 기적 광학 기계 속성 현상 통일 이론 구축 달리 화학 물질 자체 연구 대상 화학 존재 물질 이용 목적 물질 합성 제공 농작물 증산 질병 치료 예방 에너지 효율 증대 환경오염 감소 여러 가지 이점 제공 고대 화학 초기 야금 야금 금속 광석 추출 정련 기술 인간 발견 최초 기록 금속 보이 구석기 후기 스페인 동굴 소량 천연 발견 구리 주석 유성 또한 고대 문화 제한 금속 가공 허용 문화 발견 기원전 유성 철제 이집트 무기 천국 단검 높이 평가 통제 방식 사용 최초 화학 반응 천년 동안 물질 다른 물질 나무 변형 초기 사회 여러 측면 영향 요리 서식지 조명 일상 생활 가장 도기 벽돌 금속 도구 고급 기술 유리 발견 금속 정화 불로 야금 부상 야금 초기 단계 금속 정화 방법 요구 금은 초기 고대 이집트 금속 세기 세기 초기 화학 로버트 영국 미국인 화학자 로버트 연금술 대한 현대 과학 방법 정제 화학 연금술 분리 생각 연구 연금술 전통 뿌리 불구 오늘날 현대 화학자 이자 화학 창시자 이자 현대 실험 과학 방법 선구자 사람 불리 원래 발견 제시 법칙 가장 법칙 온도 폐쇄된 시스템 유지 가스 절대 압력 부피 반비례 의미 또한 화학 분야 초석 간주 의심 화학자 대한 획기 저서 작품 모든 현상 입자 충돌 결과 가설 시한 화학자 실험 호소 실험 지구 화염 공기 전적 가지 원소 화학 원소 부인 또한 화학 의학 연금술 종속 과학 지위 부상 중단 촉구 과학 실험 대한 접근 방식 주장 모든 이론 사실 간주 실험 입증 작품 원자 분자 화학 반응 가장 초기 현대 아이디어 포함 현대 화학 역사 시작 또한 화학 물질 정제 재현 반응 시도 재료 물질 물리 특성 상호 작용 설명 정량 위해 제안 기계 철학 보컬 지지자 원자 핵론 원자 입자 선호 속성 유지 물질 가장 정밀 부분 미립 수준 논평 또한 공기 펌프 조사 수행 공기 펌프 수은 또한 컨테이너 공기 펌핑하 화염 내부 동물 관찰 과거 화학 이상 기초 요소 존재 기초 요소 원자 원자 물질 구성 기본 입자 고대 그리스 데모 크리 토스 존재 주장 돌턴 원자론 정리 세기 화학자 원자 구성 입자 전자 양성자 중성자 존재 사실 발견 전자 음전하 양성자 양전하 중성자 전하 원자 양성자 중성자 구성 원자핵 가지 전자 주변 오비탈 분포 원소 일반 화학 물리학 방법 분해 물질 의미 원소 원자핵 존재 양성자 수로 정의 원자 번호 구별 산소 주석 원소 세기 중엽 가지 원소 발견 주기율 배열 동위원소 아이 토프 동위 체라 고도 서로 화학 거의 구별 그것 구성 원자 질량 서로 다른 원소 동위원소 영어 그리스어 장소 합성어 질량 서로 달라 원소 주기율표 장소 배열 영국 화학자 소디 명칭 대부분 원소 동위 원소 동위 원소 원자 번호 중성자 수가 다른 원소 동위 원소 화학 성질 원자량 차이 이용 분리 자연 발견 원소 동위 원소 지표면 존재 자연 발견 동위 원소 핵반응 이용 동위 원소 방사 가지 기도 경우 동위 원소 원자핵 방사선 방출 자연 붕괴 원소 원자 질량 양성자 수가 다른 원소 원소 화학 물리 성질 분자 원자 결합체 독립 입자 로서 작용 단위체 개수 원자 정렬 서로 분자 형성 원자 원소 최소 단위 분자 화합물 최소 단위 원자 결합 전자 재배 치가 화학 관심사 하나 화학 반응 원자 분자 화학 변화 화학 반응 원자 결합 일과 다시 포함 결합 에너지 흡수 결합 에너지 방출 화학 반응 수소 산소 반응 물이 반응 다음 반응 화학 반응 원자 일어나지 에너지 엔탈피 변화 반응 발열반응 수도 흡열반응 수도 발열반응 주위 방출 반응 엔탈피 변화 음수 반면 흡열반응 주위 흡수 반응 엔탈피 변화 양수 반응 경우 발열반응 계로 주위 이동 의미 화학 결합 가지 부류 이온 결합 공유 결합 금속결합 이온 전하 원자 분자 이온 결합 양전하 음전하 기적 인력 화학 결합 염화 나트륨 양전하 나트륨 이온 음전하 염화 이온 사이 기적 결합 이온 화합물 물질 이온 분자 수화 수용액 전기전도도 공유 결합 오비탈 결과 원자 전자 공유 결합 의미 공유 결합 형성 결합 발열반응 방출 에너지 합의 결합 에너지 결합 에너지 에너지 결합 결합 금속 결합 금속 원자 전자 자유전자 결합 의미 금속 특성 연성 전성 이유 화합물 구성 원자 종류 배치 특성 결정 자연 인공 합성 화합물 대부분 유기 화합물 유기 화합물 화학 원소 탄소 다른 화학 원소 매우 사슬 형태 정렬 이성질체 형성 분자식 서로 다른 화합물 화학 취급 대상 대상 취급 방법 따라서 가지 분과 구분 물질 분석 분석화학 크게 물질 존재 취급 정성 분석 물질 결정 정량 분석 탄소 포함 유기 화합물 유기화학 유기 화합물 제외 무기 화합물 무기화학 물리학 화학 경계 물리화학 생물학 경계 생화학 물리화학 분자 구조 성질 관계 부분 화학 기도 세계 대전 이후 방사성 물질 방사 화학 발전 화학 공업 공업화 학도 화학 분과 매우 화학 분과 전통 다음 가지 각각 분과 더욱 세분 무기화학 유기화학 물질 주로 금속 준금속 포함 물질 대해 연구 따라서 무기화학 매우 범위 화합물 초기 광물 구성 원소 발견 주요 관심사 여기 부터 지구화학 분기 주로 전이 금속 이용 촉매 생물 산소 수송 광합성 질소 고정 과정 역할 금속 원자 대해 연구 세라믹 복합 재료 초전도체 대한 연구 물리화학 화학 현상 대한 해석 설명 물리 원리 대해 분과 화학반응 관련 열역학 원리 물질 물리학 성질 대한 설명 물리화학 전적 주제 물리화학 양자화학 발전 기여 분광 자기 공명 회절 기기 물리화학 사용 실험 장비 실험 방법 다른 화학 분과 매우 사용 물리화학 대상 유기 화합물 무기 화합물 혼합물 모두 포함 분석화학 물질 조성 혼합물 구성요소 결정 방법 대해 연구 화학 분과 혼합물 성분 탐색 분리 정량 분자 원자 비율 측정 분자식 결정 분석화학 분석화학 발전 질량 분석 포함 분석 기구 등장 해상도 크로마토그래피 전기화학 실험 방법 분석화학 분석 분석화학 최종 목표 측정 측정 기기 개발 분석화학 발전 환경오염 물질 피코 그램 수준 감지 생화학 생물 화학 관점 학문 식물 동물 세포 발견 물질 화학 반응 관심사 생명체 발견 탄수화물 지방 단백질 핵산 호르몬 유기 화합물 유기화학 기도 하나 화합물 관련 물질대사 과정 조절 과정 대한 연구 생화학 고유 분야 효소 조효소 작용 과정 대해 서도 연구 세포막 통과 이온 분자 전달 물질 다른 조절 물질 작용 대해 서도 연구 생화학 내분비학 유전학 면역학 바이러스학 발전 영향 유기화학 탄소 화합물 연구 분과 원래 유기 화합물 식물 동물 로부터 추출 화합물 지금 유기 화합물 범위 크게 탄소 사슬 탄소 고리 모든 화합물 유기화학 관심사 유기 화합물 합성 메커니즘 현대 자기 공명 결정학 개발 유기 화합물 분석 매우 방법 자리 플라스틱 합성섬유 고분자 물질 유기화학',\n",
              " '체첸 공화국 체첸 공화국 체첸 러시아 공화국 체첸 사용 언어 체첸어 러시아어 체첸어 캅카스 제어 북동 캅카스 제어 그룹 인구시어 매우 관계 거의 대부분 체첸인 일부 러시아인 인구시인 기타 북코카서스 민족 체첸 인구시 자치공화국 통계 체첸인 인구시인 명의 러시아인 인구 소수 민족 서부 잉구슈 공화국 분리 때문 인구시인 수가 절반 가까이 감소 내전 사회 불안 대부분 러시아인 체첸공화국 대부분 체첸 공화국 남아 러시아인 체첸 공화국 일반 러시아 연방 가장 인구 구성 몇몇 지방 인구 증가 다게스탄 지역 통해 세기 세기 기점 체첸인 대다수 수니파 이슬람교 러시아 정교회 소수 존재 동안 러시아 오스만 투르크 제국 접경 지역 안보 이유 체첸 진주 체첸 러시아 제국 병합 세계 대전 동안 소비에트 정부 체첸 나치 협력 비난 스탈린 체첸 국민 전체 카자흐스탄 강제 이주 명령 스탈린 사망 체첸인 귀환 허용 체첸 전쟁 러시아 공세 체첸 전역 초토화',\n",
              " '맥스웰 방정식 맥스웰 방정식 전기 자기 발생 전기장 자기장 전하 밀도 전류 밀도 형성 편미분 방정식 맥스웰 방정식 역시 전자기파 하나 각각 방정식 가우스 법칙 가우스 자기 법칙 패러데이 전자기 유도 법칙 앙페르 회로 법칙 각각 방정식 제임스 러크 맥스웰 종합 이후 맥스웰 방정식 불리 전자기역학 맥스웰 방정식 로런츠 법칙 요약 로런츠 맥스웰 방정식 유도 맥스웰 방정식 법칙 종합 구성 맥스웰 방정식 빛과 전자기파 특성 설명 방정식 수학 표현 공식 부분 우선 방정식 의미 다음 맥스웰 방정식 시간 연구 전기 자기 특성 종합 인류 고대 시대 정전기 인력 방전 현상 자석 특징 이용 나침반 사용 근대 전기 자기 대한 연구 진행 결과 쿨롱 법칙 패러데이 전자기 유도 법칙 앙페르 회로 법칙 법칙 발견 맥스웰 기존 연구 성과 종합 전기 자기 하나 상호작용 전자기력 것임 증명 역시 전자기파 전자기 복사 발견 예언 앞서 전하 사이 인력 척력 작용 고대 이후 전하 사이 작용 관계 크기 측정 매우 까닭 작용 크기 매우 때문 샤를 쿨롱 비틀림 저울 이용 실험 장치 고안 대전 전하 사이 작용 크기 측정 샤를 쿨롱 금속 공과 비틀림 저울 이용 점전하 사이 작용 측정 전하 사이 작용 전하 크기 비례 거리 제곱 반비례 쿨롱 법칙 발견 쿨롱 법칙 다음 한편 쿨롱 전하 사이 작용 자계 적용 자극 세기 각각 자극 사이 작용 다음 정리 자극 세기 단위 웨버 쿨롱 세기 자극 작용 세기 경우 정의 따라서 상수 다음 자극 사이 작용 크기 전하 사이 작용 크기 방식 계산 사이 차이 전하 양전하 음전하 단독 존재 자극 존재 존재 제임스 러크 맥스웰 각각 독립 전기 자기 법칙 종합 맥스웰 방정식 수립 맥스웰 마이클 패러데이 역선 개념 앙드레 마리 앙페르 회로 이론 근간 방정식 정리 맥스웰 논문 물리 역선 대해 발표 모두 방정식 구성 맥스웰 방정식 소개 방정식 발표 논문 전자기장 역학 이론 전기 자기 대한 논문 다시 소개 물리학자 리처드 파인먼 방정식 남북전쟁 의미 사건 맥스웰 방정식 중요성 강조 맥스웰 자신 발표 맥스웰 방정식 원래 형태 방정식 오늘날 올리버 헤비사이드 방정식 정리 형태 일반 사용 조사이 윌러드 기브스 하인리히 루돌프 헤르츠 역시 헤비사이드 작업 때문 맥스웰 방정식 헤르츠 헤비사이드 방정식 불리 기도 맥스웰 방정식 이란 이름 맥스웰 물리 역선 대해 앙페르 회로 법칙 설명 위해 방정식 열거 맥스웰 논문 앙페르 회로 법칙 치환 전류 발표 전자기장 역학 이론 전자기파 방정식 기술 전자기파 제시 맥스웰 이론 하인리히 루돌프 헤르츠 실험 증명 이란 개념 마이클 패러데이 도입 알베르트 아인슈타인 맥스웰 개념 도입 대해 다음 평가 당시 방정식 헤르츠 헤비사이드 방정식 멕스웰 헤비사이드 방정식 아인슈타인 사이언스 고문 맥스웰 방정식 방정식 이론물리학 기초 설명 맥스웰 방정식 정리 헤비사이드 전위 벡터 위치 위치 요소 개념 도입 맥스웰 전자기파 전달 중력 원격 상호작용 전자기장 속도 전파 전위 파악 라디오 안테나 대한 현대 분석 맥스웰 백터 스칼라 위키 대한 수식 서로 안테나 사이 작용 전파 영향 모두 설명 맥스웰 방정식 관련 헤비사이드 업적 맥스웰 여러 논문 서술 맥스웰 방정식 오늘날 방정식 정리 오늘날 방정식 정리 맥스웰 방정식 발표 논문 물리 역선 대해 기반 논문 전자기장 대한 다수 방정식 맥스웰 케임브리지 철학 학회 패러데이 역선 발표 벡터 차이점 설명 논문 오늘날 패러데이 전자기 유도 법칙 대한 가장 모형 여기 맥스웰 전류 모든 지식 미분 방정식 맥스웰 제안 분자 와동 바다 개념 물리 역선 대해 소개 논문 자기장 형성 분자 규모 와동 밀도 와동 운동 결정 맥스웰 와동 밀도 측정 투자율 정의 논문 맥스웰 개념 다음 전하 밀도 회전 자기 전류 주위 자기력선 자기 선속 투자율 자기장 유도 자기 선속 전류 방정식 전하 대류 전류 선형 한편 자기 방정식 유도 전류 회전 발생 자기 벡터 방향성 비선형 방정식 따라서 자기 유도 전류 역선 표현 자기력선 제곱 법칙 전류 맥스웰 전자기장 역학 이론 맥스웰 전자기파 제시 맥스웰 방정식 전자기장 대한 일반 방정식 제시 때문 훗날 맥스웰 방정식 표현 오늘날 방정식 제시 방정식 인지 혼동 따라서 오늘날 구성 방정식 위해 헤비사이드 정리 맥스웰 방정식 멕스웰 헤비사이드 방정식 표현 사용 현대 벡터 표기 사용 정리 멕스웰 방정식 다음 표현 방정식 로런츠 효과 논문 방정식 표현 또한 맥스웰 논문 전자기파 방정식 정의 방정식 전자기 유도 설명 위해 사용 오늘날 방정식 대신 패러데이 전자기 유도 법칙 맥스웰 전자기파 방정식 연구 과정 방정식 맥스웰 전기 자기 대한 논문 방정식 묶음 묶음 묶음 다음 국제 단위계 사용 수식 표현 맥스웰 방정식 발산정리 스토크 정리 이용 미분 적분 방정식 동치 아래 기호 단위 발산 연산자 단위 미터 회전 연산자 단위 미터 방정식 자기 전기장 자기장 대전 입자 로런츠 국제 단위계 다음 여기 입자 전하량 입자 속도 단위계 자기장 정의 대신 수식 국제 단위계 표현 다른 단위계 맥스웰 방정식 약간 상수 변화 물리학 공학 일반 가장 널리 국제 단위계 이외 경우 단위계',\n",
              " '초월수 초월수 계수 유리수 방정식 해도 복소수 방정식 수인 대수 반대 개념 실수 초월수 모두 무리수 성립 무리수 다음 이차방정식 초월수 대수 수의 집합 가산 집합 복소수 집합 가산 집합 따라서 초월수 집합 가산 집합 대수 수의 개수 초월수 개수 지금 초월수 수가 초월 수임 증명 매우 초월수 존재 레온 르트 오일러 예상 최초 초월수 제프 리우빌 발견 초월수 로서 다음 정의 리우빌 상수 제시 초월수 존재 증명 위해 수가 처음 초월 수임 증명 상수 샤를 에르미트 증명 페르디난트 린데 원주율 또한 초월 수임 증명 고대 그리스 시대 난제 원적문제 결과 게오르크 칸토어 구체 초월수 제시 대신 설명 가산 집합 가산 집합 논리 이용 초월수 존재 비트 힐베르트 힐베르트 문제 가운데 문제 초월수 대하 다음 문제 제시 힐베르트 문제 구체 문제 폰트 슈나이더 정리 결과 앨런 베이커 확장',\n",
              " '음계 음계 음악 음높이 순서 집합 악곡 주로 구성 음계 종류 분위기 음계 각각 위치 도수 음계 음계 포함 음정 따라서 이름 음계 포함 서로 다른 피치 클래스 따라서 이름 음계 음정 음계 수가 문화 음악 음악 특징 지니 음계 거리 음악 소리 대해 온음계 반음계 서양 음악 용어 자체 음계 온음계 반음계 선율 화음 화성 진행 표현 대부분 경우 온음계 음으로 장음계 세기 음악 반음계 모든 음계 팔음음계 반음계 반음 음계 계이름 음계 기준 이름 장음계 계이름 으뜸음 위로 각각 서양 음악 시로 음계 한국 전통 음악 황종 태주 중려 임종 무역 음계 중국 전통 음악 변치 림화 변궁 시로 음계 한국 전통 음악 음계 음계 계통 음계']"
            ]
          },
          "metadata": {},
          "execution_count": 80
        }
      ]
    },
    {
      "cell_type": "markdown",
      "metadata": {
        "id": "U5PFXyLcLlAR"
      },
      "source": [
        "### 토픽별 키워드 정리"
      ]
    },
    {
      "cell_type": "code",
      "metadata": {
        "colab": {
          "base_uri": "https://localhost:8080/",
          "height": 305
        },
        "id": "ST8JTdXCDgJe",
        "outputId": "11bafbd8-150a-4c06-a745-eb18ea742a55"
      },
      "source": [
        "# 토픽별 키워드와 관련 토큰 정리\n",
        "pd.options.display.max_colwidth = 100\n",
        "\n",
        "sent_topics_sorteddf_mallet = pd.DataFrame()\n",
        "sent_topics_outdf_grpd = df_topic_sents_keywords.groupby('주요토픽')\n",
        "\n",
        "for i, grp in sent_topics_outdf_grpd:\n",
        "    sent_topics_sorteddf_mallet = pd.concat([sent_topics_sorteddf_mallet, \n",
        "                                             grp.sort_values(['토픽 기여도'], ascending=False).head(1)], \n",
        "                                            axis=0)\n",
        "\n",
        "# Reset Index    \n",
        "sent_topics_sorteddf_mallet.reset_index(drop=True, inplace=True)\n",
        "\n",
        "# Format\n",
        "sent_topics_sorteddf_mallet.columns = ['토픽번호', \"토픽 기여도\", \"키워드\", \"관련 토큰\"]\n",
        "\n",
        "# Show\n",
        "sent_topics_sorteddf_mallet.head(10)"
      ],
      "execution_count": null,
      "outputs": [
        {
          "output_type": "execute_result",
          "data": {
            "text/plain": [
              "   토픽번호  토픽 기여도                                        키워드  \\\n",
              "0   0.0  0.9987    수학, 음계, 집합, 상수, 초월수, 분야, 연구, 개념, 발전, 대한   \n",
              "1   1.0  0.9993    화학, 원소, 물질, 원자, 화합물, 결합, 반응, 금속, 발견, 연구   \n",
              "2   2.0  0.9989   방정식, 맥스웰, 문학, 법칙, 국가, 자기, 다음, 논문, 목록, 대한   \n",
              "3   3.0  0.9984  미국, 대통령, 체첸, 카터, 인권, 대해, 문제, 위해, 공화국, 러시아   \n",
              "\n",
              "                                                                                                 관련 토큰  \n",
              "0  [수학, 수학, 구조, 공간, 변화, 미적분, 개념, 학문, 현대, 수학, 형식, 논리, 이용, 공리, 구성, 추상, 구조, 연구, 학문, 기도, 수학, 구조, 발전, 과정...  \n",
              "1  [화학, 화학, 물질, 성질, 조성, 구조, 변화, 수반, 에너지, 변화, 연구, 자연과학, 분야, 물리학, 역시, 물질, 학문, 물리학, 원소, 화합물, 모두, 포함, 물...  \n",
              "2  [맥스웰, 방정식, 맥스웰, 방정식, 전기, 자기, 발생, 전기장, 자기장, 전하, 밀도, 전류, 밀도, 형성, 편미분, 방정식, 맥스웰, 방정식, 역시, 전자기파, 하나,...  \n",
              "3  [지미, 카터, 제임스, 지미, 카터, 주니어, 민주당, 출신, 미국, 대통령, 지미, 카터, 조지아주, 섬터, 카운티, 플레인스, 마을, 조지아, 공과, 대학교, 졸업, ...  "
            ],
            "text/html": [
              "\n",
              "  <div id=\"df-8d8cf8ea-f5f8-41a9-a0b6-a315a87668ac\">\n",
              "    <div class=\"colab-df-container\">\n",
              "      <div>\n",
              "<style scoped>\n",
              "    .dataframe tbody tr th:only-of-type {\n",
              "        vertical-align: middle;\n",
              "    }\n",
              "\n",
              "    .dataframe tbody tr th {\n",
              "        vertical-align: top;\n",
              "    }\n",
              "\n",
              "    .dataframe thead th {\n",
              "        text-align: right;\n",
              "    }\n",
              "</style>\n",
              "<table border=\"1\" class=\"dataframe\">\n",
              "  <thead>\n",
              "    <tr style=\"text-align: right;\">\n",
              "      <th></th>\n",
              "      <th>토픽번호</th>\n",
              "      <th>토픽 기여도</th>\n",
              "      <th>키워드</th>\n",
              "      <th>관련 토큰</th>\n",
              "    </tr>\n",
              "  </thead>\n",
              "  <tbody>\n",
              "    <tr>\n",
              "      <th>0</th>\n",
              "      <td>0.0</td>\n",
              "      <td>0.9987</td>\n",
              "      <td>수학, 음계, 집합, 상수, 초월수, 분야, 연구, 개념, 발전, 대한</td>\n",
              "      <td>[수학, 수학, 구조, 공간, 변화, 미적분, 개념, 학문, 현대, 수학, 형식, 논리, 이용, 공리, 구성, 추상, 구조, 연구, 학문, 기도, 수학, 구조, 발전, 과정...</td>\n",
              "    </tr>\n",
              "    <tr>\n",
              "      <th>1</th>\n",
              "      <td>1.0</td>\n",
              "      <td>0.9993</td>\n",
              "      <td>화학, 원소, 물질, 원자, 화합물, 결합, 반응, 금속, 발견, 연구</td>\n",
              "      <td>[화학, 화학, 물질, 성질, 조성, 구조, 변화, 수반, 에너지, 변화, 연구, 자연과학, 분야, 물리학, 역시, 물질, 학문, 물리학, 원소, 화합물, 모두, 포함, 물...</td>\n",
              "    </tr>\n",
              "    <tr>\n",
              "      <th>2</th>\n",
              "      <td>2.0</td>\n",
              "      <td>0.9989</td>\n",
              "      <td>방정식, 맥스웰, 문학, 법칙, 국가, 자기, 다음, 논문, 목록, 대한</td>\n",
              "      <td>[맥스웰, 방정식, 맥스웰, 방정식, 전기, 자기, 발생, 전기장, 자기장, 전하, 밀도, 전류, 밀도, 형성, 편미분, 방정식, 맥스웰, 방정식, 역시, 전자기파, 하나,...</td>\n",
              "    </tr>\n",
              "    <tr>\n",
              "      <th>3</th>\n",
              "      <td>3.0</td>\n",
              "      <td>0.9984</td>\n",
              "      <td>미국, 대통령, 체첸, 카터, 인권, 대해, 문제, 위해, 공화국, 러시아</td>\n",
              "      <td>[지미, 카터, 제임스, 지미, 카터, 주니어, 민주당, 출신, 미국, 대통령, 지미, 카터, 조지아주, 섬터, 카운티, 플레인스, 마을, 조지아, 공과, 대학교, 졸업, ...</td>\n",
              "    </tr>\n",
              "  </tbody>\n",
              "</table>\n",
              "</div>\n",
              "      <button class=\"colab-df-convert\" onclick=\"convertToInteractive('df-8d8cf8ea-f5f8-41a9-a0b6-a315a87668ac')\"\n",
              "              title=\"Convert this dataframe to an interactive table.\"\n",
              "              style=\"display:none;\">\n",
              "        \n",
              "  <svg xmlns=\"http://www.w3.org/2000/svg\" height=\"24px\"viewBox=\"0 0 24 24\"\n",
              "       width=\"24px\">\n",
              "    <path d=\"M0 0h24v24H0V0z\" fill=\"none\"/>\n",
              "    <path d=\"M18.56 5.44l.94 2.06.94-2.06 2.06-.94-2.06-.94-.94-2.06-.94 2.06-2.06.94zm-11 1L8.5 8.5l.94-2.06 2.06-.94-2.06-.94L8.5 2.5l-.94 2.06-2.06.94zm10 10l.94 2.06.94-2.06 2.06-.94-2.06-.94-.94-2.06-.94 2.06-2.06.94z\"/><path d=\"M17.41 7.96l-1.37-1.37c-.4-.4-.92-.59-1.43-.59-.52 0-1.04.2-1.43.59L10.3 9.45l-7.72 7.72c-.78.78-.78 2.05 0 2.83L4 21.41c.39.39.9.59 1.41.59.51 0 1.02-.2 1.41-.59l7.78-7.78 2.81-2.81c.8-.78.8-2.07 0-2.86zM5.41 20L4 18.59l7.72-7.72 1.47 1.35L5.41 20z\"/>\n",
              "  </svg>\n",
              "      </button>\n",
              "      \n",
              "  <style>\n",
              "    .colab-df-container {\n",
              "      display:flex;\n",
              "      flex-wrap:wrap;\n",
              "      gap: 12px;\n",
              "    }\n",
              "\n",
              "    .colab-df-convert {\n",
              "      background-color: #E8F0FE;\n",
              "      border: none;\n",
              "      border-radius: 50%;\n",
              "      cursor: pointer;\n",
              "      display: none;\n",
              "      fill: #1967D2;\n",
              "      height: 32px;\n",
              "      padding: 0 0 0 0;\n",
              "      width: 32px;\n",
              "    }\n",
              "\n",
              "    .colab-df-convert:hover {\n",
              "      background-color: #E2EBFA;\n",
              "      box-shadow: 0px 1px 2px rgba(60, 64, 67, 0.3), 0px 1px 3px 1px rgba(60, 64, 67, 0.15);\n",
              "      fill: #174EA6;\n",
              "    }\n",
              "\n",
              "    [theme=dark] .colab-df-convert {\n",
              "      background-color: #3B4455;\n",
              "      fill: #D2E3FC;\n",
              "    }\n",
              "\n",
              "    [theme=dark] .colab-df-convert:hover {\n",
              "      background-color: #434B5C;\n",
              "      box-shadow: 0px 1px 3px 1px rgba(0, 0, 0, 0.15);\n",
              "      filter: drop-shadow(0px 1px 2px rgba(0, 0, 0, 0.3));\n",
              "      fill: #FFFFFF;\n",
              "    }\n",
              "  </style>\n",
              "\n",
              "      <script>\n",
              "        const buttonEl =\n",
              "          document.querySelector('#df-8d8cf8ea-f5f8-41a9-a0b6-a315a87668ac button.colab-df-convert');\n",
              "        buttonEl.style.display =\n",
              "          google.colab.kernel.accessAllowed ? 'block' : 'none';\n",
              "\n",
              "        async function convertToInteractive(key) {\n",
              "          const element = document.querySelector('#df-8d8cf8ea-f5f8-41a9-a0b6-a315a87668ac');\n",
              "          const dataTable =\n",
              "            await google.colab.kernel.invokeFunction('convertToInteractive',\n",
              "                                                     [key], {});\n",
              "          if (!dataTable) return;\n",
              "\n",
              "          const docLinkHtml = 'Like what you see? Visit the ' +\n",
              "            '<a target=\"_blank\" href=https://colab.research.google.com/notebooks/data_table.ipynb>data table notebook</a>'\n",
              "            + ' to learn more about interactive tables.';\n",
              "          element.innerHTML = '';\n",
              "          dataTable['output_type'] = 'display_data';\n",
              "          await google.colab.output.renderOutput(dataTable, element);\n",
              "          const docLink = document.createElement('div');\n",
              "          docLink.innerHTML = docLinkHtml;\n",
              "          element.appendChild(docLink);\n",
              "        }\n",
              "      </script>\n",
              "    </div>\n",
              "  </div>\n",
              "  "
            ]
          },
          "metadata": {},
          "execution_count": 81
        }
      ]
    },
    {
      "cell_type": "markdown",
      "metadata": {
        "id": "m0TtNLRVLIo9"
      },
      "source": [
        "## 라.토픽 분석결과 시각화 "
      ]
    },
    {
      "cell_type": "code",
      "metadata": {
        "colab": {
          "base_uri": "https://localhost:8080/"
        },
        "id": "y_578rs-M4OC",
        "outputId": "02c10dbc-c677-4c65-e633-c6bfa05be644"
      },
      "source": [
        "!wget https://github.com/byungjooyoo/Dataset/raw/main/heart.png"
      ],
      "execution_count": null,
      "outputs": [
        {
          "output_type": "stream",
          "name": "stdout",
          "text": [
            "--2022-05-14 23:12:29--  https://github.com/byungjooyoo/Dataset/raw/main/heart.png\n",
            "Resolving github.com (github.com)... 140.82.114.4\n",
            "Connecting to github.com (github.com)|140.82.114.4|:443... connected.\n",
            "HTTP request sent, awaiting response... 302 Found\n",
            "Location: https://raw.githubusercontent.com/byungjooyoo/Dataset/main/heart.png [following]\n",
            "--2022-05-14 23:12:29--  https://raw.githubusercontent.com/byungjooyoo/Dataset/main/heart.png\n",
            "Resolving raw.githubusercontent.com (raw.githubusercontent.com)... 185.199.108.133, 185.199.109.133, 185.199.110.133, ...\n",
            "Connecting to raw.githubusercontent.com (raw.githubusercontent.com)|185.199.108.133|:443... connected.\n",
            "HTTP request sent, awaiting response... 200 OK\n",
            "Length: 33907 (33K) [image/png]\n",
            "Saving to: ‘heart.png.1’\n",
            "\n",
            "\rheart.png.1           0%[                    ]       0  --.-KB/s               \rheart.png.1         100%[===================>]  33.11K  --.-KB/s    in 0s      \n",
            "\n",
            "2022-05-14 23:12:29 (128 MB/s) - ‘heart.png.1’ saved [33907/33907]\n",
            "\n"
          ]
        }
      ]
    },
    {
      "cell_type": "code",
      "metadata": {
        "colab": {
          "base_uri": "https://localhost:8080/",
          "height": 714
        },
        "id": "2aSrvSW5Fnc3",
        "outputId": "f8e2c0e5-9ac7-4f5d-d5e5-8b44d96255fb"
      },
      "source": [
        "# 토픽별 워드크라우딩\n",
        "from matplotlib import pyplot as plt\n",
        "from wordcloud import WordCloud, STOPWORDS\n",
        "import matplotlib.colors as mcolors\n",
        "import numpy as np\n",
        "from PIL import Image\n",
        "\n",
        "# 이미지 마스킹 처리 위한 np.array로 변환\n",
        "icon = Image.open('heart.png').convert(\"RGBA\")\n",
        "mask = Image.new(\"RGB\", icon.size, (255,255,255))\n",
        "mask.paste(icon,icon)\n",
        "mask = np.array(mask)\n",
        "\n",
        "cols = [color for name, color in mcolors.TABLEAU_COLORS.items()]  # more colors: 'mcolors.XKCD_COLORS'\n",
        "fontpath = '/usr/share/fonts/truetype/nanum/NanumBarunGothic.ttf'\n",
        "cloud = WordCloud(background_color='white',\n",
        "                  font_path=fontpath,\n",
        "                  width=2500,\n",
        "                  height=1800,\n",
        "                  mask=mask,\n",
        "                  max_words=10,\n",
        "                  colormap='tab10',\n",
        "                  color_func=lambda *args, **kwargs: cols[i],\n",
        "                  prefer_horizontal=1.0)\n",
        "\n",
        "topics = ldamodel.show_topics(formatted=False)\n",
        "\n",
        "fig, axes = plt.subplots(2, 2, figsize=(10,10), sharex=True, sharey=True)\n",
        "\n",
        "for i, ax in enumerate(axes.flatten()):\n",
        "    fig.add_subplot(ax)\n",
        "    topic_words = dict(topics[i][1])\n",
        "    cloud.generate_from_frequencies(topic_words, max_font_size=300)\n",
        "    plt.gca().imshow(cloud)\n",
        "    plt.gca().set_title('Topic ' + str(i), fontdict=dict(size=16))\n",
        "    plt.gca().axis('off')\n",
        "\n",
        "\n",
        "plt.subplots_adjust(wspace=0, hspace=0)\n",
        "plt.axis('off')\n",
        "plt.margins(x=0, y=0)\n",
        "plt.tight_layout()\n",
        "plt.show()"
      ],
      "execution_count": null,
      "outputs": [
        {
          "output_type": "display_data",
          "data": {
            "text/plain": [
              "<Figure size 720x720 with 4 Axes>"
            ],
            "image/png": "[encoded data removed]"
          },
          "metadata": {
            "needs_background": "light"
          }
        }
      ]
    },
    {
      "cell_type": "code",
      "metadata": {
        "colab": {
          "base_uri": "https://localhost:8080/",
          "height": 586
        },
        "id": "cD-wnTvQGMnr",
        "outputId": "5db390c1-0dae-4e28-8b4c-17c6d5f37f5b"
      },
      "source": [
        "# 토픽별 키워드의 빈도수와 중요도 시각화 \n",
        "from collections import Counter\n",
        "import matplotlib.font_manager as fm\n",
        "\n",
        "topics = ldamodel.show_topics(formatted=False)\n",
        "data_flat = [w for w_list in tokens for w in w_list]\n",
        "counter = Counter(data_flat)\n",
        "\n",
        "# 주제별 토픽\n",
        "out = []\n",
        "for i, topic in topics:\n",
        "    for word, weight in topic:\n",
        "        out.append([word, i , weight, counter[word]])\n",
        "\n",
        "df = pd.DataFrame(out, columns=['word', 'topic_id', 'importance', 'word_count'])        \n",
        "fontpath = '/usr/share/fonts/truetype/nanum/NanumBarunGothic.ttf'\n",
        "font = fm.FontProperties(fname=fontpath, size=9)\n",
        "plt.rc('font', family='NanumBarunGothic') \n",
        "\n",
        "# 토픽별 키워드의 빈도수와 중요도\n",
        "fig, axes = plt.subplots(2, 2, figsize=(16,10), sharey=True, dpi=160)\n",
        "cols = [color for name, color in mcolors.TABLEAU_COLORS.items()]\n",
        "for i, ax in enumerate(axes.flatten()):\n",
        "    ax.bar(x='word', height=\"word_count\", data=df.loc[df.topic_id==i, :], color=cols[i], width=0.5, alpha=0.3, label='Word Count')\n",
        "    ax_twin = ax.twinx()\n",
        "    ax_twin.bar(x='word', height=\"importance\", data=df.loc[df.topic_id==i, :], color=cols[i], width=0.2, label='Weights')\n",
        "    ax.set_ylabel('Word Count', color=cols[i])\n",
        "    ax_twin.set_ylim(0, 0.030); ax.set_ylim(0, 100)\n",
        "    ax.set_title('Topic: ' + str(i), color=cols[i], fontsize=16)\n",
        "    ax.tick_params(axis='y', left=False)\n",
        "    ax.set_xticklabels(df.loc[df.topic_id==i, 'word'], rotation=30, horizontalalignment= 'right')\n",
        "    ax.legend(loc='upper left'); ax_twin.legend(loc='upper right')\n",
        "\n",
        "fig.tight_layout(w_pad=2)    \n",
        "fig.suptitle('토픽별 키워드의 빈도수와 중요도', fontsize=22, y=1.05)    \n",
        "plt.show()"
      ],
      "execution_count": null,
      "outputs": [
        {
          "output_type": "display_data",
          "data": {
            "text/plain": [
              "<Figure size 2560x1600 with 8 Axes>"
            ],
            "image/png": "[encoded data removed]"
          },
          "metadata": {
            "needs_background": "light"
          }
        }
      ]
    },
    {
      "cell_type": "code",
      "metadata": {
        "colab": {
          "base_uri": "https://localhost:8080/"
        },
        "id": "pS0zulgVs9QB",
        "outputId": "a7467f41-c17d-4091-9aff-d88bc00065be"
      },
      "source": [
        "!pip install pyLDAvis==2.1.2"
      ],
      "execution_count": null,
      "outputs": [
        {
          "output_type": "stream",
          "name": "stdout",
          "text": [
            "Collecting pyLDAvis==2.1.2\n",
            "  Downloading pyLDAvis-2.1.2.tar.gz (1.6 MB)\n",
            "\u001b[?25l\r\u001b[K     |▏                               | 10 kB 25.0 MB/s eta 0:00:01\r\u001b[K     |▍                               | 20 kB 30.0 MB/s eta 0:00:01\r\u001b[K     |▋                               | 30 kB 36.1 MB/s eta 0:00:01\r\u001b[K     |▉                               | 40 kB 32.1 MB/s eta 0:00:01\r\u001b[K     |█                               | 51 kB 24.4 MB/s eta 0:00:01\r\u001b[K     |█▏                              | 61 kB 26.4 MB/s eta 0:00:01\r\u001b[K     |█▍                              | 71 kB 27.1 MB/s eta 0:00:01\r\u001b[K     |█▋                              | 81 kB 28.4 MB/s eta 0:00:01\r\u001b[K     |█▉                              | 92 kB 29.9 MB/s eta 0:00:01\r\u001b[K     |██                              | 102 kB 28.5 MB/s eta 0:00:01\r\u001b[K     |██▎                             | 112 kB 28.5 MB/s eta 0:00:01\r\u001b[K     |██▍                             | 122 kB 28.5 MB/s eta 0:00:01\r\u001b[K     |██▋                             | 133 kB 28.5 MB/s eta 0:00:01\r\u001b[K     |██▉                             | 143 kB 28.5 MB/s eta 0:00:01\r\u001b[K     |███                             | 153 kB 28.5 MB/s eta 0:00:01\r\u001b[K     |███▎                            | 163 kB 28.5 MB/s eta 0:00:01\r\u001b[K     |███▌                            | 174 kB 28.5 MB/s eta 0:00:01\r\u001b[K     |███▋                            | 184 kB 28.5 MB/s eta 0:00:01\r\u001b[K     |███▉                            | 194 kB 28.5 MB/s eta 0:00:01\r\u001b[K     |████                            | 204 kB 28.5 MB/s eta 0:00:01\r\u001b[K     |████▎                           | 215 kB 28.5 MB/s eta 0:00:01\r\u001b[K     |████▌                           | 225 kB 28.5 MB/s eta 0:00:01\r\u001b[K     |████▊                           | 235 kB 28.5 MB/s eta 0:00:01\r\u001b[K     |████▉                           | 245 kB 28.5 MB/s eta 0:00:01\r\u001b[K     |█████                           | 256 kB 28.5 MB/s eta 0:00:01\r\u001b[K     |█████▎                          | 266 kB 28.5 MB/s eta 0:00:01\r\u001b[K     |█████▌                          | 276 kB 28.5 MB/s eta 0:00:01\r\u001b[K     |█████▊                          | 286 kB 28.5 MB/s eta 0:00:01\r\u001b[K     |█████▉                          | 296 kB 28.5 MB/s eta 0:00:01\r\u001b[K     |██████                          | 307 kB 28.5 MB/s eta 0:00:01\r\u001b[K     |██████▎                         | 317 kB 28.5 MB/s eta 0:00:01\r\u001b[K     |██████▌                         | 327 kB 28.5 MB/s eta 0:00:01\r\u001b[K     |██████▊                         | 337 kB 28.5 MB/s eta 0:00:01\r\u001b[K     |███████                         | 348 kB 28.5 MB/s eta 0:00:01\r\u001b[K     |███████                         | 358 kB 28.5 MB/s eta 0:00:01\r\u001b[K     |███████▎                        | 368 kB 28.5 MB/s eta 0:00:01\r\u001b[K     |███████▌                        | 378 kB 28.5 MB/s eta 0:00:01\r\u001b[K     |███████▊                        | 389 kB 28.5 MB/s eta 0:00:01\r\u001b[K     |████████                        | 399 kB 28.5 MB/s eta 0:00:01\r\u001b[K     |████████▏                       | 409 kB 28.5 MB/s eta 0:00:01\r\u001b[K     |████████▎                       | 419 kB 28.5 MB/s eta 0:00:01\r\u001b[K     |████████▌                       | 430 kB 28.5 MB/s eta 0:00:01\r\u001b[K     |████████▊                       | 440 kB 28.5 MB/s eta 0:00:01\r\u001b[K     |█████████                       | 450 kB 28.5 MB/s eta 0:00:01\r\u001b[K     |█████████▏                      | 460 kB 28.5 MB/s eta 0:00:01\r\u001b[K     |█████████▍                      | 471 kB 28.5 MB/s eta 0:00:01\r\u001b[K     |█████████▌                      | 481 kB 28.5 MB/s eta 0:00:01\r\u001b[K     |█████████▊                      | 491 kB 28.5 MB/s eta 0:00:01\r\u001b[K     |██████████                      | 501 kB 28.5 MB/s eta 0:00:01\r\u001b[K     |██████████▏                     | 512 kB 28.5 MB/s eta 0:00:01\r\u001b[K     |██████████▍                     | 522 kB 28.5 MB/s eta 0:00:01\r\u001b[K     |██████████▋                     | 532 kB 28.5 MB/s eta 0:00:01\r\u001b[K     |██████████▊                     | 542 kB 28.5 MB/s eta 0:00:01\r\u001b[K     |███████████                     | 552 kB 28.5 MB/s eta 0:00:01\r\u001b[K     |███████████▏                    | 563 kB 28.5 MB/s eta 0:00:01\r\u001b[K     |███████████▍                    | 573 kB 28.5 MB/s eta 0:00:01\r\u001b[K     |███████████▋                    | 583 kB 28.5 MB/s eta 0:00:01\r\u001b[K     |███████████▊                    | 593 kB 28.5 MB/s eta 0:00:01\r\u001b[K     |████████████                    | 604 kB 28.5 MB/s eta 0:00:01\r\u001b[K     |████████████▏                   | 614 kB 28.5 MB/s eta 0:00:01\r\u001b[K     |████████████▍                   | 624 kB 28.5 MB/s eta 0:00:01\r\u001b[K     |████████████▋                   | 634 kB 28.5 MB/s eta 0:00:01\r\u001b[K     |████████████▉                   | 645 kB 28.5 MB/s eta 0:00:01\r\u001b[K     |█████████████                   | 655 kB 28.5 MB/s eta 0:00:01\r\u001b[K     |█████████████▏                  | 665 kB 28.5 MB/s eta 0:00:01\r\u001b[K     |█████████████▍                  | 675 kB 28.5 MB/s eta 0:00:01\r\u001b[K     |█████████████▋                  | 686 kB 28.5 MB/s eta 0:00:01\r\u001b[K     |█████████████▉                  | 696 kB 28.5 MB/s eta 0:00:01\r\u001b[K     |██████████████                  | 706 kB 28.5 MB/s eta 0:00:01\r\u001b[K     |██████████████▏                 | 716 kB 28.5 MB/s eta 0:00:01\r\u001b[K     |██████████████▍                 | 727 kB 28.5 MB/s eta 0:00:01\r\u001b[K     |██████████████▋                 | 737 kB 28.5 MB/s eta 0:00:01\r\u001b[K     |██████████████▉                 | 747 kB 28.5 MB/s eta 0:00:01\r\u001b[K     |███████████████                 | 757 kB 28.5 MB/s eta 0:00:01\r\u001b[K     |███████████████▎                | 768 kB 28.5 MB/s eta 0:00:01\r\u001b[K     |███████████████▍                | 778 kB 28.5 MB/s eta 0:00:01\r\u001b[K     |███████████████▋                | 788 kB 28.5 MB/s eta 0:00:01\r\u001b[K     |███████████████▉                | 798 kB 28.5 MB/s eta 0:00:01\r\u001b[K     |████████████████                | 808 kB 28.5 MB/s eta 0:00:01\r\u001b[K     |████████████████▎               | 819 kB 28.5 MB/s eta 0:00:01\r\u001b[K     |████████████████▌               | 829 kB 28.5 MB/s eta 0:00:01\r\u001b[K     |████████████████▋               | 839 kB 28.5 MB/s eta 0:00:01\r\u001b[K     |████████████████▉               | 849 kB 28.5 MB/s eta 0:00:01\r\u001b[K     |█████████████████               | 860 kB 28.5 MB/s eta 0:00:01\r\u001b[K     |█████████████████▎              | 870 kB 28.5 MB/s eta 0:00:01\r\u001b[K     |█████████████████▌              | 880 kB 28.5 MB/s eta 0:00:01\r\u001b[K     |█████████████████▋              | 890 kB 28.5 MB/s eta 0:00:01\r\u001b[K     |█████████████████▉              | 901 kB 28.5 MB/s eta 0:00:01\r\u001b[K     |██████████████████              | 911 kB 28.5 MB/s eta 0:00:01\r\u001b[K     |██████████████████▎             | 921 kB 28.5 MB/s eta 0:00:01\r\u001b[K     |██████████████████▌             | 931 kB 28.5 MB/s eta 0:00:01\r\u001b[K     |██████████████████▊             | 942 kB 28.5 MB/s eta 0:00:01\r\u001b[K     |██████████████████▉             | 952 kB 28.5 MB/s eta 0:00:01\r\u001b[K     |███████████████████             | 962 kB 28.5 MB/s eta 0:00:01\r\u001b[K     |███████████████████▎            | 972 kB 28.5 MB/s eta 0:00:01\r\u001b[K     |███████████████████▌            | 983 kB 28.5 MB/s eta 0:00:01\r\u001b[K     |███████████████████▊            | 993 kB 28.5 MB/s eta 0:00:01\r\u001b[K     |████████████████████            | 1.0 MB 28.5 MB/s eta 0:00:01\r\u001b[K     |████████████████████            | 1.0 MB 28.5 MB/s eta 0:00:01\r\u001b[K     |████████████████████▎           | 1.0 MB 28.5 MB/s eta 0:00:01\r\u001b[K     |████████████████████▌           | 1.0 MB 28.5 MB/s eta 0:00:01\r\u001b[K     |████████████████████▊           | 1.0 MB 28.5 MB/s eta 0:00:01\r\u001b[K     |█████████████████████           | 1.1 MB 28.5 MB/s eta 0:00:01\r\u001b[K     |█████████████████████▏          | 1.1 MB 28.5 MB/s eta 0:00:01\r\u001b[K     |█████████████████████▎          | 1.1 MB 28.5 MB/s eta 0:00:01\r\u001b[K     |█████████████████████▌          | 1.1 MB 28.5 MB/s eta 0:00:01\r\u001b[K     |█████████████████████▊          | 1.1 MB 28.5 MB/s eta 0:00:01\r\u001b[K     |██████████████████████          | 1.1 MB 28.5 MB/s eta 0:00:01\r\u001b[K     |██████████████████████▏         | 1.1 MB 28.5 MB/s eta 0:00:01\r\u001b[K     |██████████████████████▍         | 1.1 MB 28.5 MB/s eta 0:00:01\r\u001b[K     |██████████████████████▌         | 1.1 MB 28.5 MB/s eta 0:00:01\r\u001b[K     |██████████████████████▊         | 1.1 MB 28.5 MB/s eta 0:00:01\r\u001b[K     |███████████████████████         | 1.2 MB 28.5 MB/s eta 0:00:01\r\u001b[K     |███████████████████████▏        | 1.2 MB 28.5 MB/s eta 0:00:01\r\u001b[K     |███████████████████████▍        | 1.2 MB 28.5 MB/s eta 0:00:01\r\u001b[K     |███████████████████████▌        | 1.2 MB 28.5 MB/s eta 0:00:01\r\u001b[K     |███████████████████████▊        | 1.2 MB 28.5 MB/s eta 0:00:01\r\u001b[K     |████████████████████████        | 1.2 MB 28.5 MB/s eta 0:00:01\r\u001b[K     |████████████████████████▏       | 1.2 MB 28.5 MB/s eta 0:00:01\r\u001b[K     |████████████████████████▍       | 1.2 MB 28.5 MB/s eta 0:00:01\r\u001b[K     |████████████████████████▋       | 1.2 MB 28.5 MB/s eta 0:00:01\r\u001b[K     |████████████████████████▊       | 1.2 MB 28.5 MB/s eta 0:00:01\r\u001b[K     |█████████████████████████       | 1.3 MB 28.5 MB/s eta 0:00:01\r\u001b[K     |█████████████████████████▏      | 1.3 MB 28.5 MB/s eta 0:00:01\r\u001b[K     |█████████████████████████▍      | 1.3 MB 28.5 MB/s eta 0:00:01\r\u001b[K     |█████████████████████████▋      | 1.3 MB 28.5 MB/s eta 0:00:01\r\u001b[K     |█████████████████████████▉      | 1.3 MB 28.5 MB/s eta 0:00:01\r\u001b[K     |██████████████████████████      | 1.3 MB 28.5 MB/s eta 0:00:01\r\u001b[K     |██████████████████████████▏     | 1.3 MB 28.5 MB/s eta 0:00:01\r\u001b[K     |██████████████████████████▍     | 1.3 MB 28.5 MB/s eta 0:00:01\r\u001b[K     |██████████████████████████▋     | 1.3 MB 28.5 MB/s eta 0:00:01\r\u001b[K     |██████████████████████████▉     | 1.4 MB 28.5 MB/s eta 0:00:01\r\u001b[K     |███████████████████████████     | 1.4 MB 28.5 MB/s eta 0:00:01\r\u001b[K     |███████████████████████████▏    | 1.4 MB 28.5 MB/s eta 0:00:01\r\u001b[K     |███████████████████████████▍    | 1.4 MB 28.5 MB/s eta 0:00:01\r\u001b[K     |███████████████████████████▋    | 1.4 MB 28.5 MB/s eta 0:00:01\r\u001b[K     |███████████████████████████▉    | 1.4 MB 28.5 MB/s eta 0:00:01\r\u001b[K     |████████████████████████████    | 1.4 MB 28.5 MB/s eta 0:00:01\r\u001b[K     |████████████████████████████▏   | 1.4 MB 28.5 MB/s eta 0:00:01\r\u001b[K     |████████████████████████████▍   | 1.4 MB 28.5 MB/s eta 0:00:01\r\u001b[K     |████████████████████████████▋   | 1.4 MB 28.5 MB/s eta 0:00:01\r\u001b[K     |████████████████████████████▉   | 1.5 MB 28.5 MB/s eta 0:00:01\r\u001b[K     |█████████████████████████████   | 1.5 MB 28.5 MB/s eta 0:00:01\r\u001b[K     |█████████████████████████████▎  | 1.5 MB 28.5 MB/s eta 0:00:01\r\u001b[K     |█████████████████████████████▍  | 1.5 MB 28.5 MB/s eta 0:00:01\r\u001b[K     |█████████████████████████████▋  | 1.5 MB 28.5 MB/s eta 0:00:01\r\u001b[K     |█████████████████████████████▉  | 1.5 MB 28.5 MB/s eta 0:00:01\r\u001b[K     |██████████████████████████████  | 1.5 MB 28.5 MB/s eta 0:00:01\r\u001b[K     |██████████████████████████████▎ | 1.5 MB 28.5 MB/s eta 0:00:01\r\u001b[K     |██████████████████████████████▌ | 1.5 MB 28.5 MB/s eta 0:00:01\r\u001b[K     |██████████████████████████████▋ | 1.5 MB 28.5 MB/s eta 0:00:01\r\u001b[K     |██████████████████████████████▉ | 1.6 MB 28.5 MB/s eta 0:00:01\r\u001b[K     |███████████████████████████████ | 1.6 MB 28.5 MB/s eta 0:00:01\r\u001b[K     |███████████████████████████████▎| 1.6 MB 28.5 MB/s eta 0:00:01\r\u001b[K     |███████████████████████████████▌| 1.6 MB 28.5 MB/s eta 0:00:01\r\u001b[K     |███████████████████████████████▊| 1.6 MB 28.5 MB/s eta 0:00:01\r\u001b[K     |███████████████████████████████▉| 1.6 MB 28.5 MB/s eta 0:00:01\r\u001b[K     |████████████████████████████████| 1.6 MB 28.5 MB/s \n",
            "\u001b[?25hRequirement already satisfied: wheel>=0.23.0 in /usr/local/lib/python3.7/dist-packages (from pyLDAvis==2.1.2) (0.37.1)\n",
            "Requirement already satisfied: numpy>=1.9.2 in /usr/local/lib/python3.7/dist-packages (from pyLDAvis==2.1.2) (1.21.6)\n",
            "Requirement already satisfied: scipy>=0.18.0 in /usr/local/lib/python3.7/dist-packages (from pyLDAvis==2.1.2) (1.4.1)\n",
            "Requirement already satisfied: pandas>=0.17.0 in /usr/local/lib/python3.7/dist-packages (from pyLDAvis==2.1.2) (1.3.5)\n",
            "Requirement already satisfied: joblib>=0.8.4 in /usr/local/lib/python3.7/dist-packages (from pyLDAvis==2.1.2) (1.1.0)\n",
            "Requirement already satisfied: jinja2>=2.7.2 in /usr/local/lib/python3.7/dist-packages (from pyLDAvis==2.1.2) (2.11.3)\n",
            "Requirement already satisfied: numexpr in /usr/local/lib/python3.7/dist-packages (from pyLDAvis==2.1.2) (2.8.1)\n",
            "Requirement already satisfied: pytest in /usr/local/lib/python3.7/dist-packages (from pyLDAvis==2.1.2) (3.6.4)\n",
            "Requirement already satisfied: future in /usr/local/lib/python3.7/dist-packages (from pyLDAvis==2.1.2) (0.16.0)\n",
            "Collecting funcy\n",
            "  Downloading funcy-1.17-py2.py3-none-any.whl (33 kB)\n",
            "Requirement already satisfied: MarkupSafe>=0.23 in /usr/local/lib/python3.7/dist-packages (from jinja2>=2.7.2->pyLDAvis==2.1.2) (2.0.1)\n",
            "Requirement already satisfied: pytz>=2017.3 in /usr/local/lib/python3.7/dist-packages (from pandas>=0.17.0->pyLDAvis==2.1.2) (2022.1)\n",
            "Requirement already satisfied: python-dateutil>=2.7.3 in /usr/local/lib/python3.7/dist-packages (from pandas>=0.17.0->pyLDAvis==2.1.2) (2.8.2)\n",
            "Requirement already satisfied: six>=1.5 in /usr/local/lib/python3.7/dist-packages (from python-dateutil>=2.7.3->pandas>=0.17.0->pyLDAvis==2.1.2) (1.15.0)\n",
            "Requirement already satisfied: packaging in /usr/local/lib/python3.7/dist-packages (from numexpr->pyLDAvis==2.1.2) (21.3)\n",
            "Requirement already satisfied: pyparsing!=3.0.5,>=2.0.2 in /usr/local/lib/python3.7/dist-packages (from packaging->numexpr->pyLDAvis==2.1.2) (3.0.8)\n",
            "Requirement already satisfied: more-itertools>=4.0.0 in /usr/local/lib/python3.7/dist-packages (from pytest->pyLDAvis==2.1.2) (8.12.0)\n",
            "Requirement already satisfied: setuptools in /usr/local/lib/python3.7/dist-packages (from pytest->pyLDAvis==2.1.2) (57.4.0)\n",
            "Requirement already satisfied: atomicwrites>=1.0 in /usr/local/lib/python3.7/dist-packages (from pytest->pyLDAvis==2.1.2) (1.4.0)\n",
            "Requirement already satisfied: py>=1.5.0 in /usr/local/lib/python3.7/dist-packages (from pytest->pyLDAvis==2.1.2) (1.11.0)\n",
            "Requirement already satisfied: attrs>=17.4.0 in /usr/local/lib/python3.7/dist-packages (from pytest->pyLDAvis==2.1.2) (21.4.0)\n",
            "Requirement already satisfied: pluggy<0.8,>=0.5 in /usr/local/lib/python3.7/dist-packages (from pytest->pyLDAvis==2.1.2) (0.7.1)\n"
          ]
        }
      ]
    },
    {
      "cell_type": "code",
      "metadata": {
        "id": "ILP0QmlLnqwl",
        "colab": {
          "base_uri": "https://localhost:8080/",
          "height": 374
        },
        "outputId": "ee3299c1-1cbc-40d0-a1fa-129aee4b6d2b"
      },
      "source": [
        "import pyLDAvis.gensim\n",
        "# Visualize the topics\n",
        "pyLDAvis.enable_notebook()\n",
        "vis = pyLDAvis.gensim.prepare(ldamodel, g_corpus, g_dictionary)\n",
        "vis"
      ],
      "execution_count": null,
      "outputs": [
        {
          "output_type": "error",
          "ename": "ModuleNotFoundError",
          "evalue": "ignored",
          "traceback": [
            "\u001b[0;31m---------------------------------------------------------------------------\u001b[0m",
            "\u001b[0;31mModuleNotFoundError\u001b[0m                       Traceback (most recent call last)",
            "\u001b[0;32m<ipython-input-89-5559e89e8097>\u001b[0m in \u001b[0;36m<module>\u001b[0;34m()\u001b[0m\n\u001b[0;32m----> 1\u001b[0;31m \u001b[0;32mimport\u001b[0m \u001b[0mpyLDAvis\u001b[0m\u001b[0;34m.\u001b[0m\u001b[0mgensim\u001b[0m\u001b[0;34m\u001b[0m\u001b[0;34m\u001b[0m\u001b[0m\n\u001b[0m\u001b[1;32m      2\u001b[0m \u001b[0;31m# Visualize the topics\u001b[0m\u001b[0;34m\u001b[0m\u001b[0;34m\u001b[0m\u001b[0;34m\u001b[0m\u001b[0m\n\u001b[1;32m      3\u001b[0m \u001b[0mpyLDAvis\u001b[0m\u001b[0;34m.\u001b[0m\u001b[0menable_notebook\u001b[0m\u001b[0;34m(\u001b[0m\u001b[0;34m)\u001b[0m\u001b[0;34m\u001b[0m\u001b[0;34m\u001b[0m\u001b[0m\n\u001b[1;32m      4\u001b[0m \u001b[0mvis\u001b[0m \u001b[0;34m=\u001b[0m \u001b[0mpyLDAvis\u001b[0m\u001b[0;34m.\u001b[0m\u001b[0mgensim\u001b[0m\u001b[0;34m.\u001b[0m\u001b[0mprepare\u001b[0m\u001b[0;34m(\u001b[0m\u001b[0mldamodel\u001b[0m\u001b[0;34m,\u001b[0m \u001b[0mg_corpus\u001b[0m\u001b[0;34m,\u001b[0m \u001b[0mg_dictionary\u001b[0m\u001b[0;34m)\u001b[0m\u001b[0;34m\u001b[0m\u001b[0;34m\u001b[0m\u001b[0m\n\u001b[1;32m      5\u001b[0m \u001b[0mvis\u001b[0m\u001b[0;34m\u001b[0m\u001b[0;34m\u001b[0m\u001b[0m\n",
            "\u001b[0;31mModuleNotFoundError\u001b[0m: No module named 'pyLDAvis'",
            "",
            "\u001b[0;31m---------------------------------------------------------------------------\u001b[0;32m\nNOTE: If your import is failing due to a missing package, you can\nmanually install dependencies using either !pip or !apt.\n\nTo view examples of installing some common dependencies, click the\n\"Open Examples\" button below.\n\u001b[0;31m---------------------------------------------------------------------------\u001b[0m\n"
          ],
          "errorDetails": {
            "actions": [
              {
                "action": "open_url",
                "actionText": "Open Examples",
                "url": "/notebooks/snippets/importing_libraries.ipynb"
              }
            ]
          }
        }
      ]
    },
    {
      "cell_type": "code",
      "metadata": {
        "id": "-QdUjGHxNEcE"
      },
      "source": [],
      "execution_count": null,
      "outputs": []
    }
  ]
}