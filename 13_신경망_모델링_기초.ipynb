{
  "nbformat": 4,
  "nbformat_minor": 0,
  "metadata": {
    "colab": {
      "provenance": [],
      "toc_visible": true
    },
    "kernelspec": {
      "display_name": "Python 3",
      "name": "python3"
    }
  },
  "cells": [
    {
      "cell_type": "markdown",
      "metadata": {
        "id": "3wF5wszaj97Y"
      },
      "source": [
        "# 13.1 신경망 모델링 소개"
      ]
    },
    {
      "cell_type": "markdown",
      "metadata": {
        "id": "TPGleqorMCjq"
      },
      "source": [
        "2개의 집단으로 구성된 이변량 정규분포를 생성하여 원 소속 집단을 찾는 이항분류 분석 신경망 모델링 과정을 소개"
      ]
    },
    {
      "cell_type": "markdown",
      "source": [
        "# 13.2 데이터 준비 단계"
      ],
      "metadata": {
        "id": "NJm8rYdwc_n0"
      }
    },
    {
      "cell_type": "markdown",
      "source": [
        "### 데이터프레임 형태로 입력"
      ],
      "metadata": {
        "id": "uRWpgvVmcJeU"
      }
    },
    {
      "cell_type": "code",
      "source": [
        "#1. 데이터프레임 형태로 데이터 입력\n",
        "import pandas as pd\n",
        "df = pd.DataFrame()\n",
        "df['review'] = [\n",
        "    \"신차 정말 좋아요\",\n",
        "    \"신차 속도감 너무 안좋아\",\n",
        "    \"신차 디자인 연비 좋아요\",\n",
        "    \"신차 엉터리로 개발했네요\"\n",
        "]\n",
        "\n",
        "# 출력 정답\n",
        "id_to_labels = {0: \"부정\", 1: \"긍정\"}\n",
        "df['labels'] = [1, 0, 1, 0]\n",
        "df"
      ],
      "metadata": {
        "colab": {
          "base_uri": "https://localhost:8080/",
          "height": 174
        },
        "id": "M-3Ma8qVct4P",
        "outputId": "4dd31be3-e7a4-4332-a771-7b7c642afb0f"
      },
      "execution_count": null,
      "outputs": [
        {
          "output_type": "execute_result",
          "data": {
            "text/plain": [
              "          review  labels\n",
              "0      신차 정말 좋아요       1\n",
              "1  신차 속도감 너무 안좋아       0\n",
              "2  신차 디자인 연비 좋아요       1\n",
              "3  신차 엉터리로 개발했네요       0"
            ],
            "text/html": [
              "\n",
              "  <div id=\"df-1b18d809-0edb-4e37-88a4-3fcecd37d3a1\" class=\"colab-df-container\">\n",
              "    <div>\n",
              "<style scoped>\n",
              "    .dataframe tbody tr th:only-of-type {\n",
              "        vertical-align: middle;\n",
              "    }\n",
              "\n",
              "    .dataframe tbody tr th {\n",
              "        vertical-align: top;\n",
              "    }\n",
              "\n",
              "    .dataframe thead th {\n",
              "        text-align: right;\n",
              "    }\n",
              "</style>\n",
              "<table border=\"1\" class=\"dataframe\">\n",
              "  <thead>\n",
              "    <tr style=\"text-align: right;\">\n",
              "      <th></th>\n",
              "      <th>review</th>\n",
              "      <th>labels</th>\n",
              "    </tr>\n",
              "  </thead>\n",
              "  <tbody>\n",
              "    <tr>\n",
              "      <th>0</th>\n",
              "      <td>신차 정말 좋아요</td>\n",
              "      <td>1</td>\n",
              "    </tr>\n",
              "    <tr>\n",
              "      <th>1</th>\n",
              "      <td>신차 속도감 너무 안좋아</td>\n",
              "      <td>0</td>\n",
              "    </tr>\n",
              "    <tr>\n",
              "      <th>2</th>\n",
              "      <td>신차 디자인 연비 좋아요</td>\n",
              "      <td>1</td>\n",
              "    </tr>\n",
              "    <tr>\n",
              "      <th>3</th>\n",
              "      <td>신차 엉터리로 개발했네요</td>\n",
              "      <td>0</td>\n",
              "    </tr>\n",
              "  </tbody>\n",
              "</table>\n",
              "</div>\n",
              "    <div class=\"colab-df-buttons\">\n",
              "\n",
              "  <div class=\"colab-df-container\">\n",
              "    <button class=\"colab-df-convert\" onclick=\"convertToInteractive('df-1b18d809-0edb-4e37-88a4-3fcecd37d3a1')\"\n",
              "            title=\"Convert this dataframe to an interactive table.\"\n",
              "            style=\"display:none;\">\n",
              "\n",
              "  <svg xmlns=\"http://www.w3.org/2000/svg\" height=\"24px\" viewBox=\"0 -960 960 960\">\n",
              "    <path d=\"M120-120v-720h720v720H120Zm60-500h600v-160H180v160Zm220 220h160v-160H400v160Zm0 220h160v-160H400v160ZM180-400h160v-160H180v160Zm440 0h160v-160H620v160ZM180-180h160v-160H180v160Zm440 0h160v-160H620v160Z\"/>\n",
              "  </svg>\n",
              "    </button>\n",
              "\n",
              "  <style>\n",
              "    .colab-df-container {\n",
              "      display:flex;\n",
              "      gap: 12px;\n",
              "    }\n",
              "\n",
              "    .colab-df-convert {\n",
              "      background-color: #E8F0FE;\n",
              "      border: none;\n",
              "      border-radius: 50%;\n",
              "      cursor: pointer;\n",
              "      display: none;\n",
              "      fill: #1967D2;\n",
              "      height: 32px;\n",
              "      padding: 0 0 0 0;\n",
              "      width: 32px;\n",
              "    }\n",
              "\n",
              "    .colab-df-convert:hover {\n",
              "      background-color: #E2EBFA;\n",
              "      box-shadow: 0px 1px 2px rgba(60, 64, 67, 0.3), 0px 1px 3px 1px rgba(60, 64, 67, 0.15);\n",
              "      fill: #174EA6;\n",
              "    }\n",
              "\n",
              "    .colab-df-buttons div {\n",
              "      margin-bottom: 4px;\n",
              "    }\n",
              "\n",
              "    [theme=dark] .colab-df-convert {\n",
              "      background-color: #3B4455;\n",
              "      fill: #D2E3FC;\n",
              "    }\n",
              "\n",
              "    [theme=dark] .colab-df-convert:hover {\n",
              "      background-color: #434B5C;\n",
              "      box-shadow: 0px 1px 3px 1px rgba(0, 0, 0, 0.15);\n",
              "      filter: drop-shadow(0px 1px 2px rgba(0, 0, 0, 0.3));\n",
              "      fill: #FFFFFF;\n",
              "    }\n",
              "  </style>\n",
              "\n",
              "    <script>\n",
              "      const buttonEl =\n",
              "        document.querySelector('#df-1b18d809-0edb-4e37-88a4-3fcecd37d3a1 button.colab-df-convert');\n",
              "      buttonEl.style.display =\n",
              "        google.colab.kernel.accessAllowed ? 'block' : 'none';\n",
              "\n",
              "      async function convertToInteractive(key) {\n",
              "        const element = document.querySelector('#df-1b18d809-0edb-4e37-88a4-3fcecd37d3a1');\n",
              "        const dataTable =\n",
              "          await google.colab.kernel.invokeFunction('convertToInteractive',\n",
              "                                                    [key], {});\n",
              "        if (!dataTable) return;\n",
              "\n",
              "        const docLinkHtml = 'Like what you see? Visit the ' +\n",
              "          '<a target=\"_blank\" href=https://colab.research.google.com/notebooks/data_table.ipynb>data table notebook</a>'\n",
              "          + ' to learn more about interactive tables.';\n",
              "        element.innerHTML = '';\n",
              "        dataTable['output_type'] = 'display_data';\n",
              "        await google.colab.output.renderOutput(dataTable, element);\n",
              "        const docLink = document.createElement('div');\n",
              "        docLink.innerHTML = docLinkHtml;\n",
              "        element.appendChild(docLink);\n",
              "      }\n",
              "    </script>\n",
              "  </div>\n",
              "\n",
              "\n",
              "<div id=\"df-b2fd3e41-e075-4de1-803f-bafd2e9a3aac\">\n",
              "  <button class=\"colab-df-quickchart\" onclick=\"quickchart('df-b2fd3e41-e075-4de1-803f-bafd2e9a3aac')\"\n",
              "            title=\"Suggest charts\"\n",
              "            style=\"display:none;\">\n",
              "\n",
              "<svg xmlns=\"http://www.w3.org/2000/svg\" height=\"24px\"viewBox=\"0 0 24 24\"\n",
              "     width=\"24px\">\n",
              "    <g>\n",
              "        <path d=\"M19 3H5c-1.1 0-2 .9-2 2v14c0 1.1.9 2 2 2h14c1.1 0 2-.9 2-2V5c0-1.1-.9-2-2-2zM9 17H7v-7h2v7zm4 0h-2V7h2v10zm4 0h-2v-4h2v4z\"/>\n",
              "    </g>\n",
              "</svg>\n",
              "  </button>\n",
              "\n",
              "<style>\n",
              "  .colab-df-quickchart {\n",
              "      --bg-color: #E8F0FE;\n",
              "      --fill-color: #1967D2;\n",
              "      --hover-bg-color: #E2EBFA;\n",
              "      --hover-fill-color: #174EA6;\n",
              "      --disabled-fill-color: #AAA;\n",
              "      --disabled-bg-color: #DDD;\n",
              "  }\n",
              "\n",
              "  [theme=dark] .colab-df-quickchart {\n",
              "      --bg-color: #3B4455;\n",
              "      --fill-color: #D2E3FC;\n",
              "      --hover-bg-color: #434B5C;\n",
              "      --hover-fill-color: #FFFFFF;\n",
              "      --disabled-bg-color: #3B4455;\n",
              "      --disabled-fill-color: #666;\n",
              "  }\n",
              "\n",
              "  .colab-df-quickchart {\n",
              "    background-color: var(--bg-color);\n",
              "    border: none;\n",
              "    border-radius: 50%;\n",
              "    cursor: pointer;\n",
              "    display: none;\n",
              "    fill: var(--fill-color);\n",
              "    height: 32px;\n",
              "    padding: 0;\n",
              "    width: 32px;\n",
              "  }\n",
              "\n",
              "  .colab-df-quickchart:hover {\n",
              "    background-color: var(--hover-bg-color);\n",
              "    box-shadow: 0 1px 2px rgba(60, 64, 67, 0.3), 0 1px 3px 1px rgba(60, 64, 67, 0.15);\n",
              "    fill: var(--button-hover-fill-color);\n",
              "  }\n",
              "\n",
              "  .colab-df-quickchart-complete:disabled,\n",
              "  .colab-df-quickchart-complete:disabled:hover {\n",
              "    background-color: var(--disabled-bg-color);\n",
              "    fill: var(--disabled-fill-color);\n",
              "    box-shadow: none;\n",
              "  }\n",
              "\n",
              "  .colab-df-spinner {\n",
              "    border: 2px solid var(--fill-color);\n",
              "    border-color: transparent;\n",
              "    border-bottom-color: var(--fill-color);\n",
              "    animation:\n",
              "      spin 1s steps(1) infinite;\n",
              "  }\n",
              "\n",
              "  @keyframes spin {\n",
              "    0% {\n",
              "      border-color: transparent;\n",
              "      border-bottom-color: var(--fill-color);\n",
              "      border-left-color: var(--fill-color);\n",
              "    }\n",
              "    20% {\n",
              "      border-color: transparent;\n",
              "      border-left-color: var(--fill-color);\n",
              "      border-top-color: var(--fill-color);\n",
              "    }\n",
              "    30% {\n",
              "      border-color: transparent;\n",
              "      border-left-color: var(--fill-color);\n",
              "      border-top-color: var(--fill-color);\n",
              "      border-right-color: var(--fill-color);\n",
              "    }\n",
              "    40% {\n",
              "      border-color: transparent;\n",
              "      border-right-color: var(--fill-color);\n",
              "      border-top-color: var(--fill-color);\n",
              "    }\n",
              "    60% {\n",
              "      border-color: transparent;\n",
              "      border-right-color: var(--fill-color);\n",
              "    }\n",
              "    80% {\n",
              "      border-color: transparent;\n",
              "      border-right-color: var(--fill-color);\n",
              "      border-bottom-color: var(--fill-color);\n",
              "    }\n",
              "    90% {\n",
              "      border-color: transparent;\n",
              "      border-bottom-color: var(--fill-color);\n",
              "    }\n",
              "  }\n",
              "</style>\n",
              "\n",
              "  <script>\n",
              "    async function quickchart(key) {\n",
              "      const quickchartButtonEl =\n",
              "        document.querySelector('#' + key + ' button');\n",
              "      quickchartButtonEl.disabled = true;  // To prevent multiple clicks.\n",
              "      quickchartButtonEl.classList.add('colab-df-spinner');\n",
              "      try {\n",
              "        const charts = await google.colab.kernel.invokeFunction(\n",
              "            'suggestCharts', [key], {});\n",
              "      } catch (error) {\n",
              "        console.error('Error during call to suggestCharts:', error);\n",
              "      }\n",
              "      quickchartButtonEl.classList.remove('colab-df-spinner');\n",
              "      quickchartButtonEl.classList.add('colab-df-quickchart-complete');\n",
              "    }\n",
              "    (() => {\n",
              "      let quickchartButtonEl =\n",
              "        document.querySelector('#df-b2fd3e41-e075-4de1-803f-bafd2e9a3aac button');\n",
              "      quickchartButtonEl.style.display =\n",
              "        google.colab.kernel.accessAllowed ? 'block' : 'none';\n",
              "    })();\n",
              "  </script>\n",
              "</div>\n",
              "    </div>\n",
              "  </div>\n"
            ],
            "application/vnd.google.colaboratory.intrinsic+json": {
              "type": "dataframe",
              "variable_name": "df",
              "summary": "{\n  \"name\": \"df\",\n  \"rows\": 4,\n  \"fields\": [\n    {\n      \"column\": \"review\",\n      \"properties\": {\n        \"dtype\": \"string\",\n        \"num_unique_values\": 4,\n        \"samples\": [\n          \"\\uc2e0\\ucc28 \\uc18d\\ub3c4\\uac10 \\ub108\\ubb34 \\uc548\\uc88b\\uc544\",\n          \"\\uc2e0\\ucc28 \\uc5c9\\ud130\\ub9ac\\ub85c \\uac1c\\ubc1c\\ud588\\ub124\\uc694\",\n          \"\\uc2e0\\ucc28 \\uc815\\ub9d0 \\uc88b\\uc544\\uc694\"\n        ],\n        \"semantic_type\": \"\",\n        \"description\": \"\"\n      }\n    },\n    {\n      \"column\": \"labels\",\n      \"properties\": {\n        \"dtype\": \"number\",\n        \"std\": 0,\n        \"min\": 0,\n        \"max\": 1,\n        \"num_unique_values\": 2,\n        \"samples\": [\n          0,\n          1\n        ],\n        \"semantic_type\": \"\",\n        \"description\": \"\"\n      }\n    }\n  ]\n}"
            }
          },
          "metadata": {},
          "execution_count": 2
        }
      ]
    },
    {
      "cell_type": "markdown",
      "source": [
        "### 디렉토리 형태로 데이터 입력"
      ],
      "metadata": {
        "id": "rkYWXW0HbuFO"
      }
    },
    {
      "cell_type": "code",
      "source": [
        "#2. 딕렉토리 단위로 분류분석 데이터 정리\n",
        "!mkdir -p train/pos\n",
        "!mkdir  train/neg\n",
        "!echo '신차 정말 좋아요' >train/pos/a_1.txt\n",
        "!echo '신차 디자인 연비 좋아요'>train/pos/a_2.txt\n",
        "!echo '신차 속도감 너무 안좋아'>train/neg/b_1.txt\n",
        "!echo '신차 엉터리로 개발했네요'>train/neg/b_2.txt\n",
        "!mkdir -p test/pos\n",
        "!mkdir  test/neg\n",
        "!echo '속도감 별로예요' >test/neg/b_1.txt\n",
        "!echo '연비가 좋아요'>test/pos/a_1.txt"
      ],
      "metadata": {
        "id": "ZjCMKfEOtZgs"
      },
      "execution_count": null,
      "outputs": []
    },
    {
      "cell_type": "code",
      "source": [
        "#3. Bachdataset으로 업로드\n",
        "import tensorflow as tf\n",
        "batch_size = 2\n",
        "seed = 123\n",
        "\n",
        "train_ds = tf.keras.preprocessing.text_dataset_from_directory(\n",
        "    'train',\n",
        "    labels='inferred',\n",
        "    batch_size=batch_size,\n",
        "    validation_split=0.25,\n",
        "    subset='training',\n",
        "    seed=seed)\n",
        "val_ds = tf.keras.preprocessing.text_dataset_from_directory(\n",
        "    'train',\n",
        "    batch_size=batch_size,\n",
        "    validation_split=0.25,\n",
        "    subset='validation',\n",
        "    seed=seed)"
      ],
      "metadata": {
        "colab": {
          "base_uri": "https://localhost:8080/"
        },
        "id": "MUz_iE33wKT9",
        "outputId": "7363f119-12b5-447f-c721-499e38d2e748"
      },
      "execution_count": null,
      "outputs": [
        {
          "output_type": "stream",
          "name": "stdout",
          "text": [
            "Found 4 files belonging to 2 classes.\n",
            "Using 3 files for training.\n",
            "Found 4 files belonging to 2 classes.\n",
            "Using 1 files for validation.\n"
          ]
        }
      ]
    },
    {
      "cell_type": "code",
      "source": [
        "#4. tensor bytes data 출력해보기\n",
        "for raw in train_ds:\n",
        "  print(raw)\n",
        "  s=raw[0].numpy()\n",
        "  print(b''.join(s).decode('utf-8'))"
      ],
      "metadata": {
        "colab": {
          "base_uri": "https://localhost:8080/"
        },
        "id": "td54fnv8wq9U",
        "outputId": "22d56de3-8761-4b2c-caad-2f505425024e"
      },
      "execution_count": null,
      "outputs": [
        {
          "output_type": "stream",
          "name": "stdout",
          "text": [
            "(<tf.Tensor: shape=(2,), dtype=string, numpy=\n",
            "array([b'\\xec\\x8b\\xa0\\xec\\xb0\\xa8 \\xec\\x86\\x8d\\xeb\\x8f\\x84\\xea\\xb0\\x90 \\xeb\\x84\\x88\\xeb\\xac\\xb4 \\xec\\x95\\x88\\xec\\xa2\\x8b\\xec\\x95\\x84\\n',\n",
            "       b'\\xec\\x8b\\xa0\\xec\\xb0\\xa8 \\xec\\x97\\x89\\xed\\x84\\xb0\\xeb\\xa6\\xac\\xeb\\xa1\\x9c \\xea\\xb0\\x9c\\xeb\\xb0\\x9c\\xed\\x96\\x88\\xeb\\x84\\xa4\\xec\\x9a\\x94\\n'],\n",
            "      dtype=object)>, <tf.Tensor: shape=(2,), dtype=int32, numpy=array([0, 0], dtype=int32)>)\n",
            "신차 속도감 너무 안좋아\n",
            "신차 엉터리로 개발했네요\n",
            "\n",
            "(<tf.Tensor: shape=(1,), dtype=string, numpy=\n",
            "array([b'\\xec\\x8b\\xa0\\xec\\xb0\\xa8 \\xeb\\x94\\x94\\xec\\x9e\\x90\\xec\\x9d\\xb8 \\xec\\x97\\xb0\\xeb\\xb9\\x84 \\xec\\xa2\\x8b\\xec\\x95\\x84\\xec\\x9a\\x94\\n'],\n",
            "      dtype=object)>, <tf.Tensor: shape=(1,), dtype=int32, numpy=array([1], dtype=int32)>)\n",
            "신차 디자인 연비 좋아요\n",
            "\n"
          ]
        }
      ]
    },
    {
      "cell_type": "code",
      "source": [
        "# 시험용 데이터 업로드\n",
        "test_ds = tf.keras.preprocessing.text_dataset_from_directory(\n",
        "    'test',\n",
        "    batch_size=batch_size)"
      ],
      "metadata": {
        "colab": {
          "base_uri": "https://localhost:8080/"
        },
        "id": "uTCmgQZJpPyN",
        "outputId": "e48d4fab-8634-4ee4-aa14-b3c860b6490c"
      },
      "execution_count": null,
      "outputs": [
        {
          "output_type": "stream",
          "name": "stdout",
          "text": [
            "Found 2 files belonging to 2 classes.\n"
          ]
        }
      ]
    },
    {
      "cell_type": "code",
      "source": [
        "print(\"Label 0 corresponds to\", train_ds.class_names[0])\n",
        "print(\"Label 1 corresponds to\", train_ds.class_names[1])"
      ],
      "metadata": {
        "colab": {
          "base_uri": "https://localhost:8080/"
        },
        "id": "Vte-gt_Cz6W9",
        "outputId": "1db02045-46c7-4df3-8097-0624d4a7e1ed"
      },
      "execution_count": null,
      "outputs": [
        {
          "output_type": "stream",
          "name": "stdout",
          "text": [
            "Label 0 corresponds to neg\n",
            "Label 1 corresponds to pos\n"
          ]
        }
      ]
    },
    {
      "cell_type": "markdown",
      "metadata": {
        "id": "ICXPevlk46Rg"
      },
      "source": [
        "## 데이터 탐색"
      ]
    },
    {
      "cell_type": "code",
      "metadata": {
        "colab": {
          "base_uri": "https://localhost:8080/",
          "height": 430
        },
        "id": "_e20N0tj6Omc",
        "outputId": "a6319e12-73cb-40da-9d9e-c86dc7ebc19f"
      },
      "source": [
        "#5. 2개의 이변량 정규분포로부터 데이터 생성\n",
        "import numpy as np\n",
        "import matplotlib.pyplot as plt\n",
        "\n",
        "mean1 = [0, 0]\n",
        "cov1 = [[1, -0.7], [-0.7, 1]]\n",
        "x1, y1 = np.random.multivariate_normal(mean1, cov1, 5000).T\n",
        "mean2 = [2.5, 2.5]\n",
        "cov2 = [[1, 0.7], [0.7, 1]]\n",
        "x2, y2 = np.random.multivariate_normal(mean2, cov2, 5000).T\n",
        "\n",
        "plt.plot(x1, y1, '.')\n",
        "plt.plot(x2, y2, '+' )\n",
        "plt.axis('equal')\n",
        "plt.show()\n"
      ],
      "execution_count": null,
      "outputs": [
        {
          "output_type": "display_data",
          "data": {
            "text/plain": [
              "<Figure size 640x480 with 1 Axes>"
            ],
            "image/png": "[encoded data removed]"
          },
          "metadata": {}
        }
      ]
    },
    {
      "cell_type": "code",
      "metadata": {
        "colab": {
          "base_uri": "https://localhost:8080/",
          "height": 423
        },
        "id": "UV6AzB61_0_r",
        "outputId": "58a055b5-c005-4952-ba15-7e63944483bc"
      },
      "source": [
        "# 6. 두개의 class로 구분되는 데이터프레임으로 정리\n",
        "import pandas as pd\n",
        "df1 = pd.DataFrame({'x':x1, 'y':y1, 'class':0})\n",
        "df2 = pd.DataFrame({'x':x2, 'y':y2, 'class':1})\n",
        "df = pd.concat([df1, df2], axis=0, ignore_index=True)\n",
        "df"
      ],
      "execution_count": null,
      "outputs": [
        {
          "output_type": "execute_result",
          "data": {
            "text/plain": [
              "             x         y  class\n",
              "0    -0.210294  0.090600      0\n",
              "1     0.241695  0.678747      0\n",
              "2    -2.464370  1.998694      0\n",
              "3    -0.456345 -0.244077      0\n",
              "4    -1.103514  0.670118      0\n",
              "...        ...       ...    ...\n",
              "9995  4.045767  3.349394      1\n",
              "9996  2.136385  2.837349      1\n",
              "9997  1.161094  0.926522      1\n",
              "9998  2.454566  2.295098      1\n",
              "9999  1.461809  1.089237      1\n",
              "\n",
              "[10000 rows x 3 columns]"
            ],
            "text/html": [
              "\n",
              "  <div id=\"df-6e5ecfbc-25d5-42b2-9509-e1ffb1680e43\" class=\"colab-df-container\">\n",
              "    <div>\n",
              "<style scoped>\n",
              "    .dataframe tbody tr th:only-of-type {\n",
              "        vertical-align: middle;\n",
              "    }\n",
              "\n",
              "    .dataframe tbody tr th {\n",
              "        vertical-align: top;\n",
              "    }\n",
              "\n",
              "    .dataframe thead th {\n",
              "        text-align: right;\n",
              "    }\n",
              "</style>\n",
              "<table border=\"1\" class=\"dataframe\">\n",
              "  <thead>\n",
              "    <tr style=\"text-align: right;\">\n",
              "      <th></th>\n",
              "      <th>x</th>\n",
              "      <th>y</th>\n",
              "      <th>class</th>\n",
              "    </tr>\n",
              "  </thead>\n",
              "  <tbody>\n",
              "    <tr>\n",
              "      <th>0</th>\n",
              "      <td>-0.210294</td>\n",
              "      <td>0.090600</td>\n",
              "      <td>0</td>\n",
              "    </tr>\n",
              "    <tr>\n",
              "      <th>1</th>\n",
              "      <td>0.241695</td>\n",
              "      <td>0.678747</td>\n",
              "      <td>0</td>\n",
              "    </tr>\n",
              "    <tr>\n",
              "      <th>2</th>\n",
              "      <td>-2.464370</td>\n",
              "      <td>1.998694</td>\n",
              "      <td>0</td>\n",
              "    </tr>\n",
              "    <tr>\n",
              "      <th>3</th>\n",
              "      <td>-0.456345</td>\n",
              "      <td>-0.244077</td>\n",
              "      <td>0</td>\n",
              "    </tr>\n",
              "    <tr>\n",
              "      <th>4</th>\n",
              "      <td>-1.103514</td>\n",
              "      <td>0.670118</td>\n",
              "      <td>0</td>\n",
              "    </tr>\n",
              "    <tr>\n",
              "      <th>...</th>\n",
              "      <td>...</td>\n",
              "      <td>...</td>\n",
              "      <td>...</td>\n",
              "    </tr>\n",
              "    <tr>\n",
              "      <th>9995</th>\n",
              "      <td>4.045767</td>\n",
              "      <td>3.349394</td>\n",
              "      <td>1</td>\n",
              "    </tr>\n",
              "    <tr>\n",
              "      <th>9996</th>\n",
              "      <td>2.136385</td>\n",
              "      <td>2.837349</td>\n",
              "      <td>1</td>\n",
              "    </tr>\n",
              "    <tr>\n",
              "      <th>9997</th>\n",
              "      <td>1.161094</td>\n",
              "      <td>0.926522</td>\n",
              "      <td>1</td>\n",
              "    </tr>\n",
              "    <tr>\n",
              "      <th>9998</th>\n",
              "      <td>2.454566</td>\n",
              "      <td>2.295098</td>\n",
              "      <td>1</td>\n",
              "    </tr>\n",
              "    <tr>\n",
              "      <th>9999</th>\n",
              "      <td>1.461809</td>\n",
              "      <td>1.089237</td>\n",
              "      <td>1</td>\n",
              "    </tr>\n",
              "  </tbody>\n",
              "</table>\n",
              "<p>10000 rows × 3 columns</p>\n",
              "</div>\n",
              "    <div class=\"colab-df-buttons\">\n",
              "\n",
              "  <div class=\"colab-df-container\">\n",
              "    <button class=\"colab-df-convert\" onclick=\"convertToInteractive('df-6e5ecfbc-25d5-42b2-9509-e1ffb1680e43')\"\n",
              "            title=\"Convert this dataframe to an interactive table.\"\n",
              "            style=\"display:none;\">\n",
              "\n",
              "  <svg xmlns=\"http://www.w3.org/2000/svg\" height=\"24px\" viewBox=\"0 -960 960 960\">\n",
              "    <path d=\"M120-120v-720h720v720H120Zm60-500h600v-160H180v160Zm220 220h160v-160H400v160Zm0 220h160v-160H400v160ZM180-400h160v-160H180v160Zm440 0h160v-160H620v160ZM180-180h160v-160H180v160Zm440 0h160v-160H620v160Z\"/>\n",
              "  </svg>\n",
              "    </button>\n",
              "\n",
              "  <style>\n",
              "    .colab-df-container {\n",
              "      display:flex;\n",
              "      gap: 12px;\n",
              "    }\n",
              "\n",
              "    .colab-df-convert {\n",
              "      background-color: #E8F0FE;\n",
              "      border: none;\n",
              "      border-radius: 50%;\n",
              "      cursor: pointer;\n",
              "      display: none;\n",
              "      fill: #1967D2;\n",
              "      height: 32px;\n",
              "      padding: 0 0 0 0;\n",
              "      width: 32px;\n",
              "    }\n",
              "\n",
              "    .colab-df-convert:hover {\n",
              "      background-color: #E2EBFA;\n",
              "      box-shadow: 0px 1px 2px rgba(60, 64, 67, 0.3), 0px 1px 3px 1px rgba(60, 64, 67, 0.15);\n",
              "      fill: #174EA6;\n",
              "    }\n",
              "\n",
              "    .colab-df-buttons div {\n",
              "      margin-bottom: 4px;\n",
              "    }\n",
              "\n",
              "    [theme=dark] .colab-df-convert {\n",
              "      background-color: #3B4455;\n",
              "      fill: #D2E3FC;\n",
              "    }\n",
              "\n",
              "    [theme=dark] .colab-df-convert:hover {\n",
              "      background-color: #434B5C;\n",
              "      box-shadow: 0px 1px 3px 1px rgba(0, 0, 0, 0.15);\n",
              "      filter: drop-shadow(0px 1px 2px rgba(0, 0, 0, 0.3));\n",
              "      fill: #FFFFFF;\n",
              "    }\n",
              "  </style>\n",
              "\n",
              "    <script>\n",
              "      const buttonEl =\n",
              "        document.querySelector('#df-6e5ecfbc-25d5-42b2-9509-e1ffb1680e43 button.colab-df-convert');\n",
              "      buttonEl.style.display =\n",
              "        google.colab.kernel.accessAllowed ? 'block' : 'none';\n",
              "\n",
              "      async function convertToInteractive(key) {\n",
              "        const element = document.querySelector('#df-6e5ecfbc-25d5-42b2-9509-e1ffb1680e43');\n",
              "        const dataTable =\n",
              "          await google.colab.kernel.invokeFunction('convertToInteractive',\n",
              "                                                    [key], {});\n",
              "        if (!dataTable) return;\n",
              "\n",
              "        const docLinkHtml = 'Like what you see? Visit the ' +\n",
              "          '<a target=\"_blank\" href=https://colab.research.google.com/notebooks/data_table.ipynb>data table notebook</a>'\n",
              "          + ' to learn more about interactive tables.';\n",
              "        element.innerHTML = '';\n",
              "        dataTable['output_type'] = 'display_data';\n",
              "        await google.colab.output.renderOutput(dataTable, element);\n",
              "        const docLink = document.createElement('div');\n",
              "        docLink.innerHTML = docLinkHtml;\n",
              "        element.appendChild(docLink);\n",
              "      }\n",
              "    </script>\n",
              "  </div>\n",
              "\n",
              "\n",
              "<div id=\"df-028f096c-dff8-4e38-b88c-481beb484707\">\n",
              "  <button class=\"colab-df-quickchart\" onclick=\"quickchart('df-028f096c-dff8-4e38-b88c-481beb484707')\"\n",
              "            title=\"Suggest charts\"\n",
              "            style=\"display:none;\">\n",
              "\n",
              "<svg xmlns=\"http://www.w3.org/2000/svg\" height=\"24px\"viewBox=\"0 0 24 24\"\n",
              "     width=\"24px\">\n",
              "    <g>\n",
              "        <path d=\"M19 3H5c-1.1 0-2 .9-2 2v14c0 1.1.9 2 2 2h14c1.1 0 2-.9 2-2V5c0-1.1-.9-2-2-2zM9 17H7v-7h2v7zm4 0h-2V7h2v10zm4 0h-2v-4h2v4z\"/>\n",
              "    </g>\n",
              "</svg>\n",
              "  </button>\n",
              "\n",
              "<style>\n",
              "  .colab-df-quickchart {\n",
              "      --bg-color: #E8F0FE;\n",
              "      --fill-color: #1967D2;\n",
              "      --hover-bg-color: #E2EBFA;\n",
              "      --hover-fill-color: #174EA6;\n",
              "      --disabled-fill-color: #AAA;\n",
              "      --disabled-bg-color: #DDD;\n",
              "  }\n",
              "\n",
              "  [theme=dark] .colab-df-quickchart {\n",
              "      --bg-color: #3B4455;\n",
              "      --fill-color: #D2E3FC;\n",
              "      --hover-bg-color: #434B5C;\n",
              "      --hover-fill-color: #FFFFFF;\n",
              "      --disabled-bg-color: #3B4455;\n",
              "      --disabled-fill-color: #666;\n",
              "  }\n",
              "\n",
              "  .colab-df-quickchart {\n",
              "    background-color: var(--bg-color);\n",
              "    border: none;\n",
              "    border-radius: 50%;\n",
              "    cursor: pointer;\n",
              "    display: none;\n",
              "    fill: var(--fill-color);\n",
              "    height: 32px;\n",
              "    padding: 0;\n",
              "    width: 32px;\n",
              "  }\n",
              "\n",
              "  .colab-df-quickchart:hover {\n",
              "    background-color: var(--hover-bg-color);\n",
              "    box-shadow: 0 1px 2px rgba(60, 64, 67, 0.3), 0 1px 3px 1px rgba(60, 64, 67, 0.15);\n",
              "    fill: var(--button-hover-fill-color);\n",
              "  }\n",
              "\n",
              "  .colab-df-quickchart-complete:disabled,\n",
              "  .colab-df-quickchart-complete:disabled:hover {\n",
              "    background-color: var(--disabled-bg-color);\n",
              "    fill: var(--disabled-fill-color);\n",
              "    box-shadow: none;\n",
              "  }\n",
              "\n",
              "  .colab-df-spinner {\n",
              "    border: 2px solid var(--fill-color);\n",
              "    border-color: transparent;\n",
              "    border-bottom-color: var(--fill-color);\n",
              "    animation:\n",
              "      spin 1s steps(1) infinite;\n",
              "  }\n",
              "\n",
              "  @keyframes spin {\n",
              "    0% {\n",
              "      border-color: transparent;\n",
              "      border-bottom-color: var(--fill-color);\n",
              "      border-left-color: var(--fill-color);\n",
              "    }\n",
              "    20% {\n",
              "      border-color: transparent;\n",
              "      border-left-color: var(--fill-color);\n",
              "      border-top-color: var(--fill-color);\n",
              "    }\n",
              "    30% {\n",
              "      border-color: transparent;\n",
              "      border-left-color: var(--fill-color);\n",
              "      border-top-color: var(--fill-color);\n",
              "      border-right-color: var(--fill-color);\n",
              "    }\n",
              "    40% {\n",
              "      border-color: transparent;\n",
              "      border-right-color: var(--fill-color);\n",
              "      border-top-color: var(--fill-color);\n",
              "    }\n",
              "    60% {\n",
              "      border-color: transparent;\n",
              "      border-right-color: var(--fill-color);\n",
              "    }\n",
              "    80% {\n",
              "      border-color: transparent;\n",
              "      border-right-color: var(--fill-color);\n",
              "      border-bottom-color: var(--fill-color);\n",
              "    }\n",
              "    90% {\n",
              "      border-color: transparent;\n",
              "      border-bottom-color: var(--fill-color);\n",
              "    }\n",
              "  }\n",
              "</style>\n",
              "\n",
              "  <script>\n",
              "    async function quickchart(key) {\n",
              "      const quickchartButtonEl =\n",
              "        document.querySelector('#' + key + ' button');\n",
              "      quickchartButtonEl.disabled = true;  // To prevent multiple clicks.\n",
              "      quickchartButtonEl.classList.add('colab-df-spinner');\n",
              "      try {\n",
              "        const charts = await google.colab.kernel.invokeFunction(\n",
              "            'suggestCharts', [key], {});\n",
              "      } catch (error) {\n",
              "        console.error('Error during call to suggestCharts:', error);\n",
              "      }\n",
              "      quickchartButtonEl.classList.remove('colab-df-spinner');\n",
              "      quickchartButtonEl.classList.add('colab-df-quickchart-complete');\n",
              "    }\n",
              "    (() => {\n",
              "      let quickchartButtonEl =\n",
              "        document.querySelector('#df-028f096c-dff8-4e38-b88c-481beb484707 button');\n",
              "      quickchartButtonEl.style.display =\n",
              "        google.colab.kernel.accessAllowed ? 'block' : 'none';\n",
              "    })();\n",
              "  </script>\n",
              "</div>\n",
              "    </div>\n",
              "  </div>\n"
            ],
            "application/vnd.google.colaboratory.intrinsic+json": {
              "type": "dataframe",
              "variable_name": "df",
              "summary": "{\n  \"name\": \"df\",\n  \"rows\": 10000,\n  \"fields\": [\n    {\n      \"column\": \"x\",\n      \"properties\": {\n        \"dtype\": \"number\",\n        \"std\": 1.6068979346419627,\n        \"min\": -3.806811084371389,\n        \"max\": 5.9959309153368725,\n        \"num_unique_values\": 10000,\n        \"samples\": [\n          2.259082265348771,\n          -1.051067641729452,\n          -2.4042227309495514\n        ],\n        \"semantic_type\": \"\",\n        \"description\": \"\"\n      }\n    },\n    {\n      \"column\": \"y\",\n      \"properties\": {\n        \"dtype\": \"number\",\n        \"std\": 1.60068182726865,\n        \"min\": -3.715820604779665,\n        \"max\": 6.542847224974449,\n        \"num_unique_values\": 10000,\n        \"samples\": [\n          2.665416997551555,\n          0.6723397923447851,\n          2.8280191553537573\n        ],\n        \"semantic_type\": \"\",\n        \"description\": \"\"\n      }\n    },\n    {\n      \"column\": \"class\",\n      \"properties\": {\n        \"dtype\": \"number\",\n        \"std\": 0,\n        \"min\": 0,\n        \"max\": 1,\n        \"num_unique_values\": 2,\n        \"samples\": [\n          1,\n          0\n        ],\n        \"semantic_type\": \"\",\n        \"description\": \"\"\n      }\n    }\n  ]\n}"
            }
          },
          "metadata": {},
          "execution_count": 9
        }
      ]
    },
    {
      "cell_type": "code",
      "metadata": {
        "colab": {
          "base_uri": "https://localhost:8080/",
          "height": 517
        },
        "id": "jkobWc7QCz8s",
        "outputId": "e4bf62af-95c6-4a3e-d7cf-b9660f06acc4"
      },
      "source": [
        "#7 class별 빈도수\n",
        "print(df['class'].value_counts())\n",
        "df['class'].hist()"
      ],
      "execution_count": null,
      "outputs": [
        {
          "output_type": "stream",
          "name": "stdout",
          "text": [
            "class\n",
            "0    5000\n",
            "1    5000\n",
            "Name: count, dtype: int64\n"
          ]
        },
        {
          "output_type": "execute_result",
          "data": {
            "text/plain": [
              "<Axes: >"
            ]
          },
          "metadata": {},
          "execution_count": 10
        },
        {
          "output_type": "display_data",
          "data": {
            "text/plain": [
              "<Figure size 640x480 with 1 Axes>"
            ],
            "image/png": "[encoded data removed]"
          },
          "metadata": {}
        }
      ]
    },
    {
      "cell_type": "markdown",
      "source": [
        "## 데이터 분리"
      ],
      "metadata": {
        "id": "b5Rf2qGtLOH3"
      }
    },
    {
      "cell_type": "code",
      "metadata": {
        "colab": {
          "base_uri": "https://localhost:8080/"
        },
        "id": "OHUPg-ByDRgW",
        "outputId": "f96fa481-8382-4448-c436-edde7f07a5d7"
      },
      "source": [
        "# 8. 데이터를  20%씩 test 데이터와 val 데이터로 분리\n",
        "from sklearn.model_selection import train_test_split\n",
        "train_inputs, test_inputs, train_labels, test_labels = train_test_split(df[['x', 'y']], df['class'], test_size=0.2, random_state=1234)\n",
        "train_inputs, valid_inputs, train_labels, valid_labels = train_test_split(train_inputs, train_labels, test_size=0.2, random_state=1234)\n",
        "train_inputs.shape, train_labels.shape"
      ],
      "execution_count": null,
      "outputs": [
        {
          "output_type": "execute_result",
          "data": {
            "text/plain": [
              "((6400, 2), (6400,))"
            ]
          },
          "metadata": {},
          "execution_count": 11
        }
      ]
    },
    {
      "cell_type": "code",
      "metadata": {
        "colab": {
          "base_uri": "https://localhost:8080/"
        },
        "id": "RKwchPUhlKGH",
        "outputId": "d64fa65b-2e56-4f96-ed3c-f29e8f097c0e"
      },
      "source": [
        "print(valid_inputs.shape, valid_labels.shape)\n",
        "print(test_inputs.shape, test_labels.shape)"
      ],
      "execution_count": null,
      "outputs": [
        {
          "output_type": "stream",
          "name": "stdout",
          "text": [
            "(1600, 2) (1600,)\n",
            "(2000, 2) (2000,)\n"
          ]
        }
      ]
    },
    {
      "cell_type": "markdown",
      "metadata": {
        "id": "RIBunb2a49uA"
      },
      "source": [
        "# 13.3 모델링 및 학습 단계"
      ]
    },
    {
      "cell_type": "code",
      "metadata": {
        "id": "h3IKyzTCDNGo"
      },
      "source": [
        "# 9-1. 모델링 : 다층의 layer를 쌓아서 모델링, 훈련에 사용할 옵티마이저(optimizer)와 손실 함수를 선택\n",
        "import tensorflow as tf\n",
        "model = tf.keras.models.Sequential()\n",
        "model.add(tf.keras.layers.Dense(16, activation='relu', input_shape=(train_inputs.shape[-1],)))\n",
        "model.add(tf.keras.layers.Dense(16, activation='relu'))\n",
        "model.add(tf.keras.layers.Dropout(0.5))\n",
        "model.add(tf.keras.layers.Dense(1, activation='sigmoid'))"
      ],
      "execution_count": null,
      "outputs": []
    },
    {
      "cell_type": "code",
      "source": [
        "#9-2 모델 컴파일과 저장설정, 요약\n",
        "model.compile(optimizer='adam',\n",
        "              loss='binary_crossentropy',\n",
        "              metrics=['accuracy'])\n",
        "save_weights = tf.keras.callbacks.ModelCheckpoint(\"model.hdf5\",\n",
        "                                                  monitor='val_accuracy',\n",
        "                                                  verbose=1,\n",
        "                                                  save_best_only=True,\n",
        "                                                  mode=\"max\",\n",
        "                                                  save_freq=\"epoch\",\n",
        "                                                  save_weights_only=True)\n",
        "model.summary()"
      ],
      "metadata": {
        "colab": {
          "base_uri": "https://localhost:8080/"
        },
        "id": "p3ks1Dod4liD",
        "outputId": "a2e8fe7d-976f-4aa3-a8e0-8d4360ef4270"
      },
      "execution_count": null,
      "outputs": [
        {
          "output_type": "stream",
          "name": "stdout",
          "text": [
            "Model: \"sequential\"\n",
            "_________________________________________________________________\n",
            " Layer (type)                Output Shape              Param #   \n",
            "=================================================================\n",
            " dense (Dense)               (None, 16)                48        \n",
            "                                                                 \n",
            " dense_1 (Dense)             (None, 16)                272       \n",
            "                                                                 \n",
            " dropout (Dropout)           (None, 16)                0         \n",
            "                                                                 \n",
            " dense_2 (Dense)             (None, 1)                 17        \n",
            "                                                                 \n",
            "=================================================================\n",
            "Total params: 337 (1.32 KB)\n",
            "Trainable params: 337 (1.32 KB)\n",
            "Non-trainable params: 0 (0.00 Byte)\n",
            "_________________________________________________________________\n"
          ]
        }
      ]
    },
    {
      "cell_type": "code",
      "metadata": {
        "colab": {
          "base_uri": "https://localhost:8080/",
          "height": 533
        },
        "id": "043rHBd59Ozm",
        "outputId": "7a9247bd-bf7c-49d2-872f-a062a10c823a"
      },
      "source": [
        "# 모델링 요약\n",
        "tf.keras.utils.plot_model(model, 'model.png', show_shapes=True)"
      ],
      "execution_count": null,
      "outputs": [
        {
          "output_type": "execute_result",
          "data": {
            "image/png": "[encoded data removed]",
            "text/plain": [
              "<IPython.core.display.Image object>"
            ]
          },
          "metadata": {},
          "execution_count": 15
        }
      ]
    },
    {
      "cell_type": "code",
      "metadata": {
        "id": "D2HaP_KM-uDA",
        "colab": {
          "base_uri": "https://localhost:8080/"
        },
        "outputId": "30a289b1-141c-41bf-b111-56bcc2cfb441"
      },
      "source": [
        "#10. 모델 저장 설정과 학습\n",
        "history = model.fit(train_inputs, train_labels,\n",
        "                    validation_data=(valid_inputs, valid_labels) ,\n",
        "                    epochs=40,\n",
        "                    batch_size=256,\n",
        "                    callbacks=[save_weights])"
      ],
      "execution_count": null,
      "outputs": [
        {
          "output_type": "stream",
          "name": "stdout",
          "text": [
            "Epoch 1/40\n",
            " 1/25 [>.............................] - ETA: 21s - loss: 0.6979 - accuracy: 0.5273\n",
            "Epoch 1: val_accuracy improved from -inf to 0.61313, saving model to model.hdf5\n",
            "25/25 [==============================] - 1s 12ms/step - loss: 0.6540 - accuracy: 0.5928 - val_loss: 0.5908 - val_accuracy: 0.6131\n",
            "Epoch 2/40\n",
            " 1/25 [>.............................] - ETA: 0s - loss: 0.6020 - accuracy: 0.6562\n",
            "Epoch 2: val_accuracy improved from 0.61313 to 0.76250, saving model to model.hdf5\n",
            "25/25 [==============================] - 0s 4ms/step - loss: 0.5762 - accuracy: 0.7034 - val_loss: 0.5115 - val_accuracy: 0.7625\n",
            "Epoch 3/40\n",
            "21/25 [========================>.....] - ETA: 0s - loss: 0.5110 - accuracy: 0.7961\n",
            "Epoch 3: val_accuracy improved from 0.76250 to 0.85625, saving model to model.hdf5\n",
            "25/25 [==============================] - 0s 5ms/step - loss: 0.5018 - accuracy: 0.8078 - val_loss: 0.4336 - val_accuracy: 0.8562\n",
            "Epoch 4/40\n",
            " 1/25 [>.............................] - ETA: 0s - loss: 0.4474 - accuracy: 0.8672\n",
            "Epoch 4: val_accuracy improved from 0.85625 to 0.92125, saving model to model.hdf5\n",
            "25/25 [==============================] - 0s 4ms/step - loss: 0.4290 - accuracy: 0.8820 - val_loss: 0.3617 - val_accuracy: 0.9212\n",
            "Epoch 5/40\n",
            " 1/25 [>.............................] - ETA: 0s - loss: 0.3877 - accuracy: 0.9023\n",
            "Epoch 5: val_accuracy improved from 0.92125 to 0.95562, saving model to model.hdf5\n",
            "25/25 [==============================] - 0s 4ms/step - loss: 0.3577 - accuracy: 0.9233 - val_loss: 0.2953 - val_accuracy: 0.9556\n",
            "Epoch 6/40\n",
            " 1/25 [>.............................] - ETA: 0s - loss: 0.3251 - accuracy: 0.9219\n",
            "Epoch 6: val_accuracy improved from 0.95562 to 0.96688, saving model to model.hdf5\n",
            "25/25 [==============================] - 0s 4ms/step - loss: 0.3000 - accuracy: 0.9445 - val_loss: 0.2358 - val_accuracy: 0.9669\n",
            "Epoch 7/40\n",
            " 1/25 [>.............................] - ETA: 0s - loss: 0.2879 - accuracy: 0.9375\n",
            "Epoch 7: val_accuracy improved from 0.96688 to 0.97375, saving model to model.hdf5\n",
            "25/25 [==============================] - 0s 4ms/step - loss: 0.2479 - accuracy: 0.9528 - val_loss: 0.1869 - val_accuracy: 0.9737\n",
            "Epoch 8/40\n",
            " 1/25 [>.............................] - ETA: 0s - loss: 0.2176 - accuracy: 0.9766\n",
            "Epoch 8: val_accuracy improved from 0.97375 to 0.97625, saving model to model.hdf5\n",
            "25/25 [==============================] - 0s 4ms/step - loss: 0.2070 - accuracy: 0.9588 - val_loss: 0.1484 - val_accuracy: 0.9762\n",
            "Epoch 9/40\n",
            " 1/25 [>.............................] - ETA: 0s - loss: 0.1537 - accuracy: 0.9688\n",
            "Epoch 9: val_accuracy did not improve from 0.97625\n",
            "25/25 [==============================] - 0s 3ms/step - loss: 0.1763 - accuracy: 0.9581 - val_loss: 0.1204 - val_accuracy: 0.9750\n",
            "Epoch 10/40\n",
            " 1/25 [>.............................] - ETA: 0s - loss: 0.1844 - accuracy: 0.9453\n",
            "Epoch 10: val_accuracy improved from 0.97625 to 0.97812, saving model to model.hdf5\n",
            "25/25 [==============================] - 0s 4ms/step - loss: 0.1532 - accuracy: 0.9591 - val_loss: 0.1020 - val_accuracy: 0.9781\n",
            "Epoch 11/40\n",
            " 1/25 [>.............................] - ETA: 0s - loss: 0.1058 - accuracy: 0.9766\n",
            "Epoch 11: val_accuracy did not improve from 0.97812\n",
            "25/25 [==============================] - 0s 4ms/step - loss: 0.1314 - accuracy: 0.9663 - val_loss: 0.0904 - val_accuracy: 0.9775\n",
            "Epoch 12/40\n",
            "24/25 [===========================>..] - ETA: 0s - loss: 0.1230 - accuracy: 0.9614\n",
            "Epoch 12: val_accuracy did not improve from 0.97812\n",
            "25/25 [==============================] - 0s 4ms/step - loss: 0.1224 - accuracy: 0.9609 - val_loss: 0.0832 - val_accuracy: 0.9775\n",
            "Epoch 13/40\n",
            "23/25 [==========================>...] - ETA: 0s - loss: 0.1165 - accuracy: 0.9633\n",
            "Epoch 13: val_accuracy did not improve from 0.97812\n",
            "25/25 [==============================] - 0s 4ms/step - loss: 0.1163 - accuracy: 0.9633 - val_loss: 0.0789 - val_accuracy: 0.9775\n",
            "Epoch 14/40\n",
            " 1/25 [>.............................] - ETA: 0s - loss: 0.1161 - accuracy: 0.9531\n",
            "Epoch 14: val_accuracy did not improve from 0.97812\n",
            "25/25 [==============================] - 0s 4ms/step - loss: 0.1115 - accuracy: 0.9636 - val_loss: 0.0763 - val_accuracy: 0.9781\n",
            "Epoch 15/40\n",
            " 1/25 [>.............................] - ETA: 0s - loss: 0.1102 - accuracy: 0.9688\n",
            "Epoch 15: val_accuracy did not improve from 0.97812\n",
            "25/25 [==============================] - 0s 4ms/step - loss: 0.1076 - accuracy: 0.9650 - val_loss: 0.0748 - val_accuracy: 0.9781\n",
            "Epoch 16/40\n",
            " 1/25 [>.............................] - ETA: 0s - loss: 0.0869 - accuracy: 0.9688\n",
            "Epoch 16: val_accuracy improved from 0.97812 to 0.97875, saving model to model.hdf5\n",
            "25/25 [==============================] - 0s 4ms/step - loss: 0.1011 - accuracy: 0.9677 - val_loss: 0.0737 - val_accuracy: 0.9787\n",
            "Epoch 17/40\n",
            " 1/25 [>.............................] - ETA: 0s - loss: 0.1114 - accuracy: 0.9609\n",
            "Epoch 17: val_accuracy did not improve from 0.97875\n",
            "25/25 [==============================] - 0s 4ms/step - loss: 0.1045 - accuracy: 0.9648 - val_loss: 0.0732 - val_accuracy: 0.9787\n",
            "Epoch 18/40\n",
            " 1/25 [>.............................] - ETA: 0s - loss: 0.0922 - accuracy: 0.9805\n",
            "Epoch 18: val_accuracy did not improve from 0.97875\n",
            "25/25 [==============================] - 0s 3ms/step - loss: 0.0989 - accuracy: 0.9686 - val_loss: 0.0726 - val_accuracy: 0.9781\n",
            "Epoch 19/40\n",
            " 1/25 [>.............................] - ETA: 0s - loss: 0.1240 - accuracy: 0.9648\n",
            "Epoch 19: val_accuracy did not improve from 0.97875\n",
            "25/25 [==============================] - 0s 4ms/step - loss: 0.0981 - accuracy: 0.9720 - val_loss: 0.0723 - val_accuracy: 0.9787\n",
            "Epoch 20/40\n",
            " 1/25 [>.............................] - ETA: 0s - loss: 0.0846 - accuracy: 0.9805\n",
            "Epoch 20: val_accuracy did not improve from 0.97875\n",
            "25/25 [==============================] - 0s 3ms/step - loss: 0.1023 - accuracy: 0.9689 - val_loss: 0.0722 - val_accuracy: 0.9781\n",
            "Epoch 21/40\n",
            " 1/25 [>.............................] - ETA: 0s - loss: 0.1252 - accuracy: 0.9375\n",
            "Epoch 21: val_accuracy improved from 0.97875 to 0.97938, saving model to model.hdf5\n",
            "25/25 [==============================] - 0s 4ms/step - loss: 0.0996 - accuracy: 0.9670 - val_loss: 0.0724 - val_accuracy: 0.9794\n",
            "Epoch 22/40\n",
            " 1/25 [>.............................] - ETA: 0s - loss: 0.0929 - accuracy: 0.9727\n",
            "Epoch 22: val_accuracy did not improve from 0.97938\n",
            "25/25 [==============================] - 0s 3ms/step - loss: 0.0957 - accuracy: 0.9711 - val_loss: 0.0722 - val_accuracy: 0.9787\n",
            "Epoch 23/40\n",
            "22/25 [=========================>....] - ETA: 0s - loss: 0.0949 - accuracy: 0.9696\n",
            "Epoch 23: val_accuracy did not improve from 0.97938\n",
            "25/25 [==============================] - 0s 4ms/step - loss: 0.0928 - accuracy: 0.9703 - val_loss: 0.0722 - val_accuracy: 0.9787\n",
            "Epoch 24/40\n",
            " 1/25 [>.............................] - ETA: 0s - loss: 0.0450 - accuracy: 0.9883\n",
            "Epoch 24: val_accuracy did not improve from 0.97938\n",
            "25/25 [==============================] - 0s 4ms/step - loss: 0.0924 - accuracy: 0.9711 - val_loss: 0.0723 - val_accuracy: 0.9794\n",
            "Epoch 25/40\n",
            " 1/25 [>.............................] - ETA: 0s - loss: 0.1364 - accuracy: 0.9414\n",
            "Epoch 25: val_accuracy did not improve from 0.97938\n",
            "25/25 [==============================] - 0s 3ms/step - loss: 0.0985 - accuracy: 0.9705 - val_loss: 0.0722 - val_accuracy: 0.9794\n",
            "Epoch 26/40\n",
            " 1/25 [>.............................] - ETA: 0s - loss: 0.0554 - accuracy: 0.9805\n",
            "Epoch 26: val_accuracy did not improve from 0.97938\n",
            "25/25 [==============================] - 0s 3ms/step - loss: 0.0935 - accuracy: 0.9730 - val_loss: 0.0723 - val_accuracy: 0.9794\n",
            "Epoch 27/40\n",
            " 1/25 [>.............................] - ETA: 0s - loss: 0.0681 - accuracy: 0.9766\n",
            "Epoch 27: val_accuracy did not improve from 0.97938\n",
            "25/25 [==============================] - 0s 4ms/step - loss: 0.0952 - accuracy: 0.9720 - val_loss: 0.0722 - val_accuracy: 0.9794\n",
            "Epoch 28/40\n",
            " 1/25 [>.............................] - ETA: 0s - loss: 0.1368 - accuracy: 0.9531\n",
            "Epoch 28: val_accuracy did not improve from 0.97938\n",
            "25/25 [==============================] - 0s 3ms/step - loss: 0.0907 - accuracy: 0.9733 - val_loss: 0.0723 - val_accuracy: 0.9794\n",
            "Epoch 29/40\n",
            " 1/25 [>.............................] - ETA: 0s - loss: 0.0798 - accuracy: 0.9727\n",
            "Epoch 29: val_accuracy did not improve from 0.97938\n",
            "25/25 [==============================] - 0s 4ms/step - loss: 0.0894 - accuracy: 0.9703 - val_loss: 0.0724 - val_accuracy: 0.9794\n",
            "Epoch 30/40\n",
            " 1/25 [>.............................] - ETA: 0s - loss: 0.1496 - accuracy: 0.9492\n",
            "Epoch 30: val_accuracy did not improve from 0.97938\n",
            "25/25 [==============================] - 0s 4ms/step - loss: 0.0886 - accuracy: 0.9734 - val_loss: 0.0723 - val_accuracy: 0.9794\n",
            "Epoch 31/40\n",
            " 1/25 [>.............................] - ETA: 0s - loss: 0.0725 - accuracy: 0.9844\n",
            "Epoch 31: val_accuracy did not improve from 0.97938\n",
            "25/25 [==============================] - 0s 3ms/step - loss: 0.0952 - accuracy: 0.9723 - val_loss: 0.0725 - val_accuracy: 0.9794\n",
            "Epoch 32/40\n",
            " 1/25 [>.............................] - ETA: 0s - loss: 0.1018 - accuracy: 0.9727\n",
            "Epoch 32: val_accuracy did not improve from 0.97938\n",
            "25/25 [==============================] - 0s 3ms/step - loss: 0.0935 - accuracy: 0.9734 - val_loss: 0.0722 - val_accuracy: 0.9794\n",
            "Epoch 33/40\n",
            " 1/25 [>.............................] - ETA: 0s - loss: 0.1132 - accuracy: 0.9609\n",
            "Epoch 33: val_accuracy did not improve from 0.97938\n",
            "25/25 [==============================] - 0s 4ms/step - loss: 0.0937 - accuracy: 0.9745 - val_loss: 0.0721 - val_accuracy: 0.9787\n",
            "Epoch 34/40\n",
            " 1/25 [>.............................] - ETA: 0s - loss: 0.1865 - accuracy: 0.9453\n",
            "Epoch 34: val_accuracy did not improve from 0.97938\n",
            "25/25 [==============================] - 0s 3ms/step - loss: 0.0895 - accuracy: 0.9725 - val_loss: 0.0718 - val_accuracy: 0.9794\n",
            "Epoch 35/40\n",
            " 1/25 [>.............................] - ETA: 0s - loss: 0.0722 - accuracy: 0.9766\n",
            "Epoch 35: val_accuracy did not improve from 0.97938\n",
            "25/25 [==============================] - 0s 4ms/step - loss: 0.0902 - accuracy: 0.9736 - val_loss: 0.0719 - val_accuracy: 0.9794\n",
            "Epoch 36/40\n",
            " 1/25 [>.............................] - ETA: 0s - loss: 0.1070 - accuracy: 0.9844\n",
            "Epoch 36: val_accuracy did not improve from 0.97938\n",
            "25/25 [==============================] - 0s 4ms/step - loss: 0.0909 - accuracy: 0.9728 - val_loss: 0.0718 - val_accuracy: 0.9794\n",
            "Epoch 37/40\n",
            " 1/25 [>.............................] - ETA: 0s - loss: 0.1488 - accuracy: 0.9648\n",
            "Epoch 37: val_accuracy did not improve from 0.97938\n",
            "25/25 [==============================] - 0s 4ms/step - loss: 0.0948 - accuracy: 0.9692 - val_loss: 0.0716 - val_accuracy: 0.9787\n",
            "Epoch 38/40\n",
            " 1/25 [>.............................] - ETA: 0s - loss: 0.1127 - accuracy: 0.9688\n",
            "Epoch 38: val_accuracy did not improve from 0.97938\n",
            "25/25 [==============================] - 0s 3ms/step - loss: 0.0900 - accuracy: 0.9748 - val_loss: 0.0715 - val_accuracy: 0.9794\n",
            "Epoch 39/40\n",
            " 1/25 [>.............................] - ETA: 0s - loss: 0.0995 - accuracy: 0.9531\n",
            "Epoch 39: val_accuracy did not improve from 0.97938\n",
            "25/25 [==============================] - 0s 4ms/step - loss: 0.0910 - accuracy: 0.9728 - val_loss: 0.0715 - val_accuracy: 0.9787\n",
            "Epoch 40/40\n",
            " 1/25 [>.............................] - ETA: 0s - loss: 0.0611 - accuracy: 0.9844\n",
            "Epoch 40: val_accuracy did not improve from 0.97938\n",
            "25/25 [==============================] - 0s 3ms/step - loss: 0.0881 - accuracy: 0.9734 - val_loss: 0.0716 - val_accuracy: 0.9787\n"
          ]
        }
      ]
    },
    {
      "cell_type": "code",
      "metadata": {
        "colab": {
          "base_uri": "https://localhost:8080/",
          "height": 368
        },
        "id": "oyXTpvCEG1Fl",
        "outputId": "9a904257-726a-4d71-afb4-a48897091511"
      },
      "source": [
        "# 12. 학습결과 손실함수와 정확도 확인\n",
        "plt.figure(figsize=(12, 4))\n",
        "plt.subplot(1, 2, 1)\n",
        "plt.plot(history.history['loss'], 'b-', label='loss')\n",
        "plt.plot(history.history['val_loss'], 'r-', label='val_loss')\n",
        "plt.legend()\n",
        "plt.subplot(1, 2, 2)\n",
        "plt.plot(history.history['accuracy'], 'b-', label='accuracy')\n",
        "plt.plot(history.history['val_accuracy'], 'r-', label='val_accuracy')\n",
        "plt.legend()\n",
        "plt.show()"
      ],
      "execution_count": null,
      "outputs": [
        {
          "output_type": "display_data",
          "data": {
            "text/plain": [
              "<Figure size 1200x400 with 2 Axes>"
            ],
            "image/png": "[encoded data removed]"
          },
          "metadata": {}
        }
      ]
    },
    {
      "cell_type": "markdown",
      "metadata": {
        "id": "SbAfGWIY5Ipv"
      },
      "source": [
        "# 13.4 평가 및 배포 단계"
      ]
    },
    {
      "cell_type": "code",
      "metadata": {
        "colab": {
          "base_uri": "https://localhost:8080/"
        },
        "id": "5PuKXr82ypZp",
        "outputId": "98e089fe-9d55-4a8a-baa5-5cac4caa5102"
      },
      "source": [
        "#11. 훈련된 이미지 분류기는 이 데이터셋에서 거의 97.5%의 정확도를 달성\n",
        "loss, accuracy = model.evaluate(test_inputs,  test_labels, verbose=2)\n",
        "print(\"Loss: \", loss)\n",
        "print(\"Accuracy: \", accuracy)"
      ],
      "execution_count": null,
      "outputs": [
        {
          "output_type": "stream",
          "name": "stdout",
          "text": [
            "63/63 - 0s - loss: 0.0508 - accuracy: 0.9830 - 126ms/epoch - 2ms/step\n",
            "Loss:  0.050766877830028534\n",
            "Accuracy:  0.9829999804496765\n"
          ]
        }
      ]
    },
    {
      "cell_type": "code",
      "metadata": {
        "id": "Q9_E4GzCrZPN",
        "colab": {
          "base_uri": "https://localhost:8080/",
          "height": 331
        },
        "outputId": "ff3fe5ba-e01e-4ca8-a9a5-a5a269ff8a25"
      },
      "source": [
        "#13. confusion matrix\n",
        "import seaborn as sns\n",
        "from sklearn.metrics import confusion_matrix\n",
        "pred_class=model.predict(test_inputs).round()\n",
        "\n",
        "c_mat = confusion_matrix(y_pred = pred_class, y_true = test_labels)\n",
        "plt.figure(figsize=(4, 3))\n",
        "sns.heatmap(c_mat, annot=True, annot_kws={'size':15}, cmap='OrRd', fmt='.10g')\n",
        "plt.title('Confusion Matrix')\n",
        "plt.show()"
      ],
      "execution_count": null,
      "outputs": [
        {
          "output_type": "stream",
          "name": "stdout",
          "text": [
            "63/63 [==============================] - 0s 2ms/step\n"
          ]
        },
        {
          "output_type": "display_data",
          "data": {
            "text/plain": [
              "<Figure size 400x300 with 2 Axes>"
            ],
            "image/png": "[encoded data removed]"
          },
          "metadata": {}
        }
      ]
    },
    {
      "cell_type": "code",
      "metadata": {
        "id": "_eAErXrTateq",
        "colab": {
          "base_uri": "https://localhost:8080/",
          "height": 80
        },
        "outputId": "6533736b-bce7-4d13-cc50-1892bc61caf8"
      },
      "source": [
        "#14. 정확도 측정 지표\n",
        "pd.options.display.float_format = '{:.2f}'.format\n",
        "tp = c_mat[1, 1]\n",
        "tn = c_mat[0, 0]\n",
        "fp = c_mat[0, 1]\n",
        "fn = c_mat[1, 0]\n",
        "accuracy = (tp + tn) / max((tp + tn + fp + fn), 1)\n",
        "precision = (tp) / max((tp + fp), 1)\n",
        "recall = (tp) / max((tp + fn), 1)\n",
        "f1 = 2 * (precision * recall) / max((precision + recall), 0.1)\n",
        "\n",
        "table = pd.DataFrame([accuracy, precision, recall,f1]).T\n",
        "table.columns=['Accuracy(정확도)', 'Precision(정밀도)', 'Recall(재현율)', 'F1']\n",
        "table"
      ],
      "execution_count": null,
      "outputs": [
        {
          "output_type": "execute_result",
          "data": {
            "text/plain": [
              "   Accuracy(정확도)  Precision(정밀도)  Recall(재현율)   F1\n",
              "0           0.98            0.99         0.97 0.98"
            ],
            "text/html": [
              "\n",
              "  <div id=\"df-9657f59d-146f-42e5-9529-d43cbd7ef65d\" class=\"colab-df-container\">\n",
              "    <div>\n",
              "<style scoped>\n",
              "    .dataframe tbody tr th:only-of-type {\n",
              "        vertical-align: middle;\n",
              "    }\n",
              "\n",
              "    .dataframe tbody tr th {\n",
              "        vertical-align: top;\n",
              "    }\n",
              "\n",
              "    .dataframe thead th {\n",
              "        text-align: right;\n",
              "    }\n",
              "</style>\n",
              "<table border=\"1\" class=\"dataframe\">\n",
              "  <thead>\n",
              "    <tr style=\"text-align: right;\">\n",
              "      <th></th>\n",
              "      <th>Accuracy(정확도)</th>\n",
              "      <th>Precision(정밀도)</th>\n",
              "      <th>Recall(재현율)</th>\n",
              "      <th>F1</th>\n",
              "    </tr>\n",
              "  </thead>\n",
              "  <tbody>\n",
              "    <tr>\n",
              "      <th>0</th>\n",
              "      <td>0.98</td>\n",
              "      <td>0.99</td>\n",
              "      <td>0.97</td>\n",
              "      <td>0.98</td>\n",
              "    </tr>\n",
              "  </tbody>\n",
              "</table>\n",
              "</div>\n",
              "    <div class=\"colab-df-buttons\">\n",
              "\n",
              "  <div class=\"colab-df-container\">\n",
              "    <button class=\"colab-df-convert\" onclick=\"convertToInteractive('df-9657f59d-146f-42e5-9529-d43cbd7ef65d')\"\n",
              "            title=\"Convert this dataframe to an interactive table.\"\n",
              "            style=\"display:none;\">\n",
              "\n",
              "  <svg xmlns=\"http://www.w3.org/2000/svg\" height=\"24px\" viewBox=\"0 -960 960 960\">\n",
              "    <path d=\"M120-120v-720h720v720H120Zm60-500h600v-160H180v160Zm220 220h160v-160H400v160Zm0 220h160v-160H400v160ZM180-400h160v-160H180v160Zm440 0h160v-160H620v160ZM180-180h160v-160H180v160Zm440 0h160v-160H620v160Z\"/>\n",
              "  </svg>\n",
              "    </button>\n",
              "\n",
              "  <style>\n",
              "    .colab-df-container {\n",
              "      display:flex;\n",
              "      gap: 12px;\n",
              "    }\n",
              "\n",
              "    .colab-df-convert {\n",
              "      background-color: #E8F0FE;\n",
              "      border: none;\n",
              "      border-radius: 50%;\n",
              "      cursor: pointer;\n",
              "      display: none;\n",
              "      fill: #1967D2;\n",
              "      height: 32px;\n",
              "      padding: 0 0 0 0;\n",
              "      width: 32px;\n",
              "    }\n",
              "\n",
              "    .colab-df-convert:hover {\n",
              "      background-color: #E2EBFA;\n",
              "      box-shadow: 0px 1px 2px rgba(60, 64, 67, 0.3), 0px 1px 3px 1px rgba(60, 64, 67, 0.15);\n",
              "      fill: #174EA6;\n",
              "    }\n",
              "\n",
              "    .colab-df-buttons div {\n",
              "      margin-bottom: 4px;\n",
              "    }\n",
              "\n",
              "    [theme=dark] .colab-df-convert {\n",
              "      background-color: #3B4455;\n",
              "      fill: #D2E3FC;\n",
              "    }\n",
              "\n",
              "    [theme=dark] .colab-df-convert:hover {\n",
              "      background-color: #434B5C;\n",
              "      box-shadow: 0px 1px 3px 1px rgba(0, 0, 0, 0.15);\n",
              "      filter: drop-shadow(0px 1px 2px rgba(0, 0, 0, 0.3));\n",
              "      fill: #FFFFFF;\n",
              "    }\n",
              "  </style>\n",
              "\n",
              "    <script>\n",
              "      const buttonEl =\n",
              "        document.querySelector('#df-9657f59d-146f-42e5-9529-d43cbd7ef65d button.colab-df-convert');\n",
              "      buttonEl.style.display =\n",
              "        google.colab.kernel.accessAllowed ? 'block' : 'none';\n",
              "\n",
              "      async function convertToInteractive(key) {\n",
              "        const element = document.querySelector('#df-9657f59d-146f-42e5-9529-d43cbd7ef65d');\n",
              "        const dataTable =\n",
              "          await google.colab.kernel.invokeFunction('convertToInteractive',\n",
              "                                                    [key], {});\n",
              "        if (!dataTable) return;\n",
              "\n",
              "        const docLinkHtml = 'Like what you see? Visit the ' +\n",
              "          '<a target=\"_blank\" href=https://colab.research.google.com/notebooks/data_table.ipynb>data table notebook</a>'\n",
              "          + ' to learn more about interactive tables.';\n",
              "        element.innerHTML = '';\n",
              "        dataTable['output_type'] = 'display_data';\n",
              "        await google.colab.output.renderOutput(dataTable, element);\n",
              "        const docLink = document.createElement('div');\n",
              "        docLink.innerHTML = docLinkHtml;\n",
              "        element.appendChild(docLink);\n",
              "      }\n",
              "    </script>\n",
              "  </div>\n",
              "\n",
              "    </div>\n",
              "  </div>\n"
            ],
            "application/vnd.google.colaboratory.intrinsic+json": {
              "type": "dataframe",
              "variable_name": "table",
              "summary": "{\n  \"name\": \"table\",\n  \"rows\": 1,\n  \"fields\": [\n    {\n      \"column\": \"Accuracy(\\uc815\\ud655\\ub3c4)\",\n      \"properties\": {\n        \"dtype\": \"number\",\n        \"std\": null,\n        \"min\": 0.983,\n        \"max\": 0.983,\n        \"num_unique_values\": 1,\n        \"samples\": [\n          0.983\n        ],\n        \"semantic_type\": \"\",\n        \"description\": \"\"\n      }\n    },\n    {\n      \"column\": \"Precision(\\uc815\\ubc00\\ub3c4)\",\n      \"properties\": {\n        \"dtype\": \"number\",\n        \"std\": null,\n        \"min\": 0.9908163265306122,\n        \"max\": 0.9908163265306122,\n        \"num_unique_values\": 1,\n        \"samples\": [\n          0.9908163265306122\n        ],\n        \"semantic_type\": \"\",\n        \"description\": \"\"\n      }\n    },\n    {\n      \"column\": \"Recall(\\uc7ac\\ud604\\uc728)\",\n      \"properties\": {\n        \"dtype\": \"number\",\n        \"std\": null,\n        \"min\": 0.9748995983935743,\n        \"max\": 0.9748995983935743,\n        \"num_unique_values\": 1,\n        \"samples\": [\n          0.9748995983935743\n        ],\n        \"semantic_type\": \"\",\n        \"description\": \"\"\n      }\n    },\n    {\n      \"column\": \"F1\",\n      \"properties\": {\n        \"dtype\": \"number\",\n        \"std\": null,\n        \"min\": 0.9827935222672065,\n        \"max\": 0.9827935222672065,\n        \"num_unique_values\": 1,\n        \"samples\": [\n          0.9827935222672065\n        ],\n        \"semantic_type\": \"\",\n        \"description\": \"\"\n      }\n    }\n  ]\n}"
            }
          },
          "metadata": {},
          "execution_count": 20
        }
      ]
    },
    {
      "cell_type": "code",
      "metadata": {
        "colab": {
          "base_uri": "https://localhost:8080/"
        },
        "id": "no4neEOe_33-",
        "outputId": "8a809128-b746-43be-f930-ac0123faeb4b"
      },
      "source": [
        "#15. 배포 : 새로운 데이터에 대하여 어느 집단에 속할 것인지를 추론하기 위해 저장된 모델 호출 및 처리\n",
        "model.load_weights('model.hdf5')\n",
        "\n",
        "new_xy = [[-1, 0.3], [1.1, 1.2], [5,5]]\n",
        "pred = model.predict( new_xy)\n",
        "print(np.round(pred).astype(int))"
      ],
      "execution_count": null,
      "outputs": [
        {
          "output_type": "stream",
          "name": "stdout",
          "text": [
            "1/1 [==============================] - 0s 110ms/step\n",
            "[[0]\n",
            " [1]\n",
            " [1]]\n"
          ]
        }
      ]
    },
    {
      "cell_type": "code",
      "source": [],
      "metadata": {
        "id": "gDNAyOFp78R2"
      },
      "execution_count": null,
      "outputs": []
    }
  ]
}